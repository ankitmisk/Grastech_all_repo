{
 "cells": [
  {
   "cell_type": "markdown",
   "id": "ad645597-e698-417a-bbc3-d719b83f412d",
   "metadata": {},
   "source": [
    "# File Handling"
   ]
  },
  {
   "cell_type": "markdown",
   "id": "aea01c46-3037-41fe-ab4a-d0044da047c6",
   "metadata": {},
   "source": [
    "# code :- file handle:- \n",
    "# Types of files:-\n",
    "- 1.Textual File\n",
    "      - Word, form, Notepad open, No software required, .py, .java, .c, c++, html, .css, .js, .php\n",
    "  - .csv, .tsv, .xml, .json\n",
    "    - user can read and write file easily in notepad\n",
    "\n",
    "- 2.Binary File:\n",
    "    -     photo:- .png, .jpg\n",
    "    -   audio:- .mp3, \n",
    "    -   video:- .mp4, .mkv, .3gp, .4k\n",
    "    -   pdf:- .pdf\n",
    "    -   word:- .doc\n",
    "    -   excel:- .xlsx\n",
    "    -   software:- .exe, .dll, .apk, .zip, .tar\n",
    "    -   read or write:- software"
   ]
  },
  {
   "cell_type": "code",
   "execution_count": 9,
   "id": "0f8928cc-7a97-450d-abbb-b401df599a07",
   "metadata": {},
   "outputs": [],
   "source": [
    "# Operations:- read, write, copy, delete, new data write, old data delete"
   ]
  },
  {
   "cell_type": "code",
   "execution_count": 64,
   "id": "9cba5569-b677-4f83-934b-56b2fee5c7fa",
   "metadata": {},
   "outputs": [
    {
     "name": "stdout",
     "output_type": "stream",
     "text": [
      "done\n"
     ]
    }
   ],
   "source": [
    "file = open(\"C:\\\\Users\\\\salma\\\\OneDrive\\\\Desktop\\\\emp_ka_details.csv\")\n",
    "print('done')"
   ]
  },
  {
   "cell_type": "code",
   "execution_count": 66,
   "id": "d940aa0e-9038-4df2-a7ea-49206c3be208",
   "metadata": {},
   "outputs": [
    {
     "name": "stdout",
     "output_type": "stream",
     "text": [
      "emp_id,emp_name,salary,address\n",
      "101,Akshay,34567,Noida\n",
      "102,Vippin,44567,\"Gr Noida\"\n",
      "103,Jatin,36567,\"Noida Extn\"\n",
      "104,Karan,24567,Delhi\n",
      "105,Gaurav,84567,Gr Noida\n",
      "\n"
     ]
    }
   ],
   "source": [
    "print(file.read())"
   ]
  },
  {
   "cell_type": "code",
   "execution_count": 92,
   "id": "844fd264-cea9-40ba-a885-229be627393c",
   "metadata": {},
   "outputs": [
    {
     "name": "stdout",
     "output_type": "stream",
     "text": [
      "done\n"
     ]
    }
   ],
   "source": [
    "file = open(\"C:\\\\Users\\\\salma\\\\OneDrive\\\\Desktop\\\\emp_ka_details.csv\")\n",
    "print('done')"
   ]
  },
  {
   "cell_type": "code",
   "execution_count": 94,
   "id": "e0988b41-4385-48f8-8aaa-677d96d2fdbf",
   "metadata": {},
   "outputs": [],
   "source": [
    "#readline"
   ]
  },
  {
   "cell_type": "code",
   "execution_count": 96,
   "id": "1bc6c703-a42e-4604-850d-3d999a8e301c",
   "metadata": {},
   "outputs": [
    {
     "name": "stdout",
     "output_type": "stream",
     "text": [
      "emp_id,emp_name,salary,address\n",
      "\n"
     ]
    }
   ],
   "source": [
    "print(file.readline())"
   ]
  },
  {
   "cell_type": "code",
   "execution_count": 112,
   "id": "f2ec0fa4-5814-4b75-bec6-99d708f6b88a",
   "metadata": {},
   "outputs": [
    {
     "name": "stdout",
     "output_type": "stream",
     "text": [
      "done\n"
     ]
    }
   ],
   "source": [
    "# readlines\n",
    "file = open(\"C:\\\\Users\\\\salma\\\\OneDrive\\\\Desktop\\\\emp_ka_details.csv\")\n",
    "print('done')"
   ]
  },
  {
   "cell_type": "code",
   "execution_count": 114,
   "id": "414e917b-e82b-4336-be64-a12f65b6bdb0",
   "metadata": {},
   "outputs": [
    {
     "name": "stdout",
     "output_type": "stream",
     "text": [
      "emp_id,emp_name,salary,address\n",
      "\n",
      "101,Akshay,34567,Noida\n",
      "\n",
      "102,Vippin,44567,\"Gr Noida\"\n",
      "\n",
      "103,Jatin,36567,\"Noida Extn\"\n",
      "\n",
      "104,Karan,24567,Delhi\n",
      "\n",
      "105,Gaurav,84567,Gr Noida\n",
      "\n"
     ]
    }
   ],
   "source": [
    "for line in file.readlines():\n",
    "    print(line)"
   ]
  },
  {
   "cell_type": "code",
   "execution_count": 118,
   "id": "5b71b365-6f45-447c-b3ef-c4d2f4f65235",
   "metadata": {},
   "outputs": [],
   "source": [
    "# open:- by-default:-= mode:- read"
   ]
  },
  {
   "cell_type": "code",
   "execution_count": 120,
   "id": "8970cd52-fcfc-42d3-ad78-39c0af9a1c01",
   "metadata": {},
   "outputs": [
    {
     "name": "stdout",
     "output_type": "stream",
     "text": [
      "done\n"
     ]
    }
   ],
   "source": [
    "# seek\n",
    "file = open(\"C:\\\\Users\\\\salma\\\\OneDrive\\\\Desktop\\\\emp_ka_details.csv\")\n",
    "print('done')"
   ]
  },
  {
   "cell_type": "code",
   "execution_count": 142,
   "id": "3fb2e28b-0f36-4e3c-ab73-86b6a2784f32",
   "metadata": {},
   "outputs": [
    {
     "name": "stdout",
     "output_type": "stream",
     "text": [
      "emp_id,emp_name,salary,address\n",
      "101,Akshay,34567,Noida\n",
      "102,Vippin,44567,\"Gr Noida\"\n",
      "103,Jatin,36567,\"Noida Extn\"\n",
      "104,Karan,24567,Delhi\n",
      "105,Gaurav,84567,Gr Noida\n",
      "\n"
     ]
    }
   ],
   "source": [
    "file.seek(0)\n",
    "print(file.read())"
   ]
  },
  {
   "cell_type": "code",
   "execution_count": 148,
   "id": "77d2d0a2-36dc-4c67-9bb5-d5a077e7c10f",
   "metadata": {},
   "outputs": [
    {
     "name": "stdout",
     "output_type": "stream",
     "text": [
      "Done\n"
     ]
    }
   ],
   "source": [
    "file.close()\n",
    "print('Done')"
   ]
  },
  {
   "cell_type": "code",
   "execution_count": 154,
   "id": "7919f170-a7af-4d55-a430-c9cef567345e",
   "metadata": {},
   "outputs": [
    {
     "ename": "ValueError",
     "evalue": "I/O operation on closed file.",
     "output_type": "error",
     "traceback": [
      "\u001b[1;31m---------------------------------------------------------------------------\u001b[0m",
      "\u001b[1;31mValueError\u001b[0m                                Traceback (most recent call last)",
      "Cell \u001b[1;32mIn[154], line 1\u001b[0m\n\u001b[1;32m----> 1\u001b[0m file\u001b[38;5;241m.\u001b[39mread()\n",
      "\u001b[1;31mValueError\u001b[0m: I/O operation on closed file."
     ]
    }
   ],
   "source": [
    "file.read()"
   ]
  },
  {
   "cell_type": "code",
   "execution_count": 144,
   "id": "8ebfb945-5268-44f2-9f80-0dcc63db9a25",
   "metadata": {},
   "outputs": [],
   "source": [
    "# write:\n",
    "# new file\n",
    "# existing file append"
   ]
  },
  {
   "cell_type": "code",
   "execution_count": 146,
   "id": "5cb6c615-491f-444b-93b6-13a7d23a4108",
   "metadata": {},
   "outputs": [],
   "source": [
    "# new file"
   ]
  },
  {
   "cell_type": "code",
   "execution_count": 156,
   "id": "660da8dd-301c-420e-a21b-68526a956607",
   "metadata": {},
   "outputs": [
    {
     "name": "stdout",
     "output_type": "stream",
     "text": [
      "done\n"
     ]
    }
   ],
   "source": [
    "f = open('hritik.py',mode = 'w')\n",
    "print('done')"
   ]
  },
  {
   "cell_type": "code",
   "execution_count": 158,
   "id": "172a5831-5729-4beb-895c-7e760fc965e5",
   "metadata": {},
   "outputs": [
    {
     "name": "stdout",
     "output_type": "stream",
     "text": [
      "done\n"
     ]
    }
   ],
   "source": [
    "f.write('We are in Grastech\\n')\n",
    "f.write('We are learning Python\\n')\n",
    "f.write('This is File Handling Topic\\n')\n",
    "f.write('File has been created successfully!!\\n')\n",
    "print('done')"
   ]
  },
  {
   "cell_type": "code",
   "execution_count": 160,
   "id": "fb0cdd14-d022-4694-abf9-22a72510e929",
   "metadata": {},
   "outputs": [
    {
     "name": "stdout",
     "output_type": "stream",
     "text": [
      "Done\n"
     ]
    }
   ],
   "source": [
    "f.close()\n",
    "print('Done')"
   ]
  },
  {
   "cell_type": "code",
   "execution_count": 162,
   "id": "f55e6967-20ee-4709-9a54-b04b03c8983a",
   "metadata": {},
   "outputs": [
    {
     "name": "stdout",
     "output_type": "stream",
     "text": [
      "a = 2\n",
      "b = 3\n",
      "c = a + b\n",
      "print(\"code executed successfully!!\",c)\n"
     ]
    }
   ],
   "source": [
    "code = '''a = 2\n",
    "b = 3\n",
    "c = a + b\n",
    "print(\"code executed successfully!!\",c)'''\n",
    "\n",
    "print(code)"
   ]
  },
  {
   "cell_type": "code",
   "execution_count": 164,
   "id": "2c2c27de-dc02-4263-948d-aba4266f9c7e",
   "metadata": {},
   "outputs": [
    {
     "name": "stdout",
     "output_type": "stream",
     "text": [
      "done\n"
     ]
    }
   ],
   "source": [
    "f = open('hritik.py',mode = 'w')\n",
    "print('done')"
   ]
  },
  {
   "cell_type": "code",
   "execution_count": 166,
   "id": "e6bc16e4-d8e3-4371-a2e5-7776bd0dc7d7",
   "metadata": {},
   "outputs": [
    {
     "name": "stdout",
     "output_type": "stream",
     "text": [
      "Done\n"
     ]
    }
   ],
   "source": [
    "f.write(code)\n",
    "f.close()\n",
    "print('Done')"
   ]
  },
  {
   "cell_type": "code",
   "execution_count": 168,
   "id": "c1aa64fa-c2f4-4290-9b9e-b4d440975fea",
   "metadata": {},
   "outputs": [
    {
     "name": "stdout",
     "output_type": "stream",
     "text": [
      "code executed successfully!! 5\n"
     ]
    }
   ],
   "source": [
    "execfile('hritik.py')"
   ]
  },
  {
   "cell_type": "code",
   "execution_count": 190,
   "id": "beb3a0d7-9f1f-4376-8b7f-49d660c5307d",
   "metadata": {},
   "outputs": [
    {
     "name": "stdout",
     "output_type": "stream",
     "text": [
      "File Created Successfully!!\n"
     ]
    }
   ],
   "source": [
    "data = '''Name,Age,Course,Address,Fees\n",
    "Aman,23,DA,Noida,-2500\n",
    "Ajay,22,DS,Gr Noida,-8900\n",
    "Karan,21,BA,Delhi,-9000\n",
    "Akshay,18,Web Development,Pune,-1000'''\n",
    "# data = 'Hello'\n",
    "f = open(r\"C:\\Users\\salma\\OneDrive\\Desktop\\Practice_data\\students.csv\",mode = 'w')\n",
    "f.write(data)\n",
    "f.close()\n",
    "print('File Created Successfully!!')"
   ]
  },
  {
   "cell_type": "code",
   "execution_count": 176,
   "id": "27a2a657-8f42-48e9-b08d-f0c0eca4168d",
   "metadata": {},
   "outputs": [],
   "source": [
    "# old file new data kaise append kare??"
   ]
  },
  {
   "cell_type": "code",
   "execution_count": 178,
   "id": "17f1691c-51e2-435d-a861-a16eb1505626",
   "metadata": {},
   "outputs": [],
   "source": [
    "# mode:- 'append', 'a'"
   ]
  },
  {
   "cell_type": "code",
   "execution_count": 194,
   "id": "c436ec5e-dc37-4d1a-9628-1bfea9773971",
   "metadata": {},
   "outputs": [
    {
     "name": "stdout",
     "output_type": "stream",
     "text": [
      "data inserted successfully!!\n"
     ]
    }
   ],
   "source": [
    "file = open(r\"C:\\Users\\salma\\OneDrive\\Desktop\\Practice_data\\students.csv\",mode = 'a')\n",
    "data = '''\\nAkki Bhai,50,AI,Pune,-10000'''\n",
    "\n",
    "file.write(data)\n",
    "file.close()\n",
    "print('data inserted successfully!!')"
   ]
  },
  {
   "cell_type": "code",
   "execution_count": null,
   "id": "e4d11708-cd2c-4216-9522-e693aacfa767",
   "metadata": {},
   "outputs": [],
   "source": []
  },
  {
   "cell_type": "code",
   "execution_count": 212,
   "id": "f584b041-53f6-4570-9a30-50ef7001d5e6",
   "metadata": {},
   "outputs": [
    {
     "name": "stdin",
     "output_type": "stream",
     "text": [
      "Enter number of columns you want!!:  5\n",
      "Enter col name 1:  Sno\n",
      "Enter col name 2:  Name\n",
      "Enter col name 3:  Age\n",
      "Enter col name 4:  Address\n",
      "Enter col name 5:  Course\n"
     ]
    }
   ],
   "source": [
    "cols = int(input('Enter number of columns you want!!: '))\n",
    "headers = ''\n",
    "\n",
    "for i in range(cols):\n",
    "    col = input(f'Enter col name {i+1}: ')\n",
    "    headers += col + ','\n",
    "headers = headers[:-1]\n",
    "all_cols = headers.split(',')"
   ]
  },
  {
   "cell_type": "code",
   "execution_count": 214,
   "id": "ddea2aaf-ba29-47d2-83f7-e0e430109dbf",
   "metadata": {},
   "outputs": [
    {
     "name": "stdout",
     "output_type": "stream",
     "text": [
      "Sno,Name,Age,Address,Course\n"
     ]
    }
   ],
   "source": [
    "print(headers)"
   ]
  },
  {
   "cell_type": "code",
   "execution_count": 224,
   "id": "316db5fa-b14e-4d16-9183-f54ccb38ae88",
   "metadata": {},
   "outputs": [
    {
     "name": "stdout",
     "output_type": "stream",
     "text": [
      "6,Amit,28,Noida,DA\n",
      "7,Hritik,24,Noida,DS\n",
      "8,Mohit,27,Delhi,AI\n",
      "\n"
     ]
    }
   ],
   "source": [
    "all_rows = ''\n",
    "records = 3\n",
    "for j in range(records):\n",
    "    for i in all_cols:\n",
    "        row = input(f'Enter your {i}: ')\n",
    "        all_rows+= row + ','\n",
    "    all_rows = all_rows[:-1]+'\\n'\n",
    "    print('Record Inserted Successfully!!')\n",
    "    display(clear=True)\n",
    "\n",
    "print(all_rows)"
   ]
  },
  {
   "cell_type": "code",
   "execution_count": 220,
   "id": "c5f9bb01-e748-4200-9dac-3e16efc14fe4",
   "metadata": {},
   "outputs": [
    {
     "name": "stdout",
     "output_type": "stream",
     "text": [
      "Sno,Name,Age,Address,Course\n",
      "1,Ajay,23,Noidfa,DA\n",
      "2,Komal,23,Delhi,BA\n",
      "3,Harry,21,Delhi,DS\n",
      "4,Mohan,34,gr Noida,Web Development\n",
      "5,Jatin,20,Noida,DA\n",
      "\n"
     ]
    }
   ],
   "source": [
    "final_data = headers + '\\n' + all_rows\n",
    "print(final_data)"
   ]
  },
  {
   "cell_type": "code",
   "execution_count": 226,
   "id": "d6fb071b-9897-43dd-a1b0-b5134f038d96",
   "metadata": {},
   "outputs": [
    {
     "name": "stdout",
     "output_type": "stream",
     "text": [
      "records added  Successfully!!\n"
     ]
    }
   ],
   "source": [
    "f = open(r\"C:\\Users\\salma\\OneDrive\\Desktop\\Practice_data\\students_database.csv\",mode = 'a')\n",
    "f.write(all_rows)\n",
    "f.close()\n",
    "print('records added  Successfully!!')"
   ]
  },
  {
   "cell_type": "code",
   "execution_count": 237,
   "id": "ae4a7875-f1f6-4b08-9629-0804c325a842",
   "metadata": {},
   "outputs": [],
   "source": [
    "# copy paste ka code"
   ]
  },
  {
   "cell_type": "code",
   "execution_count": 229,
   "id": "82b8012e-0b56-45cb-b637-09e36e00904d",
   "metadata": {},
   "outputs": [
    {
     "name": "stdout",
     "output_type": "stream",
     "text": [
      "Task completed Successfully!!\n"
     ]
    }
   ],
   "source": [
    "f1 = open(r\"C:\\Users\\salma\\OneDrive\\Desktop\\Bank_details.csv\")\n",
    "bank_ka_sara_data = f1.read()\n",
    "f1.close()\n",
    "\n",
    "f2 = open(r\"C:\\Users\\salma\\OneDrive\\Desktop\\Practice_data\\bank_ka_copy.csv\",mode = 'w')\n",
    "f2.write(bank_ka_sara_data)\n",
    "f2.close()\n",
    "print('Task completed Successfully!!')"
   ]
  },
  {
   "cell_type": "code",
   "execution_count": null,
   "id": "053c3e20-1cdf-462e-a1fa-2816cb1eef9f",
   "metadata": {},
   "outputs": [],
   "source": []
  },
  {
   "cell_type": "code",
   "execution_count": 233,
   "id": "a87e243b-83e0-4458-a939-e5286baad76e",
   "metadata": {},
   "outputs": [],
   "source": [
    "# context manager"
   ]
  },
  {
   "cell_type": "code",
   "execution_count": 235,
   "id": "b23e2d5c-4926-4a2c-b71c-1ba8945fb755",
   "metadata": {},
   "outputs": [
    {
     "name": "stdout",
     "output_type": "stream",
     "text": [
      "SNO,Transaction_Date_Time,Amount,debit_credit_remarks,Remarks\n",
      "1,\"2025-02-04 12:01:11\",2000,Debit,Fees\n",
      "2,\"2025-02-04 12:01:11\",100,Credit,\"Stock Dividend\"\n",
      "3,\"2025-02-04 12:01:11\",10000,Debit,Rent\n",
      "4,\"2025-02-04 12:01:11\",50000,Credit,Salary\n",
      "5,\"2025-02-04 12:03:03\",2500,Debit,Party\n",
      "6,\"2025-02-04 12:03:17\",1500,Debit,Petrol\n",
      "7,\"2025-02-04 12:03:23\",4500,Debit,Fees\n",
      "8,\"2025-02-04 12:03:30\",13000,Debit,Bill\n",
      "9,\"2025-02-04 12:03:38\",12500,Credit,Bonus\n",
      "\n"
     ]
    }
   ],
   "source": [
    "with open(r\"C:\\Users\\salma\\OneDrive\\Desktop\\Bank_details.csv\") as f:\n",
    "    print(f.read())"
   ]
  },
  {
   "cell_type": "code",
   "execution_count": 239,
   "id": "99ef99a2-4abb-423a-b841-4fd0b51af934",
   "metadata": {},
   "outputs": [
    {
     "name": "stdout",
     "output_type": "stream",
     "text": [
      "Done\n"
     ]
    }
   ],
   "source": [
    "with open(r\"C:\\Users\\salma\\OneDrive\\Desktop\\Bank_details.csv\") as f:\n",
    "    with open(r\"C:\\Users\\salma\\OneDrive\\Desktop\\Practice_data\\duplicate.csv\",mode = 'w') as nf:\n",
    "        nf.write(f.read())\n",
    "print('Done')"
   ]
  },
  {
   "cell_type": "code",
   "execution_count": 241,
   "id": "bea08f2e-e8c9-4b80-8102-dff21607bd8c",
   "metadata": {},
   "outputs": [],
   "source": [
    "with open(r\"C:\\Users\\salma\\Downloads\\shinchan.jpg\",mode = 'rb') as file:\n",
    "    data = file.read()"
   ]
  },
  {
   "cell_type": "code",
   "execution_count": 245,
   "id": "958ecb0e-9471-404a-8624-ff0f7b4154f0",
   "metadata": {},
   "outputs": [
    {
     "data": {
      "text/plain": [
       "bytes"
      ]
     },
     "execution_count": 245,
     "metadata": {},
     "output_type": "execute_result"
    }
   ],
   "source": [
    "type(data)"
   ]
  },
  {
   "cell_type": "code",
   "execution_count": 249,
   "id": "6ff59e96-e3c1-4b04-985c-2c4a36e1185c",
   "metadata": {},
   "outputs": [
    {
     "name": "stdout",
     "output_type": "stream",
     "text": [
      "Copy created\n"
     ]
    }
   ],
   "source": [
    "with open(r\"C:\\Users\\salma\\OneDrive\\Desktop\\Practice_data\\shinchan.jpg\",mode = 'wb') as f:\n",
    "    f.write(data)\n",
    "print('Copy created')"
   ]
  },
  {
   "cell_type": "code",
   "execution_count": 271,
   "id": "c654ebb3-3bd4-4f0e-ab65-64da0196e2b9",
   "metadata": {},
   "outputs": [
    {
     "name": "stdout",
     "output_type": "stream",
     "text": [
      "Done\n"
     ]
    }
   ],
   "source": [
    "url = '''https://bsmedia.business-standard.com/_media/bs/img/article/2025-02/22/full/1740224717-2631.jpg'''\n",
    "import requests\n",
    "data = requests.get(url).content\n",
    "with open(r\"C:\\Users\\salma\\OneDrive\\Desktop\\Practice_data\\india_vs_pak.jpg\",mode = 'wb') as f:\n",
    "    f.write(data)\n",
    "print('Done')"
   ]
  },
  {
   "cell_type": "code",
   "execution_count": null,
   "id": "78247026-6f6b-4780-9e8d-356becad7326",
   "metadata": {},
   "outputs": [],
   "source": []
  }
 ],
 "metadata": {
  "kernelspec": {
   "display_name": "Python [conda env:base] *",
   "language": "python",
   "name": "conda-base-py"
  },
  "language_info": {
   "codemirror_mode": {
    "name": "ipython",
    "version": 3
   },
   "file_extension": ".py",
   "mimetype": "text/x-python",
   "name": "python",
   "nbconvert_exporter": "python",
   "pygments_lexer": "ipython3",
   "version": "3.12.7"
  }
 },
 "nbformat": 4,
 "nbformat_minor": 5
}
