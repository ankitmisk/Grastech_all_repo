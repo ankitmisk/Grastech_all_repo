{
 "cells": [
  {
   "cell_type": "code",
   "execution_count": 3,
   "id": "1786f0e7-a382-43f8-808a-d85c22083449",
   "metadata": {},
   "outputs": [],
   "source": [
    "# palindrome\n",
    "# fibonacci series\n",
    "# armstrong\n",
    "# anagram\n",
    "# Pattern printing Func"
   ]
  },
  {
   "cell_type": "code",
   "execution_count": 5,
   "id": "25a2034f-6b14-4cc4-add2-2f4cdc106df9",
   "metadata": {},
   "outputs": [],
   "source": [
    "# Palindrome"
   ]
  },
  {
   "cell_type": "code",
   "execution_count": 9,
   "id": "a90485bc-642c-429b-9e4f-549169dc900e",
   "metadata": {},
   "outputs": [
    {
     "data": {
      "text/plain": [
       "'naman'"
      ]
     },
     "execution_count": 9,
     "metadata": {},
     "output_type": "execute_result"
    }
   ],
   "source": [
    "# Print vs Return\n",
    "\n",
    "a = 'naman'\n",
    "a[::-1]"
   ]
  },
  {
   "cell_type": "code",
   "execution_count": 23,
   "id": "aff72084-1157-4038-ae15-fb739998f196",
   "metadata": {},
   "outputs": [],
   "source": [
    "def check_palindrome(word):\n",
    "    word = word.lower()\n",
    "    if word == word[::-1]:\n",
    "        print(f'{word} is a palindrome Word')\n",
    "    else:\n",
    "        print(f'{word} is not a palindrome Word')"
   ]
  },
  {
   "cell_type": "code",
   "execution_count": 25,
   "id": "83f0d7b8-04ed-4c93-a63b-b12abb54e6de",
   "metadata": {},
   "outputs": [
    {
     "name": "stdout",
     "output_type": "stream",
     "text": [
      "mom is a palindrome Word\n"
     ]
    }
   ],
   "source": [
    "check_palindrome('Mom')"
   ]
  },
  {
   "cell_type": "code",
   "execution_count": 27,
   "id": "5ffa70a6-c0ec-4be3-9640-dc859d8a6520",
   "metadata": {},
   "outputs": [],
   "source": [
    "# fibonacci series\n",
    "# armstrong\n",
    "# anagram"
   ]
  },
  {
   "cell_type": "code",
   "execution_count": 37,
   "id": "bdb0118b-b58e-46fe-9df6-8805b4216d54",
   "metadata": {},
   "outputs": [
    {
     "data": {
      "text/plain": [
       "3470"
      ]
     },
     "execution_count": 37,
     "metadata": {},
     "output_type": "execute_result"
    }
   ],
   "source": [
    "# fibonacci series\n",
    "\n",
    "data = [235,35,4,532,543,6,3464]\n",
    "data[-1] + data[-2]"
   ]
  },
  {
   "cell_type": "code",
   "execution_count": 39,
   "id": "92603ddd-64be-4217-af10-094bff5c3d2c",
   "metadata": {},
   "outputs": [],
   "source": [
    "def give_fibo(num):\n",
    "    fibo = [0,1]\n",
    "    for i in range(num-2):\n",
    "        ans = fibo[-1] + fibo[-2]\n",
    "        fibo.append(ans)\n",
    "    print('Fibonacci Series: ',fibo)"
   ]
  },
  {
   "cell_type": "code",
   "execution_count": 47,
   "id": "e767ae97-e00d-4024-aa75-f6b31378bf7d",
   "metadata": {},
   "outputs": [
    {
     "name": "stdout",
     "output_type": "stream",
     "text": [
      "Fibonacci Series:  [0, 1, 1, 2, 3, 5, 8, 13, 21, 34, 55, 89]\n"
     ]
    }
   ],
   "source": [
    "give_fibo(12)"
   ]
  },
  {
   "cell_type": "code",
   "execution_count": 49,
   "id": "515b6c96-b0a6-4c4e-b229-d14cd54daf46",
   "metadata": {},
   "outputs": [],
   "source": [
    "def give_fibo(num):\n",
    "    fibo = []\n",
    "    for i in range(num):\n",
    "        if i<=1:\n",
    "            fibo.append(i)\n",
    "        else:\n",
    "            ans = fibo[-1] + fibo[-2]\n",
    "            fibo.append(ans)\n",
    "    print('Fibonacci Series: ',fibo)"
   ]
  },
  {
   "cell_type": "code",
   "execution_count": 53,
   "id": "90ca45fc-35e2-4273-9402-738d61528bcb",
   "metadata": {},
   "outputs": [
    {
     "name": "stdout",
     "output_type": "stream",
     "text": [
      "Fibonacci Series:  [0, 1, 1, 2, 3, 5, 8, 13, 21, 34, 55, 89]\n"
     ]
    }
   ],
   "source": [
    "give_fibo(12)"
   ]
  },
  {
   "cell_type": "code",
   "execution_count": 55,
   "id": "addaa02b-846c-4adc-aff2-80b1485d1fe3",
   "metadata": {},
   "outputs": [],
   "source": [
    "# armstrong"
   ]
  },
  {
   "cell_type": "code",
   "execution_count": 57,
   "id": "00510465-d4ff-4819-b82c-461e2502df6d",
   "metadata": {},
   "outputs": [],
   "source": [
    "# armstrong:- number"
   ]
  },
  {
   "cell_type": "code",
   "execution_count": 59,
   "id": "74e39776-3c14-4acc-b8cb-50454806992a",
   "metadata": {},
   "outputs": [
    {
     "data": {
      "text/plain": [
       "1634"
      ]
     },
     "execution_count": 59,
     "metadata": {},
     "output_type": "execute_result"
    }
   ],
   "source": [
    "# 1634\n",
    "\n",
    "1**4 + 6**4 + 3**4 + 4**4"
   ]
  },
  {
   "cell_type": "code",
   "execution_count": 63,
   "id": "752475fa-839b-4d88-ad3e-f9ac3ea3196c",
   "metadata": {},
   "outputs": [],
   "source": [
    "# 123\n",
    "\n",
    "# 1**3 + 2**3 + 3**3"
   ]
  },
  {
   "cell_type": "code",
   "execution_count": 65,
   "id": "bf8f6632-5e87-4ff4-ab44-419885c934ee",
   "metadata": {},
   "outputs": [],
   "source": [
    "# 153"
   ]
  },
  {
   "cell_type": "code",
   "execution_count": 73,
   "id": "65033fb3-b60e-4f46-b6de-0956630231d9",
   "metadata": {},
   "outputs": [
    {
     "name": "stdout",
     "output_type": "stream",
     "text": [
      "1\n",
      "5\n",
      "3\n"
     ]
    }
   ],
   "source": [
    "a = 153\n",
    "\n",
    "len(str(a))\n",
    "\n",
    "\n",
    "for i in str(a):\n",
    "    print(i)"
   ]
  },
  {
   "cell_type": "code",
   "execution_count": 79,
   "id": "5e9db397-7b21-4263-8d30-be4f48d75687",
   "metadata": {},
   "outputs": [
    {
     "data": {
      "text/plain": [
       "125"
      ]
     },
     "execution_count": 79,
     "metadata": {},
     "output_type": "execute_result"
    }
   ],
   "source": [
    "int('5')**3"
   ]
  },
  {
   "cell_type": "code",
   "execution_count": 89,
   "id": "d3f05027-08bc-4a76-9716-de16327c0b91",
   "metadata": {},
   "outputs": [],
   "source": [
    "def check_armstrong(num):\n",
    "    num = str(num)\n",
    "    ans = 0\n",
    "    for i in num:\n",
    "        ans += int(i)**len(num)\n",
    "    print('Armstrong Number') if ans == int(num) else print('Not an Armstrong Number')"
   ]
  },
  {
   "cell_type": "code",
   "execution_count": 99,
   "id": "bad0a077-78d5-4c53-9f5f-707ffc0cbf24",
   "metadata": {},
   "outputs": [
    {
     "name": "stdout",
     "output_type": "stream",
     "text": [
      "Not an Armstrong Number\n"
     ]
    }
   ],
   "source": [
    "check_armstrong(8209)"
   ]
  },
  {
   "cell_type": "code",
   "execution_count": 5,
   "id": "86e1ca7c-85bc-4fd2-bbdc-2884e0e6a6ab",
   "metadata": {},
   "outputs": [],
   "source": [
    "def check_armstrong(num):\n",
    "    num = str(num)\n",
    "    ans = 0\n",
    "    for i in num:\n",
    "        ans += int(i)**len(num)\n",
    "    if ans == int(num):\n",
    "        return True\n",
    "    else:\n",
    "        return False"
   ]
  },
  {
   "cell_type": "code",
   "execution_count": 7,
   "id": "a93cb7f6-c1fc-458d-a6f3-f4909d2e4c2a",
   "metadata": {},
   "outputs": [
    {
     "data": {
      "text/plain": [
       "False"
      ]
     },
     "execution_count": 7,
     "metadata": {},
     "output_type": "execute_result"
    }
   ],
   "source": [
    "check_armstrong(154)"
   ]
  },
  {
   "cell_type": "code",
   "execution_count": 31,
   "id": "f62f2590-6474-4e31-aa62-daf9d7fb991e",
   "metadata": {},
   "outputs": [],
   "source": [
    "def give_armstrong(num):\n",
    "    armstrong = []\n",
    "    c = 1\n",
    "    check_number = 0\n",
    "    while c <= num:\n",
    "        if check_armstrong(check_number):\n",
    "            armstrong.append(check_number)\n",
    "            c += 1\n",
    "        check_number += 1\n",
    "        # print(check_number)\n",
    "        # display(clear=True)\n",
    "    return armstrong"
   ]
  },
  {
   "cell_type": "code",
   "execution_count": 33,
   "id": "32c67ee1-f347-42b8-916d-27e58bd1cc72",
   "metadata": {},
   "outputs": [
    {
     "data": {
      "text/plain": [
       "[0,\n",
       " 1,\n",
       " 2,\n",
       " 3,\n",
       " 4,\n",
       " 5,\n",
       " 6,\n",
       " 7,\n",
       " 8,\n",
       " 9,\n",
       " 153,\n",
       " 370,\n",
       " 371,\n",
       " 407,\n",
       " 1634,\n",
       " 8208,\n",
       " 9474,\n",
       " 54748,\n",
       " 92727,\n",
       " 93084]"
      ]
     },
     "execution_count": 33,
     "metadata": {},
     "output_type": "execute_result"
    }
   ],
   "source": [
    "give_armstrong(20)"
   ]
  },
  {
   "cell_type": "code",
   "execution_count": 13,
   "id": "213b154f-3b82-4f0e-b68c-be6d645ebd4d",
   "metadata": {},
   "outputs": [
    {
     "data": {
      "text/plain": [
       "45274"
      ]
     },
     "execution_count": 13,
     "metadata": {},
     "output_type": "execute_result"
    }
   ],
   "source": [
    "54748 - 9474"
   ]
  },
  {
   "attachments": {
    "5fae844b-b19b-489f-9d25-3e5418939c9e.png": {
     "image/png": "[encoded data removed]"
    }
   },
   "cell_type": "markdown",
   "id": "87200452-474f-4e30-b7d2-e40af4c0eb9b",
   "metadata": {},
   "source": [
    "# Anagram\n",
    "![0_MnkyuT07R3uveIlb.png](attachment:5fae844b-b19b-489f-9d25-3e5418939c9e.png)"
   ]
  },
  {
   "cell_type": "code",
   "execution_count": 38,
   "id": "d8c69055-11ab-4fef-8bdf-aeb258a2f645",
   "metadata": {},
   "outputs": [],
   "source": [
    "a = 'earth'\n",
    "b = 'heart'"
   ]
  },
  {
   "cell_type": "code",
   "execution_count": 42,
   "id": "b268201c-b9e3-4ec7-8748-471f9306eca2",
   "metadata": {},
   "outputs": [
    {
     "data": {
      "text/plain": [
       "'aehrt'"
      ]
     },
     "execution_count": 42,
     "metadata": {},
     "output_type": "execute_result"
    }
   ],
   "source": [
    "''.join(sorted(a))"
   ]
  },
  {
   "cell_type": "code",
   "execution_count": 44,
   "id": "1f9bd362-b8f1-4498-ab62-992363b08477",
   "metadata": {},
   "outputs": [
    {
     "data": {
      "text/plain": [
       "'aehrt'"
      ]
     },
     "execution_count": 44,
     "metadata": {},
     "output_type": "execute_result"
    }
   ],
   "source": [
    "''.join(sorted(b))"
   ]
  },
  {
   "cell_type": "code",
   "execution_count": 70,
   "id": "7fdf3b0b-0be8-4047-ac30-0cc4323f7641",
   "metadata": {},
   "outputs": [],
   "source": [
    "def check_anagram(word1,word2):\n",
    "    return sorted(word1.lower()) == sorted(word2.lower())\n",
    "    "
   ]
  },
  {
   "cell_type": "code",
   "execution_count": 72,
   "id": "4d84cb7e-14c6-4010-8dd7-26a50a18f58a",
   "metadata": {},
   "outputs": [
    {
     "data": {
      "text/plain": [
       "True"
      ]
     },
     "execution_count": 72,
     "metadata": {},
     "output_type": "execute_result"
    }
   ],
   "source": [
    "check_anagram('listen','SIlent')"
   ]
  },
  {
   "cell_type": "code",
   "execution_count": 62,
   "id": "920266e6-5506-4c11-a568-efcc9527aee7",
   "metadata": {},
   "outputs": [
    {
     "data": {
      "text/plain": [
       "[54, 564, 635, 233466]"
      ]
     },
     "execution_count": 62,
     "metadata": {},
     "output_type": "execute_result"
    }
   ],
   "source": [
    "sorted([233466,54,564,635])"
   ]
  },
  {
   "cell_type": "code",
   "execution_count": 66,
   "id": "c0315be1-21be-452a-9b77-d80b309e79dd",
   "metadata": {},
   "outputs": [
    {
     "data": {
      "text/plain": [
       "['e', 'i', 'l', 'n', 's', 't']"
      ]
     },
     "execution_count": 66,
     "metadata": {},
     "output_type": "execute_result"
    }
   ],
   "source": [
    "sorted('listen')"
   ]
  },
  {
   "cell_type": "code",
   "execution_count": 68,
   "id": "b2457804-34d7-438a-9097-1442580393f9",
   "metadata": {},
   "outputs": [
    {
     "data": {
      "text/plain": [
       "['e', 'i', 'l', 'n', 's', 't']"
      ]
     },
     "execution_count": 68,
     "metadata": {},
     "output_type": "execute_result"
    }
   ],
   "source": [
    "sorted('silent')"
   ]
  },
  {
   "cell_type": "code",
   "execution_count": 110,
   "id": "f1e43620-366d-434d-a890-6497be198764",
   "metadata": {},
   "outputs": [],
   "source": [
    "def pattern_print(n,pattern_type = 'left'):\n",
    "    if pattern_type == 'left':\n",
    "        space = ''\n",
    "    elif pattern_type == 'right':\n",
    "        space = '  '\n",
    "    elif pattern_type == 'pyramid':\n",
    "        space = ' '\n",
    "    else:\n",
    "        space = ''\n",
    "    \n",
    "    for i in range(1,n+1):\n",
    "        print(space*(n-i) + \"* \"*i)"
   ]
  },
  {
   "cell_type": "code",
   "execution_count": 116,
   "id": "8f15212e-6a14-429b-8b2a-cdbd3bcfbcfd",
   "metadata": {},
   "outputs": [
    {
     "name": "stdout",
     "output_type": "stream",
     "text": [
      "* \n",
      "* * \n",
      "* * * \n",
      "* * * * \n",
      "* * * * * \n"
     ]
    }
   ],
   "source": [
    "pattern_print(5,'raja_kaise_bane')"
   ]
  },
  {
   "cell_type": "code",
   "execution_count": 118,
   "id": "e48e4cb7-acb2-42f4-8deb-d6e88b0665af",
   "metadata": {},
   "outputs": [],
   "source": [
    "# print()"
   ]
  },
  {
   "cell_type": "code",
   "execution_count": null,
   "id": "d60af77b-87d0-446a-8a25-ae42e103aa62",
   "metadata": {},
   "outputs": [],
   "source": []
  },
  {
   "cell_type": "code",
   "execution_count": 134,
   "id": "fee6bd33-b21d-4d29-a965-2b5fa95eaf42",
   "metadata": {},
   "outputs": [
    {
     "data": {
      "text/plain": [
       "66"
      ]
     },
     "execution_count": 134,
     "metadata": {},
     "output_type": "execute_result"
    }
   ],
   "source": [
    "ord('B')"
   ]
  },
  {
   "cell_type": "code",
   "execution_count": 124,
   "id": "b1157687-9ba9-4d65-b8c0-36d6a05e0f95",
   "metadata": {},
   "outputs": [
    {
     "data": {
      "text/plain": [
       "120016"
      ]
     },
     "execution_count": 124,
     "metadata": {},
     "output_type": "execute_result"
    }
   ],
   "source": [
    "ord('𝓐')"
   ]
  },
  {
   "cell_type": "code",
   "execution_count": 138,
   "id": "fa20e3c8-6570-4b41-8005-191b5a895300",
   "metadata": {},
   "outputs": [
    {
     "data": {
      "text/plain": [
       "119951"
      ]
     },
     "execution_count": 138,
     "metadata": {},
     "output_type": "execute_result"
    }
   ],
   "source": [
    "120016 - 65"
   ]
  },
  {
   "cell_type": "code",
   "execution_count": 136,
   "id": "1f6911e1-a272-46cb-9b30-c4fc660ea5e3",
   "metadata": {},
   "outputs": [
    {
     "data": {
      "text/plain": [
       "'𝓑'"
      ]
     },
     "execution_count": 136,
     "metadata": {},
     "output_type": "execute_result"
    }
   ],
   "source": [
    "chr(120017)"
   ]
  },
  {
   "cell_type": "code",
   "execution_count": 162,
   "id": "63833b4e-9757-4cfd-9dd0-b5defbb2b237",
   "metadata": {},
   "outputs": [
    {
     "name": "stdout",
     "output_type": "stream",
     "text": [
      "𝓙𝓐𝓣𝓘𝓝 𝓚𝓤𝓜𝓐𝓡 𝓥𝓔𝓡𝓜𝓐"
     ]
    }
   ],
   "source": [
    "data = 'Jatin Kumar verma'\n",
    "for i in data.upper():\n",
    "    if i == ' ':\n",
    "        print(i,end = '')\n",
    "    else:\n",
    "        print(chr(ord(i)+(ord('𝓐') - ord('A'))),end = '')"
   ]
  },
  {
   "cell_type": "code",
   "execution_count": 168,
   "id": "a888097c-69d8-4383-9d06-df5a0e46a26e",
   "metadata": {},
   "outputs": [],
   "source": [
    "def change_font(data,font_type = 'A'):\n",
    "    for i in data.upper():\n",
    "        if i == ' ':\n",
    "            print(i,end = '')\n",
    "        else:\n",
    "            print(chr(ord(i)+(ord(font_type) - ord('A'))),end = '')"
   ]
  },
  {
   "cell_type": "code",
   "execution_count": 174,
   "id": "7c6a3deb-38cd-471f-a467-319266c7274d",
   "metadata": {},
   "outputs": [
    {
     "name": "stdout",
     "output_type": "stream",
     "text": [
      "🅶🆁🅰🆂🆃🅴🅲🅷"
     ]
    }
   ],
   "source": [
    "change_font('grastech',font_type='🅰')"
   ]
  },
  {
   "cell_type": "code",
   "execution_count": null,
   "id": "4af406ab-36ea-4301-b35d-a1f4f803273f",
   "metadata": {},
   "outputs": [],
   "source": []
  }
 ],
 "metadata": {
  "kernelspec": {
   "display_name": "Python [conda env:base] *",
   "language": "python",
   "name": "conda-base-py"
  },
  "language_info": {
   "codemirror_mode": {
    "name": "ipython",
    "version": 3
   },
   "file_extension": ".py",
   "mimetype": "text/x-python",
   "name": "python",
   "nbconvert_exporter": "python",
   "pygments_lexer": "ipython3",
   "version": "3.12.7"
  }
 },
 "nbformat": 4,
 "nbformat_minor": 5
}
