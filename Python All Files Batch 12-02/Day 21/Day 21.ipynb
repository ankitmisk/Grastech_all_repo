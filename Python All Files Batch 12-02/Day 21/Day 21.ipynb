{
 "cells": [
  {
   "cell_type": "code",
   "execution_count": 1,
   "id": "f806d33e-5a48-4e39-8c91-8ca0eabb5e65",
   "metadata": {},
   "outputs": [],
   "source": [
    "# Binary File Handling\n",
    "# With multithreading\n",
    "# requests\n",
    "# Web scraping :- topic\n",
    "# OPPS:- Database connectivity"
   ]
  },
  {
   "cell_type": "code",
   "execution_count": 3,
   "id": "e3681d8f-3002-4e79-828c-38d285b6b3b2",
   "metadata": {},
   "outputs": [],
   "source": [
    "# https://picsum.photos/1280/720"
   ]
  },
  {
   "cell_type": "code",
   "execution_count": 5,
   "id": "02b6c0e1-fc9a-4f0d-800e-1bf7ce34e3fd",
   "metadata": {},
   "outputs": [
    {
     "name": "stdout",
     "output_type": "stream",
     "text": [
      "done\n"
     ]
    }
   ],
   "source": [
    "import requests as r\n",
    "print('done')"
   ]
  },
  {
   "cell_type": "code",
   "execution_count": 13,
   "id": "46f51a54-12a4-401e-9277-46f588873ca6",
   "metadata": {},
   "outputs": [],
   "source": [
    "def get_image(name):\n",
    "    url = '''https://picsum.photos/1280/720'''\n",
    "    img_data = r.get(url).content\n",
    "    with open(f\"C:\\\\Users\\\\salma\\\\OneDrive\\\\Desktop\\\\Random_pics\\\\img_{name}.jpg\",'wb+') as f:\n",
    "        f.write(img_data )"
   ]
  },
  {
   "cell_type": "code",
   "execution_count": 21,
   "id": "e2ac3b4d-bf8b-4171-bdb3-644bdba4031b",
   "metadata": {},
   "outputs": [],
   "source": [
    "get_image(2)"
   ]
  },
  {
   "cell_type": "code",
   "execution_count": 23,
   "id": "e0e64af0-fa0d-431a-ab00-d062eb7a8ac4",
   "metadata": {},
   "outputs": [],
   "source": [
    "for i in range(10):\n",
    "    get_image(i)"
   ]
  },
  {
   "cell_type": "code",
   "execution_count": 25,
   "id": "2d6f1f17-f567-4839-baab-e980b3ba66d5",
   "metadata": {},
   "outputs": [
    {
     "data": {
      "text/plain": [
       "100.0"
      ]
     },
     "execution_count": 25,
     "metadata": {},
     "output_type": "execute_result"
    }
   ],
   "source": [
    "6000/60"
   ]
  },
  {
   "cell_type": "code",
   "execution_count": 27,
   "id": "e859652b-a82a-4d66-8ce3-535381e36262",
   "metadata": {},
   "outputs": [
    {
     "name": "stdout",
     "output_type": "stream",
     "text": [
      "Time Taken:  13.033050060272217\n"
     ]
    }
   ],
   "source": [
    "import time\n",
    "start_time = time.time()\n",
    "for i in range(1,11):\n",
    "    get_image(i)\n",
    "end_time = time.time()\n",
    "print('Time Taken: ',end_time - start_time)"
   ]
  },
  {
   "cell_type": "code",
   "execution_count": 29,
   "id": "ea658176-8edd-4e2b-8c85-38c99f7f9ac2",
   "metadata": {},
   "outputs": [
    {
     "name": "stdout",
     "output_type": "stream",
     "text": [
      "Done\n"
     ]
    }
   ],
   "source": [
    "import threading as th\n",
    "print('Done')"
   ]
  },
  {
   "cell_type": "code",
   "execution_count": 45,
   "id": "24d59313-dc76-48eb-9d40-ef832010a101",
   "metadata": {},
   "outputs": [
    {
     "name": "stdout",
     "output_type": "stream",
     "text": [
      "Time Taken:  18.234673738479614\n"
     ]
    }
   ],
   "source": [
    "import time\n",
    "start_time = time.time()\n",
    "\n",
    "all_threads = []\n",
    "\n",
    "for i in range(1,1001):\n",
    "    thread = th.Thread(target=get_image,args=[i])\n",
    "    all_threads.append(thread)\n",
    "\n",
    "for j in all_threads:\n",
    "    j.start()\n",
    "\n",
    "\n",
    "for k in all_threads:\n",
    "    k.join()\n",
    "    \n",
    "end_time = time.time()\n",
    "print('Time Taken: ',end_time - start_time)"
   ]
  },
  {
   "cell_type": "code",
   "execution_count": 47,
   "id": "7b05a58a-5ec0-4728-9ee6-69eaddbb27e2",
   "metadata": {},
   "outputs": [
    {
     "name": "stdout",
     "output_type": "stream",
     "text": [
      "['ConnectTimeout', 'ConnectionError', 'DependencyWarning', 'FileModeWarning', 'HTTPError', 'JSONDecodeError', 'NullHandler', 'PreparedRequest', 'ReadTimeout', 'Request', 'RequestException', 'RequestsDependencyWarning', 'Response', 'Session', 'Timeout', 'TooManyRedirects', 'URLRequired', '__author__', '__author_email__', '__build__', '__builtins__', '__cached__', '__cake__', '__copyright__', '__description__', '__doc__', '__file__', '__license__', '__loader__', '__name__', '__package__', '__path__', '__spec__', '__title__', '__url__', '__version__', '_check_cryptography', '_internal_utils', 'adapters', 'api', 'auth', 'certs', 'chardet_version', 'charset_normalizer_version', 'check_compatibility', 'codes', 'compat', 'cookies', 'delete', 'exceptions', 'get', 'head', 'hooks', 'logging', 'models', 'options', 'packages', 'patch', 'post', 'put', 'request', 'session', 'sessions', 'ssl', 'status_codes', 'structures', 'urllib3', 'utils', 'warnings']\n"
     ]
    }
   ],
   "source": [
    "print(dir(r))"
   ]
  },
  {
   "cell_type": "code",
   "execution_count": null,
   "id": "e26c79d4-910a-43a3-b48c-1aaa7f1f1d73",
   "metadata": {},
   "outputs": [],
   "source": []
  },
  {
   "cell_type": "code",
   "execution_count": null,
   "id": "db4179a4-2988-41e9-b2c6-9a337b44bf23",
   "metadata": {},
   "outputs": [],
   "source": []
  },
  {
   "cell_type": "code",
   "execution_count": null,
   "id": "b01a3f19-fb8d-46b4-88f6-b4571e6ab43a",
   "metadata": {},
   "outputs": [],
   "source": []
  },
  {
   "cell_type": "markdown",
   "id": "ac1a6838-5c9c-4af0-a60b-63bf08db3440",
   "metadata": {},
   "source": [
    "# WebScraping"
   ]
  },
  {
   "cell_type": "code",
   "execution_count": 63,
   "id": "21ca2eda-e1a7-42c4-a10b-1efde847ca07",
   "metadata": {},
   "outputs": [],
   "source": [
    "# pip install beautifulsoup4"
   ]
  },
  {
   "cell_type": "code",
   "execution_count": 61,
   "id": "cc6bac3b-8344-4b7c-99d3-faf54a7a6f78",
   "metadata": {},
   "outputs": [],
   "source": [
    "# pip install selenium"
   ]
  },
  {
   "cell_type": "code",
   "execution_count": 1,
   "id": "5887878c-6f65-406d-88f9-cbe558489ce7",
   "metadata": {},
   "outputs": [
    {
     "name": "stdout",
     "output_type": "stream",
     "text": [
      "Done\n"
     ]
    }
   ],
   "source": [
    "import requests as r\n",
    "from bs4 import BeautifulSoup\n",
    "import selenium\n",
    "print('Done')"
   ]
  },
  {
   "cell_type": "code",
   "execution_count": 2,
   "id": "992fa0c6-76e1-4b1e-9c17-810f37633ccd",
   "metadata": {},
   "outputs": [],
   "source": [
    "# free Basic:- covid data wikipedia"
   ]
  },
  {
   "cell_type": "code",
   "execution_count": 3,
   "id": "d66ba4a6-4981-46ee-bdc7-4301502d24d0",
   "metadata": {},
   "outputs": [],
   "source": [
    "url = '''https://en.wikipedia.org/wiki/COVID-19_pandemic_by_country_and_territory'''\n",
    "html_code = r.get(url).text"
   ]
  },
  {
   "cell_type": "code",
   "execution_count": 4,
   "id": "0fd4c833-3fe6-4e80-bb9b-5e21d8d183ea",
   "metadata": {},
   "outputs": [],
   "source": [
    "soup = BeautifulSoup(html_code,'html.parser')"
   ]
  },
  {
   "cell_type": "code",
   "execution_count": null,
   "id": "4b5c2796-0465-43a8-8cad-7a2196420e74",
   "metadata": {},
   "outputs": [],
   "source": [
    "# print(soup.prettify())"
   ]
  },
  {
   "cell_type": "code",
   "execution_count": 29,
   "id": "0d4297e6-cae2-4337-a4e6-1c5dfa1d03ba",
   "metadata": {},
   "outputs": [
    {
     "data": {
      "text/html": [
       "<div>\n",
       "<style scoped>\n",
       "    .dataframe tbody tr th:only-of-type {\n",
       "        vertical-align: middle;\n",
       "    }\n",
       "\n",
       "    .dataframe tbody tr th {\n",
       "        vertical-align: top;\n",
       "    }\n",
       "\n",
       "    .dataframe thead tr th {\n",
       "        text-align: left;\n",
       "    }\n",
       "</style>\n",
       "<table border=\"1\" class=\"dataframe\">\n",
       "  <thead>\n",
       "    <tr>\n",
       "      <th></th>\n",
       "      <th>Country</th>\n",
       "      <th>Deaths / million</th>\n",
       "      <th>Deaths</th>\n",
       "      <th>Cases</th>\n",
       "    </tr>\n",
       "  </thead>\n",
       "  <tbody>\n",
       "    <tr>\n",
       "      <th>0</th>\n",
       "      <td>World[a]</td>\n",
       "      <td>887</td>\n",
       "      <td>7,088,744</td>\n",
       "      <td>777,384,606</td>\n",
       "    </tr>\n",
       "    <tr>\n",
       "      <th>1</th>\n",
       "      <td>Peru</td>\n",
       "      <td>6,601</td>\n",
       "      <td>220,994</td>\n",
       "      <td>4,528,708</td>\n",
       "    </tr>\n",
       "    <tr>\n",
       "      <th>2</th>\n",
       "      <td>Bulgaria</td>\n",
       "      <td>5,679</td>\n",
       "      <td>38,765</td>\n",
       "      <td>1,338,348</td>\n",
       "    </tr>\n",
       "    <tr>\n",
       "      <th>3</th>\n",
       "      <td>North Macedonia</td>\n",
       "      <td>5,428</td>\n",
       "      <td>9,990</td>\n",
       "      <td>352,060</td>\n",
       "    </tr>\n",
       "    <tr>\n",
       "      <th>4</th>\n",
       "      <td>Bosnia and Herzegovina</td>\n",
       "      <td>5,118</td>\n",
       "      <td>16,404</td>\n",
       "      <td>404,142</td>\n",
       "    </tr>\n",
       "    <tr>\n",
       "      <th>...</th>\n",
       "      <td>...</td>\n",
       "      <td>...</td>\n",
       "      <td>...</td>\n",
       "      <td>...</td>\n",
       "    </tr>\n",
       "    <tr>\n",
       "      <th>234</th>\n",
       "      <td>Saint Helena, Ascension and Tristan da Cunha</td>\n",
       "      <td>0</td>\n",
       "      <td>0</td>\n",
       "      <td>2,166</td>\n",
       "    </tr>\n",
       "    <tr>\n",
       "      <th>235</th>\n",
       "      <td>Pitcairn Islands</td>\n",
       "      <td>0</td>\n",
       "      <td>0</td>\n",
       "      <td>4</td>\n",
       "    </tr>\n",
       "    <tr>\n",
       "      <th>236</th>\n",
       "      <td>Tokelau</td>\n",
       "      <td>0</td>\n",
       "      <td>0</td>\n",
       "      <td>80</td>\n",
       "    </tr>\n",
       "    <tr>\n",
       "      <th>237</th>\n",
       "      <td>North Korea</td>\n",
       "      <td>0</td>\n",
       "      <td>0</td>\n",
       "      <td>0</td>\n",
       "    </tr>\n",
       "    <tr>\n",
       "      <th>238</th>\n",
       "      <td>Turkmenistan</td>\n",
       "      <td>0</td>\n",
       "      <td>0</td>\n",
       "      <td>0</td>\n",
       "    </tr>\n",
       "  </tbody>\n",
       "</table>\n",
       "<p>239 rows × 4 columns</p>\n",
       "</div>"
      ],
      "text/plain": [
       "                                          Country Deaths / million     Deaths  \\\n",
       "0                                        World[a]              887  7,088,744   \n",
       "1                                            Peru            6,601    220,994   \n",
       "2                                        Bulgaria            5,679     38,765   \n",
       "3                                 North Macedonia            5,428      9,990   \n",
       "4                          Bosnia and Herzegovina            5,118     16,404   \n",
       "..                                            ...              ...        ...   \n",
       "234  Saint Helena, Ascension and Tristan da Cunha                0          0   \n",
       "235                              Pitcairn Islands                0          0   \n",
       "236                                       Tokelau                0          0   \n",
       "237                                   North Korea                0          0   \n",
       "238                                  Turkmenistan                0          0   \n",
       "\n",
       "           Cases  \n",
       "0    777,384,606  \n",
       "1      4,528,708  \n",
       "2      1,338,348  \n",
       "3        352,060  \n",
       "4        404,142  \n",
       "..           ...  \n",
       "234        2,166  \n",
       "235            4  \n",
       "236           80  \n",
       "237            0  \n",
       "238            0  \n",
       "\n",
       "[239 rows x 4 columns]"
      ]
     },
     "execution_count": 29,
     "metadata": {},
     "output_type": "execute_result"
    }
   ],
   "source": [
    "all_rows = []\n",
    "col = []\n",
    "for i,j in enumerate(soup.find_all('tr')):\n",
    "    if 45<=i<=284:\n",
    "        data = j.text.splitlines()\n",
    "        while '' in data:\n",
    "            data.remove('')\n",
    "        if i == 45:\n",
    "            col.append(data)\n",
    "        else:\n",
    "            all_rows.append(data)\n",
    "\n",
    "import pandas as pd\n",
    "table = pd.DataFrame(all_rows,columns=col)\n",
    "table"
   ]
  },
  {
   "cell_type": "code",
   "execution_count": null,
   "id": "aef91ba3-8c25-4829-a5cd-3d6ed424b003",
   "metadata": {},
   "outputs": [],
   "source": []
  }
 ],
 "metadata": {
  "kernelspec": {
   "display_name": "Python [conda env:base] *",
   "language": "python",
   "name": "conda-base-py"
  },
  "language_info": {
   "codemirror_mode": {
    "name": "ipython",
    "version": 3
   },
   "file_extension": ".py",
   "mimetype": "text/x-python",
   "name": "python",
   "nbconvert_exporter": "python",
   "pygments_lexer": "ipython3",
   "version": "3.12.7"
  }
 },
 "nbformat": 4,
 "nbformat_minor": 5
}
