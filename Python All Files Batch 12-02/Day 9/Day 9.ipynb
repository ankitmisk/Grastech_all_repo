{
 "cells": [
  {
   "cell_type": "code",
   "execution_count": 1,
   "id": "10740fd1-bb06-475e-b4d3-75d70fc17d0f",
   "metadata": {},
   "outputs": [
    {
     "name": "stdout",
     "output_type": "stream",
     "text": [
      "['__and__', '__class__', '__class_getitem__', '__contains__', '__delattr__', '__dir__', '__doc__', '__eq__', '__format__', '__ge__', '__getattribute__', '__getstate__', '__gt__', '__hash__', '__iand__', '__init__', '__init_subclass__', '__ior__', '__isub__', '__iter__', '__ixor__', '__le__', '__len__', '__lt__', '__ne__', '__new__', '__or__', '__rand__', '__reduce__', '__reduce_ex__', '__repr__', '__ror__', '__rsub__', '__rxor__', '__setattr__', '__sizeof__', '__str__', '__sub__', '__subclasshook__', '__xor__', 'add', 'clear', 'copy', 'difference', 'difference_update', 'discard', 'intersection', 'intersection_update', 'isdisjoint', 'issubset', 'issuperset', 'pop', 'remove', 'symmetric_difference', 'symmetric_difference_update', 'union', 'update']\n"
     ]
    }
   ],
   "source": [
    "print(dir(set))"
   ]
  },
  {
   "cell_type": "code",
   "execution_count": 5,
   "id": "0cd3cadd-8a6b-4e2a-99ec-2e61c7bd99f3",
   "metadata": {},
   "outputs": [],
   "source": [
    "methods = dir(set)\n",
    "all_methods = methods[methods.index('add'):]"
   ]
  },
  {
   "cell_type": "code",
   "execution_count": 7,
   "id": "a9dad5c1-b060-4968-a8e0-07834c6ae44a",
   "metadata": {},
   "outputs": [
    {
     "name": "stdout",
     "output_type": "stream",
     "text": [
      "['add', 'clear', 'copy', 'difference', 'difference_update', 'discard', 'intersection', 'intersection_update', 'isdisjoint', 'issubset', 'issuperset', 'pop', 'remove', 'symmetric_difference', 'symmetric_difference_update', 'union', 'update']\n"
     ]
    }
   ],
   "source": [
    "print(all_methods)"
   ]
  },
  {
   "cell_type": "code",
   "execution_count": null,
   "id": "422bc30f-2fc4-4e21-a201-6974fa67b4b0",
   "metadata": {},
   "outputs": [],
   "source": []
  },
  {
   "cell_type": "code",
   "execution_count": 10,
   "id": "363a1313-40df-4cc4-b5d6-813aba8dfdf5",
   "metadata": {},
   "outputs": [
    {
     "data": {
      "text/plain": [
       "{1, 2, 3}"
      ]
     },
     "execution_count": 10,
     "metadata": {},
     "output_type": "execute_result"
    }
   ],
   "source": [
    "a = {1,2,3,4,5}\n",
    "\n",
    "b = {4,5,6,7}\n",
    "\n",
    "a-b"
   ]
  },
  {
   "cell_type": "code",
   "execution_count": 12,
   "id": "1fa17f2c-26c7-4245-a6b3-bd0c73492e35",
   "metadata": {},
   "outputs": [
    {
     "data": {
      "text/plain": [
       "{1, 2, 3}"
      ]
     },
     "execution_count": 12,
     "metadata": {},
     "output_type": "execute_result"
    }
   ],
   "source": [
    "a.difference(b)"
   ]
  },
  {
   "cell_type": "code",
   "execution_count": 14,
   "id": "22388d31-d8a5-4249-b1b0-e55dbeb76459",
   "metadata": {},
   "outputs": [
    {
     "data": {
      "text/plain": [
       "{6, 7}"
      ]
     },
     "execution_count": 14,
     "metadata": {},
     "output_type": "execute_result"
    }
   ],
   "source": [
    "b - a"
   ]
  },
  {
   "cell_type": "code",
   "execution_count": 16,
   "id": "9267f65e-8893-40ad-88ef-191fec329b31",
   "metadata": {},
   "outputs": [
    {
     "data": {
      "text/plain": [
       "{6, 7}"
      ]
     },
     "execution_count": 16,
     "metadata": {},
     "output_type": "execute_result"
    }
   ],
   "source": [
    "b.difference(a)"
   ]
  },
  {
   "cell_type": "code",
   "execution_count": 18,
   "id": "28e552c1-d9c1-4bc8-8820-b1d06f566fba",
   "metadata": {},
   "outputs": [
    {
     "data": {
      "text/plain": [
       "{1, 2, 3, 4, 5}"
      ]
     },
     "execution_count": 18,
     "metadata": {},
     "output_type": "execute_result"
    }
   ],
   "source": [
    "a"
   ]
  },
  {
   "cell_type": "code",
   "execution_count": 20,
   "id": "ff1444bc-3fda-4bc5-97e4-fe2209a255bd",
   "metadata": {},
   "outputs": [],
   "source": [
    "a.discard(3)"
   ]
  },
  {
   "cell_type": "code",
   "execution_count": 22,
   "id": "57eee1e6-5639-465c-8a8c-e9e1616dc0bc",
   "metadata": {},
   "outputs": [
    {
     "data": {
      "text/plain": [
       "{1, 2, 4, 5}"
      ]
     },
     "execution_count": 22,
     "metadata": {},
     "output_type": "execute_result"
    }
   ],
   "source": [
    "a"
   ]
  },
  {
   "cell_type": "code",
   "execution_count": 24,
   "id": "63164201-78d5-4579-9a48-534677d48316",
   "metadata": {},
   "outputs": [],
   "source": [
    "a.remove(4)"
   ]
  },
  {
   "cell_type": "code",
   "execution_count": 26,
   "id": "30fcd76c-282f-4bd0-9e08-07e7160e59fc",
   "metadata": {},
   "outputs": [
    {
     "data": {
      "text/plain": [
       "{1, 2, 5}"
      ]
     },
     "execution_count": 26,
     "metadata": {},
     "output_type": "execute_result"
    }
   ],
   "source": [
    "a"
   ]
  },
  {
   "cell_type": "code",
   "execution_count": 28,
   "id": "00cb6c96-a810-4273-8575-f707730418f8",
   "metadata": {},
   "outputs": [
    {
     "data": {
      "text/plain": [
       "{1, 2, 5}"
      ]
     },
     "execution_count": 28,
     "metadata": {},
     "output_type": "execute_result"
    }
   ],
   "source": [
    "a"
   ]
  },
  {
   "cell_type": "code",
   "execution_count": 30,
   "id": "f31e425a-c856-425e-a2d8-2288c45016c6",
   "metadata": {},
   "outputs": [
    {
     "ename": "KeyError",
     "evalue": "3",
     "output_type": "error",
     "traceback": [
      "\u001b[1;31m---------------------------------------------------------------------------\u001b[0m",
      "\u001b[1;31mKeyError\u001b[0m                                  Traceback (most recent call last)",
      "Cell \u001b[1;32mIn[30], line 1\u001b[0m\n\u001b[1;32m----> 1\u001b[0m a\u001b[38;5;241m.\u001b[39mremove(\u001b[38;5;241m3\u001b[39m)\n",
      "\u001b[1;31mKeyError\u001b[0m: 3"
     ]
    }
   ],
   "source": [
    "a.remove(3)"
   ]
  },
  {
   "cell_type": "code",
   "execution_count": 32,
   "id": "b85d29ed-dcb0-41d9-bea8-f8a3d1740c24",
   "metadata": {},
   "outputs": [],
   "source": [
    "a.discard(3)"
   ]
  },
  {
   "cell_type": "code",
   "execution_count": 34,
   "id": "e40389d2-2bb7-4582-bb7a-e77f5a9d4450",
   "metadata": {},
   "outputs": [
    {
     "data": {
      "text/plain": [
       "{1, 2, 5}"
      ]
     },
     "execution_count": 34,
     "metadata": {},
     "output_type": "execute_result"
    }
   ],
   "source": [
    "a"
   ]
  },
  {
   "cell_type": "code",
   "execution_count": 36,
   "id": "8ae194e2-f729-416d-8634-25a2935c399b",
   "metadata": {},
   "outputs": [
    {
     "name": "stdout",
     "output_type": "stream",
     "text": [
      "['add', 'clear', 'copy', 'difference', 'difference_update', 'discard', 'intersection', 'intersection_update', 'isdisjoint', 'issubset', 'issuperset', 'pop', 'remove', 'symmetric_difference', 'symmetric_difference_update', 'union', 'update']\n"
     ]
    }
   ],
   "source": [
    "print(all_methods)"
   ]
  },
  {
   "cell_type": "code",
   "execution_count": 48,
   "id": "97c5aa56-6ff8-4f70-9ab9-7991c49bad34",
   "metadata": {},
   "outputs": [],
   "source": [
    "a = {2,35,2,325,346}\n",
    "b = {3,46,545,325,456}"
   ]
  },
  {
   "cell_type": "code",
   "execution_count": 50,
   "id": "236f7c34-a1a8-47d9-b070-82cf02a7c73e",
   "metadata": {},
   "outputs": [
    {
     "data": {
      "text/plain": [
       "{325}"
      ]
     },
     "execution_count": 50,
     "metadata": {},
     "output_type": "execute_result"
    }
   ],
   "source": [
    "a.intersection(b)"
   ]
  },
  {
   "cell_type": "code",
   "execution_count": null,
   "id": "90f8eead-85ba-4a6e-b8fe-0aece5f01ac0",
   "metadata": {},
   "outputs": [],
   "source": []
  },
  {
   "cell_type": "code",
   "execution_count": 53,
   "id": "1fbcfb90-b2e1-4efe-ae7e-20813191d78e",
   "metadata": {},
   "outputs": [],
   "source": [
    "bjp_members = {'arun','mohan','akhil','sohan'}\n",
    "aap_members = {'harry','karan','arun','mohan'}"
   ]
  },
  {
   "cell_type": "code",
   "execution_count": 55,
   "id": "c8aec745-a4cc-492c-88ce-8a72c4c15582",
   "metadata": {},
   "outputs": [
    {
     "data": {
      "text/plain": [
       "{'akhil', 'arun', 'harry', 'karan', 'mohan', 'sohan'}"
      ]
     },
     "execution_count": 55,
     "metadata": {},
     "output_type": "execute_result"
    }
   ],
   "source": [
    "bjp_members.union(aap_members)"
   ]
  },
  {
   "cell_type": "code",
   "execution_count": 61,
   "id": "52899bec-3e3a-43aa-8c3d-9a8b53a1c555",
   "metadata": {},
   "outputs": [
    {
     "data": {
      "text/plain": [
       "{'akhil', 'arun', 'harry', 'karan', 'mohan', 'sohan'}"
      ]
     },
     "execution_count": 61,
     "metadata": {},
     "output_type": "execute_result"
    }
   ],
   "source": [
    "bjp_members | aap_members"
   ]
  },
  {
   "cell_type": "code",
   "execution_count": 63,
   "id": "f2a9ec8d-695e-4b1d-a9cc-c5ea4184b25e",
   "metadata": {},
   "outputs": [],
   "source": [
    "a = {2,35,2,325,346}\n",
    "b = {3,46,545,325,456}"
   ]
  },
  {
   "cell_type": "code",
   "execution_count": 65,
   "id": "cf1fac36-3ff5-40f7-9aa1-9de1a6369880",
   "metadata": {},
   "outputs": [
    {
     "data": {
      "text/plain": [
       "{325}"
      ]
     },
     "execution_count": 65,
     "metadata": {},
     "output_type": "execute_result"
    }
   ],
   "source": [
    "a & b"
   ]
  },
  {
   "cell_type": "code",
   "execution_count": 135,
   "id": "4813c52c-a7b7-4af4-a955-9c7161b498ac",
   "metadata": {},
   "outputs": [
    {
     "data": {
      "text/plain": [
       "{'akhil', 'arun', 'harry', 'karan', 'mohan', 'sohan'}"
      ]
     },
     "execution_count": 135,
     "metadata": {},
     "output_type": "execute_result"
    }
   ],
   "source": [
    "bjp_members = {'arun','mohan','akhil','sohan'}\n",
    "aap_members = {'harry','karan','arun','mohan'}\n",
    "\n",
    "bjp_members | aap_members"
   ]
  },
  {
   "cell_type": "code",
   "execution_count": 71,
   "id": "db6eebcf-56ed-452b-b700-b2f532683786",
   "metadata": {},
   "outputs": [
    {
     "data": {
      "text/plain": [
       "{'akhil', 'arun', 'mohan', 'sohan'}"
      ]
     },
     "execution_count": 71,
     "metadata": {},
     "output_type": "execute_result"
    }
   ],
   "source": [
    "bjp_members"
   ]
  },
  {
   "cell_type": "code",
   "execution_count": 73,
   "id": "43a726be-9d21-46b1-a4b6-a4c562487ea6",
   "metadata": {},
   "outputs": [],
   "source": [
    "bjp_members.update(aap_members)"
   ]
  },
  {
   "cell_type": "code",
   "execution_count": 75,
   "id": "94e23fa9-a7fc-4aaf-8dfb-6c94975944f6",
   "metadata": {},
   "outputs": [
    {
     "data": {
      "text/plain": [
       "{'akhil', 'arun', 'harry', 'karan', 'mohan', 'sohan'}"
      ]
     },
     "execution_count": 75,
     "metadata": {},
     "output_type": "execute_result"
    }
   ],
   "source": [
    "bjp_members"
   ]
  },
  {
   "cell_type": "code",
   "execution_count": 91,
   "id": "9db5e947-704a-420a-b8e7-12bb0a1c3b3d",
   "metadata": {},
   "outputs": [],
   "source": [
    "bjp_members.update(('Amnit',))"
   ]
  },
  {
   "cell_type": "code",
   "execution_count": 93,
   "id": "e845e11e-bf70-4976-ad7f-a214514d7209",
   "metadata": {},
   "outputs": [
    {
     "name": "stdout",
     "output_type": "stream",
     "text": [
      "{'arun', 'sohan', 't', 'Amnit', 'Jatini', 'm', 'akhil', 'mohan', 'A', 'karan', 'i', 'harry', 'n', 'Jatin'}\n"
     ]
    }
   ],
   "source": [
    "print(bjp_members)"
   ]
  },
  {
   "cell_type": "code",
   "execution_count": 97,
   "id": "1c71e575-d49b-4058-93e7-0e9c31aeeff7",
   "metadata": {},
   "outputs": [
    {
     "data": {
      "text/plain": [
       "('Amit',)"
      ]
     },
     "execution_count": 97,
     "metadata": {},
     "output_type": "execute_result"
    }
   ],
   "source": [
    "('Amit',)"
   ]
  },
  {
   "cell_type": "code",
   "execution_count": 103,
   "id": "a16ea830-4968-4454-b116-6a0b288ac036",
   "metadata": {},
   "outputs": [],
   "source": [
    "bjp_members.remove('Amnit')"
   ]
  },
  {
   "cell_type": "code",
   "execution_count": 105,
   "id": "f2884270-f32c-45c5-aef9-9332e660ddc4",
   "metadata": {},
   "outputs": [
    {
     "data": {
      "text/plain": [
       "{'A',\n",
       " 'Jatin',\n",
       " 'Jatini',\n",
       " 'akhil',\n",
       " 'arun',\n",
       " 'harry',\n",
       " 'i',\n",
       " 'karan',\n",
       " 'm',\n",
       " 'mohan',\n",
       " 'n',\n",
       " 'sohan',\n",
       " 't'}"
      ]
     },
     "execution_count": 105,
     "metadata": {},
     "output_type": "execute_result"
    }
   ],
   "source": [
    "bjp_members"
   ]
  },
  {
   "cell_type": "code",
   "execution_count": 107,
   "id": "e9b058c6-225c-4ac4-b7c8-05e665a1d0c4",
   "metadata": {},
   "outputs": [
    {
     "ename": "TypeError",
     "evalue": "set.remove() takes exactly one argument (2 given)",
     "output_type": "error",
     "traceback": [
      "\u001b[1;31m---------------------------------------------------------------------------\u001b[0m",
      "\u001b[1;31mTypeError\u001b[0m                                 Traceback (most recent call last)",
      "Cell \u001b[1;32mIn[107], line 1\u001b[0m\n\u001b[1;32m----> 1\u001b[0m bjp_members\u001b[38;5;241m.\u001b[39mremove(\u001b[38;5;124m'\u001b[39m\u001b[38;5;124mkaran\u001b[39m\u001b[38;5;124m'\u001b[39m,\u001b[38;5;124m'\u001b[39m\u001b[38;5;124mmohan\u001b[39m\u001b[38;5;124m'\u001b[39m)\n",
      "\u001b[1;31mTypeError\u001b[0m: set.remove() takes exactly one argument (2 given)"
     ]
    }
   ],
   "source": [
    "bjp_members.remove('karan','mohan')"
   ]
  },
  {
   "cell_type": "code",
   "execution_count": 111,
   "id": "578f2f31-dddf-4742-9db4-9e9c4f8feb1b",
   "metadata": {},
   "outputs": [],
   "source": [
    "bjp_members.discard('karan')"
   ]
  },
  {
   "cell_type": "code",
   "execution_count": 115,
   "id": "7613751d-128d-483a-a839-07614ac85832",
   "metadata": {},
   "outputs": [
    {
     "name": "stdout",
     "output_type": "stream",
     "text": [
      "{'arun', 'sohan', 't', 'Jatini', 'm', 'akhil', 'mohan', 'A', 'i', 'harry', 'n', 'Jatin'}\n"
     ]
    }
   ],
   "source": [
    "print(bjp_members)"
   ]
  },
  {
   "cell_type": "code",
   "execution_count": 117,
   "id": "c33b1da8-e659-41cb-8f90-5c3288236daa",
   "metadata": {},
   "outputs": [],
   "source": [
    "bjp_members.remove('t')\n",
    "bjp_members.remove('m')\n",
    "bjp_members.remove('A')\n",
    "bjp_members.remove('i')\n",
    "bjp_members.remove('n')\n"
   ]
  },
  {
   "cell_type": "code",
   "execution_count": 119,
   "id": "d0da534e-4834-4c36-8525-cfc8faa0af62",
   "metadata": {},
   "outputs": [
    {
     "data": {
      "text/plain": [
       "{'Jatin', 'Jatini', 'akhil', 'arun', 'harry', 'mohan', 'sohan'}"
      ]
     },
     "execution_count": 119,
     "metadata": {},
     "output_type": "execute_result"
    }
   ],
   "source": [
    "bjp_members"
   ]
  },
  {
   "cell_type": "code",
   "execution_count": 121,
   "id": "ea05c250-19d2-4039-94eb-64903fe2ed0f",
   "metadata": {},
   "outputs": [],
   "source": [
    "# bjp_members.update()"
   ]
  },
  {
   "cell_type": "code",
   "execution_count": 123,
   "id": "913779a9-777a-40cd-95c4-d76a0553d69b",
   "metadata": {},
   "outputs": [],
   "source": [
    "a = {2,4,436}\n",
    "b = {2,3,4,56,57}"
   ]
  },
  {
   "cell_type": "code",
   "execution_count": 125,
   "id": "529a7100-c9ef-465b-aae8-c91a50bd68ba",
   "metadata": {},
   "outputs": [
    {
     "data": {
      "text/plain": [
       "{436}"
      ]
     },
     "execution_count": 125,
     "metadata": {},
     "output_type": "execute_result"
    }
   ],
   "source": [
    "a - b"
   ]
  },
  {
   "cell_type": "code",
   "execution_count": 127,
   "id": "74addf22-b085-4dc6-bc90-e08f109336de",
   "metadata": {},
   "outputs": [
    {
     "data": {
      "text/plain": [
       "{436}"
      ]
     },
     "execution_count": 127,
     "metadata": {},
     "output_type": "execute_result"
    }
   ],
   "source": [
    "a.difference(b)"
   ]
  },
  {
   "cell_type": "code",
   "execution_count": 129,
   "id": "20962888-f316-45d3-8dbe-4ec077fedf2c",
   "metadata": {},
   "outputs": [
    {
     "data": {
      "text/plain": [
       "{2, 4, 436}"
      ]
     },
     "execution_count": 129,
     "metadata": {},
     "output_type": "execute_result"
    }
   ],
   "source": [
    "a"
   ]
  },
  {
   "cell_type": "code",
   "execution_count": 131,
   "id": "f76d340b-6b58-4d41-901c-bb210ca05b78",
   "metadata": {},
   "outputs": [],
   "source": [
    "a.difference_update(b)"
   ]
  },
  {
   "cell_type": "code",
   "execution_count": 133,
   "id": "b14d6eec-52d0-405c-96ea-ea9c8cd8c955",
   "metadata": {},
   "outputs": [
    {
     "data": {
      "text/plain": [
       "{436}"
      ]
     },
     "execution_count": 133,
     "metadata": {},
     "output_type": "execute_result"
    }
   ],
   "source": [
    "a"
   ]
  },
  {
   "cell_type": "code",
   "execution_count": 137,
   "id": "164687ae-ce6e-404f-8a3c-6fcdd760a16e",
   "metadata": {},
   "outputs": [
    {
     "data": {
      "text/plain": [
       "{'akhil', 'arun', 'mohan', 'sohan'}"
      ]
     },
     "execution_count": 137,
     "metadata": {},
     "output_type": "execute_result"
    }
   ],
   "source": [
    "bjp_members"
   ]
  },
  {
   "cell_type": "code",
   "execution_count": 139,
   "id": "138954c0-8b26-41ab-a6d7-9c0220ea82b9",
   "metadata": {},
   "outputs": [
    {
     "data": {
      "text/plain": [
       "{'arun', 'harry', 'karan', 'mohan'}"
      ]
     },
     "execution_count": 139,
     "metadata": {},
     "output_type": "execute_result"
    }
   ],
   "source": [
    "aap_members"
   ]
  },
  {
   "cell_type": "code",
   "execution_count": 141,
   "id": "c675119b-9c30-4e2b-8a3e-452223bfe518",
   "metadata": {},
   "outputs": [],
   "source": [
    "a = {2,4,436}\n",
    "b = {2,3,4,56,57}"
   ]
  },
  {
   "cell_type": "code",
   "execution_count": 143,
   "id": "5b5e8731-a9dc-4c88-999f-02a456eb7083",
   "metadata": {},
   "outputs": [],
   "source": [
    "# {436,3,56,57}"
   ]
  },
  {
   "cell_type": "code",
   "execution_count": 145,
   "id": "9d1e2961-7035-4e2c-8b72-c254d3a944eb",
   "metadata": {},
   "outputs": [
    {
     "data": {
      "text/plain": [
       "{3, 56, 57, 436}"
      ]
     },
     "execution_count": 145,
     "metadata": {},
     "output_type": "execute_result"
    }
   ],
   "source": [
    "a.symmetric_difference(b)"
   ]
  },
  {
   "cell_type": "code",
   "execution_count": 147,
   "id": "d16dd0de-5ee6-4514-985b-56ee0d6499bc",
   "metadata": {},
   "outputs": [],
   "source": [
    "b.symmetric_difference_update(a)"
   ]
  },
  {
   "cell_type": "code",
   "execution_count": 149,
   "id": "8915c8d0-18ab-41ab-8d8c-866bdee8e945",
   "metadata": {},
   "outputs": [
    {
     "data": {
      "text/plain": [
       "{3, 56, 57, 436}"
      ]
     },
     "execution_count": 149,
     "metadata": {},
     "output_type": "execute_result"
    }
   ],
   "source": [
    "b"
   ]
  },
  {
   "cell_type": "code",
   "execution_count": 151,
   "id": "028e9ca1-8294-4d63-9f17-34c1f2d05293",
   "metadata": {},
   "outputs": [
    {
     "name": "stdout",
     "output_type": "stream",
     "text": [
      "['add', 'clear', 'copy', 'difference', 'difference_update', 'discard', 'intersection', 'intersection_update', 'isdisjoint', 'issubset', 'issuperset', 'pop', 'remove', 'symmetric_difference', 'symmetric_difference_update', 'union', 'update']\n"
     ]
    }
   ],
   "source": [
    "print(all_methods)"
   ]
  },
  {
   "cell_type": "code",
   "execution_count": 153,
   "id": "7b9372aa-82db-4bcc-9675-02f1b55f48d7",
   "metadata": {},
   "outputs": [
    {
     "data": {
      "text/plain": [
       "{2, 4, 436}"
      ]
     },
     "execution_count": 153,
     "metadata": {},
     "output_type": "execute_result"
    }
   ],
   "source": [
    "a"
   ]
  },
  {
   "cell_type": "code",
   "execution_count": 157,
   "id": "058d5b8d-af09-4d41-b8cd-7d355dcf04f6",
   "metadata": {},
   "outputs": [
    {
     "data": {
      "text/plain": [
       "436"
      ]
     },
     "execution_count": 157,
     "metadata": {},
     "output_type": "execute_result"
    }
   ],
   "source": [
    "a.pop()"
   ]
  },
  {
   "cell_type": "code",
   "execution_count": 159,
   "id": "e2f3b828-15d9-454f-adbf-67c3e8e6c9c3",
   "metadata": {},
   "outputs": [
    {
     "data": {
      "text/plain": [
       "{4}"
      ]
     },
     "execution_count": 159,
     "metadata": {},
     "output_type": "execute_result"
    }
   ],
   "source": [
    "a"
   ]
  },
  {
   "cell_type": "code",
   "execution_count": 161,
   "id": "d312e017-7db3-4c09-b2f0-cc9d15313608",
   "metadata": {},
   "outputs": [],
   "source": [
    "a = {23,54,53,2546}"
   ]
  },
  {
   "cell_type": "code",
   "execution_count": 163,
   "id": "21761370-e166-472d-a1a5-79c37db93861",
   "metadata": {},
   "outputs": [
    {
     "data": {
      "text/plain": [
       "{23, 53, 54, 2546}"
      ]
     },
     "execution_count": 163,
     "metadata": {},
     "output_type": "execute_result"
    }
   ],
   "source": [
    "a"
   ]
  },
  {
   "cell_type": "code",
   "execution_count": 165,
   "id": "55088e6b-ab93-4c84-9b44-97c47afa2764",
   "metadata": {},
   "outputs": [
    {
     "data": {
      "text/plain": [
       "2546"
      ]
     },
     "execution_count": 165,
     "metadata": {},
     "output_type": "execute_result"
    }
   ],
   "source": [
    "a.pop()"
   ]
  },
  {
   "cell_type": "code",
   "execution_count": 167,
   "id": "43c187e6-0319-42f1-a0ec-2e741c908b99",
   "metadata": {},
   "outputs": [
    {
     "data": {
      "text/plain": [
       "{23, 53, 54}"
      ]
     },
     "execution_count": 167,
     "metadata": {},
     "output_type": "execute_result"
    }
   ],
   "source": [
    "a"
   ]
  },
  {
   "cell_type": "code",
   "execution_count": 169,
   "id": "3adbe54f-bd1b-4b5b-a4b9-2d55ad813d93",
   "metadata": {},
   "outputs": [
    {
     "data": {
      "text/plain": [
       "53"
      ]
     },
     "execution_count": 169,
     "metadata": {},
     "output_type": "execute_result"
    }
   ],
   "source": [
    "a.pop()"
   ]
  },
  {
   "cell_type": "code",
   "execution_count": 171,
   "id": "8de2c758-83a2-4085-934f-365520c4dc3e",
   "metadata": {},
   "outputs": [
    {
     "data": {
      "text/plain": [
       "{23, 54}"
      ]
     },
     "execution_count": 171,
     "metadata": {},
     "output_type": "execute_result"
    }
   ],
   "source": [
    "a"
   ]
  },
  {
   "cell_type": "code",
   "execution_count": 173,
   "id": "c2a353c3-fbec-48dc-8694-56eb256f2e5d",
   "metadata": {},
   "outputs": [
    {
     "ename": "TypeError",
     "evalue": "set.pop() takes no arguments (1 given)",
     "output_type": "error",
     "traceback": [
      "\u001b[1;31m---------------------------------------------------------------------------\u001b[0m",
      "\u001b[1;31mTypeError\u001b[0m                                 Traceback (most recent call last)",
      "Cell \u001b[1;32mIn[173], line 1\u001b[0m\n\u001b[1;32m----> 1\u001b[0m a\u001b[38;5;241m.\u001b[39mpop(\u001b[38;5;241m54\u001b[39m)\n",
      "\u001b[1;31mTypeError\u001b[0m: set.pop() takes no arguments (1 given)"
     ]
    }
   ],
   "source": [
    "a.pop(54)"
   ]
  },
  {
   "cell_type": "code",
   "execution_count": 175,
   "id": "a9569e2f-ea42-4b1b-a1c5-5dfc545af702",
   "metadata": {
    "scrolled": true
   },
   "outputs": [
    {
     "name": "stdout",
     "output_type": "stream",
     "text": [
      "['add', 'clear', 'copy', 'difference', 'difference_update', 'discard', 'intersection', 'intersection_update', 'isdisjoint', 'issubset', 'issuperset', 'pop', 'remove', 'symmetric_difference', 'symmetric_difference_update', 'union', 'update']\n"
     ]
    }
   ],
   "source": [
    "print(all_methods)"
   ]
  },
  {
   "cell_type": "code",
   "execution_count": 183,
   "id": "ee80c07e-0f9d-43f6-b32b-ee4412b2b41f",
   "metadata": {},
   "outputs": [],
   "source": [
    "a = {23,43,46,23,434,6}\n",
    "b = {3,46,5,35,456,564}"
   ]
  },
  {
   "cell_type": "code",
   "execution_count": 185,
   "id": "70203668-52ed-41de-9e8e-8c763704dc29",
   "metadata": {},
   "outputs": [
    {
     "data": {
      "text/plain": [
       "{46}"
      ]
     },
     "execution_count": 185,
     "metadata": {},
     "output_type": "execute_result"
    }
   ],
   "source": [
    "a & b"
   ]
  },
  {
   "cell_type": "code",
   "execution_count": 187,
   "id": "e4815153-8a2d-49b6-8e33-d28b20517024",
   "metadata": {},
   "outputs": [
    {
     "data": {
      "text/plain": [
       "False"
      ]
     },
     "execution_count": 187,
     "metadata": {},
     "output_type": "execute_result"
    }
   ],
   "source": [
    "a.isdisjoint(b)"
   ]
  },
  {
   "cell_type": "code",
   "execution_count": 197,
   "id": "0b8f2f9a-8129-4e04-955a-fedb3147dae2",
   "metadata": {},
   "outputs": [],
   "source": [
    "a = {2,3,53,342,5,6}\n",
    "b = {3,5,53,6}"
   ]
  },
  {
   "cell_type": "code",
   "execution_count": 199,
   "id": "64c3a811-6a18-4010-a5ea-3caa1b163804",
   "metadata": {},
   "outputs": [
    {
     "data": {
      "text/plain": [
       "True"
      ]
     },
     "execution_count": 199,
     "metadata": {},
     "output_type": "execute_result"
    }
   ],
   "source": [
    "a.issuperset(b)"
   ]
  },
  {
   "cell_type": "code",
   "execution_count": 201,
   "id": "6e6f8d29-be0a-4e2b-ba46-5ad1d34ccff5",
   "metadata": {},
   "outputs": [
    {
     "data": {
      "text/plain": [
       "True"
      ]
     },
     "execution_count": 201,
     "metadata": {},
     "output_type": "execute_result"
    }
   ],
   "source": [
    "b.issubset(a)"
   ]
  },
  {
   "cell_type": "code",
   "execution_count": 203,
   "id": "d643e375-3ef1-41d2-b4cb-62284a5c8464",
   "metadata": {},
   "outputs": [],
   "source": [
    "# india subset of asia\n",
    "# delhi subset india\n",
    "# up superset of Noida\n",
    "# asia subset of continents\n",
    "# continents subset of world\n",
    "# universe :- universal set"
   ]
  },
  {
   "cell_type": "code",
   "execution_count": null,
   "id": "37352b42-eb0c-4460-90b2-4005dcfa113f",
   "metadata": {},
   "outputs": [],
   "source": []
  },
  {
   "cell_type": "code",
   "execution_count": 208,
   "id": "36e9be10-e534-4b50-9907-5bf93eb3ac7f",
   "metadata": {},
   "outputs": [],
   "source": [
    "a = [2,34,432,43465]\n",
    "\n",
    "b = [45,6567,432,56756]"
   ]
  },
  {
   "cell_type": "code",
   "execution_count": 212,
   "id": "b31d86f0-54e9-4d7b-ad82-f0b1da11d75a",
   "metadata": {},
   "outputs": [
    {
     "ename": "TypeError",
     "evalue": "unsupported operand type(s) for &: 'list' and 'list'",
     "output_type": "error",
     "traceback": [
      "\u001b[1;31m---------------------------------------------------------------------------\u001b[0m",
      "\u001b[1;31mTypeError\u001b[0m                                 Traceback (most recent call last)",
      "Cell \u001b[1;32mIn[212], line 1\u001b[0m\n\u001b[1;32m----> 1\u001b[0m a \u001b[38;5;241m&\u001b[39m b\n",
      "\u001b[1;31mTypeError\u001b[0m: unsupported operand type(s) for &: 'list' and 'list'"
     ]
    }
   ],
   "source": [
    "a & b"
   ]
  },
  {
   "cell_type": "code",
   "execution_count": 210,
   "id": "5bd1c8f5-9fbf-433c-a3db-5c664d66a206",
   "metadata": {},
   "outputs": [
    {
     "data": {
      "text/plain": [
       "{432}"
      ]
     },
     "execution_count": 210,
     "metadata": {},
     "output_type": "execute_result"
    }
   ],
   "source": [
    "set(a) &  set(b)"
   ]
  },
  {
   "cell_type": "markdown",
   "id": "958484cb-1115-4836-862b-322c5d2196da",
   "metadata": {},
   "source": [
    "# Conditional Programming"
   ]
  },
  {
   "cell_type": "code",
   "execution_count": 215,
   "id": "3babe983-3da3-4333-ac8b-1304528a6de1",
   "metadata": {},
   "outputs": [],
   "source": [
    "# if else elif, Flow control, for loop, while lopp, break, continue, pass"
   ]
  },
  {
   "cell_type": "code",
   "execution_count": 217,
   "id": "b3789164-ed77-4815-a183-91fd3ad1d6af",
   "metadata": {},
   "outputs": [],
   "source": [
    "age = 23"
   ]
  },
  {
   "cell_type": "markdown",
   "id": "47d25756-fc6d-41af-8196-36d6352a9f4a",
   "metadata": {},
   "source": [
    "```python\n",
    "if condition/conditions:\n",
    "    #Indentation\n",
    "    if ka code, if ke sahi hone par\n",
    "    #...\n",
    "\n",
    "else:\n",
    "    else ka code block\n",
    "    ...\n",
    "    ...\n",
    "    # ...\n",
    "```"
   ]
  },
  {
   "cell_type": "markdown",
   "id": "9234743f-a5b9-4f69-98f7-ecc5880a86bb",
   "metadata": {},
   "source": []
  },
  {
   "cell_type": "code",
   "execution_count": 231,
   "id": "f372af30-0882-4c1c-8bf1-c7b107fa248d",
   "metadata": {},
   "outputs": [
    {
     "name": "stdout",
     "output_type": "stream",
     "text": [
      "You can Not Vote!!\n"
     ]
    }
   ],
   "source": [
    "age = 3\n",
    "\n",
    "if age>=18:\n",
    "    print('You are allowed for vote!!')\n",
    "    \n",
    "else:\n",
    "    print('You can Not Vote!!')"
   ]
  },
  {
   "cell_type": "code",
   "execution_count": null,
   "id": "12aa9bbb-422f-460a-aa4a-58c8e31dca9a",
   "metadata": {},
   "outputs": [],
   "source": []
  },
  {
   "cell_type": "code",
   "execution_count": null,
   "id": "034dad22-05b0-4461-9a95-29030cd654d6",
   "metadata": {},
   "outputs": [],
   "source": []
  },
  {
   "cell_type": "code",
   "execution_count": 239,
   "id": "007c8689-f6fc-447d-baa6-537713f09dc0",
   "metadata": {},
   "outputs": [
    {
     "name": "stdin",
     "output_type": "stream",
     "text": [
      "Enter Your Age:  17\n"
     ]
    },
    {
     "name": "stdout",
     "output_type": "stream",
     "text": [
      "You can Not Vote!!\n"
     ]
    }
   ],
   "source": [
    "age = int(input('Enter Your Age: '))\n",
    "\n",
    "if age>=18:\n",
    "    print('You are allowed for vote!!')\n",
    "    \n",
    "else:\n",
    "    print('You can Not Vote!!')"
   ]
  },
  {
   "cell_type": "code",
   "execution_count": 245,
   "id": "837bc39d-37a8-4f3b-ae30-11812f8a20f7",
   "metadata": {},
   "outputs": [
    {
     "name": "stdout",
     "output_type": "stream",
     "text": [
      "Number1 is Greater than Number2\n"
     ]
    }
   ],
   "source": [
    "num1 = 345\n",
    "num2 = 45\n",
    "\n",
    "if num1 > num2:\n",
    "    print('Number1 is Greater than Number2')\n",
    "else:\n",
    "    print('Number 2 is Greater than Number1')"
   ]
  },
  {
   "cell_type": "code",
   "execution_count": null,
   "id": "0f5c57f6-a9e2-4ec2-ad32-4ad3b9f4842d",
   "metadata": {},
   "outputs": [],
   "source": []
  },
  {
   "cell_type": "code",
   "execution_count": 275,
   "id": "9b503139-bb3c-42c6-aa36-c5e9d66dafc5",
   "metadata": {},
   "outputs": [],
   "source": [
    "students = ['Mohan','Sohan','Ravi','Rahul','Amit']"
   ]
  },
  {
   "cell_type": "code",
   "execution_count": 293,
   "id": "e764a477-6427-4ff8-b483-cbc8b858d091",
   "metadata": {},
   "outputs": [
    {
     "name": "stdin",
     "output_type": "stream",
     "text": [
      "Enter your Name:  verma sahab\n"
     ]
    },
    {
     "name": "stdout",
     "output_type": "stream",
     "text": [
      "You are Added Successfully!!\n"
     ]
    }
   ],
   "source": [
    "new_stud = input('Enter your Name: ').title()\n",
    "\n",
    "if new_stud in students:\n",
    "    print('Your Name Already Exists!!')\n",
    "else:\n",
    "    print('You are Added Successfully!!')\n",
    "    students.append(new_stud)"
   ]
  },
  {
   "cell_type": "code",
   "execution_count": 297,
   "id": "f5284e71-72dd-4d63-81f1-2631353112fb",
   "metadata": {},
   "outputs": [
    {
     "name": "stdout",
     "output_type": "stream",
     "text": [
      "['Mohan', 'Sohan', 'Ravi', 'Rahul', 'Amit', 'Akshay Khanna', 'Naman Vermna', 'Jatin', 'Karan', 'Verma Sahab']\n"
     ]
    }
   ],
   "source": [
    "print(students)"
   ]
  },
  {
   "cell_type": "code",
   "execution_count": null,
   "id": "598fd555-5e97-49c9-8997-e6e703322d1c",
   "metadata": {},
   "outputs": [],
   "source": []
  },
  {
   "cell_type": "code",
   "execution_count": null,
   "id": "3cabb2b6-627c-4c95-ab22-cc9b63de170d",
   "metadata": {},
   "outputs": [],
   "source": []
  },
  {
   "cell_type": "code",
   "execution_count": 301,
   "id": "01b31940-c817-4ba9-8f36-fd09bed25f0d",
   "metadata": {},
   "outputs": [],
   "source": [
    "# Multiple Conditions check"
   ]
  },
  {
   "cell_type": "code",
   "execution_count": 303,
   "id": "65c1d16f-8e77-4053-b37c-458e4cea35cf",
   "metadata": {},
   "outputs": [],
   "source": [
    "# if else, elif"
   ]
  },
  {
   "cell_type": "code",
   "execution_count": 317,
   "id": "a49a920a-eacc-467b-a069-6dfa40cb0674",
   "metadata": {},
   "outputs": [
    {
     "name": "stdout",
     "output_type": "stream",
     "text": [
      "Number is not Divisible\n"
     ]
    }
   ],
   "source": [
    "number = 38767478263745735468238746387465\n",
    "div = 7\n",
    "\n",
    "if (number % div) == 0:\n",
    "    print('Number is Divisible')\n",
    "else:\n",
    "    print('Number is not Divisible')"
   ]
  },
  {
   "cell_type": "code",
   "execution_count": 343,
   "id": "12e654f5-62e7-430f-ad80-6377390e5627",
   "metadata": {},
   "outputs": [
    {
     "name": "stdout",
     "output_type": "stream",
     "text": [
      "21 is Divisible by 7\n"
     ]
    }
   ],
   "source": [
    "number = 21\n",
    "div = 7\n",
    "\n",
    "if (number % div) == 0:\n",
    "    print(f'{number} is Divisible by {div}')\n",
    "else:\n",
    "    print(f'{number} is not Divisible by {div}')"
   ]
  },
  {
   "cell_type": "code",
   "execution_count": null,
   "id": "eb5dd782-35ee-4972-b328-c972915a2e16",
   "metadata": {},
   "outputs": [],
   "source": []
  },
  {
   "cell_type": "code",
   "execution_count": 350,
   "id": "412d6554-dd78-40dc-ac76-770b51d8af78",
   "metadata": {},
   "outputs": [
    {
     "name": "stdin",
     "output_type": "stream",
     "text": [
      "Enter your Name:  Jatin\n",
      "Create your User name:  j@gmail.in\n",
      "Create your Password:  1234\n"
     ]
    },
    {
     "name": "stdout",
     "output_type": "stream",
     "text": [
      "Account Created Successfully✅✅\n",
      "\n"
     ]
    },
    {
     "name": "stdin",
     "output_type": "stream",
     "text": [
      "Enter your user ID:  j@gmail.in\n",
      "Enter your Password:  12345\n"
     ]
    },
    {
     "name": "stdout",
     "output_type": "stream",
     "text": [
      "Incorrect Id or Password🤣❌\n"
     ]
    }
   ],
   "source": [
    "name = input('Enter your Name: ')\n",
    "user_id = input('Create your User name: ')\n",
    "pwd = input('Create your Password: ')\n",
    "\n",
    "print('Account Created Successfully✅✅')\n",
    "print()\n",
    "uid_inp = input('Enter your user ID: ')\n",
    "pwd_inp = input('Enter your Password: ')\n",
    "\n",
    "if (uid_inp == user_id) and (pwd_inp == pwd):\n",
    "    print(f'Hello {name}, Welcome to Future!!')\n",
    "\n",
    "else:\n",
    "    print('Incorrect Id or Password🤣❌')"
   ]
  },
  {
   "cell_type": "code",
   "execution_count": null,
   "id": "9d47d386-4582-4731-9980-dabc455c793c",
   "metadata": {},
   "outputs": [],
   "source": []
  },
  {
   "cell_type": "code",
   "execution_count": 372,
   "id": "f3be22b0-5d79-4012-a835-579c67e2fd17",
   "metadata": {},
   "outputs": [],
   "source": [
    "n1 = 3455\n",
    "n2 = 456\n",
    "n3 = 567"
   ]
  },
  {
   "cell_type": "code",
   "execution_count": 374,
   "id": "8e8fd2b7-a35b-4668-9931-0b5d71967cb2",
   "metadata": {},
   "outputs": [
    {
     "name": "stdout",
     "output_type": "stream",
     "text": [
      "Number N1 3455 is greatest amongst all\n",
      "Some values are same!!\n"
     ]
    }
   ],
   "source": [
    "if (n1>n2) and (n1>n3):\n",
    "    print(f'Number N1 {n1} is greatest amongst all')\n",
    "    \n",
    "if (n2>n1) and (n2>n3):\n",
    "    print(f'Number N2 {n2} is greatest amongst all')\n",
    "\n",
    "if (n3>n1) and (n3>n2):\n",
    "    print(f'Number N3 {n3} is greatest amongst all')\n",
    "\n",
    "else:\n",
    "    print('Some values are same!!')"
   ]
  },
  {
   "cell_type": "code",
   "execution_count": null,
   "id": "516fd41e-eeae-4c52-99b6-174ec12ff3a2",
   "metadata": {},
   "outputs": [],
   "source": []
  },
  {
   "cell_type": "code",
   "execution_count": null,
   "id": "73c385d2-897e-4d9f-b8f2-788dd54a6284",
   "metadata": {},
   "outputs": [],
   "source": []
  },
  {
   "cell_type": "code",
   "execution_count": null,
   "id": "00c57e75-b166-4c64-8d98-4f0324dc6c82",
   "metadata": {},
   "outputs": [],
   "source": []
  },
  {
   "cell_type": "code",
   "execution_count": null,
   "id": "53022baf-1ad1-4e09-9f6e-ac46b5bb5c65",
   "metadata": {},
   "outputs": [],
   "source": []
  },
  {
   "cell_type": "code",
   "execution_count": 417,
   "id": "756e63b3-1529-4254-92a4-7696cc94e90b",
   "metadata": {},
   "outputs": [],
   "source": [
    "n1 = 567\n",
    "n2 = 567\n",
    "n3 = 5"
   ]
  },
  {
   "cell_type": "code",
   "execution_count": 419,
   "id": "33b1887d-0bd1-49ba-9b77-bce32acda6aa",
   "metadata": {},
   "outputs": [
    {
     "name": "stdout",
     "output_type": "stream",
     "text": [
      "Some values are same!!\n"
     ]
    }
   ],
   "source": [
    "if (n1>n2) and (n1>n3):\n",
    "    print(f'Number N1 {n1} is greatest amongst all')\n",
    "    \n",
    "elif (n2>n1) and (n2>n3):\n",
    "    print(f'Number N2 {n2} is greatest amongst all')\n",
    "\n",
    "elif (n3>n1) and (n3>n2):\n",
    "    print(f'Number N3 {n3} is greatest amongst all')\n",
    "\n",
    "else:\n",
    "    print('Some values are same!!')"
   ]
  },
  {
   "cell_type": "code",
   "execution_count": null,
   "id": "b80f9118-3ee6-4a31-a969-8b8ab0bd33f0",
   "metadata": {},
   "outputs": [],
   "source": []
  },
  {
   "cell_type": "code",
   "execution_count": null,
   "id": "e4846a7e-7df4-4c92-8cc8-37921e269fcf",
   "metadata": {},
   "outputs": [],
   "source": []
  },
  {
   "cell_type": "code",
   "execution_count": 433,
   "id": "c2aa9be7-1f74-4987-950e-70ec265621de",
   "metadata": {},
   "outputs": [
    {
     "name": "stdout",
     "output_type": "stream",
     "text": [
      "0.0\n",
      "You are Fail!!\n"
     ]
    }
   ],
   "source": [
    "maths = 0\n",
    "english = 0\n",
    "sst = 0\n",
    "\n",
    "marks_obtained = maths + english + sst\n",
    "\n",
    "total_marks = 300\n",
    "\n",
    "percentage = round((marks_obtained/total_marks)*100,2)\n",
    "\n",
    "print(percentage)\n",
    "\n",
    "\n",
    "if percentage >=90 :\n",
    "    print('You have scored A+ Grade')\n",
    "\n",
    "elif percentage>= 80:\n",
    "    print('You have scored A Grade')\n",
    "\n",
    "elif percentage>= 70:\n",
    "    print('You have scored B+ Grade')\n",
    "\n",
    "elif percentage>= 60:\n",
    "    print('You have scored B Grade')\n",
    "\n",
    "elif percentage>= 50:\n",
    "    print('You have scored C Grade')\n",
    "\n",
    "elif percentage>= 40:\n",
    "    print('You have scored D Grade')\n",
    "\n",
    "elif percentage>= 33:\n",
    "    print('You have scored E Grade')\n",
    "    \n",
    "else:\n",
    "    print('You are Fail!!')"
   ]
  },
  {
   "cell_type": "code",
   "execution_count": null,
   "id": "2a5d4d26-3455-44d9-9812-f3fa8bdd9873",
   "metadata": {},
   "outputs": [],
   "source": []
  }
 ],
 "metadata": {
  "kernelspec": {
   "display_name": "Python [conda env:base] *",
   "language": "python",
   "name": "conda-base-py"
  },
  "language_info": {
   "codemirror_mode": {
    "name": "ipython",
    "version": 3
   },
   "file_extension": ".py",
   "mimetype": "text/x-python",
   "name": "python",
   "nbconvert_exporter": "python",
   "pygments_lexer": "ipython3",
   "version": "3.12.7"
  }
 },
 "nbformat": 4,
 "nbformat_minor": 5
}
