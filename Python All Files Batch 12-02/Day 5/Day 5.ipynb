{
 "cells": [
  {
   "cell_type": "markdown",
   "id": "3aabca7e-3cb1-460f-a4a6-32ec46d29e1d",
   "metadata": {},
   "source": [
    "# String Data Type"
   ]
  },
  {
   "cell_type": "code",
   "execution_count": 4,
   "id": "eb867c77-e868-47b0-84b5-b11191be5fde",
   "metadata": {},
   "outputs": [],
   "source": [
    "# # single "
   ]
  },
  {
   "cell_type": "code",
   "execution_count": 6,
   "id": "f1ae332e-bf92-4406-8277-0330fe87f8a2",
   "metadata": {},
   "outputs": [
    {
     "name": "stdout",
     "output_type": "stream",
     "text": [
      "naman\n"
     ]
    }
   ],
   "source": [
    "a = 'naman'\n",
    "print(a)"
   ]
  },
  {
   "cell_type": "code",
   "execution_count": 10,
   "id": "34128a84-497a-44e5-b76d-b4e579be471b",
   "metadata": {},
   "outputs": [
    {
     "name": "stdout",
     "output_type": "stream",
     "text": [
      "This is python's Notebook\n"
     ]
    }
   ],
   "source": [
    "# double quote\n",
    "d = \"This is python's Notebook\"\n",
    "print(d)"
   ]
  },
  {
   "cell_type": "code",
   "execution_count": 12,
   "id": "345494b2-5bcb-469d-856e-32e6169c8445",
   "metadata": {},
   "outputs": [],
   "source": [
    "# triple quotes"
   ]
  },
  {
   "cell_type": "code",
   "execution_count": 16,
   "id": "58cace8c-e594-4f81-842e-7cce5788c63d",
   "metadata": {},
   "outputs": [
    {
     "name": "stdout",
     "output_type": "stream",
     "text": [
      "Twinkle, twinkle, little star,How I wonder what you are!Up above the world so high\n"
     ]
    }
   ],
   "source": [
    "poem = 'Twinkle, twinkle, little star,\\\n",
    "How I wonder what you are!\\\n",
    "Up above the world so high'\n",
    "\n",
    "print(poem)"
   ]
  },
  {
   "cell_type": "code",
   "execution_count": 18,
   "id": "c1223fca-d0c5-4e73-a4e4-5dabca10f9f9",
   "metadata": {},
   "outputs": [],
   "source": [
    "poem = '''Twinkle, twinkle, little star,\n",
    "How I wonder what you are!\n",
    "Up above the world so high,\n",
    "Like a diamond in the sky.\n",
    "\n",
    "When the blazing sun is gone,\n",
    "When he nothing shines upon,\n",
    "Then you show your little light,\n",
    "Twinkle, twinkle, all the night.\n",
    "\n",
    "Then the trav'ller in the dark,\n",
    "Thanks you for your tiny spark,\n",
    "He could not see which way to go,\n",
    "If you did not twinkle so.'''"
   ]
  },
  {
   "cell_type": "code",
   "execution_count": 22,
   "id": "480ea040-da0f-4967-9b82-254b9865988e",
   "metadata": {},
   "outputs": [
    {
     "name": "stdout",
     "output_type": "stream",
     "text": [
      "Twinkle, twinkle, little star,\n",
      "How I wonder what you are!\n",
      "Up above the world so high,\n",
      "Like a diamond in the sky.\n",
      "\n",
      "When the blazing sun is gone,\n",
      "When he nothing shines upon,\n",
      "Then you show your little light,\n",
      "Twinkle, twinkle, all the night.\n",
      "\n",
      "Then the trav'ller in the dark,\n",
      "Thanks you for your tiny spark,\n",
      "He could not see which way to go,\n",
      "If you did not twinkle so.\n"
     ]
    }
   ],
   "source": [
    "print(poem)"
   ]
  },
  {
   "cell_type": "code",
   "execution_count": 24,
   "id": "b2aee32d-1f0a-46ab-9d27-5cf67cd93514",
   "metadata": {},
   "outputs": [],
   "source": [
    "poem_2 = \"\"\"Twinkle, twinkle, little star,\n",
    "How I wonder what you are!\n",
    "Up above the world so high,\n",
    "Like a diamond in the sky.\n",
    "\n",
    "When the blazing sun is gone,\n",
    "When he nothing shines upon,\n",
    "Then you show your little light,\n",
    "Twinkle, twinkle, all the night.\n",
    "\n",
    "Then the trav'ller in the dark,\n",
    "Thanks you for your tiny spark,\n",
    "He could not see which way to go,\n",
    "If you did not twinkle so.\"\"\""
   ]
  },
  {
   "cell_type": "code",
   "execution_count": 26,
   "id": "384db0ad-b68e-48c6-ae26-9fa2915cb914",
   "metadata": {},
   "outputs": [
    {
     "name": "stdout",
     "output_type": "stream",
     "text": [
      "Twinkle, twinkle, little star,\n",
      "How I wonder what you are!\n",
      "Up above the world so high,\n",
      "Like a diamond in the sky.\n",
      "\n",
      "When the blazing sun is gone,\n",
      "When he nothing shines upon,\n",
      "Then you show your little light,\n",
      "Twinkle, twinkle, all the night.\n",
      "\n",
      "Then the trav'ller in the dark,\n",
      "Thanks you for your tiny spark,\n",
      "He could not see which way to go,\n",
      "If you did not twinkle so.\n"
     ]
    }
   ],
   "source": [
    "print(poem_2)"
   ]
  },
  {
   "cell_type": "code",
   "execution_count": 38,
   "id": "13fb2b3e-d7cc-479f-a3af-a13f9732f0d9",
   "metadata": {},
   "outputs": [],
   "source": [
    "# single variable multiple values"
   ]
  },
  {
   "cell_type": "code",
   "execution_count": 40,
   "id": "7e02e103-ec94-46d2-8c7f-7310e95a5e25",
   "metadata": {},
   "outputs": [
    {
     "name": "stdout",
     "output_type": "stream",
     "text": [
      "('karan', 'nayan', 'harry')\n"
     ]
    }
   ],
   "source": [
    "a = 'karan','nayan','harry'\n",
    "\n",
    "print(a)"
   ]
  },
  {
   "cell_type": "code",
   "execution_count": 46,
   "id": "e2ad46e7-0465-4180-a6ab-b7c2ba88a0eb",
   "metadata": {},
   "outputs": [],
   "source": [
    "# multiple variable multiple values\n",
    "# unpacking"
   ]
  },
  {
   "cell_type": "code",
   "execution_count": 48,
   "id": "950e5f74-82f7-4297-af08-fdd3abbf4605",
   "metadata": {},
   "outputs": [],
   "source": [
    "a,b,c = 'naman','karan','ravi'"
   ]
  },
  {
   "cell_type": "code",
   "execution_count": 50,
   "id": "bbb58725-c2d1-4424-b009-75707eeee7db",
   "metadata": {},
   "outputs": [
    {
     "data": {
      "text/plain": [
       "'naman'"
      ]
     },
     "execution_count": 50,
     "metadata": {},
     "output_type": "execute_result"
    }
   ],
   "source": [
    "a"
   ]
  },
  {
   "cell_type": "code",
   "execution_count": 52,
   "id": "1a94daa4-debc-4355-9b5d-e617bea9b4b8",
   "metadata": {},
   "outputs": [
    {
     "data": {
      "text/plain": [
       "'karan'"
      ]
     },
     "execution_count": 52,
     "metadata": {},
     "output_type": "execute_result"
    }
   ],
   "source": [
    "b"
   ]
  },
  {
   "cell_type": "code",
   "execution_count": 54,
   "id": "2e98808b-bda0-49a4-b8c5-aa3406dfe92e",
   "metadata": {},
   "outputs": [
    {
     "data": {
      "text/plain": [
       "'ravi'"
      ]
     },
     "execution_count": 54,
     "metadata": {},
     "output_type": "execute_result"
    }
   ],
   "source": [
    "c"
   ]
  },
  {
   "cell_type": "code",
   "execution_count": 56,
   "id": "5aa78da5-cc34-4886-ade4-ee3371bc1652",
   "metadata": {},
   "outputs": [],
   "source": [
    "a,b,c,d,e = 'naman'"
   ]
  },
  {
   "cell_type": "code",
   "execution_count": 58,
   "id": "ff138619-8809-4245-935c-42f826008b48",
   "metadata": {},
   "outputs": [
    {
     "data": {
      "text/plain": [
       "'n'"
      ]
     },
     "execution_count": 58,
     "metadata": {},
     "output_type": "execute_result"
    }
   ],
   "source": [
    "a"
   ]
  },
  {
   "cell_type": "code",
   "execution_count": 60,
   "id": "581ccb52-14f2-4da4-9829-20641e1e3e2f",
   "metadata": {},
   "outputs": [
    {
     "data": {
      "text/plain": [
       "'a'"
      ]
     },
     "execution_count": 60,
     "metadata": {},
     "output_type": "execute_result"
    }
   ],
   "source": [
    "b"
   ]
  },
  {
   "cell_type": "code",
   "execution_count": 62,
   "id": "fdecd552-c5db-4c0b-a9ee-c11b8bb994ba",
   "metadata": {},
   "outputs": [
    {
     "data": {
      "text/plain": [
       "'m'"
      ]
     },
     "execution_count": 62,
     "metadata": {},
     "output_type": "execute_result"
    }
   ],
   "source": [
    "c"
   ]
  },
  {
   "cell_type": "code",
   "execution_count": 68,
   "id": "b9040009-1a7b-4762-a5bb-62751260563d",
   "metadata": {},
   "outputs": [
    {
     "ename": "ValueError",
     "evalue": "too many values to unpack (expected 4)",
     "output_type": "error",
     "traceback": [
      "\u001b[1;31m---------------------------------------------------------------------------\u001b[0m",
      "\u001b[1;31mValueError\u001b[0m                                Traceback (most recent call last)",
      "Cell \u001b[1;32mIn[68], line 1\u001b[0m\n\u001b[1;32m----> 1\u001b[0m a,b,c,d \u001b[38;5;241m=\u001b[39m \u001b[38;5;124m'\u001b[39m\u001b[38;5;124mnaman\u001b[39m\u001b[38;5;124m'\u001b[39m\n",
      "\u001b[1;31mValueError\u001b[0m: too many values to unpack (expected 4)"
     ]
    }
   ],
   "source": [
    "a,b,c,d = 'naman'"
   ]
  },
  {
   "cell_type": "code",
   "execution_count": 70,
   "id": "2f821aaf-d40d-45c8-a72f-324d29a2f610",
   "metadata": {},
   "outputs": [],
   "source": [
    "a,b,c = 'naman','karan','ravi'"
   ]
  },
  {
   "cell_type": "code",
   "execution_count": 72,
   "id": "af135213-d588-4402-baa9-d25b714b2613",
   "metadata": {},
   "outputs": [
    {
     "name": "stdout",
     "output_type": "stream",
     "text": [
      "naman\n"
     ]
    }
   ],
   "source": [
    "print(a)"
   ]
  },
  {
   "cell_type": "code",
   "execution_count": 74,
   "id": "2a3da8ec-3a25-47ba-bccf-d9b4907bd404",
   "metadata": {},
   "outputs": [
    {
     "name": "stdout",
     "output_type": "stream",
     "text": [
      "karan\n"
     ]
    }
   ],
   "source": [
    "print(b)"
   ]
  },
  {
   "cell_type": "code",
   "execution_count": 76,
   "id": "5cbbf552-5cc6-433b-b26a-64a2a739d978",
   "metadata": {},
   "outputs": [
    {
     "name": "stdout",
     "output_type": "stream",
     "text": [
      "ravi\n"
     ]
    }
   ],
   "source": [
    "print(c)"
   ]
  },
  {
   "cell_type": "code",
   "execution_count": 78,
   "id": "2b8690a9-3d86-42a1-bcc6-82bb71f90721",
   "metadata": {},
   "outputs": [
    {
     "name": "stdout",
     "output_type": "stream",
     "text": [
      "naman karan ravi\n"
     ]
    }
   ],
   "source": [
    "print(a,b,c)"
   ]
  },
  {
   "cell_type": "code",
   "execution_count": 80,
   "id": "196198a2-2387-43c7-a8f3-a68d17ba993d",
   "metadata": {},
   "outputs": [],
   "source": [
    "a,b,c = 1,2,3"
   ]
  },
  {
   "cell_type": "code",
   "execution_count": 82,
   "id": "a8d7eff4-2b5a-4162-97eb-5b72a2dcd6b3",
   "metadata": {},
   "outputs": [
    {
     "name": "stdout",
     "output_type": "stream",
     "text": [
      "3\n"
     ]
    }
   ],
   "source": [
    "print(c)"
   ]
  },
  {
   "cell_type": "code",
   "execution_count": 84,
   "id": "dcb70467-f834-4950-bfec-17f7c923cc71",
   "metadata": {},
   "outputs": [],
   "source": [
    "# Multiple statements in one line"
   ]
  },
  {
   "cell_type": "code",
   "execution_count": 86,
   "id": "d0460d9f-62a4-4ab6-bc12-ea669d444854",
   "metadata": {},
   "outputs": [],
   "source": [
    "a = 'naman'\n",
    "b = 'karan'\n",
    "c = 'ravi'"
   ]
  },
  {
   "cell_type": "code",
   "execution_count": 88,
   "id": "894f92fe-4265-4bf2-ba7a-873651d6450c",
   "metadata": {},
   "outputs": [],
   "source": [
    "a,b,c = 'naman','karan','ravi'"
   ]
  },
  {
   "cell_type": "code",
   "execution_count": 94,
   "id": "b75fab72-f6fb-4f5e-a4f6-902c4d91bd65",
   "metadata": {},
   "outputs": [],
   "source": [
    "a = 'naman'; b = 'mr karan'; c = 'ravi'"
   ]
  },
  {
   "cell_type": "code",
   "execution_count": 96,
   "id": "b81eccd9-906c-4ff4-93fc-63c08cfc97c1",
   "metadata": {},
   "outputs": [
    {
     "name": "stdout",
     "output_type": "stream",
     "text": [
      "mr karan\n"
     ]
    }
   ],
   "source": [
    "print(b)"
   ]
  },
  {
   "cell_type": "code",
   "execution_count": 108,
   "id": "dd1cf753-1e30-4ce2-a2c6-43c68ad8d491",
   "metadata": {},
   "outputs": [],
   "source": [
    "a = 23 + 345 - 345 * 34  - \\\n",
    "90"
   ]
  },
  {
   "cell_type": "code",
   "execution_count": 110,
   "id": "f66c119d-bffa-4087-9aa9-f05e038afa32",
   "metadata": {},
   "outputs": [
    {
     "name": "stdout",
     "output_type": "stream",
     "text": [
      "-11452\n"
     ]
    }
   ],
   "source": [
    "print(a)"
   ]
  },
  {
   "cell_type": "code",
   "execution_count": 114,
   "id": "35f38440-d42e-48d0-8c8a-4a8ca7b0bf56",
   "metadata": {},
   "outputs": [],
   "source": [
    "b = (23 + 345 - 345 * 34  - \n",
    "90)"
   ]
  },
  {
   "cell_type": "code",
   "execution_count": 116,
   "id": "3e10b8cd-9a1b-49ab-91cf-0940bdd0b2b3",
   "metadata": {},
   "outputs": [
    {
     "name": "stdout",
     "output_type": "stream",
     "text": [
      "-11452\n"
     ]
    }
   ],
   "source": [
    "print(b)"
   ]
  },
  {
   "cell_type": "code",
   "execution_count": null,
   "id": "9b6f9b62-77b8-4755-b603-25520dea96a7",
   "metadata": {},
   "outputs": [],
   "source": []
  },
  {
   "cell_type": "code",
   "execution_count": 119,
   "id": "ca13fba7-fd59-4b23-b6e0-68a56b8b11b9",
   "metadata": {},
   "outputs": [],
   "source": [
    "# # String:-\n",
    "# data Type\n",
    "# function"
   ]
  },
  {
   "cell_type": "code",
   "execution_count": 121,
   "id": "9bbcebfc-01d4-4bf4-98bb-81a05981ddc5",
   "metadata": {},
   "outputs": [],
   "source": [
    "a = 'karan'"
   ]
  },
  {
   "cell_type": "code",
   "execution_count": 125,
   "id": "93559a46-454d-4645-93bf-aca3851b2d76",
   "metadata": {},
   "outputs": [],
   "source": [
    "# string is an immutable data type\n",
    "# jo value likh di wo change nahi ho sakti"
   ]
  },
  {
   "cell_type": "code",
   "execution_count": 127,
   "id": "50253f10-d96e-463b-9f6c-47d7e6b0c7df",
   "metadata": {},
   "outputs": [],
   "source": [
    "# indexing"
   ]
  },
  {
   "cell_type": "code",
   "execution_count": 129,
   "id": "4ead9490-b47a-45f2-b1f1-d3ffac2a8b76",
   "metadata": {},
   "outputs": [],
   "source": [
    "# GRASTECH\n",
    "# pg:- index:- 0"
   ]
  },
  {
   "cell_type": "code",
   "execution_count": 135,
   "id": "ed818ff2-c801-45b0-a5dd-2a495f423cbc",
   "metadata": {},
   "outputs": [],
   "source": [
    "other = 'grastech'\n",
    "       # 01234567"
   ]
  },
  {
   "cell_type": "code",
   "execution_count": 137,
   "id": "9ec82464-839c-46ba-8919-8ad70caca346",
   "metadata": {},
   "outputs": [
    {
     "data": {
      "text/plain": [
       "'s'"
      ]
     },
     "execution_count": 137,
     "metadata": {},
     "output_type": "execute_result"
    }
   ],
   "source": [
    "other[3]"
   ]
  },
  {
   "cell_type": "code",
   "execution_count": 139,
   "id": "31aeb3a4-4c08-40ff-a1c5-b8ed5f49aadc",
   "metadata": {},
   "outputs": [
    {
     "data": {
      "text/plain": [
       "'c'"
      ]
     },
     "execution_count": 139,
     "metadata": {},
     "output_type": "execute_result"
    }
   ],
   "source": [
    "other[6]"
   ]
  },
  {
   "cell_type": "code",
   "execution_count": 141,
   "id": "636ed105-1251-4e51-be97-091c90b08b11",
   "metadata": {},
   "outputs": [
    {
     "data": {
      "text/plain": [
       "'h'"
      ]
     },
     "execution_count": 141,
     "metadata": {},
     "output_type": "execute_result"
    }
   ],
   "source": [
    "other[7]"
   ]
  },
  {
   "cell_type": "code",
   "execution_count": 143,
   "id": "d76a3dcf-ee76-4289-be1d-ba9f031b9f06",
   "metadata": {},
   "outputs": [],
   "source": [
    "full_address = 'Noida waale kanpur waale bhaiya'"
   ]
  },
  {
   "cell_type": "code",
   "execution_count": 145,
   "id": "46ce7b8c-1185-413e-bc8c-7611a573e2f7",
   "metadata": {},
   "outputs": [],
   "source": [
    "# indexing"
   ]
  },
  {
   "cell_type": "code",
   "execution_count": 147,
   "id": "6e7c2fe7-d072-4632-ab63-160f1ce29a3e",
   "metadata": {},
   "outputs": [],
   "source": [
    "# +ve\n",
    "# -ve"
   ]
  },
  {
   "cell_type": "code",
   "execution_count": 155,
   "id": "ac345500-1b4f-448c-bd5f-fb02c4b83b60",
   "metadata": {},
   "outputs": [],
   "source": [
    "name = 'naman'\n",
    "        # 01234\n",
    "\n",
    "    # -5-4-3-2-1"
   ]
  },
  {
   "cell_type": "code",
   "execution_count": 153,
   "id": "d6b7f99c-8d19-4053-b273-2d4b845d296a",
   "metadata": {},
   "outputs": [
    {
     "data": {
      "text/plain": [
       "'i'"
      ]
     },
     "execution_count": 153,
     "metadata": {},
     "output_type": "execute_result"
    }
   ],
   "source": [
    "full_address[-3]"
   ]
  },
  {
   "cell_type": "code",
   "execution_count": 157,
   "id": "cd9a74c5-93f0-4cea-a0e8-6eaae825e436",
   "metadata": {},
   "outputs": [
    {
     "data": {
      "text/plain": [
       "'m'"
      ]
     },
     "execution_count": 157,
     "metadata": {},
     "output_type": "execute_result"
    }
   ],
   "source": [
    "name[2]"
   ]
  },
  {
   "cell_type": "code",
   "execution_count": 159,
   "id": "530d8825-1caa-450d-a668-9aad65cd039b",
   "metadata": {},
   "outputs": [
    {
     "data": {
      "text/plain": [
       "'m'"
      ]
     },
     "execution_count": 159,
     "metadata": {},
     "output_type": "execute_result"
    }
   ],
   "source": [
    "name[-3]"
   ]
  },
  {
   "cell_type": "code",
   "execution_count": 161,
   "id": "3372a2c3-106d-4e35-9061-3ed530dcc236",
   "metadata": {},
   "outputs": [
    {
     "data": {
      "text/plain": [
       "True"
      ]
     },
     "execution_count": 161,
     "metadata": {},
     "output_type": "execute_result"
    }
   ],
   "source": [
    "name[2] == name[-3]"
   ]
  },
  {
   "cell_type": "code",
   "execution_count": 163,
   "id": "fd242d63-b7c8-44f6-b646-36f0a1077803",
   "metadata": {},
   "outputs": [],
   "source": [
    "# slicing;- ek se jayada"
   ]
  },
  {
   "cell_type": "code",
   "execution_count": 167,
   "id": "c2cb8841-2a42-4e74-b54d-1f4f8de612f4",
   "metadata": {},
   "outputs": [],
   "source": [
    "full_address = 'Noida waale kanpur waale bhaiya'"
   ]
  },
  {
   "cell_type": "code",
   "execution_count": 171,
   "id": "c8dc00fb-bca1-494d-9ee7-3f4d79f5fd10",
   "metadata": {},
   "outputs": [
    {
     "data": {
      "text/plain": [
       "'Noida'"
      ]
     },
     "execution_count": 171,
     "metadata": {},
     "output_type": "execute_result"
    }
   ],
   "source": [
    "full_address[0:5]"
   ]
  },
  {
   "cell_type": "code",
   "execution_count": 173,
   "id": "28ce563f-be6e-497b-8246-f69879a577ed",
   "metadata": {},
   "outputs": [
    {
     "data": {
      "text/plain": [
       "'kanpur waale bhaiya'"
      ]
     },
     "execution_count": 173,
     "metadata": {},
     "output_type": "execute_result"
    }
   ],
   "source": [
    "full_address[12:]"
   ]
  },
  {
   "cell_type": "code",
   "execution_count": 175,
   "id": "cd0dd636-0717-4e0b-b803-a9e1d7eb99f3",
   "metadata": {},
   "outputs": [
    {
     "data": {
      "text/plain": [
       "'Noida'"
      ]
     },
     "execution_count": 175,
     "metadata": {},
     "output_type": "execute_result"
    }
   ],
   "source": [
    "full_address[:5]\n"
   ]
  },
  {
   "cell_type": "code",
   "execution_count": 181,
   "id": "0a180eb8-61b8-447f-8c51-d295e7ab6a48",
   "metadata": {},
   "outputs": [
    {
     "data": {
      "text/plain": [
       "'Noida waale'"
      ]
     },
     "execution_count": 181,
     "metadata": {},
     "output_type": "execute_result"
    }
   ],
   "source": [
    "full_address[:11]"
   ]
  },
  {
   "cell_type": "code",
   "execution_count": 183,
   "id": "dc39ec49-5ba1-43e8-bce9-a5639935a4d2",
   "metadata": {},
   "outputs": [],
   "source": [
    "# var[start:stop:step]"
   ]
  },
  {
   "cell_type": "code",
   "execution_count": 191,
   "id": "f27b7658-51bd-45ee-89b0-19ebe8aee61e",
   "metadata": {},
   "outputs": [
    {
     "data": {
      "text/plain": [
       "'Noida waale kanpur waale bhaiya'"
      ]
     },
     "execution_count": 191,
     "metadata": {},
     "output_type": "execute_result"
    }
   ],
   "source": [
    "full_address"
   ]
  },
  {
   "cell_type": "code",
   "execution_count": 206,
   "id": "f403d348-ec78-4e20-9038-82e8a4ac4514",
   "metadata": {},
   "outputs": [
    {
     "data": {
      "text/plain": [
       "'Naa'"
      ]
     },
     "execution_count": 206,
     "metadata": {},
     "output_type": "execute_result"
    }
   ],
   "source": [
    "full_address[0:11:4]"
   ]
  },
  {
   "cell_type": "code",
   "execution_count": 220,
   "id": "fb641a78-86e0-4b14-8dd8-15962798f8a8",
   "metadata": {},
   "outputs": [],
   "source": [
    "name = 'mohit'"
   ]
  },
  {
   "cell_type": "code",
   "execution_count": 222,
   "id": "f5c65da4-8b01-4e9c-86a0-59b32f33a401",
   "metadata": {},
   "outputs": [
    {
     "data": {
      "text/plain": [
       "'tihom'"
      ]
     },
     "execution_count": 222,
     "metadata": {},
     "output_type": "execute_result"
    }
   ],
   "source": [
    "name[-1:-6:-1]"
   ]
  },
  {
   "cell_type": "code",
   "execution_count": 224,
   "id": "a1796286-6768-4296-8aa0-f4860f08e527",
   "metadata": {},
   "outputs": [
    {
     "data": {
      "text/plain": [
       "'tihom'"
      ]
     },
     "execution_count": 224,
     "metadata": {},
     "output_type": "execute_result"
    }
   ],
   "source": [
    "name[::-1]"
   ]
  },
  {
   "cell_type": "code",
   "execution_count": 242,
   "id": "2859982e-b755-4f4f-83ee-1adce1363147",
   "metadata": {},
   "outputs": [],
   "source": [
    "name = 'naman'"
   ]
  },
  {
   "cell_type": "code",
   "execution_count": 244,
   "id": "dbd0b3e7-e370-4978-a2a6-ef19b6179b77",
   "metadata": {},
   "outputs": [
    {
     "data": {
      "text/plain": [
       "'naman'"
      ]
     },
     "execution_count": 244,
     "metadata": {},
     "output_type": "execute_result"
    }
   ],
   "source": [
    "name[::-1]"
   ]
  },
  {
   "cell_type": "code",
   "execution_count": 236,
   "id": "67899505-fdae-41a1-b223-d650db3e271e",
   "metadata": {},
   "outputs": [],
   "source": [
    "# palindrome:- jo seedhe or ulte same read hote hai"
   ]
  },
  {
   "cell_type": "code",
   "execution_count": 246,
   "id": "52fdf99d-e07e-4594-b441-c1750c352e25",
   "metadata": {},
   "outputs": [],
   "source": [
    "word = 'madam'"
   ]
  },
  {
   "cell_type": "code",
   "execution_count": 248,
   "id": "949c9eef-8c02-4b6c-b61f-5becf058c664",
   "metadata": {},
   "outputs": [
    {
     "data": {
      "text/plain": [
       "'madam'"
      ]
     },
     "execution_count": 248,
     "metadata": {},
     "output_type": "execute_result"
    }
   ],
   "source": [
    "word[::-1]"
   ]
  },
  {
   "cell_type": "code",
   "execution_count": 250,
   "id": "022837f2-11e0-4bad-af62-af80e1aa1a2b",
   "metadata": {},
   "outputs": [
    {
     "data": {
      "text/plain": [
       "'mom'"
      ]
     },
     "execution_count": 250,
     "metadata": {},
     "output_type": "execute_result"
    }
   ],
   "source": [
    "word = 'mom'\n",
    "word[::-1]"
   ]
  },
  {
   "cell_type": "code",
   "execution_count": 256,
   "id": "159e4748-f571-45b7-b9c0-ef261c1d48fe",
   "metadata": {},
   "outputs": [],
   "source": [
    "# wow\n",
    "# dad\n",
    "# madam\n",
    "# naman\n",
    "# nitin"
   ]
  },
  {
   "cell_type": "code",
   "execution_count": 270,
   "id": "2ebff391-da57-4a7e-bcd3-b4f8771b6996",
   "metadata": {},
   "outputs": [
    {
     "data": {
      "text/plain": [
       "True"
      ]
     },
     "execution_count": 270,
     "metadata": {},
     "output_type": "execute_result"
    }
   ],
   "source": [
    "name = 'madam'\n",
    "\n",
    "name == name[::-1]"
   ]
  },
  {
   "cell_type": "code",
   "execution_count": 272,
   "id": "d655ea7f-f253-47b8-88cd-2e331d047177",
   "metadata": {},
   "outputs": [],
   "source": [
    "name = 'grastech'"
   ]
  },
  {
   "cell_type": "code",
   "execution_count": 276,
   "id": "dbe1d201-eb64-4eb4-a56a-9b7b1e839455",
   "metadata": {},
   "outputs": [
    {
     "data": {
      "text/plain": [
       "'gras'"
      ]
     },
     "execution_count": 276,
     "metadata": {},
     "output_type": "execute_result"
    }
   ],
   "source": [
    "name[:4]"
   ]
  },
  {
   "cell_type": "code",
   "execution_count": 278,
   "id": "cf75959e-a7de-4239-a0d2-7c942506a641",
   "metadata": {},
   "outputs": [
    {
     "ename": "TypeError",
     "evalue": "'str' object does not support item assignment",
     "output_type": "error",
     "traceback": [
      "\u001b[1;31m---------------------------------------------------------------------------\u001b[0m",
      "\u001b[1;31mTypeError\u001b[0m                                 Traceback (most recent call last)",
      "Cell \u001b[1;32mIn[278], line 1\u001b[0m\n\u001b[1;32m----> 1\u001b[0m name[:\u001b[38;5;241m4\u001b[39m] \u001b[38;5;241m=\u001b[39m \u001b[38;5;124m'\u001b[39m\u001b[38;5;124mIT\u001b[39m\u001b[38;5;124m'\u001b[39m\n",
      "\u001b[1;31mTypeError\u001b[0m: 'str' object does not support item assignment"
     ]
    }
   ],
   "source": [
    "name[:4] = 'IT'"
   ]
  },
  {
   "cell_type": "code",
   "execution_count": 280,
   "id": "e7ad9bf9-fe7e-49cf-adcb-0dc65c1c31e0",
   "metadata": {},
   "outputs": [],
   "source": [
    "# operation witrh string"
   ]
  },
  {
   "cell_type": "code",
   "execution_count": 298,
   "id": "2da3df85-f2f5-48aa-b9c5-3cb93abe08aa",
   "metadata": {},
   "outputs": [],
   "source": [
    "a = 'hello'"
   ]
  },
  {
   "cell_type": "code",
   "execution_count": 304,
   "id": "fc7fc121-4018-4ddc-ac7d-05e0a60158a7",
   "metadata": {},
   "outputs": [],
   "source": [
    "b = 'naman'"
   ]
  },
  {
   "cell_type": "code",
   "execution_count": 306,
   "id": "7eefc54c-aaa3-4767-a0a9-50cee02d6812",
   "metadata": {},
   "outputs": [
    {
     "data": {
      "text/plain": [
       "'hello naman'"
      ]
     },
     "execution_count": 306,
     "metadata": {},
     "output_type": "execute_result"
    }
   ],
   "source": [
    "a + ' ' +b"
   ]
  },
  {
   "cell_type": "code",
   "execution_count": 316,
   "id": "b0b8ad31-3dbe-4d3e-bebe-44cfcba88991",
   "metadata": {},
   "outputs": [],
   "source": [
    "a = 'python '\n"
   ]
  },
  {
   "cell_type": "code",
   "execution_count": 318,
   "id": "ac3f51d9-86e1-4092-b048-beb1cddd8538",
   "metadata": {},
   "outputs": [
    {
     "data": {
      "text/plain": [
       "'python python python python python '"
      ]
     },
     "execution_count": 318,
     "metadata": {},
     "output_type": "execute_result"
    }
   ],
   "source": [
    "a*5"
   ]
  },
  {
   "cell_type": "code",
   "execution_count": 326,
   "id": "81171fb6-30f9-4701-aa13-7e4834c205f0",
   "metadata": {},
   "outputs": [
    {
     "name": "stdout",
     "output_type": "stream",
     "text": [
      "Python\n",
      "Python\n",
      "Python\n",
      "Python\n",
      "Python\n",
      "\n"
     ]
    }
   ],
   "source": [
    "a = 'Python\\n'\n",
    "\n",
    "print(a*5)"
   ]
  },
  {
   "cell_type": "code",
   "execution_count": 328,
   "id": "2bc3ae52-c8ef-4af3-b6db-338756be8f61",
   "metadata": {},
   "outputs": [],
   "source": [
    "a = 'hello'\n",
    "b = 'python'"
   ]
  },
  {
   "cell_type": "code",
   "execution_count": 330,
   "id": "7c1e77c9-2595-4e90-ae50-2871120fa91b",
   "metadata": {},
   "outputs": [
    {
     "ename": "TypeError",
     "evalue": "unsupported operand type(s) for -: 'str' and 'str'",
     "output_type": "error",
     "traceback": [
      "\u001b[1;31m---------------------------------------------------------------------------\u001b[0m",
      "\u001b[1;31mTypeError\u001b[0m                                 Traceback (most recent call last)",
      "Cell \u001b[1;32mIn[330], line 1\u001b[0m\n\u001b[1;32m----> 1\u001b[0m a \u001b[38;5;241m-\u001b[39m b\n",
      "\u001b[1;31mTypeError\u001b[0m: unsupported operand type(s) for -: 'str' and 'str'"
     ]
    }
   ],
   "source": [
    "a - b"
   ]
  },
  {
   "cell_type": "code",
   "execution_count": 332,
   "id": "f461c46e-b610-414f-9be1-8afe99789aee",
   "metadata": {},
   "outputs": [
    {
     "ename": "TypeError",
     "evalue": "unsupported operand type(s) for /: 'str' and 'str'",
     "output_type": "error",
     "traceback": [
      "\u001b[1;31m---------------------------------------------------------------------------\u001b[0m",
      "\u001b[1;31mTypeError\u001b[0m                                 Traceback (most recent call last)",
      "Cell \u001b[1;32mIn[332], line 1\u001b[0m\n\u001b[1;32m----> 1\u001b[0m a \u001b[38;5;241m/\u001b[39mb\n",
      "\u001b[1;31mTypeError\u001b[0m: unsupported operand type(s) for /: 'str' and 'str'"
     ]
    }
   ],
   "source": [
    "a /b"
   ]
  },
  {
   "cell_type": "code",
   "execution_count": 334,
   "id": "455aabe8-efe1-4e75-bf83-ad2513eb8ebb",
   "metadata": {},
   "outputs": [
    {
     "ename": "TypeError",
     "evalue": "can't multiply sequence by non-int of type 'str'",
     "output_type": "error",
     "traceback": [
      "\u001b[1;31m---------------------------------------------------------------------------\u001b[0m",
      "\u001b[1;31mTypeError\u001b[0m                                 Traceback (most recent call last)",
      "Cell \u001b[1;32mIn[334], line 1\u001b[0m\n\u001b[1;32m----> 1\u001b[0m a \u001b[38;5;241m*\u001b[39m b\n",
      "\u001b[1;31mTypeError\u001b[0m: can't multiply sequence by non-int of type 'str'"
     ]
    }
   ],
   "source": [
    "a * b"
   ]
  },
  {
   "cell_type": "code",
   "execution_count": 336,
   "id": "a946a95b-1db6-4b66-93bb-dbf2b025a3e9",
   "metadata": {},
   "outputs": [
    {
     "data": {
      "text/plain": [
       "'hellohellohellohellohellohellohellohellohellohello'"
      ]
     },
     "execution_count": 336,
     "metadata": {},
     "output_type": "execute_result"
    }
   ],
   "source": [
    "a * 10"
   ]
  },
  {
   "cell_type": "code",
   "execution_count": 338,
   "id": "cf180d1c-83e7-4389-b794-88b356c5e90e",
   "metadata": {},
   "outputs": [],
   "source": [
    "database = '''India, country that occupies the greater part of South Asia. It is made up of 28 states and eight union territories, and its national capital is New Delhi, built in the 20th century just south of the historic hub of Old Delhi to serve as India’s administrative center. Its government is a constitutional republic that represents a highly diverse population consisting of thousands of ethnic groups and hundreds of languages. India became the world’s most populous country in 2023, according to estimates by the United Nations.\n",
    "\n",
    "It is known from archaeological evidence that a highly sophisticated urbanized culture—the Indus civilization—dominated the northwestern part of the subcontinent from about 2600 to 2000 bce. From that period on, India functioned as a virtually self-contained political and cultural arena, which gave rise to a distinctive tradition that was associated primarily with Hinduism, the roots of which possibly can be traced to the Indus civilization. Other religions, notably Buddhism and Jainism, originated in India—though their presence there is now quite small—and throughout the centuries residents of the subcontinent developed a rich intellectual life in such fields as mathematics, astronomy, architecture, literature, music, and the fine arts.'''"
   ]
  },
  {
   "cell_type": "code",
   "execution_count": 340,
   "id": "c6ccb681-8f4f-4550-9095-46ef3a7a75c6",
   "metadata": {},
   "outputs": [
    {
     "name": "stdout",
     "output_type": "stream",
     "text": [
      "India, country that occupies the greater part of South Asia. It is made up of 28 states and eight union territories, and its national capital is New Delhi, built in the 20th century just south of the historic hub of Old Delhi to serve as India’s administrative center. Its government is a constitutional republic that represents a highly diverse population consisting of thousands of ethnic groups and hundreds of languages. India became the world’s most populous country in 2023, according to estimates by the United Nations.\n",
      "\n",
      "It is known from archaeological evidence that a highly sophisticated urbanized culture—the Indus civilization—dominated the northwestern part of the subcontinent from about 2600 to 2000 bce. From that period on, India functioned as a virtually self-contained political and cultural arena, which gave rise to a distinctive tradition that was associated primarily with Hinduism, the roots of which possibly can be traced to the Indus civilization. Other religions, notably Buddhism and Jainism, originated in India—though their presence there is now quite small—and throughout the centuries residents of the subcontinent developed a rich intellectual life in such fields as mathematics, astronomy, architecture, literature, music, and the fine arts.\n"
     ]
    }
   ],
   "source": [
    "print(database)"
   ]
  },
  {
   "cell_type": "code",
   "execution_count": 358,
   "id": "1afca1e8-3dac-429c-ba8e-8e14a18a8533",
   "metadata": {},
   "outputs": [
    {
     "data": {
      "text/plain": [
       "'India, country that occupies the greater part of South Asia. It is made up of 28 states an...'"
      ]
     },
     "execution_count": 358,
     "metadata": {},
     "output_type": "execute_result"
    }
   ],
   "source": [
    "database[0:90] + '...'"
   ]
  },
  {
   "cell_type": "markdown",
   "id": "192bf658-a64f-4ee1-a9e8-0860ce7cb8f4",
   "metadata": {},
   "source": [
    "# String Inbuilt Function"
   ]
  },
  {
   "cell_type": "code",
   "execution_count": 363,
   "id": "6f59bdd8-46e6-439e-b010-7903ad56a3bf",
   "metadata": {},
   "outputs": [],
   "source": [
    "# String Methods"
   ]
  },
  {
   "cell_type": "code",
   "execution_count": 365,
   "id": "075833e7-10fe-4ecd-88c2-bbc37c81b0db",
   "metadata": {},
   "outputs": [],
   "source": [
    "a = 'naman'"
   ]
  },
  {
   "cell_type": "code",
   "execution_count": 367,
   "id": "207183ff-56ca-4a55-b3a0-8d0e5369d4b9",
   "metadata": {},
   "outputs": [
    {
     "name": "stdout",
     "output_type": "stream",
     "text": [
      "<class 'str'>\n"
     ]
    }
   ],
   "source": [
    "print(type(a))"
   ]
  },
  {
   "cell_type": "code",
   "execution_count": 371,
   "id": "ab3a9fed-030e-4a0c-b478-dad33cd3b8ca",
   "metadata": {},
   "outputs": [
    {
     "name": "stdout",
     "output_type": "stream",
     "text": [
      "NAMAN\n"
     ]
    }
   ],
   "source": [
    "print(a.upper())"
   ]
  },
  {
   "cell_type": "code",
   "execution_count": 373,
   "id": "fb6cc2e4-4795-4d69-88ac-4cd405d6dc7f",
   "metadata": {},
   "outputs": [
    {
     "data": {
      "text/plain": [
       "'Noida waale kanpur waale bhaiya'"
      ]
     },
     "execution_count": 373,
     "metadata": {},
     "output_type": "execute_result"
    }
   ],
   "source": [
    "full_address"
   ]
  },
  {
   "cell_type": "code",
   "execution_count": 375,
   "id": "e1e045dc-0294-4a02-b76e-40f54b6e899d",
   "metadata": {},
   "outputs": [
    {
     "data": {
      "text/plain": [
       "'NOIDA WAALE KANPUR WAALE BHAIYA'"
      ]
     },
     "execution_count": 375,
     "metadata": {},
     "output_type": "execute_result"
    }
   ],
   "source": [
    "full_address.upper()"
   ]
  },
  {
   "cell_type": "code",
   "execution_count": 393,
   "id": "1a81598f-2ee7-462b-bf0b-5084a5363959",
   "metadata": {},
   "outputs": [],
   "source": [
    "name = 'harry'\n",
    "name = name.upper()"
   ]
  },
  {
   "cell_type": "code",
   "execution_count": 395,
   "id": "c7440ad0-323c-489b-b699-9bedfe03d6f3",
   "metadata": {},
   "outputs": [
    {
     "data": {
      "text/plain": [
       "False"
      ]
     },
     "execution_count": 395,
     "metadata": {},
     "output_type": "execute_result"
    }
   ],
   "source": [
    "name == name[::-1]"
   ]
  },
  {
   "cell_type": "code",
   "execution_count": 397,
   "id": "07dba3e4-602f-4dab-970a-b0ef4cdbf76d",
   "metadata": {},
   "outputs": [
    {
     "data": {
      "text/plain": [
       "'HARRY'"
      ]
     },
     "execution_count": 397,
     "metadata": {},
     "output_type": "execute_result"
    }
   ],
   "source": [
    "name"
   ]
  },
  {
   "cell_type": "code",
   "execution_count": 405,
   "id": "e16426cb-55ff-4bbc-9762-db8c440fbcc4",
   "metadata": {},
   "outputs": [
    {
     "name": "stdin",
     "output_type": "stream",
     "text": [
      "Enter your name:  harry\n"
     ]
    },
    {
     "name": "stdout",
     "output_type": "stream",
     "text": [
      "Hello HARRY How are you??\n"
     ]
    }
   ],
   "source": [
    "name = input('Enter your name: ').upper()\n",
    "\n",
    "print('Hello',name,'How are you??')"
   ]
  },
  {
   "cell_type": "code",
   "execution_count": 411,
   "id": "6a225bec-0165-4880-91c0-269afa80065a",
   "metadata": {},
   "outputs": [],
   "source": [
    "a = 'karan'"
   ]
  },
  {
   "cell_type": "code",
   "execution_count": 413,
   "id": "16b735ca-c582-49a6-8e11-810b428e7ecd",
   "metadata": {},
   "outputs": [
    {
     "data": {
      "text/plain": [
       "'KARAN'"
      ]
     },
     "execution_count": 413,
     "metadata": {},
     "output_type": "execute_result"
    }
   ],
   "source": [
    "a.upper()"
   ]
  },
  {
   "cell_type": "code",
   "execution_count": 415,
   "id": "adcd0342-2695-44df-ac85-1e5eb43dd3cd",
   "metadata": {},
   "outputs": [],
   "source": [
    "# String 47 methods"
   ]
  },
  {
   "cell_type": "code",
   "execution_count": 417,
   "id": "32d66265-9737-4b0a-96ab-450438bc8ed0",
   "metadata": {},
   "outputs": [
    {
     "name": "stdout",
     "output_type": "stream",
     "text": [
      "['__add__', '__class__', '__contains__', '__delattr__', '__dir__', '__doc__', '__eq__', '__format__', '__ge__', '__getattribute__', '__getitem__', '__getnewargs__', '__getstate__', '__gt__', '__hash__', '__init__', '__init_subclass__', '__iter__', '__le__', '__len__', '__lt__', '__mod__', '__mul__', '__ne__', '__new__', '__reduce__', '__reduce_ex__', '__repr__', '__rmod__', '__rmul__', '__setattr__', '__sizeof__', '__str__', '__subclasshook__', 'capitalize', 'casefold', 'center', 'count', 'encode', 'endswith', 'expandtabs', 'find', 'format', 'format_map', 'index', 'isalnum', 'isalpha', 'isascii', 'isdecimal', 'isdigit', 'isidentifier', 'islower', 'isnumeric', 'isprintable', 'isspace', 'istitle', 'isupper', 'join', 'ljust', 'lower', 'lstrip', 'maketrans', 'partition', 'removeprefix', 'removesuffix', 'replace', 'rfind', 'rindex', 'rjust', 'rpartition', 'rsplit', 'rstrip', 'split', 'splitlines', 'startswith', 'strip', 'swapcase', 'title', 'translate', 'upper', 'zfill']\n"
     ]
    }
   ],
   "source": [
    "print(dir(str))"
   ]
  },
  {
   "cell_type": "code",
   "execution_count": 419,
   "id": "b82c7d4d-f211-4e44-a3d4-f224bdd70107",
   "metadata": {},
   "outputs": [],
   "source": [
    "all_methods = ['capitalize', 'casefold', 'center', 'count', 'encode', 'endswith', 'expandtabs', 'find', 'format', 'format_map', 'index', 'isalnum', 'isalpha', 'isascii', 'isdecimal', 'isdigit', 'isidentifier', 'islower', 'isnumeric', 'isprintable', 'isspace', 'istitle', 'isupper', 'join', 'ljust', 'lower', 'lstrip', 'maketrans', 'partition', 'removeprefix', 'removesuffix', 'replace', 'rfind', 'rindex', 'rjust', 'rpartition', 'rsplit', 'rstrip', 'split', 'splitlines', 'startswith', 'strip', 'swapcase', 'title', 'translate', 'upper', 'zfill']"
   ]
  },
  {
   "cell_type": "code",
   "execution_count": 421,
   "id": "0403c038-e39b-413a-bfdb-4858a10d9522",
   "metadata": {},
   "outputs": [
    {
     "name": "stdout",
     "output_type": "stream",
     "text": [
      "['capitalize', 'casefold', 'center', 'count', 'encode', 'endswith', 'expandtabs', 'find', 'format', 'format_map', 'index', 'isalnum', 'isalpha', 'isascii', 'isdecimal', 'isdigit', 'isidentifier', 'islower', 'isnumeric', 'isprintable', 'isspace', 'istitle', 'isupper', 'join', 'ljust', 'lower', 'lstrip', 'maketrans', 'partition', 'removeprefix', 'removesuffix', 'replace', 'rfind', 'rindex', 'rjust', 'rpartition', 'rsplit', 'rstrip', 'split', 'splitlines', 'startswith', 'strip', 'swapcase', 'title', 'translate', 'upper', 'zfill']\n"
     ]
    }
   ],
   "source": [
    "print(all_methods)"
   ]
  },
  {
   "cell_type": "code",
   "execution_count": 423,
   "id": "fe71975e-0a77-4d83-8e43-092f5d215bc6",
   "metadata": {},
   "outputs": [
    {
     "name": "stdout",
     "output_type": "stream",
     "text": [
      "47\n"
     ]
    }
   ],
   "source": [
    "print(len(all_methods))"
   ]
  },
  {
   "cell_type": "code",
   "execution_count": 433,
   "id": "764b6f80-a82a-4cb3-bed3-cfa45d7a958a",
   "metadata": {},
   "outputs": [
    {
     "data": {
      "text/plain": [
       "'THIS IS ELON MUSK'"
      ]
     },
     "execution_count": 433,
     "metadata": {},
     "output_type": "execute_result"
    }
   ],
   "source": [
    "a = 'This is elon musk'.upper()\n",
    "a"
   ]
  },
  {
   "cell_type": "code",
   "execution_count": 435,
   "id": "d22a4c57-d7f6-4a68-afab-1a13e7cb5e22",
   "metadata": {},
   "outputs": [
    {
     "data": {
      "text/plain": [
       "'This is elon musk'"
      ]
     },
     "execution_count": 435,
     "metadata": {},
     "output_type": "execute_result"
    }
   ],
   "source": [
    "a.capitalize()"
   ]
  },
  {
   "cell_type": "code",
   "execution_count": 441,
   "id": "8e24a486-cf30-4208-89d9-8a304d92e7f8",
   "metadata": {},
   "outputs": [
    {
     "data": {
      "text/plain": [
       "'iujvblkvjh'"
      ]
     },
     "execution_count": 441,
     "metadata": {},
     "output_type": "execute_result"
    }
   ],
   "source": [
    "a = 'IUJVBLKVJH'\n",
    "\n",
    "a.casefold()"
   ]
  },
  {
   "cell_type": "code",
   "execution_count": 449,
   "id": "4e460bed-e9c0-444d-abc0-6561d02405a2",
   "metadata": {},
   "outputs": [],
   "source": [
    "a = '      grastech      '"
   ]
  },
  {
   "cell_type": "code",
   "execution_count": 451,
   "id": "59fc7097-0f5e-4c5f-8eb5-dea3be169d73",
   "metadata": {},
   "outputs": [
    {
     "name": "stdout",
     "output_type": "stream",
     "text": [
      "      grastech      \n"
     ]
    }
   ],
   "source": [
    "print(a)"
   ]
  },
  {
   "cell_type": "code",
   "execution_count": 453,
   "id": "b202c8c2-d94a-4328-9912-8e84582addd0",
   "metadata": {},
   "outputs": [],
   "source": [
    "a = 'grastech'"
   ]
  },
  {
   "cell_type": "code",
   "execution_count": 465,
   "id": "857732f1-7b9e-4817-9899-0a958a9243c3",
   "metadata": {},
   "outputs": [
    {
     "data": {
      "text/plain": [
       "'                                              grastech                                              '"
      ]
     },
     "execution_count": 465,
     "metadata": {},
     "output_type": "execute_result"
    }
   ],
   "source": [
    "a.center(100)"
   ]
  },
  {
   "cell_type": "code",
   "execution_count": 467,
   "id": "3374c7f4-79f5-42c9-bb47-5fa267f735c2",
   "metadata": {},
   "outputs": [],
   "source": [
    "a = 'this is elon musk'"
   ]
  },
  {
   "cell_type": "code",
   "execution_count": 469,
   "id": "83c8fea0-0321-467d-a189-766217272879",
   "metadata": {},
   "outputs": [
    {
     "data": {
      "text/plain": [
       "3"
      ]
     },
     "execution_count": 469,
     "metadata": {},
     "output_type": "execute_result"
    }
   ],
   "source": [
    "a.count('s')"
   ]
  },
  {
   "cell_type": "code",
   "execution_count": 475,
   "id": "ea209ac5-7876-49ec-9b6a-58957408f7d8",
   "metadata": {},
   "outputs": [
    {
     "data": {
      "text/plain": [
       "5"
      ]
     },
     "execution_count": 475,
     "metadata": {},
     "output_type": "execute_result"
    }
   ],
   "source": [
    "database.count('India')"
   ]
  },
  {
   "cell_type": "code",
   "execution_count": 477,
   "id": "3c142a11-7112-40aa-ac14-3bdd31d111b1",
   "metadata": {},
   "outputs": [
    {
     "data": {
      "text/plain": [
       "'this is elon musk'"
      ]
     },
     "execution_count": 477,
     "metadata": {},
     "output_type": "execute_result"
    }
   ],
   "source": [
    "a"
   ]
  },
  {
   "cell_type": "code",
   "execution_count": 483,
   "id": "8dfb30db-a250-4674-9b34-2f254e9ebd8e",
   "metadata": {},
   "outputs": [
    {
     "data": {
      "text/plain": [
       "False"
      ]
     },
     "execution_count": 483,
     "metadata": {},
     "output_type": "execute_result"
    }
   ],
   "source": [
    "a.endswith('muski')"
   ]
  },
  {
   "cell_type": "code",
   "execution_count": 493,
   "id": "ba1a17b1-94fd-47e0-928f-56f489d9a9a0",
   "metadata": {},
   "outputs": [],
   "source": [
    "a = 'this\\tis\\telon\\tmusk'"
   ]
  },
  {
   "cell_type": "code",
   "execution_count": 501,
   "id": "951525a0-d097-4b28-af9e-c23ed0c4d1fe",
   "metadata": {},
   "outputs": [
    {
     "data": {
      "text/plain": [
       "'this      is        elon      musk'"
      ]
     },
     "execution_count": 501,
     "metadata": {},
     "output_type": "execute_result"
    }
   ],
   "source": [
    "a.expandtabs(10)"
   ]
  },
  {
   "cell_type": "code",
   "execution_count": null,
   "id": "2fc711a5-b3e3-47ab-b12c-c97560ceff47",
   "metadata": {},
   "outputs": [],
   "source": []
  },
  {
   "cell_type": "code",
   "execution_count": 504,
   "id": "3479d385-4be0-4445-9f30-36248cff92d4",
   "metadata": {},
   "outputs": [],
   "source": [
    "a = 'This is elon musk'"
   ]
  },
  {
   "cell_type": "code",
   "execution_count": 512,
   "id": "be739813-6f13-4b64-a2b9-7d0836e4317f",
   "metadata": {},
   "outputs": [
    {
     "data": {
      "text/plain": [
       "8"
      ]
     },
     "execution_count": 512,
     "metadata": {},
     "output_type": "execute_result"
    }
   ],
   "source": [
    "a.find('elon')"
   ]
  },
  {
   "cell_type": "code",
   "execution_count": 518,
   "id": "11abad35-3dc5-4fec-a9ba-f111b7c6e2a1",
   "metadata": {},
   "outputs": [
    {
     "data": {
      "text/plain": [
       "'elon'"
      ]
     },
     "execution_count": 518,
     "metadata": {},
     "output_type": "execute_result"
    }
   ],
   "source": [
    "a[8:12]"
   ]
  },
  {
   "cell_type": "code",
   "execution_count": 524,
   "id": "936d76cb-21db-45b9-90c1-938e5f9aab92",
   "metadata": {},
   "outputs": [
    {
     "data": {
      "text/plain": [
       "8"
      ]
     },
     "execution_count": 524,
     "metadata": {},
     "output_type": "execute_result"
    }
   ],
   "source": [
    "a.find('elon')"
   ]
  },
  {
   "cell_type": "code",
   "execution_count": 532,
   "id": "b9b0601a-a61f-46bc-980c-40bfd2bcdad8",
   "metadata": {},
   "outputs": [
    {
     "data": {
      "text/plain": [
       "'elon musk'"
      ]
     },
     "execution_count": 532,
     "metadata": {},
     "output_type": "execute_result"
    }
   ],
   "source": [
    "a[a.find('elon'):]"
   ]
  },
  {
   "cell_type": "code",
   "execution_count": 534,
   "id": "20c70ae8-f62c-46af-8199-9fdac4cb3a96",
   "metadata": {},
   "outputs": [
    {
     "data": {
      "text/plain": [
       "'elon musk'"
      ]
     },
     "execution_count": 534,
     "metadata": {},
     "output_type": "execute_result"
    }
   ],
   "source": [
    "a[8:]"
   ]
  },
  {
   "cell_type": "code",
   "execution_count": 536,
   "id": "5332a9bc-d7e6-4de9-a868-24595d38f110",
   "metadata": {},
   "outputs": [
    {
     "data": {
      "text/plain": [
       "'This is elon musk'"
      ]
     },
     "execution_count": 536,
     "metadata": {},
     "output_type": "execute_result"
    }
   ],
   "source": [
    "a"
   ]
  },
  {
   "cell_type": "code",
   "execution_count": 538,
   "id": "eb3f3a34-e760-43bc-bdcb-86ec226e5d09",
   "metadata": {},
   "outputs": [
    {
     "data": {
      "text/plain": [
       "13"
      ]
     },
     "execution_count": 538,
     "metadata": {},
     "output_type": "execute_result"
    }
   ],
   "source": [
    "a.find('musk')"
   ]
  },
  {
   "cell_type": "code",
   "execution_count": 540,
   "id": "378abd95-4b5e-4475-9b4a-1ecf942a86f2",
   "metadata": {},
   "outputs": [
    {
     "name": "stdout",
     "output_type": "stream",
     "text": [
      "['capitalize', 'casefold', 'center', 'count', 'encode', 'endswith', 'expandtabs', 'find', 'format', 'format_map', 'index', 'isalnum', 'isalpha', 'isascii', 'isdecimal', 'isdigit', 'isidentifier', 'islower', 'isnumeric', 'isprintable', 'isspace', 'istitle', 'isupper', 'join', 'ljust', 'lower', 'lstrip', 'maketrans', 'partition', 'removeprefix', 'removesuffix', 'replace', 'rfind', 'rindex', 'rjust', 'rpartition', 'rsplit', 'rstrip', 'split', 'splitlines', 'startswith', 'strip', 'swapcase', 'title', 'translate', 'upper', 'zfill']\n"
     ]
    }
   ],
   "source": [
    "print(all_methods)"
   ]
  },
  {
   "cell_type": "code",
   "execution_count": 542,
   "id": "b2a7576f-d123-4474-9414-91bb3ed151a3",
   "metadata": {},
   "outputs": [],
   "source": [
    "# index'"
   ]
  },
  {
   "cell_type": "code",
   "execution_count": 544,
   "id": "f79b3ada-972e-494b-bcef-faa9d2be6ef4",
   "metadata": {},
   "outputs": [
    {
     "data": {
      "text/plain": [
       "'This is elon musk'"
      ]
     },
     "execution_count": 544,
     "metadata": {},
     "output_type": "execute_result"
    }
   ],
   "source": [
    "a"
   ]
  },
  {
   "cell_type": "code",
   "execution_count": 546,
   "id": "26ab1919-d558-4d09-944b-e9689629a0da",
   "metadata": {},
   "outputs": [
    {
     "data": {
      "text/plain": [
       "8"
      ]
     },
     "execution_count": 546,
     "metadata": {},
     "output_type": "execute_result"
    }
   ],
   "source": [
    "a.find('elon')"
   ]
  },
  {
   "cell_type": "code",
   "execution_count": 548,
   "id": "907a4787-7c91-4ca4-827c-8cf9225baa98",
   "metadata": {},
   "outputs": [
    {
     "data": {
      "text/plain": [
       "8"
      ]
     },
     "execution_count": 548,
     "metadata": {},
     "output_type": "execute_result"
    }
   ],
   "source": [
    "a.index('elon')"
   ]
  },
  {
   "cell_type": "code",
   "execution_count": 550,
   "id": "d8136853-a82b-471f-99b9-8882c617d107",
   "metadata": {},
   "outputs": [
    {
     "data": {
      "text/plain": [
       "-1"
      ]
     },
     "execution_count": 550,
     "metadata": {},
     "output_type": "execute_result"
    }
   ],
   "source": [
    "a.find('eloni')"
   ]
  },
  {
   "cell_type": "code",
   "execution_count": 552,
   "id": "497401b1-34da-409a-9bfd-fae903f1ddc3",
   "metadata": {},
   "outputs": [
    {
     "ename": "ValueError",
     "evalue": "substring not found",
     "output_type": "error",
     "traceback": [
      "\u001b[1;31m---------------------------------------------------------------------------\u001b[0m",
      "\u001b[1;31mValueError\u001b[0m                                Traceback (most recent call last)",
      "Cell \u001b[1;32mIn[552], line 1\u001b[0m\n\u001b[1;32m----> 1\u001b[0m a\u001b[38;5;241m.\u001b[39mindex(\u001b[38;5;124m'\u001b[39m\u001b[38;5;124meloni\u001b[39m\u001b[38;5;124m'\u001b[39m)\n",
      "\u001b[1;31mValueError\u001b[0m: substring not found"
     ]
    }
   ],
   "source": [
    "a.index('eloni')"
   ]
  },
  {
   "cell_type": "code",
   "execution_count": 554,
   "id": "0158cf93-0c09-4b7a-b420-8cdbcf726b20",
   "metadata": {},
   "outputs": [],
   "source": [
    "a = 'wbefbejbKJIUBK'"
   ]
  },
  {
   "cell_type": "code",
   "execution_count": 556,
   "id": "974f4a56-cd9d-4dc1-83a0-f03bd6559f8f",
   "metadata": {},
   "outputs": [
    {
     "data": {
      "text/plain": [
       "False"
      ]
     },
     "execution_count": 556,
     "metadata": {},
     "output_type": "execute_result"
    }
   ],
   "source": [
    "a.islower()"
   ]
  },
  {
   "cell_type": "code",
   "execution_count": 558,
   "id": "374bb6c9-6046-4a6f-b5cb-c4efcbe89f3d",
   "metadata": {},
   "outputs": [
    {
     "data": {
      "text/plain": [
       "True"
      ]
     },
     "execution_count": 558,
     "metadata": {},
     "output_type": "execute_result"
    }
   ],
   "source": [
    "a = 'wjefbj'\n",
    "a.islower()"
   ]
  },
  {
   "cell_type": "code",
   "execution_count": 560,
   "id": "9fe0152e-f0e2-48ed-ac9b-8359d903f662",
   "metadata": {},
   "outputs": [],
   "source": [
    "# variable:- identifier"
   ]
  },
  {
   "cell_type": "code",
   "execution_count": 562,
   "id": "957b1ac4-4633-4bcd-b04a-54422e59030f",
   "metadata": {},
   "outputs": [],
   "source": [
    "# values :- literals"
   ]
  },
  {
   "cell_type": "code",
   "execution_count": 564,
   "id": "e6b584a8-479e-4ffe-8dd8-e5242b9ff9d9",
   "metadata": {},
   "outputs": [
    {
     "ename": "SyntaxError",
     "evalue": "invalid decimal literal (2900527425.py, line 1)",
     "output_type": "error",
     "traceback": [
      "\u001b[1;36m  Cell \u001b[1;32mIn[564], line 1\u001b[1;36m\u001b[0m\n\u001b[1;33m    23age\u001b[0m\n\u001b[1;37m     ^\u001b[0m\n\u001b[1;31mSyntaxError\u001b[0m\u001b[1;31m:\u001b[0m invalid decimal literal\n"
     ]
    }
   ],
   "source": [
    "23age "
   ]
  },
  {
   "cell_type": "code",
   "execution_count": 566,
   "id": "f03c6b3b-3d4b-4a7a-9f3a-24f769e9daa6",
   "metadata": {},
   "outputs": [],
   "source": [
    "a = '23age'"
   ]
  },
  {
   "cell_type": "code",
   "execution_count": 568,
   "id": "4a600c29-ad4a-43ef-8fc3-3ed99d4d381d",
   "metadata": {},
   "outputs": [
    {
     "data": {
      "text/plain": [
       "False"
      ]
     },
     "execution_count": 568,
     "metadata": {},
     "output_type": "execute_result"
    }
   ],
   "source": [
    "a.isidentifier()"
   ]
  },
  {
   "cell_type": "code",
   "execution_count": 570,
   "id": "afa42708-067f-4f2b-95c8-0d8d6d85d930",
   "metadata": {},
   "outputs": [],
   "source": [
    "age = 4"
   ]
  },
  {
   "cell_type": "code",
   "execution_count": 572,
   "id": "bcdf912c-50c3-4cbc-b722-9bea5484c615",
   "metadata": {},
   "outputs": [],
   "source": [
    "a = 'age'"
   ]
  },
  {
   "cell_type": "code",
   "execution_count": 574,
   "id": "ee55eeaf-f5d9-4b47-9eb0-01a49d5b32e3",
   "metadata": {},
   "outputs": [
    {
     "data": {
      "text/plain": [
       "True"
      ]
     },
     "execution_count": 574,
     "metadata": {},
     "output_type": "execute_result"
    }
   ],
   "source": [
    "a.isidentifier()"
   ]
  },
  {
   "cell_type": "code",
   "execution_count": 578,
   "id": "17069f15-2b53-4ca5-9e9a-d5433aa7a154",
   "metadata": {},
   "outputs": [
    {
     "ename": "SyntaxError",
     "evalue": "invalid decimal literal (2076202596.py, line 1)",
     "output_type": "error",
     "traceback": [
      "\u001b[1;36m  Cell \u001b[1;32mIn[578], line 1\u001b[1;36m\u001b[0m\n\u001b[1;33m    23df = 34\u001b[0m\n\u001b[1;37m     ^\u001b[0m\n\u001b[1;31mSyntaxError\u001b[0m\u001b[1;31m:\u001b[0m invalid decimal literal\n"
     ]
    }
   ],
   "source": [
    "23df = 34"
   ]
  },
  {
   "cell_type": "code",
   "execution_count": null,
   "id": "de166c20-4a96-4a6c-b049-4053fa6e9565",
   "metadata": {},
   "outputs": [],
   "source": []
  }
 ],
 "metadata": {
  "kernelspec": {
   "display_name": "Python [conda env:base] *",
   "language": "python",
   "name": "conda-base-py"
  },
  "language_info": {
   "codemirror_mode": {
    "name": "ipython",
    "version": 3
   },
   "file_extension": ".py",
   "mimetype": "text/x-python",
   "name": "python",
   "nbconvert_exporter": "python",
   "pygments_lexer": "ipython3",
   "version": "3.12.7"
  }
 },
 "nbformat": 4,
 "nbformat_minor": 5
}
