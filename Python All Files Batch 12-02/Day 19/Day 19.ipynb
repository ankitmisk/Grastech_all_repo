{
 "cells": [
  {
   "cell_type": "markdown",
   "id": "2f7b40b4-8d90-4387-94c8-6e792d8a5d4b",
   "metadata": {},
   "source": [
    "# Modules"
   ]
  },
  {
   "cell_type": "code",
   "execution_count": 2,
   "id": "219c92aa-b7cd-4f34-ac9b-7efec8ccfa74",
   "metadata": {},
   "outputs": [],
   "source": [
    "import cowsay"
   ]
  },
  {
   "cell_type": "code",
   "execution_count": 4,
   "id": "d1213baf-cccf-4010-a609-41a06362ef7f",
   "metadata": {},
   "outputs": [
    {
     "name": "stdout",
     "output_type": "stream",
     "text": [
      "  _____\n",
      "| Hello |\n",
      "  =====\n",
      "     \\\n",
      "      \\\n",
      "        ^__^\n",
      "        (oo)\\_______\n",
      "        (__)\\       )\\/\\\n",
      "            ||----w |\n",
      "            ||     ||\n"
     ]
    }
   ],
   "source": [
    "cowsay.cow('Hello')"
   ]
  },
  {
   "cell_type": "code",
   "execution_count": 6,
   "id": "93a726ee-b23d-49b7-be8a-ebc000feecd8",
   "metadata": {},
   "outputs": [],
   "source": [
    "# Modules:- .py:- File:- Functions"
   ]
  },
  {
   "cell_type": "code",
   "execution_count": 8,
   "id": "0f77258a-bed7-4b9c-b827-52ff84031bf7",
   "metadata": {},
   "outputs": [
    {
     "ename": "ModuleNotFoundError",
     "evalue": "No module named 'noida'",
     "output_type": "error",
     "traceback": [
      "\u001b[1;31m---------------------------------------------------------------------------\u001b[0m",
      "\u001b[1;31mModuleNotFoundError\u001b[0m                       Traceback (most recent call last)",
      "Cell \u001b[1;32mIn[8], line 1\u001b[0m\n\u001b[1;32m----> 1\u001b[0m \u001b[38;5;28;01mimport\u001b[39;00m \u001b[38;5;21;01mnoida\u001b[39;00m\n",
      "\u001b[1;31mModuleNotFoundError\u001b[0m: No module named 'noida'"
     ]
    }
   ],
   "source": [
    "import noida"
   ]
  },
  {
   "cell_type": "code",
   "execution_count": 12,
   "id": "4f20e468-fea8-4b13-927e-13a56d57aa7b",
   "metadata": {},
   "outputs": [
    {
     "name": "stdout",
     "output_type": "stream",
     "text": [
      "Module Loaded Successfully!!\n"
     ]
    }
   ],
   "source": [
    "import grastech\n",
    "print('Module Loaded Successfully!!')"
   ]
  },
  {
   "cell_type": "code",
   "execution_count": 14,
   "id": "9ad554ce-0ec9-42a0-94f6-96c67880fdfd",
   "metadata": {},
   "outputs": [
    {
     "name": "stdout",
     "output_type": "stream",
     "text": [
      "Fibonacci Series:  [0, 1, 1, 2, 3, 5, 8, 13, 21, 34, 55, 89, 144, 233, 377]\n"
     ]
    }
   ],
   "source": [
    "grastech.give_fibo(15)"
   ]
  },
  {
   "cell_type": "code",
   "execution_count": 16,
   "id": "0f964e25-785c-4b8c-ad62-c2c75f85d68d",
   "metadata": {},
   "outputs": [],
   "source": [
    "data = [34,5,47,68]"
   ]
  },
  {
   "cell_type": "code",
   "execution_count": 20,
   "id": "2b81eb58-5b0b-490d-a99e-9d097344f913",
   "metadata": {},
   "outputs": [
    {
     "name": "stdout",
     "output_type": "stream",
     "text": [
      "        * \n",
      "      * * \n",
      "    * * * \n",
      "  * * * * \n",
      "* * * * * \n"
     ]
    }
   ],
   "source": [
    "grastech.pattern_print(5,pattern_type='right')"
   ]
  },
  {
   "cell_type": "code",
   "execution_count": 22,
   "id": "b82ed911-cecc-4f04-bc13-75060f3a6c77",
   "metadata": {},
   "outputs": [],
   "source": [
    "# module ko import"
   ]
  },
  {
   "cell_type": "code",
   "execution_count": 24,
   "id": "4d6b8e39-f402-47c8-961d-23fb1b7676ab",
   "metadata": {},
   "outputs": [],
   "source": [
    "import cowsay"
   ]
  },
  {
   "cell_type": "code",
   "execution_count": 26,
   "id": "27f1cf32-d05c-406b-b398-e0c6f672dc61",
   "metadata": {},
   "outputs": [],
   "source": [
    "import cowsay as c"
   ]
  },
  {
   "cell_type": "code",
   "execution_count": 28,
   "id": "aa02fcb2-9d71-43a2-9dc3-7bb3105cbe5a",
   "metadata": {},
   "outputs": [],
   "source": [
    "import pandas as pd"
   ]
  },
  {
   "cell_type": "code",
   "execution_count": 30,
   "id": "f459dfc2-b1d6-41e5-a6c5-80ac5f442d7a",
   "metadata": {},
   "outputs": [],
   "source": [
    "import grastech as g"
   ]
  },
  {
   "cell_type": "code",
   "execution_count": 32,
   "id": "aba169ad-b8b0-4a29-8a03-8120838576f1",
   "metadata": {},
   "outputs": [
    {
     "data": {
      "text/plain": [
       "120"
      ]
     },
     "execution_count": 32,
     "metadata": {},
     "output_type": "execute_result"
    }
   ],
   "source": [
    "g.factorial_loop(5)"
   ]
  },
  {
   "cell_type": "code",
   "execution_count": 34,
   "id": "7f92302b-0600-4fc2-a275-8a0b2dc8021f",
   "metadata": {},
   "outputs": [],
   "source": [
    "import math as m"
   ]
  },
  {
   "cell_type": "code",
   "execution_count": 38,
   "id": "99351dd6-f34a-4c43-bb8e-75717401e310",
   "metadata": {},
   "outputs": [
    {
     "data": {
      "text/plain": [
       "3.141592653589793"
      ]
     },
     "execution_count": 38,
     "metadata": {},
     "output_type": "execute_result"
    }
   ],
   "source": [
    "m.pi"
   ]
  },
  {
   "cell_type": "code",
   "execution_count": 40,
   "id": "e2b95eda-7bbf-415c-8518-4370a1cadc2e",
   "metadata": {},
   "outputs": [
    {
     "data": {
      "text/plain": [
       "['__builtins__',\n",
       " '__cached__',\n",
       " '__doc__',\n",
       " '__file__',\n",
       " '__loader__',\n",
       " '__name__',\n",
       " '__package__',\n",
       " '__spec__',\n",
       " 'add_any',\n",
       " 'change_font',\n",
       " 'check_anagram',\n",
       " 'check_armstrong',\n",
       " 'check_palindrome',\n",
       " 'factorial_loop',\n",
       " 'give_fibo',\n",
       " 'into_table',\n",
       " 'my_summ',\n",
       " 'pattern_print']"
      ]
     },
     "execution_count": 40,
     "metadata": {},
     "output_type": "execute_result"
    }
   ],
   "source": [
    "dir(g)"
   ]
  },
  {
   "cell_type": "code",
   "execution_count": 42,
   "id": "33572dec-7a99-443c-b2c4-2dcdc8ee1104",
   "metadata": {},
   "outputs": [],
   "source": [
    "from functools import reduce"
   ]
  },
  {
   "cell_type": "code",
   "execution_count": 44,
   "id": "5cc5f7b0-b2df-4ebc-8861-da9252b1a030",
   "metadata": {},
   "outputs": [],
   "source": [
    "import functools as f"
   ]
  },
  {
   "cell_type": "code",
   "execution_count": 46,
   "id": "c56ef058-108c-4422-a627-87665f69f514",
   "metadata": {},
   "outputs": [],
   "source": [
    "# f.reduce"
   ]
  },
  {
   "cell_type": "code",
   "execution_count": 48,
   "id": "421c4d65-06e6-419e-aa9c-e76df2ffcfa8",
   "metadata": {},
   "outputs": [],
   "source": [
    "from grastech import into_table as table"
   ]
  },
  {
   "cell_type": "code",
   "execution_count": 50,
   "id": "17826e0e-743f-4a52-a343-63343a7b82d7",
   "metadata": {},
   "outputs": [
    {
     "data": {
      "text/html": [
       "<div>\n",
       "<style scoped>\n",
       "    .dataframe tbody tr th:only-of-type {\n",
       "        vertical-align: middle;\n",
       "    }\n",
       "\n",
       "    .dataframe tbody tr th {\n",
       "        vertical-align: top;\n",
       "    }\n",
       "\n",
       "    .dataframe thead th {\n",
       "        text-align: right;\n",
       "    }\n",
       "</style>\n",
       "<table border=\"1\" class=\"dataframe\">\n",
       "  <thead>\n",
       "    <tr style=\"text-align: right;\">\n",
       "      <th></th>\n",
       "      <th>name</th>\n",
       "      <th>Sec</th>\n",
       "      <th>Address</th>\n",
       "      <th>Salary</th>\n",
       "    </tr>\n",
       "  </thead>\n",
       "  <tbody>\n",
       "    <tr>\n",
       "      <th>1</th>\n",
       "      <td>Ajay</td>\n",
       "      <td>B</td>\n",
       "      <td>Noida</td>\n",
       "      <td>345678</td>\n",
       "    </tr>\n",
       "  </tbody>\n",
       "</table>\n",
       "</div>"
      ],
      "text/plain": [
       "   name Sec Address  Salary\n",
       "1  Ajay   B   Noida  345678"
      ]
     },
     "execution_count": 50,
     "metadata": {},
     "output_type": "execute_result"
    }
   ],
   "source": [
    "table(name = 'Ajay',Sec = 'B',Address = 'Noida',Salary = 345678)"
   ]
  },
  {
   "cell_type": "code",
   "execution_count": 66,
   "id": "6830b713-60b7-46df-afb6-dbd31166ef5c",
   "metadata": {},
   "outputs": [],
   "source": [
    "import random\n",
    "import random as r\n",
    "from random import randint\n",
    "from random import randint as r\n",
    "from random import *"
   ]
  },
  {
   "cell_type": "code",
   "execution_count": 64,
   "id": "22ef951c-e6d3-43f4-a866-d1d40bb2ab6b",
   "metadata": {},
   "outputs": [
    {
     "data": {
      "text/plain": [
       "[535, 2]"
      ]
     },
     "execution_count": 64,
     "metadata": {},
     "output_type": "execute_result"
    }
   ],
   "source": [
    "choices([2,34,535,43,65],k=2)"
   ]
  },
  {
   "cell_type": "code",
   "execution_count": 68,
   "id": "66c0a34d-478f-493b-b0bd-1c9165f0f857",
   "metadata": {},
   "outputs": [],
   "source": [
    "# "
   ]
  },
  {
   "cell_type": "code",
   "execution_count": 1,
   "id": "f4c097b0-f1a5-49ca-b45d-ab11f405b785",
   "metadata": {},
   "outputs": [
    {
     "ename": "ModuleNotFoundError",
     "evalue": "No module named 'grastech'",
     "output_type": "error",
     "traceback": [
      "\u001b[1;31m---------------------------------------------------------------------------\u001b[0m",
      "\u001b[1;31mModuleNotFoundError\u001b[0m                       Traceback (most recent call last)",
      "Cell \u001b[1;32mIn[1], line 1\u001b[0m\n\u001b[1;32m----> 1\u001b[0m \u001b[38;5;28;01mimport\u001b[39;00m \u001b[38;5;21;01mgrastech\u001b[39;00m \u001b[38;5;28;01mas\u001b[39;00m \u001b[38;5;21;01mg\u001b[39;00m\n\u001b[0;32m      2\u001b[0m \u001b[38;5;28mprint\u001b[39m(\u001b[38;5;124m'\u001b[39m\u001b[38;5;124mDone\u001b[39m\u001b[38;5;124m'\u001b[39m)\n",
      "\u001b[1;31mModuleNotFoundError\u001b[0m: No module named 'grastech'"
     ]
    }
   ],
   "source": [
    "import grastech as g\n",
    "print('Done')"
   ]
  },
  {
   "cell_type": "code",
   "execution_count": 3,
   "id": "aa9d7584-931f-40a2-9fed-bf2f4a0daf89",
   "metadata": {},
   "outputs": [],
   "source": [
    "import os"
   ]
  },
  {
   "cell_type": "code",
   "execution_count": 35,
   "id": "51980a7e-f868-414b-b71a-b9fadd2434ea",
   "metadata": {},
   "outputs": [
    {
     "data": {
      "text/plain": [
       "['C:\\\\Users\\\\salma\\\\anaconda3',\n",
       " 'C:\\\\Users\\\\salma\\\\anaconda3\\\\Library\\\\mingw-w64\\\\bin',\n",
       " 'C:\\\\Users\\\\salma\\\\anaconda3\\\\Library\\\\usr\\\\bin',\n",
       " 'C:\\\\Users\\\\salma\\\\anaconda3\\\\Library\\\\bin',\n",
       " 'C:\\\\Users\\\\salma\\\\anaconda3\\\\Scripts',\n",
       " 'C:\\\\WINDOWS\\\\system32',\n",
       " 'C:\\\\WINDOWS',\n",
       " 'C:\\\\WINDOWS\\\\System32\\\\Wbem',\n",
       " 'C:\\\\WINDOWS\\\\System32\\\\WindowsPowerShell\\\\v1.0\\\\',\n",
       " 'C:\\\\WINDOWS\\\\System32\\\\OpenSSH\\\\',\n",
       " 'C:\\\\Program Files\\\\Git\\\\cmd',\n",
       " 'C:\\\\xampp\\\\php',\n",
       " 'C:\\\\ProgramData\\\\ComposerSetup\\\\bin',\n",
       " 'C:\\\\Program Files (x86)\\\\nodejs\\\\',\n",
       " 'C:\\\\Program Files (x86)\\\\Microsoft SQL Server\\\\160\\\\Tools\\\\Binn\\\\',\n",
       " 'C:\\\\Program Files\\\\Microsoft SQL Server\\\\160\\\\Tools\\\\Binn\\\\',\n",
       " 'C:\\\\Program Files\\\\Microsoft SQL Server\\\\Client SDK\\\\ODBC\\\\170\\\\Tools\\\\Binn\\\\',\n",
       " 'C:\\\\Program Files\\\\Microsoft SQL Server\\\\160\\\\DTS\\\\Binn\\\\',\n",
       " 'C:\\\\Program Files (x86)\\\\Microsoft SQL Server\\\\160\\\\DTS\\\\Binn\\\\',\n",
       " 'C:\\\\Program Files\\\\Docker\\\\Docker\\\\resources\\\\bin',\n",
       " 'C:\\\\Program Files\\\\MySQL\\\\MySQL Server 8.0\\\\bin',\n",
       " 'C:\\\\Users\\\\salma\\\\AppData\\\\Local\\\\Programs\\\\Python\\\\Launcher\\\\',\n",
       " 'C:\\\\Program Files\\\\MySQL\\\\MySQL Shell 8.0\\\\bin\\\\',\n",
       " 'C:\\\\Users\\\\salma\\\\AppData\\\\Local\\\\Microsoft\\\\WindowsApps',\n",
       " 'C:\\\\Users\\\\salma\\\\AppData\\\\Roaming\\\\Composer\\\\vendor\\\\bin',\n",
       " 'C:\\\\Users\\\\salma\\\\AppData\\\\Local\\\\Programs\\\\Microsoft VS Code\\\\bin',\n",
       " 'C:\\\\Users\\\\salma\\\\AppData\\\\Roaming\\\\npm',\n",
       " '']"
      ]
     },
     "execution_count": 35,
     "metadata": {},
     "output_type": "execute_result"
    }
   ],
   "source": [
    "os.get_exec_path()"
   ]
  },
  {
   "cell_type": "code",
   "execution_count": 5,
   "id": "9b287b37-06ae-4165-806a-eaa4826cb10c",
   "metadata": {},
   "outputs": [],
   "source": [
    "path = \"C:\\\\Users\\\\salma\\\\Downloads\""
   ]
  },
  {
   "cell_type": "code",
   "execution_count": 41,
   "id": "b66fdf10-785e-4878-aaf3-f27f382845d1",
   "metadata": {},
   "outputs": [],
   "source": [
    "os.get_exec_path().append(path)"
   ]
  },
  {
   "cell_type": "code",
   "execution_count": 43,
   "id": "92d7df91-ba3b-43da-b2b9-cdd67498173b",
   "metadata": {},
   "outputs": [
    {
     "data": {
      "text/plain": [
       "['C:\\\\Users\\\\salma\\\\anaconda3',\n",
       " 'C:\\\\Users\\\\salma\\\\anaconda3\\\\Library\\\\mingw-w64\\\\bin',\n",
       " 'C:\\\\Users\\\\salma\\\\anaconda3\\\\Library\\\\usr\\\\bin',\n",
       " 'C:\\\\Users\\\\salma\\\\anaconda3\\\\Library\\\\bin',\n",
       " 'C:\\\\Users\\\\salma\\\\anaconda3\\\\Scripts',\n",
       " 'C:\\\\WINDOWS\\\\system32',\n",
       " 'C:\\\\WINDOWS',\n",
       " 'C:\\\\WINDOWS\\\\System32\\\\Wbem',\n",
       " 'C:\\\\WINDOWS\\\\System32\\\\WindowsPowerShell\\\\v1.0\\\\',\n",
       " 'C:\\\\WINDOWS\\\\System32\\\\OpenSSH\\\\',\n",
       " 'C:\\\\Program Files\\\\Git\\\\cmd',\n",
       " 'C:\\\\xampp\\\\php',\n",
       " 'C:\\\\ProgramData\\\\ComposerSetup\\\\bin',\n",
       " 'C:\\\\Program Files (x86)\\\\nodejs\\\\',\n",
       " 'C:\\\\Program Files (x86)\\\\Microsoft SQL Server\\\\160\\\\Tools\\\\Binn\\\\',\n",
       " 'C:\\\\Program Files\\\\Microsoft SQL Server\\\\160\\\\Tools\\\\Binn\\\\',\n",
       " 'C:\\\\Program Files\\\\Microsoft SQL Server\\\\Client SDK\\\\ODBC\\\\170\\\\Tools\\\\Binn\\\\',\n",
       " 'C:\\\\Program Files\\\\Microsoft SQL Server\\\\160\\\\DTS\\\\Binn\\\\',\n",
       " 'C:\\\\Program Files (x86)\\\\Microsoft SQL Server\\\\160\\\\DTS\\\\Binn\\\\',\n",
       " 'C:\\\\Program Files\\\\Docker\\\\Docker\\\\resources\\\\bin',\n",
       " 'C:\\\\Program Files\\\\MySQL\\\\MySQL Server 8.0\\\\bin',\n",
       " 'C:\\\\Users\\\\salma\\\\AppData\\\\Local\\\\Programs\\\\Python\\\\Launcher\\\\',\n",
       " 'C:\\\\Program Files\\\\MySQL\\\\MySQL Shell 8.0\\\\bin\\\\',\n",
       " 'C:\\\\Users\\\\salma\\\\AppData\\\\Local\\\\Microsoft\\\\WindowsApps',\n",
       " 'C:\\\\Users\\\\salma\\\\AppData\\\\Roaming\\\\Composer\\\\vendor\\\\bin',\n",
       " 'C:\\\\Users\\\\salma\\\\AppData\\\\Local\\\\Programs\\\\Microsoft VS Code\\\\bin',\n",
       " 'C:\\\\Users\\\\salma\\\\AppData\\\\Roaming\\\\npm',\n",
       " '']"
      ]
     },
     "execution_count": 43,
     "metadata": {},
     "output_type": "execute_result"
    }
   ],
   "source": [
    "os.get_exec_path()"
   ]
  },
  {
   "cell_type": "code",
   "execution_count": 47,
   "id": "b68788dd-2db8-4e0e-a0e5-74e841708ddf",
   "metadata": {},
   "outputs": [],
   "source": [
    "# import grastech"
   ]
  },
  {
   "cell_type": "code",
   "execution_count": 11,
   "id": "519dc5cc-a8b2-4284-8990-243af32c4cee",
   "metadata": {},
   "outputs": [],
   "source": [
    "import sys"
   ]
  },
  {
   "cell_type": "code",
   "execution_count": 13,
   "id": "a26e2a57-1269-468f-b3bd-d4fc71812226",
   "metadata": {},
   "outputs": [],
   "source": [
    "sys.path.append(path)"
   ]
  },
  {
   "cell_type": "code",
   "execution_count": 15,
   "id": "4d66461c-7e6f-4b6b-9375-4126c58ed8af",
   "metadata": {},
   "outputs": [
    {
     "data": {
      "text/plain": [
       "['C:\\\\Users\\\\salma\\\\Python All Files Batch 12-02\\\\Day 19',\n",
       " 'C:\\\\Users\\\\salma\\\\anaconda3\\\\python312.zip',\n",
       " 'C:\\\\Users\\\\salma\\\\anaconda3\\\\DLLs',\n",
       " 'C:\\\\Users\\\\salma\\\\anaconda3\\\\Lib',\n",
       " 'C:\\\\Users\\\\salma\\\\anaconda3',\n",
       " '',\n",
       " 'C:\\\\Users\\\\salma\\\\anaconda3\\\\Lib\\\\site-packages',\n",
       " 'C:\\\\Users\\\\salma\\\\anaconda3\\\\Lib\\\\site-packages\\\\win32',\n",
       " 'C:\\\\Users\\\\salma\\\\anaconda3\\\\Lib\\\\site-packages\\\\win32\\\\lib',\n",
       " 'C:\\\\Users\\\\salma\\\\anaconda3\\\\Lib\\\\site-packages\\\\Pythonwin',\n",
       " 'C:\\\\Users\\\\salma\\\\anaconda3\\\\Lib\\\\site-packages\\\\setuptools\\\\_vendor',\n",
       " 'C:\\\\Users\\\\salma\\\\Downloads']"
      ]
     },
     "execution_count": 15,
     "metadata": {},
     "output_type": "execute_result"
    }
   ],
   "source": [
    "sys.path"
   ]
  },
  {
   "cell_type": "code",
   "execution_count": 17,
   "id": "71e6ad12-c8f8-4797-906c-705ca3a86745",
   "metadata": {},
   "outputs": [
    {
     "data": {
      "text/plain": [
       "'C:\\\\Users\\\\salma\\\\Downloads'"
      ]
     },
     "execution_count": 17,
     "metadata": {},
     "output_type": "execute_result"
    }
   ],
   "source": [
    "path"
   ]
  },
  {
   "cell_type": "code",
   "execution_count": 19,
   "id": "3a752076-82cf-4b4f-a3ed-53488afb7214",
   "metadata": {},
   "outputs": [
    {
     "name": "stdout",
     "output_type": "stream",
     "text": [
      "Done\n"
     ]
    }
   ],
   "source": [
    "import grastech\n",
    "print('Done')"
   ]
  },
  {
   "cell_type": "code",
   "execution_count": 21,
   "id": "8bcb84f5-cff0-4232-ab74-6c2783c7ffcb",
   "metadata": {},
   "outputs": [
    {
     "name": "stdout",
     "output_type": "stream",
     "text": [
      "done\n"
     ]
    }
   ],
   "source": [
    "import roshan as r\n",
    "print('done')"
   ]
  },
  {
   "cell_type": "code",
   "execution_count": 23,
   "id": "25058027-d1f9-42f2-8b0e-ad332f36f925",
   "metadata": {},
   "outputs": [
    {
     "data": {
      "text/plain": [
       "155"
      ]
     },
     "execution_count": 23,
     "metadata": {},
     "output_type": "execute_result"
    }
   ],
   "source": [
    "r.my_summ([34,54,67])"
   ]
  },
  {
   "cell_type": "code",
   "execution_count": 25,
   "id": "993e23a8-712f-4e52-b0e4-29047a847a9d",
   "metadata": {},
   "outputs": [],
   "source": [
    "import os"
   ]
  },
  {
   "cell_type": "code",
   "execution_count": 29,
   "id": "54f4255d-afb4-412d-8bc9-b863bc0a439b",
   "metadata": {},
   "outputs": [
    {
     "data": {
      "text/plain": [
       "4"
      ]
     },
     "execution_count": 29,
     "metadata": {},
     "output_type": "execute_result"
    }
   ],
   "source": [
    "os.cpu_count()"
   ]
  },
  {
   "cell_type": "code",
   "execution_count": 31,
   "id": "12764afe-ddea-44b1-bd49-804af10355dd",
   "metadata": {},
   "outputs": [],
   "source": [
    "import math"
   ]
  },
  {
   "cell_type": "code",
   "execution_count": 33,
   "id": "9c5a1cdc-02e3-4ea7-a172-383d98f1ff09",
   "metadata": {},
   "outputs": [
    {
     "data": {
      "text/plain": [
       "['__doc__',\n",
       " '__loader__',\n",
       " '__name__',\n",
       " '__package__',\n",
       " '__spec__',\n",
       " 'acos',\n",
       " 'acosh',\n",
       " 'asin',\n",
       " 'asinh',\n",
       " 'atan',\n",
       " 'atan2',\n",
       " 'atanh',\n",
       " 'cbrt',\n",
       " 'ceil',\n",
       " 'comb',\n",
       " 'copysign',\n",
       " 'cos',\n",
       " 'cosh',\n",
       " 'degrees',\n",
       " 'dist',\n",
       " 'e',\n",
       " 'erf',\n",
       " 'erfc',\n",
       " 'exp',\n",
       " 'exp2',\n",
       " 'expm1',\n",
       " 'fabs',\n",
       " 'factorial',\n",
       " 'floor',\n",
       " 'fmod',\n",
       " 'frexp',\n",
       " 'fsum',\n",
       " 'gamma',\n",
       " 'gcd',\n",
       " 'hypot',\n",
       " 'inf',\n",
       " 'isclose',\n",
       " 'isfinite',\n",
       " 'isinf',\n",
       " 'isnan',\n",
       " 'isqrt',\n",
       " 'lcm',\n",
       " 'ldexp',\n",
       " 'lgamma',\n",
       " 'log',\n",
       " 'log10',\n",
       " 'log1p',\n",
       " 'log2',\n",
       " 'modf',\n",
       " 'nan',\n",
       " 'nextafter',\n",
       " 'perm',\n",
       " 'pi',\n",
       " 'pow',\n",
       " 'prod',\n",
       " 'radians',\n",
       " 'remainder',\n",
       " 'sin',\n",
       " 'sinh',\n",
       " 'sqrt',\n",
       " 'sumprod',\n",
       " 'tan',\n",
       " 'tanh',\n",
       " 'tau',\n",
       " 'trunc',\n",
       " 'ulp']"
      ]
     },
     "execution_count": 33,
     "metadata": {},
     "output_type": "execute_result"
    }
   ],
   "source": [
    "dir(math)"
   ]
  },
  {
   "cell_type": "code",
   "execution_count": 35,
   "id": "5e97bf3a-91a6-4233-8f4b-0f485470be08",
   "metadata": {},
   "outputs": [],
   "source": [
    "import random "
   ]
  },
  {
   "cell_type": "code",
   "execution_count": 37,
   "id": "9edb4bed-98e1-422b-a21b-51952bbc70bf",
   "metadata": {},
   "outputs": [
    {
     "name": "stdout",
     "output_type": "stream",
     "text": [
      "['BPF', 'LOG4', 'NV_MAGICCONST', 'RECIP_BPF', 'Random', 'SG_MAGICCONST', 'SystemRandom', 'TWOPI', '_ONE', '_Sequence', '__all__', '__builtins__', '__cached__', '__doc__', '__file__', '__loader__', '__name__', '__package__', '__spec__', '_accumulate', '_acos', '_bisect', '_ceil', '_cos', '_e', '_exp', '_fabs', '_floor', '_index', '_inst', '_isfinite', '_lgamma', '_log', '_log2', '_os', '_pi', '_random', '_repeat', '_sha512', '_sin', '_sqrt', '_test', '_test_generator', '_urandom', '_warn', 'betavariate', 'binomialvariate', 'choice', 'choices', 'expovariate', 'gammavariate', 'gauss', 'getrandbits', 'getstate', 'lognormvariate', 'normalvariate', 'paretovariate', 'randbytes', 'randint', 'random', 'randrange', 'sample', 'seed', 'setstate', 'shuffle', 'triangular', 'uniform', 'vonmisesvariate', 'weibullvariate']\n"
     ]
    }
   ],
   "source": [
    "print(dir(random))"
   ]
  },
  {
   "cell_type": "code",
   "execution_count": 39,
   "id": "e877e644-b6a4-4799-8ece-d471a06fb8ce",
   "metadata": {},
   "outputs": [
    {
     "name": "stdout",
     "output_type": "stream",
     "text": [
      "pygame 2.6.1 (SDL 2.28.4, Python 3.12.7)\n",
      "Hello from the pygame community. https://www.pygame.org/contribute.html\n"
     ]
    }
   ],
   "source": [
    "import pygame"
   ]
  },
  {
   "cell_type": "code",
   "execution_count": 41,
   "id": "d5a984cc-6a40-4b73-b349-15158c06f7b9",
   "metadata": {},
   "outputs": [
    {
     "name": "stdout",
     "output_type": "stream",
     "text": [
      "['ACTIVEEVENT', 'ANYFORMAT', 'APPACTIVE', 'APPINPUTFOCUS', 'APPMOUSEFOCUS', 'APP_DIDENTERBACKGROUND', 'APP_DIDENTERFOREGROUND', 'APP_LOWMEMORY', 'APP_TERMINATING', 'APP_WILLENTERBACKGROUND', 'APP_WILLENTERFOREGROUND', 'ASYNCBLIT', 'AUDIODEVICEADDED', 'AUDIODEVICEREMOVED', 'AUDIO_ALLOW_ANY_CHANGE', 'AUDIO_ALLOW_CHANNELS_CHANGE', 'AUDIO_ALLOW_FORMAT_CHANGE', 'AUDIO_ALLOW_FREQUENCY_CHANGE', 'AUDIO_S16', 'AUDIO_S16LSB', 'AUDIO_S16MSB', 'AUDIO_S16SYS', 'AUDIO_S8', 'AUDIO_U16', 'AUDIO_U16LSB', 'AUDIO_U16MSB', 'AUDIO_U16SYS', 'AUDIO_U8', 'BIG_ENDIAN', 'BLENDMODE_ADD', 'BLENDMODE_BLEND', 'BLENDMODE_MOD', 'BLENDMODE_NONE', 'BLEND_ADD', 'BLEND_ALPHA_SDL2', 'BLEND_MAX', 'BLEND_MIN', 'BLEND_MULT', 'BLEND_PREMULTIPLIED', 'BLEND_RGBA_ADD', 'BLEND_RGBA_MAX', 'BLEND_RGBA_MIN', 'BLEND_RGBA_MULT', 'BLEND_RGBA_SUB', 'BLEND_RGB_ADD', 'BLEND_RGB_MAX', 'BLEND_RGB_MIN', 'BLEND_RGB_MULT', 'BLEND_RGB_SUB', 'BLEND_SUB', 'BUTTON_LEFT', 'BUTTON_MIDDLE', 'BUTTON_RIGHT', 'BUTTON_WHEELDOWN', 'BUTTON_WHEELUP', 'BUTTON_X1', 'BUTTON_X2', 'BufferError', 'BufferProxy', 'CLIPBOARDUPDATE', 'CONTROLLERAXISMOTION', 'CONTROLLERBUTTONDOWN', 'CONTROLLERBUTTONUP', 'CONTROLLERDEVICEADDED', 'CONTROLLERDEVICEREMAPPED', 'CONTROLLERDEVICEREMOVED', 'CONTROLLERSENSORUPDATE', 'CONTROLLERTOUCHPADDOWN', 'CONTROLLERTOUCHPADMOTION', 'CONTROLLERTOUCHPADUP', 'CONTROLLER_AXIS_INVALID', 'CONTROLLER_AXIS_LEFTX', 'CONTROLLER_AXIS_LEFTY', 'CONTROLLER_AXIS_MAX', 'CONTROLLER_AXIS_RIGHTX', 'CONTROLLER_AXIS_RIGHTY', 'CONTROLLER_AXIS_TRIGGERLEFT', 'CONTROLLER_AXIS_TRIGGERRIGHT', 'CONTROLLER_BUTTON_A', 'CONTROLLER_BUTTON_B', 'CONTROLLER_BUTTON_BACK', 'CONTROLLER_BUTTON_DPAD_DOWN', 'CONTROLLER_BUTTON_DPAD_LEFT', 'CONTROLLER_BUTTON_DPAD_RIGHT', 'CONTROLLER_BUTTON_DPAD_UP', 'CONTROLLER_BUTTON_GUIDE', 'CONTROLLER_BUTTON_INVALID', 'CONTROLLER_BUTTON_LEFTSHOULDER', 'CONTROLLER_BUTTON_LEFTSTICK', 'CONTROLLER_BUTTON_MAX', 'CONTROLLER_BUTTON_RIGHTSHOULDER', 'CONTROLLER_BUTTON_RIGHTSTICK', 'CONTROLLER_BUTTON_START', 'CONTROLLER_BUTTON_X', 'CONTROLLER_BUTTON_Y', 'Color', 'Cursor', 'DOUBLEBUF', 'DROPBEGIN', 'DROPCOMPLETE', 'DROPFILE', 'DROPTEXT', 'FINGERDOWN', 'FINGERMOTION', 'FINGERUP', 'FULLSCREEN', 'GL_ACCELERATED_VISUAL', 'GL_ACCUM_ALPHA_SIZE', 'GL_ACCUM_BLUE_SIZE', 'GL_ACCUM_GREEN_SIZE', 'GL_ACCUM_RED_SIZE', 'GL_ALPHA_SIZE', 'GL_BLUE_SIZE', 'GL_BUFFER_SIZE', 'GL_CONTEXT_DEBUG_FLAG', 'GL_CONTEXT_FLAGS', 'GL_CONTEXT_FORWARD_COMPATIBLE_FLAG', 'GL_CONTEXT_MAJOR_VERSION', 'GL_CONTEXT_MINOR_VERSION', 'GL_CONTEXT_PROFILE_COMPATIBILITY', 'GL_CONTEXT_PROFILE_CORE', 'GL_CONTEXT_PROFILE_ES', 'GL_CONTEXT_PROFILE_MASK', 'GL_CONTEXT_RELEASE_BEHAVIOR', 'GL_CONTEXT_RELEASE_BEHAVIOR_FLUSH', 'GL_CONTEXT_RELEASE_BEHAVIOR_NONE', 'GL_CONTEXT_RESET_ISOLATION_FLAG', 'GL_CONTEXT_ROBUST_ACCESS_FLAG', 'GL_DEPTH_SIZE', 'GL_DOUBLEBUFFER', 'GL_FRAMEBUFFER_SRGB_CAPABLE', 'GL_GREEN_SIZE', 'GL_MULTISAMPLEBUFFERS', 'GL_MULTISAMPLESAMPLES', 'GL_RED_SIZE', 'GL_SHARE_WITH_CURRENT_CONTEXT', 'GL_STENCIL_SIZE', 'GL_STEREO', 'GL_SWAP_CONTROL', 'HAT_CENTERED', 'HAT_DOWN', 'HAT_LEFT', 'HAT_LEFTDOWN', 'HAT_LEFTUP', 'HAT_RIGHT', 'HAT_RIGHTDOWN', 'HAT_RIGHTUP', 'HAT_UP', 'HAVE_NEWBUF', 'HIDDEN', 'HWACCEL', 'HWPALETTE', 'HWSURFACE', 'JOYAXISMOTION', 'JOYBALLMOTION', 'JOYBUTTONDOWN', 'JOYBUTTONUP', 'JOYDEVICEADDED', 'JOYDEVICEREMOVED', 'JOYHATMOTION', 'KEYDOWN', 'KEYMAPCHANGED', 'KEYUP', 'KMOD_ALT', 'KMOD_CAPS', 'KMOD_CTRL', 'KMOD_GUI', 'KMOD_LALT', 'KMOD_LCTRL', 'KMOD_LGUI', 'KMOD_LMETA', 'KMOD_LSHIFT', 'KMOD_META', 'KMOD_MODE', 'KMOD_NONE', 'KMOD_NUM', 'KMOD_RALT', 'KMOD_RCTRL', 'KMOD_RGUI', 'KMOD_RMETA', 'KMOD_RSHIFT', 'KMOD_SHIFT', 'KSCAN_0', 'KSCAN_1', 'KSCAN_2', 'KSCAN_3', 'KSCAN_4', 'KSCAN_5', 'KSCAN_6', 'KSCAN_7', 'KSCAN_8', 'KSCAN_9', 'KSCAN_A', 'KSCAN_AC_BACK', 'KSCAN_APOSTROPHE', 'KSCAN_B', 'KSCAN_BACKSLASH', 'KSCAN_BACKSPACE', 'KSCAN_BREAK', 'KSCAN_C', 'KSCAN_CAPSLOCK', 'KSCAN_CLEAR', 'KSCAN_COMMA', 'KSCAN_CURRENCYSUBUNIT', 'KSCAN_CURRENCYUNIT', 'KSCAN_D', 'KSCAN_DELETE', 'KSCAN_DOWN', 'KSCAN_E', 'KSCAN_END', 'KSCAN_EQUALS', 'KSCAN_ESCAPE', 'KSCAN_EURO', 'KSCAN_F', 'KSCAN_F1', 'KSCAN_F10', 'KSCAN_F11', 'KSCAN_F12', 'KSCAN_F13', 'KSCAN_F14', 'KSCAN_F15', 'KSCAN_F2', 'KSCAN_F3', 'KSCAN_F4', 'KSCAN_F5', 'KSCAN_F6', 'KSCAN_F7', 'KSCAN_F8', 'KSCAN_F9', 'KSCAN_G', 'KSCAN_GRAVE', 'KSCAN_H', 'KSCAN_HELP', 'KSCAN_HOME', 'KSCAN_I', 'KSCAN_INSERT', 'KSCAN_INTERNATIONAL1', 'KSCAN_INTERNATIONAL2', 'KSCAN_INTERNATIONAL3', 'KSCAN_INTERNATIONAL4', 'KSCAN_INTERNATIONAL5', 'KSCAN_INTERNATIONAL6', 'KSCAN_INTERNATIONAL7', 'KSCAN_INTERNATIONAL8', 'KSCAN_INTERNATIONAL9', 'KSCAN_J', 'KSCAN_K', 'KSCAN_KP0', 'KSCAN_KP1', 'KSCAN_KP2', 'KSCAN_KP3', 'KSCAN_KP4', 'KSCAN_KP5', 'KSCAN_KP6', 'KSCAN_KP7', 'KSCAN_KP8', 'KSCAN_KP9', 'KSCAN_KP_0', 'KSCAN_KP_1', 'KSCAN_KP_2', 'KSCAN_KP_3', 'KSCAN_KP_4', 'KSCAN_KP_5', 'KSCAN_KP_6', 'KSCAN_KP_7', 'KSCAN_KP_8', 'KSCAN_KP_9', 'KSCAN_KP_DIVIDE', 'KSCAN_KP_ENTER', 'KSCAN_KP_EQUALS', 'KSCAN_KP_MINUS', 'KSCAN_KP_MULTIPLY', 'KSCAN_KP_PERIOD', 'KSCAN_KP_PLUS', 'KSCAN_L', 'KSCAN_LALT', 'KSCAN_LANG1', 'KSCAN_LANG2', 'KSCAN_LANG3', 'KSCAN_LANG4', 'KSCAN_LANG5', 'KSCAN_LANG6', 'KSCAN_LANG7', 'KSCAN_LANG8', 'KSCAN_LANG9', 'KSCAN_LCTRL', 'KSCAN_LEFT', 'KSCAN_LEFTBRACKET', 'KSCAN_LGUI', 'KSCAN_LMETA', 'KSCAN_LSHIFT', 'KSCAN_LSUPER', 'KSCAN_M', 'KSCAN_MENU', 'KSCAN_MINUS', 'KSCAN_MODE', 'KSCAN_N', 'KSCAN_NONUSBACKSLASH', 'KSCAN_NONUSHASH', 'KSCAN_NUMLOCK', 'KSCAN_NUMLOCKCLEAR', 'KSCAN_O', 'KSCAN_P', 'KSCAN_PAGEDOWN', 'KSCAN_PAGEUP', 'KSCAN_PAUSE', 'KSCAN_PERIOD', 'KSCAN_POWER', 'KSCAN_PRINT', 'KSCAN_PRINTSCREEN', 'KSCAN_Q', 'KSCAN_R', 'KSCAN_RALT', 'KSCAN_RCTRL', 'KSCAN_RETURN', 'KSCAN_RGUI', 'KSCAN_RIGHT', 'KSCAN_RIGHTBRACKET', 'KSCAN_RMETA', 'KSCAN_RSHIFT', 'KSCAN_RSUPER', 'KSCAN_S', 'KSCAN_SCROLLLOCK', 'KSCAN_SCROLLOCK', 'KSCAN_SEMICOLON', 'KSCAN_SLASH', 'KSCAN_SPACE', 'KSCAN_SYSREQ', 'KSCAN_T', 'KSCAN_TAB', 'KSCAN_U', 'KSCAN_UNKNOWN', 'KSCAN_UP', 'KSCAN_V', 'KSCAN_W', 'KSCAN_X', 'KSCAN_Y', 'KSCAN_Z', 'K_0', 'K_1', 'K_2', 'K_3', 'K_4', 'K_5', 'K_6', 'K_7', 'K_8', 'K_9', 'K_AC_BACK', 'K_AMPERSAND', 'K_ASTERISK', 'K_AT', 'K_BACKQUOTE', 'K_BACKSLASH', 'K_BACKSPACE', 'K_BREAK', 'K_CAPSLOCK', 'K_CARET', 'K_CLEAR', 'K_COLON', 'K_COMMA', 'K_CURRENCYSUBUNIT', 'K_CURRENCYUNIT', 'K_DELETE', 'K_DOLLAR', 'K_DOWN', 'K_END', 'K_EQUALS', 'K_ESCAPE', 'K_EURO', 'K_EXCLAIM', 'K_F1', 'K_F10', 'K_F11', 'K_F12', 'K_F13', 'K_F14', 'K_F15', 'K_F2', 'K_F3', 'K_F4', 'K_F5', 'K_F6', 'K_F7', 'K_F8', 'K_F9', 'K_GREATER', 'K_HASH', 'K_HELP', 'K_HOME', 'K_INSERT', 'K_KP0', 'K_KP1', 'K_KP2', 'K_KP3', 'K_KP4', 'K_KP5', 'K_KP6', 'K_KP7', 'K_KP8', 'K_KP9', 'K_KP_0', 'K_KP_1', 'K_KP_2', 'K_KP_3', 'K_KP_4', 'K_KP_5', 'K_KP_6', 'K_KP_7', 'K_KP_8', 'K_KP_9', 'K_KP_DIVIDE', 'K_KP_ENTER', 'K_KP_EQUALS', 'K_KP_MINUS', 'K_KP_MULTIPLY', 'K_KP_PERIOD', 'K_KP_PLUS', 'K_LALT', 'K_LCTRL', 'K_LEFT', 'K_LEFTBRACKET', 'K_LEFTPAREN', 'K_LESS', 'K_LGUI', 'K_LMETA', 'K_LSHIFT', 'K_LSUPER', 'K_MENU', 'K_MINUS', 'K_MODE', 'K_NUMLOCK', 'K_NUMLOCKCLEAR', 'K_PAGEDOWN', 'K_PAGEUP', 'K_PAUSE', 'K_PERCENT', 'K_PERIOD', 'K_PLUS', 'K_POWER', 'K_PRINT', 'K_PRINTSCREEN', 'K_QUESTION', 'K_QUOTE', 'K_QUOTEDBL', 'K_RALT', 'K_RCTRL', 'K_RETURN', 'K_RGUI', 'K_RIGHT', 'K_RIGHTBRACKET', 'K_RIGHTPAREN', 'K_RMETA', 'K_RSHIFT', 'K_RSUPER', 'K_SCROLLLOCK', 'K_SCROLLOCK', 'K_SEMICOLON', 'K_SLASH', 'K_SPACE', 'K_SYSREQ', 'K_TAB', 'K_UNDERSCORE', 'K_UNKNOWN', 'K_UP', 'K_a', 'K_b', 'K_c', 'K_d', 'K_e', 'K_f', 'K_g', 'K_h', 'K_i', 'K_j', 'K_k', 'K_l', 'K_m', 'K_n', 'K_o', 'K_p', 'K_q', 'K_r', 'K_s', 'K_t', 'K_u', 'K_v', 'K_w', 'K_x', 'K_y', 'K_z', 'LIL_ENDIAN', 'LOCALECHANGED', 'MIDIIN', 'MIDIOUT', 'MOUSEBUTTONDOWN', 'MOUSEBUTTONUP', 'MOUSEMOTION', 'MOUSEWHEEL', 'MULTIGESTURE', 'Mask', 'NOEVENT', 'NOFRAME', 'NUMEVENTS', 'OPENGL', 'OPENGLBLIT', 'Overlay', 'PREALLOC', 'PixelArray', 'QUIT', 'RENDER_DEVICE_RESET', 'RENDER_TARGETS_RESET', 'RESIZABLE', 'RLEACCEL', 'RLEACCELOK', 'Rect', 'SCALED', 'SCRAP_BMP', 'SCRAP_CLIPBOARD', 'SCRAP_PBM', 'SCRAP_PPM', 'SCRAP_SELECTION', 'SCRAP_TEXT', 'SDL', 'SHOWN', 'SRCALPHA', 'SRCCOLORKEY', 'SWSURFACE', 'SYSTEM_CURSOR_ARROW', 'SYSTEM_CURSOR_CROSSHAIR', 'SYSTEM_CURSOR_HAND', 'SYSTEM_CURSOR_IBEAM', 'SYSTEM_CURSOR_NO', 'SYSTEM_CURSOR_SIZEALL', 'SYSTEM_CURSOR_SIZENESW', 'SYSTEM_CURSOR_SIZENS', 'SYSTEM_CURSOR_SIZENWSE', 'SYSTEM_CURSOR_SIZEWE', 'SYSTEM_CURSOR_WAIT', 'SYSTEM_CURSOR_WAITARROW', 'SYSWMEVENT', 'Surface', 'SurfaceType', 'TEXTEDITING', 'TEXTINPUT', 'TIMER_RESOLUTION', 'USEREVENT', 'USEREVENT_DROPFILE', 'VIDEOEXPOSE', 'VIDEORESIZE', 'Vector2', 'Vector3', 'WINDOWCLOSE', 'WINDOWDISPLAYCHANGED', 'WINDOWENTER', 'WINDOWEXPOSED', 'WINDOWFOCUSGAINED', 'WINDOWFOCUSLOST', 'WINDOWHIDDEN', 'WINDOWHITTEST', 'WINDOWICCPROFCHANGED', 'WINDOWLEAVE', 'WINDOWMAXIMIZED', 'WINDOWMINIMIZED', 'WINDOWMOVED', 'WINDOWRESIZED', 'WINDOWRESTORED', 'WINDOWSHOWN', 'WINDOWSIZECHANGED', 'WINDOWTAKEFOCUS', '__builtins__', '__cached__', '__color_constructor', '__color_reduce', '__doc__', '__file__', '__loader__', '__name__', '__package__', '__path__', '__rect_constructor', '__rect_reduce', '__spec__', '__version__', '_attribute_undefined', 'base', 'bufferproxy', 'color', 'colordict', 'constants', 'cursors', 'display', 'draw', 'encode_file_path', 'encode_string', 'error', 'event', 'fastevent', 'font', 'get_array_interface', 'get_error', 'get_init', 'get_sdl_byteorder', 'get_sdl_version', 'image', 'init', 'joystick', 'key', 'mask', 'math', 'mixer', 'mixer_music', 'mouse', 'pixelarray', 'pixelcopy', 'pkgdata', 'quit', 'rect', 'register_quit', 'rev', 'rwobject', 'scrap', 'set_error', 'sndarray', 'sprite', 'surface', 'surfarray', 'surflock', 'sysfont', 'threads', 'time', 'transform', 'ver', 'vernum', 'version']\n"
     ]
    }
   ],
   "source": [
    "print(dir(pygame))"
   ]
  },
  {
   "cell_type": "code",
   "execution_count": 43,
   "id": "1159a4fc-8896-4dc0-ab62-811a9056a05b",
   "metadata": {},
   "outputs": [],
   "source": [
    "import pandas as pd"
   ]
  },
  {
   "cell_type": "code",
   "execution_count": 45,
   "id": "26eac0a0-3a67-43db-9a01-25798e5451a9",
   "metadata": {},
   "outputs": [
    {
     "name": "stdout",
     "output_type": "stream",
     "text": [
      "['ArrowDtype', 'BooleanDtype', 'Categorical', 'CategoricalDtype', 'CategoricalIndex', 'DataFrame', 'DateOffset', 'DatetimeIndex', 'DatetimeTZDtype', 'ExcelFile', 'ExcelWriter', 'Flags', 'Float32Dtype', 'Float64Dtype', 'Grouper', 'HDFStore', 'Index', 'IndexSlice', 'Int16Dtype', 'Int32Dtype', 'Int64Dtype', 'Int8Dtype', 'Interval', 'IntervalDtype', 'IntervalIndex', 'MultiIndex', 'NA', 'NaT', 'NamedAgg', 'Period', 'PeriodDtype', 'PeriodIndex', 'RangeIndex', 'Series', 'SparseDtype', 'StringDtype', 'Timedelta', 'TimedeltaIndex', 'Timestamp', 'UInt16Dtype', 'UInt32Dtype', 'UInt64Dtype', 'UInt8Dtype', '__all__', '__builtins__', '__cached__', '__doc__', '__docformat__', '__file__', '__git_version__', '__loader__', '__name__', '__package__', '__path__', '__spec__', '__version__', '_built_with_meson', '_config', '_is_numpy_dev', '_libs', '_pandas_datetime_CAPI', '_pandas_parser_CAPI', '_testing', '_typing', '_version_meson', 'annotations', 'api', 'array', 'arrays', 'bdate_range', 'compat', 'concat', 'core', 'crosstab', 'cut', 'date_range', 'describe_option', 'errors', 'eval', 'factorize', 'from_dummies', 'get_dummies', 'get_option', 'infer_freq', 'interval_range', 'io', 'isna', 'isnull', 'json_normalize', 'lreshape', 'melt', 'merge', 'merge_asof', 'merge_ordered', 'notna', 'notnull', 'offsets', 'option_context', 'options', 'pandas', 'period_range', 'pivot', 'pivot_table', 'plotting', 'qcut', 'read_clipboard', 'read_csv', 'read_excel', 'read_feather', 'read_fwf', 'read_gbq', 'read_hdf', 'read_html', 'read_json', 'read_orc', 'read_parquet', 'read_pickle', 'read_sas', 'read_spss', 'read_sql', 'read_sql_query', 'read_sql_table', 'read_stata', 'read_table', 'read_xml', 'reset_option', 'set_eng_float_format', 'set_option', 'show_versions', 'test', 'testing', 'timedelta_range', 'to_datetime', 'to_numeric', 'to_pickle', 'to_timedelta', 'tseries', 'unique', 'util', 'value_counts', 'wide_to_long']\n"
     ]
    }
   ],
   "source": [
    "print(dir(pd))"
   ]
  },
  {
   "cell_type": "code",
   "execution_count": 47,
   "id": "2dd507f9-47fc-4843-8433-057e20591935",
   "metadata": {},
   "outputs": [],
   "source": [
    "import matplotlib"
   ]
  },
  {
   "cell_type": "code",
   "execution_count": 49,
   "id": "2e46d2ea-f0f0-4ed9-b0c5-d30bf6e5fd77",
   "metadata": {},
   "outputs": [
    {
     "name": "stdout",
     "output_type": "stream",
     "text": [
      "['ExecutableNotFoundError', 'MatplotlibDeprecationWarning', 'MutableMapping', 'Parameter', 'Path', 'RcParams', '_ExecInfo', '_VersionInfo', '__all__', '__bibtex__', '__builtins__', '__cached__', '__doc__', '__file__', '__getattr__', '__loader__', '__name__', '__package__', '__path__', '__spec__', '_add_data_doc', '_api', '_c_internal_utils', '_check_versions', '_cm', '_cm_listed', '_color_data', '_deprecated_ignore_map', '_deprecated_map', '_deprecated_remain_as_none', '_docstring', '_ensure_handler', '_enums', '_fontconfig_pattern', '_get_config_or_cache_dir', '_get_executable_info', '_get_ssl_context', '_get_version', '_get_xdg_cache_dir', '_get_xdg_config_dir', '_init_tests', '_label_from_arg', '_log', '_logged_cached', '_open_file_or_url', '_parse_to_version_info', '_path', '_preprocess_data', '_rc_params_in_file', '_replacer', '_val_or_rc', '_version', 'atexit', 'backends', 'bezier', 'cbook', 'cm', 'color_sequences', 'colormaps', 'colors', 'contextlib', 'cycler', 'defaultParams', 'ft2font', 'functools', 'get_backend', 'get_cachedir', 'get_configdir', 'get_data_path', 'importlib', 'inspect', 'interactive', 'is_interactive', 'locale', 'logging', 'matplotlib_fname', 'namedtuple', 'os', 'parse_version', 'path', 'pprint', 'rc', 'rcParams', 'rcParamsDefault', 'rcParamsOrig', 'rc_context', 'rc_file', 'rc_file_defaults', 'rc_params', 'rc_params_from_file', 'rcdefaults', 'rcsetup', 're', 'sanitize_sequence', 'scale', 'set_loglevel', 'shutil', 'subprocess', 'sys', 'tempfile', 'ticker', 'transforms', 'use', 'validate_backend']\n"
     ]
    }
   ],
   "source": [
    "print(dir(matplotlib))"
   ]
  },
  {
   "cell_type": "code",
   "execution_count": 51,
   "id": "2737f5e0-d3cf-450c-91b9-fc80cfc19b02",
   "metadata": {},
   "outputs": [],
   "source": [
    "import seaborn"
   ]
  },
  {
   "cell_type": "code",
   "execution_count": 53,
   "id": "4178f4aa-08db-4fc1-b744-57ad69cede0a",
   "metadata": {},
   "outputs": [
    {
     "name": "stdout",
     "output_type": "stream",
     "text": [
      "['FacetGrid', 'JointGrid', 'PairGrid', '__builtins__', '__cached__', '__doc__', '__file__', '__loader__', '__name__', '__package__', '__path__', '__spec__', '__version__', '_base', '_compat', '_core', '_docstrings', '_orig_rc_params', '_statistics', '_stats', 'algorithms', 'axes_style', 'axisgrid', 'barplot', 'blend_palette', 'boxenplot', 'boxplot', 'categorical', 'catplot', 'choose_colorbrewer_palette', 'choose_cubehelix_palette', 'choose_dark_palette', 'choose_diverging_palette', 'choose_light_palette', 'clustermap', 'cm', 'color_palette', 'colors', 'countplot', 'crayon_palette', 'crayons', 'cubehelix_palette', 'dark_palette', 'desaturate', 'despine', 'displot', 'distplot', 'distributions', 'diverging_palette', 'dogplot', 'ecdfplot', 'external', 'get_data_home', 'get_dataset_names', 'heatmap', 'histplot', 'hls_palette', 'husl_palette', 'jointplot', 'kdeplot', 'light_palette', 'lineplot', 'lmplot', 'load_dataset', 'matrix', 'miscplot', 'move_legend', 'mpl', 'mpl_palette', 'pairplot', 'palettes', 'palplot', 'plotting_context', 'pointplot', 'rcmod', 'regplot', 'regression', 'relational', 'relplot', 'reset_defaults', 'reset_orig', 'residplot', 'rugplot', 'saturate', 'scatterplot', 'set', 'set_color_codes', 'set_context', 'set_hls_values', 'set_palette', 'set_style', 'set_theme', 'stripplot', 'swarmplot', 'utils', 'violinplot', 'widgets', 'xkcd_palette', 'xkcd_rgb']\n"
     ]
    }
   ],
   "source": [
    "print(dir(seaborn))"
   ]
  },
  {
   "cell_type": "code",
   "execution_count": 55,
   "id": "4833a73b-3ef2-462c-a2f1-2195931c5b43",
   "metadata": {},
   "outputs": [],
   "source": [
    "import numpy as np"
   ]
  },
  {
   "cell_type": "code",
   "execution_count": 57,
   "id": "0b3f5a79-a38b-4ede-8817-d547bb05b899",
   "metadata": {},
   "outputs": [
    {
     "name": "stdout",
     "output_type": "stream",
     "text": [
      "['ALLOW_THREADS', 'BUFSIZE', 'CLIP', 'DataSource', 'ERR_CALL', 'ERR_DEFAULT', 'ERR_IGNORE', 'ERR_LOG', 'ERR_PRINT', 'ERR_RAISE', 'ERR_WARN', 'FLOATING_POINT_SUPPORT', 'FPE_DIVIDEBYZERO', 'FPE_INVALID', 'FPE_OVERFLOW', 'FPE_UNDERFLOW', 'False_', 'Inf', 'Infinity', 'MAXDIMS', 'MAY_SHARE_BOUNDS', 'MAY_SHARE_EXACT', 'NAN', 'NINF', 'NZERO', 'NaN', 'PINF', 'PZERO', 'RAISE', 'RankWarning', 'SHIFT_DIVIDEBYZERO', 'SHIFT_INVALID', 'SHIFT_OVERFLOW', 'SHIFT_UNDERFLOW', 'ScalarType', 'True_', 'UFUNC_BUFSIZE_DEFAULT', 'UFUNC_PYVALS_NAME', 'WRAP', '_CopyMode', '_NoValue', '_UFUNC_API', '__NUMPY_SETUP__', '__all__', '__builtins__', '__cached__', '__config__', '__deprecated_attrs__', '__dir__', '__doc__', '__expired_functions__', '__file__', '__former_attrs__', '__future_scalars__', '__getattr__', '__loader__', '__name__', '__package__', '__path__', '__spec__', '__version__', '_add_newdoc_ufunc', '_builtins', '_distributor_init', '_financial_names', '_get_promotion_state', '_globals', '_int_extended_msg', '_mat', '_no_nep50_warning', '_pyinstaller_hooks_dir', '_pytesttester', '_set_promotion_state', '_specific_msg', '_typing', '_using_numpy2_behavior', '_utils', 'abs', 'absolute', 'add', 'add_docstring', 'add_newdoc', 'add_newdoc_ufunc', 'all', 'allclose', 'alltrue', 'amax', 'amin', 'angle', 'any', 'append', 'apply_along_axis', 'apply_over_axes', 'arange', 'arccos', 'arccosh', 'arcsin', 'arcsinh', 'arctan', 'arctan2', 'arctanh', 'argmax', 'argmin', 'argpartition', 'argsort', 'argwhere', 'around', 'array', 'array2string', 'array_equal', 'array_equiv', 'array_repr', 'array_split', 'array_str', 'asanyarray', 'asarray', 'asarray_chkfinite', 'ascontiguousarray', 'asfarray', 'asfortranarray', 'asmatrix', 'atleast_1d', 'atleast_2d', 'atleast_3d', 'average', 'bartlett', 'base_repr', 'binary_repr', 'bincount', 'bitwise_and', 'bitwise_not', 'bitwise_or', 'bitwise_xor', 'blackman', 'block', 'bmat', 'bool_', 'broadcast', 'broadcast_arrays', 'broadcast_shapes', 'broadcast_to', 'busday_count', 'busday_offset', 'busdaycalendar', 'byte', 'byte_bounds', 'bytes_', 'c_', 'can_cast', 'cast', 'cbrt', 'cdouble', 'ceil', 'cfloat', 'char', 'character', 'chararray', 'choose', 'clip', 'clongdouble', 'clongfloat', 'column_stack', 'common_type', 'compare_chararrays', 'compat', 'complex128', 'complex64', 'complex_', 'complexfloating', 'compress', 'concatenate', 'conj', 'conjugate', 'convolve', 'copy', 'copysign', 'copyto', 'corrcoef', 'correlate', 'cos', 'cosh', 'count_nonzero', 'cov', 'cross', 'csingle', 'ctypeslib', 'cumprod', 'cumproduct', 'cumsum', 'datetime64', 'datetime_as_string', 'datetime_data', 'deg2rad', 'degrees', 'delete', 'deprecate', 'deprecate_with_doc', 'diag', 'diag_indices', 'diag_indices_from', 'diagflat', 'diagonal', 'diff', 'digitize', 'disp', 'divide', 'divmod', 'dot', 'double', 'dsplit', 'dstack', 'dtype', 'dtypes', 'e', 'ediff1d', 'einsum', 'einsum_path', 'emath', 'empty', 'empty_like', 'equal', 'errstate', 'euler_gamma', 'exceptions', 'exp', 'exp2', 'expand_dims', 'expm1', 'expm1x', 'extract', 'eye', 'fabs', 'fastCopyAndTranspose', 'fft', 'fill_diagonal', 'find_common_type', 'finfo', 'fix', 'flatiter', 'flatnonzero', 'flexible', 'flip', 'fliplr', 'flipud', 'float16', 'float32', 'float64', 'float_', 'float_power', 'floating', 'floor', 'floor_divide', 'fmax', 'fmin', 'fmod', 'format_float_positional', 'format_float_scientific', 'format_parser', 'frexp', 'from_dlpack', 'frombuffer', 'fromfile', 'fromfunction', 'fromiter', 'frompyfunc', 'fromregex', 'fromstring', 'full', 'full_like', 'gcd', 'generic', 'genfromtxt', 'geomspace', 'get_array_wrap', 'get_include', 'get_printoptions', 'getbufsize', 'geterr', 'geterrcall', 'geterrobj', 'gradient', 'greater', 'greater_equal', 'half', 'hamming', 'hanning', 'heaviside', 'histogram', 'histogram2d', 'histogram_bin_edges', 'histogramdd', 'hsplit', 'hstack', 'hypot', 'i0', 'identity', 'iinfo', 'imag', 'in1d', 'index_exp', 'indices', 'inexact', 'inf', 'info', 'infty', 'inner', 'insert', 'int16', 'int32', 'int64', 'int8', 'int_', 'intc', 'integer', 'interp', 'intersect1d', 'intp', 'invert', 'is_busday', 'isclose', 'iscomplex', 'iscomplexobj', 'isfinite', 'isfortran', 'isin', 'isinf', 'isnan', 'isnat', 'isneginf', 'isposinf', 'isreal', 'isrealobj', 'isscalar', 'issctype', 'issubclass_', 'issubdtype', 'issubsctype', 'iterable', 'ix_', 'kaiser', 'kron', 'lcm', 'ldexp', 'left_shift', 'less', 'less_equal', 'lexsort', 'lib', 'linalg', 'linspace', 'little_endian', 'load', 'loadtxt', 'log', 'log10', 'log1p', 'log2', 'logaddexp', 'logaddexp2', 'logical_and', 'logical_not', 'logical_or', 'logical_xor', 'logspace', 'longcomplex', 'longdouble', 'longfloat', 'longlong', 'lookfor', 'ma', 'mask_indices', 'mat', 'matmul', 'matrix', 'max', 'maximum', 'maximum_sctype', 'may_share_memory', 'mean', 'median', 'memmap', 'meshgrid', 'mgrid', 'min', 'min_scalar_type', 'minimum', 'mintypecode', 'mod', 'modf', 'moveaxis', 'msort', 'multiply', 'nan', 'nan_to_num', 'nanargmax', 'nanargmin', 'nancumprod', 'nancumsum', 'nanmax', 'nanmean', 'nanmedian', 'nanmin', 'nanpercentile', 'nanprod', 'nanquantile', 'nanstd', 'nansum', 'nanvar', 'nbytes', 'ndarray', 'ndenumerate', 'ndim', 'ndindex', 'nditer', 'negative', 'nested_iters', 'newaxis', 'nextafter', 'nonzero', 'not_equal', 'numarray', 'number', 'obj2sctype', 'object_', 'ogrid', 'oldnumeric', 'ones', 'ones_like', 'outer', 'packbits', 'pad', 'partition', 'percentile', 'pi', 'piecewise', 'place', 'poly', 'poly1d', 'polyadd', 'polyder', 'polydiv', 'polyfit', 'polyint', 'polymul', 'polynomial', 'polysub', 'polyval', 'positive', 'power', 'printoptions', 'prod', 'product', 'promote_types', 'ptp', 'put', 'put_along_axis', 'putmask', 'quantile', 'r_', 'rad2deg', 'radians', 'random', 'ravel', 'ravel_multi_index', 'real', 'real_if_close', 'rec', 'recarray', 'recfromcsv', 'recfromtxt', 'reciprocal', 'record', 'remainder', 'repeat', 'require', 'reshape', 'resize', 'result_type', 'right_shift', 'rint', 'roll', 'rollaxis', 'roots', 'rot90', 'round', 'round_', 'row_stack', 's_', 'safe_eval', 'save', 'savetxt', 'savez', 'savez_compressed', 'sctype2char', 'sctypeDict', 'sctypes', 'searchsorted', 'select', 'set_numeric_ops', 'set_printoptions', 'set_string_function', 'setbufsize', 'setdiff1d', 'seterr', 'seterrcall', 'seterrobj', 'setxor1d', 'shape', 'shares_memory', 'short', 'show_config', 'show_runtime', 'sign', 'signbit', 'signedinteger', 'sin', 'sinc', 'single', 'singlecomplex', 'sinh', 'size', 'sometrue', 'sort', 'sort_complex', 'source', 'spacing', 'split', 'sqrt', 'square', 'squeeze', 'stack', 'std', 'str_', 'string_', 'subtract', 'sum', 'swapaxes', 'take', 'take_along_axis', 'tan', 'tanh', 'tensordot', 'test', 'testing', 'tile', 'timedelta64', 'trace', 'tracemalloc_domain', 'transpose', 'trapz', 'tri', 'tril', 'tril_indices', 'tril_indices_from', 'trim_zeros', 'triu', 'triu_indices', 'triu_indices_from', 'true_divide', 'trunc', 'typecodes', 'typename', 'typing', 'ubyte', 'ufunc', 'uint', 'uint16', 'uint32', 'uint64', 'uint8', 'uintc', 'uintp', 'ulonglong', 'unicode_', 'union1d', 'unique', 'unpackbits', 'unravel_index', 'unsignedinteger', 'unwrap', 'ushort', 'vander', 'var', 'vdot', 'vectorize', 'version', 'void', 'vsplit', 'vstack', 'where', 'who', 'zeros', 'zeros_like']\n"
     ]
    }
   ],
   "source": [
    "print(dir(np))"
   ]
  },
  {
   "cell_type": "code",
   "execution_count": null,
   "id": "db52d11b-f563-4d78-9b1c-7815bad985c6",
   "metadata": {},
   "outputs": [],
   "source": []
  },
  {
   "cell_type": "code",
   "execution_count": 60,
   "id": "41eb9a6b-e799-4dd2-9519-bff928f4cafc",
   "metadata": {},
   "outputs": [
    {
     "name": "stdout",
     "output_type": "stream",
     "text": [
      "Requirement already satisfied: qrcode in c:\\users\\salma\\anaconda3\\lib\\site-packages (8.0)\n",
      "Requirement already satisfied: colorama in c:\\users\\salma\\anaconda3\\lib\\site-packages (from qrcode) (0.4.6)\n",
      "Note: you may need to restart the kernel to use updated packages.\n"
     ]
    }
   ],
   "source": [
    "# pip install qrcode"
   ]
  },
  {
   "cell_type": "code",
   "execution_count": 62,
   "id": "aee53266-6af0-4827-9413-0b59a40c84b4",
   "metadata": {},
   "outputs": [
    {
     "name": "stdout",
     "output_type": "stream",
     "text": [
      "Done\n"
     ]
    }
   ],
   "source": [
    "import qrcode\n",
    "img = qrcode.make('https://docs.google.com/forms/d/e/1FAIpQLSfmV32pWdDvcP9am8ZF7ArEJgqBsLT46bxNyu8wY7wEnpDRJg/viewform?usp=sharing')\n",
    "# type(img)  # qrcode.image.pil.PilImage\n",
    "img.save(\"Qr.png\")\n",
    "print('Done')"
   ]
  },
  {
   "cell_type": "code",
   "execution_count": 64,
   "id": "a91a45f9-b1aa-44bc-9cc5-3bbf5b7cd7b1",
   "metadata": {},
   "outputs": [],
   "source": [
    "import turtle"
   ]
  },
  {
   "cell_type": "code",
   "execution_count": 66,
   "id": "6aa182d6-700e-4fb3-bb00-34f4f9977923",
   "metadata": {},
   "outputs": [
    {
     "name": "stdout",
     "output_type": "stream",
     "text": [
      "['Canvas', 'Pen', 'RawPen', 'RawTurtle', 'Screen', 'ScrolledCanvas', 'Shape', 'TK', 'TNavigator', 'TPen', 'Tbuffer', 'Terminator', 'Turtle', 'TurtleGraphicsError', 'TurtleScreen', 'TurtleScreenBase', 'Vec2D', '_CFG', '_LANGUAGE', '_Root', '_Screen', '_TurtleImage', '__all__', '__builtins__', '__cached__', '__doc__', '__file__', '__forwardmethods', '__func_body', '__loader__', '__methodDict', '__methods', '__name__', '__package__', '__spec__', '__stringBody', '_alias_list', '_make_global_funcs', '_screen_docrevise', '_tg_classes', '_tg_screen_functions', '_tg_turtle_functions', '_tg_utilities', '_turtle_docrevise', 'addshape', 'back', 'backward', 'begin_fill', 'begin_poly', 'bgcolor', 'bgpic', 'bk', 'bye', 'circle', 'clear', 'clearscreen', 'clearstamp', 'clearstamps', 'clone', 'color', 'colormode', 'config_dict', 'deepcopy', 'degrees', 'delay', 'distance', 'done', 'dot', 'down', 'end_fill', 'end_poly', 'exitonclick', 'fd', 'fillcolor', 'filling', 'forward', 'get_poly', 'get_shapepoly', 'getcanvas', 'getmethparlist', 'getpen', 'getscreen', 'getshapes', 'getturtle', 'goto', 'heading', 'hideturtle', 'home', 'ht', 'inspect', 'isdown', 'isfile', 'isvisible', 'join', 'left', 'listen', 'lt', 'mainloop', 'math', 'mode', 'numinput', 'onclick', 'ondrag', 'onkey', 'onkeypress', 'onkeyrelease', 'onrelease', 'onscreenclick', 'ontimer', 'pd', 'pen', 'pencolor', 'pendown', 'pensize', 'penup', 'pos', 'position', 'pu', 'radians', 'read_docstrings', 'readconfig', 'register_shape', 'reset', 'resetscreen', 'resizemode', 'right', 'rt', 'screensize', 'seth', 'setheading', 'setpos', 'setposition', 'settiltangle', 'setundobuffer', 'setup', 'setworldcoordinates', 'setx', 'sety', 'shape', 'shapesize', 'shapetransform', 'shearfactor', 'showturtle', 'simpledialog', 'speed', 'split', 'st', 'stamp', 'sys', 'teleport', 'textinput', 'tilt', 'tiltangle', 'time', 'title', 'towards', 'tracer', 'turtles', 'turtlesize', 'types', 'undo', 'undobufferentries', 'up', 'update', 'warnings', 'width', 'window_height', 'window_width', 'write', 'write_docstringdict', 'xcor', 'ycor']\n"
     ]
    }
   ],
   "source": [
    "print(dir(turtle))"
   ]
  },
  {
   "cell_type": "code",
   "execution_count": 5,
   "id": "95a0fdb6-6024-4353-9c19-c807dad98870",
   "metadata": {},
   "outputs": [
    {
     "ename": "Terminator",
     "evalue": "",
     "output_type": "error",
     "traceback": [
      "\u001b[1;31m---------------------------------------------------------------------------\u001b[0m",
      "\u001b[1;31mTerminator\u001b[0m                                Traceback (most recent call last)",
      "Cell \u001b[1;32mIn[5], line 9\u001b[0m\n\u001b[0;32m      7\u001b[0m turtle\u001b[38;5;241m.\u001b[39mspeed(\u001b[38;5;241m0\u001b[39m)\n\u001b[0;32m      8\u001b[0m all_color \u001b[38;5;241m=\u001b[39m [\u001b[38;5;124m'\u001b[39m\u001b[38;5;124mred\u001b[39m\u001b[38;5;124m'\u001b[39m,\u001b[38;5;124m'\u001b[39m\u001b[38;5;124mblue\u001b[39m\u001b[38;5;124m'\u001b[39m,\u001b[38;5;124m'\u001b[39m\u001b[38;5;124mgreen\u001b[39m\u001b[38;5;124m'\u001b[39m,\u001b[38;5;124m'\u001b[39m\u001b[38;5;124myellow\u001b[39m\u001b[38;5;124m'\u001b[39m,\u001b[38;5;124m'\u001b[39m\u001b[38;5;124mpink\u001b[39m\u001b[38;5;124m'\u001b[39m,\u001b[38;5;124m'\u001b[39m\u001b[38;5;124morange\u001b[39m\u001b[38;5;124m'\u001b[39m]\n\u001b[1;32m----> 9\u001b[0m turtle\u001b[38;5;241m.\u001b[39mcolor(random\u001b[38;5;241m.\u001b[39mchoice(all_color))\n\u001b[0;32m     10\u001b[0m turtle\u001b[38;5;241m.\u001b[39mcircle(random\u001b[38;5;241m.\u001b[39mrandint(\u001b[38;5;241m50\u001b[39m,\u001b[38;5;241m200\u001b[39m))\n\u001b[0;32m     11\u001b[0m turtle\u001b[38;5;241m.\u001b[39mleft(random\u001b[38;5;241m.\u001b[39mrandint(\u001b[38;5;241m1\u001b[39m,\u001b[38;5;241m90\u001b[39m))\n",
      "File \u001b[1;32m<string>:5\u001b[0m, in \u001b[0;36mcolor\u001b[1;34m(*args)\u001b[0m\n",
      "\u001b[1;31mTerminator\u001b[0m: "
     ]
    }
   ],
   "source": [
    "import time\n",
    "import turtle\n",
    "import random\n",
    "# num = \n",
    "# turtle.bgcolor('white')\n",
    "while True:\n",
    "    turtle.speed(0)\n",
    "    all_color = ['red','blue','green','yellow','pink','orange']\n",
    "    turtle.color(random.choice(all_color))\n",
    "    turtle.circle(random.randint(50,200))\n",
    "    turtle.left(random.randint(1,90))\n",
    "    time.sleep(0.05)"
   ]
  },
  {
   "cell_type": "code",
   "execution_count": 1,
   "id": "ceba194b-7def-4360-b77b-be049dc0f631",
   "metadata": {},
   "outputs": [],
   "source": [
    "import time\n",
    "import turtle\n",
    "import random\n",
    "dist = 50\n",
    "for i in range(20):\n",
    "    turtle.speed(0)\n",
    "    all_color = ['red','blue','green','yellow','pink','orange']\n",
    "    turtle.color(random.choice(all_color))\n",
    "    turtle.forward(dist)\n",
    "    dist += 5\n",
    "    turtle.left(60)\n",
    "    time.sleep(0.05)"
   ]
  },
  {
   "cell_type": "code",
   "execution_count": 3,
   "id": "2f0e5543-925a-410b-a447-6696976893e1",
   "metadata": {},
   "outputs": [
    {
     "data": {
      "text/plain": [
       "6.0"
      ]
     },
     "execution_count": 3,
     "metadata": {},
     "output_type": "execute_result"
    }
   ],
   "source": [
    "360/60"
   ]
  },
  {
   "cell_type": "code",
   "execution_count": 1,
   "id": "8519d4a6-32ab-4177-9aa9-993f15afa863",
   "metadata": {},
   "outputs": [],
   "source": [
    "# Web developer:-\n",
    "# Flask, Fastapi, Django\n",
    "\n",
    "# Data Analyst:- Pandas, Numpy, Matplotlib, Seaborn, Stats\n",
    "\n",
    "# ML:- Sk learn, scipy, stats,stasapi\n",
    "# DL:- Tensorflow,pytorch, bert, gensim, sklearn\n",
    "# GenAI:- Openai, deepseek, bard, gemini, etc, Qween\n",
    "\n"
   ]
  },
  {
   "cell_type": "code",
   "execution_count": null,
   "id": "01c03af2-5e3b-4bd9-a502-2fc826549d04",
   "metadata": {},
   "outputs": [],
   "source": []
  },
  {
   "cell_type": "code",
   "execution_count": null,
   "id": "95564257-ab13-465c-93e7-af4733f4aefe",
   "metadata": {},
   "outputs": [],
   "source": []
  },
  {
   "cell_type": "markdown",
   "id": "0230b516-5058-4d54-8f98-228e55f9c83f",
   "metadata": {},
   "source": [
    "# Exception Handling"
   ]
  },
  {
   "cell_type": "code",
   "execution_count": null,
   "id": "d7ed2331-4a84-4966-8042-cbe92ad6f7f0",
   "metadata": {},
   "outputs": [],
   "source": [
    "# Exception Handling\n",
    "# File handling\n",
    "# OOPS\n",
    "# Database connectivity\n",
    "# Webscraping Project"
   ]
  },
  {
   "cell_type": "code",
   "execution_count": 8,
   "id": "dc8bb0af-56b1-4f42-8c40-ec34ff7c841b",
   "metadata": {},
   "outputs": [],
   "source": [
    "# Exception Handling:- Exception:- Errors:- Handling"
   ]
  },
  {
   "cell_type": "code",
   "execution_count": 10,
   "id": "fc5412e4-4e0a-4d1c-83c0-a2eaac9fc37a",
   "metadata": {},
   "outputs": [],
   "source": [
    "#DM:- "
   ]
  },
  {
   "cell_type": "code",
   "execution_count": 24,
   "id": "76c77630-ef9e-4c38-8b02-bf4ac8e8b1d6",
   "metadata": {},
   "outputs": [
    {
     "name": "stdout",
     "output_type": "stream",
     "text": [
      "No module found!!\n",
      "hello World\n"
     ]
    }
   ],
   "source": [
    "try:\n",
    "    import mumbai\n",
    "except:\n",
    "    try:\n",
    "        import bombay\n",
    "    except:\n",
    "        print('No module found!!')\n",
    "print('hello World')"
   ]
  },
  {
   "cell_type": "code",
   "execution_count": 18,
   "id": "9d83d76b-6d11-4f5e-b729-b33ad77a0950",
   "metadata": {},
   "outputs": [],
   "source": [
    "# try\n",
    "# except\n",
    "# else\n",
    "# finally"
   ]
  },
  {
   "cell_type": "markdown",
   "id": "99d1f820-0810-4b71-9cc8-4bc5a4a95ee2",
   "metadata": {},
   "source": [
    "```python\n",
    "try:\n",
    "    print('The code that you want to try!!')\n",
    "except:\n",
    "    print('This will execute when try code fails')\n",
    "else:\n",
    "    print('This represents success of try code block')\n",
    "    \n",
    "finally:\n",
    "    print('run this Any how')\n",
    "```"
   ]
  },
  {
   "cell_type": "code",
   "execution_count": 30,
   "id": "0df1a2d1-cfd1-4403-83bc-800273851111",
   "metadata": {},
   "outputs": [],
   "source": [
    "# exceptions:- list of errors"
   ]
  },
  {
   "cell_type": "code",
   "execution_count": 32,
   "id": "c8938ee3-e496-42ae-a5b8-d4fb6a7ff471",
   "metadata": {},
   "outputs": [
    {
     "ename": "ZeroDivisionError",
     "evalue": "division by zero",
     "output_type": "error",
     "traceback": [
      "\u001b[1;31m---------------------------------------------------------------------------\u001b[0m",
      "\u001b[1;31mZeroDivisionError\u001b[0m                         Traceback (most recent call last)",
      "Cell \u001b[1;32mIn[32], line 1\u001b[0m\n\u001b[1;32m----> 1\u001b[0m \u001b[38;5;28mprint\u001b[39m(\u001b[38;5;241m234\u001b[39m\u001b[38;5;241m/\u001b[39m\u001b[38;5;241m0\u001b[39m)\n",
      "\u001b[1;31mZeroDivisionError\u001b[0m: division by zero"
     ]
    }
   ],
   "source": [
    "print(234/0)"
   ]
  },
  {
   "cell_type": "code",
   "execution_count": 34,
   "id": "b8c6a025-0526-4ae0-8f02-5ca75c6f0d4c",
   "metadata": {},
   "outputs": [],
   "source": [
    "data = [34,55,7]"
   ]
  },
  {
   "cell_type": "code",
   "execution_count": 36,
   "id": "e870e390-5fe6-4f2a-b730-a133477a553b",
   "metadata": {},
   "outputs": [
    {
     "ename": "IndexError",
     "evalue": "list index out of range",
     "output_type": "error",
     "traceback": [
      "\u001b[1;31m---------------------------------------------------------------------------\u001b[0m",
      "\u001b[1;31mIndexError\u001b[0m                                Traceback (most recent call last)",
      "Cell \u001b[1;32mIn[36], line 1\u001b[0m\n\u001b[1;32m----> 1\u001b[0m data[\u001b[38;5;241m4\u001b[39m]\n",
      "\u001b[1;31mIndexError\u001b[0m: list index out of range"
     ]
    }
   ],
   "source": [
    "data[4]"
   ]
  },
  {
   "cell_type": "code",
   "execution_count": 38,
   "id": "2de00214-7029-494e-a1db-cb619cfe4283",
   "metadata": {},
   "outputs": [
    {
     "ename": "NameError",
     "evalue": "name 'india' is not defined",
     "output_type": "error",
     "traceback": [
      "\u001b[1;31m---------------------------------------------------------------------------\u001b[0m",
      "\u001b[1;31mNameError\u001b[0m                                 Traceback (most recent call last)",
      "Cell \u001b[1;32mIn[38], line 1\u001b[0m\n\u001b[1;32m----> 1\u001b[0m \u001b[38;5;28mprint\u001b[39m(india)\n",
      "\u001b[1;31mNameError\u001b[0m: name 'india' is not defined"
     ]
    }
   ],
   "source": [
    "print(india)"
   ]
  },
  {
   "cell_type": "code",
   "execution_count": 40,
   "id": "4443dc4e-774e-444e-8d7c-5485dbd2c079",
   "metadata": {},
   "outputs": [],
   "source": [
    "a = '4'\n",
    "b = 4"
   ]
  },
  {
   "cell_type": "code",
   "execution_count": 42,
   "id": "ce103603-3f6c-4ae0-8fea-9795f52eacda",
   "metadata": {},
   "outputs": [
    {
     "ename": "TypeError",
     "evalue": "can only concatenate str (not \"int\") to str",
     "output_type": "error",
     "traceback": [
      "\u001b[1;31m---------------------------------------------------------------------------\u001b[0m",
      "\u001b[1;31mTypeError\u001b[0m                                 Traceback (most recent call last)",
      "Cell \u001b[1;32mIn[42], line 1\u001b[0m\n\u001b[1;32m----> 1\u001b[0m a \u001b[38;5;241m+\u001b[39m b\n",
      "\u001b[1;31mTypeError\u001b[0m: can only concatenate str (not \"int\") to str"
     ]
    }
   ],
   "source": [
    "a + b"
   ]
  },
  {
   "cell_type": "code",
   "execution_count": 48,
   "id": "4955336c-075d-425a-b8c0-b14de9775f37",
   "metadata": {},
   "outputs": [
    {
     "ename": "ValueError",
     "evalue": "invalid literal for int() with base 10: '346.456'",
     "output_type": "error",
     "traceback": [
      "\u001b[1;31m---------------------------------------------------------------------------\u001b[0m",
      "\u001b[1;31mValueError\u001b[0m                                Traceback (most recent call last)",
      "Cell \u001b[1;32mIn[48], line 2\u001b[0m\n\u001b[0;32m      1\u001b[0m a \u001b[38;5;241m=\u001b[39m \u001b[38;5;124m'\u001b[39m\u001b[38;5;124m346.456\u001b[39m\u001b[38;5;124m'\u001b[39m\n\u001b[1;32m----> 2\u001b[0m \u001b[38;5;28mint\u001b[39m(a)\n",
      "\u001b[1;31mValueError\u001b[0m: invalid literal for int() with base 10: '346.456'"
     ]
    }
   ],
   "source": [
    "a = '346.456'\n",
    "int(a)"
   ]
  },
  {
   "cell_type": "code",
   "execution_count": 50,
   "id": "619cf05a-44d3-4452-b45c-ffb3e396b586",
   "metadata": {},
   "outputs": [],
   "source": [
    "def rec():\n",
    "    rec()"
   ]
  },
  {
   "cell_type": "code",
   "execution_count": 52,
   "id": "0bfbe1ae-5de3-4697-93d2-61640b88c634",
   "metadata": {},
   "outputs": [
    {
     "ename": "RecursionError",
     "evalue": "maximum recursion depth exceeded",
     "output_type": "error",
     "traceback": [
      "\u001b[1;31m---------------------------------------------------------------------------\u001b[0m",
      "\u001b[1;31mRecursionError\u001b[0m                            Traceback (most recent call last)",
      "Cell \u001b[1;32mIn[52], line 1\u001b[0m\n\u001b[1;32m----> 1\u001b[0m rec()\n",
      "Cell \u001b[1;32mIn[50], line 2\u001b[0m, in \u001b[0;36mrec\u001b[1;34m()\u001b[0m\n\u001b[0;32m      1\u001b[0m \u001b[38;5;28;01mdef\u001b[39;00m \u001b[38;5;21mrec\u001b[39m():\n\u001b[1;32m----> 2\u001b[0m     rec()\n",
      "Cell \u001b[1;32mIn[50], line 2\u001b[0m, in \u001b[0;36mrec\u001b[1;34m()\u001b[0m\n\u001b[0;32m      1\u001b[0m \u001b[38;5;28;01mdef\u001b[39;00m \u001b[38;5;21mrec\u001b[39m():\n\u001b[1;32m----> 2\u001b[0m     rec()\n",
      "    \u001b[1;31m[... skipping similar frames: rec at line 2 (2974 times)]\u001b[0m\n",
      "Cell \u001b[1;32mIn[50], line 2\u001b[0m, in \u001b[0;36mrec\u001b[1;34m()\u001b[0m\n\u001b[0;32m      1\u001b[0m \u001b[38;5;28;01mdef\u001b[39;00m \u001b[38;5;21mrec\u001b[39m():\n\u001b[1;32m----> 2\u001b[0m     rec()\n",
      "\u001b[1;31mRecursionError\u001b[0m: maximum recursion depth exceeded"
     ]
    }
   ],
   "source": [
    "rec()"
   ]
  },
  {
   "cell_type": "code",
   "execution_count": 54,
   "id": "ed2e9e75-c4a0-48b9-8251-69be92ebf64b",
   "metadata": {},
   "outputs": [],
   "source": [
    "data = {'Name':'Mohan','Age':34,'Address':'Noida'}"
   ]
  },
  {
   "cell_type": "code",
   "execution_count": 58,
   "id": "7644b5e3-5866-4004-9e40-2c2d5de7c8bd",
   "metadata": {},
   "outputs": [
    {
     "ename": "KeyError",
     "evalue": "'Sec'",
     "output_type": "error",
     "traceback": [
      "\u001b[1;31m---------------------------------------------------------------------------\u001b[0m",
      "\u001b[1;31mKeyError\u001b[0m                                  Traceback (most recent call last)",
      "Cell \u001b[1;32mIn[58], line 1\u001b[0m\n\u001b[1;32m----> 1\u001b[0m data[\u001b[38;5;124m'\u001b[39m\u001b[38;5;124mSec\u001b[39m\u001b[38;5;124m'\u001b[39m]\n",
      "\u001b[1;31mKeyError\u001b[0m: 'Sec'"
     ]
    }
   ],
   "source": [
    "data['Sec']"
   ]
  },
  {
   "cell_type": "code",
   "execution_count": 60,
   "id": "86c4650d-6103-40a4-8bef-aae96ca5fa41",
   "metadata": {},
   "outputs": [
    {
     "ename": "ModuleNotFoundError",
     "evalue": "No module named 'tech'",
     "output_type": "error",
     "traceback": [
      "\u001b[1;31m---------------------------------------------------------------------------\u001b[0m",
      "\u001b[1;31mModuleNotFoundError\u001b[0m                       Traceback (most recent call last)",
      "Cell \u001b[1;32mIn[60], line 1\u001b[0m\n\u001b[1;32m----> 1\u001b[0m \u001b[38;5;28;01mimport\u001b[39;00m \u001b[38;5;21;01mtech\u001b[39;00m\n",
      "\u001b[1;31mModuleNotFoundError\u001b[0m: No module named 'tech'"
     ]
    }
   ],
   "source": [
    "import tech"
   ]
  },
  {
   "cell_type": "code",
   "execution_count": 62,
   "id": "70b4ccd7-d133-45e2-b80a-545d6bd9ec80",
   "metadata": {},
   "outputs": [
    {
     "ename": "ImportError",
     "evalue": "cannot import name 'randint' from 'math' (unknown location)",
     "output_type": "error",
     "traceback": [
      "\u001b[1;31m---------------------------------------------------------------------------\u001b[0m",
      "\u001b[1;31mImportError\u001b[0m                               Traceback (most recent call last)",
      "Cell \u001b[1;32mIn[62], line 1\u001b[0m\n\u001b[1;32m----> 1\u001b[0m \u001b[38;5;28;01mfrom\u001b[39;00m \u001b[38;5;21;01mmath\u001b[39;00m \u001b[38;5;28;01mimport\u001b[39;00m randint\n",
      "\u001b[1;31mImportError\u001b[0m: cannot import name 'randint' from 'math' (unknown location)"
     ]
    }
   ],
   "source": [
    "from math import randint"
   ]
  },
  {
   "cell_type": "code",
   "execution_count": 70,
   "id": "82a7cf8b-3c6c-4a11-b2b1-626d5c564a80",
   "metadata": {},
   "outputs": [],
   "source": [
    "data = [235,456]"
   ]
  },
  {
   "cell_type": "code",
   "execution_count": 72,
   "id": "6e326109-2355-4e38-ac1f-fa03b7441aac",
   "metadata": {},
   "outputs": [],
   "source": [
    "data.append(23)"
   ]
  },
  {
   "cell_type": "code",
   "execution_count": 74,
   "id": "d985165f-10ec-4cdc-9f49-be21e5f79d9c",
   "metadata": {},
   "outputs": [
    {
     "data": {
      "text/plain": [
       "[235, 456, 23]"
      ]
     },
     "execution_count": 74,
     "metadata": {},
     "output_type": "execute_result"
    }
   ],
   "source": [
    "data"
   ]
  },
  {
   "cell_type": "code",
   "execution_count": 76,
   "id": "dec37a23-03f5-4130-af9d-6c64c0739ab6",
   "metadata": {},
   "outputs": [
    {
     "ename": "AttributeError",
     "evalue": "'set' object has no attribute 'append'",
     "output_type": "error",
     "traceback": [
      "\u001b[1;31m---------------------------------------------------------------------------\u001b[0m",
      "\u001b[1;31mAttributeError\u001b[0m                            Traceback (most recent call last)",
      "Cell \u001b[1;32mIn[76], line 2\u001b[0m\n\u001b[0;32m      1\u001b[0m data \u001b[38;5;241m=\u001b[39m {\u001b[38;5;241m3\u001b[39m,\u001b[38;5;241m46\u001b[39m,\u001b[38;5;241m567\u001b[39m}\n\u001b[1;32m----> 2\u001b[0m data\u001b[38;5;241m.\u001b[39mappend(\u001b[38;5;241m234\u001b[39m)\n",
      "\u001b[1;31mAttributeError\u001b[0m: 'set' object has no attribute 'append'"
     ]
    }
   ],
   "source": [
    "data = {3,46,567}\n",
    "data.append(234)"
   ]
  },
  {
   "cell_type": "code",
   "execution_count": 78,
   "id": "0331cd98-acb2-4277-8162-9b9f478f139f",
   "metadata": {},
   "outputs": [
    {
     "name": "stdout",
     "output_type": "stream",
     "text": [
      "['ArithmeticError', 'AssertionError', 'AttributeError', 'BaseException', 'BaseExceptionGroup', 'BlockingIOError', 'BrokenPipeError', 'BufferError', 'BytesWarning', 'ChildProcessError', 'ConnectionAbortedError', 'ConnectionError', 'ConnectionRefusedError', 'ConnectionResetError', 'DeprecationWarning', 'EOFError', 'Ellipsis', 'EncodingWarning', 'EnvironmentError', 'Exception', 'ExceptionGroup', 'False', 'FileExistsError', 'FileNotFoundError', 'FloatingPointError', 'FutureWarning', 'GeneratorExit', 'IOError', 'ImportError', 'ImportWarning', 'IndentationError', 'IndexError', 'InterruptedError', 'IsADirectoryError', 'KeyError', 'KeyboardInterrupt', 'LookupError', 'MemoryError', 'ModuleNotFoundError', 'NameError', 'None', 'NotADirectoryError', 'NotImplemented', 'NotImplementedError', 'OSError', 'OverflowError', 'PendingDeprecationWarning', 'PermissionError', 'ProcessLookupError', 'RecursionError', 'ReferenceError', 'ResourceWarning', 'RuntimeError', 'RuntimeWarning', 'StopAsyncIteration', 'StopIteration', 'SyntaxError', 'SyntaxWarning', 'SystemError', 'SystemExit', 'TabError', 'TimeoutError', 'True', 'TypeError', 'UnboundLocalError', 'UnicodeDecodeError', 'UnicodeEncodeError', 'UnicodeError', 'UnicodeTranslateError', 'UnicodeWarning', 'UserWarning', 'ValueError', 'Warning', 'WindowsError', 'ZeroDivisionError', '__IPYTHON__', '__build_class__', '__debug__', '__doc__', '__import__', '__loader__', '__name__', '__package__', '__spec__', 'abs', 'aiter', 'all', 'anext', 'any', 'ascii', 'bin', 'bool', 'breakpoint', 'bytearray', 'bytes', 'callable', 'chr', 'classmethod', 'compile', 'complex', 'copyright', 'credits', 'delattr', 'dict', 'dir', 'display', 'divmod', 'enumerate', 'eval', 'exec', 'execfile', 'filter', 'float', 'format', 'frozenset', 'get_ipython', 'getattr', 'globals', 'hasattr', 'hash', 'help', 'hex', 'id', 'input', 'int', 'isinstance', 'issubclass', 'iter', 'len', 'license', 'list', 'locals', 'map', 'max', 'memoryview', 'min', 'next', 'object', 'oct', 'open', 'ord', 'pow', 'print', 'property', 'range', 'repr', 'reversed', 'round', 'runfile', 'set', 'setattr', 'slice', 'sorted', 'staticmethod', 'str', 'sum', 'super', 'tuple', 'type', 'vars', 'zip']\n"
     ]
    }
   ],
   "source": [
    "print(dir(__builtins__))"
   ]
  },
  {
   "cell_type": "code",
   "execution_count": 80,
   "id": "77b88763-cfa5-4eeb-9ef1-dc32ce484a3c",
   "metadata": {},
   "outputs": [
    {
     "ename": "SyntaxError",
     "evalue": "unterminated string literal (detected at line 1) (1679058590.py, line 1)",
     "output_type": "error",
     "traceback": [
      "\u001b[1;36m  Cell \u001b[1;32mIn[80], line 1\u001b[1;36m\u001b[0m\n\u001b[1;33m    print('Hello)\u001b[0m\n\u001b[1;37m          ^\u001b[0m\n\u001b[1;31mSyntaxError\u001b[0m\u001b[1;31m:\u001b[0m unterminated string literal (detected at line 1)\n"
     ]
    }
   ],
   "source": [
    "print('Hello)"
   ]
  },
  {
   "cell_type": "code",
   "execution_count": 84,
   "id": "224af1f7-859c-475b-8c05-fc738450404e",
   "metadata": {},
   "outputs": [
    {
     "name": "stdout",
     "output_type": "stream",
     "text": [
      "Hello\n"
     ]
    }
   ],
   "source": [
    "try:\n",
    "    print('Hello')\n",
    "except:\n",
    "    print('Something went wrong!!')"
   ]
  },
  {
   "cell_type": "code",
   "execution_count": 90,
   "id": "317853e6-111a-4d3c-bbb0-41482920a785",
   "metadata": {},
   "outputs": [
    {
     "name": "stdout",
     "output_type": "stream",
     "text": [
      "We can not divide any number by Zero!!\n"
     ]
    }
   ],
   "source": [
    "try:\n",
    "    print(1/0)\n",
    "except:\n",
    "    print('We can not divide any number by Zero!!')"
   ]
  },
  {
   "cell_type": "code",
   "execution_count": 88,
   "id": "dda0f9c9-01d1-4d3d-b7e9-f8b10bac92d2",
   "metadata": {},
   "outputs": [
    {
     "ename": "ZeroDivisionError",
     "evalue": "division by zero",
     "output_type": "error",
     "traceback": [
      "\u001b[1;31m---------------------------------------------------------------------------\u001b[0m",
      "\u001b[1;31mZeroDivisionError\u001b[0m                         Traceback (most recent call last)",
      "Cell \u001b[1;32mIn[88], line 1\u001b[0m\n\u001b[1;32m----> 1\u001b[0m \u001b[38;5;28mprint\u001b[39m(\u001b[38;5;241m1\u001b[39m\u001b[38;5;241m/\u001b[39m\u001b[38;5;241m0\u001b[39m)\n",
      "\u001b[1;31mZeroDivisionError\u001b[0m: division by zero"
     ]
    }
   ],
   "source": [
    "print(1/0)"
   ]
  },
  {
   "cell_type": "code",
   "execution_count": 96,
   "id": "6aa29c22-0b97-405f-81f2-1aaa9ee935f5",
   "metadata": {},
   "outputs": [
    {
     "name": "stdout",
     "output_type": "stream",
     "text": [
      "Some went Wrong!!\n"
     ]
    }
   ],
   "source": [
    "if True:\n",
    "    try:\n",
    "        print(1/0)\n",
    "    except:\n",
    "        print('Some went Wrong!!')\n",
    "else:\n",
    "    print('We can not divide any number by Zero!!')"
   ]
  },
  {
   "cell_type": "code",
   "execution_count": 111,
   "id": "1aaf12f9-9a58-41c6-a501-f375b2b833a5",
   "metadata": {},
   "outputs": [
    {
     "name": "stdout",
     "output_type": "stream",
     "text": [
      "  _____\n",
      "| Hello |\n",
      "  =====\n",
      "            \\\n",
      "             \\\n",
      "              \\\n",
      "               \\\n",
      "                  .-=-==--==--.\n",
      "            ..-==\"  ,'o`)      `.\n",
      "          ,'         `\"'         \\\n",
      "         :  (                     `.__...._\n",
      "         |                  )    /         `-=-.\n",
      "         :       ,vv.-._   /    /               `---==-._\n",
      "          \\/\\/\\/VV ^ d88`;'    /                         `.\n",
      "              ``  ^/d88P!'    /             ,              `._\n",
      "                 ^/    !'   ,.      ,      /                  \"-,,__,,--'\"\"\"\"-.\n",
      "                ^/    !'  ,'  \\ . .(      (         _           )  ) ) ) ))_,-.\\\n",
      "               ^(__ ,!',\"'   ;:+.:%:a.     \\:.. . ,'          )  )  ) ) ,\"'    '\n",
      "               ',,,'','     /o:::\":%:%a.    \\:.:.:         .    )  ) _,'\n",
      "                \"\"\"'       ;':::'' `+%%%a._  \\%:%|         ;.). _,-\"\"\n",
      "                       ,-='_.-'      ``:%::)  )%:|        /:._,\"\n",
      "                      (/(/\"           ,\" ,'_,'%%%:       (_,'\n",
      "                                     (  (//(`.___;        \\\n",
      "                                      \\     \\    `         `\n",
      "                                       `.    `.   `.        :\n",
      "                                         \\. . .\\    : . . . :\n",
      "                                          \\. . .:    `.. . .:\n",
      "                                           `..:.:\\     \\:...\\\n",
      "                                            ;:.:.;      ::...:\n",
      "                                            ):%::       :::::;\n",
      "                                        __,::%:(        :::::\n",
      "                                     ,;:%%%%%%%:        ;:%::\n",
      "                                       ;,--\"\"-.`\\  ,=--':%:%:\\\n",
      "                                      /\"       \"| /-\".:%%%%%%%\\\n",
      "                                                      ;,-\"'`)%%)\n",
      "                                                     /\"      \"|\n",
      "Code Executed Successfully!!\n"
     ]
    }
   ],
   "source": [
    "try:\n",
    "    import cowsay\n",
    "\n",
    "except:\n",
    "    print('Module Not Found')\n",
    "else:\n",
    "    cowsay.trex('Hello')\n",
    "\n",
    "finally:\n",
    "    print('Code Executed Successfully!!')"
   ]
  },
  {
   "cell_type": "code",
   "execution_count": null,
   "id": "47068e5a-eee6-4444-8b27-f1f7d329fa57",
   "metadata": {},
   "outputs": [],
   "source": []
  },
  {
   "cell_type": "code",
   "execution_count": null,
   "id": "f044be5b-af57-4454-9120-71258f2f9156",
   "metadata": {},
   "outputs": [],
   "source": [
    "[i**i for i in  range(34567890765432345678987654323456789)]"
   ]
  },
  {
   "cell_type": "code",
   "execution_count": null,
   "id": "2cf7d53b-7e01-43ed-a8a9-b80ee096322a",
   "metadata": {},
   "outputs": [],
   "source": []
  }
 ],
 "metadata": {
  "kernelspec": {
   "display_name": "Python [conda env:base] *",
   "language": "python",
   "name": "conda-base-py"
  },
  "language_info": {
   "codemirror_mode": {
    "name": "ipython",
    "version": 3
   },
   "file_extension": ".py",
   "mimetype": "text/x-python",
   "name": "python",
   "nbconvert_exporter": "python",
   "pygments_lexer": "ipython3",
   "version": "3.12.7"
  }
 },
 "nbformat": 4,
 "nbformat_minor": 5
}
