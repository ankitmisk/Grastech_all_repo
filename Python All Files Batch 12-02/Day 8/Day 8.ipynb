{
 "cells": [
  {
   "cell_type": "markdown",
   "id": "bd1709f1-a0a6-48b4-9858-a76764f5cbbd",
   "metadata": {},
   "source": [
    "# Dictionary Methods"
   ]
  },
  {
   "cell_type": "code",
   "execution_count": 2,
   "id": "22f54664-3a24-403a-b141-955a05fc08fb",
   "metadata": {},
   "outputs": [
    {
     "name": "stdout",
     "output_type": "stream",
     "text": [
      "['__class__', '__class_getitem__', '__contains__', '__delattr__', '__delitem__', '__dir__', '__doc__', '__eq__', '__format__', '__ge__', '__getattribute__', '__getitem__', '__getstate__', '__gt__', '__hash__', '__init__', '__init_subclass__', '__ior__', '__iter__', '__le__', '__len__', '__lt__', '__ne__', '__new__', '__or__', '__reduce__', '__reduce_ex__', '__repr__', '__reversed__', '__ror__', '__setattr__', '__setitem__', '__sizeof__', '__str__', '__subclasshook__', 'clear', 'copy', 'fromkeys', 'get', 'items', 'keys', 'pop', 'popitem', 'setdefault', 'update', 'values']\n"
     ]
    }
   ],
   "source": [
    "print(dir(dict))"
   ]
  },
  {
   "cell_type": "code",
   "execution_count": 4,
   "id": "0ec31cf4-e68a-404f-8ebf-85507acc1cf8",
   "metadata": {},
   "outputs": [],
   "source": [
    "all_methods = ['clear', 'copy', 'fromkeys', 'get', 'items', 'keys', 'pop', 'popitem', 'setdefault', 'update', 'values']"
   ]
  },
  {
   "cell_type": "code",
   "execution_count": 6,
   "id": "7d853848-a0b1-4cc6-8bda-aa264254bb39",
   "metadata": {},
   "outputs": [
    {
     "name": "stdout",
     "output_type": "stream",
     "text": [
      "['clear', 'copy', 'fromkeys', 'get', 'items', 'keys', 'pop', 'popitem', 'setdefault', 'update', 'values']\n"
     ]
    }
   ],
   "source": [
    "print(all_methods)"
   ]
  },
  {
   "cell_type": "code",
   "execution_count": 8,
   "id": "90c0d340-9767-4b1d-997e-2bd5722d9ca0",
   "metadata": {},
   "outputs": [],
   "source": [
    "#clear\n",
    "# get\n",
    "# keys\n",
    "# values\n",
    "# items"
   ]
  },
  {
   "cell_type": "code",
   "execution_count": 14,
   "id": "2062e0cf-fcd8-4b7f-a372-bb40b9659170",
   "metadata": {},
   "outputs": [],
   "source": [
    "Roshan = {'Bank1':23456,'Bank2':4567}"
   ]
  },
  {
   "cell_type": "code",
   "execution_count": 18,
   "id": "29a8c285-aa50-46e3-bdc9-9b3b98517f21",
   "metadata": {},
   "outputs": [
    {
     "name": "stdout",
     "output_type": "stream",
     "text": [
      "{'Bank1': 23456, 'Bank2': 4567}\n"
     ]
    }
   ],
   "source": [
    "print(Roshan)"
   ]
  },
  {
   "cell_type": "code",
   "execution_count": 20,
   "id": "6b4a62f9-98ca-414b-b1c5-38feeb88ec8e",
   "metadata": {},
   "outputs": [],
   "source": [
    "karan = Roshan"
   ]
  },
  {
   "cell_type": "code",
   "execution_count": 22,
   "id": "ef880115-e138-4613-9e29-5f2771690d52",
   "metadata": {},
   "outputs": [
    {
     "name": "stdout",
     "output_type": "stream",
     "text": [
      "{'Bank1': 23456, 'Bank2': 4567}\n"
     ]
    }
   ],
   "source": [
    "print(karan)"
   ]
  },
  {
   "cell_type": "code",
   "execution_count": 30,
   "id": "1c57d79a-4f9e-4861-aa56-27db39e99f47",
   "metadata": {},
   "outputs": [],
   "source": [
    "karan['Bank2'] = 345678"
   ]
  },
  {
   "cell_type": "code",
   "execution_count": 32,
   "id": "de2ebc0f-7316-4966-9efa-ac13fea27f31",
   "metadata": {},
   "outputs": [
    {
     "name": "stdout",
     "output_type": "stream",
     "text": [
      "{'Bank1': 23456, 'Bank2': 345678}\n"
     ]
    }
   ],
   "source": [
    "print(karan)"
   ]
  },
  {
   "cell_type": "code",
   "execution_count": 34,
   "id": "aeaf510f-0b3d-4b2f-a2cf-405cf28ee275",
   "metadata": {},
   "outputs": [
    {
     "name": "stdout",
     "output_type": "stream",
     "text": [
      "{'Bank1': 23456, 'Bank2': 345678}\n"
     ]
    }
   ],
   "source": [
    "print(Roshan)"
   ]
  },
  {
   "cell_type": "code",
   "execution_count": 38,
   "id": "fe30412a-e62b-419d-b5e3-a51ae4cdff64",
   "metadata": {},
   "outputs": [],
   "source": [
    "# Deep Copy:- agar ek dictionary ka value change hoga, to dusre mein bhi wo change ho jayega"
   ]
  },
  {
   "cell_type": "code",
   "execution_count": 40,
   "id": "930d363b-af3b-466d-827b-a4205f53887e",
   "metadata": {},
   "outputs": [],
   "source": [
    "# In class Practice "
   ]
  },
  {
   "cell_type": "code",
   "execution_count": 44,
   "id": "a2dd9113-78f8-4bf9-b2ac-72740ab98f42",
   "metadata": {},
   "outputs": [
    {
     "name": "stdout",
     "output_type": "stream",
     "text": [
      "{'Bank1': 2345, 'Bank2': 23456}\n",
      "<class 'dict'>\n"
     ]
    }
   ],
   "source": [
    "Roshan = {'Bank1':2345,'Bank2':23456}\n",
    "print(Roshan)\n",
    "print(type(Roshan)) # Type func:- object jka data type batayega"
   ]
  },
  {
   "cell_type": "code",
   "execution_count": 46,
   "id": "3dcfb3ba-4ee2-4170-a4a3-86ad13810fad",
   "metadata": {},
   "outputs": [],
   "source": [
    "karan = Roshan"
   ]
  },
  {
   "cell_type": "code",
   "execution_count": 48,
   "id": "c5360ca8-6b1c-42cd-bb91-8407987b3540",
   "metadata": {},
   "outputs": [
    {
     "name": "stdout",
     "output_type": "stream",
     "text": [
      "{'Bank1': 2345, 'Bank2': 23456}\n"
     ]
    }
   ],
   "source": [
    "print(karan)"
   ]
  },
  {
   "cell_type": "code",
   "execution_count": 50,
   "id": "062fe59a-c796-4169-84ca-bc97639736b1",
   "metadata": {},
   "outputs": [],
   "source": [
    "# DEEP COPY"
   ]
  },
  {
   "cell_type": "code",
   "execution_count": 56,
   "id": "54cd8844-f2a6-4c33-beb0-e5f99482c371",
   "metadata": {},
   "outputs": [],
   "source": [
    "karan['Bank1'] = 100"
   ]
  },
  {
   "cell_type": "code",
   "execution_count": 58,
   "id": "b6667665-5062-4168-a003-6102b170000f",
   "metadata": {},
   "outputs": [
    {
     "name": "stdout",
     "output_type": "stream",
     "text": [
      "{'Bank1': 100, 'Bank2': 23456}\n"
     ]
    }
   ],
   "source": [
    "print(karan)"
   ]
  },
  {
   "cell_type": "code",
   "execution_count": 60,
   "id": "fe1db24c-4288-49b8-894f-03d31c2b2701",
   "metadata": {},
   "outputs": [
    {
     "data": {
      "text/plain": [
       "{'Bank1': 100, 'Bank2': 23456}"
      ]
     },
     "execution_count": 60,
     "metadata": {},
     "output_type": "execute_result"
    }
   ],
   "source": [
    "Roshan"
   ]
  },
  {
   "cell_type": "code",
   "execution_count": 62,
   "id": "25a60713-ccc4-46f3-b4a5-c49a3c91b607",
   "metadata": {},
   "outputs": [],
   "source": [
    "# shallow copy"
   ]
  },
  {
   "cell_type": "code",
   "execution_count": 64,
   "id": "36ab23bb-a31f-4348-8131-645574d5f084",
   "metadata": {},
   "outputs": [],
   "source": [
    "ajay = {'B1':345,'B2':3456}"
   ]
  },
  {
   "cell_type": "code",
   "execution_count": 66,
   "id": "fa79d528-4be8-46ff-b01f-e3892ef7b503",
   "metadata": {},
   "outputs": [],
   "source": [
    "mohan = ajay.copy()"
   ]
  },
  {
   "cell_type": "code",
   "execution_count": 68,
   "id": "ae7f48cf-37bd-4a2e-9d71-b5746ca13428",
   "metadata": {},
   "outputs": [
    {
     "data": {
      "text/plain": [
       "{'B1': 345, 'B2': 3456}"
      ]
     },
     "execution_count": 68,
     "metadata": {},
     "output_type": "execute_result"
    }
   ],
   "source": [
    "mohan"
   ]
  },
  {
   "cell_type": "code",
   "execution_count": 72,
   "id": "55ece9a3-ff0f-4fec-868b-fdbd3b182013",
   "metadata": {},
   "outputs": [],
   "source": [
    "mohan['B2']  = 999"
   ]
  },
  {
   "cell_type": "code",
   "execution_count": 74,
   "id": "c8e67668-5640-4717-ac5d-88450aafc957",
   "metadata": {},
   "outputs": [
    {
     "data": {
      "text/plain": [
       "{'B1': 345, 'B2': 999}"
      ]
     },
     "execution_count": 74,
     "metadata": {},
     "output_type": "execute_result"
    }
   ],
   "source": [
    "mohan"
   ]
  },
  {
   "cell_type": "code",
   "execution_count": 76,
   "id": "4878a4eb-4575-4627-9a43-f48297b2dedc",
   "metadata": {},
   "outputs": [
    {
     "data": {
      "text/plain": [
       "{'B1': 345, 'B2': 3456}"
      ]
     },
     "execution_count": 76,
     "metadata": {},
     "output_type": "execute_result"
    }
   ],
   "source": [
    "ajay"
   ]
  },
  {
   "cell_type": "code",
   "execution_count": 78,
   "id": "8c112288-a966-4016-86ca-9c01959ff587",
   "metadata": {},
   "outputs": [],
   "source": [
    "# From keys"
   ]
  },
  {
   "cell_type": "code",
   "execution_count": 98,
   "id": "89a6251c-3cf3-4394-8f0b-3fed9b8861bc",
   "metadata": {},
   "outputs": [],
   "source": [
    "kk = ('L1','Mohan','Bank1','Noida')"
   ]
  },
  {
   "cell_type": "code",
   "execution_count": 100,
   "id": "a2814999-c2a7-489b-bc2e-20c527c2c4cd",
   "metadata": {},
   "outputs": [
    {
     "data": {
      "text/plain": [
       "{'L1': None, 'Mohan': None, 'Bank1': None, 'Noida': None}"
      ]
     },
     "execution_count": 100,
     "metadata": {},
     "output_type": "execute_result"
    }
   ],
   "source": [
    "new_dict = {}\n",
    "new_dict.fromkeys(kk)"
   ]
  },
  {
   "cell_type": "code",
   "execution_count": 102,
   "id": "15c84a22-63a7-4017-8778-deb2563f32e6",
   "metadata": {},
   "outputs": [
    {
     "name": "stdout",
     "output_type": "stream",
     "text": [
      "['clear', 'copy', 'fromkeys', 'get', 'items', 'keys', 'pop', 'popitem', 'setdefault', 'update', 'values']\n"
     ]
    }
   ],
   "source": [
    "print(all_methods)"
   ]
  },
  {
   "cell_type": "code",
   "execution_count": 104,
   "id": "8b7ce8a3-728d-4dd4-a56c-f5c4b56cf9dd",
   "metadata": {},
   "outputs": [],
   "source": [
    " # 'pop', 'popitem', 'setdefault', 'update', 'values'"
   ]
  },
  {
   "cell_type": "code",
   "execution_count": 106,
   "id": "b5ec9fcf-f78b-4732-91c5-743cf87e70dd",
   "metadata": {},
   "outputs": [],
   "source": [
    "data = {'kia':76543,'Honda':2345,'Maruti':4567,'tata':98765}"
   ]
  },
  {
   "cell_type": "code",
   "execution_count": 108,
   "id": "6d71ab9d-8c64-4f39-ac4c-9d900af106dd",
   "metadata": {},
   "outputs": [
    {
     "name": "stdout",
     "output_type": "stream",
     "text": [
      "{'kia': 76543, 'Honda': 2345, 'Maruti': 4567, 'tata': 98765}\n"
     ]
    }
   ],
   "source": [
    "print(data)"
   ]
  },
  {
   "cell_type": "code",
   "execution_count": 110,
   "id": "291eccfe-57df-4ffb-bdbb-1144ff01d674",
   "metadata": {},
   "outputs": [],
   "source": [
    "# pop ka kaam hai item ko remove karna"
   ]
  },
  {
   "cell_type": "code",
   "execution_count": 116,
   "id": "7cd8c13f-53ca-4f0d-90e6-b7160d05128f",
   "metadata": {},
   "outputs": [
    {
     "data": {
      "text/plain": [
       "4567"
      ]
     },
     "execution_count": 116,
     "metadata": {},
     "output_type": "execute_result"
    }
   ],
   "source": [
    "data.pop('Maruti')"
   ]
  },
  {
   "cell_type": "code",
   "execution_count": 118,
   "id": "2a82d751-9187-460e-b3cb-93c7e89c432d",
   "metadata": {},
   "outputs": [
    {
     "data": {
      "text/plain": [
       "{'kia': 76543, 'Honda': 2345, 'tata': 98765}"
      ]
     },
     "execution_count": 118,
     "metadata": {},
     "output_type": "execute_result"
    }
   ],
   "source": [
    "data"
   ]
  },
  {
   "cell_type": "code",
   "execution_count": null,
   "id": "54b0fee0-eee7-4d7a-b975-3b2c584aab05",
   "metadata": {},
   "outputs": [],
   "source": []
  },
  {
   "cell_type": "code",
   "execution_count": null,
   "id": "9ca3d6cc-309c-4d65-97bc-8687a573c435",
   "metadata": {},
   "outputs": [],
   "source": []
  },
  {
   "cell_type": "code",
   "execution_count": null,
   "id": "ab8bf669-3dec-4094-8fe4-a116510dfec2",
   "metadata": {},
   "outputs": [],
   "source": []
  },
  {
   "cell_type": "code",
   "execution_count": 123,
   "id": "625f5e2a-9b74-4e85-ac92-8a732223992f",
   "metadata": {},
   "outputs": [
    {
     "data": {
      "text/plain": [
       "{'kia': 76543, 'Honda': 2345, 'tata': 98765}"
      ]
     },
     "execution_count": 123,
     "metadata": {},
     "output_type": "execute_result"
    }
   ],
   "source": [
    "data"
   ]
  },
  {
   "cell_type": "code",
   "execution_count": 125,
   "id": "b0ab225f-24e0-41a4-b595-ebb7d1a2b867",
   "metadata": {},
   "outputs": [
    {
     "ename": "KeyError",
     "evalue": "76543",
     "output_type": "error",
     "traceback": [
      "\u001b[1;31m---------------------------------------------------------------------------\u001b[0m",
      "\u001b[1;31mKeyError\u001b[0m                                  Traceback (most recent call last)",
      "Cell \u001b[1;32mIn[125], line 1\u001b[0m\n\u001b[1;32m----> 1\u001b[0m data\u001b[38;5;241m.\u001b[39mpop(\u001b[38;5;241m76543\u001b[39m)\n",
      "\u001b[1;31mKeyError\u001b[0m: 76543"
     ]
    }
   ],
   "source": [
    "data.pop(76543)"
   ]
  },
  {
   "cell_type": "code",
   "execution_count": 129,
   "id": "61538f73-205b-4e2f-862f-7ffd87fb0485",
   "metadata": {},
   "outputs": [
    {
     "data": {
      "text/plain": [
       "('tata', 98765)"
      ]
     },
     "execution_count": 129,
     "metadata": {},
     "output_type": "execute_result"
    }
   ],
   "source": [
    "data.popitem()"
   ]
  },
  {
   "cell_type": "code",
   "execution_count": 133,
   "id": "b2662cf8-52ce-49ae-8a68-c70df4b0ac1c",
   "metadata": {},
   "outputs": [
    {
     "data": {
      "text/plain": [
       "('Honda', 2345)"
      ]
     },
     "execution_count": 133,
     "metadata": {},
     "output_type": "execute_result"
    }
   ],
   "source": [
    "data.popitem()"
   ]
  },
  {
   "cell_type": "code",
   "execution_count": 137,
   "id": "4de1a722-d22f-4a22-88e2-a3b9444876d5",
   "metadata": {},
   "outputs": [
    {
     "data": {
      "text/plain": [
       "('kia', 76543)"
      ]
     },
     "execution_count": 137,
     "metadata": {},
     "output_type": "execute_result"
    }
   ],
   "source": [
    "data.popitem()"
   ]
  },
  {
   "cell_type": "code",
   "execution_count": 139,
   "id": "60ef6d30-8a98-4db7-95ff-79fe39ca6b8c",
   "metadata": {},
   "outputs": [
    {
     "data": {
      "text/plain": [
       "{}"
      ]
     },
     "execution_count": 139,
     "metadata": {},
     "output_type": "execute_result"
    }
   ],
   "source": [
    "data"
   ]
  },
  {
   "cell_type": "code",
   "execution_count": 141,
   "id": "c9625608-3f72-4cfa-a422-e7d48e357be8",
   "metadata": {},
   "outputs": [
    {
     "ename": "KeyError",
     "evalue": "'popitem(): dictionary is empty'",
     "output_type": "error",
     "traceback": [
      "\u001b[1;31m---------------------------------------------------------------------------\u001b[0m",
      "\u001b[1;31mKeyError\u001b[0m                                  Traceback (most recent call last)",
      "Cell \u001b[1;32mIn[141], line 1\u001b[0m\n\u001b[1;32m----> 1\u001b[0m data\u001b[38;5;241m.\u001b[39mpopitem()\n",
      "\u001b[1;31mKeyError\u001b[0m: 'popitem(): dictionary is empty'"
     ]
    }
   ],
   "source": [
    "data.popitem()"
   ]
  },
  {
   "cell_type": "code",
   "execution_count": 143,
   "id": "7db71efb-f96d-4edc-b44b-d92e43bb436f",
   "metadata": {},
   "outputs": [],
   "source": [
    "# 'setdefault', 'update', 'values']"
   ]
  },
  {
   "cell_type": "code",
   "execution_count": 145,
   "id": "56c07b06-ccff-45a3-90a5-b44ed6df1e0b",
   "metadata": {},
   "outputs": [],
   "source": [
    "new_data = {'kia':76543,'Honda':2345,'Maruti':4567,'tata':98765}"
   ]
  },
  {
   "cell_type": "code",
   "execution_count": 147,
   "id": "91009b13-05d3-4173-868e-7be95195131b",
   "metadata": {},
   "outputs": [
    {
     "name": "stdout",
     "output_type": "stream",
     "text": [
      "{'kia': 76543, 'Honda': 2345, 'Maruti': 4567, 'tata': 98765}\n"
     ]
    }
   ],
   "source": [
    "print(new_data)"
   ]
  },
  {
   "cell_type": "code",
   "execution_count": 149,
   "id": "d5173e1f-a1e9-4af1-ac4f-22214225c264",
   "metadata": {},
   "outputs": [
    {
     "data": {
      "text/plain": [
       "1700000"
      ]
     },
     "execution_count": 149,
     "metadata": {},
     "output_type": "execute_result"
    }
   ],
   "source": [
    "new_data.setdefault('Mahindra BE6',1700000)"
   ]
  },
  {
   "cell_type": "code",
   "execution_count": 153,
   "id": "ce936541-9904-40f8-a459-17c6520bd271",
   "metadata": {},
   "outputs": [
    {
     "name": "stdout",
     "output_type": "stream",
     "text": [
      "{'kia': 76543, 'Honda': 2345, 'Maruti': 4567, 'tata': 98765, 'Mahindra BE6': 1700000}\n"
     ]
    }
   ],
   "source": [
    "print(new_data)"
   ]
  },
  {
   "cell_type": "code",
   "execution_count": 155,
   "id": "59b27ad7-a70b-4a82-b23c-51345f02f55b",
   "metadata": {},
   "outputs": [],
   "source": [
    "new_data.setdefault('BMW')"
   ]
  },
  {
   "cell_type": "code",
   "execution_count": 157,
   "id": "0b492fb0-dbd7-49e2-9ec0-e119fa6de533",
   "metadata": {},
   "outputs": [
    {
     "name": "stdout",
     "output_type": "stream",
     "text": [
      "{'kia': 76543, 'Honda': 2345, 'Maruti': 4567, 'tata': 98765, 'Mahindra BE6': 1700000, 'BMW': None}\n"
     ]
    }
   ],
   "source": [
    "print(new_data)"
   ]
  },
  {
   "cell_type": "code",
   "execution_count": 163,
   "id": "4b73c8fe-0560-452a-a9fd-e141140908bf",
   "metadata": {},
   "outputs": [
    {
     "data": {
      "text/plain": [
       "3456789876"
      ]
     },
     "execution_count": 163,
     "metadata": {},
     "output_type": "execute_result"
    }
   ],
   "source": [
    "new_data.setdefault('honda',3456789876)"
   ]
  },
  {
   "cell_type": "code",
   "execution_count": 165,
   "id": "3be983ea-5108-4459-beb5-0ede3883cc96",
   "metadata": {},
   "outputs": [
    {
     "data": {
      "text/plain": [
       "{'kia': 76543,\n",
       " 'Honda': 2345,\n",
       " 'Maruti': 4567,\n",
       " 'tata': 98765,\n",
       " 'Mahindra BE6': 1700000,\n",
       " 'BMW': None,\n",
       " 'honda': 3456789876}"
      ]
     },
     "execution_count": 165,
     "metadata": {},
     "output_type": "execute_result"
    }
   ],
   "source": [
    "new_data"
   ]
  },
  {
   "cell_type": "code",
   "execution_count": 167,
   "id": "67b718bc-fbcc-49b2-a8dd-1c92dd5c27ae",
   "metadata": {},
   "outputs": [
    {
     "name": "stdout",
     "output_type": "stream",
     "text": [
      "{'kia': 76543, 'Honda': 2345, 'Maruti': 4567, 'tata': 98765, 'Mahindra BE6': 1700000, 'BMW': None, 'honda': 3456789876}\n"
     ]
    }
   ],
   "source": [
    "print(new_data)"
   ]
  },
  {
   "cell_type": "code",
   "execution_count": 169,
   "id": "baf1e578-5fbd-44e8-81f7-eab00256778f",
   "metadata": {},
   "outputs": [],
   "source": [
    "new_data.update({'tata': 200000})"
   ]
  },
  {
   "cell_type": "code",
   "execution_count": 171,
   "id": "f303af27-5e02-4f36-afec-a26c379c2221",
   "metadata": {},
   "outputs": [
    {
     "name": "stdout",
     "output_type": "stream",
     "text": [
      "{'kia': 76543, 'Honda': 2345, 'Maruti': 4567, 'tata': 200000, 'Mahindra BE6': 1700000, 'BMW': None, 'honda': 3456789876}\n"
     ]
    }
   ],
   "source": [
    "print(new_data)"
   ]
  },
  {
   "cell_type": "code",
   "execution_count": 173,
   "id": "d1483846-2fd2-4b14-942d-ba9cb1e295a0",
   "metadata": {},
   "outputs": [],
   "source": [
    "new_data.update({'Audi':2345678})"
   ]
  },
  {
   "cell_type": "code",
   "execution_count": 175,
   "id": "cd848f27-6f22-4a2a-a708-ecb0a4a146b0",
   "metadata": {},
   "outputs": [
    {
     "name": "stdout",
     "output_type": "stream",
     "text": [
      "{'kia': 76543, 'Honda': 2345, 'Maruti': 4567, 'tata': 200000, 'Mahindra BE6': 1700000, 'BMW': None, 'honda': 3456789876, 'Audi': 2345678}\n"
     ]
    }
   ],
   "source": [
    "print(new_data)"
   ]
  },
  {
   "cell_type": "code",
   "execution_count": 177,
   "id": "1b3d35d8-0ed4-48cd-bd18-395e085ab456",
   "metadata": {},
   "outputs": [],
   "source": [
    "new_data.update({'BMW':2})"
   ]
  },
  {
   "cell_type": "code",
   "execution_count": 179,
   "id": "ff7f9833-dc4f-4c74-adeb-89f90e9d519e",
   "metadata": {},
   "outputs": [
    {
     "name": "stdout",
     "output_type": "stream",
     "text": [
      "{'kia': 76543, 'Honda': 2345, 'Maruti': 4567, 'tata': 200000, 'Mahindra BE6': 1700000, 'BMW': 2, 'honda': 3456789876, 'Audi': 2345678}\n"
     ]
    }
   ],
   "source": [
    "print(new_data)"
   ]
  },
  {
   "cell_type": "code",
   "execution_count": 181,
   "id": "6bbf2e27-eac1-4d8d-86a3-78902266365a",
   "metadata": {},
   "outputs": [],
   "source": [
    "# del :- statement"
   ]
  },
  {
   "cell_type": "code",
   "execution_count": 185,
   "id": "b1eaf979-8f24-4cce-b00e-3ce994e45c83",
   "metadata": {},
   "outputs": [],
   "source": [
    "del new_data['BMW']"
   ]
  },
  {
   "cell_type": "code",
   "execution_count": 187,
   "id": "8479e8d5-3624-4845-95c6-e658fe453d6a",
   "metadata": {},
   "outputs": [
    {
     "data": {
      "text/plain": [
       "{'kia': 76543,\n",
       " 'Honda': 2345,\n",
       " 'Maruti': 4567,\n",
       " 'tata': 200000,\n",
       " 'Mahindra BE6': 1700000,\n",
       " 'honda': 3456789876,\n",
       " 'Audi': 2345678}"
      ]
     },
     "execution_count": 187,
     "metadata": {},
     "output_type": "execute_result"
    }
   ],
   "source": [
    "new_data"
   ]
  },
  {
   "cell_type": "code",
   "execution_count": 189,
   "id": "9bea25eb-fecc-4980-93fe-eab2621bf77f",
   "metadata": {},
   "outputs": [],
   "source": [
    "del new_data"
   ]
  },
  {
   "cell_type": "code",
   "execution_count": 191,
   "id": "d519a8d2-468e-41b7-9060-15b2c6b69dc8",
   "metadata": {},
   "outputs": [
    {
     "ename": "NameError",
     "evalue": "name 'new_data' is not defined",
     "output_type": "error",
     "traceback": [
      "\u001b[1;31m---------------------------------------------------------------------------\u001b[0m",
      "\u001b[1;31mNameError\u001b[0m                                 Traceback (most recent call last)",
      "Cell \u001b[1;32mIn[191], line 1\u001b[0m\n\u001b[1;32m----> 1\u001b[0m \u001b[38;5;28mprint\u001b[39m(new_data)\n",
      "\u001b[1;31mNameError\u001b[0m: name 'new_data' is not defined"
     ]
    }
   ],
   "source": [
    "print(new_data)"
   ]
  },
  {
   "cell_type": "code",
   "execution_count": 193,
   "id": "b3e9968b-643a-4aef-b3da-97330ac58921",
   "metadata": {},
   "outputs": [
    {
     "ename": "NameError",
     "evalue": "name 'new_data' is not defined",
     "output_type": "error",
     "traceback": [
      "\u001b[1;31m---------------------------------------------------------------------------\u001b[0m",
      "\u001b[1;31mNameError\u001b[0m                                 Traceback (most recent call last)",
      "Cell \u001b[1;32mIn[193], line 1\u001b[0m\n\u001b[1;32m----> 1\u001b[0m new_data\n",
      "\u001b[1;31mNameError\u001b[0m: name 'new_data' is not defined"
     ]
    }
   ],
   "source": [
    "new_data"
   ]
  },
  {
   "cell_type": "code",
   "execution_count": 197,
   "id": "f3c790ff-7d98-44e7-a35c-4ac2771a4975",
   "metadata": {},
   "outputs": [
    {
     "ename": "NameError",
     "evalue": "name 'new_data' is not defined",
     "output_type": "error",
     "traceback": [
      "\u001b[1;31m---------------------------------------------------------------------------\u001b[0m",
      "\u001b[1;31mNameError\u001b[0m                                 Traceback (most recent call last)",
      "Cell \u001b[1;32mIn[197], line 1\u001b[0m\n\u001b[1;32m----> 1\u001b[0m \u001b[38;5;28mprint\u001b[39m(new_data)\n",
      "\u001b[1;31mNameError\u001b[0m: name 'new_data' is not defined"
     ]
    }
   ],
   "source": [
    "print(new_data)"
   ]
  },
  {
   "cell_type": "code",
   "execution_count": 199,
   "id": "1c942c0a-8825-47d2-9643-ef51882c7d3c",
   "metadata": {},
   "outputs": [],
   "source": [
    "# new_data['Kawasaki']"
   ]
  },
  {
   "cell_type": "code",
   "execution_count": 201,
   "id": "3e8b10f1-9fde-49d0-9668-74421e1749df",
   "metadata": {},
   "outputs": [],
   "source": [
    "data = {'kia':76543,'Honda':2345,'Maruti':4567,'tata':98765}"
   ]
  },
  {
   "cell_type": "code",
   "execution_count": 213,
   "id": "aac229bc-f521-4586-9170-b7a8d5c8f94a",
   "metadata": {},
   "outputs": [
    {
     "name": "stdout",
     "output_type": "stream",
     "text": [
      "dict_keys(['kia', 'Honda', 'Maruti', 'tata'])\n"
     ]
    }
   ],
   "source": [
    "print(data.keys())"
   ]
  },
  {
   "cell_type": "code",
   "execution_count": 215,
   "id": "4bbad0a0-fa41-48e9-8926-42ed3694d713",
   "metadata": {},
   "outputs": [
    {
     "name": "stdout",
     "output_type": "stream",
     "text": [
      "dict_values([76543, 2345, 4567, 98765])\n"
     ]
    }
   ],
   "source": [
    "print(data.values())"
   ]
  },
  {
   "cell_type": "code",
   "execution_count": 217,
   "id": "c1085d16-353c-4abe-a1d5-e3b43dbfd14f",
   "metadata": {},
   "outputs": [
    {
     "name": "stdout",
     "output_type": "stream",
     "text": [
      "dict_items([('kia', 76543), ('Honda', 2345), ('Maruti', 4567), ('tata', 98765)])\n"
     ]
    }
   ],
   "source": [
    "print(data.items())"
   ]
  },
  {
   "cell_type": "code",
   "execution_count": null,
   "id": "7fb9cf00-63df-4f61-a131-09791ebfb058",
   "metadata": {},
   "outputs": [],
   "source": []
  },
  {
   "cell_type": "code",
   "execution_count": null,
   "id": "6b3af66d-198c-4b3f-924f-60c7a61a97f4",
   "metadata": {},
   "outputs": [],
   "source": []
  },
  {
   "cell_type": "code",
   "execution_count": 231,
   "id": "b2f2b8eb-0563-4838-a722-4fc72c43f327",
   "metadata": {
    "scrolled": true
   },
   "outputs": [],
   "source": [
    "a = {'Name':'Mohan'}\n",
    "b = {'Class':5}\n",
    "c = {'Address':'Noida'}\n",
    "d = {'Roll':34}\n",
    "\n",
    "# e = a + b + c + d"
   ]
  },
  {
   "cell_type": "code",
   "execution_count": 227,
   "id": "d378218e-657e-497a-ae52-e20ef0f4ef52",
   "metadata": {},
   "outputs": [
    {
     "data": {
      "text/plain": [
       "{'Name': 'Mohan', 'Class': 5, 'Address': 'Noida', 'Roll': 34}"
      ]
     },
     "execution_count": 227,
     "metadata": {},
     "output_type": "execute_result"
    }
   ],
   "source": [
    "e = {**a,**b,**c,**d}\n",
    "e"
   ]
  },
  {
   "cell_type": "code",
   "execution_count": 229,
   "id": "0c606807-f755-446f-86fa-4de8190c6df9",
   "metadata": {},
   "outputs": [
    {
     "data": {
      "text/plain": [
       "{'Address', 'Class', 'Name', 'Roll'}"
      ]
     },
     "execution_count": 229,
     "metadata": {},
     "output_type": "execute_result"
    }
   ],
   "source": [
    "e = {*a,*b,*c,*d}\n",
    "e"
   ]
  },
  {
   "cell_type": "markdown",
   "id": "de9e8d35-fdda-4830-b0de-1e24a0b21b0d",
   "metadata": {},
   "source": [
    "# SET"
   ]
  },
  {
   "cell_type": "code",
   "execution_count": 233,
   "id": "649046c3-7e5e-40a7-9d58-6d25bb2a3832",
   "metadata": {},
   "outputs": [
    {
     "name": "stdout",
     "output_type": "stream",
     "text": [
      "{5233, 23, 56, 4543, 543}\n"
     ]
    }
   ],
   "source": [
    "# set is unordered in nature, and collection data type\n",
    "a = {23,4543,5233,543,56}\n",
    "print(a)"
   ]
  },
  {
   "cell_type": "code",
   "execution_count": 239,
   "id": "71087a43-341b-44ee-a428-76a61e8d074a",
   "metadata": {},
   "outputs": [],
   "source": [
    "# set can not contain duplicate values\n",
    "# set is unique in nature"
   ]
  },
  {
   "cell_type": "code",
   "execution_count": 247,
   "id": "212d9508-4754-40ad-a627-e103f10a17f0",
   "metadata": {},
   "outputs": [
    {
     "name": "stdout",
     "output_type": "stream",
     "text": [
      "{1, 2, 3, 4, 2.1, 5, 6, 7, 54}\n"
     ]
    }
   ],
   "source": [
    "a = {1,2,2.1,2,2,2,2,3,3,3,3,4,4,4,54,5,5,5,5,6,6,7,7,7}\n",
    "print(a)"
   ]
  },
  {
   "cell_type": "code",
   "execution_count": 249,
   "id": "45fc7789-42a5-497b-b222-4b01333abd71",
   "metadata": {},
   "outputs": [],
   "source": [
    "# there is no such indexing and slicing concept in set"
   ]
  },
  {
   "cell_type": "code",
   "execution_count": 251,
   "id": "5e7b7596-f59a-43cb-8416-c981505b1768",
   "metadata": {},
   "outputs": [],
   "source": [
    "a = {2,34,546}"
   ]
  },
  {
   "cell_type": "code",
   "execution_count": 253,
   "id": "6f08539e-d906-49aa-ae81-0c987a108720",
   "metadata": {},
   "outputs": [
    {
     "ename": "TypeError",
     "evalue": "'set' object is not subscriptable",
     "output_type": "error",
     "traceback": [
      "\u001b[1;31m---------------------------------------------------------------------------\u001b[0m",
      "\u001b[1;31mTypeError\u001b[0m                                 Traceback (most recent call last)",
      "Cell \u001b[1;32mIn[253], line 1\u001b[0m\n\u001b[1;32m----> 1\u001b[0m a[\u001b[38;5;241m1\u001b[39m]\n",
      "\u001b[1;31mTypeError\u001b[0m: 'set' object is not subscriptable"
     ]
    }
   ],
   "source": [
    "a[1]"
   ]
  },
  {
   "cell_type": "code",
   "execution_count": 263,
   "id": "b20eeef1-1414-4c1a-b824-88e87d822af7",
   "metadata": {},
   "outputs": [],
   "source": [
    "a = {2,2354,6,3,5457,5}"
   ]
  },
  {
   "cell_type": "code",
   "execution_count": 265,
   "id": "1f5353fb-50eb-4a5e-8088-c1745a8e1761",
   "metadata": {},
   "outputs": [
    {
     "ename": "TypeError",
     "evalue": "'set' object is not subscriptable",
     "output_type": "error",
     "traceback": [
      "\u001b[1;31m---------------------------------------------------------------------------\u001b[0m",
      "\u001b[1;31mTypeError\u001b[0m                                 Traceback (most recent call last)",
      "Cell \u001b[1;32mIn[265], line 1\u001b[0m\n\u001b[1;32m----> 1\u001b[0m a[\u001b[38;5;241m1\u001b[39m:\u001b[38;5;241m5\u001b[39m]\n",
      "\u001b[1;31mTypeError\u001b[0m: 'set' object is not subscriptable"
     ]
    }
   ],
   "source": [
    "a[1:5]"
   ]
  },
  {
   "cell_type": "code",
   "execution_count": 269,
   "id": "8315eabe-8240-40ab-8305-a1d510d0d8ab",
   "metadata": {},
   "outputs": [],
   "source": [
    "# there is no such nested set, set ke andar set nahi aa sakta"
   ]
  },
  {
   "cell_type": "code",
   "execution_count": 271,
   "id": "945d31f6-f886-4582-a39e-da8506974a1e",
   "metadata": {},
   "outputs": [
    {
     "ename": "TypeError",
     "evalue": "unhashable type: 'set'",
     "output_type": "error",
     "traceback": [
      "\u001b[1;31m---------------------------------------------------------------------------\u001b[0m",
      "\u001b[1;31mTypeError\u001b[0m                                 Traceback (most recent call last)",
      "Cell \u001b[1;32mIn[271], line 1\u001b[0m\n\u001b[1;32m----> 1\u001b[0m a \u001b[38;5;241m=\u001b[39m {\u001b[38;5;241m2\u001b[39m,\u001b[38;5;241m35\u001b[39m,\u001b[38;5;241m45\u001b[39m,\u001b[38;5;241m35\u001b[39m,{\u001b[38;5;241m235\u001b[39m,\u001b[38;5;241m32\u001b[39m,\u001b[38;5;241m5\u001b[39m}}\n\u001b[0;32m      2\u001b[0m \u001b[38;5;28mprint\u001b[39m(a)\n",
      "\u001b[1;31mTypeError\u001b[0m: unhashable type: 'set'"
     ]
    }
   ],
   "source": [
    "a = {2,35,45,35,{235,32,5}}\n",
    "print(a)"
   ]
  },
  {
   "cell_type": "code",
   "execution_count": 273,
   "id": "a013403c-b994-4f03-80dc-21511703e5f1",
   "metadata": {},
   "outputs": [
    {
     "ename": "TypeError",
     "evalue": "unhashable type: 'list'",
     "output_type": "error",
     "traceback": [
      "\u001b[1;31m---------------------------------------------------------------------------\u001b[0m",
      "\u001b[1;31mTypeError\u001b[0m                                 Traceback (most recent call last)",
      "Cell \u001b[1;32mIn[273], line 1\u001b[0m\n\u001b[1;32m----> 1\u001b[0m a \u001b[38;5;241m=\u001b[39m {\u001b[38;5;241m2\u001b[39m,\u001b[38;5;241m3\u001b[39m,\u001b[38;5;241m46\u001b[39m,[\u001b[38;5;241m2\u001b[39m,\u001b[38;5;241m3545\u001b[39m]}\n\u001b[0;32m      2\u001b[0m \u001b[38;5;28mprint\u001b[39m(a)\n",
      "\u001b[1;31mTypeError\u001b[0m: unhashable type: 'list'"
     ]
    }
   ],
   "source": [
    "a = {2,3,46,[2,3545]}\n",
    "print(a)"
   ]
  },
  {
   "cell_type": "code",
   "execution_count": 275,
   "id": "efb1662e-4769-468d-9cfc-a3b8d422ceb4",
   "metadata": {},
   "outputs": [],
   "source": [
    "# dict no"
   ]
  },
  {
   "cell_type": "code",
   "execution_count": 277,
   "id": "1d1b0c77-cf34-4041-8a3e-401fa7252210",
   "metadata": {},
   "outputs": [
    {
     "ename": "TypeError",
     "evalue": "unhashable type: 'dict'",
     "output_type": "error",
     "traceback": [
      "\u001b[1;31m---------------------------------------------------------------------------\u001b[0m",
      "\u001b[1;31mTypeError\u001b[0m                                 Traceback (most recent call last)",
      "Cell \u001b[1;32mIn[277], line 1\u001b[0m\n\u001b[1;32m----> 1\u001b[0m a \u001b[38;5;241m=\u001b[39m {\u001b[38;5;241m2\u001b[39m,\u001b[38;5;241m36\u001b[39m,\u001b[38;5;241m3\u001b[39m,\u001b[38;5;241m45\u001b[39m,{\u001b[38;5;124m'\u001b[39m\u001b[38;5;124mName\u001b[39m\u001b[38;5;124m'\u001b[39m:\u001b[38;5;124m'\u001b[39m\u001b[38;5;124mMohan\u001b[39m\u001b[38;5;124m'\u001b[39m}}\n",
      "\u001b[1;31mTypeError\u001b[0m: unhashable type: 'dict'"
     ]
    }
   ],
   "source": [
    "a = {2,36,3,45,{'Name':'Mohan'}}"
   ]
  },
  {
   "cell_type": "code",
   "execution_count": 279,
   "id": "29b442fe-63c2-48d0-bce6-8707ebc5d412",
   "metadata": {},
   "outputs": [
    {
     "name": "stdout",
     "output_type": "stream",
     "text": [
      "{1}\n"
     ]
    }
   ],
   "source": [
    "a = {1,True}\n",
    "print(a)\n",
    "\n",
    "# {1}\n",
    "# {True}\n",
    "# {1,True}\n",
    "# {}"
   ]
  },
  {
   "cell_type": "code",
   "execution_count": 281,
   "id": "a2324fa2-93da-4c48-b0ab-ca5f8ba1b7cf",
   "metadata": {},
   "outputs": [
    {
     "name": "stdout",
     "output_type": "stream",
     "text": [
      "{True}\n"
     ]
    }
   ],
   "source": [
    "a = {True,1}\n",
    "print(a)"
   ]
  },
  {
   "cell_type": "code",
   "execution_count": 283,
   "id": "8f3faadc-5ac3-47d4-90e2-bc9d6747cdb7",
   "metadata": {},
   "outputs": [
    {
     "name": "stdout",
     "output_type": "stream",
     "text": [
      "{False, True}\n"
     ]
    }
   ],
   "source": [
    "a = {True,False}\n",
    "print(a)"
   ]
  },
  {
   "cell_type": "code",
   "execution_count": 285,
   "id": "529bd22f-41ab-47b0-a55f-b6d4162de200",
   "metadata": {},
   "outputs": [
    {
     "name": "stdout",
     "output_type": "stream",
     "text": [
      "{False, 2}\n"
     ]
    }
   ],
   "source": [
    "a = {2,False}\n",
    "print(a)"
   ]
  },
  {
   "cell_type": "code",
   "execution_count": 297,
   "id": "dc50e940-1072-4f8b-879c-1572b5bcaf6e",
   "metadata": {},
   "outputs": [
    {
     "data": {
      "text/plain": [
       "{0}"
      ]
     },
     "execution_count": 297,
     "metadata": {},
     "output_type": "execute_result"
    }
   ],
   "source": [
    "a = {0,False}\n",
    "a"
   ]
  },
  {
   "cell_type": "code",
   "execution_count": 299,
   "id": "5b111e4c-7609-46f8-9b10-4767a87b255e",
   "metadata": {},
   "outputs": [
    {
     "data": {
      "text/plain": [
       "{False}"
      ]
     },
     "execution_count": 299,
     "metadata": {},
     "output_type": "execute_result"
    }
   ],
   "source": [
    "a = {False,0}\n",
    "a"
   ]
  },
  {
   "cell_type": "code",
   "execution_count": 303,
   "id": "17a24358-c9cb-4ead-9b60-82ce1b756a57",
   "metadata": {},
   "outputs": [
    {
     "data": {
      "text/plain": [
       "{False, None}"
      ]
     },
     "execution_count": 303,
     "metadata": {},
     "output_type": "execute_result"
    }
   ],
   "source": [
    "a = {False,None}\n",
    "a"
   ]
  },
  {
   "cell_type": "code",
   "execution_count": 305,
   "id": "ed84a4d6-62a6-49d4-bc47-2c0a9bc7ed0a",
   "metadata": {},
   "outputs": [],
   "source": [
    "# \n",
    "# empty set"
   ]
  },
  {
   "cell_type": "code",
   "execution_count": 313,
   "id": "3af38227-a3d8-4b6f-9d6e-d5d9e905eb92",
   "metadata": {},
   "outputs": [
    {
     "name": "stdout",
     "output_type": "stream",
     "text": [
      "<class 'dict'>\n"
     ]
    }
   ],
   "source": [
    "a = {}\n",
    "print(type(a))"
   ]
  },
  {
   "cell_type": "code",
   "execution_count": 315,
   "id": "6374d7ea-f223-4a6c-9ed0-c43d3ebab3ae",
   "metadata": {},
   "outputs": [
    {
     "name": "stdout",
     "output_type": "stream",
     "text": [
      "<class 'set'>\n"
     ]
    }
   ],
   "source": [
    "a = set()\n",
    "print(type(a))"
   ]
  },
  {
   "cell_type": "code",
   "execution_count": 317,
   "id": "07771eac-a3f2-4228-8022-1bcf733c1a88",
   "metadata": {},
   "outputs": [],
   "source": [
    "# set op"
   ]
  },
  {
   "cell_type": "code",
   "execution_count": 319,
   "id": "b52e461a-e57d-494b-8e17-e85d3cce8856",
   "metadata": {},
   "outputs": [
    {
     "ename": "TypeError",
     "evalue": "unsupported operand type(s) for +: 'set' and 'set'",
     "output_type": "error",
     "traceback": [
      "\u001b[1;31m---------------------------------------------------------------------------\u001b[0m",
      "\u001b[1;31mTypeError\u001b[0m                                 Traceback (most recent call last)",
      "Cell \u001b[1;32mIn[319], line 4\u001b[0m\n\u001b[0;32m      1\u001b[0m a \u001b[38;5;241m=\u001b[39m {\u001b[38;5;241m1\u001b[39m,\u001b[38;5;241m24\u001b[39m,\u001b[38;5;241m3\u001b[39m}\n\u001b[0;32m      2\u001b[0m b \u001b[38;5;241m=\u001b[39m {\u001b[38;5;241m23\u001b[39m,\u001b[38;5;241m5\u001b[39m,\u001b[38;5;241m45\u001b[39m}\n\u001b[1;32m----> 4\u001b[0m a \u001b[38;5;241m+\u001b[39m b\n",
      "\u001b[1;31mTypeError\u001b[0m: unsupported operand type(s) for +: 'set' and 'set'"
     ]
    }
   ],
   "source": [
    "a = {1,24,3}\n",
    "b = {23,5,45}\n",
    "\n",
    "a + b"
   ]
  },
  {
   "cell_type": "code",
   "execution_count": 321,
   "id": "98cf6804-b0e4-4f08-9df5-891550078f5a",
   "metadata": {},
   "outputs": [
    {
     "data": {
      "text/plain": [
       "{1, 3, 24}"
      ]
     },
     "execution_count": 321,
     "metadata": {},
     "output_type": "execute_result"
    }
   ],
   "source": [
    "a"
   ]
  },
  {
   "cell_type": "code",
   "execution_count": 323,
   "id": "1b03e18b-e33e-4384-9938-32c301d391e7",
   "metadata": {},
   "outputs": [
    {
     "ename": "TypeError",
     "evalue": "unsupported operand type(s) for *: 'set' and 'int'",
     "output_type": "error",
     "traceback": [
      "\u001b[1;31m---------------------------------------------------------------------------\u001b[0m",
      "\u001b[1;31mTypeError\u001b[0m                                 Traceback (most recent call last)",
      "Cell \u001b[1;32mIn[323], line 1\u001b[0m\n\u001b[1;32m----> 1\u001b[0m a\u001b[38;5;241m*\u001b[39m\u001b[38;5;241m2\u001b[39m\n",
      "\u001b[1;31mTypeError\u001b[0m: unsupported operand type(s) for *: 'set' and 'int'"
     ]
    }
   ],
   "source": [
    "a*2"
   ]
  },
  {
   "cell_type": "code",
   "execution_count": 325,
   "id": "fe94e363-7413-4451-9c90-7d7281e6535f",
   "metadata": {},
   "outputs": [
    {
     "data": {
      "text/plain": [
       "{1, 3, 24}"
      ]
     },
     "execution_count": 325,
     "metadata": {},
     "output_type": "execute_result"
    }
   ],
   "source": [
    "a = {1,24,3}\n",
    "b = {23,5,45}\n",
    "\n",
    "a - b"
   ]
  },
  {
   "cell_type": "markdown",
   "id": "421b3a53-9d69-4e3d-96ae-fd7c55455271",
   "metadata": {},
   "source": [
    "# SET Methods"
   ]
  },
  {
   "cell_type": "code",
   "execution_count": 328,
   "id": "f1525846-3f03-4c6b-932e-92b32258d71b",
   "metadata": {},
   "outputs": [
    {
     "name": "stdout",
     "output_type": "stream",
     "text": [
      "['__and__', '__class__', '__class_getitem__', '__contains__', '__delattr__', '__dir__', '__doc__', '__eq__', '__format__', '__ge__', '__getattribute__', '__getstate__', '__gt__', '__hash__', '__iand__', '__init__', '__init_subclass__', '__ior__', '__isub__', '__iter__', '__ixor__', '__le__', '__len__', '__lt__', '__ne__', '__new__', '__or__', '__rand__', '__reduce__', '__reduce_ex__', '__repr__', '__ror__', '__rsub__', '__rxor__', '__setattr__', '__sizeof__', '__str__', '__sub__', '__subclasshook__', '__xor__', 'add', 'clear', 'copy', 'difference', 'difference_update', 'discard', 'intersection', 'intersection_update', 'isdisjoint', 'issubset', 'issuperset', 'pop', 'remove', 'symmetric_difference', 'symmetric_difference_update', 'union', 'update']\n"
     ]
    }
   ],
   "source": [
    "print(dir(set))"
   ]
  },
  {
   "cell_type": "code",
   "execution_count": 332,
   "id": "14b00b4d-3d44-4376-946f-7bf8d2d6b031",
   "metadata": {},
   "outputs": [],
   "source": [
    "all_methods = ['add', 'clear', 'copy', 'difference', 'difference_update', 'discard', 'intersection', 'intersection_update', 'isdisjoint', 'issubset', 'issuperset', 'pop', 'remove', 'symmetric_difference', 'symmetric_difference_update', 'union', 'update']\n"
   ]
  },
  {
   "cell_type": "code",
   "execution_count": 334,
   "id": "a8fe9398-4d3a-4fad-8b42-71ddb5dc65c8",
   "metadata": {},
   "outputs": [
    {
     "name": "stdout",
     "output_type": "stream",
     "text": [
      "['add', 'clear', 'copy', 'difference', 'difference_update', 'discard', 'intersection', 'intersection_update', 'isdisjoint', 'issubset', 'issuperset', 'pop', 'remove', 'symmetric_difference', 'symmetric_difference_update', 'union', 'update']\n"
     ]
    }
   ],
   "source": [
    "print(all_methods)"
   ]
  },
  {
   "cell_type": "code",
   "execution_count": 336,
   "id": "cb3e2227-57f3-4ac7-80f7-70d2d18f6ed1",
   "metadata": {},
   "outputs": [
    {
     "name": "stdout",
     "output_type": "stream",
     "text": [
      "17\n"
     ]
    }
   ],
   "source": [
    "print(len(all_methods))"
   ]
  },
  {
   "cell_type": "code",
   "execution_count": 338,
   "id": "9522d233-1274-408a-ad8b-f105f043dd54",
   "metadata": {},
   "outputs": [],
   "source": [
    "a = {2,3,5456}"
   ]
  },
  {
   "cell_type": "code",
   "execution_count": 340,
   "id": "40c38f76-f3ab-4deb-8ab0-75034c7964d5",
   "metadata": {},
   "outputs": [
    {
     "name": "stdout",
     "output_type": "stream",
     "text": [
      "{5456, 2, 3}\n"
     ]
    }
   ],
   "source": [
    "print(a)"
   ]
  },
  {
   "cell_type": "code",
   "execution_count": 342,
   "id": "ae83b159-ce2c-4ab2-b9d5-96195d897ec3",
   "metadata": {},
   "outputs": [],
   "source": [
    "a.add('Mohan')"
   ]
  },
  {
   "cell_type": "code",
   "execution_count": 344,
   "id": "487f98de-2c5a-46d5-8095-d2534c24f382",
   "metadata": {},
   "outputs": [
    {
     "name": "stdout",
     "output_type": "stream",
     "text": [
      "{5456, 2, 3, 'Mohan'}\n"
     ]
    }
   ],
   "source": [
    "print(a)"
   ]
  },
  {
   "cell_type": "code",
   "execution_count": 346,
   "id": "8d666975-def0-4494-a402-52fd8f10a06f",
   "metadata": {},
   "outputs": [],
   "source": [
    "# set can contain str"
   ]
  },
  {
   "cell_type": "code",
   "execution_count": 348,
   "id": "5902d330-da2c-496e-9704-e4b163241746",
   "metadata": {},
   "outputs": [
    {
     "name": "stdout",
     "output_type": "stream",
     "text": [
      "{2, 3, 46, (2, 3, 546)}\n"
     ]
    }
   ],
   "source": [
    "a = {2,3,46,(2,3,546)}\n",
    "print(a)"
   ]
  },
  {
   "cell_type": "code",
   "execution_count": 350,
   "id": "fcf18a02-314b-452c-820f-4bdb6494e8c8",
   "metadata": {},
   "outputs": [
    {
     "data": {
      "text/plain": [
       "{(2, 3, 546), 2, 3, 46}"
      ]
     },
     "execution_count": 350,
     "metadata": {},
     "output_type": "execute_result"
    }
   ],
   "source": [
    "a"
   ]
  },
  {
   "cell_type": "code",
   "execution_count": 352,
   "id": "0bfa7c64-6ff6-4fb1-91fb-3a78db5a4826",
   "metadata": {},
   "outputs": [],
   "source": [
    "a.add(500)"
   ]
  },
  {
   "cell_type": "code",
   "execution_count": 354,
   "id": "f15a27a5-e911-4363-82c4-d9dc8baf18e9",
   "metadata": {},
   "outputs": [
    {
     "data": {
      "text/plain": [
       "{(2, 3, 546), 2, 3, 46, 500}"
      ]
     },
     "execution_count": 354,
     "metadata": {},
     "output_type": "execute_result"
    }
   ],
   "source": [
    "a"
   ]
  },
  {
   "cell_type": "code",
   "execution_count": 356,
   "id": "0a544658-8b6e-4a40-96c2-070926114254",
   "metadata": {},
   "outputs": [],
   "source": [
    "a.add(1)"
   ]
  },
  {
   "cell_type": "code",
   "execution_count": 358,
   "id": "1a053bd8-0eb2-442b-afdc-915f5aaa0519",
   "metadata": {},
   "outputs": [
    {
     "data": {
      "text/plain": [
       "{(2, 3, 546), 1, 2, 3, 46, 500}"
      ]
     },
     "execution_count": 358,
     "metadata": {},
     "output_type": "execute_result"
    }
   ],
   "source": [
    "a"
   ]
  },
  {
   "cell_type": "code",
   "execution_count": 360,
   "id": "224bcd87-eaf6-4a7d-955a-d8a89897fa44",
   "metadata": {},
   "outputs": [],
   "source": [
    "students = ['aman','karan','ravi','mohan','aman','mohan','karan','ajay']"
   ]
  },
  {
   "cell_type": "code",
   "execution_count": 362,
   "id": "63b1b512-150c-47df-919e-b50f07ba8b3d",
   "metadata": {},
   "outputs": [
    {
     "name": "stdout",
     "output_type": "stream",
     "text": [
      "['aman', 'karan', 'ravi', 'mohan', 'aman', 'mohan', 'karan', 'ajay']\n"
     ]
    }
   ],
   "source": [
    "print(students)"
   ]
  },
  {
   "cell_type": "code",
   "execution_count": 366,
   "id": "d5266bd4-b174-4691-b1fe-2014a66f7c43",
   "metadata": {},
   "outputs": [],
   "source": [
    "data = set(students)"
   ]
  },
  {
   "cell_type": "code",
   "execution_count": 370,
   "id": "2dff001a-d442-445a-91db-b832a18f8a23",
   "metadata": {},
   "outputs": [],
   "source": [
    "data.add('ajay')"
   ]
  },
  {
   "cell_type": "code",
   "execution_count": 372,
   "id": "24100642-8b2d-49a3-b89f-3853665163fc",
   "metadata": {},
   "outputs": [
    {
     "data": {
      "text/plain": [
       "{'ajay', 'aman', 'karan', 'mohan', 'ravi'}"
      ]
     },
     "execution_count": 372,
     "metadata": {},
     "output_type": "execute_result"
    }
   ],
   "source": [
    "data"
   ]
  },
  {
   "cell_type": "code",
   "execution_count": 374,
   "id": "dc25b168-93a7-479c-a20a-5118cd92059e",
   "metadata": {},
   "outputs": [
    {
     "name": "stdout",
     "output_type": "stream",
     "text": [
      "['add', 'clear', 'copy', 'difference', 'difference_update', 'discard', 'intersection', 'intersection_update', 'isdisjoint', 'issubset', 'issuperset', 'pop', 'remove', 'symmetric_difference', 'symmetric_difference_update', 'union', 'update']\n"
     ]
    }
   ],
   "source": [
    "print(all_methods)"
   ]
  },
  {
   "cell_type": "code",
   "execution_count": 376,
   "id": "af021657-8108-426d-bd60-6294fa9dfb24",
   "metadata": {},
   "outputs": [
    {
     "data": {
      "text/plain": [
       "{'ajay', 'aman', 'karan', 'mohan', 'ravi'}"
      ]
     },
     "execution_count": 376,
     "metadata": {},
     "output_type": "execute_result"
    }
   ],
   "source": [
    "data"
   ]
  },
  {
   "cell_type": "code",
   "execution_count": 378,
   "id": "b0fc9755-e974-4700-8c21-96d9f9acde64",
   "metadata": {},
   "outputs": [],
   "source": [
    "data.clear()"
   ]
  },
  {
   "cell_type": "code",
   "execution_count": 380,
   "id": "06aa2bce-6133-45dc-8c9c-fcf259a5f872",
   "metadata": {},
   "outputs": [
    {
     "data": {
      "text/plain": [
       "set()"
      ]
     },
     "execution_count": 380,
     "metadata": {},
     "output_type": "execute_result"
    }
   ],
   "source": [
    "data"
   ]
  },
  {
   "cell_type": "code",
   "execution_count": 382,
   "id": "9bb65839-de93-4a0f-b502-a080bf371eaa",
   "metadata": {},
   "outputs": [],
   "source": [
    "a = {2,35,46}"
   ]
  },
  {
   "cell_type": "code",
   "execution_count": 384,
   "id": "2b7d2ada-bfb2-4932-9da9-5b18acbccf6b",
   "metadata": {},
   "outputs": [],
   "source": [
    "b = a"
   ]
  },
  {
   "cell_type": "code",
   "execution_count": 386,
   "id": "715f2276-53f1-42c3-baec-224bc4dd322e",
   "metadata": {},
   "outputs": [
    {
     "data": {
      "text/plain": [
       "{2, 35, 46}"
      ]
     },
     "execution_count": 386,
     "metadata": {},
     "output_type": "execute_result"
    }
   ],
   "source": [
    "b"
   ]
  },
  {
   "cell_type": "code",
   "execution_count": 388,
   "id": "324765bb-98b0-4cf4-a4ab-aa6c39a92e81",
   "metadata": {},
   "outputs": [],
   "source": [
    "b.add(100)"
   ]
  },
  {
   "cell_type": "code",
   "execution_count": 390,
   "id": "9ebb2682-de13-46ad-a513-498a987d4a84",
   "metadata": {},
   "outputs": [
    {
     "data": {
      "text/plain": [
       "{2, 35, 46, 100}"
      ]
     },
     "execution_count": 390,
     "metadata": {},
     "output_type": "execute_result"
    }
   ],
   "source": [
    "b"
   ]
  },
  {
   "cell_type": "code",
   "execution_count": 392,
   "id": "69b600e9-8a11-472b-b0b2-e9bf04837ae8",
   "metadata": {},
   "outputs": [
    {
     "data": {
      "text/plain": [
       "{2, 35, 46, 100}"
      ]
     },
     "execution_count": 392,
     "metadata": {},
     "output_type": "execute_result"
    }
   ],
   "source": [
    "a"
   ]
  },
  {
   "cell_type": "code",
   "execution_count": 394,
   "id": "3191ff66-d272-4df6-be5d-9c8a2860e0b4",
   "metadata": {},
   "outputs": [],
   "source": [
    "aman = {2,43,5}"
   ]
  },
  {
   "cell_type": "code",
   "execution_count": 396,
   "id": "3b3a41d8-bea8-488a-b882-86aa94bc476e",
   "metadata": {},
   "outputs": [],
   "source": [
    "karan = aman.copy()"
   ]
  },
  {
   "cell_type": "code",
   "execution_count": 398,
   "id": "181adef4-7b66-4a19-ae48-ad4e6e94e837",
   "metadata": {},
   "outputs": [],
   "source": [
    "karan.add(100)"
   ]
  },
  {
   "cell_type": "code",
   "execution_count": 400,
   "id": "38eda215-d03d-4b58-9b3e-e8269ad20e9c",
   "metadata": {},
   "outputs": [
    {
     "data": {
      "text/plain": [
       "{2, 5, 43, 100}"
      ]
     },
     "execution_count": 400,
     "metadata": {},
     "output_type": "execute_result"
    }
   ],
   "source": [
    "karan"
   ]
  },
  {
   "cell_type": "code",
   "execution_count": 402,
   "id": "17801d50-ce56-4af2-a40f-dabdbff870cb",
   "metadata": {},
   "outputs": [
    {
     "data": {
      "text/plain": [
       "{2, 5, 43}"
      ]
     },
     "execution_count": 402,
     "metadata": {},
     "output_type": "execute_result"
    }
   ],
   "source": [
    "aman"
   ]
  },
  {
   "cell_type": "code",
   "execution_count": 404,
   "id": "031a4b54-bb8c-4e91-a1ef-86356bee5efc",
   "metadata": {},
   "outputs": [],
   "source": [
    "a = {1,5,7}\n",
    "b = {5,9,10}"
   ]
  },
  {
   "cell_type": "code",
   "execution_count": 406,
   "id": "d5a90d54-054e-4ea8-9295-f3001695c5fe",
   "metadata": {},
   "outputs": [
    {
     "data": {
      "text/plain": [
       "{1, 7}"
      ]
     },
     "execution_count": 406,
     "metadata": {},
     "output_type": "execute_result"
    }
   ],
   "source": [
    "a - b"
   ]
  },
  {
   "cell_type": "code",
   "execution_count": 408,
   "id": "1fdd6099-15be-4786-8fa8-88bfa863926f",
   "metadata": {},
   "outputs": [
    {
     "data": {
      "text/plain": [
       "{9, 10}"
      ]
     },
     "execution_count": 408,
     "metadata": {},
     "output_type": "execute_result"
    }
   ],
   "source": [
    "b - a"
   ]
  },
  {
   "cell_type": "code",
   "execution_count": 410,
   "id": "cbbac7cd-f94f-48c7-aa4c-684cd1cbbba0",
   "metadata": {},
   "outputs": [
    {
     "data": {
      "text/plain": [
       "{1, 7}"
      ]
     },
     "execution_count": 410,
     "metadata": {},
     "output_type": "execute_result"
    }
   ],
   "source": [
    "a.difference(b)"
   ]
  },
  {
   "cell_type": "code",
   "execution_count": 412,
   "id": "dea2c66b-243a-4e9f-b217-d367091a06b9",
   "metadata": {},
   "outputs": [
    {
     "data": {
      "text/plain": [
       "{9, 10}"
      ]
     },
     "execution_count": 412,
     "metadata": {},
     "output_type": "execute_result"
    }
   ],
   "source": [
    "b.difference(a)"
   ]
  },
  {
   "cell_type": "code",
   "execution_count": 422,
   "id": "9f36a60c-3387-43e3-a5d9-ab8161a640db",
   "metadata": {},
   "outputs": [],
   "source": [
    "a = {14,5,6}\n",
    "b = {4,5,6}"
   ]
  },
  {
   "cell_type": "code",
   "execution_count": 424,
   "id": "b40552f4-636e-4b8c-a4da-0c5877e6b6c5",
   "metadata": {},
   "outputs": [
    {
     "data": {
      "text/plain": [
       "{14}"
      ]
     },
     "execution_count": 424,
     "metadata": {},
     "output_type": "execute_result"
    }
   ],
   "source": [
    "a - b"
   ]
  },
  {
   "cell_type": "code",
   "execution_count": 426,
   "id": "8515b8b7-88c4-4a85-8868-439742f688ad",
   "metadata": {},
   "outputs": [
    {
     "data": {
      "text/plain": [
       "{14}"
      ]
     },
     "execution_count": 426,
     "metadata": {},
     "output_type": "execute_result"
    }
   ],
   "source": [
    "a.difference(b)"
   ]
  },
  {
   "cell_type": "code",
   "execution_count": null,
   "id": "bf93c506-d659-4f21-9c67-17279dbd45e4",
   "metadata": {},
   "outputs": [],
   "source": []
  }
 ],
 "metadata": {
  "kernelspec": {
   "display_name": "Python [conda env:base] *",
   "language": "python",
   "name": "conda-base-py"
  },
  "language_info": {
   "codemirror_mode": {
    "name": "ipython",
    "version": 3
   },
   "file_extension": ".py",
   "mimetype": "text/x-python",
   "name": "python",
   "nbconvert_exporter": "python",
   "pygments_lexer": "ipython3",
   "version": "3.12.7"
  }
 },
 "nbformat": 4,
 "nbformat_minor": 5
}
