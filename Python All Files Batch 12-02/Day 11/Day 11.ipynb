{
 "cells": [
  {
   "cell_type": "markdown",
   "id": "8465279d-bd88-4e41-836a-bd37246a6543",
   "metadata": {},
   "source": [
    "# Flow Control and Conditional Statements"
   ]
  },
  {
   "cell_type": "markdown",
   "id": "3e15db3f-4a4c-471d-b2b0-9bbb7c7c7c7c",
   "metadata": {},
   "source": [
    "# Loop :- Automation"
   ]
  },
  {
   "cell_type": "code",
   "execution_count": 3,
   "id": "bb7ceb02-dae4-4d2a-b33b-330ef9b0db4c",
   "metadata": {},
   "outputs": [
    {
     "name": "stdout",
     "output_type": "stream",
     "text": [
      "Hello World\n",
      "Hello World\n",
      "Hello World\n",
      "Hello World\n",
      "Hello World\n"
     ]
    }
   ],
   "source": [
    "print('Hello World')\n",
    "print('Hello World')\n",
    "print('Hello World')\n",
    "print('Hello World')\n",
    "print('Hello World')\n"
   ]
  },
  {
   "cell_type": "code",
   "execution_count": 5,
   "id": "595f89e9-9591-4289-a7c5-ef1dd0a8d3fd",
   "metadata": {},
   "outputs": [
    {
     "name": "stdout",
     "output_type": "stream",
     "text": [
      "Hello World\n",
      "Hello World\n",
      "Hello World\n",
      "Hello World\n",
      "Hello World\n",
      "\n"
     ]
    }
   ],
   "source": [
    "print('Hello World\\n'*5)"
   ]
  },
  {
   "cell_type": "code",
   "execution_count": 9,
   "id": "34f205f9-8903-43ee-9cb5-f008f48adca7",
   "metadata": {},
   "outputs": [
    {
     "name": "stdout",
     "output_type": "stream",
     "text": [
      "2 x 1 = 2\n",
      "2 x 2 = 4\n"
     ]
    }
   ],
   "source": [
    "print(f'{2} x {1} = {2}')\n",
    "print(f'{2} x {2} = {4}')\n"
   ]
  },
  {
   "cell_type": "code",
   "execution_count": 11,
   "id": "53e15d6f-a989-430b-8598-d03528256397",
   "metadata": {},
   "outputs": [],
   "source": [
    "# loop :- code repeat"
   ]
  },
  {
   "cell_type": "code",
   "execution_count": 13,
   "id": "7bbb3bd6-6c0e-4587-a759-160d829af9d4",
   "metadata": {},
   "outputs": [],
   "source": [
    "# LOOP\n",
    "# For Loop\n",
    "# While Loop\n",
    "\n",
    "# Do while\n",
    "# For each loop"
   ]
  },
  {
   "cell_type": "code",
   "execution_count": null,
   "id": "f736260e-288d-45ac-b4de-2c49b0569daf",
   "metadata": {},
   "outputs": [],
   "source": []
  },
  {
   "cell_type": "code",
   "execution_count": 16,
   "id": "46a4148e-3154-438a-838c-74b9c3ac66b4",
   "metadata": {},
   "outputs": [],
   "source": [
    "# For Loop Syntax"
   ]
  },
  {
   "cell_type": "code",
   "execution_count": 18,
   "id": "c4620e95-3322-4c00-9efa-2c5ac443f468",
   "metadata": {},
   "outputs": [],
   "source": [
    "# for iterator in collections:\n",
    "#     code block\n",
    "#     ...\n",
    "    "
   ]
  },
  {
   "cell_type": "code",
   "execution_count": 24,
   "id": "bca12496-67f4-4197-be3f-aa8dac1a378e",
   "metadata": {},
   "outputs": [
    {
     "name": "stdout",
     "output_type": "stream",
     "text": [
      "👍OLA\n",
      "👍UBER\n",
      "👍KIA\n",
      "👍MARUTI\n"
     ]
    }
   ],
   "source": [
    "for i in ['ola','uber','kia','maruti']:\n",
    "    print('👍'+i.upper())"
   ]
  },
  {
   "cell_type": "code",
   "execution_count": 28,
   "id": "161741aa-0a03-48b5-ba1e-eb1caf8bd0cb",
   "metadata": {},
   "outputs": [],
   "source": [
    "# print('👍','OLA')\n",
    "# print('👍','OLA')\n"
   ]
  },
  {
   "cell_type": "code",
   "execution_count": 32,
   "id": "1ac7f488-a51d-40c0-92a8-68f0b921f96d",
   "metadata": {},
   "outputs": [],
   "source": [
    "data = ['ola','uber','kia','maruti']"
   ]
  },
  {
   "cell_type": "code",
   "execution_count": 34,
   "id": "d1cbe071-ef27-405b-b355-6fee37e5427d",
   "metadata": {},
   "outputs": [
    {
     "name": "stdout",
     "output_type": "stream",
     "text": [
      "________ola_________\n",
      "________uber________\n",
      "________kia_________\n",
      "_______maruti_______\n"
     ]
    }
   ],
   "source": [
    "for i in data:\n",
    "    print(i.center(20,'_'))"
   ]
  },
  {
   "cell_type": "code",
   "execution_count": null,
   "id": "e5c97ef3-ab9f-4000-aeae-fe7eebd872a1",
   "metadata": {},
   "outputs": [],
   "source": []
  },
  {
   "cell_type": "code",
   "execution_count": 37,
   "id": "af2ceff4-8f15-4bd1-85f9-ff8960de0984",
   "metadata": {},
   "outputs": [],
   "source": [
    "# Table Print"
   ]
  },
  {
   "cell_type": "code",
   "execution_count": 41,
   "id": "4192eee7-d92a-42a0-9668-c27319afc78d",
   "metadata": {},
   "outputs": [
    {
     "name": "stdout",
     "output_type": "stream",
     "text": [
      "2 x 1 = 2\n",
      "2 x 2 = 4\n",
      "2 x 3 = 6\n",
      "2 x 4 = 8\n",
      "2 x 5 = 10\n",
      "2 x 6 = 12\n",
      "2 x 7 = 14\n",
      "2 x 8 = 16\n",
      "2 x 9 = 18\n",
      "2 x 10 = 20\n"
     ]
    }
   ],
   "source": [
    "for i in [1,2,3,4,5,6,7,8,9,10]:\n",
    "    print(f'{2} x {i} = {2 * i}')"
   ]
  },
  {
   "cell_type": "code",
   "execution_count": 46,
   "id": "d2335846-708c-450c-887a-8a91d1a1ffea",
   "metadata": {},
   "outputs": [
    {
     "data": {
      "text/plain": [
       "[1, 2, 3, 4, 5, 6, 7, 8, 9, 10]"
      ]
     },
     "execution_count": 46,
     "metadata": {},
     "output_type": "execute_result"
    }
   ],
   "source": [
    "list(range(1,11))"
   ]
  },
  {
   "cell_type": "code",
   "execution_count": 62,
   "id": "59b0cc55-c2c5-4df3-8366-b45a160c6e4e",
   "metadata": {},
   "outputs": [
    {
     "name": "stdout",
     "output_type": "stream",
     "text": [
      "78 x 1 = 78\n",
      "78 x 2 = 156\n",
      "78 x 3 = 234\n",
      "78 x 4 = 312\n",
      "78 x 5 = 390\n",
      "78 x 6 = 468\n",
      "78 x 7 = 546\n",
      "78 x 8 = 624\n",
      "78 x 9 = 702\n",
      "78 x 10 = 780\n"
     ]
    }
   ],
   "source": [
    "table = 78\n",
    "for i in range(1,11):\n",
    "    print(f'{table} x {i} = {table * i}')"
   ]
  },
  {
   "cell_type": "code",
   "execution_count": null,
   "id": "8dcef51c-1a2a-4799-9809-841abd1d26a8",
   "metadata": {},
   "outputs": [],
   "source": []
  },
  {
   "cell_type": "code",
   "execution_count": 71,
   "id": "c0106898-4b2f-4ec8-9ad7-b2b114b45152",
   "metadata": {},
   "outputs": [
    {
     "name": "stdout",
     "output_type": "stream",
     "text": [
      "Even List [32, 454, 532, 54, 346, 546]\n",
      "Odd List [655, 5435, 547, 435]\n"
     ]
    }
   ],
   "source": [
    "data = [32,454,532,54,655,346,546,5435,547,435]\n",
    "\n",
    "even = []\n",
    "odd = []\n",
    "\n",
    "for element in data:\n",
    "    if element % 2 == 0:\n",
    "        even.append(element)\n",
    "    else:\n",
    "        odd.append(element)\n",
    "\n",
    "print('Even List',even)\n",
    "print('Odd List',odd)"
   ]
  },
  {
   "cell_type": "code",
   "execution_count": null,
   "id": "0433573f-cfa5-4b77-84c3-c4c64150b258",
   "metadata": {},
   "outputs": [],
   "source": []
  },
  {
   "cell_type": "markdown",
   "id": "53cbc735-f583-4cf6-aca5-2ecdc59b5b46",
   "metadata": {},
   "source": [
    "# For loop with multiple data types"
   ]
  },
  {
   "cell_type": "code",
   "execution_count": 88,
   "id": "06db7e78-4f60-42e4-bed9-151184ba173a",
   "metadata": {},
   "outputs": [
    {
     "name": "stdout",
     "output_type": "stream",
     "text": [
      "H\n",
      "e\n",
      "l\n",
      "l\n",
      "o\n"
     ]
    }
   ],
   "source": [
    "import time\n",
    "data = 'Hello'\n",
    "\n",
    "for i in data:\n",
    "    print(i)\n",
    "    time.sleep(1)\n"
   ]
  },
  {
   "cell_type": "code",
   "execution_count": 90,
   "id": "12c64cd4-b6d1-4df7-8438-ab0ad72d345f",
   "metadata": {},
   "outputs": [],
   "source": [
    "wikipedia = '''India, officially the Republic of India,[j][20] is a country in South Asia. It is the seventh-largest country by area; the most populous country as of June 2023;[21][22] and, since its independence in 1947, the world's most populous democracy.[23][24][25] Bounded by the Indian Ocean on the south, the Arabian Sea on the southwest, and the Bay of Bengal on the southeast, it shares land borders with Pakistan to the west;[k] China, Nepal, and Bhutan to the north; and Bangladesh and Myanmar to the east. In the Indian Ocean, India is near Sri Lanka and the Maldives; its Andaman and Nicobar Islands share a maritime border with Thailand, Myanmar, and Indonesia.'''"
   ]
  },
  {
   "cell_type": "code",
   "execution_count": 92,
   "id": "0820bde4-d2bc-476b-aebd-f56928b97df3",
   "metadata": {},
   "outputs": [
    {
     "data": {
      "text/plain": [
       "\"India, officially the Republic of India,[j][20] is a country in South Asia. It is the seventh-largest country by area; the most populous country as of June 2023;[21][22] and, since its independence in 1947, the world's most populous democracy.[23][24][25] Bounded by the Indian Ocean on the south, the Arabian Sea on the southwest, and the Bay of Bengal on the southeast, it shares land borders with Pakistan to the west;[k] China, Nepal, and Bhutan to the north; and Bangladesh and Myanmar to the east. In the Indian Ocean, India is near Sri Lanka and the Maldives; its Andaman and Nicobar Islands share a maritime border with Thailand, Myanmar, and Indonesia.\""
      ]
     },
     "execution_count": 92,
     "metadata": {},
     "output_type": "execute_result"
    }
   ],
   "source": [
    "wikipedia"
   ]
  },
  {
   "cell_type": "code",
   "execution_count": 104,
   "id": "745b571c-0f3e-4b79-a5fb-2725f9c17886",
   "metadata": {},
   "outputs": [
    {
     "name": "stdout",
     "output_type": "stream",
     "text": [
      "India, officially the Republic of India,[j][20] is a country in South Asia. It is the seventh-largest country by area; the most populous country as of June 2023;[21][22] and, since its independence in 1947, the world's most populous democracy.[23][24][25] Bounded by the Indian Ocean on the south, the Arabian Sea on the southwest, and the Bay of Bengal on the southeast, it shares land borders with Pakistan to the west;[k] China, Nepal, and Bhutan to the north; and Bangladesh and Myanmar to the east. In the Indian Ocean, India is near Sri Lanka and the Maldives; its Andaman and Nicobar Islands share a maritime border with Thailand, Myanmar, and Indonesia."
     ]
    }
   ],
   "source": [
    "for i in wikipedia:\n",
    "    print(i,end = '')\n",
    "    time.sleep(0.05)"
   ]
  },
  {
   "cell_type": "code",
   "execution_count": null,
   "id": "72424145-9b38-4799-964b-d0425ccdc3ef",
   "metadata": {},
   "outputs": [],
   "source": []
  },
  {
   "cell_type": "code",
   "execution_count": 117,
   "id": "4040692e-22f1-4cbc-b9b0-a925687a0ba6",
   "metadata": {},
   "outputs": [
    {
     "name": "stdout",
     "output_type": "stream",
     "text": [
      "Sun Jan 19 13:16:38 2025\n"
     ]
    }
   ],
   "source": [
    "for i in range(0,10):\n",
    "    print(time.asctime())\n",
    "    time.sleep(1)\n",
    "    display(clear=True)"
   ]
  },
  {
   "cell_type": "code",
   "execution_count": null,
   "id": "66cd5f64-1612-479c-b303-95e5e3bab46c",
   "metadata": {},
   "outputs": [],
   "source": []
  },
  {
   "cell_type": "code",
   "execution_count": 122,
   "id": "89ecc52a-9802-4e9d-9ce6-28d80747880b",
   "metadata": {},
   "outputs": [],
   "source": [
    "# Chatbot"
   ]
  },
  {
   "cell_type": "code",
   "execution_count": 126,
   "id": "fce16824-c6f4-40e9-b940-99a5af516c21",
   "metadata": {},
   "outputs": [
    {
     "name": "stdin",
     "output_type": "stream",
     "text": [
      "Enter your name:  Komal\n"
     ]
    },
    {
     "name": "stdout",
     "output_type": "stream",
     "text": [
      "Hello Komal!!\n"
     ]
    },
    {
     "name": "stdin",
     "output_type": "stream",
     "text": [
      "Enter your message:  bye\n"
     ]
    },
    {
     "name": "stdout",
     "output_type": "stream",
     "text": [
      "Bye!! nikal ja!!\n"
     ]
    }
   ],
   "source": [
    "import random\n",
    "\n",
    "name = input('Enter your name: ')\n",
    "print(f'Hello {name}!!')\n",
    "\n",
    "for i in range(10):\n",
    "    msg = input('Enter your message: ').lower()\n",
    "\n",
    "    if msg == 'hello':\n",
    "        print('Hello, How are you??')\n",
    "        \n",
    "    elif msg in ['namaste','kya haal hai','assalam walekum']:\n",
    "        print('I am Fine, what about you??')\n",
    "\n",
    "    elif msg == 'order not received':\n",
    "        print('sorry to hear that, Kindly give your order number: ')\n",
    "        order_num = input('Enter your order number: ')\n",
    "\n",
    "        print('Your ticket has been raised, we will contact you shortly!!')\n",
    "        ticket_id = random.randint(111111,999999)\n",
    "        print(f'Your ticket id is: {ticket_id}')\n",
    "        \n",
    "    elif msg == 'awesome service':\n",
    "        print(\"That's awesome, please visit again\")\n",
    "        \n",
    "    elif msg in ['bye','bye bye']:\n",
    "        print('Bye!! nikal ja!!')\n",
    "        break\n",
    "        \n",
    "    else:\n",
    "        print('Try Something different, Did not get!!')"
   ]
  },
  {
   "cell_type": "code",
   "execution_count": null,
   "id": "edce0208-19e0-4174-be46-63271f77e9df",
   "metadata": {},
   "outputs": [],
   "source": []
  },
  {
   "cell_type": "code",
   "execution_count": null,
   "id": "805df6d4-e967-42ee-bb91-2a76e9780ec9",
   "metadata": {},
   "outputs": [],
   "source": []
  },
  {
   "cell_type": "code",
   "execution_count": 144,
   "id": "c913629e-df44-42d8-a736-0412ee5a15c6",
   "metadata": {},
   "outputs": [
    {
     "name": "stdout",
     "output_type": "stream",
     "text": [
      "{'Name': 'Mohan', 'Age': 23, 'Dept': 'HR', 'Address': 'Noida', 'Salary': 32835}\n"
     ]
    }
   ],
   "source": [
    "data = {'Name':'Mohan','Age':23,'Dept':'HR','Address':'Noida','Salary':random.randint(25000,50000)}\n",
    "print(data)"
   ]
  },
  {
   "cell_type": "code",
   "execution_count": 166,
   "id": "be591d96-6597-4b2a-abd4-b2519f96cc37",
   "metadata": {},
   "outputs": [
    {
     "name": "stdout",
     "output_type": "stream",
     "text": [
      "Name Mohan\n",
      "Age 23\n",
      "Dept HR\n",
      "Address Noida\n",
      "Salary 32835\n"
     ]
    }
   ],
   "source": [
    "for key in data:\n",
    "    print(key,data[key])"
   ]
  },
  {
   "cell_type": "code",
   "execution_count": 168,
   "id": "a068bae5-8d4f-49c0-bbc7-f297c1cb02fd",
   "metadata": {},
   "outputs": [
    {
     "data": {
      "text/plain": [
       "32835"
      ]
     },
     "execution_count": 168,
     "metadata": {},
     "output_type": "execute_result"
    }
   ],
   "source": [
    "data['Salary']"
   ]
  },
  {
   "cell_type": "code",
   "execution_count": 170,
   "id": "142b1c96-17ed-4ebf-b7e4-ff09e02827da",
   "metadata": {},
   "outputs": [
    {
     "name": "stdout",
     "output_type": "stream",
     "text": [
      "Your Name is Mohan\n",
      "Your Age is 23\n",
      "Your Dept is HR\n",
      "Your Address is Noida\n",
      "Your Salary is 32835\n"
     ]
    }
   ],
   "source": [
    "for key in data:\n",
    "    print(f'Your {key} is {data[key]}')"
   ]
  },
  {
   "cell_type": "code",
   "execution_count": null,
   "id": "095fd6f3-9faf-4171-804a-20b9c1e30291",
   "metadata": {},
   "outputs": [],
   "source": []
  },
  {
   "cell_type": "code",
   "execution_count": 185,
   "id": "2b4b98d2-46b4-4f74-8072-2b64717bb55c",
   "metadata": {},
   "outputs": [],
   "source": [
    "import cowsay"
   ]
  },
  {
   "cell_type": "code",
   "execution_count": 209,
   "id": "666d5e20-5aca-495b-bdc4-41a0c795753b",
   "metadata": {},
   "outputs": [
    {
     "name": "stdout",
     "output_type": "stream",
     "text": [
      "  _______________________\n",
      " /                       \\\n",
      "| LUNCH FEAST @255        |\n",
      "| with 6 items: 🍕,3 Sides |\n",
      "| Choco Bomb & Pepsi      |\n",
      " \\                       /\n",
      "  =======================\n",
      "                       \\\n",
      "                        \\\n",
      "                          ^__^\n",
      "                          (oo)\\_______\n",
      "                          (__)\\       )\\/\\\n",
      "                              ||----w |\n",
      "                              ||     ||\n"
     ]
    }
   ],
   "source": [
    "rs = 255\n",
    "qty = 6\n",
    "sides = 3\n",
    "\n",
    "message = f'''LUNCH FEAST @{rs}\n",
    "with {qty} items: 🍕,{sides} Sides\n",
    "Choco Bomb & Pepsi'''\n",
    "\n",
    "cowsay.cow(message)"
   ]
  },
  {
   "cell_type": "code",
   "execution_count": 205,
   "id": "d72dd116-8439-4c9f-a713-5660f11e4a2f",
   "metadata": {},
   "outputs": [],
   "source": [
    "# dir(cowsay)"
   ]
  },
  {
   "cell_type": "code",
   "execution_count": 211,
   "id": "e632eda6-0954-4ece-be95-4f7af4d4f65d",
   "metadata": {},
   "outputs": [],
   "source": [
    "from IPython import display"
   ]
  },
  {
   "cell_type": "code",
   "execution_count": 215,
   "id": "f0cff310-7947-4a63-8975-22faaa93f717",
   "metadata": {},
   "outputs": [
    {
     "data": {
      "image/jpeg": "[encoded data removed]",
      "text/plain": [
       "<IPython.core.display.Image object>"
      ]
     },
     "execution_count": 215,
     "metadata": {
      "image/jpeg": {
       "height": 100,
       "width": 100
      }
     },
     "output_type": "execute_result"
    }
   ],
   "source": [
    "display.Image('https://i.pinimg.com/736x/3d/96/eb/3d96eba59a324ac1570e174fd5bb5e94.jpg',width=100,height=100)"
   ]
  },
  {
   "cell_type": "code",
   "execution_count": null,
   "id": "9712fe07-7650-4ed5-94f4-e0432b6de7f7",
   "metadata": {},
   "outputs": [],
   "source": []
  }
 ],
 "metadata": {
  "kernelspec": {
   "display_name": "Python [conda env:base] *",
   "language": "python",
   "name": "conda-base-py"
  },
  "language_info": {
   "codemirror_mode": {
    "name": "ipython",
    "version": 3
   },
   "file_extension": ".py",
   "mimetype": "text/x-python",
   "name": "python",
   "nbconvert_exporter": "python",
   "pygments_lexer": "ipython3",
   "version": "3.12.7"
  }
 },
 "nbformat": 4,
 "nbformat_minor": 5
}
