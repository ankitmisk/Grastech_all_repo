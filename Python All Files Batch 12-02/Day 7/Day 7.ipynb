{
 "cells": [
  {
   "cell_type": "markdown",
   "id": "c2f5713c-749b-4898-a304-4c739055cb30",
   "metadata": {},
   "source": [
    "# List Methods"
   ]
  },
  {
   "cell_type": "code",
   "execution_count": 2,
   "id": "b04ae8b8-c547-4fe9-bfb5-97a91bb68c01",
   "metadata": {},
   "outputs": [
    {
     "name": "stdout",
     "output_type": "stream",
     "text": [
      "['__add__', '__class__', '__class_getitem__', '__contains__', '__delattr__', '__delitem__', '__dir__', '__doc__', '__eq__', '__format__', '__ge__', '__getattribute__', '__getitem__', '__getstate__', '__gt__', '__hash__', '__iadd__', '__imul__', '__init__', '__init_subclass__', '__iter__', '__le__', '__len__', '__lt__', '__mul__', '__ne__', '__new__', '__reduce__', '__reduce_ex__', '__repr__', '__reversed__', '__rmul__', '__setattr__', '__setitem__', '__sizeof__', '__str__', '__subclasshook__', 'append', 'clear', 'copy', 'count', 'extend', 'index', 'insert', 'pop', 'remove', 'reverse', 'sort']\n"
     ]
    }
   ],
   "source": [
    "print(dir(list))"
   ]
  },
  {
   "cell_type": "code",
   "execution_count": 4,
   "id": "b18160c1-5407-407d-ba92-c8538f87be5f",
   "metadata": {},
   "outputs": [],
   "source": [
    "a = [2,34,35]"
   ]
  },
  {
   "cell_type": "code",
   "execution_count": 10,
   "id": "e565342d-b83d-4e16-9cc0-d7f04fbdc4b5",
   "metadata": {},
   "outputs": [
    {
     "name": "stdout",
     "output_type": "stream",
     "text": [
      "['__add__', '__class__', '__class_getitem__', '__contains__', '__delattr__', '__delitem__', '__dir__', '__doc__', '__eq__', '__format__', '__ge__', '__getattribute__', '__getitem__', '__getstate__', '__gt__', '__hash__', '__iadd__', '__imul__', '__init__', '__init_subclass__', '__iter__', '__le__', '__len__', '__lt__', '__mul__', '__ne__', '__new__', '__reduce__', '__reduce_ex__', '__repr__', '__reversed__', '__rmul__', '__setattr__', '__setitem__', '__sizeof__', '__str__', '__subclasshook__', 'append', 'clear', 'copy', 'count', 'extend', 'index', 'insert', 'pop', 'remove', 'reverse', 'sort']\n"
     ]
    }
   ],
   "source": [
    "print(dir(a))"
   ]
  },
  {
   "cell_type": "code",
   "execution_count": 12,
   "id": "98044e7d-6d6d-4ee7-88c3-a85b8bafb45c",
   "metadata": {},
   "outputs": [],
   "source": [
    "all_methods = ['append', 'clear', 'copy', 'count', 'extend', 'index', 'insert', 'pop', 'remove', 'reverse', 'sort']\n"
   ]
  },
  {
   "cell_type": "code",
   "execution_count": 14,
   "id": "f7a06b56-be87-4aff-a286-637951662fa6",
   "metadata": {},
   "outputs": [
    {
     "name": "stdout",
     "output_type": "stream",
     "text": [
      "['append', 'clear', 'copy', 'count', 'extend', 'index', 'insert', 'pop', 'remove', 'reverse', 'sort']\n"
     ]
    }
   ],
   "source": [
    "print(all_methods)"
   ]
  },
  {
   "cell_type": "code",
   "execution_count": 16,
   "id": "7b89c9d7-81b4-4e15-bb2f-9cd0bdd686fe",
   "metadata": {},
   "outputs": [],
   "source": [
    "# copy"
   ]
  },
  {
   "cell_type": "code",
   "execution_count": 18,
   "id": "011ad7da-12c3-4c92-a65b-52e313a08369",
   "metadata": {},
   "outputs": [],
   "source": [
    "ravi = [23,54,535]"
   ]
  },
  {
   "cell_type": "code",
   "execution_count": 20,
   "id": "5c374a32-9c80-423f-a9fe-a31ddc60f762",
   "metadata": {},
   "outputs": [],
   "source": [
    "sohan = ravi"
   ]
  },
  {
   "cell_type": "code",
   "execution_count": 22,
   "id": "d3216473-b950-471c-b1e3-eef0d7a786b9",
   "metadata": {},
   "outputs": [
    {
     "name": "stdout",
     "output_type": "stream",
     "text": [
      "[23, 54, 535]\n"
     ]
    }
   ],
   "source": [
    "print(sohan)"
   ]
  },
  {
   "cell_type": "code",
   "execution_count": 24,
   "id": "0e38e26b-2bc4-4137-9d4a-3bbb7c93fe6c",
   "metadata": {},
   "outputs": [],
   "source": [
    "sohan.append(100)"
   ]
  },
  {
   "cell_type": "code",
   "execution_count": 26,
   "id": "d5689310-e6d0-4bf7-aeed-0e8317729d13",
   "metadata": {},
   "outputs": [
    {
     "name": "stdout",
     "output_type": "stream",
     "text": [
      "[23, 54, 535, 100]\n"
     ]
    }
   ],
   "source": [
    "print(sohan)"
   ]
  },
  {
   "cell_type": "code",
   "execution_count": 28,
   "id": "1187bddf-a6a0-472d-a12e-430d4fc67f9f",
   "metadata": {},
   "outputs": [
    {
     "data": {
      "text/plain": [
       "[23, 54, 535, 100]"
      ]
     },
     "execution_count": 28,
     "metadata": {},
     "output_type": "execute_result"
    }
   ],
   "source": [
    "ravi"
   ]
  },
  {
   "cell_type": "code",
   "execution_count": 32,
   "id": "44cd64be-ea75-4c6d-91da-2785d441057f",
   "metadata": {},
   "outputs": [],
   "source": [
    "#deep copy:- ek list mein change hone se dusre mein changes ho jate hain"
   ]
  },
  {
   "cell_type": "code",
   "execution_count": 36,
   "id": "e2f8e3a7-a48b-413e-bc82-ba3914d7176f",
   "metadata": {},
   "outputs": [
    {
     "name": "stdout",
     "output_type": "stream",
     "text": [
      "[23, 54, 535, 100]\n"
     ]
    }
   ],
   "source": [
    "print(ravi)"
   ]
  },
  {
   "cell_type": "code",
   "execution_count": 38,
   "id": "373e54a5-8df5-4b7f-ae75-e3b00d8775c1",
   "metadata": {},
   "outputs": [],
   "source": [
    "ravi.append(123456)"
   ]
  },
  {
   "cell_type": "code",
   "execution_count": 40,
   "id": "95c50002-9352-4ecf-9eb2-c67e8e700942",
   "metadata": {},
   "outputs": [
    {
     "name": "stdout",
     "output_type": "stream",
     "text": [
      "[23, 54, 535, 100, 123456]\n"
     ]
    }
   ],
   "source": [
    "print(ravi)"
   ]
  },
  {
   "cell_type": "code",
   "execution_count": 42,
   "id": "e5686213-4815-4edc-9944-1f8352895da2",
   "metadata": {},
   "outputs": [
    {
     "name": "stdout",
     "output_type": "stream",
     "text": [
      "[23, 54, 535, 100, 123456]\n"
     ]
    }
   ],
   "source": [
    "print(sohan)"
   ]
  },
  {
   "cell_type": "code",
   "execution_count": 44,
   "id": "136e659f-b185-4540-823b-3efcc79a7548",
   "metadata": {},
   "outputs": [
    {
     "data": {
      "text/plain": [
       "1749017136704"
      ]
     },
     "execution_count": 44,
     "metadata": {},
     "output_type": "execute_result"
    }
   ],
   "source": [
    "id(ravi)"
   ]
  },
  {
   "cell_type": "code",
   "execution_count": 46,
   "id": "3445ded6-d3ca-4e18-b6ef-ed40f5957d09",
   "metadata": {},
   "outputs": [
    {
     "data": {
      "text/plain": [
       "1749017136704"
      ]
     },
     "execution_count": 46,
     "metadata": {},
     "output_type": "execute_result"
    }
   ],
   "source": [
    "id(sohan)"
   ]
  },
  {
   "cell_type": "code",
   "execution_count": 48,
   "id": "32046f0e-c0e5-4e54-9e44-6e2004990b76",
   "metadata": {},
   "outputs": [],
   "source": [
    "# in case of No deep copy"
   ]
  },
  {
   "cell_type": "code",
   "execution_count": 50,
   "id": "de126869-2cb3-44ad-a172-6834638eeeda",
   "metadata": {},
   "outputs": [],
   "source": [
    "# .copy()"
   ]
  },
  {
   "cell_type": "code",
   "execution_count": 52,
   "id": "c9e7446e-20eb-4691-a40b-d26146ce5368",
   "metadata": {},
   "outputs": [],
   "source": [
    "harry = [2,354,5]\n",
    "vipin = harry.copy()"
   ]
  },
  {
   "cell_type": "code",
   "execution_count": 54,
   "id": "d234a6a1-a0ec-47e5-90d9-a435b6cdde1b",
   "metadata": {},
   "outputs": [],
   "source": [
    "harry.append(23456)"
   ]
  },
  {
   "cell_type": "code",
   "execution_count": 56,
   "id": "ac9c3ce3-e3e7-45f7-8385-81910050aa63",
   "metadata": {},
   "outputs": [
    {
     "name": "stdout",
     "output_type": "stream",
     "text": [
      "[2, 354, 5, 23456]\n"
     ]
    }
   ],
   "source": [
    "print(harry)"
   ]
  },
  {
   "cell_type": "code",
   "execution_count": 58,
   "id": "5a6efc76-fa76-4423-b7f0-0afba226d06f",
   "metadata": {},
   "outputs": [
    {
     "name": "stdout",
     "output_type": "stream",
     "text": [
      "[2, 354, 5]\n"
     ]
    }
   ],
   "source": [
    "print(vipin)"
   ]
  },
  {
   "cell_type": "code",
   "execution_count": 60,
   "id": "b3ec353b-6414-44f4-9bdb-24fce0bbc1c9",
   "metadata": {},
   "outputs": [],
   "source": [
    "# shallow copy"
   ]
  },
  {
   "cell_type": "code",
   "execution_count": 62,
   "id": "18b6dbca-02ac-4578-a9a5-59fd963e1e0b",
   "metadata": {},
   "outputs": [],
   "source": [
    "# ek mein change hone se dusre mein change nahi hota"
   ]
  },
  {
   "cell_type": "code",
   "execution_count": 64,
   "id": "df9dfb02-7efb-4371-92a7-8514690f1cca",
   "metadata": {},
   "outputs": [],
   "source": [
    "# deep copy vs shallow copy"
   ]
  },
  {
   "cell_type": "code",
   "execution_count": 66,
   "id": "5e836d50-ee9b-4c46-ad70-a5a202e52c1f",
   "metadata": {},
   "outputs": [],
   "source": [
    "monthly_sales = [23,4,422,3456]"
   ]
  },
  {
   "cell_type": "code",
   "execution_count": 68,
   "id": "b7f02079-be15-40b0-9555-cdce1134b46b",
   "metadata": {},
   "outputs": [],
   "source": [
    "monthly_sales.append([2345,35467,5678])"
   ]
  },
  {
   "cell_type": "code",
   "execution_count": 70,
   "id": "86b9b169-0e18-45af-9c5e-86dcd8d4d8db",
   "metadata": {},
   "outputs": [
    {
     "name": "stdout",
     "output_type": "stream",
     "text": [
      "[23, 4, 422, 3456, [2345, 35467, 5678]]\n"
     ]
    }
   ],
   "source": [
    "print(monthly_sales)"
   ]
  },
  {
   "cell_type": "code",
   "execution_count": 72,
   "id": "bb0102f1-d3e9-422b-96a4-55b4af0e65f5",
   "metadata": {},
   "outputs": [],
   "source": [
    "# extend"
   ]
  },
  {
   "cell_type": "code",
   "execution_count": 74,
   "id": "2551983e-5e6d-4985-b52f-e35ae75ff290",
   "metadata": {},
   "outputs": [],
   "source": [
    "mont_sal = [23,4,5345,345,46]"
   ]
  },
  {
   "cell_type": "code",
   "execution_count": 76,
   "id": "6d870556-df13-42a7-a5ca-3cffae945cb5",
   "metadata": {},
   "outputs": [],
   "source": [
    "mont_sal.extend([34,25,46])"
   ]
  },
  {
   "cell_type": "code",
   "execution_count": 78,
   "id": "1ff46b3e-234e-4040-8e6d-b3d12c3ea5b3",
   "metadata": {},
   "outputs": [
    {
     "name": "stdout",
     "output_type": "stream",
     "text": [
      "[23, 4, 5345, 345, 46, 34, 25, 46]\n"
     ]
    }
   ],
   "source": [
    "print(mont_sal)"
   ]
  },
  {
   "cell_type": "code",
   "execution_count": 80,
   "id": "5f0f67cf-1814-482e-ba2d-45ec2a741a2c",
   "metadata": {},
   "outputs": [
    {
     "name": "stdout",
     "output_type": "stream",
     "text": [
      "['append', 'clear', 'copy', 'count', 'extend', 'index', 'insert', 'pop', 'remove', 'reverse', 'sort']\n"
     ]
    }
   ],
   "source": [
    "print(all_methods)"
   ]
  },
  {
   "cell_type": "code",
   "execution_count": 86,
   "id": "36c0194a-b4a4-4063-b4a8-50aff0d90018",
   "metadata": {},
   "outputs": [],
   "source": [
    "students = ['ravi','mohan','jatin','karan','akshay','devgan','karan']"
   ]
  },
  {
   "cell_type": "code",
   "execution_count": 90,
   "id": "29293712-f045-4e64-915a-8009d2170987",
   "metadata": {},
   "outputs": [
    {
     "data": {
      "text/plain": [
       "6"
      ]
     },
     "execution_count": 90,
     "metadata": {},
     "output_type": "execute_result"
    }
   ],
   "source": [
    "students.index('karan',4)"
   ]
  },
  {
   "cell_type": "code",
   "execution_count": 92,
   "id": "d0daa51a-4935-4337-8427-10cb2a60f0c2",
   "metadata": {},
   "outputs": [
    {
     "data": {
      "text/plain": [
       "['ravi', 'mohan', 'jatin', 'karan', 'akshay', 'devgan', 'karan']"
      ]
     },
     "execution_count": 92,
     "metadata": {},
     "output_type": "execute_result"
    }
   ],
   "source": [
    "students"
   ]
  },
  {
   "cell_type": "code",
   "execution_count": 94,
   "id": "3c0d99f3-95d1-46fb-9e05-33ce1edf65c1",
   "metadata": {},
   "outputs": [],
   "source": [
    "students.insert(2,'Grastech')"
   ]
  },
  {
   "cell_type": "code",
   "execution_count": 96,
   "id": "664dbf11-ed6b-4667-ae27-7a414c497420",
   "metadata": {},
   "outputs": [
    {
     "name": "stdout",
     "output_type": "stream",
     "text": [
      "['ravi', 'mohan', 'Grastech', 'jatin', 'karan', 'akshay', 'devgan', 'karan']\n"
     ]
    }
   ],
   "source": [
    "print(students)"
   ]
  },
  {
   "cell_type": "code",
   "execution_count": 98,
   "id": "4a8277ed-1f8c-4bac-9684-8bea31151c5e",
   "metadata": {},
   "outputs": [],
   "source": [
    "students.insert(0,'India')"
   ]
  },
  {
   "cell_type": "code",
   "execution_count": 100,
   "id": "44da78e6-899f-450e-a11e-54fa7b63c23c",
   "metadata": {},
   "outputs": [
    {
     "name": "stdout",
     "output_type": "stream",
     "text": [
      "['India', 'ravi', 'mohan', 'Grastech', 'jatin', 'karan', 'akshay', 'devgan', 'karan']\n"
     ]
    }
   ],
   "source": [
    "print(students)"
   ]
  },
  {
   "cell_type": "code",
   "execution_count": 102,
   "id": "1bb994f4-ec06-4207-9ade-ca07de16643a",
   "metadata": {},
   "outputs": [],
   "source": [
    "students.insert(8,'Noida')"
   ]
  },
  {
   "cell_type": "code",
   "execution_count": 104,
   "id": "8c398f09-86ae-41ba-86e1-ec8c9319d486",
   "metadata": {},
   "outputs": [
    {
     "name": "stdout",
     "output_type": "stream",
     "text": [
      "['India', 'ravi', 'mohan', 'Grastech', 'jatin', 'karan', 'akshay', 'devgan', 'Noida', 'karan']\n"
     ]
    }
   ],
   "source": [
    "print(students)"
   ]
  },
  {
   "cell_type": "code",
   "execution_count": 106,
   "id": "2189ec71-d216-4a38-bd1b-01f93ea37bfe",
   "metadata": {},
   "outputs": [],
   "source": [
    "students.insert(-1,'Komal')"
   ]
  },
  {
   "cell_type": "code",
   "execution_count": 108,
   "id": "ce0c7de3-e43b-4856-9dca-f60c1259d4aa",
   "metadata": {},
   "outputs": [
    {
     "name": "stdout",
     "output_type": "stream",
     "text": [
      "['India', 'ravi', 'mohan', 'Grastech', 'jatin', 'karan', 'akshay', 'devgan', 'Noida', 'Komal', 'karan']\n"
     ]
    }
   ],
   "source": [
    "print(students)"
   ]
  },
  {
   "cell_type": "code",
   "execution_count": 110,
   "id": "4ecd66af-27e6-4329-bd09-616595fab97f",
   "metadata": {},
   "outputs": [],
   "source": [
    "students.insert(2345,'Lucky')"
   ]
  },
  {
   "cell_type": "code",
   "execution_count": 112,
   "id": "0402d96c-0a6b-406a-8e4f-c0bb92ed1c63",
   "metadata": {},
   "outputs": [
    {
     "name": "stdout",
     "output_type": "stream",
     "text": [
      "['India', 'ravi', 'mohan', 'Grastech', 'jatin', 'karan', 'akshay', 'devgan', 'Noida', 'Komal', 'karan', 'Lucky']\n"
     ]
    }
   ],
   "source": [
    "print(students)"
   ]
  },
  {
   "cell_type": "code",
   "execution_count": 114,
   "id": "77b7d5a7-b609-4b47-b37e-606bfc06de93",
   "metadata": {},
   "outputs": [],
   "source": [
    "students.insert(len(students)+1,'Ajay Devgan')"
   ]
  },
  {
   "cell_type": "code",
   "execution_count": 116,
   "id": "f93456d5-ed4f-4b3d-acda-a152612530b3",
   "metadata": {},
   "outputs": [
    {
     "name": "stdout",
     "output_type": "stream",
     "text": [
      "['India', 'ravi', 'mohan', 'Grastech', 'jatin', 'karan', 'akshay', 'devgan', 'Noida', 'Komal', 'karan', 'Lucky', 'Ajay Devgan']\n"
     ]
    }
   ],
   "source": [
    "print(students)"
   ]
  },
  {
   "cell_type": "code",
   "execution_count": 120,
   "id": "f5df5df4-7e3a-4ee3-95f3-583e23fd786e",
   "metadata": {},
   "outputs": [
    {
     "data": {
      "text/plain": [
       "9"
      ]
     },
     "execution_count": 120,
     "metadata": {},
     "output_type": "execute_result"
    }
   ],
   "source": []
  },
  {
   "cell_type": "code",
   "execution_count": 126,
   "id": "cd424bac-6682-4176-8523-b7ecbc505e78",
   "metadata": {},
   "outputs": [],
   "source": [
    "students.insert(students.index('mohan'),'Roshan')"
   ]
  },
  {
   "cell_type": "code",
   "execution_count": 128,
   "id": "3ba28638-b2e8-40a0-b48f-390668fb548e",
   "metadata": {},
   "outputs": [
    {
     "name": "stdout",
     "output_type": "stream",
     "text": [
      "['India', 'ravi', 'Roshan', 'mohan', 'Grastech', 'jatin', 'karan', 'akshay', 'devgan', 'Noida', 'Roshan', 'Komal', 'karan', 'Lucky', 'Ajay Devgan']\n"
     ]
    }
   ],
   "source": [
    "print(students)"
   ]
  },
  {
   "cell_type": "code",
   "execution_count": 132,
   "id": "d18b0e63-64f2-4846-845a-390616285da2",
   "metadata": {},
   "outputs": [
    {
     "name": "stdout",
     "output_type": "stream",
     "text": [
      "['append', 'clear', 'copy', 'count', 'extend', 'index', 'insert', 'pop', 'remove', 'reverse', 'sort']\n"
     ]
    }
   ],
   "source": [
    "print(all_methods)"
   ]
  },
  {
   "cell_type": "code",
   "execution_count": 146,
   "id": "9ba743d0-e579-4815-81fa-cc1c35f88c38",
   "metadata": {},
   "outputs": [
    {
     "data": {
      "text/plain": [
       "False"
      ]
     },
     "execution_count": 146,
     "metadata": {},
     "output_type": "execute_result"
    }
   ],
   "source": [
    "bool('')"
   ]
  },
  {
   "cell_type": "code",
   "execution_count": 150,
   "id": "60f2046b-b085-4919-b94a-6a7bee794afd",
   "metadata": {},
   "outputs": [
    {
     "name": "stdout",
     "output_type": "stream",
     "text": [
      "['India', 'ravi', 'Roshan', 'mohan', 'Grastech', 'jatin', 'karan', 'akshay', 'devgan', 'Noida', 'Roshan', 'Komal', 'karan', 'Lucky', 'Ajay Devgan']\n"
     ]
    }
   ],
   "source": [
    "print(students)"
   ]
  },
  {
   "cell_type": "code",
   "execution_count": 152,
   "id": "4f5d48a5-b037-4a6a-9954-15f21b61ed71",
   "metadata": {},
   "outputs": [],
   "source": [
    "# shift + tab"
   ]
  },
  {
   "cell_type": "code",
   "execution_count": 164,
   "id": "6a3286ea-2058-4f8e-a7da-ab4eab5067d8",
   "metadata": {},
   "outputs": [
    {
     "data": {
      "text/plain": [
       "'Roshan'"
      ]
     },
     "execution_count": 164,
     "metadata": {},
     "output_type": "execute_result"
    }
   ],
   "source": [
    "students.pop()"
   ]
  },
  {
   "cell_type": "code",
   "execution_count": 166,
   "id": "afe992a4-39be-458a-9107-28d7f7098e86",
   "metadata": {},
   "outputs": [
    {
     "name": "stdout",
     "output_type": "stream",
     "text": [
      "['India', 'ravi', 'Roshan', 'mohan', 'Grastech', 'jatin', 'karan', 'akshay', 'devgan', 'Noida']\n"
     ]
    }
   ],
   "source": [
    "print(students)"
   ]
  },
  {
   "cell_type": "code",
   "execution_count": 168,
   "id": "c391fc97-8298-4470-bb30-8756ebefefd7",
   "metadata": {},
   "outputs": [
    {
     "data": {
      "text/plain": [
       "'Grastech'"
      ]
     },
     "execution_count": 168,
     "metadata": {},
     "output_type": "execute_result"
    }
   ],
   "source": [
    "students.pop(4)"
   ]
  },
  {
   "cell_type": "code",
   "execution_count": 170,
   "id": "924d8631-188e-4910-956a-8ca46cee78dc",
   "metadata": {},
   "outputs": [
    {
     "name": "stdout",
     "output_type": "stream",
     "text": [
      "['India', 'ravi', 'Roshan', 'mohan', 'jatin', 'karan', 'akshay', 'devgan', 'Noida']\n"
     ]
    }
   ],
   "source": [
    "print(students)"
   ]
  },
  {
   "cell_type": "code",
   "execution_count": 174,
   "id": "4be2bc72-a32f-4dd5-b78a-f5c2b5c338d3",
   "metadata": {},
   "outputs": [
    {
     "data": {
      "text/plain": [
       "'karan'"
      ]
     },
     "execution_count": 174,
     "metadata": {},
     "output_type": "execute_result"
    }
   ],
   "source": [
    "students.pop(students.index('karan'))"
   ]
  },
  {
   "cell_type": "code",
   "execution_count": 176,
   "id": "1657313c-240d-4665-8823-8c21db9aa132",
   "metadata": {},
   "outputs": [
    {
     "name": "stdout",
     "output_type": "stream",
     "text": [
      "['India', 'ravi', 'Roshan', 'mohan', 'jatin', 'akshay', 'devgan', 'Noida']\n"
     ]
    }
   ],
   "source": [
    "print(students)"
   ]
  },
  {
   "cell_type": "code",
   "execution_count": 178,
   "id": "3ca4eab8-1150-486b-9a99-fe00d03c3747",
   "metadata": {},
   "outputs": [],
   "source": [
    "a = [24]"
   ]
  },
  {
   "cell_type": "code",
   "execution_count": 180,
   "id": "96528e74-19ca-4b7d-a0c2-b1d2f1bbe18f",
   "metadata": {},
   "outputs": [
    {
     "data": {
      "text/plain": [
       "24"
      ]
     },
     "execution_count": 180,
     "metadata": {},
     "output_type": "execute_result"
    }
   ],
   "source": [
    "a.pop()"
   ]
  },
  {
   "cell_type": "code",
   "execution_count": 182,
   "id": "b68a5dbd-cb34-42c1-b419-1069e8f90805",
   "metadata": {},
   "outputs": [
    {
     "ename": "IndexError",
     "evalue": "pop from empty list",
     "output_type": "error",
     "traceback": [
      "\u001b[1;31m---------------------------------------------------------------------------\u001b[0m",
      "\u001b[1;31mIndexError\u001b[0m                                Traceback (most recent call last)",
      "Cell \u001b[1;32mIn[182], line 1\u001b[0m\n\u001b[1;32m----> 1\u001b[0m a\u001b[38;5;241m.\u001b[39mpop()\n",
      "\u001b[1;31mIndexError\u001b[0m: pop from empty list"
     ]
    }
   ],
   "source": [
    "a.pop()"
   ]
  },
  {
   "cell_type": "code",
   "execution_count": 184,
   "id": "3c1880cb-39d4-4768-ba43-1cd3b919bffa",
   "metadata": {},
   "outputs": [
    {
     "name": "stdout",
     "output_type": "stream",
     "text": [
      "[]\n"
     ]
    }
   ],
   "source": [
    "print(a)"
   ]
  },
  {
   "cell_type": "code",
   "execution_count": 186,
   "id": "889a3cd2-b2f2-4f0c-a1d3-c9e58eef368a",
   "metadata": {},
   "outputs": [
    {
     "name": "stdout",
     "output_type": "stream",
     "text": [
      "['append', 'clear', 'copy', 'count', 'extend', 'index', 'insert', 'pop', 'remove', 'reverse', 'sort']\n"
     ]
    }
   ],
   "source": [
    "print(all_methods)"
   ]
  },
  {
   "cell_type": "code",
   "execution_count": 188,
   "id": "1660488f-7a26-4140-be6c-c8a088e58265",
   "metadata": {},
   "outputs": [
    {
     "data": {
      "text/plain": [
       "['India', 'ravi', 'Roshan', 'mohan', 'jatin', 'akshay', 'devgan', 'Noida']"
      ]
     },
     "execution_count": 188,
     "metadata": {},
     "output_type": "execute_result"
    }
   ],
   "source": [
    "students"
   ]
  },
  {
   "cell_type": "code",
   "execution_count": 190,
   "id": "92f0f405-a91a-4e11-af00-43c7f72bdda8",
   "metadata": {},
   "outputs": [],
   "source": [
    "students.remove('jatin')"
   ]
  },
  {
   "cell_type": "code",
   "execution_count": 192,
   "id": "3453c416-9121-4c2f-b8fd-5f8214296724",
   "metadata": {},
   "outputs": [
    {
     "name": "stdout",
     "output_type": "stream",
     "text": [
      "['India', 'ravi', 'Roshan', 'mohan', 'akshay', 'devgan', 'Noida']\n"
     ]
    }
   ],
   "source": [
    "print(students)"
   ]
  },
  {
   "cell_type": "code",
   "execution_count": 196,
   "id": "d559c9b9-788f-4120-8bdc-ad92ebec9de4",
   "metadata": {},
   "outputs": [
    {
     "ename": "ValueError",
     "evalue": "list.remove(x): x not in list",
     "output_type": "error",
     "traceback": [
      "\u001b[1;31m---------------------------------------------------------------------------\u001b[0m",
      "\u001b[1;31mValueError\u001b[0m                                Traceback (most recent call last)",
      "Cell \u001b[1;32mIn[196], line 1\u001b[0m\n\u001b[1;32m----> 1\u001b[0m students\u001b[38;5;241m.\u001b[39mremove(\u001b[38;5;124m'\u001b[39m\u001b[38;5;124madani\u001b[39m\u001b[38;5;124m'\u001b[39m)\n",
      "\u001b[1;31mValueError\u001b[0m: list.remove(x): x not in list"
     ]
    }
   ],
   "source": [
    "students.remove('adani')"
   ]
  },
  {
   "cell_type": "code",
   "execution_count": 198,
   "id": "928a7a79-decc-4c88-b3e5-f56676140968",
   "metadata": {},
   "outputs": [],
   "source": [
    "# remove vs pop"
   ]
  },
  {
   "cell_type": "code",
   "execution_count": 202,
   "id": "d842e9cd-2476-4673-ac95-5b18657a04ae",
   "metadata": {},
   "outputs": [
    {
     "name": "stdout",
     "output_type": "stream",
     "text": [
      "[232, 35, 4354, 32, [23, 54, 3]]\n"
     ]
    }
   ],
   "source": [
    "a = [232,35,4354,32,[23,54,3]]\n",
    "print(a)"
   ]
  },
  {
   "cell_type": "code",
   "execution_count": 204,
   "id": "079715a6-c537-4754-aff5-78fc00616c0f",
   "metadata": {},
   "outputs": [],
   "source": [
    "a.remove([23,54,3])"
   ]
  },
  {
   "cell_type": "code",
   "execution_count": 206,
   "id": "0c6391fe-831e-4a1f-8e13-8b63a578078d",
   "metadata": {},
   "outputs": [
    {
     "name": "stdout",
     "output_type": "stream",
     "text": [
      "[232, 35, 4354, 32]\n"
     ]
    }
   ],
   "source": [
    "print(a)"
   ]
  },
  {
   "cell_type": "code",
   "execution_count": 208,
   "id": "1feb6fdc-7160-4c5b-9d60-34f6f640b035",
   "metadata": {},
   "outputs": [],
   "source": [
    "# reverse"
   ]
  },
  {
   "cell_type": "code",
   "execution_count": 210,
   "id": "dfe938c9-2569-4667-a765-ac9f62f9d0f7",
   "metadata": {},
   "outputs": [
    {
     "data": {
      "text/plain": [
       "['India', 'ravi', 'Roshan', 'mohan', 'akshay', 'devgan', 'Noida']"
      ]
     },
     "execution_count": 210,
     "metadata": {},
     "output_type": "execute_result"
    }
   ],
   "source": [
    "students"
   ]
  },
  {
   "cell_type": "code",
   "execution_count": 212,
   "id": "6fa40d6c-74ce-493d-94a9-adee76ff0d79",
   "metadata": {},
   "outputs": [],
   "source": [
    "students.reverse()"
   ]
  },
  {
   "cell_type": "code",
   "execution_count": 214,
   "id": "d6fd219e-751f-4045-b252-8285929449a3",
   "metadata": {},
   "outputs": [
    {
     "name": "stdout",
     "output_type": "stream",
     "text": [
      "['Noida', 'devgan', 'akshay', 'mohan', 'Roshan', 'ravi', 'India']\n"
     ]
    }
   ],
   "source": [
    "print(students)"
   ]
  },
  {
   "cell_type": "code",
   "execution_count": 216,
   "id": "0aa4b6a2-8433-4e5c-ba3e-5b0fc938d531",
   "metadata": {},
   "outputs": [],
   "source": [
    "a = [23,4,12,4326]"
   ]
  },
  {
   "cell_type": "code",
   "execution_count": 218,
   "id": "9c6293e1-c444-47f1-9879-b3294e3c2e27",
   "metadata": {},
   "outputs": [
    {
     "name": "stdout",
     "output_type": "stream",
     "text": [
      "[23, 4, 12, 4326]\n"
     ]
    }
   ],
   "source": [
    "print(a)"
   ]
  },
  {
   "cell_type": "code",
   "execution_count": 220,
   "id": "5178f1eb-82e1-4b13-b944-d918a34712c0",
   "metadata": {},
   "outputs": [],
   "source": [
    "a.reverse()"
   ]
  },
  {
   "cell_type": "code",
   "execution_count": 222,
   "id": "9cfd0c6d-8cc0-4f34-8590-dd4b64f6a997",
   "metadata": {},
   "outputs": [
    {
     "name": "stdout",
     "output_type": "stream",
     "text": [
      "[4326, 12, 4, 23]\n"
     ]
    }
   ],
   "source": [
    "print(a)"
   ]
  },
  {
   "cell_type": "code",
   "execution_count": 240,
   "id": "6f5be905-6208-4ea6-bc89-ce708720b08a",
   "metadata": {},
   "outputs": [
    {
     "name": "stdout",
     "output_type": "stream",
     "text": [
      "[23, 4, 52, 34, 5667]\n"
     ]
    }
   ],
   "source": [
    "abc = [23,4,52,34,5667]\n",
    "print(abc)"
   ]
  },
  {
   "cell_type": "code",
   "execution_count": 243,
   "id": "6795c116-1cbb-4873-9722-659bbd293115",
   "metadata": {},
   "outputs": [
    {
     "data": {
      "text/plain": [
       "[23, 4, 52, 34, 5667]"
      ]
     },
     "execution_count": 243,
     "metadata": {},
     "output_type": "execute_result"
    }
   ],
   "source": [
    "abc"
   ]
  },
  {
   "cell_type": "code",
   "execution_count": 247,
   "id": "4eb83585-b6d4-4b5f-9bf1-a56192448f29",
   "metadata": {},
   "outputs": [
    {
     "data": {
      "text/plain": [
       "[5667, 34, 52, 4, 23]"
      ]
     },
     "execution_count": 247,
     "metadata": {},
     "output_type": "execute_result"
    }
   ],
   "source": [
    "list(reversed(abc))"
   ]
  },
  {
   "cell_type": "code",
   "execution_count": 251,
   "id": "977d4387-bff4-4388-8b3f-daffcd0c9458",
   "metadata": {},
   "outputs": [],
   "source": [
    "# sort: asc, desc"
   ]
  },
  {
   "cell_type": "code",
   "execution_count": 253,
   "id": "780f8aa6-542b-4918-9aa4-d3ece5a6d1e9",
   "metadata": {},
   "outputs": [],
   "source": [
    "sales = [2,35,23,3454,56,63,432,45,7,3534]"
   ]
  },
  {
   "cell_type": "code",
   "execution_count": 255,
   "id": "af86eb77-97e9-4196-a86f-27706ad21050",
   "metadata": {},
   "outputs": [
    {
     "name": "stdout",
     "output_type": "stream",
     "text": [
      "[2, 35, 23, 3454, 56, 63, 432, 45, 7, 3534]\n"
     ]
    }
   ],
   "source": [
    "print(sales)"
   ]
  },
  {
   "cell_type": "code",
   "execution_count": 257,
   "id": "45adbb27-5e3a-4f4f-b865-f43c6d63d3c1",
   "metadata": {},
   "outputs": [],
   "source": [
    "sales.sort()"
   ]
  },
  {
   "cell_type": "code",
   "execution_count": 259,
   "id": "db10b9a6-9120-48b9-acf3-10bc21d229dc",
   "metadata": {},
   "outputs": [
    {
     "name": "stdout",
     "output_type": "stream",
     "text": [
      "[2, 7, 23, 35, 45, 56, 63, 432, 3454, 3534]\n"
     ]
    }
   ],
   "source": [
    "print(sales)"
   ]
  },
  {
   "cell_type": "code",
   "execution_count": 279,
   "id": "b4fd9350-94c4-4c38-aefe-4bb4749821f5",
   "metadata": {},
   "outputs": [],
   "source": [
    "sales = [2,34,5,32556]"
   ]
  },
  {
   "cell_type": "code",
   "execution_count": 281,
   "id": "9835c4f5-80cb-4430-9f1e-fff0679724c7",
   "metadata": {},
   "outputs": [
    {
     "name": "stdout",
     "output_type": "stream",
     "text": [
      "[2, 34, 5, 32556]\n"
     ]
    }
   ],
   "source": [
    "print(sales)"
   ]
  },
  {
   "cell_type": "code",
   "execution_count": 283,
   "id": "e32a9942-a339-4cd2-a514-558ab2cb14ab",
   "metadata": {},
   "outputs": [],
   "source": [
    "sales.sort(reverse=True)"
   ]
  },
  {
   "cell_type": "code",
   "execution_count": 285,
   "id": "e9a1b0d3-2326-40b2-b179-6ed2a2769d26",
   "metadata": {},
   "outputs": [
    {
     "name": "stdout",
     "output_type": "stream",
     "text": [
      "[32556, 34, 5, 2]\n"
     ]
    }
   ],
   "source": [
    "print(sales)"
   ]
  },
  {
   "cell_type": "code",
   "execution_count": null,
   "id": "5acb2fb8-8d4b-4575-9d50-28f2363e0e78",
   "metadata": {},
   "outputs": [],
   "source": []
  },
  {
   "cell_type": "markdown",
   "id": "683fd714-4823-4bf8-9e32-164eca01445a",
   "metadata": {},
   "source": [
    "# TUPLE"
   ]
  },
  {
   "cell_type": "code",
   "execution_count": 287,
   "id": "762cb361-fad6-4081-8699-94921acbfeed",
   "metadata": {},
   "outputs": [],
   "source": [
    "#Tuple is a Python data type\n",
    "# imutable in nature:- we can not change element/s of a tuple\n"
   ]
  },
  {
   "cell_type": "code",
   "execution_count": 289,
   "id": "0ccfd942-a0ae-4b94-94c3-eb5cae4d3d03",
   "metadata": {},
   "outputs": [
    {
     "name": "stdout",
     "output_type": "stream",
     "text": [
      "(12, 3, 54, 5)\n"
     ]
    }
   ],
   "source": [
    "a = (12,3,54,5)\n",
    "print(a)"
   ]
  },
  {
   "cell_type": "code",
   "execution_count": 291,
   "id": "ff60497f-68ef-4018-9d86-b573a5c582bf",
   "metadata": {},
   "outputs": [
    {
     "name": "stdout",
     "output_type": "stream",
     "text": [
      "<class 'tuple'>\n"
     ]
    }
   ],
   "source": [
    "print(type(a))"
   ]
  },
  {
   "cell_type": "code",
   "execution_count": 293,
   "id": "ce55f6f6-84b6-46ca-98a2-4d709f963f52",
   "metadata": {},
   "outputs": [],
   "source": [
    "# list and tuple can contain duplicate values"
   ]
  },
  {
   "cell_type": "code",
   "execution_count": 295,
   "id": "7088aabb-a0fa-4694-87d4-e99ef9fadae3",
   "metadata": {},
   "outputs": [],
   "source": [
    "# list ke andar list:- nested list\n",
    "# tuple ke andar tuple:- netsed tuple"
   ]
  },
  {
   "cell_type": "code",
   "execution_count": 297,
   "id": "3491a4eb-00fd-4801-af65-08884d4d166d",
   "metadata": {},
   "outputs": [],
   "source": [
    "# Tuple ke limited methods:- fast execution"
   ]
  },
  {
   "cell_type": "code",
   "execution_count": 299,
   "id": "761ed3dd-fc6d-411e-b368-7c0515c9eaa6",
   "metadata": {},
   "outputs": [],
   "source": [
    "a = 23,5,532,5"
   ]
  },
  {
   "cell_type": "code",
   "execution_count": 301,
   "id": "55ce4eee-4cc6-4fc2-9855-9e75c3031fd6",
   "metadata": {},
   "outputs": [
    {
     "name": "stdout",
     "output_type": "stream",
     "text": [
      "(23, 5, 532, 5)\n"
     ]
    }
   ],
   "source": [
    "print(a)"
   ]
  },
  {
   "cell_type": "code",
   "execution_count": 303,
   "id": "53fdcd5a-8f21-486b-bc6f-002b4fb5b828",
   "metadata": {},
   "outputs": [
    {
     "name": "stdout",
     "output_type": "stream",
     "text": [
      "<class 'tuple'>\n"
     ]
    }
   ],
   "source": [
    "print(type(a))"
   ]
  },
  {
   "cell_type": "code",
   "execution_count": 305,
   "id": "c66c12af-2bc3-4bbb-82ed-10c9c6f3ee30",
   "metadata": {},
   "outputs": [],
   "source": [
    "# op"
   ]
  },
  {
   "cell_type": "code",
   "execution_count": 307,
   "id": "fe50c278-5da6-4044-906a-7145fed5db69",
   "metadata": {},
   "outputs": [],
   "source": [
    "a = (23,56,6)\n",
    "b = (2,3,5)"
   ]
  },
  {
   "cell_type": "code",
   "execution_count": 309,
   "id": "c8efea8d-53cc-4f63-bbf3-afac4781e3d2",
   "metadata": {},
   "outputs": [],
   "source": [
    "c = a+ b"
   ]
  },
  {
   "cell_type": "code",
   "execution_count": 311,
   "id": "1f2f9d52-cc93-4698-95f2-aa894f653945",
   "metadata": {},
   "outputs": [
    {
     "name": "stdout",
     "output_type": "stream",
     "text": [
      "(23, 56, 6, 2, 3, 5)\n"
     ]
    }
   ],
   "source": [
    "print(c)"
   ]
  },
  {
   "cell_type": "code",
   "execution_count": 313,
   "id": "d2b34d82-54f4-4aeb-aac4-cb9ea99f4428",
   "metadata": {},
   "outputs": [
    {
     "name": "stdout",
     "output_type": "stream",
     "text": [
      "(23, 56, 6)\n"
     ]
    }
   ],
   "source": [
    "print(a)"
   ]
  },
  {
   "cell_type": "code",
   "execution_count": 317,
   "id": "f8f889f5-ab92-43e5-bafe-4ecddf16d81d",
   "metadata": {},
   "outputs": [
    {
     "name": "stdout",
     "output_type": "stream",
     "text": [
      "(23, 56, 6, 23, 56, 6, 23, 56, 6)\n"
     ]
    }
   ],
   "source": [
    "print(a*3)"
   ]
  },
  {
   "cell_type": "code",
   "execution_count": 319,
   "id": "e9a80404-6e8c-4ec0-ba8e-dbbdf81a716b",
   "metadata": {},
   "outputs": [],
   "source": [
    "data = (2,3,424,25,(21,34,5,(23,56)))"
   ]
  },
  {
   "cell_type": "code",
   "execution_count": 321,
   "id": "276b061f-c502-46d9-90a4-17658e173a84",
   "metadata": {},
   "outputs": [
    {
     "name": "stdout",
     "output_type": "stream",
     "text": [
      "(2, 3, 424, 25, (21, 34, 5, (23, 56)))\n"
     ]
    }
   ],
   "source": [
    "print(data)"
   ]
  },
  {
   "cell_type": "code",
   "execution_count": 323,
   "id": "0d35ef12-b70d-4eff-9bf6-e40b1160b705",
   "metadata": {},
   "outputs": [],
   "source": [
    "# data:-\n",
    "data = (23,45.6,56-7j,'Ajay',[2,35,4],(2,345),{12,4,35},{'Name':'Mohan'},True,None)"
   ]
  },
  {
   "cell_type": "code",
   "execution_count": 325,
   "id": "2377f214-7b38-4a16-a570-65a802ac0ef4",
   "metadata": {},
   "outputs": [
    {
     "name": "stdout",
     "output_type": "stream",
     "text": [
      "(23, 45.6, (56-7j), 'Ajay', [2, 35, 4], (2, 345), {35, 12, 4}, {'Name': 'Mohan'}, True, None)\n"
     ]
    }
   ],
   "source": [
    "print(data)"
   ]
  },
  {
   "cell_type": "code",
   "execution_count": 327,
   "id": "04d7d9ca-8465-446a-98ac-34418070b14c",
   "metadata": {},
   "outputs": [],
   "source": [
    "# indexing and slicing"
   ]
  },
  {
   "cell_type": "code",
   "execution_count": 329,
   "id": "f7844f53-27e3-4af9-bb46-c06b6a24330a",
   "metadata": {},
   "outputs": [],
   "source": [
    "sales = (22,345,4,1243,456,7,433,44,56,787,4,57)"
   ]
  },
  {
   "cell_type": "code",
   "execution_count": 331,
   "id": "9f816bfe-d787-4b60-9c84-19fe6c8c86c8",
   "metadata": {},
   "outputs": [
    {
     "data": {
      "text/plain": [
       "(1243, 456, 7, 433)"
      ]
     },
     "execution_count": 331,
     "metadata": {},
     "output_type": "execute_result"
    }
   ],
   "source": [
    "sales[3:7]"
   ]
  },
  {
   "cell_type": "code",
   "execution_count": 333,
   "id": "36075725-acf6-465e-883a-a820aa8bd3e7",
   "metadata": {},
   "outputs": [
    {
     "data": {
      "text/plain": [
       "(57, 4, 787, 56, 44, 433, 7, 456, 1243, 4, 345, 22)"
      ]
     },
     "execution_count": 333,
     "metadata": {},
     "output_type": "execute_result"
    }
   ],
   "source": [
    "sales[::-1]"
   ]
  },
  {
   "cell_type": "code",
   "execution_count": 335,
   "id": "c713bc5b-8b80-4f74-a629-66b7dda9d1b0",
   "metadata": {},
   "outputs": [
    {
     "data": {
      "text/plain": [
       "345"
      ]
     },
     "execution_count": 335,
     "metadata": {},
     "output_type": "execute_result"
    }
   ],
   "source": [
    "sales[1]"
   ]
  },
  {
   "cell_type": "code",
   "execution_count": 337,
   "id": "f5600242-4a23-4605-8ca0-87a33ed08252",
   "metadata": {},
   "outputs": [
    {
     "ename": "TypeError",
     "evalue": "'tuple' object does not support item assignment",
     "output_type": "error",
     "traceback": [
      "\u001b[1;31m---------------------------------------------------------------------------\u001b[0m",
      "\u001b[1;31mTypeError\u001b[0m                                 Traceback (most recent call last)",
      "Cell \u001b[1;32mIn[337], line 1\u001b[0m\n\u001b[1;32m----> 1\u001b[0m sales[\u001b[38;5;241m1\u001b[39m] \u001b[38;5;241m=\u001b[39m \u001b[38;5;241m3456\u001b[39m\n",
      "\u001b[1;31mTypeError\u001b[0m: 'tuple' object does not support item assignment"
     ]
    }
   ],
   "source": [
    "sales[1] = 3456"
   ]
  },
  {
   "cell_type": "code",
   "execution_count": 339,
   "id": "6f8435fd-3f3c-4490-a552-f4a0bce291ed",
   "metadata": {},
   "outputs": [],
   "source": [
    "# 'tuple' object does not support item assignment"
   ]
  },
  {
   "cell_type": "code",
   "execution_count": 352,
   "id": "ad0087ae-acce-4a42-8956-51393d06137c",
   "metadata": {},
   "outputs": [],
   "source": [
    "students = list(('karan','ravi','ajay','mohan'))"
   ]
  },
  {
   "cell_type": "code",
   "execution_count": 354,
   "id": "5de169d1-79bd-420f-ad4e-ae0411556bfc",
   "metadata": {},
   "outputs": [
    {
     "name": "stdout",
     "output_type": "stream",
     "text": [
      "<class 'list'>\n"
     ]
    }
   ],
   "source": [
    "print(type(students))"
   ]
  },
  {
   "cell_type": "code",
   "execution_count": 356,
   "id": "ddeceeb1-6d08-449a-b6c9-c693a6413d06",
   "metadata": {},
   "outputs": [],
   "source": [
    "students[2] = 'Ajay Devgan'"
   ]
  },
  {
   "cell_type": "code",
   "execution_count": 360,
   "id": "b97a3911-7bf2-4ae9-91b0-1eefe85196bb",
   "metadata": {},
   "outputs": [],
   "source": [
    "students = tuple(students)"
   ]
  },
  {
   "cell_type": "code",
   "execution_count": 362,
   "id": "0d4501f6-9895-4eec-9741-734ed379d117",
   "metadata": {},
   "outputs": [
    {
     "name": "stdout",
     "output_type": "stream",
     "text": [
      "('karan', 'ravi', 'Ajay Devgan', 'mohan')\n"
     ]
    }
   ],
   "source": [
    "print(students)"
   ]
  },
  {
   "cell_type": "code",
   "execution_count": 364,
   "id": "a6f05f8c-9f43-497f-8daa-b2ef888b595c",
   "metadata": {},
   "outputs": [],
   "source": [
    "bank = (2,3454,523,4,[2,354,6])"
   ]
  },
  {
   "cell_type": "code",
   "execution_count": 370,
   "id": "d404e937-2fc1-48d8-9c35-e771a9960390",
   "metadata": {},
   "outputs": [],
   "source": [
    "bank[-1][1] = 1000"
   ]
  },
  {
   "cell_type": "code",
   "execution_count": 372,
   "id": "84aafccc-4691-41c4-add2-615f9753fef0",
   "metadata": {},
   "outputs": [
    {
     "name": "stdout",
     "output_type": "stream",
     "text": [
      "(2, 3454, 523, 4, [2, 1000, 6])\n"
     ]
    }
   ],
   "source": [
    "print(bank)"
   ]
  },
  {
   "cell_type": "code",
   "execution_count": 374,
   "id": "9513aa46-8c32-44b2-b99e-eccc076f043e",
   "metadata": {},
   "outputs": [],
   "source": [
    "# single element tuple"
   ]
  },
  {
   "cell_type": "code",
   "execution_count": 380,
   "id": "07cef1d0-1078-4d6c-8820-cd051e103e8f",
   "metadata": {},
   "outputs": [],
   "source": [
    "a = (23,)"
   ]
  },
  {
   "cell_type": "code",
   "execution_count": 382,
   "id": "e63ec8f4-7449-467c-93b9-4c9c59be0732",
   "metadata": {},
   "outputs": [
    {
     "name": "stdout",
     "output_type": "stream",
     "text": [
      "(23,)\n",
      "<class 'tuple'>\n"
     ]
    }
   ],
   "source": [
    "print(a)\n",
    "print(type(a))"
   ]
  },
  {
   "cell_type": "code",
   "execution_count": null,
   "id": "a874785e-8fe0-4f93-a7e7-ecbb14a84a77",
   "metadata": {},
   "outputs": [],
   "source": []
  },
  {
   "cell_type": "code",
   "execution_count": 385,
   "id": "5f856368-db2f-441c-b5d1-c6d7ead0f9ba",
   "metadata": {},
   "outputs": [],
   "source": [
    "# Empty tuple"
   ]
  },
  {
   "cell_type": "code",
   "execution_count": 387,
   "id": "08cec0ae-219e-47f7-af37-c2460e01f172",
   "metadata": {},
   "outputs": [],
   "source": [
    "a = ()"
   ]
  },
  {
   "cell_type": "code",
   "execution_count": 389,
   "id": "0a6bc053-7e2d-46b2-b0f9-1ee9d4ed56cd",
   "metadata": {},
   "outputs": [
    {
     "name": "stdout",
     "output_type": "stream",
     "text": [
      "<class 'tuple'>\n"
     ]
    }
   ],
   "source": [
    "print(type(a))"
   ]
  },
  {
   "cell_type": "code",
   "execution_count": 391,
   "id": "ff59e6be-1920-4643-8ec8-519081acbbac",
   "metadata": {},
   "outputs": [
    {
     "name": "stdout",
     "output_type": "stream",
     "text": [
      "()\n"
     ]
    }
   ],
   "source": [
    "print(a)"
   ]
  },
  {
   "cell_type": "markdown",
   "id": "1c36aca7-81fa-406a-90fa-a02c251f6abe",
   "metadata": {},
   "source": [
    "# Tuple Methods"
   ]
  },
  {
   "cell_type": "code",
   "execution_count": 394,
   "id": "3983d254-1d6e-4c95-818e-2e51b70d71e0",
   "metadata": {},
   "outputs": [
    {
     "name": "stdout",
     "output_type": "stream",
     "text": [
      "['__add__', '__class__', '__class_getitem__', '__contains__', '__delattr__', '__dir__', '__doc__', '__eq__', '__format__', '__ge__', '__getattribute__', '__getitem__', '__getnewargs__', '__getstate__', '__gt__', '__hash__', '__init__', '__init_subclass__', '__iter__', '__le__', '__len__', '__lt__', '__mul__', '__ne__', '__new__', '__reduce__', '__reduce_ex__', '__repr__', '__rmul__', '__setattr__', '__sizeof__', '__str__', '__subclasshook__', 'count', 'index']\n"
     ]
    }
   ],
   "source": [
    "print(dir(tuple))"
   ]
  },
  {
   "cell_type": "code",
   "execution_count": 396,
   "id": "ec9eeab3-19a6-4394-8eab-f2afd8447c21",
   "metadata": {},
   "outputs": [
    {
     "data": {
      "text/plain": [
       "('karan', 'ravi', 'Ajay Devgan', 'mohan')"
      ]
     },
     "execution_count": 396,
     "metadata": {},
     "output_type": "execute_result"
    }
   ],
   "source": [
    "students"
   ]
  },
  {
   "cell_type": "code",
   "execution_count": 398,
   "id": "f02636e1-a06a-4f19-b5d0-b0203831aec5",
   "metadata": {},
   "outputs": [
    {
     "data": {
      "text/plain": [
       "2"
      ]
     },
     "execution_count": 398,
     "metadata": {},
     "output_type": "execute_result"
    }
   ],
   "source": [
    "students.index('Ajay Devgan')"
   ]
  },
  {
   "cell_type": "code",
   "execution_count": 404,
   "id": "498e2b09-4c70-4406-95e5-dc20013f5db6",
   "metadata": {},
   "outputs": [],
   "source": [
    "a = (1,1,1,1,2,2,2,2,2,3,3,3,33,4,4,4,4,4,4,5,5,55,5,6)"
   ]
  },
  {
   "cell_type": "code",
   "execution_count": 406,
   "id": "fbe47032-2b14-4429-bd68-03e5697104e7",
   "metadata": {},
   "outputs": [
    {
     "name": "stdout",
     "output_type": "stream",
     "text": [
      "(1, 1, 1, 1, 2, 2, 2, 2, 2, 3, 3, 3, 33, 4, 4, 4, 4, 4, 4, 5, 5, 55, 5, 6)\n"
     ]
    }
   ],
   "source": [
    "print(a)"
   ]
  },
  {
   "cell_type": "code",
   "execution_count": 410,
   "id": "52f9b7cb-5da8-4de0-882c-b2655d5fde36",
   "metadata": {},
   "outputs": [
    {
     "data": {
      "text/plain": [
       "0"
      ]
     },
     "execution_count": 410,
     "metadata": {},
     "output_type": "execute_result"
    }
   ],
   "source": [
    "a.count(100)"
   ]
  },
  {
   "cell_type": "code",
   "execution_count": null,
   "id": "a989dfeb-6a69-4e78-a2df-4f8d6e736e11",
   "metadata": {},
   "outputs": [],
   "source": []
  },
  {
   "cell_type": "code",
   "execution_count": null,
   "id": "5e86555a-e168-4b8a-9568-2a082b734f9e",
   "metadata": {},
   "outputs": [],
   "source": []
  },
  {
   "cell_type": "markdown",
   "id": "9810642a-e47b-46eb-a9e7-ae3293cd25ce",
   "metadata": {},
   "source": [
    "# Dictionary Data Type"
   ]
  },
  {
   "cell_type": "code",
   "execution_count": 450,
   "id": "49ec0e8b-01bc-4cc9-83e0-d1043d6db23c",
   "metadata": {},
   "outputs": [],
   "source": [
    "# Key value data Type\n",
    "# Key value pair data type\n",
    "# map data type\n",
    "# mapping object\n",
    "# Dictionary\n",
    "# hash data type\n",
    "# JSON jaisa hota\n",
    "# key value pair :- item\n",
    "# key value pairs:- items\n",
    "# table mein convert hota hai"
   ]
  },
  {
   "cell_type": "code",
   "execution_count": 427,
   "id": "d7e3284d-c528-4719-a177-3ecdef4de4b8",
   "metadata": {},
   "outputs": [],
   "source": [
    "data = {'Name':'Mohan','Age':23,'Address':'Noida','Fees':False}"
   ]
  },
  {
   "cell_type": "code",
   "execution_count": 429,
   "id": "317f579b-6861-40cd-bfe4-f08f43fa720a",
   "metadata": {},
   "outputs": [
    {
     "name": "stdout",
     "output_type": "stream",
     "text": [
      "{'Name': 'Mohan', 'Age': 23, 'Address': 'Noida', 'Fees': False}\n"
     ]
    }
   ],
   "source": [
    "print(data)"
   ]
  },
  {
   "cell_type": "code",
   "execution_count": 431,
   "id": "f640bd2b-77d0-4a53-8326-010b4de66a28",
   "metadata": {},
   "outputs": [
    {
     "name": "stdout",
     "output_type": "stream",
     "text": [
      "<class 'dict'>\n"
     ]
    }
   ],
   "source": [
    "print(type(data))"
   ]
  },
  {
   "cell_type": "markdown",
   "id": "b9349b95-2c2f-4830-baef-0b8de6d2fc95",
   "metadata": {},
   "source": [
    "# Key vs Value :- allowed data types"
   ]
  },
  {
   "cell_type": "code",
   "execution_count": 434,
   "id": "3bd333d1-67e1-44cc-a881-ddeb41eec5b4",
   "metadata": {},
   "outputs": [],
   "source": [
    "# value:- sabhi"
   ]
  },
  {
   "cell_type": "code",
   "execution_count": 436,
   "id": "c674605b-d4c1-4f5e-b775-3c3d88b286bd",
   "metadata": {},
   "outputs": [],
   "source": [
    "# key:- wahi aa sakte hain, jo change nahi hote hai"
   ]
  },
  {
   "cell_type": "code",
   "execution_count": 440,
   "id": "0340f163-eaba-42cd-a059-ea9078dc6745",
   "metadata": {},
   "outputs": [],
   "source": [
    "# key:- int,float, complex,bool, tuple,None,string"
   ]
  },
  {
   "cell_type": "code",
   "execution_count": 442,
   "id": "d6936693-6ebe-4528-a590-368351180798",
   "metadata": {},
   "outputs": [],
   "source": [
    "# not allowed: list, dict, set"
   ]
  },
  {
   "cell_type": "code",
   "execution_count": 446,
   "id": "390c9a53-ce80-4e4b-815f-0eef110bc2b7",
   "metadata": {},
   "outputs": [
    {
     "name": "stdout",
     "output_type": "stream",
     "text": [
      "{'Name': ['Ajay', 'Ravi', 'Karan'], 'Age': [12, 24, 23], 'Address': ['Noida', 'Delhi', 'Gr Noida'], 'Fees': [True, True, False]}\n"
     ]
    }
   ],
   "source": [
    "data = {'Name':['Ajay','Ravi','Karan'],\n",
    "       'Age':[12,24,23],\n",
    "       'Address':['Noida','Delhi','Gr Noida'],\n",
    "       'Fees':[True,True,False]}\n",
    "\n",
    "print(data)"
   ]
  },
  {
   "cell_type": "code",
   "execution_count": 448,
   "id": "b6f64e89-0810-4f12-8717-e54e22d96041",
   "metadata": {},
   "outputs": [
    {
     "name": "stdout",
     "output_type": "stream",
     "text": [
      "<class 'dict'>\n"
     ]
    }
   ],
   "source": [
    "print(type(data))"
   ]
  },
  {
   "cell_type": "code",
   "execution_count": 452,
   "id": "d4ef48db-9ba5-4368-b782-e98517a425a0",
   "metadata": {},
   "outputs": [],
   "source": [
    "import pandas as pd"
   ]
  },
  {
   "cell_type": "code",
   "execution_count": 456,
   "id": "9f1d8995-d6f1-4911-9bb1-7e38798d00d1",
   "metadata": {},
   "outputs": [],
   "source": [
    "table = pd.DataFrame(data)"
   ]
  },
  {
   "cell_type": "code",
   "execution_count": 458,
   "id": "af9ef588-2596-41ff-9486-7207c53a7f2e",
   "metadata": {},
   "outputs": [
    {
     "data": {
      "text/html": [
       "<div>\n",
       "<style scoped>\n",
       "    .dataframe tbody tr th:only-of-type {\n",
       "        vertical-align: middle;\n",
       "    }\n",
       "\n",
       "    .dataframe tbody tr th {\n",
       "        vertical-align: top;\n",
       "    }\n",
       "\n",
       "    .dataframe thead th {\n",
       "        text-align: right;\n",
       "    }\n",
       "</style>\n",
       "<table border=\"1\" class=\"dataframe\">\n",
       "  <thead>\n",
       "    <tr style=\"text-align: right;\">\n",
       "      <th></th>\n",
       "      <th>Name</th>\n",
       "      <th>Age</th>\n",
       "      <th>Address</th>\n",
       "      <th>Fees</th>\n",
       "    </tr>\n",
       "  </thead>\n",
       "  <tbody>\n",
       "    <tr>\n",
       "      <th>0</th>\n",
       "      <td>Ajay</td>\n",
       "      <td>12</td>\n",
       "      <td>Noida</td>\n",
       "      <td>True</td>\n",
       "    </tr>\n",
       "    <tr>\n",
       "      <th>1</th>\n",
       "      <td>Ravi</td>\n",
       "      <td>24</td>\n",
       "      <td>Delhi</td>\n",
       "      <td>True</td>\n",
       "    </tr>\n",
       "    <tr>\n",
       "      <th>2</th>\n",
       "      <td>Karan</td>\n",
       "      <td>23</td>\n",
       "      <td>Gr Noida</td>\n",
       "      <td>False</td>\n",
       "    </tr>\n",
       "  </tbody>\n",
       "</table>\n",
       "</div>"
      ],
      "text/plain": [
       "    Name  Age   Address   Fees\n",
       "0   Ajay   12     Noida   True\n",
       "1   Ravi   24     Delhi   True\n",
       "2  Karan   23  Gr Noida  False"
      ]
     },
     "execution_count": 458,
     "metadata": {},
     "output_type": "execute_result"
    }
   ],
   "source": [
    "table"
   ]
  },
  {
   "cell_type": "code",
   "execution_count": 460,
   "id": "1833181f-022e-4e1f-a114-c7c2da4c3ec2",
   "metadata": {},
   "outputs": [
    {
     "data": {
      "text/html": [
       "<div>\n",
       "<style scoped>\n",
       "    .dataframe tbody tr th:only-of-type {\n",
       "        vertical-align: middle;\n",
       "    }\n",
       "\n",
       "    .dataframe tbody tr th {\n",
       "        vertical-align: top;\n",
       "    }\n",
       "\n",
       "    .dataframe thead th {\n",
       "        text-align: right;\n",
       "    }\n",
       "</style>\n",
       "<table border=\"1\" class=\"dataframe\">\n",
       "  <thead>\n",
       "    <tr style=\"text-align: right;\">\n",
       "      <th></th>\n",
       "      <th>Name</th>\n",
       "      <th>Age</th>\n",
       "      <th>Address</th>\n",
       "      <th>Fees</th>\n",
       "    </tr>\n",
       "  </thead>\n",
       "  <tbody>\n",
       "    <tr>\n",
       "      <th>0</th>\n",
       "      <td>Ajay</td>\n",
       "      <td>12</td>\n",
       "      <td>Noida</td>\n",
       "      <td>True</td>\n",
       "    </tr>\n",
       "    <tr>\n",
       "      <th>1</th>\n",
       "      <td>Ravi</td>\n",
       "      <td>24</td>\n",
       "      <td>Delhi</td>\n",
       "      <td>True</td>\n",
       "    </tr>\n",
       "    <tr>\n",
       "      <th>2</th>\n",
       "      <td>Karan</td>\n",
       "      <td>23</td>\n",
       "      <td>Gr Noida</td>\n",
       "      <td>False</td>\n",
       "    </tr>\n",
       "  </tbody>\n",
       "</table>\n",
       "</div>"
      ],
      "text/plain": [
       "    Name  Age   Address   Fees\n",
       "0   Ajay   12     Noida   True\n",
       "1   Ravi   24     Delhi   True\n",
       "2  Karan   23  Gr Noida  False"
      ]
     },
     "execution_count": 460,
     "metadata": {},
     "output_type": "execute_result"
    }
   ],
   "source": [
    "table"
   ]
  },
  {
   "cell_type": "code",
   "execution_count": 462,
   "id": "ddbcb5e7-67f8-4126-a1e5-98fac34498f2",
   "metadata": {},
   "outputs": [],
   "source": [
    "# key pe kya allowed"
   ]
  },
  {
   "cell_type": "code",
   "execution_count": 464,
   "id": "8e8f66ee-6cb7-484b-b429-251fad4bf9bb",
   "metadata": {},
   "outputs": [
    {
     "name": "stdout",
     "output_type": "stream",
     "text": [
      "{1: True, 23.5: 'Two', None: False, 'Harry': False, (26-9j): 'Jatin', (1, 2, 3): 'ABC'}\n"
     ]
    }
   ],
   "source": [
    "abc = {1:'One',\n",
    "      23.5:'Two',\n",
    "      None:False,\n",
    "      'Harry':False,\n",
    "      26-9j:'Jatin',\n",
    "      (1,2,3):'ABC',\n",
    "      True:True}\n",
    "print(abc)"
   ]
  },
  {
   "cell_type": "code",
   "execution_count": 466,
   "id": "33c7d530-8bf1-408d-84a7-bbdb1a7cade9",
   "metadata": {},
   "outputs": [],
   "source": [
    "# kya allowed nahi the"
   ]
  },
  {
   "cell_type": "code",
   "execution_count": 468,
   "id": "c2c0490b-ff3a-4409-af90-8e66215f5eba",
   "metadata": {},
   "outputs": [
    {
     "ename": "TypeError",
     "evalue": "unhashable type: 'list'",
     "output_type": "error",
     "traceback": [
      "\u001b[1;31m---------------------------------------------------------------------------\u001b[0m",
      "\u001b[1;31mTypeError\u001b[0m                                 Traceback (most recent call last)",
      "Cell \u001b[1;32mIn[468], line 1\u001b[0m\n\u001b[1;32m----> 1\u001b[0m data \u001b[38;5;241m=\u001b[39m {[\u001b[38;5;241m1\u001b[39m,\u001b[38;5;241m24\u001b[39m,\u001b[38;5;241m54\u001b[39m]:\u001b[38;5;28;01mTrue\u001b[39;00m}\n",
      "\u001b[1;31mTypeError\u001b[0m: unhashable type: 'list'"
     ]
    }
   ],
   "source": [
    "data = {[1,24,54]:True}"
   ]
  },
  {
   "cell_type": "code",
   "execution_count": 470,
   "id": "19c790dd-3209-444a-812c-41d31c2741eb",
   "metadata": {},
   "outputs": [
    {
     "ename": "TypeError",
     "evalue": "unhashable type: 'dict'",
     "output_type": "error",
     "traceback": [
      "\u001b[1;31m---------------------------------------------------------------------------\u001b[0m",
      "\u001b[1;31mTypeError\u001b[0m                                 Traceback (most recent call last)",
      "Cell \u001b[1;32mIn[470], line 1\u001b[0m\n\u001b[1;32m----> 1\u001b[0m data \u001b[38;5;241m=\u001b[39m {{\u001b[38;5;124m'\u001b[39m\u001b[38;5;124m1\u001b[39m\u001b[38;5;124m'\u001b[39m:\u001b[38;5;241m2\u001b[39m}:\u001b[38;5;28;01mFalse\u001b[39;00m}\n",
      "\u001b[1;31mTypeError\u001b[0m: unhashable type: 'dict'"
     ]
    }
   ],
   "source": [
    "data = {{'1':2}:False}"
   ]
  },
  {
   "cell_type": "code",
   "execution_count": 472,
   "id": "fddece91-50fb-4207-89e4-cb4ea2e87e0e",
   "metadata": {},
   "outputs": [],
   "source": [
    "# set not allowed"
   ]
  },
  {
   "cell_type": "code",
   "execution_count": 474,
   "id": "a2b664b0-f09f-4044-bab4-e70d5fd2e8b1",
   "metadata": {},
   "outputs": [
    {
     "ename": "TypeError",
     "evalue": "unhashable type: 'set'",
     "output_type": "error",
     "traceback": [
      "\u001b[1;31m---------------------------------------------------------------------------\u001b[0m",
      "\u001b[1;31mTypeError\u001b[0m                                 Traceback (most recent call last)",
      "Cell \u001b[1;32mIn[474], line 1\u001b[0m\n\u001b[1;32m----> 1\u001b[0m data \u001b[38;5;241m=\u001b[39m {{\u001b[38;5;241m12\u001b[39m,\u001b[38;5;241m43\u001b[39m,\u001b[38;5;241m5\u001b[39m}:\u001b[38;5;28;01mFalse\u001b[39;00m}\n",
      "\u001b[1;31mTypeError\u001b[0m: unhashable type: 'set'"
     ]
    }
   ],
   "source": [
    "data = {{12,43,5}:False}"
   ]
  },
  {
   "cell_type": "code",
   "execution_count": 476,
   "id": "cb21ff6a-c534-4308-9484-6806d20498e8",
   "metadata": {},
   "outputs": [],
   "source": [
    "# all data type at value position"
   ]
  },
  {
   "cell_type": "code",
   "execution_count": 478,
   "id": "4a2361b7-231b-4998-b534-231a9f05e772",
   "metadata": {},
   "outputs": [],
   "source": [
    "data = {1:234,\n",
    "       2:234.5,\n",
    "       3:True,\n",
    "       4:56-8j,\n",
    "       5:[1,243,25],\n",
    "       6:(12,3,5),\n",
    "       7:None,\n",
    "       8:{1,243,54},\n",
    "       9:{'one':'two'},\n",
    "       10:'Value'}"
   ]
  },
  {
   "cell_type": "code",
   "execution_count": 480,
   "id": "a3164a48-0a5b-4291-9e30-db48d862fee7",
   "metadata": {},
   "outputs": [
    {
     "name": "stdout",
     "output_type": "stream",
     "text": [
      "{1: 234, 2: 234.5, 3: True, 4: (56-8j), 5: [1, 243, 25], 6: (12, 3, 5), 7: None, 8: {1, 243, 54}, 9: {'one': 'two'}, 10: 'Value'}\n"
     ]
    }
   ],
   "source": [
    "print(data)"
   ]
  },
  {
   "cell_type": "code",
   "execution_count": null,
   "id": "8f6e2b26-42d4-48d2-8ab2-cfee77db4f3f",
   "metadata": {},
   "outputs": [],
   "source": []
  },
  {
   "cell_type": "code",
   "execution_count": 483,
   "id": "db07c1e9-abf4-43ae-8446-379ae3ec7ca0",
   "metadata": {},
   "outputs": [],
   "source": [
    "# dictionary op"
   ]
  },
  {
   "cell_type": "code",
   "execution_count": 485,
   "id": "fa4e621c-ba49-4e60-a353-6f11f6f29fac",
   "metadata": {},
   "outputs": [],
   "source": [
    "a = {1:'One'}\n",
    "b = {2:'Two'}\n",
    "c ={3:'Three'}"
   ]
  },
  {
   "cell_type": "code",
   "execution_count": 487,
   "id": "979f5ea2-7b9e-4fa2-8a47-e1ea6f25a86d",
   "metadata": {},
   "outputs": [
    {
     "ename": "TypeError",
     "evalue": "unsupported operand type(s) for +: 'dict' and 'dict'",
     "output_type": "error",
     "traceback": [
      "\u001b[1;31m---------------------------------------------------------------------------\u001b[0m",
      "\u001b[1;31mTypeError\u001b[0m                                 Traceback (most recent call last)",
      "Cell \u001b[1;32mIn[487], line 1\u001b[0m\n\u001b[1;32m----> 1\u001b[0m d \u001b[38;5;241m=\u001b[39m a\u001b[38;5;241m+\u001b[39m b \u001b[38;5;241m+\u001b[39m c\n",
      "\u001b[1;31mTypeError\u001b[0m: unsupported operand type(s) for +: 'dict' and 'dict'"
     ]
    }
   ],
   "source": [
    "d = a + b + c"
   ]
  },
  {
   "cell_type": "code",
   "execution_count": 491,
   "id": "165fbfb2-ca30-4afa-8c18-25108e09b72e",
   "metadata": {},
   "outputs": [
    {
     "ename": "TypeError",
     "evalue": "unsupported operand type(s) for *: 'dict' and 'int'",
     "output_type": "error",
     "traceback": [
      "\u001b[1;31m---------------------------------------------------------------------------\u001b[0m",
      "\u001b[1;31mTypeError\u001b[0m                                 Traceback (most recent call last)",
      "Cell \u001b[1;32mIn[491], line 1\u001b[0m\n\u001b[1;32m----> 1\u001b[0m a\u001b[38;5;241m*\u001b[39m\u001b[38;5;241m2\u001b[39m\n",
      "\u001b[1;31mTypeError\u001b[0m: unsupported operand type(s) for *: 'dict' and 'int'"
     ]
    }
   ],
   "source": [
    "a*2"
   ]
  },
  {
   "cell_type": "code",
   "execution_count": 493,
   "id": "e480d276-880f-43b6-b452-fe775b44e3c6",
   "metadata": {},
   "outputs": [],
   "source": [
    "# Dict can not contain duplicate keys"
   ]
  },
  {
   "cell_type": "code",
   "execution_count": 497,
   "id": "1d010466-3070-42b8-a67b-f694cb72a173",
   "metadata": {},
   "outputs": [
    {
     "name": "stdout",
     "output_type": "stream",
     "text": [
      "{'Name': 'Akshay', 'Age': 23}\n"
     ]
    }
   ],
   "source": [
    "data = {'Name':'Mohan','Age':23,'Name':'Karan','Name':'Akshay'}\n",
    "print(data)"
   ]
  },
  {
   "cell_type": "code",
   "execution_count": 499,
   "id": "f3f97658-b514-4916-a530-e25605888eb8",
   "metadata": {},
   "outputs": [],
   "source": [
    "# Dict cases"
   ]
  },
  {
   "cell_type": "code",
   "execution_count": 501,
   "id": "f58c8534-27b6-4099-acfc-c0e6f40f0964",
   "metadata": {},
   "outputs": [],
   "source": [
    "# we can change value of a dict"
   ]
  },
  {
   "cell_type": "code",
   "execution_count": 503,
   "id": "04b4568e-df80-4014-a5d5-20fa3cbca208",
   "metadata": {},
   "outputs": [
    {
     "name": "stdout",
     "output_type": "stream",
     "text": [
      "{'Name': 'Mohan', 'Age': 23}\n"
     ]
    }
   ],
   "source": [
    "data = {'Name':'Mohan','Age':23}\n",
    "print(data)"
   ]
  },
  {
   "cell_type": "code",
   "execution_count": 505,
   "id": "568347b2-418d-4e3f-9821-dc6d62198d26",
   "metadata": {},
   "outputs": [
    {
     "data": {
      "text/plain": [
       "2"
      ]
     },
     "execution_count": 505,
     "metadata": {},
     "output_type": "execute_result"
    }
   ],
   "source": [
    "len(data)"
   ]
  },
  {
   "cell_type": "code",
   "execution_count": 507,
   "id": "eceed379-b713-4bcc-8c1f-c90e3b3c44ff",
   "metadata": {},
   "outputs": [],
   "source": [
    "# there is no such indexing and slicing concept in dict"
   ]
  },
  {
   "cell_type": "code",
   "execution_count": 509,
   "id": "edab175f-bd11-4c4c-82ef-a442db818631",
   "metadata": {},
   "outputs": [
    {
     "data": {
      "text/plain": [
       "{'Name': 'Mohan', 'Age': 23}"
      ]
     },
     "execution_count": 509,
     "metadata": {},
     "output_type": "execute_result"
    }
   ],
   "source": [
    "data"
   ]
  },
  {
   "cell_type": "code",
   "execution_count": 511,
   "id": "56552006-dd58-4b29-a550-1847acbc6037",
   "metadata": {},
   "outputs": [
    {
     "data": {
      "text/plain": [
       "'Mohan'"
      ]
     },
     "execution_count": 511,
     "metadata": {},
     "output_type": "execute_result"
    }
   ],
   "source": [
    "data['Name']"
   ]
  },
  {
   "cell_type": "code",
   "execution_count": 513,
   "id": "64e9e94f-2a86-47fa-b9e3-9f351513025e",
   "metadata": {},
   "outputs": [
    {
     "data": {
      "text/plain": [
       "23"
      ]
     },
     "execution_count": 513,
     "metadata": {},
     "output_type": "execute_result"
    }
   ],
   "source": [
    "data['Age']"
   ]
  },
  {
   "cell_type": "code",
   "execution_count": 515,
   "id": "e06b9cb7-00a6-48ae-ae7e-24acc4320c83",
   "metadata": {},
   "outputs": [],
   "source": [
    "data['Age'] = 34"
   ]
  },
  {
   "cell_type": "code",
   "execution_count": 517,
   "id": "4ec4a15c-119d-46fa-9ed9-24aa2f95d40d",
   "metadata": {},
   "outputs": [
    {
     "name": "stdout",
     "output_type": "stream",
     "text": [
      "{'Name': 'Mohan', 'Age': 34}\n"
     ]
    }
   ],
   "source": [
    "print(data)"
   ]
  },
  {
   "cell_type": "code",
   "execution_count": 521,
   "id": "8315c5c3-9719-40e4-877c-9e584fa348fc",
   "metadata": {},
   "outputs": [],
   "source": [
    "data['Name'] = 'Mohan Sharma'"
   ]
  },
  {
   "cell_type": "code",
   "execution_count": 523,
   "id": "e07e4cd5-51c0-4a48-b7a2-475fbf338673",
   "metadata": {},
   "outputs": [
    {
     "name": "stdout",
     "output_type": "stream",
     "text": [
      "{'Name': 'Mohan Sharma', 'Age': 34}\n"
     ]
    }
   ],
   "source": [
    "print(data)"
   ]
  },
  {
   "cell_type": "code",
   "execution_count": null,
   "id": "bfdf03c1-9722-4adc-8c94-5d42f58a1f90",
   "metadata": {},
   "outputs": [],
   "source": []
  },
  {
   "cell_type": "code",
   "execution_count": null,
   "id": "a7513e33-3dcc-450a-bf35-c6c8e3be0758",
   "metadata": {},
   "outputs": [],
   "source": []
  },
  {
   "cell_type": "code",
   "execution_count": 527,
   "id": "e635c150-bc5b-4ab3-b655-1d416ae0671a",
   "metadata": {},
   "outputs": [
    {
     "name": "stdout",
     "output_type": "stream",
     "text": [
      "{'Name': ['Ajay', 'Ravi', 'Karan'], 'Age': [12, 24, 23], 'Address': ['Noida', 'Delhi', 'Gr Noida'], 'Fees': [True, True, False]}\n"
     ]
    }
   ],
   "source": [
    "data = {'Name':['Ajay','Ravi','Karan'],\n",
    "       'Age':[12,24,23],\n",
    "       'Address':['Noida','Delhi','Gr Noida'],\n",
    "       'Fees':[True,True,False]}\n",
    "\n",
    "print(data)"
   ]
  },
  {
   "cell_type": "code",
   "execution_count": 533,
   "id": "5a8b2b79-571f-4b16-bf91-b2f198eeacba",
   "metadata": {},
   "outputs": [],
   "source": [
    "data['Name'][2] = 'Mr Karan'"
   ]
  },
  {
   "cell_type": "code",
   "execution_count": 535,
   "id": "9e869026-7d8d-4ae6-9f98-a5d592dde91b",
   "metadata": {},
   "outputs": [
    {
     "name": "stdout",
     "output_type": "stream",
     "text": [
      "{'Name': ['Ajay', 'Ravi', 'Mr Karan'], 'Age': [12, 24, 23], 'Address': ['Noida', 'Delhi', 'Gr Noida'], 'Fees': [True, True, False]}\n"
     ]
    }
   ],
   "source": [
    "print(data)"
   ]
  },
  {
   "cell_type": "code",
   "execution_count": 543,
   "id": "5ee37e75-73e0-4dc1-8a2f-562d77d6edf3",
   "metadata": {},
   "outputs": [],
   "source": [
    "data['Address'][-1] = 'Gr Noida Extn'"
   ]
  },
  {
   "cell_type": "code",
   "execution_count": 545,
   "id": "6c1b863f-a7eb-426e-9c27-11777ed7040a",
   "metadata": {},
   "outputs": [
    {
     "name": "stdout",
     "output_type": "stream",
     "text": [
      "{'Name': ['Ajay', 'Ravi', 'Mr Karan'], 'Age': [12, 24, 23], 'Address': ['Noida', 'Delhi', 'Gr Noida Extn'], 'Fees': [True, True, False]}\n"
     ]
    }
   ],
   "source": [
    "print(data)"
   ]
  },
  {
   "cell_type": "code",
   "execution_count": null,
   "id": "4a4ce2d8-64a0-4e54-a535-b17a3f8f0969",
   "metadata": {},
   "outputs": [],
   "source": []
  },
  {
   "cell_type": "code",
   "execution_count": null,
   "id": "dcb8252d-45dd-4df8-b872-616093fc6be5",
   "metadata": {},
   "outputs": [],
   "source": []
  },
  {
   "cell_type": "code",
   "execution_count": null,
   "id": "620111bf-3fd9-4708-9798-22f03928caa8",
   "metadata": {},
   "outputs": [],
   "source": []
  },
  {
   "cell_type": "code",
   "execution_count": null,
   "id": "84c689b9-dd69-4043-9650-b41c5fad1f00",
   "metadata": {},
   "outputs": [],
   "source": []
  },
  {
   "cell_type": "code",
   "execution_count": null,
   "id": "3d885d87-42c2-4d7b-beed-0cab0c3f0159",
   "metadata": {},
   "outputs": [],
   "source": []
  },
  {
   "cell_type": "code",
   "execution_count": 552,
   "id": "10a9d2fe-8499-49ec-b2b9-a0d2ca5c6c7d",
   "metadata": {},
   "outputs": [],
   "source": [
    "Ravi = {'Delhi':[{'PNB':12,'SBI':15,'HDFC':20}],\n",
    "       'Noida':[{'RBI':{\"PNB\":23,'HDFC':45,\"SBI\":[[12],[23]]}}]}"
   ]
  },
  {
   "cell_type": "code",
   "execution_count": 554,
   "id": "f85d169e-f347-4b30-b0c1-129c206ebba4",
   "metadata": {},
   "outputs": [
    {
     "name": "stdout",
     "output_type": "stream",
     "text": [
      "{'Delhi': [{'PNB': 12, 'SBI': 15, 'HDFC': 20}], 'Noida': [{'RBI': {'PNB': 23, 'HDFC': 45, 'SBI': [[12], [23]]}}]}\n"
     ]
    }
   ],
   "source": [
    "print(Ravi)"
   ]
  },
  {
   "cell_type": "code",
   "execution_count": 570,
   "id": "2d66a541-2390-47bc-8e4c-833e200bb943",
   "metadata": {},
   "outputs": [],
   "source": [
    "Ravi['Noida'][0]['RBI']['SBI'][-1][0] = 0"
   ]
  },
  {
   "cell_type": "code",
   "execution_count": 572,
   "id": "936a52eb-b0d9-4092-9018-321f9b63f2fd",
   "metadata": {},
   "outputs": [
    {
     "data": {
      "text/plain": [
       "{'Delhi': [{'PNB': 12, 'SBI': 15, 'HDFC': 20}],\n",
       " 'Noida': [{'RBI': {'PNB': 23, 'HDFC': 45, 'SBI': [[12], [0]]}}]}"
      ]
     },
     "execution_count": 572,
     "metadata": {},
     "output_type": "execute_result"
    }
   ],
   "source": [
    "Ravi"
   ]
  },
  {
   "cell_type": "code",
   "execution_count": null,
   "id": "5070e2ad-503b-4b59-8a28-62152b411de4",
   "metadata": {},
   "outputs": [],
   "source": []
  },
  {
   "cell_type": "code",
   "execution_count": 589,
   "id": "27cedcf1-387d-4f3c-9376-e0f7c3392008",
   "metadata": {},
   "outputs": [],
   "source": [
    "Ravi['Delhi'][0]['HDFC']+= 2000"
   ]
  },
  {
   "cell_type": "code",
   "execution_count": 591,
   "id": "a833e98b-fcf3-4e98-93a0-73af6291c695",
   "metadata": {},
   "outputs": [
    {
     "name": "stdout",
     "output_type": "stream",
     "text": [
      "{'Delhi': [{'PNB': 12, 'SBI': 15, 'HDFC': 2020}], 'Noida': [{'RBI': {'PNB': 23, 'HDFC': 45, 'SBI': [[12], [0]]}}]}\n"
     ]
    }
   ],
   "source": [
    "print(Ravi)"
   ]
  },
  {
   "cell_type": "code",
   "execution_count": 593,
   "id": "7d890c3b-6730-4d2e-bb31-b567ae3161fa",
   "metadata": {},
   "outputs": [],
   "source": [
    "Ravi['Delhi'][0]['HDFC']-= 2010"
   ]
  },
  {
   "cell_type": "code",
   "execution_count": 595,
   "id": "1bf47d9c-5987-4595-b58f-a1865eabe3b7",
   "metadata": {},
   "outputs": [
    {
     "data": {
      "text/plain": [
       "{'Delhi': [{'PNB': 12, 'SBI': 15, 'HDFC': 10}],\n",
       " 'Noida': [{'RBI': {'PNB': 23, 'HDFC': 45, 'SBI': [[12], [0]]}}]}"
      ]
     },
     "execution_count": 595,
     "metadata": {},
     "output_type": "execute_result"
    }
   ],
   "source": [
    "Ravi"
   ]
  },
  {
   "cell_type": "code",
   "execution_count": null,
   "id": "71b288aa-5248-41fb-87c1-9ee36dad8fc7",
   "metadata": {},
   "outputs": [],
   "source": []
  },
  {
   "cell_type": "code",
   "execution_count": 602,
   "id": "2d843f21-4ccd-4350-8a5a-b499842ca0a8",
   "metadata": {},
   "outputs": [],
   "source": [
    "nse = {\n",
    "  \"marketState\": [\n",
    "    {\n",
    "      \"market\": \"Capital Market\",\n",
    "      \"marketStatus\": \"Close\",\n",
    "      \"tradeDate\": \"03-Jan-2025 15:30\",\n",
    "      \"index\": \"NIFTY 50\",\n",
    "      \"last\": 24004.75,\n",
    "      \"variation\": -183.900000000001,\n",
    "      \"percentChange\": -0.76,\n",
    "      \"marketStatusMessage\": \"Market is Closed\"\n",
    "    },\n",
    "    {\n",
    "      \"market\": \"Currency\",\n",
    "      \"marketStatus\": \"Close\",\n",
    "      \"tradeDate\": \"03-Jan-2025\",\n",
    "      \"index\": \"\",\n",
    "      \"last\": \"\",\n",
    "      \"variation\": \"\",\n",
    "      \"percentChange\": \"\",\n",
    "      \"marketStatusMessage\": \"Market is Closed\"\n",
    "    },\n",
    "    {\n",
    "      \"market\": \"Commodity\",\n",
    "      \"marketStatus\": \"Close\",\n",
    "      \"tradeDate\": \"03-Jan-2025\",\n",
    "      \"index\": \"\",\n",
    "      \"last\": \"\",\n",
    "      \"variation\": \"\",\n",
    "      \"percentChange\": \"\",\n",
    "      \"marketStatusMessage\": \"Market is Closed\"\n",
    "    },\n",
    "    {\n",
    "      \"market\": \"Debt\",\n",
    "      \"marketStatus\": \"Close\",\n",
    "      \"tradeDate\": \"03-Jan-2025\",\n",
    "      \"index\": \"\",\n",
    "      \"last\": \"\",\n",
    "      \"variation\": \"\",\n",
    "      \"percentChange\": \"\",\n",
    "      \"marketStatusMessage\": \"Market is Closed\"\n",
    "    },\n",
    "    {\n",
    "      \"market\": \"currencyfuture\",\n",
    "      \"marketStatus\": \"Close\",\n",
    "      \"tradeDate\": \"03-Jan-2025\",\n",
    "      \"index\": \"\",\n",
    "      \"last\": \"85.9475\",\n",
    "      \"variation\": \"\",\n",
    "      \"percentChange\": \"\",\n",
    "      \"marketStatusMessage\": \"Market is Closed\",\n",
    "      \"expiryDate\": \"29-Jan-2025\",\n",
    "      \"underlying\": \"USDINR\",\n",
    "      \"updated_time\": \"03-Jan-2025 17:00\",\n",
    "      \"tradeDateFormatted\": \"03-Jan-2025 17:00\",\n",
    "      \"slickclass\": \"slick-item\"\n",
    "    }\n",
    "  ],\n",
    "  \"marketcap\": {\n",
    "    \"timeStamp\": \"03-Jan-2025\",\n",
    "    \"marketCapinTRDollars\": 5.21,\n",
    "    \"marketCapinLACCRRupees\": 446.704971504655,\n",
    "    \"marketCapinCRRupees\": 44670497.15,\n",
    "    \"marketCapinCRRupeesFormatted\": \"44,670,497.15\",\n",
    "    \"marketCapinLACCRRupeesFormatted\": \"446.70\",\n",
    "    \"underlying\": \"Market Cap\"\n",
    "  },\n",
    "  \"indicativenifty50\": {\n",
    "    \"dateTime\": \"03-Jan-2025 15:30\",\n",
    "    \"indicativeTime\": None,\n",
    "    \"indexName\": \"NIFTY 50\",\n",
    "    \"indexLast\": None,\n",
    "    \"indexPercChange\": None,\n",
    "    \"indexTimeVal\": None,\n",
    "    \"closingValue\": 24004.75,\n",
    "    \"finalClosingValue\": 24004.75,\n",
    "    \"change\": -183.93,\n",
    "    \"perChange\": -0.76,\n",
    "    \"status\": \"CLOSE\"\n",
    "  },\n",
    "  \"giftnifty\": {\n",
    "    \"INSTRUMENTTYPE\": \"FUTIDX\",\n",
    "    \"SYMBOL\": \"NIFTY\",\n",
    "    \"EXPIRYDATE\": \"30-Jan-2025\",\n",
    "    \"OPTIONTYPE\": \"-\",\n",
    "    \"STRIKEPRICE\": \"-\",\n",
    "    \"LASTPRICE\": 24098.5,\n",
    "    \"DAYCHANGE\": \"38.50\",\n",
    "    \"PERCHANGE\": \"            0.16\",\n",
    "    \"CONTRACTSTRADED\": 60308,\n",
    "    \"TIMESTMP\": \"04-Jan-2025 02:48\",\n",
    "    \"id\": \"0/NIFTYFUTIDX30-Jan-2025--\"\n",
    "  }\n",
    "}"
   ]
  },
  {
   "cell_type": "code",
   "execution_count": 604,
   "id": "03500cdb-86fb-47c6-bdf6-f5d2576220f6",
   "metadata": {},
   "outputs": [
    {
     "name": "stdout",
     "output_type": "stream",
     "text": [
      "{'marketState': [{'market': 'Capital Market', 'marketStatus': 'Close', 'tradeDate': '03-Jan-2025 15:30', 'index': 'NIFTY 50', 'last': 24004.75, 'variation': -183.900000000001, 'percentChange': -0.76, 'marketStatusMessage': 'Market is Closed'}, {'market': 'Currency', 'marketStatus': 'Close', 'tradeDate': '03-Jan-2025', 'index': '', 'last': '', 'variation': '', 'percentChange': '', 'marketStatusMessage': 'Market is Closed'}, {'market': 'Commodity', 'marketStatus': 'Close', 'tradeDate': '03-Jan-2025', 'index': '', 'last': '', 'variation': '', 'percentChange': '', 'marketStatusMessage': 'Market is Closed'}, {'market': 'Debt', 'marketStatus': 'Close', 'tradeDate': '03-Jan-2025', 'index': '', 'last': '', 'variation': '', 'percentChange': '', 'marketStatusMessage': 'Market is Closed'}, {'market': 'currencyfuture', 'marketStatus': 'Close', 'tradeDate': '03-Jan-2025', 'index': '', 'last': '85.9475', 'variation': '', 'percentChange': '', 'marketStatusMessage': 'Market is Closed', 'expiryDate': '29-Jan-2025', 'underlying': 'USDINR', 'updated_time': '03-Jan-2025 17:00', 'tradeDateFormatted': '03-Jan-2025 17:00', 'slickclass': 'slick-item'}], 'marketcap': {'timeStamp': '03-Jan-2025', 'marketCapinTRDollars': 5.21, 'marketCapinLACCRRupees': 446.704971504655, 'marketCapinCRRupees': 44670497.15, 'marketCapinCRRupeesFormatted': '44,670,497.15', 'marketCapinLACCRRupeesFormatted': '446.70', 'underlying': 'Market Cap'}, 'indicativenifty50': {'dateTime': '03-Jan-2025 15:30', 'indicativeTime': None, 'indexName': 'NIFTY 50', 'indexLast': None, 'indexPercChange': None, 'indexTimeVal': None, 'closingValue': 24004.75, 'finalClosingValue': 24004.75, 'change': -183.93, 'perChange': -0.76, 'status': 'CLOSE'}, 'giftnifty': {'INSTRUMENTTYPE': 'FUTIDX', 'SYMBOL': 'NIFTY', 'EXPIRYDATE': '30-Jan-2025', 'OPTIONTYPE': '-', 'STRIKEPRICE': '-', 'LASTPRICE': 24098.5, 'DAYCHANGE': '38.50', 'PERCHANGE': '            0.16', 'CONTRACTSTRADED': 60308, 'TIMESTMP': '04-Jan-2025 02:48', 'id': '0/NIFTYFUTIDX30-Jan-2025--'}}\n"
     ]
    }
   ],
   "source": [
    "print(nse)"
   ]
  },
  {
   "cell_type": "code",
   "execution_count": 610,
   "id": "d5b6ad94-5ddb-49fa-959a-f4804d33f294",
   "metadata": {},
   "outputs": [],
   "source": [
    "nse['marketcap']['marketCapinTRDollars'] = 7.0"
   ]
  },
  {
   "cell_type": "code",
   "execution_count": 612,
   "id": "4d540abd-e05f-4904-a8b1-80167e99d516",
   "metadata": {},
   "outputs": [
    {
     "data": {
      "text/plain": [
       "{'marketState': [{'market': 'Capital Market',\n",
       "   'marketStatus': 'Close',\n",
       "   'tradeDate': '03-Jan-2025 15:30',\n",
       "   'index': 'NIFTY 50',\n",
       "   'last': 24004.75,\n",
       "   'variation': -183.900000000001,\n",
       "   'percentChange': -0.76,\n",
       "   'marketStatusMessage': 'Market is Closed'},\n",
       "  {'market': 'Currency',\n",
       "   'marketStatus': 'Close',\n",
       "   'tradeDate': '03-Jan-2025',\n",
       "   'index': '',\n",
       "   'last': '',\n",
       "   'variation': '',\n",
       "   'percentChange': '',\n",
       "   'marketStatusMessage': 'Market is Closed'},\n",
       "  {'market': 'Commodity',\n",
       "   'marketStatus': 'Close',\n",
       "   'tradeDate': '03-Jan-2025',\n",
       "   'index': '',\n",
       "   'last': '',\n",
       "   'variation': '',\n",
       "   'percentChange': '',\n",
       "   'marketStatusMessage': 'Market is Closed'},\n",
       "  {'market': 'Debt',\n",
       "   'marketStatus': 'Close',\n",
       "   'tradeDate': '03-Jan-2025',\n",
       "   'index': '',\n",
       "   'last': '',\n",
       "   'variation': '',\n",
       "   'percentChange': '',\n",
       "   'marketStatusMessage': 'Market is Closed'},\n",
       "  {'market': 'currencyfuture',\n",
       "   'marketStatus': 'Close',\n",
       "   'tradeDate': '03-Jan-2025',\n",
       "   'index': '',\n",
       "   'last': '85.9475',\n",
       "   'variation': '',\n",
       "   'percentChange': '',\n",
       "   'marketStatusMessage': 'Market is Closed',\n",
       "   'expiryDate': '29-Jan-2025',\n",
       "   'underlying': 'USDINR',\n",
       "   'updated_time': '03-Jan-2025 17:00',\n",
       "   'tradeDateFormatted': '03-Jan-2025 17:00',\n",
       "   'slickclass': 'slick-item'}],\n",
       " 'marketcap': {'timeStamp': '03-Jan-2025',\n",
       "  'marketCapinTRDollars': 7.0,\n",
       "  'marketCapinLACCRRupees': 446.704971504655,\n",
       "  'marketCapinCRRupees': 44670497.15,\n",
       "  'marketCapinCRRupeesFormatted': '44,670,497.15',\n",
       "  'marketCapinLACCRRupeesFormatted': '446.70',\n",
       "  'underlying': 'Market Cap'},\n",
       " 'indicativenifty50': {'dateTime': '03-Jan-2025 15:30',\n",
       "  'indicativeTime': None,\n",
       "  'indexName': 'NIFTY 50',\n",
       "  'indexLast': None,\n",
       "  'indexPercChange': None,\n",
       "  'indexTimeVal': None,\n",
       "  'closingValue': 24004.75,\n",
       "  'finalClosingValue': 24004.75,\n",
       "  'change': -183.93,\n",
       "  'perChange': -0.76,\n",
       "  'status': 'CLOSE'},\n",
       " 'giftnifty': {'INSTRUMENTTYPE': 'FUTIDX',\n",
       "  'SYMBOL': 'NIFTY',\n",
       "  'EXPIRYDATE': '30-Jan-2025',\n",
       "  'OPTIONTYPE': '-',\n",
       "  'STRIKEPRICE': '-',\n",
       "  'LASTPRICE': 24098.5,\n",
       "  'DAYCHANGE': '38.50',\n",
       "  'PERCHANGE': '            0.16',\n",
       "  'CONTRACTSTRADED': 60308,\n",
       "  'TIMESTMP': '04-Jan-2025 02:48',\n",
       "  'id': '0/NIFTYFUTIDX30-Jan-2025--'}}"
      ]
     },
     "execution_count": 612,
     "metadata": {},
     "output_type": "execute_result"
    }
   ],
   "source": [
    "nse"
   ]
  },
  {
   "cell_type": "code",
   "execution_count": null,
   "id": "9571485e-4cbe-4e97-b6b5-5f0cccc126b5",
   "metadata": {},
   "outputs": [],
   "source": []
  },
  {
   "cell_type": "code",
   "execution_count": 615,
   "id": "023fe6bf-81eb-4b8f-8c97-fe47936475ed",
   "metadata": {},
   "outputs": [
    {
     "data": {
      "text/plain": [
       "{'Name': ['Ajay', 'Ravi', 'Mr Karan'],\n",
       " 'Age': [12, 24, 23],\n",
       " 'Address': ['Noida', 'Delhi', 'Gr Noida Extn'],\n",
       " 'Fees': [True, True, False]}"
      ]
     },
     "execution_count": 615,
     "metadata": {},
     "output_type": "execute_result"
    }
   ],
   "source": [
    "data"
   ]
  },
  {
   "cell_type": "code",
   "execution_count": 619,
   "id": "7a20650d-91bb-4d3f-92ba-66f077ce4fc0",
   "metadata": {},
   "outputs": [],
   "source": [
    "data['fees'] = 'My Answer'"
   ]
  },
  {
   "cell_type": "code",
   "execution_count": 623,
   "id": "294fbdc1-cac9-41ed-be63-b3c2f2626d1b",
   "metadata": {},
   "outputs": [
    {
     "data": {
      "text/plain": [
       "{'Name': ['Ajay', 'Ravi', 'Mr Karan'],\n",
       " 'Age': [12, 24, 23],\n",
       " 'Address': ['Noida', 'Delhi', 'Gr Noida Extn'],\n",
       " 'Fees': [True, True, False],\n",
       " 'fees': 'My Answer'}"
      ]
     },
     "execution_count": 623,
     "metadata": {},
     "output_type": "execute_result"
    }
   ],
   "source": [
    "data"
   ]
  },
  {
   "cell_type": "code",
   "execution_count": 627,
   "id": "6cc1ad50-d0dd-4eb7-b01a-9cb2fccb791d",
   "metadata": {},
   "outputs": [],
   "source": [
    "all_data = {}"
   ]
  },
  {
   "cell_type": "code",
   "execution_count": 631,
   "id": "6b80bbfc-1967-468f-a7ef-41a645d0f133",
   "metadata": {},
   "outputs": [],
   "source": [
    "all_data['Age'] = 34"
   ]
  },
  {
   "cell_type": "code",
   "execution_count": 633,
   "id": "3b33d5d7-8559-448f-b75a-3006457a9dbd",
   "metadata": {},
   "outputs": [
    {
     "data": {
      "text/plain": [
       "{'Age': 34}"
      ]
     },
     "execution_count": 633,
     "metadata": {},
     "output_type": "execute_result"
    }
   ],
   "source": [
    "all_data"
   ]
  },
  {
   "cell_type": "code",
   "execution_count": 635,
   "id": "08d8f7d4-dc66-4f8e-b8a8-d71ee13d6ca3",
   "metadata": {},
   "outputs": [],
   "source": [
    "car_details = {'Audi':4500000,\n",
    "              'BMW':5678900,\n",
    "              'Mahindra':145672}"
   ]
  },
  {
   "cell_type": "code",
   "execution_count": 637,
   "id": "ec243f59-3a9b-4a0f-9b36-fd3c5c9ea138",
   "metadata": {},
   "outputs": [
    {
     "name": "stdout",
     "output_type": "stream",
     "text": [
      "{'Audi': 4500000, 'BMW': 5678900, 'Mahindra': 145672}\n"
     ]
    }
   ],
   "source": [
    "print(car_details)"
   ]
  },
  {
   "cell_type": "code",
   "execution_count": 639,
   "id": "078926ff-9d29-4b97-98ae-ac9056b1add7",
   "metadata": {},
   "outputs": [],
   "source": [
    "car_details['KIA'] = 4567890"
   ]
  },
  {
   "cell_type": "code",
   "execution_count": 641,
   "id": "2fd3f16c-73dc-47c8-a69d-4521eb25ed80",
   "metadata": {},
   "outputs": [
    {
     "data": {
      "text/plain": [
       "{'Audi': 4500000, 'BMW': 5678900, 'Mahindra': 145672, 'KIA': 4567890}"
      ]
     },
     "execution_count": 641,
     "metadata": {},
     "output_type": "execute_result"
    }
   ],
   "source": [
    "car_details"
   ]
  },
  {
   "cell_type": "code",
   "execution_count": null,
   "id": "87a27bb1-c31b-4187-b0c2-e1acde04a0bb",
   "metadata": {},
   "outputs": [],
   "source": []
  },
  {
   "cell_type": "markdown",
   "id": "49b754f0-ee90-415d-aaf3-21aa336a2405",
   "metadata": {},
   "source": [
    "# Dict Methods"
   ]
  },
  {
   "cell_type": "code",
   "execution_count": 645,
   "id": "b5ef0628-b075-4e19-b1dc-32103b6655e7",
   "metadata": {},
   "outputs": [
    {
     "name": "stdout",
     "output_type": "stream",
     "text": [
      "['__class__', '__class_getitem__', '__contains__', '__delattr__', '__delitem__', '__dir__', '__doc__', '__eq__', '__format__', '__ge__', '__getattribute__', '__getitem__', '__getstate__', '__gt__', '__hash__', '__init__', '__init_subclass__', '__ior__', '__iter__', '__le__', '__len__', '__lt__', '__ne__', '__new__', '__or__', '__reduce__', '__reduce_ex__', '__repr__', '__reversed__', '__ror__', '__setattr__', '__setitem__', '__sizeof__', '__str__', '__subclasshook__', 'clear', 'copy', 'fromkeys', 'get', 'items', 'keys', 'pop', 'popitem', 'setdefault', 'update', 'values']\n"
     ]
    }
   ],
   "source": [
    "print(dir(dict))"
   ]
  },
  {
   "cell_type": "code",
   "execution_count": 647,
   "id": "e9bb96f6-417a-4c7d-8e2d-235c777c2b92",
   "metadata": {},
   "outputs": [],
   "source": [
    "all_methods = ['clear', 'copy', 'fromkeys', 'get', 'items', 'keys', 'pop', 'popitem', 'setdefault', 'update', 'values']"
   ]
  },
  {
   "cell_type": "code",
   "execution_count": 649,
   "id": "e347bc75-c2b1-44c7-b4f3-9d25f4f2a88c",
   "metadata": {},
   "outputs": [
    {
     "name": "stdout",
     "output_type": "stream",
     "text": [
      "11\n"
     ]
    }
   ],
   "source": [
    "print(len(all_methods))"
   ]
  },
  {
   "cell_type": "code",
   "execution_count": 651,
   "id": "6dad6ec0-7ce5-4e0b-bbc0-82941b601660",
   "metadata": {},
   "outputs": [
    {
     "name": "stdout",
     "output_type": "stream",
     "text": [
      "['clear', 'copy', 'fromkeys', 'get', 'items', 'keys', 'pop', 'popitem', 'setdefault', 'update', 'values']\n"
     ]
    }
   ],
   "source": [
    "print(all_methods)"
   ]
  },
  {
   "cell_type": "code",
   "execution_count": 653,
   "id": "aa139d23-2cc3-4b3d-b2aa-c72e68d14f52",
   "metadata": {},
   "outputs": [
    {
     "data": {
      "text/plain": [
       "{'Audi': 4500000, 'BMW': 5678900, 'Mahindra': 145672, 'KIA': 4567890}"
      ]
     },
     "execution_count": 653,
     "metadata": {},
     "output_type": "execute_result"
    }
   ],
   "source": [
    "car_details"
   ]
  },
  {
   "cell_type": "code",
   "execution_count": 655,
   "id": "d130dcf3-b037-49e6-9e71-c1f146769f72",
   "metadata": {},
   "outputs": [],
   "source": [
    "car_details.clear()"
   ]
  },
  {
   "cell_type": "code",
   "execution_count": 657,
   "id": "06abc309-6ca8-42a0-8812-4b1527b79ce2",
   "metadata": {},
   "outputs": [
    {
     "name": "stdout",
     "output_type": "stream",
     "text": [
      "{}\n"
     ]
    }
   ],
   "source": [
    "print(car_details)"
   ]
  },
  {
   "cell_type": "code",
   "execution_count": 661,
   "id": "4ad7e860-3e2c-4590-852b-3f07bacf9955",
   "metadata": {},
   "outputs": [],
   "source": [
    "nse.clear()"
   ]
  },
  {
   "cell_type": "code",
   "execution_count": 663,
   "id": "445026c9-86f0-4729-a986-d5b8dc5ef6a3",
   "metadata": {},
   "outputs": [
    {
     "data": {
      "text/plain": [
       "{}"
      ]
     },
     "execution_count": 663,
     "metadata": {},
     "output_type": "execute_result"
    }
   ],
   "source": [
    "nse"
   ]
  },
  {
   "cell_type": "code",
   "execution_count": 665,
   "id": "861244c1-d7bc-4494-acda-ec415fe93ecf",
   "metadata": {},
   "outputs": [],
   "source": [
    "# 'get', 'items', 'keys'"
   ]
  },
  {
   "cell_type": "code",
   "execution_count": 667,
   "id": "19780d9c-6e86-4440-989e-c81a59e1e273",
   "metadata": {},
   "outputs": [
    {
     "data": {
      "text/plain": [
       "{'Name': ['Ajay', 'Ravi', 'Mr Karan'],\n",
       " 'Age': [12, 24, 23],\n",
       " 'Address': ['Noida', 'Delhi', 'Gr Noida Extn'],\n",
       " 'Fees': [True, True, False],\n",
       " 'fees': 'My Answer'}"
      ]
     },
     "execution_count": 667,
     "metadata": {},
     "output_type": "execute_result"
    }
   ],
   "source": [
    "data"
   ]
  },
  {
   "cell_type": "code",
   "execution_count": 669,
   "id": "90f7d2d9-6ec3-4be6-b52f-e4aca33c96ad",
   "metadata": {},
   "outputs": [
    {
     "data": {
      "text/plain": [
       "['Noida', 'Delhi', 'Gr Noida Extn']"
      ]
     },
     "execution_count": 669,
     "metadata": {},
     "output_type": "execute_result"
    }
   ],
   "source": [
    "data['Address']"
   ]
  },
  {
   "cell_type": "code",
   "execution_count": 671,
   "id": "398ffd88-6c24-460f-9f4c-621fb5ce8615",
   "metadata": {},
   "outputs": [
    {
     "data": {
      "text/plain": [
       "['Noida', 'Delhi', 'Gr Noida Extn']"
      ]
     },
     "execution_count": 671,
     "metadata": {},
     "output_type": "execute_result"
    }
   ],
   "source": [
    "data.get('Address')"
   ]
  },
  {
   "cell_type": "code",
   "execution_count": 673,
   "id": "4d38f585-271e-4820-bc91-98e92f94c67f",
   "metadata": {},
   "outputs": [],
   "source": [
    "data.get('Address')[1] = 'New Delhi'"
   ]
  },
  {
   "cell_type": "code",
   "execution_count": 675,
   "id": "2ba9f31f-96af-4644-9c86-f09f5e737aa1",
   "metadata": {},
   "outputs": [
    {
     "data": {
      "text/plain": [
       "{'Name': ['Ajay', 'Ravi', 'Mr Karan'],\n",
       " 'Age': [12, 24, 23],\n",
       " 'Address': ['Noida', 'New Delhi', 'Gr Noida Extn'],\n",
       " 'Fees': [True, True, False],\n",
       " 'fees': 'My Answer'}"
      ]
     },
     "execution_count": 675,
     "metadata": {},
     "output_type": "execute_result"
    }
   ],
   "source": [
    "data"
   ]
  },
  {
   "cell_type": "code",
   "execution_count": 677,
   "id": "bfa4f1a1-ece0-4670-a054-33c60a3a87f4",
   "metadata": {},
   "outputs": [],
   "source": [
    "car_details = {'Audi':4500000,\n",
    "              'BMW':5678900,\n",
    "              'Mahindra':145672}"
   ]
  },
  {
   "cell_type": "code",
   "execution_count": 679,
   "id": "3ce06c40-c5be-4d3c-9ce5-a772f1982d4f",
   "metadata": {},
   "outputs": [
    {
     "data": {
      "text/plain": [
       "4500000"
      ]
     },
     "execution_count": 679,
     "metadata": {},
     "output_type": "execute_result"
    }
   ],
   "source": [
    "car_details['Audi']"
   ]
  },
  {
   "cell_type": "code",
   "execution_count": 683,
   "id": "1853835f-e02b-4b75-b824-5859833f16f6",
   "metadata": {},
   "outputs": [
    {
     "ename": "SyntaxError",
     "evalue": "cannot assign to function call here. Maybe you meant '==' instead of '='? (3584724793.py, line 1)",
     "output_type": "error",
     "traceback": [
      "\u001b[1;36m  Cell \u001b[1;32mIn[683], line 1\u001b[1;36m\u001b[0m\n\u001b[1;33m    car_details.get('Audi') = 23\u001b[0m\n\u001b[1;37m    ^\u001b[0m\n\u001b[1;31mSyntaxError\u001b[0m\u001b[1;31m:\u001b[0m cannot assign to function call here. Maybe you meant '==' instead of '='?\n"
     ]
    }
   ],
   "source": [
    "car_details.get('Audi') = 23"
   ]
  },
  {
   "cell_type": "code",
   "execution_count": 685,
   "id": "b8dc5905-e9fd-43d6-b80b-3adf6d4c9740",
   "metadata": {},
   "outputs": [],
   "source": [
    "car_details['Audi'] = 234"
   ]
  },
  {
   "cell_type": "code",
   "execution_count": 687,
   "id": "67546b42-b978-42e6-bed2-fddb900e9532",
   "metadata": {},
   "outputs": [
    {
     "data": {
      "text/plain": [
       "{'Audi': 234, 'BMW': 5678900, 'Mahindra': 145672}"
      ]
     },
     "execution_count": 687,
     "metadata": {},
     "output_type": "execute_result"
    }
   ],
   "source": [
    "car_details"
   ]
  },
  {
   "cell_type": "code",
   "execution_count": 689,
   "id": "333631d0-ea12-4a51-ae1a-e6d65f79c094",
   "metadata": {},
   "outputs": [
    {
     "data": {
      "text/plain": [
       "{'Audi': 234, 'BMW': 5678900, 'Mahindra': 145672}"
      ]
     },
     "execution_count": 689,
     "metadata": {},
     "output_type": "execute_result"
    }
   ],
   "source": [
    "car_details"
   ]
  },
  {
   "cell_type": "code",
   "execution_count": 691,
   "id": "b3ac21c9-d000-4789-bfec-3eb4296f0ebb",
   "metadata": {},
   "outputs": [
    {
     "data": {
      "text/plain": [
       "dict_keys(['Audi', 'BMW', 'Mahindra'])"
      ]
     },
     "execution_count": 691,
     "metadata": {},
     "output_type": "execute_result"
    }
   ],
   "source": [
    "car_details.keys()"
   ]
  },
  {
   "cell_type": "code",
   "execution_count": 693,
   "id": "a830be9e-2ae2-4da9-ab8f-33beb4a87a01",
   "metadata": {},
   "outputs": [
    {
     "data": {
      "text/plain": [
       "dict_values([234, 5678900, 145672])"
      ]
     },
     "execution_count": 693,
     "metadata": {},
     "output_type": "execute_result"
    }
   ],
   "source": [
    "car_details.values()"
   ]
  },
  {
   "cell_type": "code",
   "execution_count": 695,
   "id": "5ad01a5e-30cf-437b-8553-027a0ed103ca",
   "metadata": {},
   "outputs": [
    {
     "data": {
      "text/plain": [
       "dict_items([('Audi', 234), ('BMW', 5678900), ('Mahindra', 145672)])"
      ]
     },
     "execution_count": 695,
     "metadata": {},
     "output_type": "execute_result"
    }
   ],
   "source": [
    "car_details.items()"
   ]
  },
  {
   "cell_type": "code",
   "execution_count": null,
   "id": "765c0d45-e088-4232-80ac-8f62dbe1bcb3",
   "metadata": {},
   "outputs": [],
   "source": []
  }
 ],
 "metadata": {
  "kernelspec": {
   "display_name": "Python [conda env:base] *",
   "language": "python",
   "name": "conda-base-py"
  },
  "language_info": {
   "codemirror_mode": {
    "name": "ipython",
    "version": 3
   },
   "file_extension": ".py",
   "mimetype": "text/x-python",
   "name": "python",
   "nbconvert_exporter": "python",
   "pygments_lexer": "ipython3",
   "version": "3.12.7"
  }
 },
 "nbformat": 4,
 "nbformat_minor": 5
}
