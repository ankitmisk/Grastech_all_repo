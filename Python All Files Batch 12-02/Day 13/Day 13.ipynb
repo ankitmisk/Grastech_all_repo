{
 "cells": [
  {
   "cell_type": "markdown",
   "id": "78fba5ef-089b-46f1-83f3-30b01accbc26",
   "metadata": {},
   "source": [
    "# While Loop"
   ]
  },
  {
   "cell_type": "code",
   "execution_count": 2,
   "id": "ff356b97-e1ee-4ee2-846d-a4f3b4c7b8ad",
   "metadata": {},
   "outputs": [],
   "source": [
    "# while loop:- when we wants to run our loop based on some condition/s"
   ]
  },
  {
   "cell_type": "code",
   "execution_count": 4,
   "id": "af8583a2-10ab-4ace-a41b-ddc41b5ddedc",
   "metadata": {},
   "outputs": [],
   "source": [
    "# ring:- "
   ]
  },
  {
   "cell_type": "code",
   "execution_count": 6,
   "id": "55770cab-58b4-40a8-a55d-ba9ff383bfcb",
   "metadata": {},
   "outputs": [],
   "source": [
    "# while:- counter variable:-"
   ]
  },
  {
   "cell_type": "code",
   "execution_count": 8,
   "id": "80496255-6d30-4085-a544-2825cf207947",
   "metadata": {},
   "outputs": [],
   "source": [
    "# number = 1\n",
    "\n",
    "# while condition/s:\n",
    "#     code block\n",
    "\n",
    "# while True:\n",
    "    # code execute\n",
    "\n",
    "# while False:\n",
    "    # code does not execute"
   ]
  },
  {
   "cell_type": "code",
   "execution_count": 15,
   "id": "0d7c8868-14bb-48a2-b40e-0ea853311cc3",
   "metadata": {},
   "outputs": [
    {
     "name": "stdout",
     "output_type": "stream",
     "text": [
      "Hello World 1\n",
      "Hello World 2\n",
      "Hello World 3\n",
      "Hello World 4\n",
      "Hello World 5\n",
      "Hello World 6\n",
      "Hello World 7\n",
      "Hello World 8\n",
      "Hello World 9\n",
      "Hello World 10\n"
     ]
    }
   ],
   "source": [
    "number = 1\n",
    "\n",
    "while number <= 10:\n",
    "    print('Hello World',number)\n",
    "    number += 1"
   ]
  },
  {
   "cell_type": "code",
   "execution_count": null,
   "id": "a7623310-dff6-41be-88c8-a478606acdab",
   "metadata": {},
   "outputs": [],
   "source": []
  },
  {
   "cell_type": "code",
   "execution_count": 18,
   "id": "7a531e5a-5536-4cc0-b412-c85148dfbd26",
   "metadata": {},
   "outputs": [],
   "source": [
    "# print element from list using while loop"
   ]
  },
  {
   "cell_type": "code",
   "execution_count": 20,
   "id": "2089bd7d-3282-489a-a189-b91887e0acd5",
   "metadata": {},
   "outputs": [
    {
     "name": "stdout",
     "output_type": "stream",
     "text": [
      "3\n",
      "254\n",
      "32\n",
      "4534\n",
      "56\n",
      "546\n"
     ]
    }
   ],
   "source": [
    "data = [3,254,32,4534,56,546,]\n",
    "\n",
    "for i in data:\n",
    "    print(i)"
   ]
  },
  {
   "cell_type": "code",
   "execution_count": 30,
   "id": "d6b0fc1c-aef4-4cf8-9499-ab72d399712d",
   "metadata": {},
   "outputs": [
    {
     "name": "stdout",
     "output_type": "stream",
     "text": [
      "3\n",
      "254\n",
      "32\n",
      "4534\n",
      "56\n",
      "546\n"
     ]
    }
   ],
   "source": [
    "data = [3,254,32,4534,56,546]\n",
    "\n",
    "counter = 0\n",
    "\n",
    "while counter < len(data):\n",
    "    print(data[counter])\n",
    "    counter += 1"
   ]
  },
  {
   "cell_type": "code",
   "execution_count": 24,
   "id": "0527d83a-f744-4866-a3c2-8c69c455c630",
   "metadata": {},
   "outputs": [
    {
     "data": {
      "text/plain": [
       "4534"
      ]
     },
     "execution_count": 24,
     "metadata": {},
     "output_type": "execute_result"
    }
   ],
   "source": [
    "data[3]"
   ]
  },
  {
   "cell_type": "code",
   "execution_count": 32,
   "id": "f05afbe3-3ba1-46cb-980f-a308dc7e3e5f",
   "metadata": {},
   "outputs": [],
   "source": [
    "# access all elements from dict"
   ]
  },
  {
   "cell_type": "code",
   "execution_count": 38,
   "id": "aea8ca37-035f-4def-ba6f-6efea626bff2",
   "metadata": {},
   "outputs": [
    {
     "name": "stdout",
     "output_type": "stream",
     "text": [
      "Your Age is 23\n",
      "Your Class is 12\n",
      "Your Address is Noida\n",
      "Your Name is Mohan\n"
     ]
    }
   ],
   "source": [
    "data = {'Age':23,'Class':12,'Address':'Noida','Name':'Mohan'}\n",
    "\n",
    "for i in  data:\n",
    "    print(f\"Your {i} is {data[i]}\")"
   ]
  },
  {
   "cell_type": "code",
   "execution_count": 90,
   "id": "d32559cd-e0b6-4cc7-ac58-b049815cbeca",
   "metadata": {},
   "outputs": [
    {
     "name": "stdout",
     "output_type": "stream",
     "text": [
      "Your Age is 23\n",
      "Your Class is 12\n",
      "Your Address is Noida\n",
      "Your Name is Mohan\n"
     ]
    }
   ],
   "source": [
    "data = {'Age':23,'Class':12,'Address':'Noida','Name':'Mohan'}\n",
    "\n",
    "counter = 0\n",
    "\n",
    "while counter < len(data):\n",
    "    key = list(data)[counter]\n",
    "    print(f\"Your {key} is {data[key]}\")\n",
    "    counter += 1"
   ]
  },
  {
   "cell_type": "code",
   "execution_count": 68,
   "id": "0765d855-b857-41f4-90fe-1d7de77d4113",
   "metadata": {},
   "outputs": [
    {
     "data": {
      "text/plain": [
       "['Age', 'Class', 'Address', 'Name']"
      ]
     },
     "execution_count": 68,
     "metadata": {},
     "output_type": "execute_result"
    }
   ],
   "source": [
    "list(data)"
   ]
  },
  {
   "cell_type": "code",
   "execution_count": 76,
   "id": "72b2d462-3657-4ec2-b001-9806ab3e6fd2",
   "metadata": {},
   "outputs": [
    {
     "data": {
      "text/plain": [
       "'Name'"
      ]
     },
     "execution_count": 76,
     "metadata": {},
     "output_type": "execute_result"
    }
   ],
   "source": [
    "list(data)[3]"
   ]
  },
  {
   "cell_type": "code",
   "execution_count": null,
   "id": "8e579368-6a48-41da-8fc7-0432bd7518ce",
   "metadata": {},
   "outputs": [],
   "source": []
  },
  {
   "cell_type": "code",
   "execution_count": 93,
   "id": "da88c255-f616-40ac-bf67-b09c81961cdd",
   "metadata": {},
   "outputs": [],
   "source": [
    "# digital clock using while loop"
   ]
  },
  {
   "cell_type": "code",
   "execution_count": 97,
   "id": "d1bd9a40-e1e1-4741-bd8d-0dfe2f4c3d17",
   "metadata": {},
   "outputs": [
    {
     "name": "stdout",
     "output_type": "stream",
     "text": [
      "Sat Feb  1 12:49:55 2025\n"
     ]
    },
    {
     "ename": "KeyboardInterrupt",
     "evalue": "",
     "output_type": "error",
     "traceback": [
      "\u001b[1;31m---------------------------------------------------------------------------\u001b[0m",
      "\u001b[1;31mKeyboardInterrupt\u001b[0m                         Traceback (most recent call last)",
      "Cell \u001b[1;32mIn[97], line 5\u001b[0m\n\u001b[0;32m      3\u001b[0m \u001b[38;5;28;01mwhile\u001b[39;00m \u001b[38;5;28;01mTrue\u001b[39;00m:\n\u001b[0;32m      4\u001b[0m     \u001b[38;5;28mprint\u001b[39m(time\u001b[38;5;241m.\u001b[39masctime())\n\u001b[1;32m----> 5\u001b[0m     time\u001b[38;5;241m.\u001b[39msleep(\u001b[38;5;241m1\u001b[39m)\n\u001b[0;32m      6\u001b[0m     display(clear\u001b[38;5;241m=\u001b[39m\u001b[38;5;28;01mTrue\u001b[39;00m)\n",
      "\u001b[1;31mKeyboardInterrupt\u001b[0m: "
     ]
    }
   ],
   "source": [
    "# infinite loop\n",
    "import time\n",
    "while True:\n",
    "    print(time.asctime())\n",
    "    time.sleep(1)\n",
    "    display(clear=True)"
   ]
  },
  {
   "cell_type": "code",
   "execution_count": 101,
   "id": "fc8c704d-d4a3-446b-b04a-02561a7d0f72",
   "metadata": {},
   "outputs": [],
   "source": [
    "# pip install plyer"
   ]
  },
  {
   "cell_type": "code",
   "execution_count": 103,
   "id": "229c3036-1690-4541-a411-2cb4b6bb6451",
   "metadata": {},
   "outputs": [
    {
     "name": "stdout",
     "output_type": "stream",
     "text": [
      "done\n"
     ]
    }
   ],
   "source": [
    "from plyer import notification\n",
    "print('done')"
   ]
  },
  {
   "cell_type": "code",
   "execution_count": 109,
   "id": "6b4c1799-0bab-4c87-9876-71a9c4adaead",
   "metadata": {},
   "outputs": [],
   "source": [
    "age = 23\n",
    "time.sleep(5)\n",
    "if age >= 18:\n",
    "    notification.notify(title = \"You can Vote!!\",\n",
    "                    message=f\"You code has been executed\\n Executed time {time.asctime()}\" ,\n",
    "                    timeout=100)"
   ]
  },
  {
   "cell_type": "code",
   "execution_count": null,
   "id": "ea7a8126-2e7d-4c35-9312-962bba090f37",
   "metadata": {},
   "outputs": [],
   "source": []
  },
  {
   "cell_type": "code",
   "execution_count": 114,
   "id": "68654224-cb76-44bf-9b68-b6ebfe365a61",
   "metadata": {},
   "outputs": [],
   "source": [
    "# pip install PyAutoGUI"
   ]
  },
  {
   "cell_type": "code",
   "execution_count": 120,
   "id": "e38f9d0c-26f1-4308-9795-1de6cd7ffd82",
   "metadata": {},
   "outputs": [
    {
     "name": "stdout",
     "output_type": "stream",
     "text": [
      "Done\n"
     ]
    }
   ],
   "source": [
    "import random\n",
    "import time\n",
    "import pyautogui\n",
    "import string\n",
    "print('Done')"
   ]
  },
  {
   "cell_type": "code",
   "execution_count": 150,
   "id": "07791d19-86ef-48bd-97ab-7324eac46a09",
   "metadata": {},
   "outputs": [],
   "source": [
    "time.sleep(5)\n",
    "for i in range(100):\n",
    "    random_alpha = random.choice(string.ascii_lowercase)\n",
    "    # print(random_alpha,end='')\n",
    "    pyautogui.write(random_alpha)\n",
    "    time.sleep(0.1)"
   ]
  },
  {
   "cell_type": "code",
   "execution_count": null,
   "id": "14fa5370-3679-4edd-9407-08d667b9c14b",
   "metadata": {},
   "outputs": [],
   "source": []
  },
  {
   "cell_type": "code",
   "execution_count": null,
   "id": "847c0206-67f0-4192-b576-f7fecd29f5e2",
   "metadata": {},
   "outputs": [],
   "source": []
  },
  {
   "cell_type": "code",
   "execution_count": 156,
   "id": "828284e7-7a52-4f5d-b317-ba2de53e67f5",
   "metadata": {},
   "outputs": [],
   "source": [
    "time.sleep(5)\n",
    "for i in range(100):\n",
    "    random_alpha = random.choice(string.ascii_lowercase)\n",
    "    # print(random_alpha,end='')\n",
    "    pyautogui.press(random_alpha)\n",
    "    # time.sleep(0.1)"
   ]
  },
  {
   "cell_type": "code",
   "execution_count": 158,
   "id": "de79aff3-0c0d-41bc-9548-43bdd460a85f",
   "metadata": {},
   "outputs": [
    {
     "name": "stderr",
     "output_type": "stream",
     "text": [
      "\n",
      "KeyboardInterrupt\n",
      "\n"
     ]
    }
   ],
   "source": [
    "time.sleep(5)\n",
    "while True:\n",
    "    random_alpha = random.choice(string.ascii_lowercase)\n",
    "    # print(random_alpha,end='')\n",
    "    pyautogui.press(random_alpha)\n",
    "    # time.sleep(0.1)"
   ]
  },
  {
   "cell_type": "code",
   "execution_count": 166,
   "id": "599c213c-a431-4ae9-a02a-92b5c6281a3d",
   "metadata": {},
   "outputs": [],
   "source": [
    "# pip install SpeechRecognition"
   ]
  },
  {
   "cell_type": "code",
   "execution_count": 175,
   "id": "9366bc2f-458e-45ec-a223-b467e590d405",
   "metadata": {},
   "outputs": [
    {
     "name": "stdout",
     "output_type": "stream",
     "text": [
      "Talk\n",
      "Time over, thanks\n",
      "Text: ya hi Siri I just want to explore some concept about\n"
     ]
    }
   ],
   "source": [
    "import speech_recognition as sr\n",
    "\n",
    "\n",
    "r = sr.Recognizer()\n",
    "\n",
    "with sr.Microphone() as source:\n",
    "    print(\"Talk\")\n",
    "    audio_text = r.listen(source)\n",
    "    print(\"Time over, thanks\")\n",
    "\n",
    "    \n",
    "    try:\n",
    "\n",
    "        print(\"Text: \"+r.recognize_google(audio_text))\n",
    "    except:\n",
    "         print(\"Sorry, I did not get that\")"
   ]
  },
  {
   "cell_type": "code",
   "execution_count": 171,
   "id": "257260f4-cfc4-4df7-bc98-afb9a9c23ff3",
   "metadata": {},
   "outputs": [],
   "source": [
    "# pip install PyAudio"
   ]
  },
  {
   "cell_type": "code",
   "execution_count": null,
   "id": "93f17972-df4c-4de2-bc95-46beb30bce29",
   "metadata": {},
   "outputs": [],
   "source": []
  },
  {
   "cell_type": "code",
   "execution_count": 199,
   "id": "a8784e51-9370-40ec-b541-af02266fc52f",
   "metadata": {},
   "outputs": [],
   "source": [
    "data = '''\"Wishing you a vibrant and colorful Holi!\"\n",
    "\"Happy Holi! Let’s spread love and colors!\"\n",
    "\"May your life be as colorful as the Holi festival!\"\n",
    "\"Enjoy the festival of colors! Happy Holi!\"\n",
    "\"Let the colors of Holi bring joy and happiness to your life!\"\n",
    "\"Have a joyful and colorful Holi!\"\n",
    "\"Happy Holi! May your day be filled with colors of happiness!\"\n",
    "\"Celebrate the festival of colors with love and joy. Happy Holi!\"'''\n",
    "data = data.replace('\"','')"
   ]
  },
  {
   "cell_type": "code",
   "execution_count": 205,
   "id": "496fea02-5f86-4712-9de9-b88e606d532d",
   "metadata": {},
   "outputs": [],
   "source": [
    "data = data.splitlines()\n",
    "\n",
    "friends = ['Aman','Ravi','Karan Verma','Akshay Sharma']\n",
    "\n"
   ]
  },
  {
   "cell_type": "code",
   "execution_count": 213,
   "id": "cac4d777-02d4-404d-8d27-c2faa32da9af",
   "metadata": {},
   "outputs": [
    {
     "data": {
      "text/plain": [
       "'Celebrate the festival of colors with love and joy. Happy Holi!'"
      ]
     },
     "execution_count": 213,
     "metadata": {},
     "output_type": "execute_result"
    }
   ],
   "source": [
    "random.choice(data)"
   ]
  },
  {
   "cell_type": "code",
   "execution_count": 233,
   "id": "9a957618-19c5-4fba-91e5-64fdf3d8577a",
   "metadata": {},
   "outputs": [],
   "source": [
    "time.sleep(5)\n",
    "for i in friends:\n",
    "    msg = f'''Hello {i}\\nWishing you!!''' + random.choice(data)\n",
    "    pyautogui.write(msg)\n",
    "    pyautogui.press('Enter')\n",
    "    time.sleep(0.5)"
   ]
  },
  {
   "cell_type": "code",
   "execution_count": 237,
   "id": "90673367-d118-4de7-9a95-d75edd039bc7",
   "metadata": {},
   "outputs": [],
   "source": [
    "time.sleep(5)\n",
    "while True:\n",
    "    msg = f'''Hello Sandeep!!\\nWishing you!!''' + random.choice(data)\n",
    "    pyautogui.write(msg)\n",
    "    pyautogui.press('Enter')\n",
    "    # time.sleep(0.5)"
   ]
  },
  {
   "cell_type": "code",
   "execution_count": 239,
   "id": "86ab2bb3-7612-49b8-80e9-99c0e4e44833",
   "metadata": {},
   "outputs": [],
   "source": [
    "# "
   ]
  },
  {
   "cell_type": "code",
   "execution_count": 241,
   "id": "4f037c6b-6136-497a-a586-af133ac69c92",
   "metadata": {},
   "outputs": [],
   "source": [
    "# Nested while loop"
   ]
  },
  {
   "cell_type": "code",
   "execution_count": 243,
   "id": "41bb33f1-a318-4664-ac16-bae8f98fee52",
   "metadata": {},
   "outputs": [],
   "source": [
    "# While loop inside while loop"
   ]
  },
  {
   "cell_type": "code",
   "execution_count": 263,
   "id": "86b586fd-3d39-4c63-a8cb-6ef81c3bd744",
   "metadata": {},
   "outputs": [
    {
     "name": "stdout",
     "output_type": "stream",
     "text": [
      "[5, 346]\n"
     ]
    }
   ],
   "source": [
    "class_1 = [23,43,5,345,346]\n",
    "class_2 = [33,454,6,346,5]\n",
    "\n",
    "common = []\n",
    "\n",
    "a = b = 0\n",
    "\n",
    "while a < len(class_1):\n",
    "    l1_element = class_1[a]\n",
    "\n",
    "    while b <len(class_2):\n",
    "        l2_element = class_2[b]\n",
    "\n",
    "        if l1_element == l2_element:\n",
    "            # print(l1_element,l2_element)\n",
    "            common.append(l1_element)\n",
    "        b += 1\n",
    "        \n",
    "    a += 1\n",
    "    b = 0\n",
    "\n",
    "print(common)"
   ]
  },
  {
   "cell_type": "code",
   "execution_count": null,
   "id": "20fd6e3c-e43a-4a34-a1c3-04c4fd7e4388",
   "metadata": {},
   "outputs": [],
   "source": []
  },
  {
   "cell_type": "code",
   "execution_count": 266,
   "id": "dff1deb6-8396-4799-a4e0-d3250d6ee7c2",
   "metadata": {},
   "outputs": [],
   "source": [
    "# Break continue or pass"
   ]
  },
  {
   "cell_type": "code",
   "execution_count": 276,
   "id": "0fa482b6-519c-407f-addc-987dc6f923c2",
   "metadata": {},
   "outputs": [
    {
     "name": "stdout",
     "output_type": "stream",
     "text": [
      "[35, 434, 56, 434]\n"
     ]
    }
   ],
   "source": [
    "# pass\n",
    "\n",
    "data = [23,34,5,3,534,5645,35,434,56,434,64]\n",
    "\n",
    "div_by_7 = []\n",
    "\n",
    "c = 0\n",
    "\n",
    "while c < len(data):\n",
    "    if data[c] % 7 == 0:\n",
    "        div_by_7.append(data[c])\n",
    "    else:\n",
    "        # pass\n",
    "        ...\n",
    "    c += 1\n",
    "print(div_by_7)"
   ]
  },
  {
   "cell_type": "code",
   "execution_count": 280,
   "id": "bcfe7f0b-bf88-437b-a31a-b89f2422a248",
   "metadata": {
    "scrolled": true
   },
   "outputs": [
    {
     "name": "stdout",
     "output_type": "stream",
     "text": [
      "2 4\n",
      "3 9\n",
      "4 16\n",
      "5 25\n",
      "6 36\n",
      "6 36\n",
      "5 25\n",
      "2 4\n",
      "7 49\n",
      "8 64\n"
     ]
    }
   ],
   "source": [
    "data = [2,3,4,5,6,6,5,11,33,2,56,7,8]\n",
    "\n",
    "c = 0\n",
    "\n",
    "while c<len(data):\n",
    "    if data[c]>10:\n",
    "        c += 1\n",
    "        continue\n",
    "        \n",
    "    else:\n",
    "        print(data[c],pow(data[c],2))\n",
    "    c += 1"
   ]
  },
  {
   "cell_type": "code",
   "execution_count": 282,
   "id": "877a2461-b5ac-46d9-8721-bec7c69e61de",
   "metadata": {},
   "outputs": [],
   "source": [
    "# Chatbot"
   ]
  },
  {
   "cell_type": "code",
   "execution_count": 286,
   "id": "118bc4b1-3a2c-49c3-a92f-a6d4d6886dbb",
   "metadata": {},
   "outputs": [
    {
     "name": "stdin",
     "output_type": "stream",
     "text": [
      "Enter your name:  Komal\n"
     ]
    },
    {
     "name": "stdout",
     "output_type": "stream",
     "text": [
      "Hello Komal!!\n"
     ]
    },
    {
     "name": "stdin",
     "output_type": "stream",
     "text": [
      "Enter your message:  hello\n"
     ]
    },
    {
     "name": "stdout",
     "output_type": "stream",
     "text": [
      "Hello, How are you??\n"
     ]
    },
    {
     "name": "stdin",
     "output_type": "stream",
     "text": [
      "Enter your message:  bye\n"
     ]
    },
    {
     "name": "stdout",
     "output_type": "stream",
     "text": [
      "Bye!! nikal ja!!\n"
     ]
    }
   ],
   "source": [
    "import random\n",
    "\n",
    "name = input('Enter your name: ')\n",
    "print(f'Hello {name}!!')\n",
    "\n",
    "while True:\n",
    "    msg = input('Enter your message: ').lower()\n",
    "\n",
    "    if msg == 'hello':\n",
    "        print('Hello, How are you??')\n",
    "        \n",
    "    elif msg in ['namaste','kya haal hai','assalam walekum']:\n",
    "        print('I am Fine, what about you??')\n",
    "\n",
    "    elif msg == 'order not received':\n",
    "        print('sorry to hear that, Kindly give your order number: ')\n",
    "        order_num = input('Enter your order number: ')\n",
    "\n",
    "        print('Your ticket has been raised, we will contact you shortly!!')\n",
    "        ticket_id = random.randint(111111,999999)\n",
    "        print(f'Your ticket id is: {ticket_id}')\n",
    "        \n",
    "    elif msg == 'awesome service':\n",
    "        print(\"That's awesome, please visit again\")\n",
    "        \n",
    "    elif msg in ['bye','bye bye']:\n",
    "        print('Bye!! nikal ja!!')\n",
    "        break\n",
    "        \n",
    "    else:\n",
    "        print('Try Something different, Did not get!!')"
   ]
  },
  {
   "cell_type": "code",
   "execution_count": null,
   "id": "fccce7e3-dbb0-4d1e-a807-1f79e4325ce5",
   "metadata": {},
   "outputs": [],
   "source": []
  }
 ],
 "metadata": {
  "kernelspec": {
   "display_name": "Python [conda env:base] *",
   "language": "python",
   "name": "conda-base-py"
  },
  "language_info": {
   "codemirror_mode": {
    "name": "ipython",
    "version": 3
   },
   "file_extension": ".py",
   "mimetype": "text/x-python",
   "name": "python",
   "nbconvert_exporter": "python",
   "pygments_lexer": "ipython3",
   "version": "3.12.7"
  }
 },
 "nbformat": 4,
 "nbformat_minor": 5
}
