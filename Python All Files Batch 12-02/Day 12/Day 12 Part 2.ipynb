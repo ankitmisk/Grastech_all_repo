{
 "cells": [
  {
   "cell_type": "code",
   "execution_count": 3,
   "id": "e5b2dd5a-91a3-4dc7-a12c-d8e9e4665470",
   "metadata": {},
   "outputs": [
    {
     "name": "stdout",
     "output_type": "stream",
     "text": [
      "Common Data [5, 56]\n"
     ]
    }
   ],
   "source": [
    "data1 = [23,543,5,344,56,67]\n",
    "data2 = [34,5,6,43,56,76,78]\n",
    "data3 = [34,5,675,5432,56,7]\n",
    "\n",
    "common = []\n",
    "\n",
    "for i in data1:\n",
    "    for j in data2:\n",
    "        for k in data3:\n",
    "            if i == j == k:\n",
    "                # print(i)\n",
    "                common.append(i)\n",
    "print('Common Data',common)"
   ]
  },
  {
   "cell_type": "code",
   "execution_count": null,
   "id": "b735a948-f36c-41cc-bb27-a553d689f226",
   "metadata": {},
   "outputs": [],
   "source": []
  },
  {
   "cell_type": "markdown",
   "id": "eb3d96f0-c1ce-4d36-9268-2681c63329c7",
   "metadata": {},
   "source": [
    "# Break, Continue and pass"
   ]
  },
  {
   "cell_type": "code",
   "execution_count": 7,
   "id": "4efe5a8a-74fb-4c89-8b23-2e7080bd6fdc",
   "metadata": {},
   "outputs": [],
   "source": [
    "# Break:- code execution stop kar dena"
   ]
  },
  {
   "cell_type": "code",
   "execution_count": null,
   "id": "8a9c2187-578d-4894-a221-6a9e384bbb8d",
   "metadata": {},
   "outputs": [],
   "source": []
  },
  {
   "cell_type": "code",
   "execution_count": 18,
   "id": "509bd7f8-2f5c-4be4-88df-70794b22fa98",
   "metadata": {},
   "outputs": [
    {
     "name": "stdout",
     "output_type": "stream",
     "text": [
      "Hello karan, How are You??\n",
      "Hello harry, How are You??\n",
      "Hello akshay, How are You??\n"
     ]
    }
   ],
   "source": [
    "students = ['karan','harry','akshay','gagan','ravi']\n",
    "\n",
    "for i in students:\n",
    "    if i == 'gagan':\n",
    "        break\n",
    "    else:\n",
    "        print(f'Hello {i}, How are You??')"
   ]
  },
  {
   "cell_type": "code",
   "execution_count": null,
   "id": "eb1d825c-689a-4c90-a073-ab4b66426651",
   "metadata": {},
   "outputs": [],
   "source": []
  },
  {
   "cell_type": "code",
   "execution_count": 23,
   "id": "eeaa8bde-3513-4984-ba79-0de66f73b679",
   "metadata": {},
   "outputs": [
    {
     "name": "stdout",
     "output_type": "stream",
     "text": [
      "Hello karan, How are You??\n",
      "Hello harry, How are You??\n",
      "Hello akshay, How are You??\n",
      "Yes\n"
     ]
    }
   ],
   "source": [
    "students = ['karan','harry','akshay','gagan','ravi']\n",
    "\n",
    "for i in students:\n",
    "    if i == 'gagan':\n",
    "        break\n",
    "        print('Main nahin !!chalunga')\n",
    "    else:\n",
    "        print(f'Hello {i}, How are You??')\n",
    "\n",
    "print('Yes')"
   ]
  },
  {
   "cell_type": "code",
   "execution_count": null,
   "id": "bf81d394-aede-44cd-8ff3-e021360588de",
   "metadata": {},
   "outputs": [],
   "source": []
  },
  {
   "cell_type": "code",
   "execution_count": 26,
   "id": "e9fda1a6-4d68-48ee-b149-49e2f24aef7f",
   "metadata": {},
   "outputs": [
    {
     "name": "stdout",
     "output_type": "stream",
     "text": [
      "Hello karan, How are You??\n",
      "Hello harry, How are You??\n",
      "Hello akshay, How are You??\n",
      "Main!!chalunga\n",
      "Yes\n"
     ]
    }
   ],
   "source": [
    "students = ['karan','harry','akshay','gagan','ravi']\n",
    "\n",
    "for i in students:\n",
    "    if i == 'gagan':\n",
    "        print('Main!!chalunga')\n",
    "        break\n",
    "    else:\n",
    "        print(f'Hello {i}, How are You??')\n",
    "\n",
    "print('Yes')"
   ]
  },
  {
   "cell_type": "code",
   "execution_count": null,
   "id": "ace1082b-8b41-4682-8f60-12e8e7c27b18",
   "metadata": {},
   "outputs": [],
   "source": []
  },
  {
   "cell_type": "code",
   "execution_count": 29,
   "id": "ea684c75-b020-43eb-9716-2a4eb7941769",
   "metadata": {},
   "outputs": [],
   "source": [
    "# continue"
   ]
  },
  {
   "cell_type": "code",
   "execution_count": 44,
   "id": "a35e4960-5c4e-4195-a47e-845e8a599662",
   "metadata": {},
   "outputs": [
    {
     "name": "stdout",
     "output_type": "stream",
     "text": [
      "Hello karan, How are You??\n",
      "Hello harry, How are You??\n",
      "Hello gagan, How are You??\n",
      "Hello ravi, How are You??\n"
     ]
    }
   ],
   "source": [
    "students = ['karan','harry','akshay','gagan','ravi']\n",
    "\n",
    "for i in students:\n",
    "    if i == 'akshay':\n",
    "        continue  # skip this one iteration\n",
    "        print('Hello')\n",
    "    else:\n",
    "        print(f'Hello {i}, How are You??')"
   ]
  },
  {
   "cell_type": "code",
   "execution_count": null,
   "id": "371ccdab-2651-40d4-98cd-835b3bc5d240",
   "metadata": {},
   "outputs": [],
   "source": []
  },
  {
   "cell_type": "code",
   "execution_count": 34,
   "id": "13482b4f-0124-4529-9b52-b341b52625bf",
   "metadata": {},
   "outputs": [],
   "source": [
    "# pass:- 5 star:- kuch na kar ke dekho"
   ]
  },
  {
   "cell_type": "code",
   "execution_count": 38,
   "id": "3936229d-87ac-498d-b4ee-731459b724f0",
   "metadata": {},
   "outputs": [],
   "source": [
    "for i in range(1,11):\n",
    "    pass"
   ]
  },
  {
   "cell_type": "code",
   "execution_count": 48,
   "id": "1293a1ed-1cd1-4e0a-8fb9-3d29aa14ef45",
   "metadata": {},
   "outputs": [
    {
     "name": "stdout",
     "output_type": "stream",
     "text": [
      "Hello karan\n",
      "Hello harry\n",
      "Bomb mil gaya!!💥\n"
     ]
    }
   ],
   "source": [
    "students = ['karan','harry','bomb','gagan','ravi']\n",
    "\n",
    "for i in students:\n",
    "    if i == 'bomb':\n",
    "        print('Bomb mil gaya!!💥')\n",
    "        break\n",
    "    else:\n",
    "        pass # skip this code\n",
    "        print(f'Hello {i}')"
   ]
  },
  {
   "cell_type": "code",
   "execution_count": 60,
   "id": "dbe545a1-df2b-4d5e-8dd9-6293658ade61",
   "metadata": {},
   "outputs": [
    {
     "name": "stdout",
     "output_type": "stream",
     "text": [
      "Hello Buddy!!\n"
     ]
    }
   ],
   "source": [
    "age = 21\n",
    "\n",
    "if age >= 18:\n",
    "    pass\n",
    "    print('Hello Buddy!!')\n",
    "else:\n",
    "    print('STOP!!')"
   ]
  },
  {
   "cell_type": "code",
   "execution_count": null,
   "id": "e6e62e3f-0a4f-4395-bf08-c8bc8155720e",
   "metadata": {},
   "outputs": [],
   "source": []
  },
  {
   "cell_type": "code",
   "execution_count": null,
   "id": "66ac06b5-cdf6-4213-9681-3cec4bc797a9",
   "metadata": {},
   "outputs": [],
   "source": []
  },
  {
   "cell_type": "code",
   "execution_count": 76,
   "id": "a6a8bbcd-c0a5-4cc7-9a96-51e6c9ed3b07",
   "metadata": {},
   "outputs": [],
   "source": [
    "age = 21\n",
    "\n",
    "if age >= 18:\n",
    "    ...\n",
    "else:\n",
    "    print('STOP!!')"
   ]
  },
  {
   "cell_type": "code",
   "execution_count": null,
   "id": "83037f1a-1f50-4fdb-9b7f-fa3da22061fb",
   "metadata": {},
   "outputs": [],
   "source": []
  },
  {
   "cell_type": "code",
   "execution_count": 81,
   "id": "fd2ff78a-e4be-4215-87cf-b4bef305c0ca",
   "metadata": {},
   "outputs": [],
   "source": [
    "# one liner for loop\n",
    "# Part 1:- sasta\n",
    "# part 2:- List comphrension with for loop"
   ]
  },
  {
   "cell_type": "code",
   "execution_count": 85,
   "id": "7ea1477e-3205-4b56-8636-8e591c6efd41",
   "metadata": {},
   "outputs": [],
   "source": [
    "data = [3,45,534,456,457,56,7]\n",
    "even = []\n",
    "\n",
    "for i in data:\n",
    "    if i % 2 == 0:\n",
    "        even.append(i)\n",
    "        "
   ]
  },
  {
   "cell_type": "code",
   "execution_count": 95,
   "id": "e9fe7616-11e9-4e99-8088-d433a55b2dd4",
   "metadata": {},
   "outputs": [
    {
     "name": "stdout",
     "output_type": "stream",
     "text": [
      "Jatin\n",
      "joker\n",
      "Ravi\n"
     ]
    }
   ],
   "source": [
    "data = ['Jatin','joker','Ravi']\n",
    "for i in data:print(i)\n",
    "        "
   ]
  },
  {
   "cell_type": "code",
   "execution_count": 101,
   "id": "bb4f24f5-00e1-4d93-8f35-91578ab160bb",
   "metadata": {},
   "outputs": [],
   "source": [
    "# for i in data:if i % 2 == 0:even.append(i)"
   ]
  },
  {
   "cell_type": "code",
   "execution_count": 103,
   "id": "95e14425-19ce-478f-9ca4-783ca8ef8ee0",
   "metadata": {},
   "outputs": [],
   "source": [
    "# List ke andar for loop chalana"
   ]
  },
  {
   "cell_type": "code",
   "execution_count": 115,
   "id": "d47de2ca-7bd6-49bd-a6ad-450dc7a018bf",
   "metadata": {},
   "outputs": [
    {
     "name": "stdout",
     "output_type": "stream",
     "text": [
      "[(5, 25), (6, 36), (7, 49)]\n"
     ]
    }
   ],
   "source": [
    "data = [5,6,7]\n",
    "ans = [(i,i**2) for i in data]\n",
    "print(ans)"
   ]
  },
  {
   "cell_type": "code",
   "execution_count": 119,
   "id": "0c635754-0b73-41c2-bc3f-51703023ce8f",
   "metadata": {},
   "outputs": [
    {
     "name": "stdout",
     "output_type": "stream",
     "text": [
      "[4, 534, 456, 56]\n"
     ]
    }
   ],
   "source": [
    "data = [3,4,534,456,457,56,7]\n",
    "even = [i for i in data if i%2 == 0]\n",
    "print(even)"
   ]
  },
  {
   "cell_type": "code",
   "execution_count": 121,
   "id": "4c22c38d-e1b4-4d8a-9342-f968433f1ee0",
   "metadata": {},
   "outputs": [
    {
     "name": "stdout",
     "output_type": "stream",
     "text": [
      "[3, 457, 7]\n"
     ]
    }
   ],
   "source": [
    "data = [3,4,534,456,457,56,7]\n",
    "odd = [i for i in data if i%2 != 0]\n",
    "print(odd)"
   ]
  },
  {
   "cell_type": "code",
   "execution_count": 127,
   "id": "c9c89de1-bf9d-43af-9193-ee86807d9baf",
   "metadata": {},
   "outputs": [
    {
     "name": "stdout",
     "output_type": "stream",
     "text": [
      "['#ola', '#uber', '#kia', '#tata', '#tcs', '#relience', '#adani']\n"
     ]
    }
   ],
   "source": [
    "companies = ['ola','uber','kia','tata','tcs','relience','adani']\n",
    "\n",
    "linkedin_data = ['#'+i for i in companies]\n",
    "print(linkedin_data)"
   ]
  },
  {
   "cell_type": "code",
   "execution_count": 131,
   "id": "3126fe0c-f26a-4c4c-9345-b8ab35fd3ba2",
   "metadata": {},
   "outputs": [
    {
     "name": "stdout",
     "output_type": "stream",
     "text": [
      "['@ola', '@uber', '@kia', '@tata', '@tcs', '@relience', '@adani']\n"
     ]
    }
   ],
   "source": [
    "companies = ['ola','uber','kia','tata','tcs','relience','adani']\n",
    "print(['@'+i for i in companies])"
   ]
  },
  {
   "cell_type": "code",
   "execution_count": null,
   "id": "8ce86d3e-515e-49c3-973b-762bd9589f34",
   "metadata": {},
   "outputs": [],
   "source": []
  }
 ],
 "metadata": {
  "kernelspec": {
   "display_name": "Python [conda env:base] *",
   "language": "python",
   "name": "conda-base-py"
  },
  "language_info": {
   "codemirror_mode": {
    "name": "ipython",
    "version": 3
   },
   "file_extension": ".py",
   "mimetype": "text/x-python",
   "name": "python",
   "nbconvert_exporter": "python",
   "pygments_lexer": "ipython3",
   "version": "3.12.7"
  }
 },
 "nbformat": 4,
 "nbformat_minor": 5
}
