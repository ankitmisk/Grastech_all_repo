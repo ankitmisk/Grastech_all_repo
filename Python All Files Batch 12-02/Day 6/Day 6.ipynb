{
 "cells": [
  {
   "cell_type": "markdown",
   "id": "090bdddf-f2e7-487a-82e4-f1635e122b4b",
   "metadata": {},
   "source": [
    "# String Methods"
   ]
  },
  {
   "cell_type": "code",
   "execution_count": 2,
   "id": "178d1982-1fdc-4e09-8330-064c362b467d",
   "metadata": {},
   "outputs": [
    {
     "name": "stdout",
     "output_type": "stream",
     "text": [
      "['__add__', '__class__', '__contains__', '__delattr__', '__dir__', '__doc__', '__eq__', '__format__', '__ge__', '__getattribute__', '__getitem__', '__getnewargs__', '__getstate__', '__gt__', '__hash__', '__init__', '__init_subclass__', '__iter__', '__le__', '__len__', '__lt__', '__mod__', '__mul__', '__ne__', '__new__', '__reduce__', '__reduce_ex__', '__repr__', '__rmod__', '__rmul__', '__setattr__', '__sizeof__', '__str__', '__subclasshook__', 'capitalize', 'casefold', 'center', 'count', 'encode', 'endswith', 'expandtabs', 'find', 'format', 'format_map', 'index', 'isalnum', 'isalpha', 'isascii', 'isdecimal', 'isdigit', 'isidentifier', 'islower', 'isnumeric', 'isprintable', 'isspace', 'istitle', 'isupper', 'join', 'ljust', 'lower', 'lstrip', 'maketrans', 'partition', 'removeprefix', 'removesuffix', 'replace', 'rfind', 'rindex', 'rjust', 'rpartition', 'rsplit', 'rstrip', 'split', 'splitlines', 'startswith', 'strip', 'swapcase', 'title', 'translate', 'upper', 'zfill']\n"
     ]
    }
   ],
   "source": [
    "print(dir(str))"
   ]
  },
  {
   "cell_type": "code",
   "execution_count": 4,
   "id": "4a2888d6-696e-425c-b6b9-00d8c44b6725",
   "metadata": {},
   "outputs": [],
   "source": [
    "all_methods = ['capitalize', 'casefold', 'center', 'count', 'encode', 'endswith', 'expandtabs', 'find', 'format', 'format_map', 'index', 'isalnum', 'isalpha', 'isascii', 'isdecimal', 'isdigit', 'isidentifier', 'islower', 'isnumeric', 'isprintable', 'isspace', 'istitle', 'isupper', 'join', 'ljust', 'lower', 'lstrip', 'maketrans', 'partition', 'removeprefix', 'removesuffix', 'replace', 'rfind', 'rindex', 'rjust', 'rpartition', 'rsplit', 'rstrip', 'split', 'splitlines', 'startswith', 'strip', 'swapcase', 'title', 'translate', 'upper', 'zfill']"
   ]
  },
  {
   "cell_type": "code",
   "execution_count": 6,
   "id": "b09a24bd-f50d-4a6f-b67e-4b120424a8ba",
   "metadata": {},
   "outputs": [
    {
     "name": "stdout",
     "output_type": "stream",
     "text": [
      "['capitalize', 'casefold', 'center', 'count', 'encode', 'endswith', 'expandtabs', 'find', 'format', 'format_map', 'index', 'isalnum', 'isalpha', 'isascii', 'isdecimal', 'isdigit', 'isidentifier', 'islower', 'isnumeric', 'isprintable', 'isspace', 'istitle', 'isupper', 'join', 'ljust', 'lower', 'lstrip', 'maketrans', 'partition', 'removeprefix', 'removesuffix', 'replace', 'rfind', 'rindex', 'rjust', 'rpartition', 'rsplit', 'rstrip', 'split', 'splitlines', 'startswith', 'strip', 'swapcase', 'title', 'translate', 'upper', 'zfill']\n"
     ]
    }
   ],
   "source": [
    "print(all_methods)"
   ]
  },
  {
   "cell_type": "code",
   "execution_count": 9,
   "id": "280ddbc0-9c53-4863-8063-dec5bcfe378a",
   "metadata": {},
   "outputs": [
    {
     "name": "stdout",
     "output_type": "stream",
     "text": [
      "47\n"
     ]
    }
   ],
   "source": [
    "print(len(all_methods))"
   ]
  },
  {
   "cell_type": "code",
   "execution_count": 29,
   "id": "e11bc147-2c1c-4c4b-94bb-a4a807631b6f",
   "metadata": {},
   "outputs": [
    {
     "name": "stdout",
     "output_type": "stream",
     "text": [
      "I have a kia car having model is 38 and Price is 2020 Lakh\n"
     ]
    }
   ],
   "source": [
    "car = 'kia'\n",
    "price = 38\n",
    "model = 2020\n",
    "\n",
    "message = \"I have a {} car having model is {} and Price is {} Lakh\".format(car,price,model)\n",
    "print(message)"
   ]
  },
  {
   "cell_type": "code",
   "execution_count": null,
   "id": "b6f4a2d4-fe82-4d4f-9357-194ebd3e3b03",
   "metadata": {},
   "outputs": [],
   "source": []
  },
  {
   "cell_type": "code",
   "execution_count": 38,
   "id": "80f713d4-6f63-4840-aed6-d7421e602b70",
   "metadata": {},
   "outputs": [
    {
     "name": "stdout",
     "output_type": "stream",
     "text": [
      "I have a kia car having model is 2020 and Price is 38 Lakh\n"
     ]
    }
   ],
   "source": [
    "car = 'kia'\n",
    "price = 38\n",
    "model = 2020\n",
    "\n",
    "message = \"I have a {1} car having model is {0} and Price is {2} Lakh\".format(model,car,price)\n",
    "print(message)"
   ]
  },
  {
   "cell_type": "code",
   "execution_count": null,
   "id": "e13bf921-f3ea-493c-a029-9cc3d6d454a6",
   "metadata": {},
   "outputs": [],
   "source": []
  },
  {
   "cell_type": "code",
   "execution_count": 41,
   "id": "3cb30994-a5d1-4467-b27c-ba35f06d2be0",
   "metadata": {},
   "outputs": [
    {
     "name": "stdout",
     "output_type": "stream",
     "text": [
      "I have a kia car having model is 2020 and Price is 38 Lakh\n"
     ]
    }
   ],
   "source": [
    "car = 'kia'\n",
    "price = 38\n",
    "model = 2020\n",
    "\n",
    "message = \"I have a {b} car having model is {a} and Price is {c} Lakh\".format(a= model,b = car,c = price)\n",
    "print(message)"
   ]
  },
  {
   "cell_type": "code",
   "execution_count": 43,
   "id": "81d9a640-ba6d-4154-adb5-6c59d7fb710f",
   "metadata": {},
   "outputs": [
    {
     "name": "stdout",
     "output_type": "stream",
     "text": [
      "I have a kia car having model is 2020 and Price is 38 Lakh\n"
     ]
    }
   ],
   "source": [
    "car = 'kia'\n",
    "price = 38\n",
    "model = 2020\n",
    "\n",
    "message = \"I have a {car} car having model is {model} and Price is {price} Lakh\".format(model= model,car = car,price = price)\n",
    "print(message)"
   ]
  },
  {
   "cell_type": "code",
   "execution_count": null,
   "id": "4ffdd623-ba69-404b-847d-3280f607c37e",
   "metadata": {},
   "outputs": [],
   "source": []
  },
  {
   "cell_type": "code",
   "execution_count": null,
   "id": "358ab8c2-9a68-407b-b413-b1b7562571f5",
   "metadata": {},
   "outputs": [],
   "source": []
  },
  {
   "cell_type": "code",
   "execution_count": 61,
   "id": "8877539c-755b-4672-b928-be67bc052007",
   "metadata": {},
   "outputs": [
    {
     "name": "stdout",
     "output_type": "stream",
     "text": [
      "I have a kia car having model is 2020 and Price is 38 Lakh\n"
     ]
    }
   ],
   "source": [
    "car = 'kia'\n",
    "price = 38\n",
    "model = 2020\n",
    "\n",
    "data = {'car name':car,'price value':price,'model name':model}\n",
    "\n",
    "message = \"I have a {car name} car having model is {model name} and Price is {price value} Lakh\".format_map(data)\n",
    "print(message)"
   ]
  },
  {
   "cell_type": "code",
   "execution_count": 63,
   "id": "626e2fd8-c456-4bb2-aa94-6259c4f2a227",
   "metadata": {},
   "outputs": [
    {
     "name": "stdout",
     "output_type": "stream",
     "text": [
      "I have a kia car having model is 2020 and Price is 38 Lakh\n"
     ]
    }
   ],
   "source": [
    "car = 'kia'\n",
    "price = 38\n",
    "model = 2020\n",
    "\n",
    "message = f\"I have a {car} car having model is {model} and Price is {price} Lakh\"\n",
    "print(message)"
   ]
  },
  {
   "cell_type": "code",
   "execution_count": 67,
   "id": "9983a08a-48c9-440a-961d-fb057e723765",
   "metadata": {},
   "outputs": [
    {
     "data": {
      "text/plain": [
       "('join',\n",
       " 'ljust',\n",
       " 'lower',\n",
       " 'lstrip',\n",
       " 'maketrans',\n",
       " 'partition',\n",
       " 'removeprefix',\n",
       " 'removesuffix',\n",
       " 'replace',\n",
       " 'rfind',\n",
       " 'rindex',\n",
       " 'rjust',\n",
       " 'rpartition',\n",
       " 'rsplit',\n",
       " 'rstrip',\n",
       " 'split',\n",
       " 'splitlines',\n",
       " 'startswith',\n",
       " 'strip',\n",
       " 'swapcase',\n",
       " 'title',\n",
       " 'translate',\n",
       " 'upper',\n",
       " 'zfill')"
      ]
     },
     "execution_count": 67,
     "metadata": {},
     "output_type": "execute_result"
    }
   ],
   "source": [
    "'join', 'ljust', 'lower', 'lstrip', 'maketrans', 'partition', 'removeprefix', 'removesuffix', 'replace', 'rfind', 'rindex', 'rjust', 'rpartition', 'rsplit', 'rstrip', 'split', 'splitlines', 'startswith', 'strip', 'swapcase', 'title', 'translate', 'upper', 'zfill'"
   ]
  },
  {
   "cell_type": "code",
   "execution_count": 69,
   "id": "8f921fca-0091-4884-bbb6-86cc8792df1c",
   "metadata": {},
   "outputs": [],
   "source": [
    "message = ['I','Love','Python']"
   ]
  },
  {
   "cell_type": "code",
   "execution_count": 85,
   "id": "7a115819-fff6-4580-a19e-3c0c683c46fa",
   "metadata": {},
   "outputs": [
    {
     "data": {
      "text/plain": [
       "'😊😊😊😊I LOVE PYTHON😊😊😊😊'"
      ]
     },
     "execution_count": 85,
     "metadata": {},
     "output_type": "execute_result"
    }
   ],
   "source": [
    "ans = ' '\n",
    "\n",
    "ans.join(message).upper().center(21,'😊')"
   ]
  },
  {
   "cell_type": "code",
   "execution_count": 87,
   "id": "03d4986c-8c05-4027-a7fb-3e1da0857987",
   "metadata": {},
   "outputs": [],
   "source": [
    "data  = 'Python'"
   ]
  },
  {
   "cell_type": "code",
   "execution_count": 91,
   "id": "46a93a23-071c-4aae-9f8c-b41b832a7b87",
   "metadata": {},
   "outputs": [
    {
     "data": {
      "text/plain": [
       "'Python    '"
      ]
     },
     "execution_count": 91,
     "metadata": {},
     "output_type": "execute_result"
    }
   ],
   "source": [
    "data.ljust(10,' ')"
   ]
  },
  {
   "cell_type": "code",
   "execution_count": 93,
   "id": "8d2d2ea6-fbfd-40cf-860c-b0029a1b1cb4",
   "metadata": {},
   "outputs": [
    {
     "data": {
      "text/plain": [
       "'    Python'"
      ]
     },
     "execution_count": 93,
     "metadata": {},
     "output_type": "execute_result"
    }
   ],
   "source": [
    "data.rjust(10,' ')\n"
   ]
  },
  {
   "cell_type": "code",
   "execution_count": 95,
   "id": "793f17e0-056a-4b2f-9e3a-bff6bd1b29f2",
   "metadata": {},
   "outputs": [],
   "source": [
    "data = '   Aman Verma'"
   ]
  },
  {
   "cell_type": "code",
   "execution_count": 97,
   "id": "c485af85-bcd1-42ae-801a-e98f94f08966",
   "metadata": {},
   "outputs": [
    {
     "name": "stdout",
     "output_type": "stream",
     "text": [
      "13\n"
     ]
    }
   ],
   "source": [
    "print(len(data))"
   ]
  },
  {
   "cell_type": "code",
   "execution_count": 99,
   "id": "ca68b6c6-4ffc-4d70-a72b-bd07022b88a5",
   "metadata": {},
   "outputs": [
    {
     "data": {
      "text/plain": [
       "'Aman Verma'"
      ]
     },
     "execution_count": 99,
     "metadata": {},
     "output_type": "execute_result"
    }
   ],
   "source": [
    "data.lstrip()"
   ]
  },
  {
   "cell_type": "code",
   "execution_count": 101,
   "id": "5240a523-94da-4958-a97b-f2c32da82ce7",
   "metadata": {},
   "outputs": [],
   "source": [
    "data = 'vikash     '"
   ]
  },
  {
   "cell_type": "code",
   "execution_count": 103,
   "id": "d93f0388-448c-4543-b19f-29a64bc2fab4",
   "metadata": {},
   "outputs": [
    {
     "data": {
      "text/plain": [
       "'vikash'"
      ]
     },
     "execution_count": 103,
     "metadata": {},
     "output_type": "execute_result"
    }
   ],
   "source": [
    "data.rstrip()"
   ]
  },
  {
   "cell_type": "code",
   "execution_count": 105,
   "id": "74f7f35a-686d-4160-8a0e-020c9fa105af",
   "metadata": {},
   "outputs": [],
   "source": [
    "# strip"
   ]
  },
  {
   "cell_type": "code",
   "execution_count": 107,
   "id": "e2a1ab90-b7a6-45b1-afa7-7d5117b3cd7c",
   "metadata": {},
   "outputs": [],
   "source": [
    "data = '     This is Elon Musk    '"
   ]
  },
  {
   "cell_type": "code",
   "execution_count": 109,
   "id": "3ca5e2c6-8648-4844-ae1b-3d8f4ccfdd87",
   "metadata": {},
   "outputs": [
    {
     "data": {
      "text/plain": [
       "'This is Elon Musk'"
      ]
     },
     "execution_count": 109,
     "metadata": {},
     "output_type": "execute_result"
    }
   ],
   "source": [
    "data.strip()"
   ]
  },
  {
   "cell_type": "code",
   "execution_count": 111,
   "id": "ff80c949-e44e-4143-87b0-0a6559067049",
   "metadata": {},
   "outputs": [],
   "source": [
    "# 'partition',\n",
    "#  'removeprefix',\n",
    "#  'removesuffix',"
   ]
  },
  {
   "cell_type": "code",
   "execution_count": 117,
   "id": "b3a91676-5239-4169-8881-6c3a4c16fc90",
   "metadata": {},
   "outputs": [],
   "source": [
    "data = 'He is Elon Musk'"
   ]
  },
  {
   "cell_type": "code",
   "execution_count": 125,
   "id": "42e0f9aa-326f-4da7-af96-e47b88e71286",
   "metadata": {},
   "outputs": [
    {
     "data": {
      "text/plain": [
       "('He', ' is ', 'Elon Musk')"
      ]
     },
     "execution_count": 125,
     "metadata": {},
     "output_type": "execute_result"
    }
   ],
   "source": [
    "data.partition(' is ')"
   ]
  },
  {
   "cell_type": "code",
   "execution_count": 123,
   "id": "9eed72df-b7ed-4418-8e53-076d60a3c354",
   "metadata": {},
   "outputs": [
    {
     "data": {
      "text/plain": [
       "['He', 'Elon Musk']"
      ]
     },
     "execution_count": 123,
     "metadata": {},
     "output_type": "execute_result"
    }
   ],
   "source": [
    "data.split(' is ')"
   ]
  },
  {
   "cell_type": "code",
   "execution_count": 127,
   "id": "3f8a5ee9-4f4e-4ebd-9629-0650ae58bdf2",
   "metadata": {},
   "outputs": [],
   "source": [
    "data = 'This is Elon Musk'"
   ]
  },
  {
   "cell_type": "code",
   "execution_count": 129,
   "id": "7f7a8319-655b-4de7-aecb-e49eef77599d",
   "metadata": {},
   "outputs": [
    {
     "data": {
      "text/plain": [
       "['This', 'is', 'Elon', 'Musk']"
      ]
     },
     "execution_count": 129,
     "metadata": {},
     "output_type": "execute_result"
    }
   ],
   "source": [
    "data.split(' ')"
   ]
  },
  {
   "cell_type": "code",
   "execution_count": 131,
   "id": "c588f2ec-1388-41ab-bc77-b5a677023375",
   "metadata": {},
   "outputs": [
    {
     "data": {
      "text/plain": [
       "'This is Elon Musk'"
      ]
     },
     "execution_count": 131,
     "metadata": {},
     "output_type": "execute_result"
    }
   ],
   "source": [
    "data"
   ]
  },
  {
   "cell_type": "code",
   "execution_count": 133,
   "id": "c76f1e5d-e3d4-4049-8a52-2d7ab020365e",
   "metadata": {},
   "outputs": [
    {
     "data": {
      "text/plain": [
       "' is Elon Musk'"
      ]
     },
     "execution_count": 133,
     "metadata": {},
     "output_type": "execute_result"
    }
   ],
   "source": [
    "data.removeprefix('This')"
   ]
  },
  {
   "cell_type": "code",
   "execution_count": 135,
   "id": "833879b4-f557-40da-9e0c-0f5e15e2c7d1",
   "metadata": {},
   "outputs": [],
   "source": [
    "name = 'Mr Anil'"
   ]
  },
  {
   "cell_type": "code",
   "execution_count": 137,
   "id": "51fec852-c97e-4967-96bb-0e3245afd21c",
   "metadata": {},
   "outputs": [
    {
     "data": {
      "text/plain": [
       "'Anil'"
      ]
     },
     "execution_count": 137,
     "metadata": {},
     "output_type": "execute_result"
    }
   ],
   "source": [
    "name.removeprefix('Mr ')"
   ]
  },
  {
   "cell_type": "code",
   "execution_count": 141,
   "id": "f12df010-7c85-4b89-aede-6174c4c1e534",
   "metadata": {},
   "outputs": [
    {
     "data": {
      "text/plain": [
       "'This is Elon '"
      ]
     },
     "execution_count": 141,
     "metadata": {},
     "output_type": "execute_result"
    }
   ],
   "source": [
    "data.removesuffix('Musk')"
   ]
  },
  {
   "cell_type": "code",
   "execution_count": 143,
   "id": "6bc79049-807f-43f0-9b18-d904d069f7ac",
   "metadata": {},
   "outputs": [],
   "source": [
    "# replace'"
   ]
  },
  {
   "cell_type": "code",
   "execution_count": 145,
   "id": "a01320cf-aac5-41ea-8096-f1c2fea77d63",
   "metadata": {},
   "outputs": [],
   "source": [
    "data = 'This is Elon Musk'"
   ]
  },
  {
   "cell_type": "code",
   "execution_count": 153,
   "id": "bec8fb90-d116-43e0-a51c-6f2df78ffe05",
   "metadata": {},
   "outputs": [
    {
     "data": {
      "text/plain": [
       "'This is GRASHTECH'"
      ]
     },
     "execution_count": 153,
     "metadata": {},
     "output_type": "execute_result"
    }
   ],
   "source": [
    "data.replace('Elon Musk','GrashTech'.upper())"
   ]
  },
  {
   "cell_type": "code",
   "execution_count": 155,
   "id": "ea9623c0-b800-4132-8c56-dde974409da6",
   "metadata": {},
   "outputs": [],
   "source": [
    "# 'splitlines',\n",
    "#  'startswith',\n",
    "#  'strip',\n",
    "#  'swapcase',\n",
    "#  'title',\n",
    "#  'translate',\n",
    "#  'upper',\n",
    "#  'zfill'"
   ]
  },
  {
   "cell_type": "code",
   "execution_count": 157,
   "id": "19f86b85-37e6-4760-9ca3-a906cb9076aa",
   "metadata": {},
   "outputs": [
    {
     "name": "stdout",
     "output_type": "stream",
     "text": [
      "This\n",
      "is\n",
      "Elon\n",
      "Msuk\n"
     ]
    }
   ],
   "source": [
    "data = 'This\\nis\\nElon\\nMsuk'\n",
    "print(data)"
   ]
  },
  {
   "cell_type": "code",
   "execution_count": 160,
   "id": "f0ea5a17-3b5a-43ee-be3e-6419d34104c6",
   "metadata": {},
   "outputs": [
    {
     "data": {
      "text/plain": [
       "['This', 'is', 'Elon', 'Msuk']"
      ]
     },
     "execution_count": 160,
     "metadata": {},
     "output_type": "execute_result"
    }
   ],
   "source": [
    "data.splitlines()"
   ]
  },
  {
   "cell_type": "code",
   "execution_count": 162,
   "id": "6b126674-d092-4d7c-9313-2820c5442eda",
   "metadata": {},
   "outputs": [
    {
     "data": {
      "text/plain": [
       "['This', 'is', 'Elon', 'Msuk']"
      ]
     },
     "execution_count": 162,
     "metadata": {},
     "output_type": "execute_result"
    }
   ],
   "source": [
    "data.split('\\n')"
   ]
  },
  {
   "cell_type": "code",
   "execution_count": 164,
   "id": "783a45a1-44cb-4f7f-90e7-d7cac117d3da",
   "metadata": {},
   "outputs": [
    {
     "data": {
      "text/plain": [
       "'GRAStech'"
      ]
     },
     "execution_count": 164,
     "metadata": {},
     "output_type": "execute_result"
    }
   ],
   "source": [
    "data = 'GRAStech'\n",
    "\n",
    "data"
   ]
  },
  {
   "cell_type": "code",
   "execution_count": 166,
   "id": "4c3d9290-42e7-4bfd-90b8-d80e7cb8ca11",
   "metadata": {},
   "outputs": [
    {
     "data": {
      "text/plain": [
       "'grasTECH'"
      ]
     },
     "execution_count": 166,
     "metadata": {},
     "output_type": "execute_result"
    }
   ],
   "source": [
    "data.swapcase()"
   ]
  },
  {
   "cell_type": "code",
   "execution_count": 172,
   "id": "6a625d83-1a83-4062-b05d-623b2f71b9ca",
   "metadata": {},
   "outputs": [],
   "source": [
    "data = 'this is elon musk'"
   ]
  },
  {
   "cell_type": "code",
   "execution_count": 174,
   "id": "ede68b9d-9d2a-4c0a-bb72-62130970df36",
   "metadata": {},
   "outputs": [
    {
     "data": {
      "text/plain": [
       "'This Is Elon Musk'"
      ]
     },
     "execution_count": 174,
     "metadata": {},
     "output_type": "execute_result"
    }
   ],
   "source": [
    "data.title()"
   ]
  },
  {
   "cell_type": "code",
   "execution_count": 176,
   "id": "41769f31-495b-4a64-973c-236f6ca06e3d",
   "metadata": {},
   "outputs": [],
   "source": [
    "# maketrans','translate"
   ]
  },
  {
   "cell_type": "code",
   "execution_count": 178,
   "id": "6fc696ee-5739-4995-bcc8-e82e5d8babc5",
   "metadata": {},
   "outputs": [],
   "source": [
    "data = 'We are In Noida'"
   ]
  },
  {
   "cell_type": "code",
   "execution_count": 192,
   "id": "b58ae3b9-214c-498d-a33f-e9640a51a8f6",
   "metadata": {},
   "outputs": [],
   "source": [
    "translation_table = data.maketrans({'N':'D','o':'e','i':'l','d':'h','a':'i'})"
   ]
  },
  {
   "cell_type": "code",
   "execution_count": 194,
   "id": "fcc2b13f-0f9d-40ae-acd6-9f6feabed523",
   "metadata": {},
   "outputs": [
    {
     "data": {
      "text/plain": [
       "78"
      ]
     },
     "execution_count": 194,
     "metadata": {},
     "output_type": "execute_result"
    }
   ],
   "source": [
    "ord('N')"
   ]
  },
  {
   "cell_type": "code",
   "execution_count": 196,
   "id": "9a2fe12d-3d33-46b5-af61-c36e554d5eda",
   "metadata": {},
   "outputs": [
    {
     "data": {
      "text/plain": [
       "'We ire In Delhi'"
      ]
     },
     "execution_count": 196,
     "metadata": {},
     "output_type": "execute_result"
    }
   ],
   "source": [
    "data.translate(translation_table)"
   ]
  },
  {
   "cell_type": "code",
   "execution_count": null,
   "id": "db4359ab-4f7e-40ce-81ca-154622ceb510",
   "metadata": {},
   "outputs": [],
   "source": []
  },
  {
   "cell_type": "code",
   "execution_count": null,
   "id": "fe2d91fe-458b-4e8b-9049-6db943a09d86",
   "metadata": {},
   "outputs": [],
   "source": []
  },
  {
   "cell_type": "code",
   "execution_count": 200,
   "id": "a52bc488-36f7-4a08-8651-8d76a567a79e",
   "metadata": {},
   "outputs": [],
   "source": [
    "# lower\n",
    "# upper\n",
    "# split\n",
    "# join\n",
    "# swapcase\n",
    "# strip\n",
    "# center\n",
    "# replace"
   ]
  },
  {
   "cell_type": "code",
   "execution_count": 210,
   "id": "b621f333-1ecf-47d7-9187-7a59ce4c218d",
   "metadata": {},
   "outputs": [],
   "source": [
    "data = '678987678'"
   ]
  },
  {
   "cell_type": "code",
   "execution_count": 214,
   "id": "47fddcae-1ca9-4f6c-9920-8e4a763b60e0",
   "metadata": {},
   "outputs": [
    {
     "data": {
      "text/plain": [
       "'000000678987678'"
      ]
     },
     "execution_count": 214,
     "metadata": {},
     "output_type": "execute_result"
    }
   ],
   "source": [
    "data.zfill(15)"
   ]
  },
  {
   "cell_type": "code",
   "execution_count": null,
   "id": "f5c99da6-b35f-4d2b-ad29-92f3275c27ec",
   "metadata": {},
   "outputs": [],
   "source": []
  },
  {
   "cell_type": "code",
   "execution_count": null,
   "id": "0ee1693c-f9cb-491c-8978-d722ebe08acc",
   "metadata": {},
   "outputs": [],
   "source": []
  },
  {
   "cell_type": "markdown",
   "id": "bd30e594-c353-4a2b-94de-525aba8ae3e4",
   "metadata": {},
   "source": [
    "# List"
   ]
  },
  {
   "cell_type": "code",
   "execution_count": 219,
   "id": "656fa1bd-ced7-4cf9-9ee3-c3c9f21116f7",
   "metadata": {},
   "outputs": [],
   "source": [
    "data = [2,34,3342,33,46]"
   ]
  },
  {
   "cell_type": "code",
   "execution_count": 221,
   "id": "012c1ba8-a56d-46b7-989e-f163c51d382f",
   "metadata": {},
   "outputs": [
    {
     "name": "stdout",
     "output_type": "stream",
     "text": [
      "[2, 34, 3342, 33, 46]\n"
     ]
    }
   ],
   "source": [
    "print(data)"
   ]
  },
  {
   "cell_type": "code",
   "execution_count": 231,
   "id": "3c6e380a-2d49-4d04-833a-57cecaaa4018",
   "metadata": {},
   "outputs": [],
   "source": [
    "# list can contain any data types jo future mein padhoge\n",
    "# Heterogeneous data types"
   ]
  },
  {
   "cell_type": "code",
   "execution_count": 225,
   "id": "0ab486ed-6ec1-4754-a4c3-0e088607a753",
   "metadata": {},
   "outputs": [],
   "source": [
    "data = ['naman',23,23456,'Noida',45.8,True,None,(1,2,4),[23,534,5],\n",
    "       {1,2,34},{'one':1}]"
   ]
  },
  {
   "cell_type": "code",
   "execution_count": 227,
   "id": "096083e6-6ecd-48f7-9af2-67634e95c1a4",
   "metadata": {},
   "outputs": [
    {
     "name": "stdout",
     "output_type": "stream",
     "text": [
      "['naman', 23, 23456, 'Noida', 45.8, True, None, (1, 2, 4), [23, 534, 5], {1, 2, 34}, {'one': 1}]\n"
     ]
    }
   ],
   "source": [
    "print(data)"
   ]
  },
  {
   "cell_type": "code",
   "execution_count": 239,
   "id": "0a960463-b7c3-4b6c-885d-45308b232aa3",
   "metadata": {},
   "outputs": [],
   "source": [
    "# list supports natural indexing\n",
    "# +ve, -ve"
   ]
  },
  {
   "cell_type": "code",
   "execution_count": 237,
   "id": "582d7032-d8cb-4749-a29d-c742622a49ff",
   "metadata": {},
   "outputs": [],
   "source": [
    "data = [23,45,2,434,676,5434,45,547,4]\n",
    "# 0,1,2,3,4,5,6,7....."
   ]
  },
  {
   "cell_type": "code",
   "execution_count": 241,
   "id": "06066822-b2aa-4af2-a99b-c672e904c238",
   "metadata": {},
   "outputs": [
    {
     "data": {
      "text/plain": [
       "434"
      ]
     },
     "execution_count": 241,
     "metadata": {},
     "output_type": "execute_result"
    }
   ],
   "source": [
    "data[3]"
   ]
  },
  {
   "cell_type": "code",
   "execution_count": 243,
   "id": "88137ee9-8c36-4ce9-9698-ac2de26253d8",
   "metadata": {},
   "outputs": [
    {
     "data": {
      "text/plain": [
       "5434"
      ]
     },
     "execution_count": 243,
     "metadata": {},
     "output_type": "execute_result"
    }
   ],
   "source": [
    "data[-4]"
   ]
  },
  {
   "cell_type": "code",
   "execution_count": 245,
   "id": "15055c83-6016-4dab-a1ef-a02e29b8b85d",
   "metadata": {},
   "outputs": [],
   "source": [
    "# slicing"
   ]
  },
  {
   "cell_type": "code",
   "execution_count": 247,
   "id": "c7cd036d-5fd2-4cbc-a875-8b1c49c4d4ab",
   "metadata": {},
   "outputs": [
    {
     "data": {
      "text/plain": [
       "[23, 45, 2, 434, 676, 5434, 45, 547, 4]"
      ]
     },
     "execution_count": 247,
     "metadata": {},
     "output_type": "execute_result"
    }
   ],
   "source": [
    "data"
   ]
  },
  {
   "cell_type": "code",
   "execution_count": 249,
   "id": "e2075448-9a16-43d1-a79c-b811adf8f0ee",
   "metadata": {},
   "outputs": [
    {
     "data": {
      "text/plain": [
       "[434, 676, 5434]"
      ]
     },
     "execution_count": 249,
     "metadata": {},
     "output_type": "execute_result"
    }
   ],
   "source": [
    "data[3:6]"
   ]
  },
  {
   "cell_type": "code",
   "execution_count": 251,
   "id": "ec359786-9baf-4cf1-86f1-b0222864f1b7",
   "metadata": {},
   "outputs": [
    {
     "data": {
      "text/plain": [
       "[45, 2, 434, 676]"
      ]
     },
     "execution_count": 251,
     "metadata": {},
     "output_type": "execute_result"
    }
   ],
   "source": [
    "data[1:5]"
   ]
  },
  {
   "cell_type": "code",
   "execution_count": 253,
   "id": "76232884-02f3-42cb-88d5-4cfd61de6376",
   "metadata": {},
   "outputs": [
    {
     "data": {
      "text/plain": [
       "[45, 547, 4]"
      ]
     },
     "execution_count": 253,
     "metadata": {},
     "output_type": "execute_result"
    }
   ],
   "source": [
    "data[6:]"
   ]
  },
  {
   "cell_type": "code",
   "execution_count": 255,
   "id": "7085713c-3179-4361-9a5f-6da51bf79c33",
   "metadata": {},
   "outputs": [
    {
     "data": {
      "text/plain": [
       "[23, 45, 2, 434, 676, 5434, 45, 547, 4]"
      ]
     },
     "execution_count": 255,
     "metadata": {},
     "output_type": "execute_result"
    }
   ],
   "source": [
    "data"
   ]
  },
  {
   "cell_type": "code",
   "execution_count": 257,
   "id": "fc0717e6-0a5a-4264-ab1f-201f9ae3abb9",
   "metadata": {},
   "outputs": [
    {
     "data": {
      "text/plain": [
       "[23, 45, 2, 434]"
      ]
     },
     "execution_count": 257,
     "metadata": {},
     "output_type": "execute_result"
    }
   ],
   "source": [
    "data[:4]"
   ]
  },
  {
   "cell_type": "code",
   "execution_count": 259,
   "id": "90cabc82-c805-4b97-886f-6ffdad9ce373",
   "metadata": {},
   "outputs": [
    {
     "data": {
      "text/plain": [
       "[23, 2, 676, 45, 4]"
      ]
     },
     "execution_count": 259,
     "metadata": {},
     "output_type": "execute_result"
    }
   ],
   "source": [
    "data[::2]"
   ]
  },
  {
   "cell_type": "code",
   "execution_count": 261,
   "id": "ae9c002f-ce49-4690-8b9c-21408ab51b22",
   "metadata": {},
   "outputs": [],
   "source": [
    "# list mutable in nature:- we can change elements of a list"
   ]
  },
  {
   "cell_type": "code",
   "execution_count": 267,
   "id": "e7df6a5b-736e-4a59-a8d7-3048489e5142",
   "metadata": {},
   "outputs": [],
   "source": [
    "data[::2] = [0,0,0,0,0]"
   ]
  },
  {
   "cell_type": "code",
   "execution_count": 269,
   "id": "12f0c07d-06d7-4cb4-8dbd-a95aa66dd591",
   "metadata": {},
   "outputs": [
    {
     "data": {
      "text/plain": [
       "[0, 45, 0, 434, 0, 5434, 0, 547, 0]"
      ]
     },
     "execution_count": 269,
     "metadata": {},
     "output_type": "execute_result"
    }
   ],
   "source": [
    "data"
   ]
  },
  {
   "cell_type": "code",
   "execution_count": 271,
   "id": "16725369-5518-4a70-9fc9-341f499eaed8",
   "metadata": {},
   "outputs": [],
   "source": [
    "data[::2] = [2,4,6,8,10]"
   ]
  },
  {
   "cell_type": "code",
   "execution_count": 273,
   "id": "1ec67878-6886-4b3c-b54c-b683725f1c6e",
   "metadata": {},
   "outputs": [
    {
     "data": {
      "text/plain": [
       "[2, 45, 4, 434, 6, 5434, 8, 547, 10]"
      ]
     },
     "execution_count": 273,
     "metadata": {},
     "output_type": "execute_result"
    }
   ],
   "source": [
    "data"
   ]
  },
  {
   "cell_type": "code",
   "execution_count": 275,
   "id": "43222658-0813-4b0d-a31c-9f462c190f3c",
   "metadata": {},
   "outputs": [
    {
     "data": {
      "text/plain": [
       "[45, 434, 5434, 547]"
      ]
     },
     "execution_count": 275,
     "metadata": {},
     "output_type": "execute_result"
    }
   ],
   "source": [
    "data[1::2]"
   ]
  },
  {
   "cell_type": "code",
   "execution_count": 283,
   "id": "1aa9d973-2adc-418a-ace8-e9071dab2ba4",
   "metadata": {},
   "outputs": [],
   "source": [
    "data[1::2] = [9,9,9,9]"
   ]
  },
  {
   "cell_type": "code",
   "execution_count": 279,
   "id": "c3610776-852f-4055-a7f2-ecbef35f467d",
   "metadata": {},
   "outputs": [
    {
     "data": {
      "text/plain": [
       "[2, 9, 4, 9, 6, 9, 8, 9, 10]"
      ]
     },
     "execution_count": 279,
     "metadata": {},
     "output_type": "execute_result"
    }
   ],
   "source": [
    "data"
   ]
  },
  {
   "cell_type": "code",
   "execution_count": 285,
   "id": "c0d941ae-f9e8-474a-8748-2c87fd5d5be5",
   "metadata": {},
   "outputs": [],
   "source": [
    "#op"
   ]
  },
  {
   "cell_type": "code",
   "execution_count": 287,
   "id": "124e60d6-84c4-498d-9e2c-fb36af898d86",
   "metadata": {},
   "outputs": [],
   "source": [
    "d = [9]"
   ]
  },
  {
   "cell_type": "code",
   "execution_count": 289,
   "id": "49047f92-f5a0-4496-a28a-55cd04589ab5",
   "metadata": {},
   "outputs": [
    {
     "data": {
      "text/plain": [
       "[9, 9, 9, 9]"
      ]
     },
     "execution_count": 289,
     "metadata": {},
     "output_type": "execute_result"
    }
   ],
   "source": [
    "d*4"
   ]
  },
  {
   "cell_type": "code",
   "execution_count": 301,
   "id": "165b0a58-0b43-4dca-9b9c-aebddc1fdbb1",
   "metadata": {},
   "outputs": [],
   "source": [
    "data[1::2] = [100]*len(data[1::2])"
   ]
  },
  {
   "cell_type": "code",
   "execution_count": 303,
   "id": "be7b3c8d-354b-41fb-9646-e54b7f6a267c",
   "metadata": {},
   "outputs": [
    {
     "data": {
      "text/plain": [
       "[2, 100, 4, 100, 6, 100, 8, 100, 10]"
      ]
     },
     "execution_count": 303,
     "metadata": {},
     "output_type": "execute_result"
    }
   ],
   "source": [
    "data"
   ]
  },
  {
   "cell_type": "code",
   "execution_count": 305,
   "id": "21a82c12-6eff-4ab2-98fd-ab7594a2bedc",
   "metadata": {},
   "outputs": [],
   "source": [
    "data = [22,354,2,4334,56,67,3545]"
   ]
  },
  {
   "cell_type": "code",
   "execution_count": 307,
   "id": "0eb35f6a-cb78-43c6-bf9a-c34a3af7d58a",
   "metadata": {},
   "outputs": [
    {
     "data": {
      "text/plain": [
       "[22, 354, 2]"
      ]
     },
     "execution_count": 307,
     "metadata": {},
     "output_type": "execute_result"
    }
   ],
   "source": [
    "data[:3] = range(1,3)"
   ]
  },
  {
   "cell_type": "code",
   "execution_count": 313,
   "id": "aac4a72b-5975-4f0c-9f8b-7e2069b60e9d",
   "metadata": {},
   "outputs": [
    {
     "data": {
      "text/plain": [
       "[1, 2, 3]"
      ]
     },
     "execution_count": 313,
     "metadata": {},
     "output_type": "execute_result"
    }
   ],
   "source": [
    "list(range(1,4))"
   ]
  },
  {
   "cell_type": "code",
   "execution_count": 317,
   "id": "dda604d9-22cc-4973-a7a2-597ba9ef1277",
   "metadata": {},
   "outputs": [],
   "source": [
    "data[:3] = list(range(1,4))"
   ]
  },
  {
   "cell_type": "code",
   "execution_count": 319,
   "id": "3e7d1103-5b40-40d8-a7d2-4c1d7f68dde8",
   "metadata": {},
   "outputs": [
    {
     "data": {
      "text/plain": [
       "[1, 2, 3, 4334, 56, 67, 3545]"
      ]
     },
     "execution_count": 319,
     "metadata": {},
     "output_type": "execute_result"
    }
   ],
   "source": [
    "data"
   ]
  },
  {
   "cell_type": "code",
   "execution_count": 323,
   "id": "f25c1f75-dc62-4c87-a3c8-08b20c00793a",
   "metadata": {},
   "outputs": [],
   "source": [
    "data[:3] = range(4,7)"
   ]
  },
  {
   "cell_type": "code",
   "execution_count": 325,
   "id": "3653c27d-328a-4a56-888f-e90bf9a1bf15",
   "metadata": {},
   "outputs": [
    {
     "data": {
      "text/plain": [
       "[4, 5, 6, 4334, 56, 67, 3545]"
      ]
     },
     "execution_count": 325,
     "metadata": {},
     "output_type": "execute_result"
    }
   ],
   "source": [
    "data"
   ]
  },
  {
   "cell_type": "code",
   "execution_count": 327,
   "id": "ff7645e2-d4a5-465b-abcd-0e581aabbd3a",
   "metadata": {},
   "outputs": [],
   "source": [
    "# list ke andar list :- nested list"
   ]
  },
  {
   "cell_type": "code",
   "execution_count": 329,
   "id": "4d93ada7-60f6-4ef5-8a87-93c73b60098c",
   "metadata": {},
   "outputs": [],
   "source": [
    "data = [1,243,41,243,5,[23,5,423,53]]"
   ]
  },
  {
   "cell_type": "code",
   "execution_count": 333,
   "id": "fe590b38-d1b0-4a1b-956b-30e8c6e7f8ee",
   "metadata": {},
   "outputs": [],
   "source": [
    "# data[-1]"
   ]
  },
  {
   "cell_type": "code",
   "execution_count": 335,
   "id": "f4a317bb-14f6-402f-9519-0e834b95c491",
   "metadata": {},
   "outputs": [],
   "source": [
    "data[2] = 'Naman'"
   ]
  },
  {
   "cell_type": "code",
   "execution_count": 337,
   "id": "98793d45-ba4e-4127-8d8b-28638a99680a",
   "metadata": {},
   "outputs": [
    {
     "data": {
      "text/plain": [
       "[1, 243, 'Naman', 243, 5, [23, 5, 423, 53]]"
      ]
     },
     "execution_count": 337,
     "metadata": {},
     "output_type": "execute_result"
    }
   ],
   "source": [
    "data"
   ]
  },
  {
   "cell_type": "code",
   "execution_count": 343,
   "id": "5a22d0b1-42ba-4d3a-9d3f-6c47baa52c5a",
   "metadata": {},
   "outputs": [],
   "source": [
    "data[-1][2] = 'Rohit'"
   ]
  },
  {
   "cell_type": "code",
   "execution_count": 345,
   "id": "ca05c258-eeac-46f8-ad8a-be015f90adf4",
   "metadata": {},
   "outputs": [
    {
     "data": {
      "text/plain": [
       "[1, 243, 'Naman', 243, 5, [23, 5, 'Rohit', 53]]"
      ]
     },
     "execution_count": 345,
     "metadata": {},
     "output_type": "execute_result"
    }
   ],
   "source": [
    "data"
   ]
  },
  {
   "cell_type": "code",
   "execution_count": 347,
   "id": "fc34dc40-c5b7-45c7-aa57-7e8f37e549b0",
   "metadata": {},
   "outputs": [],
   "source": [
    "data = [12,43,12,432,412,[23,234,2,35,3,[2,34,4]]]"
   ]
  },
  {
   "cell_type": "code",
   "execution_count": 353,
   "id": "2cc11ae9-8689-407e-9f44-96432fc431e0",
   "metadata": {},
   "outputs": [
    {
     "data": {
      "text/plain": [
       "34"
      ]
     },
     "execution_count": 353,
     "metadata": {},
     "output_type": "execute_result"
    }
   ],
   "source": [
    "data[-1][-1][-2]"
   ]
  },
  {
   "cell_type": "code",
   "execution_count": 359,
   "id": "3cb2a59d-807c-47a7-aa89-9c1acee0a0fd",
   "metadata": {},
   "outputs": [],
   "source": [
    "data[-1][-1][1] = 'Grastechy'"
   ]
  },
  {
   "cell_type": "code",
   "execution_count": 361,
   "id": "db5f3685-4afc-4106-8883-f39f8b585411",
   "metadata": {},
   "outputs": [
    {
     "data": {
      "text/plain": [
       "[12, 43, 12, 432, 412, [23, 234, 2, 35, 3, [2, 'Grastechy', 4]]]"
      ]
     },
     "execution_count": 361,
     "metadata": {},
     "output_type": "execute_result"
    }
   ],
   "source": [
    "data"
   ]
  },
  {
   "cell_type": "code",
   "execution_count": 367,
   "id": "9f623a51-08b9-4572-b242-243c888b9f90",
   "metadata": {},
   "outputs": [],
   "source": [
    "data[-1][-1] = ['Noida','Delhi','Greater Noida']"
   ]
  },
  {
   "cell_type": "code",
   "execution_count": 371,
   "id": "656f0da8-f9ab-4190-9fce-7521d1f476ec",
   "metadata": {},
   "outputs": [
    {
     "name": "stdout",
     "output_type": "stream",
     "text": [
      "[12, 43, 12, 432, 412, [23, 234, 2, 35, 3, ['Noida', 'Delhi', 'Greater Noida']]]\n"
     ]
    }
   ],
   "source": [
    "print(data)"
   ]
  },
  {
   "cell_type": "code",
   "execution_count": 373,
   "id": "8f5fec9b-0580-4a7e-a50e-ade1c459e1cc",
   "metadata": {},
   "outputs": [],
   "source": [
    "data = [[[12,42,[[12]]],[2,35]]]"
   ]
  },
  {
   "cell_type": "code",
   "execution_count": 375,
   "id": "57422099-7a6e-48ca-8110-06d0c7eaa95e",
   "metadata": {},
   "outputs": [
    {
     "data": {
      "text/plain": [
       "[[[12, 42, [[12]]], [2, 35]]]"
      ]
     },
     "execution_count": 375,
     "metadata": {},
     "output_type": "execute_result"
    }
   ],
   "source": [
    "data"
   ]
  },
  {
   "cell_type": "code",
   "execution_count": 387,
   "id": "2532f7eb-2596-48a5-a98e-197f5fdec03d",
   "metadata": {},
   "outputs": [],
   "source": [
    "data[0][0][-1][0][0] = 420"
   ]
  },
  {
   "cell_type": "code",
   "execution_count": 389,
   "id": "e835a7f3-2971-4b34-8da7-b240716db5d4",
   "metadata": {},
   "outputs": [
    {
     "data": {
      "text/plain": [
       "[[[12, 42, [[420]]], [2, 35]]]"
      ]
     },
     "execution_count": 389,
     "metadata": {},
     "output_type": "execute_result"
    }
   ],
   "source": [
    "data"
   ]
  },
  {
   "cell_type": "code",
   "execution_count": 393,
   "id": "7096c282-4dcf-4ab7-ad99-2b8fc7a31639",
   "metadata": {},
   "outputs": [],
   "source": [
    "# list op"
   ]
  },
  {
   "cell_type": "code",
   "execution_count": 395,
   "id": "6d782ba3-ded9-466a-ade4-cbdc8326760b",
   "metadata": {},
   "outputs": [],
   "source": [
    "l1 = [23,5,4356]"
   ]
  },
  {
   "cell_type": "code",
   "execution_count": 397,
   "id": "ba0b0ac2-5e88-4b9e-afc9-b1c36d60d949",
   "metadata": {},
   "outputs": [],
   "source": [
    "l2 = [23,54,6]"
   ]
  },
  {
   "cell_type": "code",
   "execution_count": 399,
   "id": "4b1139a6-17a7-463e-96f5-1e53b6a6d593",
   "metadata": {},
   "outputs": [
    {
     "data": {
      "text/plain": [
       "[23, 5, 4356, 23, 54, 6]"
      ]
     },
     "execution_count": 399,
     "metadata": {},
     "output_type": "execute_result"
    }
   ],
   "source": [
    "l1 + l2"
   ]
  },
  {
   "cell_type": "code",
   "execution_count": 401,
   "id": "2b51a1e0-18c6-4261-ad08-fd6b753f0823",
   "metadata": {},
   "outputs": [],
   "source": [
    "data = [12,4325]"
   ]
  },
  {
   "cell_type": "code",
   "execution_count": 403,
   "id": "bf813b12-0d64-4a16-8808-7fb0a79a3d35",
   "metadata": {},
   "outputs": [
    {
     "data": {
      "text/plain": [
       "[12, 4325, 12, 4325, 12, 4325, 12, 4325, 12, 4325]"
      ]
     },
     "execution_count": 403,
     "metadata": {},
     "output_type": "execute_result"
    }
   ],
   "source": [
    "data*5"
   ]
  },
  {
   "cell_type": "code",
   "execution_count": 405,
   "id": "79af473f-f997-4938-8f73-412479791e46",
   "metadata": {},
   "outputs": [],
   "source": [
    "data = ['naman']\n",
    "\n"
   ]
  },
  {
   "cell_type": "code",
   "execution_count": 407,
   "id": "3f2da6fd-4a3a-45c7-8acd-18b34470c171",
   "metadata": {},
   "outputs": [
    {
     "data": {
      "text/plain": [
       "['naman', 'naman', 'naman', 'naman', 'naman']"
      ]
     },
     "execution_count": 407,
     "metadata": {},
     "output_type": "execute_result"
    }
   ],
   "source": [
    "data * 5"
   ]
  },
  {
   "cell_type": "code",
   "execution_count": 411,
   "id": "aa388330-0e5d-4cff-a263-d3895bdb0ec8",
   "metadata": {},
   "outputs": [],
   "source": [
    "# [['karan']]"
   ]
  },
  {
   "cell_type": "code",
   "execution_count": 415,
   "id": "178fb474-859d-407a-8b78-8de477d19577",
   "metadata": {},
   "outputs": [
    {
     "name": "stdout",
     "output_type": "stream",
     "text": [
      "['naman']\n"
     ]
    }
   ],
   "source": [
    "print(data)"
   ]
  },
  {
   "cell_type": "code",
   "execution_count": 423,
   "id": "720ecb3b-bd01-4680-9f38-1e4240c9dbf4",
   "metadata": {},
   "outputs": [],
   "source": [
    "data[0] = ['Karan']"
   ]
  },
  {
   "cell_type": "code",
   "execution_count": 425,
   "id": "12502e46-8791-43b7-bbda-d96d1ee2a969",
   "metadata": {},
   "outputs": [
    {
     "name": "stdout",
     "output_type": "stream",
     "text": [
      "[['Karan']]\n"
     ]
    }
   ],
   "source": [
    "print(data)"
   ]
  },
  {
   "cell_type": "markdown",
   "id": "4978ebd4-8182-428f-8e2c-515943a7d14f",
   "metadata": {},
   "source": [
    "# List Methods"
   ]
  },
  {
   "cell_type": "code",
   "execution_count": 430,
   "id": "88c48935-dcaa-4b0d-abf8-cc5472a4dae0",
   "metadata": {},
   "outputs": [
    {
     "name": "stdout",
     "output_type": "stream",
     "text": [
      "['__add__', '__class__', '__class_getitem__', '__contains__', '__delattr__', '__delitem__', '__dir__', '__doc__', '__eq__', '__format__', '__ge__', '__getattribute__', '__getitem__', '__getstate__', '__gt__', '__hash__', '__iadd__', '__imul__', '__init__', '__init_subclass__', '__iter__', '__le__', '__len__', '__lt__', '__mul__', '__ne__', '__new__', '__reduce__', '__reduce_ex__', '__repr__', '__reversed__', '__rmul__', '__setattr__', '__setitem__', '__sizeof__', '__str__', '__subclasshook__', 'append', 'clear', 'copy', 'count', 'extend', 'index', 'insert', 'pop', 'remove', 'reverse', 'sort']\n"
     ]
    }
   ],
   "source": [
    "print(dir(list))"
   ]
  },
  {
   "cell_type": "code",
   "execution_count": 432,
   "id": "aae918c2-6348-409b-a37e-46c0a024e3f6",
   "metadata": {},
   "outputs": [],
   "source": [
    "all_methods = ['append', 'clear', 'copy', 'count', 'extend', 'index', 'insert', 'pop', 'remove', 'reverse', 'sort']"
   ]
  },
  {
   "cell_type": "code",
   "execution_count": 434,
   "id": "ed3eeb8f-b2ef-41c2-ade5-26f56bc3e0c2",
   "metadata": {},
   "outputs": [
    {
     "name": "stdout",
     "output_type": "stream",
     "text": [
      "['append', 'clear', 'copy', 'count', 'extend', 'index', 'insert', 'pop', 'remove', 'reverse', 'sort']\n"
     ]
    }
   ],
   "source": [
    "print(all_methods)"
   ]
  },
  {
   "cell_type": "code",
   "execution_count": 436,
   "id": "f8ac01be-66ea-443c-a1b7-d8e43cf4a30a",
   "metadata": {},
   "outputs": [
    {
     "name": "stdout",
     "output_type": "stream",
     "text": [
      "11\n"
     ]
    }
   ],
   "source": [
    "print(len(all_methods))"
   ]
  },
  {
   "cell_type": "code",
   "execution_count": 438,
   "id": "7ef3725e-944a-45e3-bff4-c76cc0256bea",
   "metadata": {},
   "outputs": [],
   "source": [
    "sales = [2,35,46]"
   ]
  },
  {
   "cell_type": "code",
   "execution_count": 440,
   "id": "61f96156-ce8e-4656-a7bd-13f20f45b600",
   "metadata": {},
   "outputs": [],
   "source": [
    "sales.append(100)"
   ]
  },
  {
   "cell_type": "code",
   "execution_count": 442,
   "id": "f99b1211-c72b-4d49-a577-2b369e13dd01",
   "metadata": {},
   "outputs": [
    {
     "name": "stdout",
     "output_type": "stream",
     "text": [
      "[2, 35, 46, 100]\n"
     ]
    }
   ],
   "source": [
    "print(sales)"
   ]
  },
  {
   "cell_type": "code",
   "execution_count": 444,
   "id": "cf5e9c4d-b136-4ecd-9451-3fca59dece0c",
   "metadata": {},
   "outputs": [],
   "source": [
    "# list can contain dublicate values"
   ]
  },
  {
   "cell_type": "code",
   "execution_count": 448,
   "id": "dc0543b1-8693-4f5b-8490-0b9106e6ea7a",
   "metadata": {},
   "outputs": [],
   "source": [
    "data = [1,1,1,1,0,0,1,2]"
   ]
  },
  {
   "cell_type": "code",
   "execution_count": 450,
   "id": "984e4865-523a-4476-8108-5bee3c5d82e5",
   "metadata": {},
   "outputs": [],
   "source": [
    "sales.append(1234567)"
   ]
  },
  {
   "cell_type": "code",
   "execution_count": 452,
   "id": "5b8af85a-8587-43f0-8696-6275d14cd63e",
   "metadata": {},
   "outputs": [
    {
     "name": "stdout",
     "output_type": "stream",
     "text": [
      "[2, 35, 46, 100, 1234567]\n"
     ]
    }
   ],
   "source": [
    "print(sales)"
   ]
  },
  {
   "cell_type": "code",
   "execution_count": 454,
   "id": "8e0caa83-ecf4-4fe3-8986-e69ab745d1fd",
   "metadata": {},
   "outputs": [],
   "source": [
    "data = ['naman','karan','ravi']"
   ]
  },
  {
   "cell_type": "code",
   "execution_count": 456,
   "id": "832c59d6-cce5-479f-9d12-fe2f1d92d48a",
   "metadata": {},
   "outputs": [],
   "source": [
    "data.append('Jatin')"
   ]
  },
  {
   "cell_type": "code",
   "execution_count": 458,
   "id": "ed2967ee-fb33-4350-be3b-f72f761114f7",
   "metadata": {},
   "outputs": [
    {
     "data": {
      "text/plain": [
       "['naman', 'karan', 'ravi', 'Jatin']"
      ]
     },
     "execution_count": 458,
     "metadata": {},
     "output_type": "execute_result"
    }
   ],
   "source": [
    "data"
   ]
  },
  {
   "cell_type": "code",
   "execution_count": 460,
   "id": "d7cdb3ec-69cc-4ecf-a125-c5042f4ce9d0",
   "metadata": {},
   "outputs": [],
   "source": [
    "data.append(['Akshay'])"
   ]
  },
  {
   "cell_type": "code",
   "execution_count": 462,
   "id": "505ae289-8613-4dc3-b8c7-361e04abd7a3",
   "metadata": {},
   "outputs": [
    {
     "data": {
      "text/plain": [
       "['naman', 'karan', 'ravi', 'Jatin', ['Akshay']]"
      ]
     },
     "execution_count": 462,
     "metadata": {},
     "output_type": "execute_result"
    }
   ],
   "source": [
    "data"
   ]
  },
  {
   "cell_type": "code",
   "execution_count": 464,
   "id": "bac5988c-1015-4566-a3b6-7b274d8c9f5b",
   "metadata": {},
   "outputs": [],
   "source": [
    "data.clear()"
   ]
  },
  {
   "cell_type": "code",
   "execution_count": 466,
   "id": "b2b696d0-6165-48f1-b71c-51529e5d5749",
   "metadata": {},
   "outputs": [
    {
     "name": "stdout",
     "output_type": "stream",
     "text": [
      "[]\n"
     ]
    }
   ],
   "source": [
    "print(data)"
   ]
  },
  {
   "cell_type": "code",
   "execution_count": 468,
   "id": "6a42007c-d736-4a6d-81ae-9187c8214d49",
   "metadata": {},
   "outputs": [],
   "source": [
    "# empty list"
   ]
  },
  {
   "cell_type": "code",
   "execution_count": 470,
   "id": "2cabfd6c-3899-4d42-8e0c-8ebacda7bdc4",
   "metadata": {},
   "outputs": [],
   "source": [
    "e = []"
   ]
  },
  {
   "cell_type": "code",
   "execution_count": 472,
   "id": "3d8fcea6-0760-4bd3-977e-42b4a2039bd2",
   "metadata": {},
   "outputs": [
    {
     "name": "stdout",
     "output_type": "stream",
     "text": [
      "<class 'list'>\n"
     ]
    }
   ],
   "source": [
    "print(type(e))"
   ]
  },
  {
   "cell_type": "code",
   "execution_count": 474,
   "id": "81f299cd-1940-479b-a998-74b93fc18fa4",
   "metadata": {},
   "outputs": [
    {
     "name": "stdout",
     "output_type": "stream",
     "text": [
      "0\n"
     ]
    }
   ],
   "source": [
    "print(len(e))"
   ]
  },
  {
   "cell_type": "code",
   "execution_count": 476,
   "id": "8c576c3a-dda9-47c7-8ee6-6020b6a9b2db",
   "metadata": {},
   "outputs": [],
   "source": [
    "# 'count'"
   ]
  },
  {
   "cell_type": "code",
   "execution_count": 478,
   "id": "a187fdef-2501-47f6-aed9-e0d52cb94708",
   "metadata": {},
   "outputs": [],
   "source": [
    "data = [2,2,2,2,3,3,3,3,3,3,3,4,4,4,4,5,556]"
   ]
  },
  {
   "cell_type": "code",
   "execution_count": 482,
   "id": "3cbc6b76-f57f-4122-82cc-c7092aa92cb7",
   "metadata": {},
   "outputs": [
    {
     "data": {
      "text/plain": [
       "0"
      ]
     },
     "execution_count": 482,
     "metadata": {},
     "output_type": "execute_result"
    }
   ],
   "source": [
    "data.count(12)"
   ]
  },
  {
   "cell_type": "code",
   "execution_count": null,
   "id": "8dc24d6a-4f1e-451c-9d94-f6ca1e5ba532",
   "metadata": {},
   "outputs": [],
   "source": []
  }
 ],
 "metadata": {
  "kernelspec": {
   "display_name": "Python [conda env:base] *",
   "language": "python",
   "name": "conda-base-py"
  },
  "language_info": {
   "codemirror_mode": {
    "name": "ipython",
    "version": 3
   },
   "file_extension": ".py",
   "mimetype": "text/x-python",
   "name": "python",
   "nbconvert_exporter": "python",
   "pygments_lexer": "ipython3",
   "version": "3.12.7"
  }
 },
 "nbformat": 4,
 "nbformat_minor": 5
}
