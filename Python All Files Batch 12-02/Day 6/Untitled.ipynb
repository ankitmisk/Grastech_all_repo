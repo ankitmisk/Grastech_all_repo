{
 "cells": [
  {
   "cell_type": "code",
   "execution_count": 2,
   "id": "e1384f89-b299-4218-9575-a54226502afe",
   "metadata": {},
   "outputs": [],
   "source": [
    "# Raw data:- facts, fugures, info"
   ]
  },
  {
   "cell_type": "code",
   "execution_count": 4,
   "id": "c58e41b7-6ba5-4065-a27b-e251972de915",
   "metadata": {},
   "outputs": [],
   "source": [
    "# raw data into conclusion"
   ]
  },
  {
   "cell_type": "code",
   "execution_count": 6,
   "id": "ae4aa3bb-4d26-4402-81c0-cc4f3ffb2736",
   "metadata": {},
   "outputs": [],
   "source": [
    "# data Analyst:- EDA:- explorartory data analysis"
   ]
  },
  {
   "cell_type": "code",
   "execution_count": 8,
   "id": "46b33ec1-ec48-4cf1-84b1-51e344f108ae",
   "metadata": {},
   "outputs": [],
   "source": [
    "# data analyst\n",
    "# data scientist"
   ]
  },
  {
   "cell_type": "code",
   "execution_count": 10,
   "id": "e54038c6-6667-4c29-9859-5a3e7222f612",
   "metadata": {},
   "outputs": [],
   "source": [
    "# data:- excel:- 10 lakhs:- 10,485,76\n",
    "# data analyst\n",
    "\n",
    "# pathologist:- blood sample:- analysis:- chemical:- report"
   ]
  },
  {
   "cell_type": "code",
   "execution_count": 12,
   "id": "d396d871-a0c3-4f3c-bb0c-9e005d9b03b5",
   "metadata": {},
   "outputs": [],
   "source": [
    "# pat:- medicine"
   ]
  },
  {
   "cell_type": "code",
   "execution_count": 14,
   "id": "8ad369e7-0147-4090-8c59-61aabc420f44",
   "metadata": {},
   "outputs": [],
   "source": [
    "# doctor:- "
   ]
  },
  {
   "cell_type": "code",
   "execution_count": 16,
   "id": "146c6636-efe6-4d0f-9e4b-5c2894871908",
   "metadata": {},
   "outputs": [],
   "source": [
    "# data analyst:- sample data\n",
    "# tools:- excel, sql, powerBI, "
   ]
  },
  {
   "cell_type": "code",
   "execution_count": 20,
   "id": "7b5aca5e-4e42-4fb6-8b67-d4d5020c258a",
   "metadata": {},
   "outputs": [],
   "source": [
    "# sql:- databases:- table:- kitna:- pocket size"
   ]
  },
  {
   "cell_type": "code",
   "execution_count": 22,
   "id": "6605a163-5815-4491-95fe-d7426fae468b",
   "metadata": {},
   "outputs": [],
   "source": [
    "# Premium data analyst:- coding:-"
   ]
  },
  {
   "cell_type": "code",
   "execution_count": 24,
   "id": "aefd46d1-e7b9-4d3e-8dff-d88c0f1b4cad",
   "metadata": {},
   "outputs": [],
   "source": [
    "# data analyst:- coding"
   ]
  },
  {
   "cell_type": "code",
   "execution_count": 26,
   "id": "e810bfcf-bcf8-4902-9343-49bd4070eff6",
   "metadata": {},
   "outputs": [],
   "source": [
    "# python:- easy, scallable, \n",
    "\n",
    "# modules:- Pandas\n",
    "# Numpy:- complex cal\n",
    "# matplotlib\n",
    "# seaborn"
   ]
  },
  {
   "cell_type": "code",
   "execution_count": 28,
   "id": "1bd59014-0e62-4f84-bb7b-48fc98672d55",
   "metadata": {},
   "outputs": [],
   "source": [
    "# stats:- avg, min, max, max, min"
   ]
  },
  {
   "cell_type": "code",
   "execution_count": 32,
   "id": "4a730b4d-ee06-48ce-a0d4-1a231173429f",
   "metadata": {},
   "outputs": [],
   "source": [
    "# Data Analyst:-\n",
    "# Excel, Sql, powerBI, Python, Pandas, Matplotlib, seaborn, stats"
   ]
  },
  {
   "cell_type": "code",
   "execution_count": 34,
   "id": "cbb756e5-8061-477d-9632-5382cd55cf7c",
   "metadata": {},
   "outputs": [],
   "source": [
    "# HR analyst\n",
    "# Python + pandas, numpy matplot seaborn, powerbi sql= DA\n",
    "# Python + ML = DS\n",
    "# Python + Django = website\n",
    "# python + pygame module = Game\n"
   ]
  },
  {
   "cell_type": "code",
   "execution_count": 36,
   "id": "fa25ac5e-8f73-4654-848b-6f1801f8e57a",
   "metadata": {},
   "outputs": [],
   "source": [
    "import calendar"
   ]
  },
  {
   "cell_type": "code",
   "execution_count": 38,
   "id": "e7863041-e1c9-4666-96f4-e1cb8b6d326c",
   "metadata": {},
   "outputs": [
    {
     "name": "stdout",
     "output_type": "stream",
     "text": [
      "                                  2025\n",
      "\n",
      "      January                   February                   March\n",
      "Mo Tu We Th Fr Sa Su      Mo Tu We Th Fr Sa Su      Mo Tu We Th Fr Sa Su\n",
      "       1  2  3  4  5                      1  2                      1  2\n",
      " 6  7  8  9 10 11 12       3  4  5  6  7  8  9       3  4  5  6  7  8  9\n",
      "13 14 15 16 17 18 19      10 11 12 13 14 15 16      10 11 12 13 14 15 16\n",
      "20 21 22 23 24 25 26      17 18 19 20 21 22 23      17 18 19 20 21 22 23\n",
      "27 28 29 30 31            24 25 26 27 28            24 25 26 27 28 29 30\n",
      "                                                    31\n",
      "\n",
      "       April                      May                       June\n",
      "Mo Tu We Th Fr Sa Su      Mo Tu We Th Fr Sa Su      Mo Tu We Th Fr Sa Su\n",
      "    1  2  3  4  5  6                1  2  3  4                         1\n",
      " 7  8  9 10 11 12 13       5  6  7  8  9 10 11       2  3  4  5  6  7  8\n",
      "14 15 16 17 18 19 20      12 13 14 15 16 17 18       9 10 11 12 13 14 15\n",
      "21 22 23 24 25 26 27      19 20 21 22 23 24 25      16 17 18 19 20 21 22\n",
      "28 29 30                  26 27 28 29 30 31         23 24 25 26 27 28 29\n",
      "                                                    30\n",
      "\n",
      "        July                     August                  September\n",
      "Mo Tu We Th Fr Sa Su      Mo Tu We Th Fr Sa Su      Mo Tu We Th Fr Sa Su\n",
      "    1  2  3  4  5  6                   1  2  3       1  2  3  4  5  6  7\n",
      " 7  8  9 10 11 12 13       4  5  6  7  8  9 10       8  9 10 11 12 13 14\n",
      "14 15 16 17 18 19 20      11 12 13 14 15 16 17      15 16 17 18 19 20 21\n",
      "21 22 23 24 25 26 27      18 19 20 21 22 23 24      22 23 24 25 26 27 28\n",
      "28 29 30 31               25 26 27 28 29 30 31      29 30\n",
      "\n",
      "      October                   November                  December\n",
      "Mo Tu We Th Fr Sa Su      Mo Tu We Th Fr Sa Su      Mo Tu We Th Fr Sa Su\n",
      "       1  2  3  4  5                      1  2       1  2  3  4  5  6  7\n",
      " 6  7  8  9 10 11 12       3  4  5  6  7  8  9       8  9 10 11 12 13 14\n",
      "13 14 15 16 17 18 19      10 11 12 13 14 15 16      15 16 17 18 19 20 21\n",
      "20 21 22 23 24 25 26      17 18 19 20 21 22 23      22 23 24 25 26 27 28\n",
      "27 28 29 30 31            24 25 26 27 28 29 30      29 30 31\n",
      "\n"
     ]
    }
   ],
   "source": [
    "print(calendar.calendar(2025))"
   ]
  },
  {
   "cell_type": "code",
   "execution_count": 40,
   "id": "da25650d-3aaa-426d-b81f-57ebc939b821",
   "metadata": {},
   "outputs": [],
   "source": [
    "import matplotlib.pyplot as plt"
   ]
  },
  {
   "cell_type": "code",
   "execution_count": 42,
   "id": "61a76327-4b10-4ac6-b0d3-4665b6860b2b",
   "metadata": {},
   "outputs": [],
   "source": [
    "sharks = ['piyush','ashneer','anupam','aman']\n",
    "invest = [23423,34535,34643,43643]"
   ]
  },
  {
   "cell_type": "code",
   "execution_count": 44,
   "id": "793b8368-5292-41a4-a5cf-f53195d2d505",
   "metadata": {},
   "outputs": [],
   "source": [
    "import pandas as pd"
   ]
  },
  {
   "cell_type": "code",
   "execution_count": 50,
   "id": "20fac6f1-f651-44ae-a5bb-45b0cc187edf",
   "metadata": {},
   "outputs": [],
   "source": [
    "table = pd.DataFrame({'Sharks_Name':sharks,'Amount Invested':invest})"
   ]
  },
  {
   "cell_type": "code",
   "execution_count": 52,
   "id": "d238b3df-710a-4be6-8bb7-8ca3c4577ccc",
   "metadata": {},
   "outputs": [
    {
     "data": {
      "text/html": [
       "<div>\n",
       "<style scoped>\n",
       "    .dataframe tbody tr th:only-of-type {\n",
       "        vertical-align: middle;\n",
       "    }\n",
       "\n",
       "    .dataframe tbody tr th {\n",
       "        vertical-align: top;\n",
       "    }\n",
       "\n",
       "    .dataframe thead th {\n",
       "        text-align: right;\n",
       "    }\n",
       "</style>\n",
       "<table border=\"1\" class=\"dataframe\">\n",
       "  <thead>\n",
       "    <tr style=\"text-align: right;\">\n",
       "      <th></th>\n",
       "      <th>Sharks_Name</th>\n",
       "      <th>Amount Invested</th>\n",
       "    </tr>\n",
       "  </thead>\n",
       "  <tbody>\n",
       "    <tr>\n",
       "      <th>0</th>\n",
       "      <td>piyush</td>\n",
       "      <td>23423</td>\n",
       "    </tr>\n",
       "    <tr>\n",
       "      <th>1</th>\n",
       "      <td>ashneer</td>\n",
       "      <td>34535</td>\n",
       "    </tr>\n",
       "    <tr>\n",
       "      <th>2</th>\n",
       "      <td>anupam</td>\n",
       "      <td>34643</td>\n",
       "    </tr>\n",
       "    <tr>\n",
       "      <th>3</th>\n",
       "      <td>aman</td>\n",
       "      <td>43643</td>\n",
       "    </tr>\n",
       "  </tbody>\n",
       "</table>\n",
       "</div>"
      ],
      "text/plain": [
       "  Sharks_Name  Amount Invested\n",
       "0      piyush            23423\n",
       "1     ashneer            34535\n",
       "2      anupam            34643\n",
       "3        aman            43643"
      ]
     },
     "execution_count": 52,
     "metadata": {},
     "output_type": "execute_result"
    }
   ],
   "source": [
    "table"
   ]
  },
  {
   "cell_type": "code",
   "execution_count": 62,
   "id": "9bdf18f3-bf32-44c7-ad8d-4dde58de39b5",
   "metadata": {},
   "outputs": [
    {
     "data": {
      "image/png": "[encoded data removed]",
      "text/plain": [
       "<Figure size 640x480 with 1 Axes>"
      ]
     },
     "metadata": {},
     "output_type": "display_data"
    }
   ],
   "source": [
    "plt.bar(sharks,invest,color = ['red','green','blue','yellow'],hatch = 'x')\n",
    "plt.title('Shark Tank India')\n",
    "plt.show()"
   ]
  },
  {
   "cell_type": "code",
   "execution_count": null,
   "id": "5c2cdcbb-65f7-489e-9938-bc875720d2a0",
   "metadata": {},
   "outputs": [],
   "source": []
  },
  {
   "cell_type": "code",
   "execution_count": 65,
   "id": "cd29f3c7-60f2-450b-a2b8-bd333b19fe06",
   "metadata": {},
   "outputs": [],
   "source": [
    "# Deep learning:- Neural Networks\n",
    "# ANN\n",
    "# CNN\n",
    "# RNN"
   ]
  },
  {
   "cell_type": "code",
   "execution_count": 67,
   "id": "f0899051-23be-41a8-b4ce-ff45e9e072a9",
   "metadata": {},
   "outputs": [],
   "source": [
    "# GENAI:- Generative AI"
   ]
  },
  {
   "cell_type": "code",
   "execution_count": 69,
   "id": "e8e58458-ef58-451c-afe6-166b80dae469",
   "metadata": {},
   "outputs": [],
   "source": [
    "# Chatgpt"
   ]
  },
  {
   "cell_type": "code",
   "execution_count": null,
   "id": "6c12c58d-4111-4596-a2b1-360dd9014dec",
   "metadata": {},
   "outputs": [],
   "source": []
  }
 ],
 "metadata": {
  "kernelspec": {
   "display_name": "Python [conda env:base] *",
   "language": "python",
   "name": "conda-base-py"
  },
  "language_info": {
   "codemirror_mode": {
    "name": "ipython",
    "version": 3
   },
   "file_extension": ".py",
   "mimetype": "text/x-python",
   "name": "python",
   "nbconvert_exporter": "python",
   "pygments_lexer": "ipython3",
   "version": "3.12.7"
  }
 },
 "nbformat": 4,
 "nbformat_minor": 5
}
