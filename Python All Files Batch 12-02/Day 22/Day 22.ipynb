{
 "cells": [
  {
   "cell_type": "markdown",
   "id": "f01270a7-033e-4013-b498-b4b02ad06057",
   "metadata": {},
   "source": [
    "# OOPS"
   ]
  },
  {
   "cell_type": "code",
   "execution_count": 2,
   "id": "62290845-17b7-426f-a0a1-4ef84c64249c",
   "metadata": {},
   "outputs": [],
   "source": [
    "# Object Oriented Programming"
   ]
  },
  {
   "cell_type": "code",
   "execution_count": 4,
   "id": "ff19dae4-b278-4a25-b908-6465a22d7655",
   "metadata": {},
   "outputs": [],
   "source": [
    "# Ek Software:- but:-  Multiple Objects"
   ]
  },
  {
   "cell_type": "code",
   "execution_count": 6,
   "id": "b3257b01-bd21-4813-83a9-66a9f25f53b7",
   "metadata": {},
   "outputs": [],
   "source": [
    "# C Language:- Procedural Programming\n",
    "# C++ = OOPS concepts features"
   ]
  },
  {
   "cell_type": "code",
   "execution_count": 8,
   "id": "304208cc-d918-4f9e-946c-50f9c267f8f6",
   "metadata": {},
   "outputs": [],
   "source": [
    "# Python:- OOPS"
   ]
  },
  {
   "cell_type": "code",
   "execution_count": 10,
   "id": "3b0468df-b76f-428c-a5d2-b657d4050569",
   "metadata": {},
   "outputs": [],
   "source": [
    "# Python is an open source Object Oriented General Purpose Programming Language\n",
    "# symentic in nature"
   ]
  },
  {
   "cell_type": "code",
   "execution_count": null,
   "id": "b86397b7-5f2b-44e4-9acf-b6b364ff4d0d",
   "metadata": {},
   "outputs": [],
   "source": [
    "# Free:-\n",
    "# Open Source:- Code mein contribute apna kucj code"
   ]
  },
  {
   "cell_type": "code",
   "execution_count": 12,
   "id": "e1921d8c-4b54-4d69-8474-dbfb931de1f6",
   "metadata": {},
   "outputs": [],
   "source": [
    "#  General Purpose:- Web development, Gaming, Software Devp, DA, DS, Hacking,"
   ]
  },
  {
   "cell_type": "code",
   "execution_count": 14,
   "id": "5d5ec6c4-5962-4bee-b832-ee7db721e56a",
   "metadata": {},
   "outputs": [],
   "source": [
    "# dynamic semantic:- no need of data type declaration"
   ]
  },
  {
   "cell_type": "code",
   "execution_count": 16,
   "id": "df02cf2a-533a-4d1f-bc30-322fedcbe0e4",
   "metadata": {},
   "outputs": [
    {
     "name": "stdout",
     "output_type": "stream",
     "text": [
      "<class 'int'>\n"
     ]
    }
   ],
   "source": [
    "a = 45\n",
    "print(type(a))"
   ]
  },
  {
   "cell_type": "code",
   "execution_count": 18,
   "id": "32c775bf-52a1-4953-a3d5-aa49fc45994c",
   "metadata": {},
   "outputs": [],
   "source": [
    "a = 'naman'"
   ]
  },
  {
   "cell_type": "code",
   "execution_count": 20,
   "id": "44bb39c7-bdf0-40e4-a1c3-79bd264b587c",
   "metadata": {},
   "outputs": [
    {
     "name": "stdout",
     "output_type": "stream",
     "text": [
      "<class 'str'>\n"
     ]
    }
   ],
   "source": [
    "print(type(a))"
   ]
  },
  {
   "cell_type": "code",
   "execution_count": 22,
   "id": "55264623-3c71-4daa-9a14-5cff67067617",
   "metadata": {},
   "outputs": [],
   "source": [
    "# int a = 45\n",
    "# print(a)"
   ]
  },
  {
   "cell_type": "code",
   "execution_count": 24,
   "id": "ee7f8687-0002-4668-9368-cc465048b90c",
   "metadata": {},
   "outputs": [
    {
     "name": "stdout",
     "output_type": "stream",
     "text": [
      "\n",
      "Here is a list of the Python keywords.  Enter any keyword to get more help.\n",
      "\n",
      "False               class               from                or\n",
      "None                continue            global              pass\n",
      "True                def                 if                  raise\n",
      "and                 del                 import              return\n",
      "as                  elif                in                  try\n",
      "assert              else                is                  while\n",
      "async               except              lambda              with\n",
      "await               finally             nonlocal            yield\n",
      "break               for                 not                 \n",
      "\n"
     ]
    }
   ],
   "source": [
    "help('keywords')"
   ]
  },
  {
   "cell_type": "code",
   "execution_count": 26,
   "id": "6f9f1880-05f8-4245-8667-58cd65581e71",
   "metadata": {},
   "outputs": [],
   "source": [
    "# Python mein aap jo bhi left side mein variable:- but unhi ko object kahenge"
   ]
  },
  {
   "cell_type": "code",
   "execution_count": 28,
   "id": "5d4c5dee-74d0-43b5-94bf-0e51b878774b",
   "metadata": {},
   "outputs": [],
   "source": [
    "a = 'harry'"
   ]
  },
  {
   "cell_type": "code",
   "execution_count": 30,
   "id": "803f0e23-bb52-49ce-9ac0-8cad2c595a8f",
   "metadata": {},
   "outputs": [],
   "source": [
    "a = 56"
   ]
  },
  {
   "cell_type": "code",
   "execution_count": 32,
   "id": "3794e322-eac2-42d4-8afe-7b5f4ad96bd3",
   "metadata": {},
   "outputs": [],
   "source": [
    "a  = [34,656,78]"
   ]
  },
  {
   "cell_type": "code",
   "execution_count": 34,
   "id": "c0b87e5d-cbe6-4591-be1a-7d05c6346e05",
   "metadata": {},
   "outputs": [
    {
     "data": {
      "text/plain": [
       "list"
      ]
     },
     "execution_count": 34,
     "metadata": {},
     "output_type": "execute_result"
    }
   ],
   "source": [
    "type(a)"
   ]
  },
  {
   "cell_type": "code",
   "execution_count": 36,
   "id": "cb86ed53-af28-4c6c-8fb1-2ae55b733298",
   "metadata": {},
   "outputs": [
    {
     "name": "stdout",
     "output_type": "stream",
     "text": [
      "<class 'list'>\n"
     ]
    }
   ],
   "source": [
    "print(type(a))"
   ]
  },
  {
   "cell_type": "code",
   "execution_count": 38,
   "id": "4e634b41-0da4-423b-9e52-8e80018add12",
   "metadata": {},
   "outputs": [],
   "source": [
    "# har object kisi na kisi class se belong karega"
   ]
  },
  {
   "cell_type": "code",
   "execution_count": 40,
   "id": "7b0bf0d3-0875-4801-b712-602a75099f4d",
   "metadata": {},
   "outputs": [
    {
     "name": "stdout",
     "output_type": "stream",
     "text": [
      "<class 'int'>\n"
     ]
    }
   ],
   "source": [
    "a = 354\n",
    "print(type(a))"
   ]
  },
  {
   "cell_type": "code",
   "execution_count": 42,
   "id": "c0358325-ee92-4ff5-a257-101319fe1e65",
   "metadata": {},
   "outputs": [
    {
     "name": "stdout",
     "output_type": "stream",
     "text": [
      "<class 'str'>\n"
     ]
    }
   ],
   "source": [
    "a = 'Harry'\n",
    "print(type(a))"
   ]
  },
  {
   "cell_type": "code",
   "execution_count": 44,
   "id": "a9146970-086d-4654-b68f-9d2618b0105c",
   "metadata": {},
   "outputs": [
    {
     "name": "stdout",
     "output_type": "stream",
     "text": [
      "<class 'tuple'>\n"
     ]
    }
   ],
   "source": [
    "a = (23,56)\n",
    "print(type(a))"
   ]
  },
  {
   "cell_type": "code",
   "execution_count": 46,
   "id": "fc90ddc1-8210-4290-8a8e-33e9b331a01c",
   "metadata": {},
   "outputs": [
    {
     "name": "stdout",
     "output_type": "stream",
     "text": [
      "<class 'set'>\n"
     ]
    }
   ],
   "source": [
    "a = {2,34356,57}\n",
    "print(type(a))"
   ]
  },
  {
   "cell_type": "code",
   "execution_count": 48,
   "id": "b1ad94bc-171f-4bbd-b219-d409b0f40212",
   "metadata": {},
   "outputs": [
    {
     "name": "stdout",
     "output_type": "stream",
     "text": [
      "<class 'list'>\n"
     ]
    }
   ],
   "source": [
    "a = [234,5657]\n",
    "print(type(a))"
   ]
  },
  {
   "cell_type": "code",
   "execution_count": 50,
   "id": "ae698cec-32e7-4c34-8f1e-34db6f8bc0fc",
   "metadata": {},
   "outputs": [
    {
     "name": "stdout",
     "output_type": "stream",
     "text": [
      "<class 'dict'>\n"
     ]
    }
   ],
   "source": [
    "a = {'a':'a'}\n",
    "print(type(a))"
   ]
  },
  {
   "cell_type": "code",
   "execution_count": 54,
   "id": "249ccde8-95be-41a5-8e4b-5e1b79b41f78",
   "metadata": {},
   "outputs": [
    {
     "name": "stdout",
     "output_type": "stream",
     "text": [
      "<class 'bool'>\n"
     ]
    }
   ],
   "source": [
    "a = True\n",
    "print(type(a))"
   ]
  },
  {
   "cell_type": "code",
   "execution_count": 56,
   "id": "09084749-4da3-4f15-bd4a-aee96a128750",
   "metadata": {},
   "outputs": [
    {
     "name": "stdout",
     "output_type": "stream",
     "text": [
      "<class 'complex'>\n"
     ]
    }
   ],
   "source": [
    "a = 45-9j\n",
    "print(type(a))"
   ]
  },
  {
   "cell_type": "code",
   "execution_count": 58,
   "id": "244074eb-3bd3-4bf8-a6c8-6756200fcdee",
   "metadata": {},
   "outputs": [
    {
     "name": "stdout",
     "output_type": "stream",
     "text": [
      "<class 'float'>\n"
     ]
    }
   ],
   "source": [
    "a = 354.34\n",
    "print(type(a))"
   ]
  },
  {
   "cell_type": "code",
   "execution_count": 60,
   "id": "d775c340-8e54-4de8-96ee-06e43178e77c",
   "metadata": {},
   "outputs": [
    {
     "name": "stdout",
     "output_type": "stream",
     "text": [
      "<class 'NoneType'>\n"
     ]
    }
   ],
   "source": [
    "a = None\n",
    "print(type(a))"
   ]
  },
  {
   "cell_type": "code",
   "execution_count": 63,
   "id": "4848d185-c448-4b49-a29f-045914b01dac",
   "metadata": {},
   "outputs": [],
   "source": [
    "a = 'harry'"
   ]
  },
  {
   "cell_type": "code",
   "execution_count": 65,
   "id": "90193b7d-5934-4379-a88c-bf9aa3f24462",
   "metadata": {},
   "outputs": [
    {
     "data": {
      "text/plain": [
       "'HARRY'"
      ]
     },
     "execution_count": 65,
     "metadata": {},
     "output_type": "execute_result"
    }
   ],
   "source": [
    "a.upper()"
   ]
  },
  {
   "cell_type": "code",
   "execution_count": 67,
   "id": "dec23894-b292-47d6-b7f7-8dc592deed05",
   "metadata": {},
   "outputs": [],
   "source": [
    "a = [34,5,67]"
   ]
  },
  {
   "cell_type": "code",
   "execution_count": 69,
   "id": "2f3d8ba6-c5dc-4f52-a0e8-1097d38f9f4d",
   "metadata": {},
   "outputs": [],
   "source": [
    "a.append(3456)"
   ]
  },
  {
   "cell_type": "code",
   "execution_count": 71,
   "id": "455eac72-0500-46c4-a81f-84d38040289a",
   "metadata": {},
   "outputs": [
    {
     "data": {
      "text/plain": [
       "[34, 5, 67, 3456]"
      ]
     },
     "execution_count": 71,
     "metadata": {},
     "output_type": "execute_result"
    }
   ],
   "source": [
    "a"
   ]
  },
  {
   "cell_type": "code",
   "execution_count": null,
   "id": "3f24913d-e022-4541-ae8b-fde5f17c777f",
   "metadata": {},
   "outputs": [],
   "source": []
  },
  {
   "cell_type": "code",
   "execution_count": 76,
   "id": "81237e16-0a13-46bb-af72-f577ddc532ff",
   "metadata": {},
   "outputs": [],
   "source": [
    "# Software\n",
    "#     Packages\n",
    "#         Libraries\n",
    "#             Modules\n",
    "#                 Class Programming\n",
    "#                     Functional Programming def\n",
    "#                         Conditional Programming"
   ]
  },
  {
   "cell_type": "code",
   "execution_count": 78,
   "id": "5ca853c0-d55c-4c4f-965a-03d4f240e73f",
   "metadata": {},
   "outputs": [],
   "source": [
    "# class Prime_Minister:\n",
    "    "
   ]
  },
  {
   "cell_type": "code",
   "execution_count": 163,
   "id": "e4b6c762-ce91-4750-a304-05ab7e783346",
   "metadata": {},
   "outputs": [],
   "source": [
    "class Remote:\n",
    "\n",
    "    def tv_on(self):\n",
    "        print('Your TV in ON!!')\n",
    "\n",
    "    def tv_off(self):\n",
    "        print('Your TV in OFF!!')\n",
    "\n",
    "    def volume_up(self,kitna):\n",
    "        print(f'Volume has been up by {kitna} unit')\n",
    "        \n",
    "    def volume_down(self,kitna):\n",
    "        print(f'Volume has been down by {kitna} unit')\n",
    "\n",
    "    def forward_channel(self):\n",
    "        print('Channel Forward Successfully!!')\n",
    "\n",
    "    def backward_channel(self):\n",
    "        print('Channel backward Successfully!!')"
   ]
  },
  {
   "cell_type": "code",
   "execution_count": 165,
   "id": "9bc4633b-0736-43d2-81bd-500f962be375",
   "metadata": {},
   "outputs": [],
   "source": [
    "mi_remote = Remote()"
   ]
  },
  {
   "cell_type": "code",
   "execution_count": 167,
   "id": "042f6958-2d74-4372-9096-eb55cf01c25f",
   "metadata": {},
   "outputs": [],
   "source": [
    "# mi_remote :- ye ek object hai : class Remote"
   ]
  },
  {
   "cell_type": "code",
   "execution_count": 169,
   "id": "61b19b54-c48a-45e6-af7d-b6fbfe5f952e",
   "metadata": {},
   "outputs": [
    {
     "name": "stdout",
     "output_type": "stream",
     "text": [
      "<class '__main__.Remote'>\n"
     ]
    }
   ],
   "source": [
    "print(type(mi_remote))"
   ]
  },
  {
   "cell_type": "code",
   "execution_count": 171,
   "id": "38a7fa50-21ed-4cb7-8716-0be38fd411df",
   "metadata": {},
   "outputs": [
    {
     "data": {
      "text/plain": [
       "<__main__.Remote at 0x15c30c58dd0>"
      ]
     },
     "execution_count": 171,
     "metadata": {},
     "output_type": "execute_result"
    }
   ],
   "source": [
    "mi_remote"
   ]
  },
  {
   "cell_type": "code",
   "execution_count": 173,
   "id": "bf31085f-be99-4a37-8dc4-328c637dd5eb",
   "metadata": {},
   "outputs": [],
   "source": [
    "sony_remote = Remote()"
   ]
  },
  {
   "cell_type": "code",
   "execution_count": 175,
   "id": "da795aea-d6cf-46a0-8f32-8121c17c04b8",
   "metadata": {},
   "outputs": [
    {
     "data": {
      "text/plain": [
       "<__main__.Remote at 0x15c2f4555b0>"
      ]
     },
     "execution_count": 175,
     "metadata": {},
     "output_type": "execute_result"
    }
   ],
   "source": [
    "sony_remote"
   ]
  },
  {
   "cell_type": "code",
   "execution_count": 177,
   "id": "5ae8d30c-1a00-4764-b119-9392712d37cf",
   "metadata": {},
   "outputs": [],
   "source": [
    "samsung_re = Remote()"
   ]
  },
  {
   "cell_type": "code",
   "execution_count": 179,
   "id": "31c3d242-4f1c-431e-b4cb-45fa5a336f69",
   "metadata": {},
   "outputs": [
    {
     "data": {
      "text/plain": [
       "<__main__.Remote at 0x15c30a5d490>"
      ]
     },
     "execution_count": 179,
     "metadata": {},
     "output_type": "execute_result"
    }
   ],
   "source": [
    "samsung_re\n",
    "# instance"
   ]
  },
  {
   "cell_type": "code",
   "execution_count": 181,
   "id": "80876fb0-3aa4-4e97-83af-1445bcc7b212",
   "metadata": {},
   "outputs": [],
   "source": [
    "a = Remote()"
   ]
  },
  {
   "cell_type": "code",
   "execution_count": 183,
   "id": "1f603a88-a1db-479d-b9f3-9072fabc79b0",
   "metadata": {},
   "outputs": [
    {
     "name": "stdout",
     "output_type": "stream",
     "text": [
      "Your TV in ON!!\n"
     ]
    }
   ],
   "source": [
    "a.tv_on()"
   ]
  },
  {
   "cell_type": "code",
   "execution_count": 184,
   "id": "e41666f1-9e4f-43b4-a3ea-d628d1d2991e",
   "metadata": {},
   "outputs": [
    {
     "name": "stdout",
     "output_type": "stream",
     "text": [
      "Channel Forward Successfully!!\n"
     ]
    }
   ],
   "source": [
    "a.forward_channel()"
   ]
  },
  {
   "cell_type": "code",
   "execution_count": 185,
   "id": "f7dc80cf-7ebd-485c-b0e9-e3f53dda0521",
   "metadata": {},
   "outputs": [
    {
     "name": "stdout",
     "output_type": "stream",
     "text": [
      "Your TV in OFF!!\n"
     ]
    }
   ],
   "source": [
    "a.tv_off()"
   ]
  },
  {
   "cell_type": "code",
   "execution_count": 187,
   "id": "435684c2-a26f-431b-8abd-8e7841268785",
   "metadata": {},
   "outputs": [
    {
     "name": "stdout",
     "output_type": "stream",
     "text": [
      "Your TV in ON!!\n"
     ]
    }
   ],
   "source": [
    "a.tv_on()"
   ]
  },
  {
   "cell_type": "code",
   "execution_count": 190,
   "id": "5318129f-6fb2-43fa-8fa7-bec88e55d69e",
   "metadata": {},
   "outputs": [
    {
     "name": "stdout",
     "output_type": "stream",
     "text": [
      "Volume has been down by 20 unit\n"
     ]
    }
   ],
   "source": [
    "a.volume_down(20)"
   ]
  },
  {
   "cell_type": "code",
   "execution_count": 192,
   "id": "2e796b2b-34a1-4a34-b20e-b359bd5d4fb5",
   "metadata": {},
   "outputs": [
    {
     "name": "stdout",
     "output_type": "stream",
     "text": [
      "Volume has been up by 10 unit\n"
     ]
    }
   ],
   "source": [
    "a.volume_up(10)"
   ]
  },
  {
   "cell_type": "code",
   "execution_count": 193,
   "id": "768c23f9-aa3f-4383-97f0-3a8ba7f8b7c0",
   "metadata": {},
   "outputs": [
    {
     "name": "stdout",
     "output_type": "stream",
     "text": [
      "Channel backward Successfully!!\n"
     ]
    }
   ],
   "source": [
    "a.backward_channel()"
   ]
  },
  {
   "cell_type": "code",
   "execution_count": null,
   "id": "6437ea38-f044-42d0-a0d9-d9f5ccc0a47d",
   "metadata": {},
   "outputs": [],
   "source": []
  },
  {
   "cell_type": "code",
   "execution_count": 199,
   "id": "4753c29e-5d81-4c23-8e09-7f87d5e761f6",
   "metadata": {},
   "outputs": [
    {
     "name": "stdout",
     "output_type": "stream",
     "text": [
      "Your TV in ON!!\n"
     ]
    }
   ],
   "source": [
    "mi_remote.tv_on()"
   ]
  },
  {
   "cell_type": "code",
   "execution_count": 201,
   "id": "2a16176c-f706-4de8-a06e-b12e55a28530",
   "metadata": {},
   "outputs": [
    {
     "name": "stdout",
     "output_type": "stream",
     "text": [
      "Volume has been down by 100 unit\n"
     ]
    }
   ],
   "source": [
    "samsung_re.volume_down(100)"
   ]
  },
  {
   "cell_type": "code",
   "execution_count": 1,
   "id": "46fbf804-085a-4781-96cc-558bb6416c7c",
   "metadata": {},
   "outputs": [],
   "source": [
    "class Prime_Minister:\n",
    "    \n",
    "    def defence_decision(self):\n",
    "        print('I can take Decision for Defence related')\n",
    "\n",
    "    def Lockdown_declare(self,kya_kare = False):\n",
    "        if kya_kare == True:\n",
    "            print('Lockdown Lag Gaya')\n",
    "        else:\n",
    "            print('No Lockdown!!')\n",
    "\n",
    "    def attack(self,bomb_type = None):\n",
    "        if bomb_type is not None:\n",
    "            print('Attack Has been Start!!')\n",
    "            print('🚀💣🧨')\n",
    "            import pygame, time\n",
    "            pygame.init()\n",
    "            music = pygame.mixer.Sound(r\"C:\\Users\\salma\\Downloads\\nuclear-explosion-63470.mp3\")\n",
    "            music.play()\n",
    "            time.sleep(3)\n",
    "            music = pygame.mixer.Sound(r\"C:\\Users\\salma\\Downloads\\bella_ciao_bhojpuri.mp3\")\n",
    "            music.play()\n",
    "        else:\n",
    "            print('No Such Attack!!')"
   ]
  },
  {
   "cell_type": "code",
   "execution_count": 3,
   "id": "50b0401b-5bc3-42b7-b445-b2386450bbf0",
   "metadata": {},
   "outputs": [
    {
     "name": "stdout",
     "output_type": "stream",
     "text": [
      "pygame 2.6.1 (SDL 2.28.4, Python 3.12.7)\n",
      "Hello from the pygame community. https://www.pygame.org/contribute.html\n"
     ]
    }
   ],
   "source": [
    "import pygame, time"
   ]
  },
  {
   "cell_type": "code",
   "execution_count": 5,
   "id": "1b2c78fd-6d13-4d53-9272-07e721d68c6c",
   "metadata": {},
   "outputs": [],
   "source": [
    "godi_ji = Prime_Minister()"
   ]
  },
  {
   "cell_type": "code",
   "execution_count": 7,
   "id": "a147ae2c-623e-4e08-813b-e23b13b9abb8",
   "metadata": {},
   "outputs": [
    {
     "name": "stdout",
     "output_type": "stream",
     "text": [
      "No Such Attack!!\n"
     ]
    }
   ],
   "source": [
    "godi_ji.attack()"
   ]
  },
  {
   "cell_type": "code",
   "execution_count": 9,
   "id": "91d7c66a-ec77-4c1f-8068-cc2cc37423fa",
   "metadata": {},
   "outputs": [
    {
     "name": "stdout",
     "output_type": "stream",
     "text": [
      "Attack Has been Start!!\n",
      "🚀💣🧨\n"
     ]
    }
   ],
   "source": [
    "godi_ji.attack(True)"
   ]
  },
  {
   "cell_type": "code",
   "execution_count": 233,
   "id": "ff6cafcb-57a7-4c30-9e2e-9d19bd344125",
   "metadata": {},
   "outputs": [],
   "source": [
    "lalu_ji = Prime_Minister()"
   ]
  },
  {
   "cell_type": "code",
   "execution_count": 237,
   "id": "8555e6ee-2dac-4940-8389-10892beecdad",
   "metadata": {},
   "outputs": [
    {
     "name": "stdout",
     "output_type": "stream",
     "text": [
      "Attack Has been Start!!\n",
      "🚀💣🧨\n"
     ]
    }
   ],
   "source": [
    "lalu_ji.attack('Done')"
   ]
  },
  {
   "cell_type": "code",
   "execution_count": null,
   "id": "5fb8e10b-ec88-43f1-8fd1-e3ebf3cf3017",
   "metadata": {},
   "outputs": [],
   "source": []
  }
 ],
 "metadata": {
  "kernelspec": {
   "display_name": "Python [conda env:base] *",
   "language": "python",
   "name": "conda-base-py"
  },
  "language_info": {
   "codemirror_mode": {
    "name": "ipython",
    "version": 3
   },
   "file_extension": ".py",
   "mimetype": "text/x-python",
   "name": "python",
   "nbconvert_exporter": "python",
   "pygments_lexer": "ipython3",
   "version": "3.12.7"
  }
 },
 "nbformat": 4,
 "nbformat_minor": 5
}
