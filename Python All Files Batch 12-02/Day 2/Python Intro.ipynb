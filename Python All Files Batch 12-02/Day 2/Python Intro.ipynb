{
 "cells": [
  {
   "cell_type": "markdown",
   "id": "c73947d2-7950-4578-8eb3-1e25323ba57f",
   "metadata": {},
   "source": [
    "# Data Types in Python"
   ]
  },
  {
   "cell_type": "code",
   "execution_count": 4,
   "id": "1f56538b-a5de-4573-b34d-e62702bbfba2",
   "metadata": {},
   "outputs": [],
   "source": [
    "# # Numerical Data Type\n",
    "# 1. Int:-\n",
    "# 2. Float -- Decimal\n",
    "# 3. Complex"
   ]
  },
  {
   "cell_type": "code",
   "execution_count": 6,
   "id": "74423cf2-b083-4aa6-8f22-facd93f540ad",
   "metadata": {},
   "outputs": [
    {
     "name": "stdout",
     "output_type": "stream",
     "text": [
      "23\n"
     ]
    }
   ],
   "source": [
    "age = 23\n",
    "print(age)"
   ]
  },
  {
   "cell_type": "code",
   "execution_count": 8,
   "id": "90d98d85-c6bf-4438-a192-112bfa8aadf3",
   "metadata": {},
   "outputs": [],
   "source": [
    "# age -- variable\n",
    "# = - Operator\n",
    "# 23 - value"
   ]
  },
  {
   "cell_type": "code",
   "execution_count": 10,
   "id": "cccc78bd-f616-4463-b8e1-dbb9870a8623",
   "metadata": {},
   "outputs": [
    {
     "data": {
      "text/plain": [
       "int"
      ]
     },
     "execution_count": 10,
     "metadata": {},
     "output_type": "execute_result"
    }
   ],
   "source": [
    "type(age)"
   ]
  },
  {
   "cell_type": "code",
   "execution_count": 12,
   "id": "6c1b61cd-bcc1-4d52-b292-047a57813519",
   "metadata": {},
   "outputs": [
    {
     "name": "stdout",
     "output_type": "stream",
     "text": [
      "<class 'int'>\n"
     ]
    }
   ],
   "source": [
    "print(type(age))"
   ]
  },
  {
   "cell_type": "code",
   "execution_count": 18,
   "id": "35c90dc4-4f25-43e0-a536-4e5c37bb634b",
   "metadata": {},
   "outputs": [],
   "source": [
    "# - integer :- - value to + ve"
   ]
  },
  {
   "cell_type": "code",
   "execution_count": 20,
   "id": "eeab7be8-6937-4cb4-a938-4a0b324393e1",
   "metadata": {},
   "outputs": [],
   "source": [
    "# shortcut :-Shift + Enter"
   ]
  },
  {
   "cell_type": "code",
   "execution_count": 22,
   "id": "8c12fe62-2390-43bd-9115-d07e63317ddd",
   "metadata": {},
   "outputs": [
    {
     "name": "stdout",
     "output_type": "stream",
     "text": [
      "-34567\n",
      "4567\n"
     ]
    }
   ],
   "source": [
    "loss = -34567\n",
    "\n",
    "profit = 4567\n",
    "\n",
    "print(loss)\n",
    "print(profit)"
   ]
  },
  {
   "cell_type": "code",
   "execution_count": 24,
   "id": "247d549b-ba3f-4b19-a075-ec47993a732f",
   "metadata": {},
   "outputs": [
    {
     "name": "stdout",
     "output_type": "stream",
     "text": [
      "<class 'int'>\n"
     ]
    }
   ],
   "source": [
    "print(type(loss))"
   ]
  },
  {
   "cell_type": "code",
   "execution_count": 26,
   "id": "90e5f4fc-a687-4b55-a318-7a7192cdf2b1",
   "metadata": {},
   "outputs": [
    {
     "name": "stdout",
     "output_type": "stream",
     "text": [
      "<class 'int'>\n"
     ]
    }
   ],
   "source": [
    "print(type(profit))"
   ]
  },
  {
   "cell_type": "code",
   "execution_count": 35,
   "id": "af814871-d0d2-4de6-a412-cc68ca142e3f",
   "metadata": {},
   "outputs": [
    {
     "name": "stdout",
     "output_type": "stream",
     "text": [
      "-3446.346\n"
     ]
    }
   ],
   "source": [
    "salary = -3446.346\n",
    "\n",
    "print(salary)"
   ]
  },
  {
   "cell_type": "code",
   "execution_count": 37,
   "id": "637c4d10-6f3e-4f21-ad3d-66652cf2b5ae",
   "metadata": {},
   "outputs": [
    {
     "name": "stdout",
     "output_type": "stream",
     "text": [
      "<class 'float'>\n"
     ]
    }
   ],
   "source": [
    "print(type(salary))"
   ]
  },
  {
   "cell_type": "code",
   "execution_count": 32,
   "id": "e33fc02a-6aac-4450-8f54-55ddd2ac8768",
   "metadata": {},
   "outputs": [
    {
     "name": "stdout",
     "output_type": "stream",
     "text": [
      "<class 'int'>\n"
     ]
    }
   ],
   "source": [
    "salary = 3456\n",
    "\n",
    "print(type(salary))"
   ]
  },
  {
   "cell_type": "code",
   "execution_count": null,
   "id": "b56cacad-ed84-4bbd-9272-ce51893787f6",
   "metadata": {},
   "outputs": [],
   "source": []
  },
  {
   "cell_type": "code",
   "execution_count": 39,
   "id": "51c880d8-e75e-4b4a-9d39-52471c9a4484",
   "metadata": {},
   "outputs": [],
   "source": [
    "# complex:- imag + real"
   ]
  },
  {
   "cell_type": "code",
   "execution_count": 43,
   "id": "d1eb28cf-3834-4338-af22-6ef8fdcd5877",
   "metadata": {},
   "outputs": [
    {
     "name": "stdout",
     "output_type": "stream",
     "text": [
      "(13+8j)\n"
     ]
    }
   ],
   "source": [
    "data = 13 + 8j\n",
    "print(data)"
   ]
  },
  {
   "cell_type": "code",
   "execution_count": 46,
   "id": "3fc21131-5b9d-4889-86ac-f01716f15ce5",
   "metadata": {},
   "outputs": [
    {
     "name": "stdout",
     "output_type": "stream",
     "text": [
      "<class 'complex'>\n"
     ]
    }
   ],
   "source": [
    "print(type(data))"
   ]
  },
  {
   "cell_type": "code",
   "execution_count": 62,
   "id": "90692edd-26f8-4ab7-8fe4-e25edb5cab4e",
   "metadata": {},
   "outputs": [
    {
     "name": "stdout",
     "output_type": "stream",
     "text": [
      "8j\n"
     ]
    }
   ],
   "source": [
    "data1 = 8j\n",
    "print(data1)"
   ]
  },
  {
   "cell_type": "code",
   "execution_count": 58,
   "id": "5065c737-1981-4547-a0bc-3cc22c714926",
   "metadata": {},
   "outputs": [
    {
     "name": "stdout",
     "output_type": "stream",
     "text": [
      "<class 'complex'>\n"
     ]
    }
   ],
   "source": [
    "print(type(data1))"
   ]
  },
  {
   "cell_type": "code",
   "execution_count": 66,
   "id": "022a66fd-d0ea-4861-bc79-fcb93d5363ae",
   "metadata": {},
   "outputs": [
    {
     "name": "stdout",
     "output_type": "stream",
     "text": [
      "<class 'complex'>\n"
     ]
    }
   ],
   "source": [
    "f = 0.2365j\n",
    "print(type(f))"
   ]
  },
  {
   "cell_type": "code",
   "execution_count": null,
   "id": "9df3e44e-d7c0-4a84-be5b-73c56c5f194e",
   "metadata": {},
   "outputs": [],
   "source": []
  },
  {
   "cell_type": "code",
   "execution_count": 69,
   "id": "3efb928a-b687-4eea-a3d6-d625bdb4023d",
   "metadata": {},
   "outputs": [
    {
     "name": "stdout",
     "output_type": "stream",
     "text": [
      "Noida sec 12 near 12\n"
     ]
    }
   ],
   "source": [
    "#address\n",
    "\n",
    "mohit_address = 'Noida sec 12 near 12'\n",
    "print(mohit_address)"
   ]
  },
  {
   "cell_type": "code",
   "execution_count": 71,
   "id": "0816a3b3-9a7a-44ed-a82e-3f599212def8",
   "metadata": {},
   "outputs": [
    {
     "name": "stdout",
     "output_type": "stream",
     "text": [
      "<class 'str'>\n"
     ]
    }
   ],
   "source": [
    "print(type(mohit_address))"
   ]
  },
  {
   "cell_type": "code",
   "execution_count": 73,
   "id": "c9c8b1d8-3ee2-4e58-a550-45a740bd0fcf",
   "metadata": {},
   "outputs": [
    {
     "name": "stdout",
     "output_type": "stream",
     "text": [
      "<class 'str'>\n"
     ]
    }
   ],
   "source": [
    "name = 'Jatin'\n",
    "print(type(name))"
   ]
  },
  {
   "cell_type": "code",
   "execution_count": 75,
   "id": "8d280c40-a9b1-491c-b5fa-22d30dd20eb9",
   "metadata": {},
   "outputs": [],
   "source": [
    "# array:- tuple,list"
   ]
  },
  {
   "cell_type": "code",
   "execution_count": 77,
   "id": "2efb801d-c410-4231-9184-2fda3af82ac7",
   "metadata": {},
   "outputs": [],
   "source": [
    "# tuple"
   ]
  },
  {
   "cell_type": "code",
   "execution_count": 79,
   "id": "9a590a05-0897-4313-bc4c-e0314fd73db4",
   "metadata": {},
   "outputs": [
    {
     "name": "stdout",
     "output_type": "stream",
     "text": [
      "('harry', 'komal', 'Ajay', 'Vijay')\n"
     ]
    }
   ],
   "source": [
    "students = 'harry','komal','Ajay','Vijay'\n",
    "\n",
    "print(students)"
   ]
  },
  {
   "cell_type": "code",
   "execution_count": 87,
   "id": "857496e4-dea0-43a1-a81e-d024b52f9deb",
   "metadata": {},
   "outputs": [
    {
     "name": "stdout",
     "output_type": "stream",
     "text": [
      "(23, 5, 35.345, 325j, 346, 554, 'Lucky')\n"
     ]
    }
   ],
   "source": [
    "data = 23,5,35.345,325j,346,554,'Lucky'\n",
    "print(data)"
   ]
  },
  {
   "cell_type": "code",
   "execution_count": 89,
   "id": "36aa4531-3f6f-4d7b-ba89-96962ee34fff",
   "metadata": {},
   "outputs": [
    {
     "name": "stdout",
     "output_type": "stream",
     "text": [
      "<class 'tuple'>\n"
     ]
    }
   ],
   "source": [
    "print(type(students))"
   ]
  },
  {
   "cell_type": "code",
   "execution_count": 91,
   "id": "d6119977-ea27-46e7-8bf9-ff23e27d6b61",
   "metadata": {},
   "outputs": [
    {
     "name": "stdout",
     "output_type": "stream",
     "text": [
      "<class 'tuple'>\n"
     ]
    }
   ],
   "source": [
    "print(type(data))"
   ]
  },
  {
   "cell_type": "code",
   "execution_count": 93,
   "id": "025dc395-8353-406a-95f2-216eb29b499e",
   "metadata": {},
   "outputs": [
    {
     "name": "stdout",
     "output_type": "stream",
     "text": [
      "('Adani', 'ola', 'uber')\n"
     ]
    }
   ],
   "source": [
    "stocks = ('Adani','ola','uber')\n",
    "\n",
    "print(stocks)"
   ]
  },
  {
   "cell_type": "code",
   "execution_count": 95,
   "id": "96ba715e-453d-4c88-90f2-020417294320",
   "metadata": {},
   "outputs": [
    {
     "name": "stdout",
     "output_type": "stream",
     "text": [
      "<class 'tuple'>\n"
     ]
    }
   ],
   "source": [
    "print(type(stocks))"
   ]
  },
  {
   "cell_type": "code",
   "execution_count": 101,
   "id": "e73e313e-9c5d-4492-a72e-85a8a789b5b3",
   "metadata": {},
   "outputs": [
    {
     "name": "stdout",
     "output_type": "stream",
     "text": [
      "Harry\n",
      "<class 'str'>\n"
     ]
    }
   ],
   "source": [
    "data = ('Harry')\n",
    "\n",
    "print(data)\n",
    "print(type(data))"
   ]
  },
  {
   "cell_type": "code",
   "execution_count": 107,
   "id": "dc33e2cd-1bcb-4b93-99eb-8b1482614321",
   "metadata": {},
   "outputs": [
    {
     "name": "stdout",
     "output_type": "stream",
     "text": [
      "(23,)\n"
     ]
    }
   ],
   "source": [
    "age = (23,)\n",
    "\n",
    "print(age)"
   ]
  },
  {
   "cell_type": "code",
   "execution_count": 109,
   "id": "d6ef884d-1108-47b6-8e7e-6517bf967d41",
   "metadata": {},
   "outputs": [
    {
     "name": "stdout",
     "output_type": "stream",
     "text": [
      "<class 'tuple'>\n"
     ]
    }
   ],
   "source": [
    "print(type(age))"
   ]
  },
  {
   "cell_type": "code",
   "execution_count": null,
   "id": "6221230e-4d1a-4051-a93a-37395ef05e3c",
   "metadata": {},
   "outputs": [],
   "source": []
  },
  {
   "cell_type": "code",
   "execution_count": 112,
   "id": "a718786e-e7f1-488f-a773-917cd6b7e4e6",
   "metadata": {},
   "outputs": [],
   "source": [
    "# list:- "
   ]
  },
  {
   "cell_type": "code",
   "execution_count": 126,
   "id": "58b1a773-2ecf-42fa-a0ac-1b89288f46d2",
   "metadata": {},
   "outputs": [
    {
     "name": "stdout",
     "output_type": "stream",
     "text": [
      "['Jatin', 'ravi', 'Mohan', 'Ajay']\n"
     ]
    }
   ],
   "source": [
    "students = ['Jatin','ravi','Mohan','Ajay']\n",
    "print(students)"
   ]
  },
  {
   "cell_type": "code",
   "execution_count": 128,
   "id": "152ee55a-47fb-4f1a-82b8-2f5f87623a58",
   "metadata": {},
   "outputs": [
    {
     "name": "stdout",
     "output_type": "stream",
     "text": [
      "<class 'list'>\n"
     ]
    }
   ],
   "source": [
    "print(type(students))"
   ]
  },
  {
   "cell_type": "code",
   "execution_count": null,
   "id": "c7332849-24da-42cd-99d8-81f4e2314136",
   "metadata": {},
   "outputs": [],
   "source": []
  },
  {
   "cell_type": "code",
   "execution_count": 131,
   "id": "f98da32c-9bbf-4f77-8d5f-328ed45df7c1",
   "metadata": {},
   "outputs": [],
   "source": [
    "students[1] = 'ravi malhotra'"
   ]
  },
  {
   "cell_type": "code",
   "execution_count": 133,
   "id": "6bd7c05f-4bc0-4f7b-a07f-b0bd2ecec219",
   "metadata": {},
   "outputs": [
    {
     "data": {
      "text/plain": [
       "['Jatin', 'ravi malhotra', 'Mohan', 'Ajay']"
      ]
     },
     "execution_count": 133,
     "metadata": {},
     "output_type": "execute_result"
    }
   ],
   "source": [
    "students"
   ]
  },
  {
   "cell_type": "code",
   "execution_count": 135,
   "id": "d90311df-5ca1-4112-9576-173c040007c8",
   "metadata": {},
   "outputs": [
    {
     "name": "stdout",
     "output_type": "stream",
     "text": [
      "('Jatin', 'ravi', 'Mohan', 'Ajay')\n"
     ]
    }
   ],
   "source": [
    "students = ('Jatin','ravi','Mohan','Ajay')\n",
    "print(students)"
   ]
  },
  {
   "cell_type": "code",
   "execution_count": 137,
   "id": "9530ed01-a2d9-4a4a-a442-706042933ac2",
   "metadata": {},
   "outputs": [
    {
     "ename": "TypeError",
     "evalue": "'tuple' object does not support item assignment",
     "output_type": "error",
     "traceback": [
      "\u001b[1;31m---------------------------------------------------------------------------\u001b[0m",
      "\u001b[1;31mTypeError\u001b[0m                                 Traceback (most recent call last)",
      "Cell \u001b[1;32mIn[137], line 1\u001b[0m\n\u001b[1;32m----> 1\u001b[0m students[\u001b[38;5;241m1\u001b[39m] \u001b[38;5;241m=\u001b[39m \u001b[38;5;124m'\u001b[39m\u001b[38;5;124mravi malhotra\u001b[39m\u001b[38;5;124m'\u001b[39m\n",
      "\u001b[1;31mTypeError\u001b[0m: 'tuple' object does not support item assignment"
     ]
    }
   ],
   "source": [
    "students[1] = 'ravi malhotra'"
   ]
  },
  {
   "cell_type": "code",
   "execution_count": 145,
   "id": "b34fbf4b-c4a6-4595-95f7-58ab2ccbb21c",
   "metadata": {},
   "outputs": [
    {
     "name": "stdout",
     "output_type": "stream",
     "text": [
      "['jatin', 'Ravi', 'Sohil', 'jatin', 'Komal', 'Ravi']\n"
     ]
    }
   ],
   "source": [
    "data = ['jatin','Ravi','Sohil','jatin','Komal','Ravi']\n",
    "print(data)"
   ]
  },
  {
   "cell_type": "code",
   "execution_count": 141,
   "id": "35b997fd-c16a-4200-8e33-d2e5948335ee",
   "metadata": {},
   "outputs": [],
   "source": [
    "# unique data store:- duplicate allow nahi karna"
   ]
  },
  {
   "cell_type": "code",
   "execution_count": 143,
   "id": "02038e58-4710-4d2f-9441-09d874555079",
   "metadata": {},
   "outputs": [],
   "source": [
    "# Set"
   ]
  },
  {
   "cell_type": "code",
   "execution_count": 147,
   "id": "e74067f5-f0f4-47cf-8100-b12c3e02c7e4",
   "metadata": {},
   "outputs": [
    {
     "name": "stdout",
     "output_type": "stream",
     "text": [
      "{'Sohil', 'jatin', 'Komal', 'Ravi'}\n"
     ]
    }
   ],
   "source": [
    "data = {'jatin','Ravi','Sohil','jatin','Komal','Ravi'}\n",
    "print(data)"
   ]
  },
  {
   "cell_type": "code",
   "execution_count": 149,
   "id": "6d302ee4-85fb-4f03-84c6-dbb2dc1a6393",
   "metadata": {},
   "outputs": [
    {
     "name": "stdout",
     "output_type": "stream",
     "text": [
      "<class 'set'>\n"
     ]
    }
   ],
   "source": [
    "print(type(data))"
   ]
  },
  {
   "cell_type": "code",
   "execution_count": 151,
   "id": "eb5027fb-bc73-4d77-a426-c87e1aebe128",
   "metadata": {},
   "outputs": [],
   "source": [
    "# str, tuple, list, set:- Sequence data type"
   ]
  },
  {
   "cell_type": "code",
   "execution_count": null,
   "id": "fa366edd-cc02-489e-bc18-cdfc57c9d506",
   "metadata": {},
   "outputs": [],
   "source": []
  },
  {
   "cell_type": "code",
   "execution_count": 154,
   "id": "f77e730a-7bef-4294-940f-0a35c7e6d7a8",
   "metadata": {},
   "outputs": [],
   "source": [
    "# kuch nahi"
   ]
  },
  {
   "cell_type": "code",
   "execution_count": 162,
   "id": "be976218-53af-4961-89ce-be1b85cb9b8b",
   "metadata": {},
   "outputs": [
    {
     "name": "stdout",
     "output_type": "stream",
     "text": [
      "None\n",
      "<class 'NoneType'>\n"
     ]
    }
   ],
   "source": [
    "party = None\n",
    "print(party)\n",
    "print(type(party))"
   ]
  },
  {
   "cell_type": "code",
   "execution_count": 164,
   "id": "15a9d069-0d2e-4b51-85fe-84bce71c6baf",
   "metadata": {},
   "outputs": [
    {
     "name": "stdout",
     "output_type": "stream",
     "text": [
      "True\n"
     ]
    }
   ],
   "source": [
    "Party = True\n",
    "print(Party)"
   ]
  },
  {
   "cell_type": "code",
   "execution_count": 166,
   "id": "72a6ca28-c7b8-4d58-a6eb-f673f5f69fe8",
   "metadata": {},
   "outputs": [
    {
     "name": "stdout",
     "output_type": "stream",
     "text": [
      "<class 'bool'>\n"
     ]
    }
   ],
   "source": [
    "print(type(Party))"
   ]
  },
  {
   "cell_type": "code",
   "execution_count": 168,
   "id": "be1b5b49-1406-4645-bc5f-723efc29b0be",
   "metadata": {},
   "outputs": [
    {
     "name": "stdout",
     "output_type": "stream",
     "text": [
      "False\n"
     ]
    }
   ],
   "source": [
    "Party = False\n",
    "print(Party)"
   ]
  },
  {
   "cell_type": "code",
   "execution_count": 170,
   "id": "d6904c88-fc10-4712-9f03-5647a9a96614",
   "metadata": {},
   "outputs": [
    {
     "name": "stdout",
     "output_type": "stream",
     "text": [
      "\n",
      "Here is a list of the Python keywords.  Enter any keyword to get more help.\n",
      "\n",
      "False               class               from                or\n",
      "None                continue            global              pass\n",
      "True                def                 if                  raise\n",
      "and                 del                 import              return\n",
      "as                  elif                in                  try\n",
      "assert              else                is                  while\n",
      "async               except              lambda              with\n",
      "await               finally             nonlocal            yield\n",
      "break               for                 not                 \n",
      "\n"
     ]
    }
   ],
   "source": [
    "help('keywords')"
   ]
  },
  {
   "cell_type": "code",
   "execution_count": 172,
   "id": "2dae7ce5-2104-4972-9c12-e0d6b64b3941",
   "metadata": {},
   "outputs": [],
   "source": [
    "# int\n",
    "# float\n",
    "# complex\n",
    "# str\n",
    "# tuple\n",
    "# list\n",
    "# set\n",
    "# None\n",
    "# bool"
   ]
  },
  {
   "cell_type": "code",
   "execution_count": 174,
   "id": "79b7d328-4a57-4cc8-842f-43a99b9f574f",
   "metadata": {},
   "outputs": [],
   "source": [
    "# dictionary data type"
   ]
  },
  {
   "cell_type": "code",
   "execution_count": 176,
   "id": "882e3ee9-3425-4d94-b3cc-930399ef4126",
   "metadata": {},
   "outputs": [],
   "source": [
    "# students = ['Ajay','Vijay','Ravi']\n",
    "# passwords = ['23422%#%^','76&^&$&^','&*^&*']\n",
    "\n"
   ]
  },
  {
   "cell_type": "code",
   "execution_count": 178,
   "id": "48603d00-af25-42ca-a55a-fba3b3395b3e",
   "metadata": {},
   "outputs": [],
   "source": [
    "# dictionary:- key value pair data type, word meaning data type"
   ]
  },
  {
   "cell_type": "code",
   "execution_count": 180,
   "id": "a20ef050-8223-4093-818a-6afc24b55819",
   "metadata": {},
   "outputs": [
    {
     "name": "stdout",
     "output_type": "stream",
     "text": [
      "{'Ajay': '&^%^&Bb', 'Modiji': True, 'DA': True, 'Ravi': 'jHGJH&*%'}\n"
     ]
    }
   ],
   "source": [
    "data = {'Ajay':'&^%^&Bb','Modiji':True,'DA':True,'Ravi':'jHGJH&*%'}\n",
    "print(data)"
   ]
  },
  {
   "cell_type": "code",
   "execution_count": 187,
   "id": "b9dfac18-9aa5-4c6f-8e58-672f6b3ee2f9",
   "metadata": {},
   "outputs": [
    {
     "name": "stdout",
     "output_type": "stream",
     "text": [
      "<class 'dict'>\n"
     ]
    }
   ],
   "source": [
    "print(type(data))"
   ]
  },
  {
   "attachments": {
    "476473b1-815b-4e87-a987-447f59541abb.jpg": {
     "image/jpeg": "[encoded data removed]"
    }
   },
   "cell_type": "markdown",
   "id": "84338fdf-2af5-4c95-b759-ae21894916ea",
   "metadata": {},
   "source": [
    "![Python-data-structure.jpg](attachment:476473b1-815b-4e87-a987-447f59541abb.jpg)"
   ]
  },
  {
   "cell_type": "code",
   "execution_count": null,
   "id": "3215fa92-a002-458e-be01-ef8e26cd1e76",
   "metadata": {},
   "outputs": [],
   "source": []
  },
  {
   "cell_type": "code",
   "execution_count": 203,
   "id": "58b91511-61d9-4eda-8fe6-3a031d41c6c8",
   "metadata": {},
   "outputs": [],
   "source": [
    "# Syntax concept"
   ]
  },
  {
   "cell_type": "code",
   "execution_count": 205,
   "id": "9b7109e8-40ef-4a94-be61-0a67536585dd",
   "metadata": {},
   "outputs": [],
   "source": [
    "# Operators"
   ]
  },
  {
   "cell_type": "code",
   "execution_count": 207,
   "id": "1855605e-e26e-4492-800c-5ceee8c8c02f",
   "metadata": {},
   "outputs": [],
   "source": [
    "# Syntax concept"
   ]
  },
  {
   "cell_type": "code",
   "execution_count": 209,
   "id": "d617e100-a60d-4808-ab94-a52ad4a22d55",
   "metadata": {},
   "outputs": [],
   "source": [
    "age = 35"
   ]
  },
  {
   "cell_type": "code",
   "execution_count": 211,
   "id": "7b2edf3f-ff97-4d4b-ae97-fcdff18a5f46",
   "metadata": {},
   "outputs": [],
   "source": [
    "# variable :- age\n",
    "# 35   :- value\n",
    "# =    :- operator"
   ]
  },
  {
   "cell_type": "code",
   "execution_count": 213,
   "id": "68371552-db99-448c-ba7a-b52376d49444",
   "metadata": {},
   "outputs": [],
   "source": [
    "# data types:- Right side"
   ]
  },
  {
   "cell_type": "code",
   "execution_count": 215,
   "id": "ff97731b-c23e-40a2-9369-561fad7c4b7a",
   "metadata": {},
   "outputs": [],
   "source": [
    "# left side variable"
   ]
  },
  {
   "cell_type": "code",
   "execution_count": 217,
   "id": "292be40e-e944-42a9-aa39-fdbd65584275",
   "metadata": {},
   "outputs": [],
   "source": [
    "# rules for variable "
   ]
  },
  {
   "cell_type": "code",
   "execution_count": 221,
   "id": "ea9d91ee-5fbb-4a6d-8caa-b25610e48861",
   "metadata": {},
   "outputs": [],
   "source": [
    "#R1 It must not starts with digits"
   ]
  },
  {
   "cell_type": "code",
   "execution_count": 223,
   "id": "9b3bc8b4-a9d8-42b8-a34b-94587c8f6c8c",
   "metadata": {},
   "outputs": [
    {
     "ename": "SyntaxError",
     "evalue": "invalid decimal literal (1398048350.py, line 1)",
     "output_type": "error",
     "traceback": [
      "\u001b[1;36m  Cell \u001b[1;32mIn[223], line 1\u001b[1;36m\u001b[0m\n\u001b[1;33m    123age = 34554\u001b[0m\n\u001b[1;37m      ^\u001b[0m\n\u001b[1;31mSyntaxError\u001b[0m\u001b[1;31m:\u001b[0m invalid decimal literal\n"
     ]
    }
   ],
   "source": [
    "123age = 34554"
   ]
  },
  {
   "cell_type": "code",
   "execution_count": 225,
   "id": "4edf3277-697b-410f-9df4-5c4adf28663e",
   "metadata": {},
   "outputs": [],
   "source": [
    "# R2:- It Must not starts with any special chracter except underscore"
   ]
  },
  {
   "cell_type": "code",
   "execution_count": 227,
   "id": "e5f25d46-fb17-4b3d-9570-231bc8fdb8d7",
   "metadata": {},
   "outputs": [],
   "source": [
    "# !@#$%^&*()-+={} etc"
   ]
  },
  {
   "cell_type": "code",
   "execution_count": 229,
   "id": "388d81b3-0dac-410f-87b4-dfe116c164ee",
   "metadata": {},
   "outputs": [
    {
     "name": "stderr",
     "output_type": "stream",
     "text": [
      "UsageError: Line magic function `%data` not found.\n"
     ]
    }
   ],
   "source": [
    "%data = 456"
   ]
  },
  {
   "cell_type": "code",
   "execution_count": 231,
   "id": "0f8ebaf3-2c30-4fe3-a4ce-7d730018532d",
   "metadata": {},
   "outputs": [
    {
     "ename": "SyntaxError",
     "evalue": "invalid syntax. Maybe you meant '==' or ':=' instead of '='? (3312411872.py, line 1)",
     "output_type": "error",
     "traceback": [
      "\u001b[1;36m  Cell \u001b[1;32mIn[231], line 1\u001b[1;36m\u001b[0m\n\u001b[1;33m    @ga = 45\u001b[0m\n\u001b[1;37m     ^\u001b[0m\n\u001b[1;31mSyntaxError\u001b[0m\u001b[1;31m:\u001b[0m invalid syntax. Maybe you meant '==' or ':=' instead of '='?\n"
     ]
    }
   ],
   "source": [
    "@ga = 45"
   ]
  },
  {
   "cell_type": "code",
   "execution_count": 233,
   "id": "9a1f147d-b956-4c12-8acc-4de54b5e9a71",
   "metadata": {},
   "outputs": [],
   "source": [
    "# R3:- we can use underscore at any position"
   ]
  },
  {
   "cell_type": "code",
   "execution_count": 235,
   "id": "12cdca82-8ff8-4fcf-a139-6a1e0380b7be",
   "metadata": {},
   "outputs": [
    {
     "name": "stdout",
     "output_type": "stream",
     "text": [
      "34\n"
     ]
    }
   ],
   "source": [
    "_age = 34\n",
    "print(_age)"
   ]
  },
  {
   "cell_type": "code",
   "execution_count": 237,
   "id": "6b4d711b-d8b8-40ab-810f-8b60bcf147d5",
   "metadata": {},
   "outputs": [
    {
     "name": "stdout",
     "output_type": "stream",
     "text": [
      "35\n"
     ]
    }
   ],
   "source": [
    "_age_ = 35\n",
    "print(_age_)"
   ]
  },
  {
   "cell_type": "code",
   "execution_count": 239,
   "id": "fe73828c-cf13-4f9e-af32-e96d1434fc10",
   "metadata": {},
   "outputs": [
    {
     "name": "stdout",
     "output_type": "stream",
     "text": [
      "Harry Potter\n"
     ]
    }
   ],
   "source": [
    "employeefullname = 'Harry Potter'\n",
    "print(employeefullname)"
   ]
  },
  {
   "cell_type": "code",
   "execution_count": 241,
   "id": "69f59590-381e-413f-b27c-54b9d12f5a03",
   "metadata": {},
   "outputs": [
    {
     "name": "stdout",
     "output_type": "stream",
     "text": [
      "Harry Potter\n"
     ]
    }
   ],
   "source": [
    "employee_full_name = 'Harry Potter'\n",
    "print(employee_full_name)"
   ]
  },
  {
   "cell_type": "code",
   "execution_count": 245,
   "id": "72f37802-d1db-4123-a7e3-25e45d482588",
   "metadata": {},
   "outputs": [],
   "source": [
    "# R4:- It must not include any white spaces"
   ]
  },
  {
   "cell_type": "code",
   "execution_count": 247,
   "id": "eb4236a3-2754-439b-8dda-f7773abdf3eb",
   "metadata": {},
   "outputs": [
    {
     "ename": "SyntaxError",
     "evalue": "invalid syntax (1069034190.py, line 1)",
     "output_type": "error",
     "traceback": [
      "\u001b[1;36m  Cell \u001b[1;32mIn[247], line 1\u001b[1;36m\u001b[0m\n\u001b[1;33m    full name = 'Jatin shah'\u001b[0m\n\u001b[1;37m         ^\u001b[0m\n\u001b[1;31mSyntaxError\u001b[0m\u001b[1;31m:\u001b[0m invalid syntax\n"
     ]
    }
   ],
   "source": [
    "full name = 'Jatin shah'"
   ]
  },
  {
   "cell_type": "code",
   "execution_count": 249,
   "id": "45462064-e143-4d70-a845-63c99c125ca2",
   "metadata": {},
   "outputs": [],
   "source": [
    "# R5: Python is case sensitive, lowercase and upper case will be treated differently"
   ]
  },
  {
   "cell_type": "code",
   "execution_count": 251,
   "id": "072f39f1-cb92-44a0-b919-5e315bfc1cfc",
   "metadata": {},
   "outputs": [],
   "source": [
    "age = 35\n",
    "Age = 456\n"
   ]
  },
  {
   "cell_type": "code",
   "execution_count": 253,
   "id": "e750706c-ac13-4fd0-8fec-82f97be01684",
   "metadata": {},
   "outputs": [
    {
     "name": "stdout",
     "output_type": "stream",
     "text": [
      "35\n"
     ]
    }
   ],
   "source": [
    "print(age)"
   ]
  },
  {
   "cell_type": "code",
   "execution_count": 255,
   "id": "facf9425-1ae3-44a0-b814-7511668882f3",
   "metadata": {},
   "outputs": [
    {
     "name": "stdout",
     "output_type": "stream",
     "text": [
      "456\n"
     ]
    }
   ],
   "source": [
    "print(Age)"
   ]
  },
  {
   "cell_type": "code",
   "execution_count": 261,
   "id": "d34551b7-2a0c-445a-ac83-2c16ced3d001",
   "metadata": {},
   "outputs": [
    {
     "ename": "NameError",
     "evalue": "name 'AGE' is not defined",
     "output_type": "error",
     "traceback": [
      "\u001b[1;31m---------------------------------------------------------------------------\u001b[0m",
      "\u001b[1;31mNameError\u001b[0m                                 Traceback (most recent call last)",
      "Cell \u001b[1;32mIn[261], line 1\u001b[0m\n\u001b[1;32m----> 1\u001b[0m \u001b[38;5;28mprint\u001b[39m(AGE)\n",
      "\u001b[1;31mNameError\u001b[0m: name 'AGE' is not defined"
     ]
    }
   ],
   "source": [
    "print(AGE)"
   ]
  },
  {
   "cell_type": "code",
   "execution_count": 263,
   "id": "a1cf2312-7f5c-44da-872f-a039b21d6c63",
   "metadata": {},
   "outputs": [],
   "source": [
    "# R6: we Must not use python keywords as a variable"
   ]
  },
  {
   "cell_type": "code",
   "execution_count": 265,
   "id": "5daebe07-aab7-4233-b488-0c0025503879",
   "metadata": {},
   "outputs": [
    {
     "name": "stdout",
     "output_type": "stream",
     "text": [
      "\n",
      "Here is a list of the Python keywords.  Enter any keyword to get more help.\n",
      "\n",
      "False               class               from                or\n",
      "None                continue            global              pass\n",
      "True                def                 if                  raise\n",
      "and                 del                 import              return\n",
      "as                  elif                in                  try\n",
      "assert              else                is                  while\n",
      "async               except              lambda              with\n",
      "await               finally             nonlocal            yield\n",
      "break               for                 not                 \n",
      "\n"
     ]
    }
   ],
   "source": [
    "help('keywords')"
   ]
  },
  {
   "cell_type": "code",
   "execution_count": 267,
   "id": "1392824e-ba53-41cf-93bf-19d7473ddbe1",
   "metadata": {},
   "outputs": [
    {
     "ename": "SyntaxError",
     "evalue": "invalid syntax (2070929784.py, line 1)",
     "output_type": "error",
     "traceback": [
      "\u001b[1;36m  Cell \u001b[1;32mIn[267], line 1\u001b[1;36m\u001b[0m\n\u001b[1;33m    break = 'mohan'\u001b[0m\n\u001b[1;37m          ^\u001b[0m\n\u001b[1;31mSyntaxError\u001b[0m\u001b[1;31m:\u001b[0m invalid syntax\n"
     ]
    }
   ],
   "source": [
    "break = 'mohan'"
   ]
  },
  {
   "cell_type": "code",
   "execution_count": 269,
   "id": "0bf7bf2b-558d-475d-bbfe-5e76131d2f13",
   "metadata": {},
   "outputs": [
    {
     "ename": "SyntaxError",
     "evalue": "invalid syntax (3198765666.py, line 1)",
     "output_type": "error",
     "traceback": [
      "\u001b[1;36m  Cell \u001b[1;32mIn[269], line 1\u001b[1;36m\u001b[0m\n\u001b[1;33m    lambda = 'lucky'\u001b[0m\n\u001b[1;37m           ^\u001b[0m\n\u001b[1;31mSyntaxError\u001b[0m\u001b[1;31m:\u001b[0m invalid syntax\n"
     ]
    }
   ],
   "source": [
    "lambda = 'lucky'"
   ]
  },
  {
   "cell_type": "code",
   "execution_count": 271,
   "id": "f2f93c65-47c7-4b79-9a5b-60f09bdf3b41",
   "metadata": {},
   "outputs": [],
   "source": [
    "lambda_ = 'lucky'"
   ]
  },
  {
   "cell_type": "code",
   "execution_count": 273,
   "id": "55beaf17-ba50-4cb8-9447-6f1de85c4c1a",
   "metadata": {},
   "outputs": [
    {
     "name": "stdout",
     "output_type": "stream",
     "text": [
      "lucky\n"
     ]
    }
   ],
   "source": [
    "print(lambda_)"
   ]
  },
  {
   "cell_type": "code",
   "execution_count": 275,
   "id": "fee14cf2-b949-4f84-952e-6f436097b957",
   "metadata": {},
   "outputs": [],
   "source": [
    "# R7: we can use digits after 1st position"
   ]
  },
  {
   "cell_type": "code",
   "execution_count": 277,
   "id": "85e4803a-4fa7-4287-8de1-921f89d709d4",
   "metadata": {},
   "outputs": [
    {
     "name": "stdout",
     "output_type": "stream",
     "text": [
      "234\n"
     ]
    }
   ],
   "source": [
    "age1 = 234\n",
    "print(age1)"
   ]
  },
  {
   "cell_type": "code",
   "execution_count": 279,
   "id": "bc6d8b20-55c6-4eb0-870a-ec77c71a0ee4",
   "metadata": {},
   "outputs": [
    {
     "name": "stdout",
     "output_type": "stream",
     "text": [
      "234\n"
     ]
    }
   ],
   "source": [
    "a1 = 234\n",
    "print(a1)"
   ]
  },
  {
   "cell_type": "code",
   "execution_count": 281,
   "id": "972b0c38-3e90-4bab-9c11-1efc0260c8a0",
   "metadata": {},
   "outputs": [
    {
     "name": "stdout",
     "output_type": "stream",
     "text": [
      "34\n"
     ]
    }
   ],
   "source": [
    "a_1  = 34\n",
    "print(a_1)"
   ]
  },
  {
   "cell_type": "code",
   "execution_count": 283,
   "id": "09a614f4-2e20-40e3-983c-dbf887547508",
   "metadata": {},
   "outputs": [
    {
     "name": "stdout",
     "output_type": "stream",
     "text": [
      "56\n"
     ]
    }
   ],
   "source": [
    "_ = 56\n",
    "print(_)"
   ]
  },
  {
   "cell_type": "code",
   "execution_count": 289,
   "id": "f1592d99-4b98-4cbe-9568-8be59ac42ac4",
   "metadata": {},
   "outputs": [],
   "source": [
    "#R8: we must not use functions for variable declaration"
   ]
  },
  {
   "cell_type": "code",
   "execution_count": 291,
   "id": "b8317e05-e8d2-450d-b793-09669c4998c0",
   "metadata": {},
   "outputs": [],
   "source": [
    "age = 87"
   ]
  },
  {
   "cell_type": "code",
   "execution_count": 293,
   "id": "198d8c46-e53d-4a89-8797-33a765b6de30",
   "metadata": {},
   "outputs": [
    {
     "name": "stdout",
     "output_type": "stream",
     "text": [
      "87\n"
     ]
    }
   ],
   "source": [
    "print(age)"
   ]
  },
  {
   "cell_type": "code",
   "execution_count": 295,
   "id": "d45c1b6f-ae4b-485a-8d9c-0a2cfb220e77",
   "metadata": {},
   "outputs": [],
   "source": [
    "print = 34"
   ]
  },
  {
   "cell_type": "code",
   "execution_count": 297,
   "id": "58c1d863-e4df-45e6-9cac-ccc2b6cc3671",
   "metadata": {},
   "outputs": [
    {
     "ename": "TypeError",
     "evalue": "'int' object is not callable",
     "output_type": "error",
     "traceback": [
      "\u001b[1;31m---------------------------------------------------------------------------\u001b[0m",
      "\u001b[1;31mTypeError\u001b[0m                                 Traceback (most recent call last)",
      "Cell \u001b[1;32mIn[297], line 1\u001b[0m\n\u001b[1;32m----> 1\u001b[0m \u001b[38;5;28mprint\u001b[39m(\u001b[38;5;28mprint\u001b[39m)\n",
      "\u001b[1;31mTypeError\u001b[0m: 'int' object is not callable"
     ]
    }
   ],
   "source": [
    "print(print)"
   ]
  },
  {
   "cell_type": "code",
   "execution_count": 299,
   "id": "2fff87b3-572b-4634-ac86-b174e486481d",
   "metadata": {},
   "outputs": [
    {
     "data": {
      "text/plain": [
       "34"
      ]
     },
     "execution_count": 299,
     "metadata": {},
     "output_type": "execute_result"
    }
   ],
   "source": [
    "print"
   ]
  },
  {
   "cell_type": "code",
   "execution_count": 1,
   "id": "541bbfbd-1424-4269-8373-3e95c9ab5802",
   "metadata": {},
   "outputs": [
    {
     "name": "stdout",
     "output_type": "stream",
     "text": [
      "325346\n"
     ]
    }
   ],
   "source": [
    "age = 325346\n",
    "print(age)"
   ]
  },
  {
   "cell_type": "code",
   "execution_count": 3,
   "id": "148617d4-5f35-4b9c-a7df-600afcc869e9",
   "metadata": {},
   "outputs": [],
   "source": [
    "# R9: we can change value of variable and its called variable overloading"
   ]
  },
  {
   "cell_type": "code",
   "execution_count": 5,
   "id": "ba79d8cb-3751-4c9d-8999-a7d6bfddf067",
   "metadata": {},
   "outputs": [],
   "source": [
    "age = 34567"
   ]
  },
  {
   "cell_type": "code",
   "execution_count": 7,
   "id": "c135321e-e1b4-4b53-a54d-32e93ae6086e",
   "metadata": {},
   "outputs": [],
   "source": [
    "age = 34"
   ]
  },
  {
   "cell_type": "code",
   "execution_count": 9,
   "id": "13b72ff0-37cb-4e66-b8ef-6996cd5d17ad",
   "metadata": {},
   "outputs": [
    {
     "name": "stdout",
     "output_type": "stream",
     "text": [
      "34\n"
     ]
    }
   ],
   "source": [
    "print(age)"
   ]
  },
  {
   "cell_type": "code",
   "execution_count": 11,
   "id": "5681198e-63fb-4506-ac49-6c1e9bd0a148",
   "metadata": {},
   "outputs": [],
   "source": [
    "# R10: we must not use datatype in place of variable"
   ]
  },
  {
   "cell_type": "code",
   "execution_count": 13,
   "id": "2f5c0599-eb31-4929-8f8c-e69985e54957",
   "metadata": {},
   "outputs": [
    {
     "ename": "SyntaxError",
     "evalue": "cannot assign to literal (4169217169.py, line 1)",
     "output_type": "error",
     "traceback": [
      "\u001b[1;36m  Cell \u001b[1;32mIn[13], line 1\u001b[1;36m\u001b[0m\n\u001b[1;33m    [12,4,45] = [23,43,5]\u001b[0m\n\u001b[1;37m     ^\u001b[0m\n\u001b[1;31mSyntaxError\u001b[0m\u001b[1;31m:\u001b[0m cannot assign to literal\n"
     ]
    }
   ],
   "source": [
    "[12,4,45] = [23,43,5]"
   ]
  },
  {
   "cell_type": "code",
   "execution_count": 20,
   "id": "453a7c0f-225f-4f5a-9cb5-789954e84ea2",
   "metadata": {},
   "outputs": [
    {
     "ename": "SyntaxError",
     "evalue": "cannot assign to literal here. Maybe you meant '==' instead of '='? (1866440312.py, line 1)",
     "output_type": "error",
     "traceback": [
      "\u001b[1;36m  Cell \u001b[1;32mIn[20], line 1\u001b[1;36m\u001b[0m\n\u001b[1;33m    'Lucky' = '2355'\u001b[0m\n\u001b[1;37m    ^\u001b[0m\n\u001b[1;31mSyntaxError\u001b[0m\u001b[1;31m:\u001b[0m cannot assign to literal here. Maybe you meant '==' instead of '='?\n"
     ]
    }
   ],
   "source": [
    "'Lucky' = '2355'"
   ]
  },
  {
   "cell_type": "code",
   "execution_count": null,
   "id": "b8207c09-9331-44cb-b050-7ceb9a511b79",
   "metadata": {},
   "outputs": [],
   "source": []
  },
  {
   "cell_type": "code",
   "execution_count": 22,
   "id": "1b27922b-45be-4b38-ab73-c927381496b4",
   "metadata": {},
   "outputs": [],
   "source": [
    "lucky = 235"
   ]
  },
  {
   "cell_type": "code",
   "execution_count": null,
   "id": "91669713-2240-4f6b-a8c0-43c259d2da41",
   "metadata": {},
   "outputs": [],
   "source": []
  },
  {
   "cell_type": "code",
   "execution_count": null,
   "id": "a34c3761-f2d4-47cf-ba45-259eb72f6775",
   "metadata": {},
   "outputs": [],
   "source": []
  },
  {
   "cell_type": "code",
   "execution_count": null,
   "id": "e0ceeb95-dc63-4ed4-ae73-3d1698332c0e",
   "metadata": {},
   "outputs": [],
   "source": []
  },
  {
   "cell_type": "markdown",
   "id": "3653f5db-f420-4a35-a9ae-0074cd53af16",
   "metadata": {},
   "source": [
    "# Operators"
   ]
  },
  {
   "cell_type": "code",
   "execution_count": 28,
   "id": "4556e60b-a9d4-4407-947c-2a22fbb87a64",
   "metadata": {},
   "outputs": [],
   "source": [
    "# Arithmetic op:- +,-,*,/,%,** //\n",
    "# Assignment op:- +=, -=, /=, %=, etc\n",
    "# comparison op/ relational op:- <, >, <=, >=, etc\n",
    "# membership op:- in not in\n",
    "# identity op:- is is not\n",
    "# logical op:- and, or, not\n",
    "# bitwise op:- &, |, ~, ^, <<, >>"
   ]
  },
  {
   "cell_type": "markdown",
   "id": "2699fab9-adc1-4b3e-b63e-4461b4c25404",
   "metadata": {},
   "source": [
    "# Arithmetic op"
   ]
  },
  {
   "cell_type": "code",
   "execution_count": 31,
   "id": "07b692d9-a247-4303-88a3-aa10dc146d2d",
   "metadata": {},
   "outputs": [
    {
     "name": "stdout",
     "output_type": "stream",
     "text": [
      "68\n"
     ]
    }
   ],
   "source": [
    "a = 23\n",
    "b = 45\n",
    "\n",
    "print(a + b)"
   ]
  },
  {
   "cell_type": "code",
   "execution_count": 33,
   "id": "e2db99eb-7c44-4538-8542-28b1cb703066",
   "metadata": {},
   "outputs": [
    {
     "name": "stdout",
     "output_type": "stream",
     "text": [
      "-22\n"
     ]
    }
   ],
   "source": [
    "a = 23\n",
    "b = 45\n",
    "\n",
    "print(a - b)"
   ]
  },
  {
   "cell_type": "code",
   "execution_count": 35,
   "id": "ed62a608-1b98-49fa-8090-de30e59e8a93",
   "metadata": {},
   "outputs": [
    {
     "name": "stdout",
     "output_type": "stream",
     "text": [
      "1035\n"
     ]
    }
   ],
   "source": [
    "a = 23\n",
    "b = 45\n",
    "\n",
    "print(a * b)"
   ]
  },
  {
   "cell_type": "code",
   "execution_count": 39,
   "id": "71056b32-bbab-413d-9f3d-b96db0945a9c",
   "metadata": {},
   "outputs": [
    {
     "name": "stdout",
     "output_type": "stream",
     "text": [
      "2.0\n"
     ]
    }
   ],
   "source": [
    "a = 23\n",
    "b = 46\n",
    "\n",
    "print(b/a)   # /:- float div"
   ]
  },
  {
   "cell_type": "code",
   "execution_count": 45,
   "id": "77dc52eb-da78-4e0b-bb73-d2f48bd9d2d3",
   "metadata": {},
   "outputs": [
    {
     "name": "stdout",
     "output_type": "stream",
     "text": [
      "2\n"
     ]
    }
   ],
   "source": [
    "a = 23\n",
    "b = 48\n",
    "\n",
    "print(b//a)   # /:- Int div"
   ]
  },
  {
   "cell_type": "code",
   "execution_count": 47,
   "id": "621e5aed-0b1d-4f83-ab9b-b48e6e79b065",
   "metadata": {},
   "outputs": [
    {
     "name": "stdout",
     "output_type": "stream",
     "text": [
      "2.0869565217391304\n"
     ]
    }
   ],
   "source": [
    "a = 23\n",
    "b = 48\n",
    "\n",
    "print(b/a)   # /:- float div"
   ]
  },
  {
   "cell_type": "code",
   "execution_count": 51,
   "id": "080c7c81-1bca-45dc-a9f6-6392781ab688",
   "metadata": {},
   "outputs": [
    {
     "name": "stdout",
     "output_type": "stream",
     "text": [
      "10\n"
     ]
    }
   ],
   "source": [
    "# modulus op\n",
    "a = 23\n",
    "b = 56\n",
    "\n",
    "print(b % a)   # /:- Remainder div"
   ]
  },
  {
   "cell_type": "code",
   "execution_count": 53,
   "id": "7337f245-8dba-49cb-a47f-6e2b3a862c3b",
   "metadata": {},
   "outputs": [],
   "source": [
    "# exponentian, pow"
   ]
  },
  {
   "cell_type": "code",
   "execution_count": 55,
   "id": "f7154d0e-833b-4e46-8586-3b4b9c4e2b35",
   "metadata": {},
   "outputs": [],
   "source": [
    "a = 3\n",
    "b = 2"
   ]
  },
  {
   "cell_type": "code",
   "execution_count": 57,
   "id": "fe74424f-726e-4eeb-8575-f5a547dca4b7",
   "metadata": {},
   "outputs": [
    {
     "data": {
      "text/plain": [
       "9"
      ]
     },
     "execution_count": 57,
     "metadata": {},
     "output_type": "execute_result"
    }
   ],
   "source": [
    "a ** b"
   ]
  },
  {
   "cell_type": "code",
   "execution_count": 61,
   "id": "f045e915-bb63-41a5-81a0-9a7ecefc7b16",
   "metadata": {},
   "outputs": [
    {
     "data": {
      "text/plain": [
       "27"
      ]
     },
     "execution_count": 61,
     "metadata": {},
     "output_type": "execute_result"
    }
   ],
   "source": [
    "3 ** 3"
   ]
  },
  {
   "cell_type": "code",
   "execution_count": 63,
   "id": "53d1dcb4-4b6d-4ae1-89a3-009928c5fbea",
   "metadata": {},
   "outputs": [],
   "source": [
    "# h/w"
   ]
  },
  {
   "cell_type": "code",
   "execution_count": 65,
   "id": "fcf27e79-e295-4bd6-80d0-a9a7dc92f6df",
   "metadata": {},
   "outputs": [],
   "source": [
    "a = [2,4,325]\n",
    "\n",
    "b = [23,534,6]"
   ]
  },
  {
   "cell_type": "code",
   "execution_count": 67,
   "id": "a7207217-46ad-487d-aab1-91020a17f9dd",
   "metadata": {},
   "outputs": [
    {
     "name": "stdout",
     "output_type": "stream",
     "text": [
      "[2, 4, 325, 23, 534, 6]\n"
     ]
    }
   ],
   "source": [
    "print(a + b)"
   ]
  },
  {
   "cell_type": "code",
   "execution_count": 69,
   "id": "0731876e-196b-4314-baed-75f689f5d910",
   "metadata": {},
   "outputs": [
    {
     "data": {
      "text/plain": [
       "4"
      ]
     },
     "execution_count": 69,
     "metadata": {},
     "output_type": "execute_result"
    }
   ],
   "source": [
    "2 ** 2"
   ]
  },
  {
   "cell_type": "code",
   "execution_count": 71,
   "id": "ea4a3f9f-dac6-4e45-89c2-f0dc567e6d2c",
   "metadata": {},
   "outputs": [
    {
     "data": {
      "text/plain": [
       "8"
      ]
     },
     "execution_count": 71,
     "metadata": {},
     "output_type": "execute_result"
    }
   ],
   "source": [
    "2 ** 3"
   ]
  },
  {
   "cell_type": "code",
   "execution_count": 73,
   "id": "b51face5-e626-490b-ab5e-f391c05b0507",
   "metadata": {},
   "outputs": [
    {
     "ename": "TypeError",
     "evalue": "unsupported operand type(s) for ** or pow(): 'list' and 'list'",
     "output_type": "error",
     "traceback": [
      "\u001b[1;31m---------------------------------------------------------------------------\u001b[0m",
      "\u001b[1;31mTypeError\u001b[0m                                 Traceback (most recent call last)",
      "Cell \u001b[1;32mIn[73], line 1\u001b[0m\n\u001b[1;32m----> 1\u001b[0m [\u001b[38;5;241m2\u001b[39m,\u001b[38;5;241m35\u001b[39m,\u001b[38;5;241m4\u001b[39m] \u001b[38;5;241m*\u001b[39m\u001b[38;5;241m*\u001b[39m [\u001b[38;5;241m235\u001b[39m,\u001b[38;5;241m23\u001b[39m,\u001b[38;5;241m6\u001b[39m]\n",
      "\u001b[1;31mTypeError\u001b[0m: unsupported operand type(s) for ** or pow(): 'list' and 'list'"
     ]
    }
   ],
   "source": [
    "[2,35,4] ** [235,23,6]"
   ]
  },
  {
   "cell_type": "code",
   "execution_count": null,
   "id": "eb0207be-9d28-473e-afc4-c1e6b1912532",
   "metadata": {},
   "outputs": [],
   "source": []
  },
  {
   "cell_type": "code",
   "execution_count": null,
   "id": "a5f30394-20fb-4859-a5cb-00b0d15972fa",
   "metadata": {},
   "outputs": [],
   "source": []
  },
  {
   "cell_type": "code",
   "execution_count": 77,
   "id": "1e7bb358-3127-47df-bfaf-77e26b9b4f4e",
   "metadata": {},
   "outputs": [],
   "source": [
    "# Assignment op"
   ]
  },
  {
   "cell_type": "code",
   "execution_count": 81,
   "id": "0b6c6e87-4685-4367-99f8-c01cc3a2df7d",
   "metadata": {},
   "outputs": [
    {
     "name": "stdout",
     "output_type": "stream",
     "text": [
      "100000\n"
     ]
    }
   ],
   "source": [
    "pandey_sahab = 100000\n",
    "print(pandey_sahab)"
   ]
  },
  {
   "cell_type": "code",
   "execution_count": 83,
   "id": "eb357c10-7459-4118-8f64-c266df0e482e",
   "metadata": {},
   "outputs": [],
   "source": [
    "pandey_sahab += 300000"
   ]
  },
  {
   "cell_type": "code",
   "execution_count": 85,
   "id": "8a5798a1-2836-4016-a086-51d494b6dd6c",
   "metadata": {},
   "outputs": [
    {
     "name": "stdout",
     "output_type": "stream",
     "text": [
      "400000\n"
     ]
    }
   ],
   "source": [
    "print(pandey_sahab)"
   ]
  },
  {
   "cell_type": "code",
   "execution_count": 87,
   "id": "5367b054-9007-4e9c-8319-391513dd35fc",
   "metadata": {},
   "outputs": [],
   "source": [
    "# +=\n",
    "# -=\n",
    "# *=\n",
    "# **=\n",
    "# /=\n",
    "# //=\n",
    "# %="
   ]
  },
  {
   "cell_type": "code",
   "execution_count": 97,
   "id": "682b7b0f-fd47-4659-8f08-6af81a11061c",
   "metadata": {},
   "outputs": [
    {
     "name": "stdout",
     "output_type": "stream",
     "text": [
      "original value of a was 23\n",
      "Current Value of a is 123\n"
     ]
    }
   ],
   "source": [
    "a = 23\n",
    "print('original value of a was',a)\n",
    "\n",
    "a += 100\n",
    "\n",
    "print('Current Value of a is',a)"
   ]
  },
  {
   "cell_type": "code",
   "execution_count": null,
   "id": "3166d9cd-50aa-4180-99f9-92f6f445b039",
   "metadata": {},
   "outputs": [],
   "source": []
  },
  {
   "cell_type": "code",
   "execution_count": 100,
   "id": "5a062861-bb77-4cbe-a5d5-ecbac95b9d83",
   "metadata": {},
   "outputs": [
    {
     "name": "stdout",
     "output_type": "stream",
     "text": [
      "original value of a was 23\n",
      "Current Value of a is 1023\n"
     ]
    }
   ],
   "source": [
    "a = 23\n",
    "print('original value of a was',a)\n",
    "\n",
    "a = a + 1000\n",
    "\n",
    "print('Current Value of a is',a)"
   ]
  },
  {
   "cell_type": "code",
   "execution_count": null,
   "id": "7e3c6517-785d-4b7e-bbea-1413c082c989",
   "metadata": {},
   "outputs": [],
   "source": []
  },
  {
   "cell_type": "code",
   "execution_count": 103,
   "id": "1c481d23-1b9c-4247-98fa-491b589ca68f",
   "metadata": {},
   "outputs": [
    {
     "name": "stdout",
     "output_type": "stream",
     "text": [
      "original value of a was 23\n",
      "Current Value of a is 2023\n"
     ]
    }
   ],
   "source": [
    "a = 23\n",
    "print('original value of a was',a)\n",
    "\n",
    "# a = a + 1000\n",
    "a += 2000\n",
    "\n",
    "print('Current Value of a is',a)"
   ]
  },
  {
   "cell_type": "code",
   "execution_count": null,
   "id": "b29ba316-3739-4b5f-aac8-9357a0ae00ac",
   "metadata": {},
   "outputs": [],
   "source": []
  },
  {
   "cell_type": "code",
   "execution_count": null,
   "id": "7c0a8e51-e24f-4405-8e8f-9385df23d874",
   "metadata": {},
   "outputs": [],
   "source": []
  },
  {
   "cell_type": "code",
   "execution_count": 107,
   "id": "7d94b692-b0b5-4c5d-9f06-27783f089266",
   "metadata": {},
   "outputs": [
    {
     "name": "stdout",
     "output_type": "stream",
     "text": [
      "original value of a was 23\n",
      "Current Value of a is -77\n"
     ]
    }
   ],
   "source": [
    "a = 23\n",
    "print('original value of a was',a)\n",
    "\n",
    "a -= 100\n",
    "\n",
    "print('Current Value of a is',a)"
   ]
  },
  {
   "cell_type": "code",
   "execution_count": null,
   "id": "1ddf3e57-88ec-40f7-b881-0974835bf482",
   "metadata": {},
   "outputs": [],
   "source": []
  },
  {
   "cell_type": "code",
   "execution_count": 110,
   "id": "dfb54369-ed80-417a-824d-139259cf28d0",
   "metadata": {},
   "outputs": [
    {
     "name": "stdout",
     "output_type": "stream",
     "text": [
      "original value of a was 23\n",
      "Current Value of a is 2300\n"
     ]
    }
   ],
   "source": [
    "a = 23\n",
    "print('original value of a was',a)\n",
    "\n",
    "a *= 100\n",
    "\n",
    "print('Current Value of a is',a)"
   ]
  },
  {
   "cell_type": "code",
   "execution_count": null,
   "id": "73f9885b-5d5a-4fa1-ad4a-4a04f8416746",
   "metadata": {},
   "outputs": [],
   "source": []
  },
  {
   "cell_type": "code",
   "execution_count": 113,
   "id": "6c11274c-2192-4e54-ae01-6ebdcdf975ea",
   "metadata": {},
   "outputs": [
    {
     "name": "stdout",
     "output_type": "stream",
     "text": [
      "original value of a was 23\n",
      "Current Value of a is 1.9166666666666667\n"
     ]
    }
   ],
   "source": [
    "a = 23\n",
    "print('original value of a was',a)\n",
    "\n",
    "a /= 12\n",
    "\n",
    "print('Current Value of a is',a)"
   ]
  },
  {
   "cell_type": "code",
   "execution_count": null,
   "id": "087e8a4f-3ce8-4cd0-9ae1-b2c439ded39a",
   "metadata": {},
   "outputs": [],
   "source": []
  },
  {
   "cell_type": "code",
   "execution_count": 116,
   "id": "749c5623-dccb-4b64-8620-d014dd584df1",
   "metadata": {},
   "outputs": [
    {
     "name": "stdout",
     "output_type": "stream",
     "text": [
      "original value of a was 23\n",
      "Current Value of a is 1\n"
     ]
    }
   ],
   "source": [
    "a = 23\n",
    "print('original value of a was',a)\n",
    "\n",
    "a //= 12\n",
    "\n",
    "print('Current Value of a is',a)"
   ]
  },
  {
   "cell_type": "code",
   "execution_count": null,
   "id": "41ac3cc8-3f68-4b7d-9e13-e7ee626f48d6",
   "metadata": {},
   "outputs": [],
   "source": []
  },
  {
   "cell_type": "code",
   "execution_count": 119,
   "id": "2aacda30-1fd1-4a75-9790-5a91f402aea8",
   "metadata": {},
   "outputs": [
    {
     "name": "stdout",
     "output_type": "stream",
     "text": [
      "original value of a was 20\n",
      "Current Value of a is 400\n"
     ]
    }
   ],
   "source": [
    "a = 20\n",
    "print('original value of a was',a)\n",
    "\n",
    "a **= 2\n",
    "\n",
    "print('Current Value of a is',a)"
   ]
  },
  {
   "cell_type": "code",
   "execution_count": 121,
   "id": "ff4ddf33-bfdf-4218-93e7-6fcc1d1c6c73",
   "metadata": {},
   "outputs": [
    {
     "name": "stdout",
     "output_type": "stream",
     "text": [
      "original value of a was 23\n",
      "Current Value of a is 11\n"
     ]
    }
   ],
   "source": [
    "a = 23\n",
    "print('original value of a was',a)\n",
    "\n",
    "a %= 12\n",
    "\n",
    "print('Current Value of a is',a)"
   ]
  },
  {
   "cell_type": "code",
   "execution_count": null,
   "id": "cc244685-c48d-41fc-840a-1074043617ab",
   "metadata": {},
   "outputs": [],
   "source": []
  }
 ],
 "metadata": {
  "kernelspec": {
   "display_name": "Python [conda env:base] *",
   "language": "python",
   "name": "conda-base-py"
  },
  "language_info": {
   "codemirror_mode": {
    "name": "ipython",
    "version": 3
   },
   "file_extension": ".py",
   "mimetype": "text/x-python",
   "name": "python",
   "nbconvert_exporter": "python",
   "pygments_lexer": "ipython3",
   "version": "3.12.7"
  }
 },
 "nbformat": 4,
 "nbformat_minor": 5
}
