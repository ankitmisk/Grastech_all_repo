{
 "cells": [
  {
   "cell_type": "markdown",
   "id": "5c0e34c6-88aa-46b0-9df8-ab72c2e14f3d",
   "metadata": {},
   "source": [
    "# # Functions basics, Type casting"
   ]
  },
  {
   "cell_type": "code",
   "execution_count": 544,
   "id": "b941e328-83bd-4100-a310-e61ab7b87af1",
   "metadata": {},
   "outputs": [],
   "source": [
    "# Data types"
   ]
  },
  {
   "cell_type": "code",
   "execution_count": 38,
   "id": "728c8913-c63c-47f6-b4ff-eba11cc86605",
   "metadata": {},
   "outputs": [],
   "source": [
    "# float\n",
    "# int\n",
    "# complex\n",
    "\n",
    "\n",
    "# str\n",
    "# list\n",
    "# tuple\n",
    "\n",
    "# set\n",
    "\n",
    "# dict\n",
    "\n",
    "# bool\n",
    "\n"
   ]
  },
  {
   "cell_type": "code",
   "execution_count": 8,
   "id": "6764b4c0-36f7-461e-aae2-1180c206d0e1",
   "metadata": {},
   "outputs": [],
   "source": [
    "# Casting:- convert one form to another form"
   ]
  },
  {
   "cell_type": "code",
   "execution_count": 10,
   "id": "41b8d0c2-f653-4be6-98d8-e4acf8d4252d",
   "metadata": {},
   "outputs": [
    {
     "data": {
      "text/plain": [
       "(23434.345+0j)"
      ]
     },
     "execution_count": 10,
     "metadata": {},
     "output_type": "execute_result"
    }
   ],
   "source": [
    "a = 23434.345\n",
    "\n",
    "complex(a)"
   ]
  },
  {
   "cell_type": "code",
   "execution_count": 12,
   "id": "f93091e4-6cb9-47d1-abb5-64c96fe35848",
   "metadata": {},
   "outputs": [
    {
     "data": {
      "text/plain": [
       "23434"
      ]
     },
     "execution_count": 12,
     "metadata": {},
     "output_type": "execute_result"
    }
   ],
   "source": [
    "int(a)"
   ]
  },
  {
   "cell_type": "code",
   "execution_count": 14,
   "id": "c61c4c7f-2531-465c-98ee-f8406e87ab16",
   "metadata": {},
   "outputs": [
    {
     "data": {
      "text/plain": [
       "float"
      ]
     },
     "execution_count": 14,
     "metadata": {},
     "output_type": "execute_result"
    }
   ],
   "source": [
    "type(a)"
   ]
  },
  {
   "cell_type": "code",
   "execution_count": 16,
   "id": "ad2c242c-fcf1-41ee-8656-061f129b9fc6",
   "metadata": {},
   "outputs": [],
   "source": [
    "a = 3456.999"
   ]
  },
  {
   "cell_type": "code",
   "execution_count": 18,
   "id": "8792a703-eca9-4d99-b5b4-8e4c5546750a",
   "metadata": {},
   "outputs": [
    {
     "data": {
      "text/plain": [
       "3456"
      ]
     },
     "execution_count": 18,
     "metadata": {},
     "output_type": "execute_result"
    }
   ],
   "source": [
    "int(a)"
   ]
  },
  {
   "cell_type": "code",
   "execution_count": 20,
   "id": "be2f4653-44a1-49a1-b3a3-29c0ff13cfc4",
   "metadata": {},
   "outputs": [],
   "source": [
    "age = 34"
   ]
  },
  {
   "cell_type": "code",
   "execution_count": 22,
   "id": "0514007f-6fac-4740-a96a-f012c7d4e352",
   "metadata": {},
   "outputs": [
    {
     "data": {
      "text/plain": [
       "16"
      ]
     },
     "execution_count": 22,
     "metadata": {},
     "output_type": "execute_result"
    }
   ],
   "source": [
    "age - 18"
   ]
  },
  {
   "cell_type": "code",
   "execution_count": 24,
   "id": "541db2ad-7634-43e7-b01d-95377db596d9",
   "metadata": {},
   "outputs": [],
   "source": [
    "age = 34"
   ]
  },
  {
   "cell_type": "code",
   "execution_count": 26,
   "id": "c574a366-f4ef-4b43-b589-655f29cf22df",
   "metadata": {},
   "outputs": [
    {
     "data": {
      "text/plain": [
       "34"
      ]
     },
     "execution_count": 26,
     "metadata": {},
     "output_type": "execute_result"
    }
   ],
   "source": [
    "age"
   ]
  },
  {
   "cell_type": "code",
   "execution_count": 28,
   "id": "6a6b37ba-910a-4330-9b78-16a7da4c7d73",
   "metadata": {},
   "outputs": [],
   "source": [
    "age = '34'"
   ]
  },
  {
   "cell_type": "code",
   "execution_count": 30,
   "id": "3c879645-cf6e-46b0-8bba-3a7e6109a0d0",
   "metadata": {},
   "outputs": [
    {
     "data": {
      "text/plain": [
       "'34'"
      ]
     },
     "execution_count": 30,
     "metadata": {},
     "output_type": "execute_result"
    }
   ],
   "source": [
    "age"
   ]
  },
  {
   "cell_type": "code",
   "execution_count": 32,
   "id": "f259d18f-e207-4856-ae9c-720afad1ddcb",
   "metadata": {},
   "outputs": [
    {
     "ename": "TypeError",
     "evalue": "unsupported operand type(s) for -: 'str' and 'int'",
     "output_type": "error",
     "traceback": [
      "\u001b[1;31m---------------------------------------------------------------------------\u001b[0m",
      "\u001b[1;31mTypeError\u001b[0m                                 Traceback (most recent call last)",
      "Cell \u001b[1;32mIn[32], line 1\u001b[0m\n\u001b[1;32m----> 1\u001b[0m age \u001b[38;5;241m-\u001b[39m \u001b[38;5;241m18\u001b[39m\n",
      "\u001b[1;31mTypeError\u001b[0m: unsupported operand type(s) for -: 'str' and 'int'"
     ]
    }
   ],
   "source": [
    "age - 18"
   ]
  },
  {
   "cell_type": "code",
   "execution_count": 36,
   "id": "6cbcd039-dc1e-45b7-a469-430cf5b2fe0d",
   "metadata": {},
   "outputs": [
    {
     "data": {
      "text/plain": [
       "16"
      ]
     },
     "execution_count": 36,
     "metadata": {},
     "output_type": "execute_result"
    }
   ],
   "source": [
    "int(age) - 18"
   ]
  },
  {
   "cell_type": "code",
   "execution_count": 40,
   "id": "41d9c840-a7bb-4bfe-8fcb-0f31939d3127",
   "metadata": {},
   "outputs": [],
   "source": [
    "a = 'mohan'"
   ]
  },
  {
   "cell_type": "code",
   "execution_count": 42,
   "id": "707e188c-8eed-4c98-b3cf-521dfb7c0484",
   "metadata": {},
   "outputs": [
    {
     "ename": "ValueError",
     "evalue": "could not convert string to float: 'mohan'",
     "output_type": "error",
     "traceback": [
      "\u001b[1;31m---------------------------------------------------------------------------\u001b[0m",
      "\u001b[1;31mValueError\u001b[0m                                Traceback (most recent call last)",
      "Cell \u001b[1;32mIn[42], line 1\u001b[0m\n\u001b[1;32m----> 1\u001b[0m \u001b[38;5;28mfloat\u001b[39m(a)\n",
      "\u001b[1;31mValueError\u001b[0m: could not convert string to float: 'mohan'"
     ]
    }
   ],
   "source": [
    "float(a)"
   ]
  },
  {
   "cell_type": "code",
   "execution_count": 44,
   "id": "bc367f78-de9d-4a76-b58c-d2ab88e5c43a",
   "metadata": {},
   "outputs": [],
   "source": [
    "a = '45.7'"
   ]
  },
  {
   "cell_type": "code",
   "execution_count": 46,
   "id": "e6af9816-413a-4c7b-869b-0a190ab69cd3",
   "metadata": {},
   "outputs": [
    {
     "data": {
      "text/plain": [
       "45.7"
      ]
     },
     "execution_count": 46,
     "metadata": {},
     "output_type": "execute_result"
    }
   ],
   "source": [
    "float(a)"
   ]
  },
  {
   "cell_type": "code",
   "execution_count": 56,
   "id": "168d0550-9774-47f2-a11b-d674c5ee0ca2",
   "metadata": {},
   "outputs": [],
   "source": [
    "salary = '4567.45678'"
   ]
  },
  {
   "cell_type": "code",
   "execution_count": 63,
   "id": "1d35f394-951e-4ba2-9219-96ef1bda153d",
   "metadata": {},
   "outputs": [
    {
     "data": {
      "text/plain": [
       "4567"
      ]
     },
     "execution_count": 63,
     "metadata": {},
     "output_type": "execute_result"
    }
   ],
   "source": [
    "int(float(salary))"
   ]
  },
  {
   "cell_type": "code",
   "execution_count": 65,
   "id": "f281966a-36e5-4da3-bf9f-2c31e2bd7c36",
   "metadata": {},
   "outputs": [],
   "source": [
    "# bool"
   ]
  },
  {
   "cell_type": "code",
   "execution_count": 67,
   "id": "b466cc56-395d-4b26-b0d5-b49e2bafae76",
   "metadata": {},
   "outputs": [],
   "source": [
    "a  = 0"
   ]
  },
  {
   "cell_type": "code",
   "execution_count": 69,
   "id": "cb9c23f4-bc0e-4b89-81c1-e58d48511ea1",
   "metadata": {},
   "outputs": [
    {
     "data": {
      "text/plain": [
       "False"
      ]
     },
     "execution_count": 69,
     "metadata": {},
     "output_type": "execute_result"
    }
   ],
   "source": [
    "bool(a)"
   ]
  },
  {
   "cell_type": "code",
   "execution_count": 71,
   "id": "125446b1-8d22-4991-b567-544f638a5ac1",
   "metadata": {},
   "outputs": [],
   "source": [
    "a = 1"
   ]
  },
  {
   "cell_type": "code",
   "execution_count": 73,
   "id": "4e6dd3eb-bfcc-409a-b90a-34bb272a29e3",
   "metadata": {},
   "outputs": [
    {
     "data": {
      "text/plain": [
       "True"
      ]
     },
     "execution_count": 73,
     "metadata": {},
     "output_type": "execute_result"
    }
   ],
   "source": [
    "bool(a)"
   ]
  },
  {
   "cell_type": "code",
   "execution_count": 75,
   "id": "162d9670-a8a2-4202-a7c7-35839aa1789e",
   "metadata": {},
   "outputs": [],
   "source": [
    "a = -1"
   ]
  },
  {
   "cell_type": "code",
   "execution_count": 77,
   "id": "6f60e4df-2876-4641-b50f-822755b3ac4c",
   "metadata": {},
   "outputs": [
    {
     "data": {
      "text/plain": [
       "True"
      ]
     },
     "execution_count": 77,
     "metadata": {},
     "output_type": "execute_result"
    }
   ],
   "source": [
    "bool(a)"
   ]
  },
  {
   "cell_type": "code",
   "execution_count": 79,
   "id": "9ad23266-f811-4dcd-afa1-99585ee68052",
   "metadata": {},
   "outputs": [],
   "source": [
    "c = None"
   ]
  },
  {
   "cell_type": "code",
   "execution_count": 81,
   "id": "52ba1d8f-8ddb-4662-8e6f-ecc9ac88feaf",
   "metadata": {},
   "outputs": [
    {
     "data": {
      "text/plain": [
       "False"
      ]
     },
     "execution_count": 81,
     "metadata": {},
     "output_type": "execute_result"
    }
   ],
   "source": [
    "bool(c)"
   ]
  },
  {
   "cell_type": "code",
   "execution_count": 83,
   "id": "b0c3caa1-c7da-4038-b110-af81e5d416f7",
   "metadata": {},
   "outputs": [],
   "source": [
    "f = [23,35,3,5,35,56]"
   ]
  },
  {
   "cell_type": "code",
   "execution_count": 85,
   "id": "2a7554d2-10d5-45be-bfd9-599e093dd5d1",
   "metadata": {},
   "outputs": [
    {
     "data": {
      "text/plain": [
       "True"
      ]
     },
     "execution_count": 85,
     "metadata": {},
     "output_type": "execute_result"
    }
   ],
   "source": [
    "bool(f)"
   ]
  },
  {
   "cell_type": "code",
   "execution_count": 107,
   "id": "7cfefaca-e584-4c52-9f36-06ee919d4d04",
   "metadata": {},
   "outputs": [],
   "source": [
    "b = 'None'"
   ]
  },
  {
   "cell_type": "code",
   "execution_count": 109,
   "id": "ce0524e3-4e68-41ee-a620-cfca53b30ed6",
   "metadata": {},
   "outputs": [
    {
     "data": {
      "text/plain": [
       "True"
      ]
     },
     "execution_count": 109,
     "metadata": {},
     "output_type": "execute_result"
    }
   ],
   "source": [
    "bool(b)"
   ]
  },
  {
   "cell_type": "code",
   "execution_count": 111,
   "id": "ae512c92-b977-4600-8d92-ede8e0d3458f",
   "metadata": {},
   "outputs": [],
   "source": [
    "# a = False\n",
    "# a = 0\n",
    "# a = None\n",
    "# a = ''"
   ]
  },
  {
   "cell_type": "code",
   "execution_count": 138,
   "id": "315cf215-1d33-46e0-b4af-ba50cd638c50",
   "metadata": {},
   "outputs": [],
   "source": [
    "g = []"
   ]
  },
  {
   "cell_type": "code",
   "execution_count": 140,
   "id": "72d1c401-0eb9-4c71-b49e-28cba2b28f10",
   "metadata": {},
   "outputs": [
    {
     "data": {
      "text/plain": [
       "False"
      ]
     },
     "execution_count": 140,
     "metadata": {},
     "output_type": "execute_result"
    }
   ],
   "source": [
    "bool(g)"
   ]
  },
  {
   "cell_type": "code",
   "execution_count": 142,
   "id": "185da4bc-8acd-4745-8fb5-6653303bfe13",
   "metadata": {},
   "outputs": [
    {
     "data": {
      "text/plain": [
       "list"
      ]
     },
     "execution_count": 142,
     "metadata": {},
     "output_type": "execute_result"
    }
   ],
   "source": [
    "type(g)"
   ]
  },
  {
   "cell_type": "code",
   "execution_count": 158,
   "id": "65873b74-0e82-457e-b063-dd0543525b07",
   "metadata": {},
   "outputs": [],
   "source": [
    "d = (23,)"
   ]
  },
  {
   "cell_type": "code",
   "execution_count": 160,
   "id": "15ab282f-87b4-443e-893b-a8155decce05",
   "metadata": {},
   "outputs": [
    {
     "data": {
      "text/plain": [
       "tuple"
      ]
     },
     "execution_count": 160,
     "metadata": {},
     "output_type": "execute_result"
    }
   ],
   "source": [
    "type(d)"
   ]
  },
  {
   "cell_type": "code",
   "execution_count": 162,
   "id": "90066b56-2eb4-439f-bd70-b83c12cb7832",
   "metadata": {},
   "outputs": [
    {
     "data": {
      "text/plain": [
       "True"
      ]
     },
     "execution_count": 162,
     "metadata": {},
     "output_type": "execute_result"
    }
   ],
   "source": [
    "bool(d)"
   ]
  },
  {
   "cell_type": "code",
   "execution_count": null,
   "id": "e4c97199-c071-46ae-b876-628d0b1defa0",
   "metadata": {},
   "outputs": [],
   "source": []
  },
  {
   "cell_type": "code",
   "execution_count": 164,
   "id": "4db4c380-07ea-4596-854a-7464f5ad9724",
   "metadata": {},
   "outputs": [],
   "source": [
    "# list\n",
    "# # tuple\n"
   ]
  },
  {
   "cell_type": "code",
   "execution_count": 174,
   "id": "421b7837-73e1-4ca9-b159-b4e216effbbf",
   "metadata": {},
   "outputs": [],
   "source": [
    "data = list(('Arun','vijay','Ravi','Sahil'))"
   ]
  },
  {
   "cell_type": "code",
   "execution_count": 176,
   "id": "ad579d59-79ce-46f0-9da3-f43086b41b3f",
   "metadata": {},
   "outputs": [
    {
     "data": {
      "text/plain": [
       "list"
      ]
     },
     "execution_count": 176,
     "metadata": {},
     "output_type": "execute_result"
    }
   ],
   "source": [
    "type(data)"
   ]
  },
  {
   "cell_type": "code",
   "execution_count": 178,
   "id": "ff552ce4-fbfd-4398-91e1-6f9965bf8e9d",
   "metadata": {},
   "outputs": [],
   "source": [
    "data[1] = 'Vijay Sharma'"
   ]
  },
  {
   "cell_type": "code",
   "execution_count": 180,
   "id": "a85ba741-0ca8-40ca-aac4-2245d6f29984",
   "metadata": {},
   "outputs": [
    {
     "data": {
      "text/plain": [
       "['Arun', 'Vijay Sharma', 'Ravi', 'Sahil']"
      ]
     },
     "execution_count": 180,
     "metadata": {},
     "output_type": "execute_result"
    }
   ],
   "source": [
    "data"
   ]
  },
  {
   "cell_type": "code",
   "execution_count": null,
   "id": "48163603-93da-4a3c-ba05-fa4178eefdbe",
   "metadata": {},
   "outputs": [],
   "source": []
  },
  {
   "cell_type": "markdown",
   "id": "70e374fa-f750-4634-8830-8362b4e1f53b",
   "metadata": {},
   "source": [
    "# Inbuilt Functions"
   ]
  },
  {
   "cell_type": "code",
   "execution_count": 190,
   "id": "e0bcba03-03df-4efa-b3fd-190dc223c27e",
   "metadata": {},
   "outputs": [
    {
     "name": "stdout",
     "output_type": "stream",
     "text": [
      "Hello Vijay How are you??\n"
     ]
    }
   ],
   "source": [
    "name = 'Vijay'\n",
    "\n",
    "print('Hello',name,'How are you??')"
   ]
  },
  {
   "cell_type": "code",
   "execution_count": 192,
   "id": "96354136-ed75-472e-b737-b521512a44b7",
   "metadata": {},
   "outputs": [],
   "source": [
    "# input()"
   ]
  },
  {
   "cell_type": "code",
   "execution_count": 200,
   "id": "21f50504-01ec-4250-8f49-b1d2f62ebb50",
   "metadata": {},
   "outputs": [
    {
     "name": "stdin",
     "output_type": "stream",
     "text": [
      "Enter your name:---->>  Harry malhotra\n"
     ]
    },
    {
     "name": "stdout",
     "output_type": "stream",
     "text": [
      "Hello Harry malhotra How are you??\n"
     ]
    }
   ],
   "source": [
    "name = input('Enter your name:---->> ')\n",
    "\n",
    "print('Hello',name,'How are you??')"
   ]
  },
  {
   "cell_type": "code",
   "execution_count": null,
   "id": "441ea782-ce8b-41a6-b41c-bca52d8475aa",
   "metadata": {},
   "outputs": [],
   "source": []
  },
  {
   "cell_type": "code",
   "execution_count": 217,
   "id": "7e1a811a-b2f5-48be-9c91-43c926bcb467",
   "metadata": {},
   "outputs": [],
   "source": [
    "# '34' + '35'"
   ]
  },
  {
   "cell_type": "code",
   "execution_count": 210,
   "id": "b65316e1-ed41-4da7-aac7-7f9fa895e25a",
   "metadata": {},
   "outputs": [
    {
     "data": {
      "text/plain": [
       "str"
      ]
     },
     "execution_count": 210,
     "metadata": {},
     "output_type": "execute_result"
    }
   ],
   "source": [
    "type(num1)"
   ]
  },
  {
   "cell_type": "code",
   "execution_count": 212,
   "id": "aa002652-7a4a-4541-a0c0-3a79d387bb42",
   "metadata": {},
   "outputs": [
    {
     "data": {
      "text/plain": [
       "str"
      ]
     },
     "execution_count": 212,
     "metadata": {},
     "output_type": "execute_result"
    }
   ],
   "source": [
    "type(num2)"
   ]
  },
  {
   "cell_type": "code",
   "execution_count": 221,
   "id": "fecca92f-360b-4435-94ef-94261a17bdb2",
   "metadata": {},
   "outputs": [
    {
     "name": "stdin",
     "output_type": "stream",
     "text": [
      "Enter Number 1:  23\n",
      "Enter number 2:  12\n"
     ]
    },
    {
     "name": "stdout",
     "output_type": "stream",
     "text": [
      "35\n"
     ]
    }
   ],
   "source": [
    "a = input('Enter Number 1: ')\n",
    "b = input('Enter number 2: ')\n",
    "\n",
    "print(int(a) + int(b))"
   ]
  },
  {
   "cell_type": "code",
   "execution_count": 233,
   "id": "7b5950b2-559c-4b57-a87a-ca146a51f30e",
   "metadata": {},
   "outputs": [
    {
     "name": "stdin",
     "output_type": "stream",
     "text": [
      "Enter Number 1:  sandeep\n"
     ]
    },
    {
     "ename": "ValueError",
     "evalue": "invalid literal for int() with base 10: 'sandeep'",
     "output_type": "error",
     "traceback": [
      "\u001b[1;31m---------------------------------------------------------------------------\u001b[0m",
      "\u001b[1;31mValueError\u001b[0m                                Traceback (most recent call last)",
      "Cell \u001b[1;32mIn[233], line 1\u001b[0m\n\u001b[1;32m----> 1\u001b[0m a \u001b[38;5;241m=\u001b[39m \u001b[38;5;28mint\u001b[39m(\u001b[38;5;28minput\u001b[39m(\u001b[38;5;124m'\u001b[39m\u001b[38;5;124mEnter Number 1: \u001b[39m\u001b[38;5;124m'\u001b[39m))\n\u001b[0;32m      2\u001b[0m b \u001b[38;5;241m=\u001b[39m \u001b[38;5;28mint\u001b[39m(\u001b[38;5;28minput\u001b[39m(\u001b[38;5;124m'\u001b[39m\u001b[38;5;124mEnter number 2: \u001b[39m\u001b[38;5;124m'\u001b[39m))\n\u001b[0;32m      4\u001b[0m \u001b[38;5;28mprint\u001b[39m(a \u001b[38;5;241m+\u001b[39m b)\n",
      "\u001b[1;31mValueError\u001b[0m: invalid literal for int() with base 10: 'sandeep'"
     ]
    }
   ],
   "source": [
    "a = int(input('Enter Number 1: '))\n",
    "b = int(input('Enter number 2: '))\n",
    "\n",
    "print(a + b)"
   ]
  },
  {
   "cell_type": "code",
   "execution_count": 229,
   "id": "b8d34ccc-b954-44e9-af95-13a9686689e0",
   "metadata": {},
   "outputs": [],
   "source": [
    "# int('34' + '56')"
   ]
  },
  {
   "cell_type": "code",
   "execution_count": null,
   "id": "0b8196ce-ad50-40ed-8927-a83f71f30239",
   "metadata": {},
   "outputs": [],
   "source": []
  },
  {
   "cell_type": "code",
   "execution_count": 236,
   "id": "20cb9f7e-2530-435d-adda-07987e34b3c7",
   "metadata": {},
   "outputs": [],
   "source": [
    "# type()\n",
    "# print()\n",
    "# input()"
   ]
  },
  {
   "cell_type": "code",
   "execution_count": 238,
   "id": "74631432-1f31-4fce-afd0-232656982199",
   "metadata": {},
   "outputs": [],
   "source": [
    "# int()\n",
    "# str()"
   ]
  },
  {
   "cell_type": "code",
   "execution_count": 246,
   "id": "0694d58f-fbe2-4e12-af84-5f63efa203fd",
   "metadata": {},
   "outputs": [],
   "source": [
    "# type(int)"
   ]
  },
  {
   "cell_type": "code",
   "execution_count": 250,
   "id": "ab00f23c-2d95-4ceb-89ec-245c161fe081",
   "metadata": {},
   "outputs": [],
   "source": [
    "data = 'harry'"
   ]
  },
  {
   "cell_type": "code",
   "execution_count": 276,
   "id": "da7679cb-8378-4e18-b755-fbe0ec3341c7",
   "metadata": {},
   "outputs": [],
   "source": [
    "# ord\n",
    "# chr\n",
    "# id\n",
    "# max\n",
    "# min\n",
    "# round\n",
    "# len\n",
    "# sum\n",
    "# eval\n",
    "# exec\n",
    "# execfile\n",
    "# help\n",
    "# dir\n",
    "# range"
   ]
  },
  {
   "cell_type": "code",
   "execution_count": 262,
   "id": "7aadaa0a-87e8-49eb-89f4-3b27a8587c06",
   "metadata": {},
   "outputs": [
    {
     "name": "stdout",
     "output_type": "stream",
     "text": [
      "['ArithmeticError', 'AssertionError', 'AttributeError', 'BaseException', 'BaseExceptionGroup', 'BlockingIOError', 'BrokenPipeError', 'BufferError', 'BytesWarning', 'ChildProcessError', 'ConnectionAbortedError', 'ConnectionError', 'ConnectionRefusedError', 'ConnectionResetError', 'DeprecationWarning', 'EOFError', 'Ellipsis', 'EncodingWarning', 'EnvironmentError', 'Exception', 'ExceptionGroup', 'False', 'FileExistsError', 'FileNotFoundError', 'FloatingPointError', 'FutureWarning', 'GeneratorExit', 'IOError', 'ImportError', 'ImportWarning', 'IndentationError', 'IndexError', 'InterruptedError', 'IsADirectoryError', 'KeyError', 'KeyboardInterrupt', 'LookupError', 'MemoryError', 'ModuleNotFoundError', 'NameError', 'None', 'NotADirectoryError', 'NotImplemented', 'NotImplementedError', 'OSError', 'OverflowError', 'PendingDeprecationWarning', 'PermissionError', 'ProcessLookupError', 'RecursionError', 'ReferenceError', 'ResourceWarning', 'RuntimeError', 'RuntimeWarning', 'StopAsyncIteration', 'StopIteration', 'SyntaxError', 'SyntaxWarning', 'SystemError', 'SystemExit', 'TabError', 'TimeoutError', 'True', 'TypeError', 'UnboundLocalError', 'UnicodeDecodeError', 'UnicodeEncodeError', 'UnicodeError', 'UnicodeTranslateError', 'UnicodeWarning', 'UserWarning', 'ValueError', 'Warning', 'WindowsError', 'ZeroDivisionError', '__IPYTHON__', '__build_class__', '__debug__', '__doc__', '__import__', '__loader__', '__name__', '__package__', '__spec__', 'abs', 'aiter', 'all', 'anext', 'any', 'ascii', 'bin', 'bool', 'breakpoint', 'bytearray', 'bytes', 'callable', 'chr', 'classmethod', 'compile', 'complex', 'copyright', 'credits', 'delattr', 'dict', 'dir', 'display', 'divmod', 'enumerate', 'eval', 'exec', 'execfile', 'filter', 'float', 'format', 'frozenset', 'get_ipython', 'getattr', 'globals', 'hasattr', 'hash', 'help', 'hex', 'id', 'input', 'int', 'isinstance', 'issubclass', 'iter', 'len', 'license', 'list', 'locals', 'map', 'max', 'memoryview', 'min', 'next', 'object', 'oct', 'open', 'ord', 'pow', 'print', 'property', 'range', 'repr', 'reversed', 'round', 'runfile', 'set', 'setattr', 'slice', 'sorted', 'staticmethod', 'str', 'sum', 'super', 'tuple', 'type', 'vars', 'zip']\n"
     ]
    }
   ],
   "source": [
    "print(dir(__builtins__))"
   ]
  },
  {
   "cell_type": "code",
   "execution_count": 264,
   "id": "8745ef95-d920-42b8-a0a9-0ecbf857d6b0",
   "metadata": {},
   "outputs": [
    {
     "name": "stdout",
     "output_type": "stream",
     "text": [
      "\n",
      "Here is a list of the Python keywords.  Enter any keyword to get more help.\n",
      "\n",
      "False               class               from                or\n",
      "None                continue            global              pass\n",
      "True                def                 if                  raise\n",
      "and                 del                 import              return\n",
      "as                  elif                in                  try\n",
      "assert              else                is                  while\n",
      "async               except              lambda              with\n",
      "await               finally             nonlocal            yield\n",
      "break               for                 not                 \n",
      "\n"
     ]
    }
   ],
   "source": [
    "help('keywords')"
   ]
  },
  {
   "cell_type": "code",
   "execution_count": 266,
   "id": "c225649f-0a5c-4657-8788-c7d6b0ddb8f4",
   "metadata": {},
   "outputs": [],
   "source": [
    "# False()"
   ]
  },
  {
   "cell_type": "code",
   "execution_count": 268,
   "id": "547f97c9-ab65-47c4-8a61-814858f7679e",
   "metadata": {},
   "outputs": [],
   "source": [
    "# print()"
   ]
  },
  {
   "cell_type": "code",
   "execution_count": 270,
   "id": "7448f94e-e8be-4f11-a34e-1d404aa0d538",
   "metadata": {},
   "outputs": [],
   "source": [
    "print()"
   ]
  },
  {
   "cell_type": "code",
   "execution_count": 272,
   "id": "8fe28923-1795-463d-9f1b-b293e6ffc4aa",
   "metadata": {},
   "outputs": [],
   "source": [
    "None"
   ]
  },
  {
   "cell_type": "code",
   "execution_count": 278,
   "id": "3c7735e4-89f2-42ad-b4c8-03350694e323",
   "metadata": {},
   "outputs": [],
   "source": [
    "# ord\n",
    "# chr\n",
    "# id\n",
    "# max\n",
    "# min\n",
    "# round\n",
    "# len\n",
    "# sum\n",
    "# eval\n",
    "# exec\n",
    "# execfile\n",
    "# help\n",
    "# dir\n",
    "# range"
   ]
  },
  {
   "cell_type": "code",
   "execution_count": 282,
   "id": "60bd6771-ff6d-4385-aa37-5b6bbae2e737",
   "metadata": {},
   "outputs": [
    {
     "data": {
      "text/plain": [
       "77"
      ]
     },
     "execution_count": 282,
     "metadata": {},
     "output_type": "execute_result"
    }
   ],
   "source": [
    "ord('M')"
   ]
  },
  {
   "cell_type": "code",
   "execution_count": 284,
   "id": "c92ec88b-9c08-4643-b769-d7d432d4b002",
   "metadata": {},
   "outputs": [],
   "source": [
    "# memoryview()"
   ]
  },
  {
   "cell_type": "code",
   "execution_count": 286,
   "id": "28318243-604b-4ce5-8904-e3a369178b4b",
   "metadata": {},
   "outputs": [
    {
     "data": {
      "text/plain": [
       "2309"
      ]
     },
     "execution_count": 286,
     "metadata": {},
     "output_type": "execute_result"
    }
   ],
   "source": [
    "ord('अ')"
   ]
  },
  {
   "cell_type": "code",
   "execution_count": 288,
   "id": "7aa0a39a-e6d2-4d1e-924d-9fa4ef3c6e72",
   "metadata": {},
   "outputs": [
    {
     "data": {
      "text/plain": [
       "'अ'"
      ]
     },
     "execution_count": 288,
     "metadata": {},
     "output_type": "execute_result"
    }
   ],
   "source": [
    "chr(2309)"
   ]
  },
  {
   "cell_type": "code",
   "execution_count": 290,
   "id": "617ae2ff-4584-4351-9ab2-e4682a6752ea",
   "metadata": {},
   "outputs": [
    {
     "data": {
      "text/plain": [
       "32"
      ]
     },
     "execution_count": 290,
     "metadata": {},
     "output_type": "execute_result"
    }
   ],
   "source": [
    "ord(' ')"
   ]
  },
  {
   "cell_type": "code",
   "execution_count": 300,
   "id": "15888a51-be01-45e4-9eb1-a0bbf3d44e70",
   "metadata": {},
   "outputs": [
    {
     "data": {
      "text/plain": [
       "'ऊ'"
      ]
     },
     "execution_count": 300,
     "metadata": {},
     "output_type": "execute_result"
    }
   ],
   "source": [
    "chr(2314)"
   ]
  },
  {
   "cell_type": "code",
   "execution_count": 302,
   "id": "93747690-dc8b-4905-a3b3-200013beed02",
   "metadata": {},
   "outputs": [
    {
     "data": {
      "text/plain": [
       "128522"
      ]
     },
     "execution_count": 302,
     "metadata": {},
     "output_type": "execute_result"
    }
   ],
   "source": [
    "ord('😊')"
   ]
  },
  {
   "cell_type": "code",
   "execution_count": 310,
   "id": "6c842fcd-fe3c-4859-b753-0babb7bdf69c",
   "metadata": {},
   "outputs": [
    {
     "data": {
      "text/plain": [
       "'😍'"
      ]
     },
     "execution_count": 310,
     "metadata": {},
     "output_type": "execute_result"
    }
   ],
   "source": [
    "chr(128525)"
   ]
  },
  {
   "cell_type": "code",
   "execution_count": 318,
   "id": "aae09c8b-0176-426e-9120-1fa16644cbd1",
   "metadata": {},
   "outputs": [
    {
     "data": {
      "text/plain": [
       "65"
      ]
     },
     "execution_count": 318,
     "metadata": {},
     "output_type": "execute_result"
    }
   ],
   "source": [
    "ord('A')"
   ]
  },
  {
   "cell_type": "code",
   "execution_count": 320,
   "id": "9a59ce7d-c24d-4ffe-b8a3-c41817e958e1",
   "metadata": {},
   "outputs": [
    {
     "data": {
      "text/plain": [
       "109"
      ]
     },
     "execution_count": 320,
     "metadata": {},
     "output_type": "execute_result"
    }
   ],
   "source": [
    "ord('m')"
   ]
  },
  {
   "cell_type": "code",
   "execution_count": 322,
   "id": "4af37080-b26d-40af-96fb-04be5cd5e140",
   "metadata": {},
   "outputs": [
    {
     "data": {
      "text/plain": [
       "97"
      ]
     },
     "execution_count": 322,
     "metadata": {},
     "output_type": "execute_result"
    }
   ],
   "source": [
    "ord('a')"
   ]
  },
  {
   "cell_type": "code",
   "execution_count": 324,
   "id": "52ab68e1-9058-4382-a572-999128705ab4",
   "metadata": {},
   "outputs": [
    {
     "data": {
      "text/plain": [
       "110"
      ]
     },
     "execution_count": 324,
     "metadata": {},
     "output_type": "execute_result"
    }
   ],
   "source": [
    "ord('n')"
   ]
  },
  {
   "cell_type": "code",
   "execution_count": 326,
   "id": "cd1fdbc6-f7e0-49ae-89d5-8188fd4ac1b1",
   "metadata": {},
   "outputs": [],
   "source": [
    "# max\n",
    "# min\n",
    "# round\n",
    "# len\n",
    "# sum"
   ]
  },
  {
   "cell_type": "code",
   "execution_count": 328,
   "id": "ea36f8ec-beb1-4a38-bba8-c1a1d3810ae0",
   "metadata": {},
   "outputs": [],
   "source": [
    "a = [2,34,23,534,6]"
   ]
  },
  {
   "cell_type": "code",
   "execution_count": 330,
   "id": "1792c9ef-8a79-4240-a258-b2e776c16cdf",
   "metadata": {},
   "outputs": [
    {
     "data": {
      "text/plain": [
       "1703445438464"
      ]
     },
     "execution_count": 330,
     "metadata": {},
     "output_type": "execute_result"
    }
   ],
   "source": [
    "id(a)"
   ]
  },
  {
   "cell_type": "code",
   "execution_count": 334,
   "id": "9ccd9912-56b3-44ba-84c0-596692cf00cc",
   "metadata": {},
   "outputs": [
    {
     "name": "stdout",
     "output_type": "stream",
     "text": [
      "[2, 34, 23, 534, 6]\n"
     ]
    }
   ],
   "source": [
    "print(a)"
   ]
  },
  {
   "cell_type": "code",
   "execution_count": 336,
   "id": "f0504c86-54cc-4437-a773-5f01459d0bb8",
   "metadata": {},
   "outputs": [
    {
     "name": "stdout",
     "output_type": "stream",
     "text": [
      "[2, 34, 23, 534, 6]\n"
     ]
    }
   ],
   "source": [
    "print(a)"
   ]
  },
  {
   "cell_type": "code",
   "execution_count": 338,
   "id": "52d65911-bb03-42e2-8c2c-af5039f9563b",
   "metadata": {},
   "outputs": [
    {
     "data": {
      "text/plain": [
       "534"
      ]
     },
     "execution_count": 338,
     "metadata": {},
     "output_type": "execute_result"
    }
   ],
   "source": [
    "max(a)"
   ]
  },
  {
   "cell_type": "code",
   "execution_count": 340,
   "id": "d982bac3-b509-49c9-bd05-62af18a4dd08",
   "metadata": {},
   "outputs": [
    {
     "data": {
      "text/plain": [
       "2"
      ]
     },
     "execution_count": 340,
     "metadata": {},
     "output_type": "execute_result"
    }
   ],
   "source": [
    "min(a)"
   ]
  },
  {
   "cell_type": "code",
   "execution_count": 342,
   "id": "c88fa816-2cf6-4a3a-b160-4f74f7591990",
   "metadata": {},
   "outputs": [
    {
     "data": {
      "text/plain": [
       "599"
      ]
     },
     "execution_count": 342,
     "metadata": {},
     "output_type": "execute_result"
    }
   ],
   "source": [
    "sum(a)"
   ]
  },
  {
   "cell_type": "code",
   "execution_count": 344,
   "id": "6eff3c5c-ae2a-48de-88ce-6a5f74ab25f9",
   "metadata": {},
   "outputs": [
    {
     "data": {
      "text/plain": [
       "[2, 34, 23, 534, 6]"
      ]
     },
     "execution_count": 344,
     "metadata": {},
     "output_type": "execute_result"
    }
   ],
   "source": [
    "a"
   ]
  },
  {
   "cell_type": "code",
   "execution_count": 346,
   "id": "91c8e9fc-f277-4ce6-8638-0ed33fa45b6e",
   "metadata": {},
   "outputs": [
    {
     "data": {
      "text/plain": [
       "5"
      ]
     },
     "execution_count": 346,
     "metadata": {},
     "output_type": "execute_result"
    }
   ],
   "source": [
    "len(a)"
   ]
  },
  {
   "cell_type": "code",
   "execution_count": 348,
   "id": "6208cffd-16a1-4f38-8434-c361f6825ab4",
   "metadata": {},
   "outputs": [],
   "source": [
    "name = 'Sandeep Verma kanpur waale'"
   ]
  },
  {
   "cell_type": "code",
   "execution_count": 350,
   "id": "ec886032-8f33-4dde-ab8f-1cafb05d5f20",
   "metadata": {},
   "outputs": [
    {
     "data": {
      "text/plain": [
       "26"
      ]
     },
     "execution_count": 350,
     "metadata": {},
     "output_type": "execute_result"
    }
   ],
   "source": [
    "len(name)"
   ]
  },
  {
   "cell_type": "code",
   "execution_count": 360,
   "id": "198fffe2-e1fd-444a-8fed-115ab14f5e68",
   "metadata": {},
   "outputs": [
    {
     "data": {
      "text/plain": [
       "5"
      ]
     },
     "execution_count": 360,
     "metadata": {},
     "output_type": "execute_result"
    }
   ],
   "source": [
    "a = 'Mohan'\n",
    "len(a)"
   ]
  },
  {
   "cell_type": "code",
   "execution_count": 362,
   "id": "482ec1a4-f0a8-481f-bbd2-2e05620de18e",
   "metadata": {},
   "outputs": [],
   "source": [
    "students = ('jatin','ravi','sohan','mukul')"
   ]
  },
  {
   "cell_type": "code",
   "execution_count": 364,
   "id": "5093fc4f-6320-4af3-9575-20c665809ada",
   "metadata": {},
   "outputs": [
    {
     "data": {
      "text/plain": [
       "4"
      ]
     },
     "execution_count": 364,
     "metadata": {},
     "output_type": "execute_result"
    }
   ],
   "source": [
    "len(students)"
   ]
  },
  {
   "cell_type": "code",
   "execution_count": 366,
   "id": "f32299b3-e2bd-463e-8432-d41c8837d549",
   "metadata": {},
   "outputs": [],
   "source": [
    "# sorted"
   ]
  },
  {
   "cell_type": "code",
   "execution_count": 368,
   "id": "0a9a9e7d-c5f7-49b4-92ce-855cfcc74a9c",
   "metadata": {},
   "outputs": [],
   "source": [
    "a = 45.5675"
   ]
  },
  {
   "cell_type": "code",
   "execution_count": 372,
   "id": "f59dc2f9-aacb-4a49-87a5-4684c8151119",
   "metadata": {},
   "outputs": [
    {
     "data": {
      "text/plain": [
       "45.57"
      ]
     },
     "execution_count": 372,
     "metadata": {},
     "output_type": "execute_result"
    }
   ],
   "source": [
    "round(a,2)"
   ]
  },
  {
   "cell_type": "code",
   "execution_count": 374,
   "id": "0899492c-1721-4dbf-a130-41dd4e4874ee",
   "metadata": {},
   "outputs": [],
   "source": [
    "# eval\n",
    "# exec\n",
    "# execfile\n",
    "# help\n",
    "# dir\n",
    "# range"
   ]
  },
  {
   "cell_type": "code",
   "execution_count": 376,
   "id": "da648725-e190-4e10-8886-880c6e4343cb",
   "metadata": {},
   "outputs": [],
   "source": [
    "a = [2,34,23,534,6]"
   ]
  },
  {
   "cell_type": "code",
   "execution_count": 388,
   "id": "dac0d03c-87e9-4023-a4c7-822b83f397b2",
   "metadata": {},
   "outputs": [
    {
     "data": {
      "text/plain": [
       "[2, 6, 23, 34, 534]"
      ]
     },
     "execution_count": 388,
     "metadata": {},
     "output_type": "execute_result"
    }
   ],
   "source": [
    "sorted(a,reverse=False)"
   ]
  },
  {
   "cell_type": "code",
   "execution_count": null,
   "id": "cc53b011-a891-45e3-ba5c-f908568bb809",
   "metadata": {},
   "outputs": [],
   "source": []
  },
  {
   "cell_type": "code",
   "execution_count": 391,
   "id": "ccb680a3-73c0-490b-89a4-2e1d3323f871",
   "metadata": {},
   "outputs": [],
   "source": [
    "# eval\n",
    "# exec\n",
    "# execfile\n",
    "# help\n",
    "# dir\n",
    "# range"
   ]
  },
  {
   "cell_type": "code",
   "execution_count": 393,
   "id": "b18db308-c97e-4e13-8d32-a8bd772ca683",
   "metadata": {},
   "outputs": [],
   "source": [
    "# eval"
   ]
  },
  {
   "cell_type": "code",
   "execution_count": 395,
   "id": "5eec23a6-5f47-4400-9af2-66e3222f9adf",
   "metadata": {},
   "outputs": [],
   "source": [
    "message = '23+45'"
   ]
  },
  {
   "cell_type": "code",
   "execution_count": 397,
   "id": "997c20ff-858d-4922-bcfd-f6a70b125e42",
   "metadata": {},
   "outputs": [
    {
     "name": "stdout",
     "output_type": "stream",
     "text": [
      "23+45\n"
     ]
    }
   ],
   "source": [
    "print(message)"
   ]
  },
  {
   "cell_type": "code",
   "execution_count": 399,
   "id": "5f737f61-ac73-435b-bf3c-0d616d5e9610",
   "metadata": {},
   "outputs": [
    {
     "data": {
      "text/plain": [
       "68"
      ]
     },
     "execution_count": 399,
     "metadata": {},
     "output_type": "execute_result"
    }
   ],
   "source": [
    "eval(message)"
   ]
  },
  {
   "cell_type": "code",
   "execution_count": 401,
   "id": "798191a1-415c-4c7c-9ce1-a9e52a87ee02",
   "metadata": {},
   "outputs": [],
   "source": [
    "message = 'print(\"hello World\")'"
   ]
  },
  {
   "cell_type": "code",
   "execution_count": 403,
   "id": "f61a88ea-82db-47c9-bc15-2a04d661c7bd",
   "metadata": {},
   "outputs": [
    {
     "name": "stdout",
     "output_type": "stream",
     "text": [
      "print(\"hello World\")\n"
     ]
    }
   ],
   "source": [
    "print(message)"
   ]
  },
  {
   "cell_type": "code",
   "execution_count": 405,
   "id": "0bc74973-1644-4d56-a8a7-6b3a5c757bbb",
   "metadata": {},
   "outputs": [
    {
     "name": "stdout",
     "output_type": "stream",
     "text": [
      "hello World\n"
     ]
    }
   ],
   "source": [
    "eval(message)"
   ]
  },
  {
   "cell_type": "code",
   "execution_count": 407,
   "id": "947e94d5-6bea-4beb-a404-21fe7cbf6711",
   "metadata": {},
   "outputs": [
    {
     "data": {
      "text/plain": [
       "24"
      ]
     },
     "execution_count": 407,
     "metadata": {},
     "output_type": "execute_result"
    }
   ],
   "source": [
    "calci = '23*3-90+45'\n",
    "eval(calci)"
   ]
  },
  {
   "cell_type": "code",
   "execution_count": 411,
   "id": "a921a1d6-af42-469e-8979-45b81a1c46ad",
   "metadata": {},
   "outputs": [
    {
     "name": "stdin",
     "output_type": "stream",
     "text": [
      "Calculate here:  -90-90\n"
     ]
    },
    {
     "data": {
      "text/plain": [
       "-180"
      ]
     },
     "execution_count": 411,
     "metadata": {},
     "output_type": "execute_result"
    }
   ],
   "source": [
    "calci = input('Calculate here: ')\n",
    "eval(calci)"
   ]
  },
  {
   "cell_type": "code",
   "execution_count": 413,
   "id": "cc0a1f15-07bf-42f6-9b7a-d3811b716136",
   "metadata": {},
   "outputs": [
    {
     "name": "stdin",
     "output_type": "stream",
     "text": [
      "Calculate here:  45-10*200\n"
     ]
    },
    {
     "name": "stdout",
     "output_type": "stream",
     "text": [
      "Your result is:  -1955\n"
     ]
    }
   ],
   "source": [
    "calci = eval(input('Calculate here: '))\n",
    "print('Your result is: ',calci)"
   ]
  },
  {
   "cell_type": "code",
   "execution_count": 417,
   "id": "2fd365c1-a443-48e2-a3e9-179e90ae5f17",
   "metadata": {},
   "outputs": [],
   "source": [
    "# exec:- code "
   ]
  },
  {
   "cell_type": "code",
   "execution_count": 419,
   "id": "5b0b32ce-2351-4baa-bd4d-2ad026b12cbf",
   "metadata": {},
   "outputs": [
    {
     "name": "stdout",
     "output_type": "stream",
     "text": [
      "35\n"
     ]
    }
   ],
   "source": [
    "a = 12\n",
    "b = 23\n",
    "c = a+b\n",
    "print(c)"
   ]
  },
  {
   "cell_type": "code",
   "execution_count": null,
   "id": "139b1a9c-9f59-4722-87d0-5ccb97e58ea9",
   "metadata": {},
   "outputs": [],
   "source": []
  },
  {
   "cell_type": "code",
   "execution_count": null,
   "id": "0b53f142-bcda-4c16-9775-332e39e72725",
   "metadata": {},
   "outputs": [],
   "source": []
  },
  {
   "cell_type": "code",
   "execution_count": 435,
   "id": "2ebb54ae-b26e-4d28-9153-8566d791a206",
   "metadata": {},
   "outputs": [],
   "source": [
    "m1 = 'd1 = 55'\n",
    "m2 = 'e1 = 20'\n",
    "m3 = 'f = d1+e1'"
   ]
  },
  {
   "cell_type": "code",
   "execution_count": 437,
   "id": "d1210f54-144b-4cd2-9300-de76c0236959",
   "metadata": {},
   "outputs": [],
   "source": [
    "exec(m1)"
   ]
  },
  {
   "cell_type": "code",
   "execution_count": 439,
   "id": "1d8ba145-5d8f-4d82-a1ac-6d63325003b1",
   "metadata": {},
   "outputs": [],
   "source": [
    "exec(m2)"
   ]
  },
  {
   "cell_type": "code",
   "execution_count": 441,
   "id": "1cf66f51-4af2-428c-9922-3b1fa8d94af8",
   "metadata": {},
   "outputs": [],
   "source": [
    "exec(m3)"
   ]
  },
  {
   "cell_type": "code",
   "execution_count": 443,
   "id": "c7250489-8e0c-434a-8364-558fdb7e514a",
   "metadata": {},
   "outputs": [
    {
     "data": {
      "text/plain": [
       "55"
      ]
     },
     "execution_count": 443,
     "metadata": {},
     "output_type": "execute_result"
    }
   ],
   "source": [
    "d1"
   ]
  },
  {
   "cell_type": "code",
   "execution_count": 445,
   "id": "7dc7a62a-6c25-4c55-884e-e234b7956b69",
   "metadata": {},
   "outputs": [
    {
     "data": {
      "text/plain": [
       "75"
      ]
     },
     "execution_count": 445,
     "metadata": {},
     "output_type": "execute_result"
    }
   ],
   "source": [
    "f"
   ]
  },
  {
   "cell_type": "code",
   "execution_count": 447,
   "id": "c522199c-5de6-44bb-9841-e0c01ac90e28",
   "metadata": {},
   "outputs": [],
   "source": [
    "# execfile"
   ]
  },
  {
   "cell_type": "code",
   "execution_count": 449,
   "id": "903e79a7-4e37-404e-be3c-585805340ac3",
   "metadata": {},
   "outputs": [],
   "source": [
    "# .py:- file extension"
   ]
  },
  {
   "cell_type": "code",
   "execution_count": 451,
   "id": "1633da0a-132c-4b46-859e-d6d4bf64bfd8",
   "metadata": {},
   "outputs": [],
   "source": [
    "# .xlsx"
   ]
  },
  {
   "cell_type": "code",
   "execution_count": 453,
   "id": "e5c6e64a-5890-4d17-a902-6aa974e0d883",
   "metadata": {},
   "outputs": [],
   "source": [
    "# .pdf\n",
    "# .mp3"
   ]
  },
  {
   "cell_type": "code",
   "execution_count": 455,
   "id": "676a223f-66dc-466b-85f9-e993958abfd9",
   "metadata": {},
   "outputs": [
    {
     "name": "stdout",
     "output_type": "stream",
     "text": [
      "                                  2024\n",
      "\n",
      "      January                   February                   March\n",
      "Mo Tu We Th Fr Sa Su      Mo Tu We Th Fr Sa Su      Mo Tu We Th Fr Sa Su\n",
      " 1  2  3  4  5  6  7                1  2  3  4                   1  2  3\n",
      " 8  9 10 11 12 13 14       5  6  7  8  9 10 11       4  5  6  7  8  9 10\n",
      "15 16 17 18 19 20 21      12 13 14 15 16 17 18      11 12 13 14 15 16 17\n",
      "22 23 24 25 26 27 28      19 20 21 22 23 24 25      18 19 20 21 22 23 24\n",
      "29 30 31                  26 27 28 29               25 26 27 28 29 30 31\n",
      "\n",
      "       April                      May                       June\n",
      "Mo Tu We Th Fr Sa Su      Mo Tu We Th Fr Sa Su      Mo Tu We Th Fr Sa Su\n",
      " 1  2  3  4  5  6  7             1  2  3  4  5                      1  2\n",
      " 8  9 10 11 12 13 14       6  7  8  9 10 11 12       3  4  5  6  7  8  9\n",
      "15 16 17 18 19 20 21      13 14 15 16 17 18 19      10 11 12 13 14 15 16\n",
      "22 23 24 25 26 27 28      20 21 22 23 24 25 26      17 18 19 20 21 22 23\n",
      "29 30                     27 28 29 30 31            24 25 26 27 28 29 30\n",
      "\n",
      "        July                     August                  September\n",
      "Mo Tu We Th Fr Sa Su      Mo Tu We Th Fr Sa Su      Mo Tu We Th Fr Sa Su\n",
      " 1  2  3  4  5  6  7                1  2  3  4                         1\n",
      " 8  9 10 11 12 13 14       5  6  7  8  9 10 11       2  3  4  5  6  7  8\n",
      "15 16 17 18 19 20 21      12 13 14 15 16 17 18       9 10 11 12 13 14 15\n",
      "22 23 24 25 26 27 28      19 20 21 22 23 24 25      16 17 18 19 20 21 22\n",
      "29 30 31                  26 27 28 29 30 31         23 24 25 26 27 28 29\n",
      "                                                    30\n",
      "\n",
      "      October                   November                  December\n",
      "Mo Tu We Th Fr Sa Su      Mo Tu We Th Fr Sa Su      Mo Tu We Th Fr Sa Su\n",
      "    1  2  3  4  5  6                   1  2  3                         1\n",
      " 7  8  9 10 11 12 13       4  5  6  7  8  9 10       2  3  4  5  6  7  8\n",
      "14 15 16 17 18 19 20      11 12 13 14 15 16 17       9 10 11 12 13 14 15\n",
      "21 22 23 24 25 26 27      18 19 20 21 22 23 24      16 17 18 19 20 21 22\n",
      "28 29 30 31               25 26 27 28 29 30         23 24 25 26 27 28 29\n",
      "                                                    30 31\n",
      "\n",
      "Code Chal gaya\n"
     ]
    }
   ],
   "source": [
    "execfile('aman.py')"
   ]
  },
  {
   "cell_type": "code",
   "execution_count": 457,
   "id": "5b80c657-72d9-431c-80bc-e6d875c62845",
   "metadata": {},
   "outputs": [
    {
     "name": "stdout",
     "output_type": "stream",
     "text": [
      "\n",
      "Here is a list of the Python keywords.  Enter any keyword to get more help.\n",
      "\n",
      "False               class               from                or\n",
      "None                continue            global              pass\n",
      "True                def                 if                  raise\n",
      "and                 del                 import              return\n",
      "as                  elif                in                  try\n",
      "assert              else                is                  while\n",
      "async               except              lambda              with\n",
      "await               finally             nonlocal            yield\n",
      "break               for                 not                 \n",
      "\n"
     ]
    }
   ],
   "source": [
    "help('keywords')"
   ]
  },
  {
   "cell_type": "code",
   "execution_count": 461,
   "id": "4445eef5-f2ed-46e9-854b-d3591816e663",
   "metadata": {},
   "outputs": [
    {
     "name": "stdout",
     "output_type": "stream",
     "text": [
      "['ArithmeticError', 'AssertionError', 'AttributeError', 'BaseException', 'BaseExceptionGroup', 'BlockingIOError', 'BrokenPipeError', 'BufferError', 'BytesWarning', 'ChildProcessError', 'ConnectionAbortedError', 'ConnectionError', 'ConnectionRefusedError', 'ConnectionResetError', 'DeprecationWarning', 'EOFError', 'Ellipsis', 'EncodingWarning', 'EnvironmentError', 'Exception', 'ExceptionGroup', 'False', 'FileExistsError', 'FileNotFoundError', 'FloatingPointError', 'FutureWarning', 'GeneratorExit', 'IOError', 'ImportError', 'ImportWarning', 'IndentationError', 'IndexError', 'InterruptedError', 'IsADirectoryError', 'KeyError', 'KeyboardInterrupt', 'LookupError', 'MemoryError', 'ModuleNotFoundError', 'NameError', 'None', 'NotADirectoryError', 'NotImplemented', 'NotImplementedError', 'OSError', 'OverflowError', 'PendingDeprecationWarning', 'PermissionError', 'ProcessLookupError', 'RecursionError', 'ReferenceError', 'ResourceWarning', 'RuntimeError', 'RuntimeWarning', 'StopAsyncIteration', 'StopIteration', 'SyntaxError', 'SyntaxWarning', 'SystemError', 'SystemExit', 'TabError', 'TimeoutError', 'True', 'TypeError', 'UnboundLocalError', 'UnicodeDecodeError', 'UnicodeEncodeError', 'UnicodeError', 'UnicodeTranslateError', 'UnicodeWarning', 'UserWarning', 'ValueError', 'Warning', 'WindowsError', 'ZeroDivisionError', '__IPYTHON__', '__build_class__', '__debug__', '__doc__', '__import__', '__loader__', '__name__', '__package__', '__spec__', 'abs', 'aiter', 'all', 'anext', 'any', 'ascii', 'bin', 'bool', 'breakpoint', 'bytearray', 'bytes', 'callable', 'chr', 'classmethod', 'compile', 'complex', 'copyright', 'credits', 'delattr', 'dict', 'dir', 'display', 'divmod', 'enumerate', 'eval', 'exec', 'execfile', 'filter', 'float', 'format', 'frozenset', 'get_ipython', 'getattr', 'globals', 'hasattr', 'hash', 'help', 'hex', 'id', 'input', 'int', 'isinstance', 'issubclass', 'iter', 'len', 'license', 'list', 'locals', 'map', 'max', 'memoryview', 'min', 'next', 'object', 'oct', 'open', 'ord', 'pow', 'print', 'property', 'range', 'repr', 'reversed', 'round', 'runfile', 'set', 'setattr', 'slice', 'sorted', 'staticmethod', 'str', 'sum', 'super', 'tuple', 'type', 'vars', 'zip']\n"
     ]
    }
   ],
   "source": [
    "print(dir(__builtins__))"
   ]
  },
  {
   "cell_type": "code",
   "execution_count": null,
   "id": "e30821e3-e347-4b9f-805d-9db711bb132e",
   "metadata": {},
   "outputs": [],
   "source": []
  },
  {
   "cell_type": "code",
   "execution_count": null,
   "id": "3c08a797-2b4f-401a-93c7-fde7885b5cfd",
   "metadata": {},
   "outputs": [],
   "source": []
  },
  {
   "cell_type": "code",
   "execution_count": null,
   "id": "a79d7b8a-1752-4436-b053-8b457435c478",
   "metadata": {},
   "outputs": [],
   "source": []
  },
  {
   "cell_type": "code",
   "execution_count": null,
   "id": "37e12a49-8a41-4e49-865b-8a66ece5c0d6",
   "metadata": {},
   "outputs": [],
   "source": []
  },
  {
   "cell_type": "code",
   "execution_count": 467,
   "id": "199bac01-9608-4d0c-b3ff-a87d097a5e69",
   "metadata": {},
   "outputs": [],
   "source": [
    "# range"
   ]
  },
  {
   "cell_type": "code",
   "execution_count": 469,
   "id": "39c84fdb-c2b7-4de4-bc9b-ee4b2323bf27",
   "metadata": {},
   "outputs": [],
   "source": [
    "data = [1,2,3,4,5,6,7,8,9,10]"
   ]
  },
  {
   "cell_type": "code",
   "execution_count": 477,
   "id": "56e27724-25d2-40a9-9f46-64b81ba1c7de",
   "metadata": {},
   "outputs": [],
   "source": [
    "ans = list(range(1,11))"
   ]
  },
  {
   "cell_type": "code",
   "execution_count": 479,
   "id": "1d04252e-c3fc-44f9-bddf-8e81ca3a40a0",
   "metadata": {},
   "outputs": [
    {
     "name": "stdout",
     "output_type": "stream",
     "text": [
      "[1, 2, 3, 4, 5, 6, 7, 8, 9, 10]\n"
     ]
    }
   ],
   "source": [
    "print(ans)"
   ]
  },
  {
   "cell_type": "code",
   "execution_count": 481,
   "id": "b17e2b0c-0471-401b-a934-3c48c184aec7",
   "metadata": {},
   "outputs": [],
   "source": [
    "# range(start,stop,skip/step)"
   ]
  },
  {
   "cell_type": "code",
   "execution_count": 487,
   "id": "9211cb86-99f9-4e5b-af9b-a64e0d2ee064",
   "metadata": {},
   "outputs": [
    {
     "name": "stdout",
     "output_type": "stream",
     "text": [
      "[2, 4, 6, 8, 10, 12, 14, 16, 18, 20]\n"
     ]
    }
   ],
   "source": [
    "result = list(range(2,21,2))\n",
    "print(result)"
   ]
  },
  {
   "cell_type": "code",
   "execution_count": 497,
   "id": "07a5a79c-1e5e-4215-9322-a538742cf607",
   "metadata": {},
   "outputs": [
    {
     "name": "stdout",
     "output_type": "stream",
     "text": [
      "[0, -2, -4, -6, -8, -10, -12, -14, -16, -18, -20, -22, -24, -26, -28, -30, -32, -34, -36, -38, -40, -42, -44, -46, -48, -50, -52, -54, -56, -58, -60, -62, -64, -66, -68, -70, -72, -74, -76, -78, -80, -82, -84, -86, -88, -90, -92, -94, -96, -98, -100]\n"
     ]
    }
   ],
   "source": [
    "res = list(range(0,-101,-2))\n",
    "print(res)"
   ]
  },
  {
   "cell_type": "code",
   "execution_count": null,
   "id": "18c6d511-3192-43d4-bbff-dc5ab183eb4c",
   "metadata": {},
   "outputs": [],
   "source": []
  },
  {
   "cell_type": "code",
   "execution_count": null,
   "id": "e04d6ea3-1925-4fce-bb3e-a6b9287542cf",
   "metadata": {},
   "outputs": [],
   "source": []
  },
  {
   "cell_type": "code",
   "execution_count": 501,
   "id": "0985ab1e-dbc8-4205-85c2-91f327093488",
   "metadata": {},
   "outputs": [],
   "source": [
    "a = 's = 23'"
   ]
  },
  {
   "cell_type": "code",
   "execution_count": 503,
   "id": "418f5dcf-e17c-45b9-8278-0e03f98f2f37",
   "metadata": {},
   "outputs": [],
   "source": [
    "exec(a)"
   ]
  },
  {
   "cell_type": "code",
   "execution_count": 507,
   "id": "dc51e8be-1cd2-4c06-bc76-e5d85b600660",
   "metadata": {},
   "outputs": [
    {
     "data": {
      "text/plain": [
       "23"
      ]
     },
     "execution_count": 507,
     "metadata": {},
     "output_type": "execute_result"
    }
   ],
   "source": [
    "s"
   ]
  },
  {
   "cell_type": "code",
   "execution_count": 511,
   "id": "782a80eb-1c77-4e33-87a8-5af30cbd59de",
   "metadata": {},
   "outputs": [
    {
     "ename": "SyntaxError",
     "evalue": "invalid syntax (<string>, line 1)",
     "output_type": "error",
     "traceback": [
      "Traceback \u001b[1;36m(most recent call last)\u001b[0m:\n",
      "\u001b[0m  File \u001b[0;32m~\\anaconda3\\Lib\\site-packages\\IPython\\core\\interactiveshell.py:3577\u001b[0m in \u001b[0;35mrun_code\u001b[0m\n    exec(code_obj, self.user_global_ns, self.user_ns)\u001b[0m\n",
      "\u001b[1;36m  Cell \u001b[1;32mIn[511], line 2\u001b[1;36m\n\u001b[1;33m    eval(a)\u001b[1;36m\n",
      "\u001b[1;36m  File \u001b[1;32m<string>:1\u001b[1;36m\u001b[0m\n\u001b[1;33m    s = 23\u001b[0m\n\u001b[1;37m      ^\u001b[0m\n\u001b[1;31mSyntaxError\u001b[0m\u001b[1;31m:\u001b[0m invalid syntax\n"
     ]
    }
   ],
   "source": [
    "a = 's = 23'\n",
    "eval(a)"
   ]
  },
  {
   "cell_type": "code",
   "execution_count": 540,
   "id": "fa61c738-53d5-4b1d-929b-a2eabce3991a",
   "metadata": {},
   "outputs": [],
   "source": [
    "m1 = '[1,2,3] + [3,4,5]'"
   ]
  },
  {
   "cell_type": "code",
   "execution_count": 542,
   "id": "cfae332b-366e-436e-9d0d-54de4f0033c9",
   "metadata": {},
   "outputs": [
    {
     "data": {
      "text/plain": [
       "[1, 2, 3, 3, 4, 5]"
      ]
     },
     "execution_count": 542,
     "metadata": {},
     "output_type": "execute_result"
    }
   ],
   "source": [
    "eval(m1)"
   ]
  },
  {
   "cell_type": "code",
   "execution_count": 535,
   "id": "b4d5429c-490d-4e82-8720-b242cccdc686",
   "metadata": {},
   "outputs": [],
   "source": [
    "exec(m1)"
   ]
  },
  {
   "cell_type": "code",
   "execution_count": 538,
   "id": "2a072a5d-cb0e-482a-a17c-f600c941345a",
   "metadata": {},
   "outputs": [
    {
     "data": {
      "text/plain": [
       "[1, 2, 3, 3, 4, 5]"
      ]
     },
     "execution_count": 538,
     "metadata": {},
     "output_type": "execute_result"
    }
   ],
   "source": [
    "f"
   ]
  },
  {
   "cell_type": "code",
   "execution_count": null,
   "id": "bc50c760-7183-496e-8f70-c5e4c1ecfeb5",
   "metadata": {},
   "outputs": [],
   "source": []
  }
 ],
 "metadata": {
  "kernelspec": {
   "display_name": "Python [conda env:base] *",
   "language": "python",
   "name": "conda-base-py"
  },
  "language_info": {
   "codemirror_mode": {
    "name": "ipython",
    "version": 3
   },
   "file_extension": ".py",
   "mimetype": "text/x-python",
   "name": "python",
   "nbconvert_exporter": "python",
   "pygments_lexer": "ipython3",
   "version": "3.12.7"
  }
 },
 "nbformat": 4,
 "nbformat_minor": 5
}
