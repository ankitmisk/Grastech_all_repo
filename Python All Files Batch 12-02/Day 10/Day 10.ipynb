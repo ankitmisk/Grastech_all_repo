{
 "cells": [
  {
   "cell_type": "code",
   "execution_count": 2,
   "id": "85fd9a3f-997d-4bea-a9e4-98a38e5664e2",
   "metadata": {},
   "outputs": [
    {
     "ename": "TypeError",
     "evalue": "unhashable type: 'list'",
     "output_type": "error",
     "traceback": [
      "\u001b[1;31m---------------------------------------------------------------------------\u001b[0m",
      "\u001b[1;31mTypeError\u001b[0m                                 Traceback (most recent call last)",
      "Cell \u001b[1;32mIn[2], line 1\u001b[0m\n\u001b[1;32m----> 1\u001b[0m data \u001b[38;5;241m=\u001b[39m {[\u001b[38;5;241m2\u001b[39m,\u001b[38;5;241m34\u001b[39m,\u001b[38;5;241m43\u001b[39m,\u001b[38;5;241m5\u001b[39m]}\n",
      "\u001b[1;31mTypeError\u001b[0m: unhashable type: 'list'"
     ]
    }
   ],
   "source": [
    "data = {[2,34,43,5]}"
   ]
  },
  {
   "cell_type": "code",
   "execution_count": 4,
   "id": "f8185c7f-839a-42aa-b509-e82bf1ac67df",
   "metadata": {},
   "outputs": [
    {
     "ename": "TypeError",
     "evalue": "unhashable type: 'set'",
     "output_type": "error",
     "traceback": [
      "\u001b[1;31m---------------------------------------------------------------------------\u001b[0m",
      "\u001b[1;31mTypeError\u001b[0m                                 Traceback (most recent call last)",
      "Cell \u001b[1;32mIn[4], line 1\u001b[0m\n\u001b[1;32m----> 1\u001b[0m data \u001b[38;5;241m=\u001b[39m {{\u001b[38;5;241m2\u001b[39m,\u001b[38;5;241m345\u001b[39m,\u001b[38;5;241m45\u001b[39m}}\n",
      "\u001b[1;31mTypeError\u001b[0m: unhashable type: 'set'"
     ]
    }
   ],
   "source": [
    "data = {{2,345,45}}"
   ]
  },
  {
   "cell_type": "code",
   "execution_count": 6,
   "id": "d42d421f-67b2-4758-9d48-9cc61ffa8b53",
   "metadata": {},
   "outputs": [
    {
     "ename": "TypeError",
     "evalue": "unhashable type: 'dict'",
     "output_type": "error",
     "traceback": [
      "\u001b[1;31m---------------------------------------------------------------------------\u001b[0m",
      "\u001b[1;31mTypeError\u001b[0m                                 Traceback (most recent call last)",
      "Cell \u001b[1;32mIn[6], line 1\u001b[0m\n\u001b[1;32m----> 1\u001b[0m data \u001b[38;5;241m=\u001b[39m {{\u001b[38;5;124m'\u001b[39m\u001b[38;5;124mName\u001b[39m\u001b[38;5;124m'\u001b[39m:\u001b[38;5;124m'\u001b[39m\u001b[38;5;124mMohan\u001b[39m\u001b[38;5;124m'\u001b[39m}}\n",
      "\u001b[1;31mTypeError\u001b[0m: unhashable type: 'dict'"
     ]
    }
   ],
   "source": [
    "data = {{'Name':'Mohan'}}"
   ]
  },
  {
   "cell_type": "code",
   "execution_count": null,
   "id": "62f84f33-3cec-4e9a-9d93-593e46eab425",
   "metadata": {},
   "outputs": [],
   "source": []
  },
  {
   "cell_type": "code",
   "execution_count": 9,
   "id": "40c741f9-af58-4943-8913-c9b24f6894a3",
   "metadata": {},
   "outputs": [],
   "source": [
    "# "
   ]
  },
  {
   "cell_type": "code",
   "execution_count": 11,
   "id": "01679834-6ad1-4af9-9b65-ae3da54deb68",
   "metadata": {},
   "outputs": [],
   "source": [
    "import random"
   ]
  },
  {
   "cell_type": "code",
   "execution_count": 19,
   "id": "4824705e-c18d-4879-bd6c-333c9badf67d",
   "metadata": {},
   "outputs": [],
   "source": [
    "objects = ['chairs','pen','laptop','tv','computer','harddisk']"
   ]
  },
  {
   "cell_type": "code",
   "execution_count": 21,
   "id": "9a36cbf4-e47f-4edf-837b-24dbcc07b936",
   "metadata": {},
   "outputs": [
    {
     "data": {
      "text/plain": [
       "'chairs'"
      ]
     },
     "execution_count": 21,
     "metadata": {},
     "output_type": "execute_result"
    }
   ],
   "source": [
    "random.choice(objects)"
   ]
  },
  {
   "cell_type": "code",
   "execution_count": 33,
   "id": "a380d71a-abc5-4154-8db3-ba74328e8b29",
   "metadata": {},
   "outputs": [
    {
     "name": "stdin",
     "output_type": "stream",
     "text": [
      "Enter your choice:  tv\n"
     ]
    },
    {
     "name": "stdout",
     "output_type": "stream",
     "text": [
      "Comp choice is  tv\n",
      "User Choice is  tv\n",
      "User Wins💥💥\n",
      "You have Won tv\n"
     ]
    }
   ],
   "source": [
    "user_choice = input('Enter your choice: ').lower()\n",
    "\n",
    "comp_choice = random.choice(objects)\n",
    "\n",
    "\n",
    "print('Comp choice is ',comp_choice)\n",
    "print('User Choice is ',user_choice)\n",
    "\n",
    "if user_choice == comp_choice:\n",
    "    print('User Wins💥💥')\n",
    "    print(f'You have Won {user_choice}')\n",
    "    \n",
    "else:\n",
    "    print('You Lose!!🥹😭')\n"
   ]
  },
  {
   "cell_type": "code",
   "execution_count": null,
   "id": "d8564590-171a-429f-a0c5-1ddd081af1a9",
   "metadata": {},
   "outputs": [],
   "source": []
  },
  {
   "cell_type": "code",
   "execution_count": null,
   "id": "280e3070-c7b8-49ae-ba82-37f0fde74410",
   "metadata": {},
   "outputs": [],
   "source": []
  },
  {
   "cell_type": "code",
   "execution_count": null,
   "id": "3f7e1bc3-fd1a-438e-8b27-9b5eae35bb1e",
   "metadata": {},
   "outputs": [],
   "source": []
  },
  {
   "cell_type": "code",
   "execution_count": 50,
   "id": "208166b5-238b-400e-a1e5-59d64c62b65c",
   "metadata": {},
   "outputs": [
    {
     "name": "stdin",
     "output_type": "stream",
     "text": [
      "Enter your choice:  computers\n"
     ]
    },
    {
     "name": "stdout",
     "output_type": "stream",
     "text": [
      "Invalid choice/Input!!\n"
     ]
    }
   ],
   "source": [
    "user_choice = input('Enter your choice: ').lower()\n",
    "\n",
    "if user_choice in objects:\n",
    "    comp_choice = random.choice(objects)\n",
    "    \n",
    "    \n",
    "    print('Comp choice is ',comp_choice)\n",
    "    print('User Choice is ',user_choice)\n",
    "    \n",
    "    if user_choice == comp_choice:\n",
    "        print('User Wins💥💥')\n",
    "        print(f'You have Won {user_choice}')\n",
    "        \n",
    "    else:\n",
    "        print('You Lose!!🥹😭')\n",
    "        \n",
    "else:\n",
    "    print('Invalid choice/Input!!')"
   ]
  },
  {
   "cell_type": "code",
   "execution_count": null,
   "id": "30ccdf56-842f-4e24-87ac-69ad96919eb4",
   "metadata": {},
   "outputs": [],
   "source": []
  },
  {
   "cell_type": "code",
   "execution_count": null,
   "id": "9de8022e-255b-4e9b-8901-9f9dde968ab4",
   "metadata": {},
   "outputs": [],
   "source": []
  },
  {
   "cell_type": "code",
   "execution_count": null,
   "id": "53a456f1-1359-4e5b-a7cd-9fa8a569a0d2",
   "metadata": {},
   "outputs": [],
   "source": []
  },
  {
   "cell_type": "code",
   "execution_count": null,
   "id": "772bdb28-0ac9-45d4-8c4b-adde3bf2def2",
   "metadata": {},
   "outputs": [],
   "source": []
  },
  {
   "cell_type": "markdown",
   "id": "dca587f4-7c79-4b6c-baa8-734ac13febca",
   "metadata": {},
   "source": [
    "# OTP Generator"
   ]
  },
  {
   "cell_type": "code",
   "execution_count": 69,
   "id": "1af33a4a-b27c-4b45-bb73-d4c8241e8031",
   "metadata": {},
   "outputs": [
    {
     "name": "stdout",
     "output_type": "stream",
     "text": [
      "Your OTP is 360229\n"
     ]
    },
    {
     "name": "stdin",
     "output_type": "stream",
     "text": [
      "Enter your OTP:  360229\n"
     ]
    },
    {
     "name": "stdout",
     "output_type": "stream",
     "text": [
      "OTP Match\n"
     ]
    }
   ],
   "source": [
    "import random\n",
    "otp = random.randint(1000,9999)\n",
    "print(f'Your OTP is {otp}')\n",
    "\n",
    "otp_inp = int(input('Enter your OTP: '))\n",
    "\n",
    "if otp_inp == otp:\n",
    "    print('OTP Match')\n",
    "else:\n",
    "    print('Incorrect OTP')"
   ]
  },
  {
   "cell_type": "code",
   "execution_count": null,
   "id": "55ea55d1-ec33-42e8-b05b-2401a3041bb3",
   "metadata": {},
   "outputs": [],
   "source": []
  },
  {
   "cell_type": "code",
   "execution_count": null,
   "id": "cedd23b1-12b5-430d-845f-a655b63f6a68",
   "metadata": {},
   "outputs": [],
   "source": []
  },
  {
   "cell_type": "markdown",
   "id": "5a94d3ef-6967-43b8-8b75-f7f2357c1611",
   "metadata": {},
   "source": [
    "# Password Generator"
   ]
  },
  {
   "cell_type": "code",
   "execution_count": 74,
   "id": "cd427b74-def0-4ffd-9d61-d29eaecbe985",
   "metadata": {},
   "outputs": [],
   "source": [
    "# special char, numbers, alpha, \n",
    "\n",
    "import string"
   ]
  },
  {
   "cell_type": "code",
   "execution_count": 90,
   "id": "bb88dc9d-5e7c-412e-ba2c-203907abbb47",
   "metadata": {},
   "outputs": [],
   "source": [
    "all_chars = string.punctuation + string.digits + string.ascii_letters"
   ]
  },
  {
   "cell_type": "code",
   "execution_count": 158,
   "id": "11684655-3917-4eef-83b1-912cfd3ce825",
   "metadata": {},
   "outputs": [
    {
     "name": "stdout",
     "output_type": "stream",
     "text": [
      "!\"#$%&'()*+,-./:;<=>?@[\\]^_`{|}~0123456789abcdefghijklmnopqrstuvwxyzABCDEFGHIJKLMNOPQRSTUVWXYZ\n"
     ]
    }
   ],
   "source": [
    "print(all_chars)"
   ]
  },
  {
   "cell_type": "code",
   "execution_count": 164,
   "id": "20d42638-e26f-44c1-a2cc-e67095a20fd5",
   "metadata": {},
   "outputs": [
    {
     "name": "stdout",
     "output_type": "stream",
     "text": [
      "Your Password is : EK4lI-c~TH\n"
     ]
    }
   ],
   "source": [
    "pwd = random.choices(all_chars,k=10)\n",
    "final_password = ''.join(pwd)\n",
    "print(f'Your Password is : {final_password}')"
   ]
  },
  {
   "cell_type": "code",
   "execution_count": 124,
   "id": "323b5371-7acb-4558-a6b8-8ff4a61820d1",
   "metadata": {},
   "outputs": [],
   "source": [
    "# ''.join(['A','M','A','N'])"
   ]
  },
  {
   "cell_type": "code",
   "execution_count": 177,
   "id": "7d0de148-1875-4d35-9952-59a2083a5908",
   "metadata": {},
   "outputs": [],
   "source": [
    "# ''.join('AmAN')"
   ]
  },
  {
   "cell_type": "code",
   "execution_count": null,
   "id": "0ac2399b-1448-4c8d-8e4b-7186eaa279ec",
   "metadata": {},
   "outputs": [],
   "source": []
  },
  {
   "cell_type": "code",
   "execution_count": null,
   "id": "7bb13d23-2586-44c4-a006-0356759b5653",
   "metadata": {},
   "outputs": [],
   "source": []
  },
  {
   "cell_type": "code",
   "execution_count": 181,
   "id": "78b9d9dd-3365-4080-bb3e-081ef6c65b1b",
   "metadata": {},
   "outputs": [],
   "source": [
    "# Leap Year Find"
   ]
  },
  {
   "cell_type": "code",
   "execution_count": 183,
   "id": "68f0825f-085d-4b23-9bdb-3b5364af085b",
   "metadata": {},
   "outputs": [],
   "source": [
    "# Four year: mein one time"
   ]
  },
  {
   "cell_type": "code",
   "execution_count": 185,
   "id": "9310381d-74d9-4990-95a7-801c2ec9037c",
   "metadata": {},
   "outputs": [],
   "source": [
    "# 1200\n",
    "# 1600\n",
    "# 2000\n",
    "# 1700\n",
    "# 2400\n",
    "# 2300\n",
    "\n",
    "2020:- leap year\n",
    "2024:- leap year\n",
    "2028:- Leap year\n",
    "1700"
   ]
  },
  {
   "cell_type": "code",
   "execution_count": 215,
   "id": "7746d33c-c710-49ed-8d41-018c26bd53ba",
   "metadata": {},
   "outputs": [
    {
     "name": "stdout",
     "output_type": "stream",
     "text": [
      "1400 is not a Leap year!!\n"
     ]
    }
   ],
   "source": [
    "year = 1400\n",
    "\n",
    "if year % 400 == 0:\n",
    "    print(f'{year} is a Leap year!!')\n",
    "\n",
    "else:\n",
    "    if (year % 4) == 0 and (year % 100) != 0:\n",
    "        print(f'{year} is a Leap year!!')\n",
    "\n",
    "    else:\n",
    "        print(f'{year} is not a Leap year!!')"
   ]
  },
  {
   "cell_type": "code",
   "execution_count": null,
   "id": "d3b1c040-97a0-4790-8fa0-a4b4516745f8",
   "metadata": {},
   "outputs": [],
   "source": []
  },
  {
   "cell_type": "code",
   "execution_count": null,
   "id": "e43dec29-0ae3-4154-82df-0183f2b5bfbf",
   "metadata": {},
   "outputs": [],
   "source": []
  },
  {
   "cell_type": "code",
   "execution_count": 229,
   "id": "a3039999-7241-4399-8b05-61c04ef494f0",
   "metadata": {},
   "outputs": [
    {
     "name": "stdout",
     "output_type": "stream",
     "text": [
      "Leap Year\n"
     ]
    }
   ],
   "source": [
    "year = 2020\n",
    "\n",
    "if (year % 4 == 0) and (year % 100 != 0 or year % 400 == 0):\n",
    "    print('Leap Year')\n",
    "else:\n",
    "    print('Not a Leap year')"
   ]
  },
  {
   "cell_type": "markdown",
   "id": "4b70d239-f8ac-40de-bafa-9d32bf5c61f4",
   "metadata": {},
   "source": [
    "# One Liner If Else"
   ]
  },
  {
   "cell_type": "code",
   "execution_count": 232,
   "id": "de65a90a-0219-4b4c-a06f-c27e686424f5",
   "metadata": {},
   "outputs": [],
   "source": [
    "# Number Even ya Odd"
   ]
  },
  {
   "cell_type": "code",
   "execution_count": 236,
   "id": "cedda8a2-34a7-4914-86da-b4c653b71cf3",
   "metadata": {},
   "outputs": [
    {
     "name": "stdout",
     "output_type": "stream",
     "text": [
      "Even Number\n"
     ]
    }
   ],
   "source": [
    "num = 32456\n",
    "\n",
    "if num % 2 == 0:\n",
    "    print('Even Number')\n",
    "else:\n",
    "    print('Odd Number')"
   ]
  },
  {
   "cell_type": "code",
   "execution_count": null,
   "id": "0fb18317-e2c1-408e-99bb-129862cc8580",
   "metadata": {},
   "outputs": [],
   "source": []
  },
  {
   "cell_type": "code",
   "execution_count": 245,
   "id": "d7f76818-760d-4dfe-b6c8-0676a029b50d",
   "metadata": {},
   "outputs": [
    {
     "name": "stdout",
     "output_type": "stream",
     "text": [
      "Even Number\n"
     ]
    }
   ],
   "source": [
    "num = 3452\n",
    "print('Even Number') if num % 2 == 0 else print('Odd Number')"
   ]
  },
  {
   "cell_type": "code",
   "execution_count": null,
   "id": "ee50a531-bb73-4483-8bcf-d8409274a80e",
   "metadata": {},
   "outputs": [],
   "source": []
  },
  {
   "cell_type": "code",
   "execution_count": null,
   "id": "0b13c9e4-cedd-4c1b-977a-abdf222897d0",
   "metadata": {},
   "outputs": [],
   "source": []
  },
  {
   "cell_type": "code",
   "execution_count": 249,
   "id": "03c40f62-19d6-44f2-bbc3-0ed195fd3977",
   "metadata": {},
   "outputs": [
    {
     "name": "stdout",
     "output_type": "stream",
     "text": [
      "Leap Year\n"
     ]
    }
   ],
   "source": [
    "year = 2020\n",
    "\n",
    "print('Leap Year') if (year % 4 == 0) and (year % 100 != 0 or year % 400 == 0) else print('Not a Leap year')"
   ]
  },
  {
   "cell_type": "code",
   "execution_count": null,
   "id": "d23e2f33-a5f9-4779-a46b-db665098549c",
   "metadata": {},
   "outputs": [],
   "source": []
  },
  {
   "cell_type": "code",
   "execution_count": null,
   "id": "a42931c2-3f45-4ec4-a48e-85bb1bbf4b5b",
   "metadata": {},
   "outputs": [],
   "source": []
  },
  {
   "cell_type": "code",
   "execution_count": 253,
   "id": "1819c538-2197-46b4-b892-5186d9fa8957",
   "metadata": {},
   "outputs": [
    {
     "name": "stdout",
     "output_type": "stream",
     "text": [
      "N3 34 is greatest\n"
     ]
    }
   ],
   "source": [
    "n1 = 12\n",
    "n2 = 23\n",
    "n3 = 34\n",
    "\n",
    "if (n1>n2) and (n1>n3):\n",
    "    print(f'N1 {n1} is greatest')\n",
    "    \n",
    "if (n2>n1) and (n2>n3):\n",
    "    print(f'N2 {n2} is greatest')\n",
    "\n",
    "if (n3>n1) and (n3>n2):\n",
    "    print(f'N3 {n3} is greatest')\n",
    "\n",
    "else:\n",
    "    print('Some values are same!!')"
   ]
  },
  {
   "cell_type": "code",
   "execution_count": null,
   "id": "630884db-e7c0-44e7-8524-a344269f689b",
   "metadata": {},
   "outputs": [],
   "source": []
  },
  {
   "cell_type": "code",
   "execution_count": null,
   "id": "3cd6578e-d8fc-4b0e-b1b0-b541a266d5d7",
   "metadata": {},
   "outputs": [],
   "source": []
  },
  {
   "cell_type": "code",
   "execution_count": 265,
   "id": "28c15796-731b-4050-a743-3e02d61d9c5e",
   "metadata": {},
   "outputs": [
    {
     "name": "stdout",
     "output_type": "stream",
     "text": [
      "b is greatest\n"
     ]
    }
   ],
   "source": [
    "a = 238\n",
    "b = 450\n",
    "c = 56\n",
    "\n",
    "print('a is greatest') if a>b and a>c else print('b is greatest') if b>c and b>a else print('c is greatest') if c>a and c>b else print('Some values are same!!')"
   ]
  },
  {
   "cell_type": "code",
   "execution_count": null,
   "id": "95f005d3-eef0-4207-b5b9-56a4fd3dc9df",
   "metadata": {},
   "outputs": [],
   "source": []
  },
  {
   "cell_type": "code",
   "execution_count": null,
   "id": "360d08f3-7520-42c6-9566-3ccebc33fce2",
   "metadata": {},
   "outputs": [],
   "source": []
  },
  {
   "cell_type": "code",
   "execution_count": 271,
   "id": "73a43efa-7414-417d-acbf-444e1f2969bc",
   "metadata": {},
   "outputs": [
    {
     "name": "stdout",
     "output_type": "stream",
     "text": [
      "Vowels\n"
     ]
    }
   ],
   "source": [
    "word = 'awesome'\n",
    "\n",
    "if word[0] in ['a','e','i','o','u']:\n",
    "    print('Vowels')\n",
    "else:\n",
    "    print('Consonants')"
   ]
  },
  {
   "cell_type": "code",
   "execution_count": 277,
   "id": "4333d60d-9802-49e3-b2db-726e19ae906d",
   "metadata": {},
   "outputs": [
    {
     "name": "stdout",
     "output_type": "stream",
     "text": [
      "Vowels\n"
     ]
    }
   ],
   "source": [
    "word = 'awesome'\n",
    "\n",
    "if word[0] in 'aeiou':\n",
    "    print('Vowels')\n",
    "else:\n",
    "    print('Consonants')"
   ]
  },
  {
   "cell_type": "code",
   "execution_count": 287,
   "id": "430a4df1-1baf-413a-a113-f03e2815b9a7",
   "metadata": {},
   "outputs": [
    {
     "name": "stdout",
     "output_type": "stream",
     "text": [
      "Consonants\n"
     ]
    }
   ],
   "source": [
    "word = 'kia'\n",
    "print('Vowels') if word[0] in 'aeiou' else print('Consonants')"
   ]
  },
  {
   "cell_type": "code",
   "execution_count": 299,
   "id": "00410db0-f33d-41e7-83b4-bdd5cf3c10ac",
   "metadata": {},
   "outputs": [
    {
     "name": "stdout",
     "output_type": "stream",
     "text": [
      "consonants\n"
     ]
    }
   ],
   "source": [
    "print('vowels') if 'kia'[0] in 'aeiou' else print('consonants')"
   ]
  },
  {
   "cell_type": "code",
   "execution_count": 301,
   "id": "c95afef7-cdf6-4554-9292-f6fbf0245867",
   "metadata": {},
   "outputs": [
    {
     "name": "stdout",
     "output_type": "stream",
     "text": [
      "Done\n"
     ]
    }
   ],
   "source": [
    "print('Done')"
   ]
  },
  {
   "cell_type": "code",
   "execution_count": null,
   "id": "65f2d0cc-79c1-4ec1-a1e7-649def94998f",
   "metadata": {},
   "outputs": [],
   "source": []
  }
 ],
 "metadata": {
  "kernelspec": {
   "display_name": "Python [conda env:base] *",
   "language": "python",
   "name": "conda-base-py"
  },
  "language_info": {
   "codemirror_mode": {
    "name": "ipython",
    "version": 3
   },
   "file_extension": ".py",
   "mimetype": "text/x-python",
   "name": "python",
   "nbconvert_exporter": "python",
   "pygments_lexer": "ipython3",
   "version": "3.12.7"
  }
 },
 "nbformat": 4,
 "nbformat_minor": 5
}
