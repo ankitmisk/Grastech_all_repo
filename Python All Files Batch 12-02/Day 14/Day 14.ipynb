{
 "cells": [
  {
   "cell_type": "code",
   "execution_count": 1,
   "id": "876eab1e-9163-4c95-b9fa-234c4a5519b9",
   "metadata": {},
   "outputs": [],
   "source": [
    "# Pattern Printing"
   ]
  },
  {
   "cell_type": "code",
   "execution_count": 3,
   "id": "3e5919aa-7374-4ef3-9dbe-fcf4ea5456ea",
   "metadata": {},
   "outputs": [],
   "source": [
    "# Game "
   ]
  },
  {
   "cell_type": "code",
   "execution_count": 5,
   "id": "ada7e327-7223-48b1-b00f-335a800875df",
   "metadata": {},
   "outputs": [],
   "source": [
    "# Functions"
   ]
  },
  {
   "cell_type": "code",
   "execution_count": 7,
   "id": "4538086f-46a0-4625-bb02-cb66fa56b18a",
   "metadata": {},
   "outputs": [],
   "source": [
    "# Pattern Printing"
   ]
  },
  {
   "cell_type": "code",
   "execution_count": 9,
   "id": "c668bd80-c623-44c4-8a82-9558ffce2c0b",
   "metadata": {},
   "outputs": [],
   "source": [
    "# For Logic building:- \n"
   ]
  },
  {
   "cell_type": "code",
   "execution_count": 11,
   "id": "2830daae-f964-4b3d-9fe9-46ff5e64d834",
   "metadata": {},
   "outputs": [],
   "source": [
    "# * * *\n",
    "# * * *\n",
    "# * * *"
   ]
  },
  {
   "cell_type": "code",
   "execution_count": 67,
   "id": "a21f1569-17d4-4005-a2f1-fc95828f3e16",
   "metadata": {},
   "outputs": [
    {
     "name": "stdout",
     "output_type": "stream",
     "text": [
      " *  *  *  *  * \n",
      " *  *  *  *  * \n",
      " *  *  *  *  * \n",
      " *  *  *  *  * \n",
      " *  *  *  *  * \n"
     ]
    }
   ],
   "source": [
    "n = 5\n",
    "# char = f' {n} '\n",
    "char = ' * '\n",
    "for i in range(n):\n",
    "    print(n * char)"
   ]
  },
  {
   "cell_type": "code",
   "execution_count": 21,
   "id": "da6e618d-0119-495c-ae68-e5186c7a20be",
   "metadata": {},
   "outputs": [
    {
     "data": {
      "text/plain": [
       "'A A A '"
      ]
     },
     "execution_count": 21,
     "metadata": {},
     "output_type": "execute_result"
    }
   ],
   "source": [
    "'A ' * 3"
   ]
  },
  {
   "cell_type": "code",
   "execution_count": 69,
   "id": "b3f2a156-bcd8-4c41-9c6f-f8406b855129",
   "metadata": {},
   "outputs": [],
   "source": [
    "# *\n",
    "# * *\n",
    "# * * *"
   ]
  },
  {
   "cell_type": "code",
   "execution_count": 93,
   "id": "c6c886fd-1e27-4729-ae9c-c453f5cd6fb5",
   "metadata": {},
   "outputs": [
    {
     "name": "stdout",
     "output_type": "stream",
     "text": [
      "* \n",
      "* * \n",
      "* * * \n",
      "* * * * \n",
      "* * * * * \n"
     ]
    }
   ],
   "source": [
    "n = 5\n",
    "for i in range(1,n+1):\n",
    "    print(i*'* ')"
   ]
  },
  {
   "cell_type": "code",
   "execution_count": 99,
   "id": "d846bcd1-36ec-4b9d-a3bf-343d563771dc",
   "metadata": {},
   "outputs": [
    {
     "name": "stdout",
     "output_type": "stream",
     "text": [
      "# \n",
      "# # \n",
      "# # # \n",
      "# # # # \n",
      "# # # # # \n"
     ]
    }
   ],
   "source": [
    "n = 5\n",
    "for i in range(n):\n",
    "    print((i+1)*'# ')"
   ]
  },
  {
   "cell_type": "markdown",
   "id": "920d6023-503a-4e73-9075-621c8602a461",
   "metadata": {},
   "source": [
    "### Hello"
   ]
  },
  {
   "cell_type": "code",
   "execution_count": null,
   "id": "e0d23905-68b9-4c8f-999e-c48db25cc01f",
   "metadata": {},
   "outputs": [],
   "source": []
  },
  {
   "cell_type": "code",
   "execution_count": 103,
   "id": "ebc0ba6c-3c27-4669-aaae-bf3a9fc2736c",
   "metadata": {},
   "outputs": [],
   "source": [
    "#    *\n",
    "#   * *\n",
    "#  * * *\n",
    "# * * * *\n",
    "# Spaces:- dec:- 3,2,1,0\n",
    "# Star:- inc :- 1,2,3,4\n",
    "# # 2,5,8,?"
   ]
  },
  {
   "cell_type": "code",
   "execution_count": 121,
   "id": "1ab085ff-af9d-41aa-a7d3-92e63673a1f8",
   "metadata": {
    "scrolled": true
   },
   "outputs": [
    {
     "name": "stdout",
     "output_type": "stream",
     "text": [
      "* \n",
      "* * \n",
      "* * * \n",
      "* * * * \n"
     ]
    }
   ],
   "source": [
    "n = 4\n",
    "\n",
    "for i in range(1,n+1):\n",
    "    print(\"\"*(n-i) + \"* \"*i)"
   ]
  },
  {
   "cell_type": "markdown",
   "id": "8a0f70fc-69b6-4754-856f-b50a9df4b4b4",
   "metadata": {},
   "source": [
    "# Left Triangle"
   ]
  },
  {
   "cell_type": "code",
   "execution_count": 136,
   "id": "aec7e0eb-333f-4a96-9a6e-a9236d29c785",
   "metadata": {},
   "outputs": [
    {
     "name": "stdout",
     "output_type": "stream",
     "text": [
      "* \n",
      "* * \n",
      "* * * \n",
      "* * * * \n",
      "* * * * * \n",
      "* * * * * * \n"
     ]
    }
   ],
   "source": [
    "\n",
    "n = 6\n",
    "\n",
    "for i in range(1,n+1):\n",
    "    print(\"\"*(n-i) + \"* \"*i)"
   ]
  },
  {
   "cell_type": "markdown",
   "id": "e5f77a10-f788-4df1-9b79-3a28053034e9",
   "metadata": {},
   "source": [
    "# Right Triangle"
   ]
  },
  {
   "cell_type": "code",
   "execution_count": 138,
   "id": "e89b7bb9-485f-4440-bf70-0c99fdfb6bcf",
   "metadata": {},
   "outputs": [
    {
     "name": "stdout",
     "output_type": "stream",
     "text": [
      "          * \n",
      "        * * \n",
      "      * * * \n",
      "    * * * * \n",
      "  * * * * * \n",
      "* * * * * * \n"
     ]
    }
   ],
   "source": [
    "\n",
    "n = 6\n",
    "\n",
    "for i in range(1,n+1):\n",
    "    print(\"  \"*(n-i) + \"* \"*i)"
   ]
  },
  {
   "cell_type": "markdown",
   "id": "51e3208c-1e4d-4291-bccb-f5c7cb400afb",
   "metadata": {},
   "source": [
    "# Pryamid"
   ]
  },
  {
   "cell_type": "code",
   "execution_count": null,
   "id": "171eda84-defa-4a34-8fba-072e09e53ebc",
   "metadata": {},
   "outputs": [],
   "source": []
  },
  {
   "cell_type": "code",
   "execution_count": 156,
   "id": "6ef5ef2b-3bcc-454a-bd6f-ea3c2015185f",
   "metadata": {},
   "outputs": [
    {
     "name": "stdout",
     "output_type": "stream",
     "text": [
      "    * \n",
      "   * * \n",
      "  * * * \n",
      " * * * * \n",
      "* * * * * \n"
     ]
    }
   ],
   "source": [
    "n = 5\n",
    "\n",
    "for i in range(1,n+1):\n",
    "    print(\" \"*(n-i) + \"* \"*i)"
   ]
  },
  {
   "cell_type": "code",
   "execution_count": 146,
   "id": "2a1ca052-5d32-4fe1-8acb-1fad4f67925d",
   "metadata": {},
   "outputs": [],
   "source": [
    "# * * * * * \n",
    "#  * * * * \n",
    "#   * * * \n",
    "#    * * \n",
    "#     * "
   ]
  },
  {
   "cell_type": "code",
   "execution_count": 152,
   "id": "1ae7fb7a-bc6b-4af0-ab5b-348d2d43f2f6",
   "metadata": {},
   "outputs": [
    {
     "name": "stdout",
     "output_type": "stream",
     "text": [
      "* * * * * \n",
      " * * * * \n",
      "  * * * \n",
      "   * * \n",
      "    * \n"
     ]
    }
   ],
   "source": [
    "n = 5\n",
    "for i in range(n,0,-1):\n",
    "    print(\" \"*(n-i) + \"* \"*i)"
   ]
  },
  {
   "cell_type": "code",
   "execution_count": 172,
   "id": "c64db551-dcfb-4493-8de6-71051fc9b5f5",
   "metadata": {},
   "outputs": [
    {
     "name": "stdout",
     "output_type": "stream",
     "text": [
      "   * \n",
      "  * * \n",
      " * * * \n",
      "* * * * \n",
      " * * * \n",
      "  * * \n",
      "   * \n"
     ]
    }
   ],
   "source": [
    "n = 4\n",
    "for i in range(1,n+1):\n",
    "    print(\" \"*(n-i) + \"* \"*i)\n",
    "    \n",
    "for i in range(n-1,0,-1):\n",
    "    print(\" \"*(n-i) + \"* \"*i)"
   ]
  },
  {
   "cell_type": "code",
   "execution_count": 192,
   "id": "00b5ee80-d3b7-46e6-8f76-ae7bc4a50887",
   "metadata": {},
   "outputs": [
    {
     "name": "stdout",
     "output_type": "stream",
     "text": [
      "    5 \n",
      "   5 5 \n",
      "  5 5 5 \n",
      " 5 5 5 5 \n",
      "5 5 5 5 5 \n"
     ]
    }
   ],
   "source": [
    "n = 5\n",
    "\n",
    "for i in range(1,n+1):\n",
    "    print(\" \"*(n-i) + f\"{n} \"*i)"
   ]
  },
  {
   "cell_type": "code",
   "execution_count": 231,
   "id": "fcd79ca7-627f-42fb-bb8f-d7ff3aae70d2",
   "metadata": {},
   "outputs": [
    {
     "name": "stdout",
     "output_type": "stream",
     "text": [
      "      1\n",
      "     1 2\n",
      "    1 2 3\n",
      "   1 2 3 4\n",
      "  1 2 3 4 5\n",
      " 1 2 3 4 5 6\n",
      "1 2 3 4 5 6 7\n"
     ]
    }
   ],
   "source": [
    "n = 7\n",
    "for i in range(1,n+1):\n",
    "    print(\" \"*(n-i) + ' '.join([str(i) for i in range(1,i+1)]))"
   ]
  },
  {
   "cell_type": "code",
   "execution_count": null,
   "id": "2adf393d-ca5a-4747-a3e5-cc5a2509c27d",
   "metadata": {},
   "outputs": [],
   "source": []
  },
  {
   "cell_type": "code",
   "execution_count": 219,
   "id": "28737179-0f29-461c-865b-6a295160fcde",
   "metadata": {},
   "outputs": [
    {
     "data": {
      "text/plain": [
       "'1 2 3 4 5'"
      ]
     },
     "execution_count": 219,
     "metadata": {},
     "output_type": "execute_result"
    }
   ],
   "source": []
  },
  {
   "cell_type": "code",
   "execution_count": 233,
   "id": "f7b4f59d-add0-4738-a386-4693830129e6",
   "metadata": {},
   "outputs": [],
   "source": [
    "import string"
   ]
  },
  {
   "cell_type": "code",
   "execution_count": 237,
   "id": "8b402baa-36a4-4d02-b525-762599468d03",
   "metadata": {},
   "outputs": [],
   "source": [
    "all_char = string.ascii_uppercase"
   ]
  },
  {
   "cell_type": "code",
   "execution_count": 301,
   "id": "f5c2ee9c-2033-420e-92ca-5b3e4b997f8d",
   "metadata": {},
   "outputs": [
    {
     "name": "stdout",
     "output_type": "stream",
     "text": [
      "    A\n",
      "   A B\n",
      "  A B C\n",
      " A B C D\n",
      "A B C D E\n"
     ]
    }
   ],
   "source": [
    "n = 5\n",
    "for i in range(1,n+1):\n",
    "    print(\" \"*(n-i) + ' '.join([all_char[i] for i in range(i)]))"
   ]
  },
  {
   "cell_type": "code",
   "execution_count": null,
   "id": "80038351-f895-46cf-8ebd-212cab99cab0",
   "metadata": {},
   "outputs": [],
   "source": []
  },
  {
   "cell_type": "code",
   "execution_count": null,
   "id": "56229691-36bd-48de-8323-e97ed28fd2b5",
   "metadata": {},
   "outputs": [],
   "source": []
  },
  {
   "cell_type": "code",
   "execution_count": 287,
   "id": "9a16a7b7-43d5-4504-8471-3c1ddd1177c8",
   "metadata": {},
   "outputs": [],
   "source": [
    "# [all_char[i] for i in range(5)]"
   ]
  },
  {
   "cell_type": "code",
   "execution_count": 289,
   "id": "047ba14c-6d7b-4345-bf50-bd241d3d2a0c",
   "metadata": {},
   "outputs": [],
   "source": [
    "# all_char[1]"
   ]
  },
  {
   "cell_type": "code",
   "execution_count": 303,
   "id": "3cd047ce-a184-4ad3-9c06-c9ffb2c17a16",
   "metadata": {},
   "outputs": [],
   "source": [
    "# Game Number guessing game"
   ]
  },
  {
   "cell_type": "code",
   "execution_count": 341,
   "id": "7f104481-0976-4054-a796-e4bea0ac828c",
   "metadata": {},
   "outputs": [],
   "source": [
    "import random\n",
    "\n",
    "all_data = {'User_Name':[],'Amount':[]}\n"
   ]
  },
  {
   "cell_type": "code",
   "execution_count": 345,
   "id": "ed476305-22d3-42d9-a811-c9406a17789a",
   "metadata": {},
   "outputs": [
    {
     "name": "stdout",
     "output_type": "stream",
     "text": [
      "                                                              Welcome to Laxmi chit fund                                                              \n",
      "\n"
     ]
    },
    {
     "ename": "KeyboardInterrupt",
     "evalue": "Interrupted by user",
     "output_type": "error",
     "traceback": [
      "\u001b[1;31m---------------------------------------------------------------------------\u001b[0m",
      "\u001b[1;31mKeyboardInterrupt\u001b[0m                         Traceback (most recent call last)",
      "Cell \u001b[1;32mIn[345], line 15\u001b[0m\n\u001b[0;32m     12\u001b[0m \u001b[38;5;28mprint\u001b[39m()\n\u001b[0;32m     14\u001b[0m \u001b[38;5;28;01mfor\u001b[39;00m i \u001b[38;5;129;01min\u001b[39;00m \u001b[38;5;28mrange\u001b[39m(times):\n\u001b[1;32m---> 15\u001b[0m     name \u001b[38;5;241m=\u001b[39m \u001b[38;5;28minput\u001b[39m(\u001b[38;5;124m'\u001b[39m\u001b[38;5;124mEnter your name: \u001b[39m\u001b[38;5;124m'\u001b[39m)\n\u001b[0;32m     16\u001b[0m     entry_fees \u001b[38;5;241m=\u001b[39m \u001b[38;5;241m1000\u001b[39m\n\u001b[0;32m     17\u001b[0m     \u001b[38;5;28mprint\u001b[39m(\u001b[38;5;124mf\u001b[39m\u001b[38;5;124m'\u001b[39m\u001b[38;5;124mWelcome \u001b[39m\u001b[38;5;132;01m{\u001b[39;00mname\u001b[38;5;132;01m}\u001b[39;00m\u001b[38;5;124m!! Player \u001b[39m\u001b[38;5;132;01m{\u001b[39;00mi\u001b[38;5;241m+\u001b[39m\u001b[38;5;241m1\u001b[39m\u001b[38;5;132;01m}\u001b[39;00m\u001b[38;5;124m'\u001b[39m)\n",
      "File \u001b[1;32m~\\anaconda3\\Lib\\site-packages\\ipykernel\\kernelbase.py:1262\u001b[0m, in \u001b[0;36mKernel.raw_input\u001b[1;34m(self, prompt)\u001b[0m\n\u001b[0;32m   1260\u001b[0m     msg \u001b[38;5;241m=\u001b[39m \u001b[38;5;124m\"\u001b[39m\u001b[38;5;124mraw_input was called, but this frontend does not support input requests.\u001b[39m\u001b[38;5;124m\"\u001b[39m\n\u001b[0;32m   1261\u001b[0m     \u001b[38;5;28;01mraise\u001b[39;00m StdinNotImplementedError(msg)\n\u001b[1;32m-> 1262\u001b[0m \u001b[38;5;28;01mreturn\u001b[39;00m \u001b[38;5;28mself\u001b[39m\u001b[38;5;241m.\u001b[39m_input_request(\n\u001b[0;32m   1263\u001b[0m     \u001b[38;5;28mstr\u001b[39m(prompt),\n\u001b[0;32m   1264\u001b[0m     \u001b[38;5;28mself\u001b[39m\u001b[38;5;241m.\u001b[39m_parent_ident[\u001b[38;5;124m\"\u001b[39m\u001b[38;5;124mshell\u001b[39m\u001b[38;5;124m\"\u001b[39m],\n\u001b[0;32m   1265\u001b[0m     \u001b[38;5;28mself\u001b[39m\u001b[38;5;241m.\u001b[39mget_parent(\u001b[38;5;124m\"\u001b[39m\u001b[38;5;124mshell\u001b[39m\u001b[38;5;124m\"\u001b[39m),\n\u001b[0;32m   1266\u001b[0m     password\u001b[38;5;241m=\u001b[39m\u001b[38;5;28;01mFalse\u001b[39;00m,\n\u001b[0;32m   1267\u001b[0m )\n",
      "File \u001b[1;32m~\\anaconda3\\Lib\\site-packages\\ipykernel\\kernelbase.py:1305\u001b[0m, in \u001b[0;36mKernel._input_request\u001b[1;34m(self, prompt, ident, parent, password)\u001b[0m\n\u001b[0;32m   1302\u001b[0m \u001b[38;5;28;01mexcept\u001b[39;00m \u001b[38;5;167;01mKeyboardInterrupt\u001b[39;00m:\n\u001b[0;32m   1303\u001b[0m     \u001b[38;5;66;03m# re-raise KeyboardInterrupt, to truncate traceback\u001b[39;00m\n\u001b[0;32m   1304\u001b[0m     msg \u001b[38;5;241m=\u001b[39m \u001b[38;5;124m\"\u001b[39m\u001b[38;5;124mInterrupted by user\u001b[39m\u001b[38;5;124m\"\u001b[39m\n\u001b[1;32m-> 1305\u001b[0m     \u001b[38;5;28;01mraise\u001b[39;00m \u001b[38;5;167;01mKeyboardInterrupt\u001b[39;00m(msg) \u001b[38;5;28;01mfrom\u001b[39;00m \u001b[38;5;28;01mNone\u001b[39;00m\n\u001b[0;32m   1306\u001b[0m \u001b[38;5;28;01mexcept\u001b[39;00m \u001b[38;5;167;01mException\u001b[39;00m:\n\u001b[0;32m   1307\u001b[0m     \u001b[38;5;28mself\u001b[39m\u001b[38;5;241m.\u001b[39mlog\u001b[38;5;241m.\u001b[39mwarning(\u001b[38;5;124m\"\u001b[39m\u001b[38;5;124mInvalid Message:\u001b[39m\u001b[38;5;124m\"\u001b[39m, exc_info\u001b[38;5;241m=\u001b[39m\u001b[38;5;28;01mTrue\u001b[39;00m)\n",
      "\u001b[1;31mKeyboardInterrupt\u001b[0m: Interrupted by user"
     ]
    }
   ],
   "source": [
    "times = 10\n",
    "comp_amount_collection = 0\n",
    "user_amount_collection = 0\n",
    "\n",
    "import pygame\n",
    "pygame.init()\n",
    "\n",
    "audio = pygame.mixer.Sound(r\"C:\\Users\\salma\\Downloads\\bella_ciao_bhojpuri.mp3\")\n",
    "audio.play()\n",
    "\n",
    "print('Welcome to Laxmi chit fund'.center(150,' '))\n",
    "print()\n",
    "\n",
    "for i in range(times):\n",
    "    name = input('Enter your name: ')\n",
    "    entry_fees = 1000\n",
    "    print(f'Welcome {name}!! Player {i+1}')\n",
    "    print()\n",
    "    \n",
    "    all_data['User_Name'].append(name)\n",
    "    all_data['Amount'].append(1000)\n",
    "    \n",
    "    comp_amount_collection += entry_fees\n",
    "    \n",
    "    comp_choice = random.randint(1,10)\n",
    "    user_choice = int(input('Enter your choice b/w {1-10}: '))\n",
    "\n",
    "    print('Comp Choice: ',comp_choice)\n",
    "    \n",
    "    if user_choice == comp_choice:\n",
    "        win_amount = 2000\n",
    "        user_amount_collection += win_amount\n",
    "        print('Awesome👌👌, You have Won Rs 2000')\n",
    "\n",
    "    else:\n",
    "        print('Better luck next time!!🥹🥹')\n",
    "\n",
    "    display(clear= True)\n",
    "        \n",
    "audio.stop()\n",
    "print('Computer Collections: ',comp_amount_collection)\n",
    "print('User Collections: ',user_amount_collection)\n",
    "\n",
    "print('Final Companies PNL: ',comp_amount_collection - user_amount_collection)"
   ]
  },
  {
   "cell_type": "code",
   "execution_count": 319,
   "id": "882cf023-3026-4398-85ab-4a96ea4b5191",
   "metadata": {},
   "outputs": [
    {
     "data": {
      "text/plain": [
       "10000"
      ]
     },
     "execution_count": 319,
     "metadata": {},
     "output_type": "execute_result"
    }
   ],
   "source": [
    "comp_amount_collection"
   ]
  },
  {
   "cell_type": "code",
   "execution_count": 321,
   "id": "0c9802c8-5cbd-4981-bf3a-da5ca5fec8b2",
   "metadata": {},
   "outputs": [
    {
     "data": {
      "text/plain": [
       "4000"
      ]
     },
     "execution_count": 321,
     "metadata": {},
     "output_type": "execute_result"
    }
   ],
   "source": [
    "user_amount_collection"
   ]
  },
  {
   "cell_type": "code",
   "execution_count": 323,
   "id": "80e60f63-6b5d-4674-af58-d0befdab7909",
   "metadata": {},
   "outputs": [
    {
     "data": {
      "text/plain": [
       "{'User_Name': ['Jatin Verma',\n",
       "  'Mohan Verma',\n",
       "  'Harry Verma',\n",
       "  'Komal Khanna',\n",
       "  'Akshay Sharma',\n",
       "  'Karan Verma',\n",
       "  'Gaurank Shah',\n",
       "  'Kumar Verma',\n",
       "  'Ajay Narang',\n",
       "  'Udit'],\n",
       " 'Amount': [1000, 1000, 1000, 1000, 1000, 1000, 1000, 1000, 1000, 1000]}"
      ]
     },
     "execution_count": 323,
     "metadata": {},
     "output_type": "execute_result"
    }
   ],
   "source": [
    "all_data"
   ]
  },
  {
   "cell_type": "code",
   "execution_count": 325,
   "id": "b03d93e7-962a-4b5a-a522-9c629fe0cfcc",
   "metadata": {},
   "outputs": [],
   "source": [
    "import pandas as pd"
   ]
  },
  {
   "cell_type": "code",
   "execution_count": 347,
   "id": "4183b0a1-1e5c-4380-b9b2-e1b5e2c62b0c",
   "metadata": {},
   "outputs": [
    {
     "data": {
      "text/html": [
       "<div>\n",
       "<style scoped>\n",
       "    .dataframe tbody tr th:only-of-type {\n",
       "        vertical-align: middle;\n",
       "    }\n",
       "\n",
       "    .dataframe tbody tr th {\n",
       "        vertical-align: top;\n",
       "    }\n",
       "\n",
       "    .dataframe thead th {\n",
       "        text-align: right;\n",
       "    }\n",
       "</style>\n",
       "<table border=\"1\" class=\"dataframe\">\n",
       "  <thead>\n",
       "    <tr style=\"text-align: right;\">\n",
       "      <th></th>\n",
       "      <th>User_Name</th>\n",
       "      <th>Amount</th>\n",
       "    </tr>\n",
       "  </thead>\n",
       "  <tbody>\n",
       "    <tr>\n",
       "      <th>0</th>\n",
       "      <td>Jatin</td>\n",
       "      <td>1000</td>\n",
       "    </tr>\n",
       "    <tr>\n",
       "      <th>1</th>\n",
       "      <td>erfegrgg</td>\n",
       "      <td>1000</td>\n",
       "    </tr>\n",
       "    <tr>\n",
       "      <th>2</th>\n",
       "      <td>wjefhjv</td>\n",
       "      <td>1000</td>\n",
       "    </tr>\n",
       "    <tr>\n",
       "      <th>3</th>\n",
       "      <td>ergrth</td>\n",
       "      <td>1000</td>\n",
       "    </tr>\n",
       "    <tr>\n",
       "      <th>4</th>\n",
       "      <td>rgrthdht</td>\n",
       "      <td>1000</td>\n",
       "    </tr>\n",
       "    <tr>\n",
       "      <th>5</th>\n",
       "      <td>fgnfg</td>\n",
       "      <td>1000</td>\n",
       "    </tr>\n",
       "    <tr>\n",
       "      <th>6</th>\n",
       "      <td>dghhfrtth</td>\n",
       "      <td>1000</td>\n",
       "    </tr>\n",
       "    <tr>\n",
       "      <th>7</th>\n",
       "      <td>dfgdh</td>\n",
       "      <td>1000</td>\n",
       "    </tr>\n",
       "    <tr>\n",
       "      <th>8</th>\n",
       "      <td>dfgfggj</td>\n",
       "      <td>1000</td>\n",
       "    </tr>\n",
       "    <tr>\n",
       "      <th>9</th>\n",
       "      <td>dfghhd</td>\n",
       "      <td>1000</td>\n",
       "    </tr>\n",
       "  </tbody>\n",
       "</table>\n",
       "</div>"
      ],
      "text/plain": [
       "   User_Name  Amount\n",
       "0      Jatin    1000\n",
       "1   erfegrgg    1000\n",
       "2    wjefhjv    1000\n",
       "3     ergrth    1000\n",
       "4   rgrthdht    1000\n",
       "5      fgnfg    1000\n",
       "6  dghhfrtth    1000\n",
       "7      dfgdh    1000\n",
       "8    dfgfggj    1000\n",
       "9     dfghhd    1000"
      ]
     },
     "execution_count": 347,
     "metadata": {},
     "output_type": "execute_result"
    }
   ],
   "source": [
    "pd.DataFrame(all_data)"
   ]
  },
  {
   "cell_type": "code",
   "execution_count": 331,
   "id": "b302fe77-1b15-4800-babd-d975021fc937",
   "metadata": {},
   "outputs": [],
   "source": [
    "# pip install pygame"
   ]
  },
  {
   "cell_type": "code",
   "execution_count": 337,
   "id": "b362274c-f919-4851-b834-6dad985a72cf",
   "metadata": {},
   "outputs": [
    {
     "data": {
      "text/plain": [
       "<pygame.mixer.Channel at 0x1cf33b1c3b0>"
      ]
     },
     "execution_count": 337,
     "metadata": {},
     "output_type": "execute_result"
    }
   ],
   "source": []
  },
  {
   "cell_type": "code",
   "execution_count": 339,
   "id": "9615a153-62b3-496f-a4a1-a601b1c53c8c",
   "metadata": {},
   "outputs": [],
   "source": []
  },
  {
   "cell_type": "code",
   "execution_count": null,
   "id": "3e7f534d-0c98-487e-b51c-3c15320e923c",
   "metadata": {},
   "outputs": [],
   "source": []
  }
 ],
 "metadata": {
  "kernelspec": {
   "display_name": "Python [conda env:base] *",
   "language": "python",
   "name": "conda-base-py"
  },
  "language_info": {
   "codemirror_mode": {
    "name": "ipython",
    "version": 3
   },
   "file_extension": ".py",
   "mimetype": "text/x-python",
   "name": "python",
   "nbconvert_exporter": "python",
   "pygments_lexer": "ipython3",
   "version": "3.12.7"
  }
 },
 "nbformat": 4,
 "nbformat_minor": 5
}
