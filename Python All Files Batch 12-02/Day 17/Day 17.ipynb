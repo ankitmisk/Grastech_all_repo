{
 "cells": [
  {
   "cell_type": "markdown",
   "id": "c57ddda1-920e-4f22-8a46-3611fe58602d",
   "metadata": {},
   "source": [
    "# Advance Function"
   ]
  },
  {
   "cell_type": "code",
   "execution_count": 481,
   "id": "62ba936a-a88d-4388-a6f0-933f906a4366",
   "metadata": {},
   "outputs": [
    {
     "name": "stdout",
     "output_type": "stream",
     "text": [
      "4567890\n"
     ]
    }
   ],
   "source": [
    "print(salary)"
   ]
  },
  {
   "cell_type": "code",
   "execution_count": 5,
   "id": "aeb1bf4f-20a9-487d-9bb3-0742504d27b2",
   "metadata": {},
   "outputs": [],
   "source": [
    "# *args,\n",
    "# **kwargs\n",
    "# return vs print\n",
    "# Nested Func\n",
    "# Scope in python\n",
    "# recursion:- recursive func\n",
    "# lambda func:- map, filter, reduce\n",
    "# generator:- yield\n",
    "# decorator"
   ]
  },
  {
   "cell_type": "code",
   "execution_count": 101,
   "id": "e85d8a6c-3fc9-49d5-ae1f-8d72ef5b45d8",
   "metadata": {},
   "outputs": [],
   "source": [
    "def my_summ(data):\n",
    "    '''This is My summ func'''\n",
    "    result = 0\n",
    "    for i in data:\n",
    "        result += i\n",
    "    return result"
   ]
  },
  {
   "cell_type": "code",
   "execution_count": 103,
   "id": "02bc5bae-92e5-49c4-b9aa-63be3a8133b2",
   "metadata": {},
   "outputs": [
    {
     "data": {
      "text/plain": [
       "4093"
      ]
     },
     "execution_count": 103,
     "metadata": {},
     "output_type": "execute_result"
    }
   ],
   "source": [
    "data = [23,54,5,3454,6,546,5]\n",
    "\n",
    "\n",
    "sum(data)"
   ]
  },
  {
   "cell_type": "code",
   "execution_count": 107,
   "id": "75192270-13ff-40bf-be86-71f916b0a41d",
   "metadata": {},
   "outputs": [
    {
     "data": {
      "text/plain": [
       "4093"
      ]
     },
     "execution_count": 107,
     "metadata": {},
     "output_type": "execute_result"
    }
   ],
   "source": [
    "my_summ(data)"
   ]
  },
  {
   "cell_type": "code",
   "execution_count": 111,
   "id": "8d080665-ffdb-4800-af73-d94075a0a5d0",
   "metadata": {},
   "outputs": [],
   "source": [
    "def add(a,b):\n",
    "    return a+b"
   ]
  },
  {
   "cell_type": "code",
   "execution_count": 170,
   "id": "a1bfd279-3412-463a-83cc-890357898797",
   "metadata": {
    "scrolled": true
   },
   "outputs": [
    {
     "ename": "TypeError",
     "evalue": "add() takes 2 positional arguments but 3 were given",
     "output_type": "error",
     "traceback": [
      "\u001b[1;31m---------------------------------------------------------------------------\u001b[0m",
      "\u001b[1;31mTypeError\u001b[0m                                 Traceback (most recent call last)",
      "Cell \u001b[1;32mIn[170], line 1\u001b[0m\n\u001b[1;32m----> 1\u001b[0m add(\u001b[38;5;241m10\u001b[39m,\u001b[38;5;241m4\u001b[39m,\u001b[38;5;241m4\u001b[39m)\n",
      "\u001b[1;31mTypeError\u001b[0m: add() takes 2 positional arguments but 3 were given"
     ]
    }
   ],
   "source": [
    "add(10,4,4)"
   ]
  },
  {
   "cell_type": "code",
   "execution_count": 123,
   "id": "1a8f2b43-511c-4911-a8f4-225a1fbbcb45",
   "metadata": {},
   "outputs": [],
   "source": [
    "# *args:- arguments"
   ]
  },
  {
   "cell_type": "code",
   "execution_count": 125,
   "id": "96ae0ca8-642c-4fb7-9171-844c079d7d50",
   "metadata": {},
   "outputs": [
    {
     "name": "stdout",
     "output_type": "stream",
     "text": [
      "34 5 Jatin\n"
     ]
    }
   ],
   "source": [
    "print(34,5,'Jatin')"
   ]
  },
  {
   "cell_type": "code",
   "execution_count": 157,
   "id": "74def44f-d174-4ba3-87c3-db0040086197",
   "metadata": {},
   "outputs": [],
   "source": [
    "def add_any(*args):\n",
    "    result = 0\n",
    "    for i in args:\n",
    "        result += i\n",
    "    return result\n",
    "        "
   ]
  },
  {
   "cell_type": "code",
   "execution_count": 159,
   "id": "84ac1528-076d-41e3-9c7b-bc81b8273fd1",
   "metadata": {},
   "outputs": [
    {
     "data": {
      "text/plain": [
       "218"
      ]
     },
     "execution_count": 159,
     "metadata": {},
     "output_type": "execute_result"
    }
   ],
   "source": [
    "add_any(12,23,35,46,56,46)"
   ]
  },
  {
   "cell_type": "code",
   "execution_count": 162,
   "id": "21e3f0fa-1f1b-4831-b324-bd8459c2da89",
   "metadata": {},
   "outputs": [],
   "source": [
    "# **kwargs\n",
    "# default argument/arguments"
   ]
  },
  {
   "cell_type": "code",
   "execution_count": 164,
   "id": "70d4d6d8-f821-4f21-ab8b-8562f8a51da7",
   "metadata": {},
   "outputs": [],
   "source": [
    "def introduction(name = None,age = 18, address = None, classs = None):\n",
    "    print(f'Your Name is {name}')\n",
    "    print(f'Your Age is {age}')\n",
    "    print(f'Your Address is {address}')\n",
    "    print(f'Your Class is {classs}')\n",
    "    "
   ]
  },
  {
   "cell_type": "code",
   "execution_count": 184,
   "id": "bbe071b7-39a6-47c4-8bed-c40aa781f6a1",
   "metadata": {},
   "outputs": [
    {
     "ename": "TypeError",
     "evalue": "introduction() got an unexpected keyword argument 'sec'",
     "output_type": "error",
     "traceback": [
      "\u001b[1;31m---------------------------------------------------------------------------\u001b[0m",
      "\u001b[1;31mTypeError\u001b[0m                                 Traceback (most recent call last)",
      "Cell \u001b[1;32mIn[184], line 1\u001b[0m\n\u001b[1;32m----> 1\u001b[0m introduction(name \u001b[38;5;241m=\u001b[39m \u001b[38;5;124m'\u001b[39m\u001b[38;5;124mhritik\u001b[39m\u001b[38;5;124m'\u001b[39m,address \u001b[38;5;241m=\u001b[39m \u001b[38;5;124m'\u001b[39m\u001b[38;5;124mGr Noida\u001b[39m\u001b[38;5;124m'\u001b[39m,classs\u001b[38;5;241m=\u001b[39m\u001b[38;5;241m12\u001b[39m,age \u001b[38;5;241m=\u001b[39m \u001b[38;5;241m23\u001b[39m,sec \u001b[38;5;241m=\u001b[39m \u001b[38;5;124m'\u001b[39m\u001b[38;5;124mA\u001b[39m\u001b[38;5;124m'\u001b[39m)\n",
      "\u001b[1;31mTypeError\u001b[0m: introduction() got an unexpected keyword argument 'sec'"
     ]
    }
   ],
   "source": [
    "introduction(name = 'hritik',address = 'Gr Noida',classs=12,age = 23,sec = 'A')\n",
    "# keyword positional arguments"
   ]
  },
  {
   "cell_type": "code",
   "execution_count": 186,
   "id": "ea3759ba-073d-4e3f-990e-9e0947eff74a",
   "metadata": {},
   "outputs": [],
   "source": [
    "# DRY"
   ]
  },
  {
   "cell_type": "code",
   "execution_count": 190,
   "id": "3fc5c9af-ec8a-4354-a26f-058cd8068abb",
   "metadata": {},
   "outputs": [],
   "source": [
    "# print(2)\n",
    "# print(4)\n",
    "# print(6)\n",
    "# print(8)\n",
    "# print(10)\n",
    "# print(12)\n",
    "# print(14)\n",
    "# print(16)\n",
    "# print(18)\n",
    "# print(20)\n"
   ]
  },
  {
   "cell_type": "code",
   "execution_count": 192,
   "id": "0b0ceec0-d58b-40d4-beb7-ce42ead3dc85",
   "metadata": {},
   "outputs": [
    {
     "name": "stdout",
     "output_type": "stream",
     "text": [
      "2\n",
      "4\n",
      "6\n",
      "8\n",
      "10\n",
      "12\n",
      "14\n",
      "16\n",
      "18\n",
      "20\n"
     ]
    }
   ],
   "source": [
    "for i in range(1,11):\n",
    "    print(2*i)"
   ]
  },
  {
   "cell_type": "code",
   "execution_count": 236,
   "id": "31d8d600-7c2b-4fd0-bce8-8e5dedf37cb8",
   "metadata": {},
   "outputs": [],
   "source": [
    "def new_intro(**kwargs):\n",
    "    for i,j in kwargs.items():\n",
    "        print(f'Your {i} is {j}')"
   ]
  },
  {
   "cell_type": "code",
   "execution_count": 242,
   "id": "11dc64c6-a32d-44a4-8986-46430ad99a23",
   "metadata": {},
   "outputs": [
    {
     "name": "stdout",
     "output_type": "stream",
     "text": [
      "Your Name is Rohit\n",
      "Your Age is 23\n",
      "Your Address is Noida\n",
      "Your sec is A\n",
      "Your Salary is 234567\n",
      "Your fees is 3456\n"
     ]
    }
   ],
   "source": [
    "new_intro(Name= 'Rohit',Age = '23',Address = 'Noida',sec = 'A',Salary = 234567,fees = 3456)"
   ]
  },
  {
   "cell_type": "code",
   "execution_count": null,
   "id": "98c7f574-1649-4781-be61-badc1633a9b4",
   "metadata": {},
   "outputs": [],
   "source": []
  },
  {
   "cell_type": "code",
   "execution_count": 323,
   "id": "46898d84-40b6-4978-a14e-a6728a2b9900",
   "metadata": {},
   "outputs": [],
   "source": [
    "import pandas as pd\n",
    "def into_table(**kwargs):\n",
    "    if type(list(kwargs.values())[0]) in [list,tuple]:\n",
    "        return pd.DataFrame(kwargs)\n",
    "    else:\n",
    "        return pd.DataFrame(kwargs,index = [1])"
   ]
  },
  {
   "cell_type": "code",
   "execution_count": null,
   "id": "bfaaefa5-26fb-4434-acef-e9021565907a",
   "metadata": {},
   "outputs": [],
   "source": []
  },
  {
   "cell_type": "code",
   "execution_count": 326,
   "id": "3c4cd4e9-b074-4ed1-b995-40a3fa6c07e6",
   "metadata": {},
   "outputs": [
    {
     "data": {
      "text/html": [
       "<div>\n",
       "<style scoped>\n",
       "    .dataframe tbody tr th:only-of-type {\n",
       "        vertical-align: middle;\n",
       "    }\n",
       "\n",
       "    .dataframe tbody tr th {\n",
       "        vertical-align: top;\n",
       "    }\n",
       "\n",
       "    .dataframe thead th {\n",
       "        text-align: right;\n",
       "    }\n",
       "</style>\n",
       "<table border=\"1\" class=\"dataframe\">\n",
       "  <thead>\n",
       "    <tr style=\"text-align: right;\">\n",
       "      <th></th>\n",
       "      <th>Name</th>\n",
       "      <th>Age</th>\n",
       "      <th>Sec</th>\n",
       "      <th>Salary</th>\n",
       "    </tr>\n",
       "  </thead>\n",
       "  <tbody>\n",
       "    <tr>\n",
       "      <th>0</th>\n",
       "      <td>Mohan</td>\n",
       "      <td>12</td>\n",
       "      <td>A</td>\n",
       "      <td>23456</td>\n",
       "    </tr>\n",
       "    <tr>\n",
       "      <th>1</th>\n",
       "      <td>Karan</td>\n",
       "      <td>23</td>\n",
       "      <td>B</td>\n",
       "      <td>345678</td>\n",
       "    </tr>\n",
       "  </tbody>\n",
       "</table>\n",
       "</div>"
      ],
      "text/plain": [
       "    Name  Age Sec  Salary\n",
       "0  Mohan   12   A   23456\n",
       "1  Karan   23   B  345678"
      ]
     },
     "execution_count": 326,
     "metadata": {},
     "output_type": "execute_result"
    }
   ],
   "source": [
    "into_table(Name = ('Mohan','Karan'),Age = [12,23],Sec = ['A','B'],Salary = [23456,345678])"
   ]
  },
  {
   "cell_type": "code",
   "execution_count": 328,
   "id": "c395fd19-35e1-4e51-839f-9b9ca8a8c79e",
   "metadata": {},
   "outputs": [
    {
     "data": {
      "text/html": [
       "<div>\n",
       "<style scoped>\n",
       "    .dataframe tbody tr th:only-of-type {\n",
       "        vertical-align: middle;\n",
       "    }\n",
       "\n",
       "    .dataframe tbody tr th {\n",
       "        vertical-align: top;\n",
       "    }\n",
       "\n",
       "    .dataframe thead th {\n",
       "        text-align: right;\n",
       "    }\n",
       "</style>\n",
       "<table border=\"1\" class=\"dataframe\">\n",
       "  <thead>\n",
       "    <tr style=\"text-align: right;\">\n",
       "      <th></th>\n",
       "      <th>Name</th>\n",
       "      <th>Age</th>\n",
       "    </tr>\n",
       "  </thead>\n",
       "  <tbody>\n",
       "    <tr>\n",
       "      <th>1</th>\n",
       "      <td>Mohan</td>\n",
       "      <td>23</td>\n",
       "    </tr>\n",
       "  </tbody>\n",
       "</table>\n",
       "</div>"
      ],
      "text/plain": [
       "    Name  Age\n",
       "1  Mohan   23"
      ]
     },
     "execution_count": 328,
     "metadata": {},
     "output_type": "execute_result"
    }
   ],
   "source": [
    "into_table(Name = 'Mohan',Age = 23)"
   ]
  },
  {
   "cell_type": "code",
   "execution_count": 330,
   "id": "7709d960-8f64-4996-a7d7-be0a74f2944f",
   "metadata": {},
   "outputs": [],
   "source": [
    "# Nested Func\n",
    "# Scope in python"
   ]
  },
  {
   "cell_type": "code",
   "execution_count": 332,
   "id": "fe0cd3cb-1d4b-4424-9a25-664fd2f781a2",
   "metadata": {},
   "outputs": [],
   "source": [
    "# Nested Func:- function inside the func"
   ]
  },
  {
   "cell_type": "code",
   "execution_count": 354,
   "id": "aee37e5f-448c-41c1-bb51-02e669a94116",
   "metadata": {},
   "outputs": [],
   "source": [
    "def a():\n",
    "    print('I am a')\n",
    "\n",
    "    def b():\n",
    "        print('I am b')\n",
    "    b()"
   ]
  },
  {
   "cell_type": "code",
   "execution_count": 356,
   "id": "7e99d247-f59e-4691-93b7-b50f04280454",
   "metadata": {},
   "outputs": [
    {
     "name": "stdout",
     "output_type": "stream",
     "text": [
      "I am a\n",
      "I am b\n"
     ]
    }
   ],
   "source": [
    "a()"
   ]
  },
  {
   "cell_type": "code",
   "execution_count": 359,
   "id": "c764d74a-afea-4065-acf6-66b088a5f91e",
   "metadata": {},
   "outputs": [
    {
     "name": "stdout",
     "output_type": "stream",
     "text": [
      "I am a\n",
      "I am b\n"
     ]
    }
   ],
   "source": [
    "a()"
   ]
  },
  {
   "cell_type": "code",
   "execution_count": 409,
   "id": "ae11df77-d2f3-493a-ab35-04819815d526",
   "metadata": {},
   "outputs": [],
   "source": [
    "def a():\n",
    "    print('I am a')\n",
    "\n",
    "    def b():\n",
    "        print('I am b')\n",
    "\n",
    "        def c():\n",
    "            print('I am c')\n",
    "\n",
    "        c()\n",
    "    b()\n",
    "    def d():\n",
    "        print('I am d')\n",
    "       \n",
    "    d() \n",
    "    print('Hello World')\n"
   ]
  },
  {
   "cell_type": "code",
   "execution_count": 411,
   "id": "90eb060e-6cbf-40a5-b72a-c3aa5e9a8963",
   "metadata": {},
   "outputs": [
    {
     "name": "stdout",
     "output_type": "stream",
     "text": [
      "I am a\n",
      "I am b\n",
      "I am c\n",
      "I am d\n",
      "Hello World\n"
     ]
    }
   ],
   "source": [
    "a()"
   ]
  },
  {
   "cell_type": "code",
   "execution_count": null,
   "id": "6da3b8f5-fafc-47b0-b38c-c9cdc2048917",
   "metadata": {},
   "outputs": [],
   "source": []
  },
  {
   "cell_type": "code",
   "execution_count": 416,
   "id": "071d015d-41f8-46e3-824f-ff0aaf912904",
   "metadata": {},
   "outputs": [],
   "source": [
    "# Scope in python"
   ]
  },
  {
   "cell_type": "code",
   "execution_count": 418,
   "id": "59413c02-2548-448b-b3f0-991b1598bc9d",
   "metadata": {},
   "outputs": [],
   "source": [
    "# variable scope in python function"
   ]
  },
  {
   "cell_type": "code",
   "execution_count": 483,
   "id": "4afdbce9-a401-4487-8deb-b6dad94ca55e",
   "metadata": {},
   "outputs": [],
   "source": [
    "salary = 4567890  # Global Variable\n",
    "def greet(name):\n",
    "    agee = 18  # local variable\n",
    "    sec = 'A'\n",
    "    institute_name = 'Grastech'\n",
    "    print(f'Hello {name}')\n",
    "    print(institute_name)"
   ]
  },
  {
   "cell_type": "code",
   "execution_count": 471,
   "id": "4f763b7a-c61b-469a-8dc3-a34dbdb9131e",
   "metadata": {},
   "outputs": [
    {
     "name": "stdout",
     "output_type": "stream",
     "text": [
      "Hello Komal\n",
      "Grastech\n"
     ]
    }
   ],
   "source": [
    "greet('Komal')"
   ]
  },
  {
   "cell_type": "code",
   "execution_count": 458,
   "id": "a2f505d0-70f4-4b1c-bc03-56904ba65e55",
   "metadata": {},
   "outputs": [
    {
     "ename": "NameError",
     "evalue": "name 'agee' is not defined",
     "output_type": "error",
     "traceback": [
      "\u001b[1;31m---------------------------------------------------------------------------\u001b[0m",
      "\u001b[1;31mNameError\u001b[0m                                 Traceback (most recent call last)",
      "Cell \u001b[1;32mIn[458], line 1\u001b[0m\n\u001b[1;32m----> 1\u001b[0m \u001b[38;5;28mprint\u001b[39m(agee)\n",
      "\u001b[1;31mNameError\u001b[0m: name 'agee' is not defined"
     ]
    }
   ],
   "source": [
    "\n",
    "print(agee)"
   ]
  },
  {
   "cell_type": "code",
   "execution_count": 463,
   "id": "e9f764ce-fbdc-4294-ae8b-21537a2e0ad2",
   "metadata": {},
   "outputs": [
    {
     "ename": "NameError",
     "evalue": "name 'sec' is not defined",
     "output_type": "error",
     "traceback": [
      "\u001b[1;31m---------------------------------------------------------------------------\u001b[0m",
      "\u001b[1;31mNameError\u001b[0m                                 Traceback (most recent call last)",
      "Cell \u001b[1;32mIn[463], line 1\u001b[0m\n\u001b[1;32m----> 1\u001b[0m \u001b[38;5;28mprint\u001b[39m(sec)\n",
      "\u001b[1;31mNameError\u001b[0m: name 'sec' is not defined"
     ]
    }
   ],
   "source": [
    "print(sec)"
   ]
  },
  {
   "cell_type": "code",
   "execution_count": 467,
   "id": "cd02b648-8913-49a9-bede-6c7ea1f372ba",
   "metadata": {},
   "outputs": [
    {
     "ename": "NameError",
     "evalue": "name 'institute_name' is not defined",
     "output_type": "error",
     "traceback": [
      "\u001b[1;31m---------------------------------------------------------------------------\u001b[0m",
      "\u001b[1;31mNameError\u001b[0m                                 Traceback (most recent call last)",
      "Cell \u001b[1;32mIn[467], line 1\u001b[0m\n\u001b[1;32m----> 1\u001b[0m \u001b[38;5;28mprint\u001b[39m(institute_name)\n",
      "\u001b[1;31mNameError\u001b[0m: name 'institute_name' is not defined"
     ]
    }
   ],
   "source": [
    "print(institute_name)"
   ]
  },
  {
   "cell_type": "code",
   "execution_count": 479,
   "id": "f3d4155f-58bd-4020-bff0-df8a84f28bdd",
   "metadata": {},
   "outputs": [
    {
     "name": "stdout",
     "output_type": "stream",
     "text": [
      "4567890\n"
     ]
    }
   ],
   "source": [
    "print(salary)"
   ]
  },
  {
   "cell_type": "code",
   "execution_count": 487,
   "id": "be705ef5-a052-4701-ba6e-f6b6a7ac4da5",
   "metadata": {},
   "outputs": [],
   "source": [
    "fees = 34567\n",
    "def intro():\n",
    "    print('This is Grastech')\n",
    "    print(f'Fees of DA is : {fees}')"
   ]
  },
  {
   "cell_type": "code",
   "execution_count": 493,
   "id": "f0a50c9b-ae20-41c3-aa34-2eccc0d891d8",
   "metadata": {},
   "outputs": [
    {
     "name": "stdout",
     "output_type": "stream",
     "text": [
      "This is Grastech\n",
      "Fees of DA is : 34\n"
     ]
    }
   ],
   "source": [
    "fees = 34\n",
    "intro()"
   ]
  },
  {
   "cell_type": "code",
   "execution_count": 515,
   "id": "cd9d6c09-aee7-43f5-9c6d-ae3e479ec451",
   "metadata": {},
   "outputs": [],
   "source": [
    "def vip():\n",
    "    global who,address\n",
    "    who = 'Ambani'\n",
    "    address = 'Noida'\n",
    "    print(f'{who} is VVIP!!')"
   ]
  },
  {
   "cell_type": "code",
   "execution_count": 517,
   "id": "3d357fa5-6427-4b59-882e-678c83348854",
   "metadata": {},
   "outputs": [
    {
     "name": "stdout",
     "output_type": "stream",
     "text": [
      "Ambani is VVIP!!\n"
     ]
    }
   ],
   "source": [
    "vip()"
   ]
  },
  {
   "cell_type": "code",
   "execution_count": 519,
   "id": "5319bf70-10ea-472e-8788-5811e8310b7e",
   "metadata": {},
   "outputs": [
    {
     "name": "stdout",
     "output_type": "stream",
     "text": [
      "Ambani\n"
     ]
    }
   ],
   "source": [
    "print(who)"
   ]
  },
  {
   "cell_type": "code",
   "execution_count": 521,
   "id": "c6d6ea0c-f6b3-4fdb-8e9e-b98e6f2d8241",
   "metadata": {},
   "outputs": [
    {
     "name": "stdout",
     "output_type": "stream",
     "text": [
      "Noida\n"
     ]
    }
   ],
   "source": [
    "print(address)"
   ]
  },
  {
   "cell_type": "code",
   "execution_count": 549,
   "id": "a649810f-cf80-4174-b3c3-d3036533bbad",
   "metadata": {},
   "outputs": [
    {
     "name": "stdout",
     "output_type": "stream",
     "text": [
      "Gr Noida\n"
     ]
    }
   ],
   "source": [
    "address = 'Gr Noida'\n",
    "print(address)"
   ]
  },
  {
   "cell_type": "code",
   "execution_count": 551,
   "id": "0372bf35-73c5-4961-aaa0-8693324f741b",
   "metadata": {},
   "outputs": [
    {
     "name": "stdout",
     "output_type": "stream",
     "text": [
      "Ambani is VVIP!!\n"
     ]
    }
   ],
   "source": [
    "vip()"
   ]
  },
  {
   "cell_type": "code",
   "execution_count": 553,
   "id": "037c928e-321f-4fa9-b860-b16e829583cd",
   "metadata": {},
   "outputs": [
    {
     "name": "stdout",
     "output_type": "stream",
     "text": [
      "Noida\n"
     ]
    }
   ],
   "source": [
    "print(address)"
   ]
  },
  {
   "cell_type": "code",
   "execution_count": 555,
   "id": "fa3faa9f-3071-4c94-bc76-0c3eae482d82",
   "metadata": {},
   "outputs": [],
   "source": [
    "# generator:- yield\n",
    "# decorator"
   ]
  },
  {
   "cell_type": "code",
   "execution_count": 557,
   "id": "957f92ce-9b6b-447e-a339-1649a84ab82f",
   "metadata": {},
   "outputs": [],
   "source": [
    "def give_name():\n",
    "    yield 'Noida'\n",
    "    yield 'Aman'\n",
    "    yield 'Karan'\n",
    "    yield 'Mohan'\n",
    "    yield 'Ajay'"
   ]
  },
  {
   "cell_type": "code",
   "execution_count": 559,
   "id": "8429eac2-9a36-417f-8ed5-ec04bfd4e0f8",
   "metadata": {},
   "outputs": [],
   "source": [
    "name = give_name()"
   ]
  },
  {
   "cell_type": "code",
   "execution_count": 561,
   "id": "3a71cea8-79bb-4091-ad23-5d8ca838f3c0",
   "metadata": {},
   "outputs": [
    {
     "data": {
      "text/plain": [
       "<generator object give_name at 0x0000012AE6FCE6C0>"
      ]
     },
     "execution_count": 561,
     "metadata": {},
     "output_type": "execute_result"
    }
   ],
   "source": [
    "name"
   ]
  },
  {
   "cell_type": "code",
   "execution_count": 575,
   "id": "4cc05e42-6d25-4507-b462-2ace0ff77283",
   "metadata": {},
   "outputs": [],
   "source": [
    "# next(name)"
   ]
  },
  {
   "cell_type": "code",
   "execution_count": 581,
   "id": "7fede614-9bc4-4850-a9bb-772fa7914b36",
   "metadata": {},
   "outputs": [],
   "source": [
    "data = ((i,i**2) for i in range(12345634567897890))"
   ]
  },
  {
   "cell_type": "code",
   "execution_count": 585,
   "id": "16595156-37b8-40e5-9687-872c52d145e0",
   "metadata": {},
   "outputs": [
    {
     "data": {
      "text/plain": [
       "<generator object <genexpr> at 0x0000012AE66E5BE0>"
      ]
     },
     "execution_count": 585,
     "metadata": {},
     "output_type": "execute_result"
    }
   ],
   "source": [
    "data"
   ]
  },
  {
   "cell_type": "code",
   "execution_count": 601,
   "id": "7b1fc4ac-2d65-4159-bf1d-10f91d935e32",
   "metadata": {},
   "outputs": [
    {
     "data": {
      "text/plain": [
       "(7, 49)"
      ]
     },
     "execution_count": 601,
     "metadata": {},
     "output_type": "execute_result"
    }
   ],
   "source": [
    "next(data)"
   ]
  },
  {
   "cell_type": "code",
   "execution_count": 603,
   "id": "553d3d5a-a465-466e-a921-acda0d2cf6bc",
   "metadata": {},
   "outputs": [
    {
     "data": {
      "text/plain": [
       "generator"
      ]
     },
     "execution_count": 603,
     "metadata": {},
     "output_type": "execute_result"
    }
   ],
   "source": [
    "type(data)"
   ]
  },
  {
   "cell_type": "code",
   "execution_count": 605,
   "id": "4c755da8-d91b-4602-a0d3-91bec43c83ae",
   "metadata": {},
   "outputs": [
    {
     "data": {
      "text/plain": [
       "generator"
      ]
     },
     "execution_count": 605,
     "metadata": {},
     "output_type": "execute_result"
    }
   ],
   "source": [
    "type(name)"
   ]
  },
  {
   "cell_type": "code",
   "execution_count": null,
   "id": "bf41c0ca-0eea-42b5-a035-27e49b48c566",
   "metadata": {},
   "outputs": [],
   "source": []
  }
 ],
 "metadata": {
  "kernelspec": {
   "display_name": "Python [conda env:base] *",
   "language": "python",
   "name": "conda-base-py"
  },
  "language_info": {
   "codemirror_mode": {
    "name": "ipython",
    "version": 3
   },
   "file_extension": ".py",
   "mimetype": "text/x-python",
   "name": "python",
   "nbconvert_exporter": "python",
   "pygments_lexer": "ipython3",
   "version": "3.12.7"
  }
 },
 "nbformat": 4,
 "nbformat_minor": 5
}
