{
 "cells": [
  {
   "cell_type": "code",
   "execution_count": 1,
   "id": "45967e2a-e427-49ce-a465-70377ad56a89",
   "metadata": {},
   "outputs": [],
   "source": [
    "# # comparison op/ relational op:- <, >, <=, >=, etc\n",
    "# membership op:- in not in\n",
    "# identity op:- is is not\n",
    "# logical op:- and, or, not\n",
    "# bitwise op:- &, |, ~, ^, <<, >>"
   ]
  },
  {
   "cell_type": "code",
   "execution_count": 3,
   "id": "014c5f00-67aa-44df-935d-f60c80bf581b",
   "metadata": {},
   "outputs": [],
   "source": [
    "# Functions basics, Type casting"
   ]
  },
  {
   "cell_type": "code",
   "execution_count": 5,
   "id": "07cca2a2-dc22-4b76-ad89-940cfc6b31da",
   "metadata": {},
   "outputs": [],
   "source": [
    " # comparison op/ relational op:-"
   ]
  },
  {
   "cell_type": "code",
   "execution_count": 9,
   "id": "6d4e3a4c-4e47-4692-8896-90856bcac050",
   "metadata": {},
   "outputs": [],
   "source": [
    "# <\n",
    "# >\n",
    "# <=\n",
    "# >=\n",
    "# ==\n",
    "# !=\n",
    "\n",
    "# bool :- mein result"
   ]
  },
  {
   "cell_type": "code",
   "execution_count": 15,
   "id": "68f2fedb-7fc7-4f24-b46b-def3dd22cc32",
   "metadata": {},
   "outputs": [
    {
     "name": "stdout",
     "output_type": "stream",
     "text": [
      "True\n"
     ]
    }
   ],
   "source": [
    "a  = 4  \n",
    "b = 43\n",
    "print(a < b)"
   ]
  },
  {
   "cell_type": "code",
   "execution_count": 19,
   "id": "5d9f9812-8c9f-4af3-9300-e53eb3bc10b9",
   "metadata": {},
   "outputs": [
    {
     "name": "stdout",
     "output_type": "stream",
     "text": [
      "True\n"
     ]
    }
   ],
   "source": [
    "a = 456\n",
    "b = 5678\n",
    "\n",
    "print(b > a)"
   ]
  },
  {
   "cell_type": "code",
   "execution_count": 23,
   "id": "69b68fdc-b463-40ee-ab68-0dff481fd81a",
   "metadata": {},
   "outputs": [
    {
     "name": "stdout",
     "output_type": "stream",
     "text": [
      "False\n"
     ]
    }
   ],
   "source": [
    "name1 = 'arun'\n",
    "name2 = 'Arun'\n",
    "\n",
    "print(name1 == name2)"
   ]
  },
  {
   "cell_type": "code",
   "execution_count": 25,
   "id": "16033994-8f40-4ace-9b35-d87cf31ace89",
   "metadata": {},
   "outputs": [
    {
     "name": "stdout",
     "output_type": "stream",
     "text": [
      "True\n"
     ]
    }
   ],
   "source": [
    "a = 3456\n",
    "b = 3456\n",
    "\n",
    "print(a == b)"
   ]
  },
  {
   "cell_type": "code",
   "execution_count": 27,
   "id": "2faab429-df63-4146-b392-59865ec5662c",
   "metadata": {},
   "outputs": [
    {
     "name": "stdout",
     "output_type": "stream",
     "text": [
      "True\n"
     ]
    }
   ],
   "source": [
    "a = [1,2,3]\n",
    "b = [1,2,3]\n",
    "\n",
    "print(a == b)"
   ]
  },
  {
   "cell_type": "code",
   "execution_count": 33,
   "id": "be57787c-0752-4c08-a253-d7564cc690fd",
   "metadata": {},
   "outputs": [],
   "source": [
    "a = 2345678905678456789876\n",
    "b = 2345678905678456789876"
   ]
  },
  {
   "cell_type": "code",
   "execution_count": 35,
   "id": "e1568c99-7218-4ab3-a8c3-b9644df24056",
   "metadata": {},
   "outputs": [
    {
     "name": "stdout",
     "output_type": "stream",
     "text": [
      "True\n"
     ]
    }
   ],
   "source": [
    "print(a == b)"
   ]
  },
  {
   "cell_type": "code",
   "execution_count": 37,
   "id": "236a3c71-334b-45af-a6af-9904b51569ae",
   "metadata": {},
   "outputs": [],
   "source": [
    "# id()\n",
    "# == :- equality"
   ]
  },
  {
   "cell_type": "code",
   "execution_count": 41,
   "id": "749d60aa-fd9e-45f6-bedc-11a9e0798360",
   "metadata": {},
   "outputs": [
    {
     "name": "stdout",
     "output_type": "stream",
     "text": [
      "True\n"
     ]
    }
   ],
   "source": [
    "a = [1,2,3]\n",
    "b = [1,2,3]\n",
    "\n",
    "print(a == b)"
   ]
  },
  {
   "cell_type": "code",
   "execution_count": 43,
   "id": "2b4d3da6-d152-47c6-be67-b3d6d8865ee3",
   "metadata": {},
   "outputs": [
    {
     "data": {
      "text/plain": [
       "2624666741952"
      ]
     },
     "execution_count": 43,
     "metadata": {},
     "output_type": "execute_result"
    }
   ],
   "source": [
    "id(a)"
   ]
  },
  {
   "cell_type": "code",
   "execution_count": 45,
   "id": "4d907780-c9ab-4a68-83d4-6ade8ae29d5f",
   "metadata": {},
   "outputs": [
    {
     "data": {
      "text/plain": [
       "2624666732160"
      ]
     },
     "execution_count": 45,
     "metadata": {},
     "output_type": "execute_result"
    }
   ],
   "source": [
    "id(b)"
   ]
  },
  {
   "cell_type": "code",
   "execution_count": 47,
   "id": "db34f365-787e-4388-a099-f41c1930241b",
   "metadata": {},
   "outputs": [],
   "source": [
    "# identity op:- "
   ]
  },
  {
   "cell_type": "code",
   "execution_count": 49,
   "id": "bf8a5fc0-e3e4-4a63-91b9-ef4fe567abfb",
   "metadata": {},
   "outputs": [
    {
     "data": {
      "text/plain": [
       "False"
      ]
     },
     "execution_count": 49,
     "metadata": {},
     "output_type": "execute_result"
    }
   ],
   "source": [
    "id(a) == id(b)"
   ]
  },
  {
   "cell_type": "code",
   "execution_count": 51,
   "id": "d386df4f-53b2-4dda-85a6-2717c3ff0c22",
   "metadata": {},
   "outputs": [],
   "source": [
    "# is, is not"
   ]
  },
  {
   "cell_type": "code",
   "execution_count": 53,
   "id": "b5c0f0d1-83ee-41d5-b1ff-5ffab688e145",
   "metadata": {},
   "outputs": [],
   "source": [
    "a = [1,2,3]\n",
    "b = [1,2,3]"
   ]
  },
  {
   "cell_type": "code",
   "execution_count": 55,
   "id": "40148609-70b6-4f5c-9bfb-ac22e88f6121",
   "metadata": {},
   "outputs": [
    {
     "data": {
      "text/plain": [
       "False"
      ]
     },
     "execution_count": 55,
     "metadata": {},
     "output_type": "execute_result"
    }
   ],
   "source": [
    "a is b"
   ]
  },
  {
   "cell_type": "code",
   "execution_count": 57,
   "id": "2b0533e6-84e2-4e88-a52b-edcd7daef733",
   "metadata": {},
   "outputs": [
    {
     "data": {
      "text/plain": [
       "2624666741760"
      ]
     },
     "execution_count": 57,
     "metadata": {},
     "output_type": "execute_result"
    }
   ],
   "source": [
    "id(a)"
   ]
  },
  {
   "cell_type": "code",
   "execution_count": 59,
   "id": "650de365-0ad2-4d72-8e79-0195a877687c",
   "metadata": {},
   "outputs": [
    {
     "data": {
      "text/plain": [
       "2624666744576"
      ]
     },
     "execution_count": 59,
     "metadata": {},
     "output_type": "execute_result"
    }
   ],
   "source": [
    "id(b)"
   ]
  },
  {
   "cell_type": "code",
   "execution_count": 77,
   "id": "8fb19054-be4c-4b4d-b48f-a34b03fe8fab",
   "metadata": {},
   "outputs": [],
   "source": [
    "a = 234325453466\n",
    "b = 234325453466"
   ]
  },
  {
   "cell_type": "code",
   "execution_count": 75,
   "id": "33513ce8-7878-4b5c-bc1e-d12dba2074ae",
   "metadata": {},
   "outputs": [
    {
     "data": {
      "text/plain": [
       "False"
      ]
     },
     "execution_count": 75,
     "metadata": {},
     "output_type": "execute_result"
    }
   ],
   "source": [
    "a is b"
   ]
  },
  {
   "cell_type": "code",
   "execution_count": 73,
   "id": "c30c2ee8-0cbc-4604-bb8d-e672b438f80b",
   "metadata": {},
   "outputs": [
    {
     "data": {
      "text/plain": [
       "True"
      ]
     },
     "execution_count": 73,
     "metadata": {},
     "output_type": "execute_result"
    }
   ],
   "source": [
    "a == b  # equality"
   ]
  },
  {
   "cell_type": "code",
   "execution_count": 79,
   "id": "972bb91f-b1ab-45d2-8736-94f2a59276fc",
   "metadata": {},
   "outputs": [
    {
     "data": {
      "text/plain": [
       "2624688895184"
      ]
     },
     "execution_count": 79,
     "metadata": {},
     "output_type": "execute_result"
    }
   ],
   "source": [
    "id(a)"
   ]
  },
  {
   "cell_type": "code",
   "execution_count": 81,
   "id": "94731a52-4fd8-4563-b2db-dae5a46bbc13",
   "metadata": {},
   "outputs": [
    {
     "data": {
      "text/plain": [
       "2624688896208"
      ]
     },
     "execution_count": 81,
     "metadata": {},
     "output_type": "execute_result"
    }
   ],
   "source": [
    "id(b)"
   ]
  },
  {
   "cell_type": "code",
   "execution_count": 83,
   "id": "7306f8c0-5ed8-484c-8b12-280117f75488",
   "metadata": {},
   "outputs": [
    {
     "data": {
      "text/plain": [
       "False"
      ]
     },
     "execution_count": 83,
     "metadata": {},
     "output_type": "execute_result"
    }
   ],
   "source": [
    "a is b"
   ]
  },
  {
   "cell_type": "code",
   "execution_count": null,
   "id": "07b724c8-ef26-40d4-878f-c48426a9f8a9",
   "metadata": {},
   "outputs": [],
   "source": []
  },
  {
   "cell_type": "code",
   "execution_count": null,
   "id": "c36cf6d1-939b-469c-9974-32acfbe0adce",
   "metadata": {},
   "outputs": [],
   "source": []
  },
  {
   "cell_type": "code",
   "execution_count": 93,
   "id": "ecc796b5-2718-4fb0-a30a-69d8c882f3a3",
   "metadata": {},
   "outputs": [],
   "source": [
    "a = 23"
   ]
  },
  {
   "cell_type": "code",
   "execution_count": 95,
   "id": "7f6fba34-b25d-465f-92dd-281fca713ae1",
   "metadata": {},
   "outputs": [],
   "source": [
    "b = 23"
   ]
  },
  {
   "cell_type": "code",
   "execution_count": 89,
   "id": "e2b9dea0-4f6e-4127-a531-da33d98aea8a",
   "metadata": {},
   "outputs": [
    {
     "name": "stdout",
     "output_type": "stream",
     "text": [
      "True\n",
      "True\n"
     ]
    }
   ],
   "source": [
    "print(a == b)\n",
    "print(a is b)"
   ]
  },
  {
   "cell_type": "code",
   "execution_count": 91,
   "id": "0e9cb3df-95d5-4879-be76-9ee16a30eb06",
   "metadata": {},
   "outputs": [],
   "source": [
    "# Python memory manage"
   ]
  },
  {
   "cell_type": "code",
   "execution_count": 97,
   "id": "98ffcc4e-a06f-4483-9f23-a104a673d3e3",
   "metadata": {},
   "outputs": [
    {
     "data": {
      "text/plain": [
       "140733214895224"
      ]
     },
     "execution_count": 97,
     "metadata": {},
     "output_type": "execute_result"
    }
   ],
   "source": [
    "id(a)"
   ]
  },
  {
   "cell_type": "code",
   "execution_count": 99,
   "id": "409d28f5-3ff0-4b06-a9af-259d6b0fe7a1",
   "metadata": {},
   "outputs": [
    {
     "data": {
      "text/plain": [
       "140733214895224"
      ]
     },
     "execution_count": 99,
     "metadata": {},
     "output_type": "execute_result"
    }
   ],
   "source": [
    "id(b)"
   ]
  },
  {
   "cell_type": "code",
   "execution_count": 101,
   "id": "7f4b77e6-9bae-4468-9a64-58fcf4ac8f14",
   "metadata": {},
   "outputs": [
    {
     "data": {
      "text/plain": [
       "True"
      ]
     },
     "execution_count": 101,
     "metadata": {},
     "output_type": "execute_result"
    }
   ],
   "source": [
    "a is b"
   ]
  },
  {
   "cell_type": "code",
   "execution_count": 103,
   "id": "25cd2c74-4247-4ebe-aa9d-45b9a961065e",
   "metadata": {},
   "outputs": [],
   "source": [
    "a = 3456765434567654\n",
    "b = 3456765434567654"
   ]
  },
  {
   "cell_type": "code",
   "execution_count": 105,
   "id": "b714f9db-c5ff-432d-ba1b-926087ca5a49",
   "metadata": {},
   "outputs": [
    {
     "data": {
      "text/plain": [
       "False"
      ]
     },
     "execution_count": 105,
     "metadata": {},
     "output_type": "execute_result"
    }
   ],
   "source": [
    "a is b"
   ]
  },
  {
   "cell_type": "code",
   "execution_count": 107,
   "id": "74d8486b-88b7-4606-addf-692695ddf571",
   "metadata": {},
   "outputs": [
    {
     "data": {
      "text/plain": [
       "2624688896848"
      ]
     },
     "execution_count": 107,
     "metadata": {},
     "output_type": "execute_result"
    }
   ],
   "source": [
    "id(a)"
   ]
  },
  {
   "cell_type": "code",
   "execution_count": 109,
   "id": "e63bbaf1-7d0d-43f9-93c6-2b1bd3c83d94",
   "metadata": {},
   "outputs": [
    {
     "data": {
      "text/plain": [
       "2624688893648"
      ]
     },
     "execution_count": 109,
     "metadata": {},
     "output_type": "execute_result"
    }
   ],
   "source": [
    "id(b)"
   ]
  },
  {
   "cell_type": "code",
   "execution_count": 139,
   "id": "f455b31c-0f01-44e7-92ac-9c20c335c43f",
   "metadata": {},
   "outputs": [],
   "source": [
    "a = 257\n",
    "b = 257\n",
    "c = 257\n",
    "d = 257\n",
    "e = 257\n"
   ]
  },
  {
   "cell_type": "code",
   "execution_count": 141,
   "id": "6a653b17-8dba-4db3-b428-91520a674c6c",
   "metadata": {},
   "outputs": [
    {
     "data": {
      "text/plain": [
       "False"
      ]
     },
     "execution_count": 141,
     "metadata": {},
     "output_type": "execute_result"
    }
   ],
   "source": [
    "a is b"
   ]
  },
  {
   "cell_type": "code",
   "execution_count": 143,
   "id": "abe856c6-2d89-4ac6-9223-77cdf4c8543c",
   "metadata": {},
   "outputs": [
    {
     "data": {
      "text/plain": [
       "False"
      ]
     },
     "execution_count": 143,
     "metadata": {},
     "output_type": "execute_result"
    }
   ],
   "source": [
    "a is b"
   ]
  },
  {
   "cell_type": "code",
   "execution_count": 145,
   "id": "b29fd5af-e746-43b4-99d9-8f1a98e1bb6d",
   "metadata": {},
   "outputs": [
    {
     "data": {
      "text/plain": [
       "False"
      ]
     },
     "execution_count": 145,
     "metadata": {},
     "output_type": "execute_result"
    }
   ],
   "source": [
    "b is c"
   ]
  },
  {
   "cell_type": "code",
   "execution_count": 147,
   "id": "6725c345-142a-45a5-b334-ee945e2cb644",
   "metadata": {},
   "outputs": [
    {
     "data": {
      "text/plain": [
       "False"
      ]
     },
     "execution_count": 147,
     "metadata": {},
     "output_type": "execute_result"
    }
   ],
   "source": [
    "c is d"
   ]
  },
  {
   "cell_type": "code",
   "execution_count": 149,
   "id": "9a6b5584-ac5a-4b2d-afda-956ca63b26f8",
   "metadata": {},
   "outputs": [
    {
     "data": {
      "text/plain": [
       "False"
      ]
     },
     "execution_count": 149,
     "metadata": {},
     "output_type": "execute_result"
    }
   ],
   "source": [
    "d is e"
   ]
  },
  {
   "cell_type": "code",
   "execution_count": null,
   "id": "5e2a3b99-b16d-49e0-b9ad-45108bca861b",
   "metadata": {},
   "outputs": [],
   "source": []
  },
  {
   "cell_type": "code",
   "execution_count": 152,
   "id": "d9c5cf99-49c9-4289-a480-a6d4b366ae93",
   "metadata": {},
   "outputs": [],
   "source": [
    "a = [1,2,3]\n",
    "b = [1,2,3]"
   ]
  },
  {
   "cell_type": "code",
   "execution_count": 154,
   "id": "ccf87c66-0e7d-42f4-8bf7-48566fcf5daa",
   "metadata": {},
   "outputs": [
    {
     "data": {
      "text/plain": [
       "False"
      ]
     },
     "execution_count": 154,
     "metadata": {},
     "output_type": "execute_result"
    }
   ],
   "source": [
    "a is b"
   ]
  },
  {
   "cell_type": "code",
   "execution_count": 156,
   "id": "7ff6317b-ac03-4c49-b44c-5d2b6aa09225",
   "metadata": {},
   "outputs": [
    {
     "data": {
      "text/plain": [
       "True"
      ]
     },
     "execution_count": 156,
     "metadata": {},
     "output_type": "execute_result"
    }
   ],
   "source": [
    "a == b"
   ]
  },
  {
   "cell_type": "code",
   "execution_count": 158,
   "id": "a2a1dc74-4957-4892-b25d-30e7949f73ee",
   "metadata": {},
   "outputs": [
    {
     "data": {
      "text/plain": [
       "True"
      ]
     },
     "execution_count": 158,
     "metadata": {},
     "output_type": "execute_result"
    }
   ],
   "source": [
    "a = 345\n",
    "a <= 400"
   ]
  },
  {
   "cell_type": "code",
   "execution_count": 162,
   "id": "b2b5a1a5-a2ac-40a4-b63e-8a6f1c651a6e",
   "metadata": {},
   "outputs": [
    {
     "data": {
      "text/plain": [
       "False"
      ]
     },
     "execution_count": 162,
     "metadata": {},
     "output_type": "execute_result"
    }
   ],
   "source": [
    "a =33456\n",
    "\n",
    "b = 3456767\n",
    "\n",
    "b <= a"
   ]
  },
  {
   "cell_type": "code",
   "execution_count": 164,
   "id": "6b2e2d72-0c71-4df3-b76d-d4a58f5a8e9f",
   "metadata": {},
   "outputs": [
    {
     "data": {
      "text/plain": [
       "True"
      ]
     },
     "execution_count": 164,
     "metadata": {},
     "output_type": "execute_result"
    }
   ],
   "source": [
    "a = 345\n",
    "b = 345\n",
    "\n",
    "a<=b"
   ]
  },
  {
   "cell_type": "code",
   "execution_count": 166,
   "id": "c8c92185-ce69-47f8-a057-557628c0991b",
   "metadata": {},
   "outputs": [
    {
     "data": {
      "text/plain": [
       "True"
      ]
     },
     "execution_count": 166,
     "metadata": {},
     "output_type": "execute_result"
    }
   ],
   "source": [
    "a = 345\n",
    "b = 345\n",
    "\n",
    "a>=b"
   ]
  },
  {
   "cell_type": "code",
   "execution_count": 168,
   "id": "8ced9aef-1e87-47d5-bd96-d31762c425cd",
   "metadata": {},
   "outputs": [],
   "source": [
    "a = 'mohan'\n",
    "b = 'ravi'"
   ]
  },
  {
   "cell_type": "code",
   "execution_count": 176,
   "id": "6e51ef55-9f3d-41e3-b273-4ce1491f7854",
   "metadata": {},
   "outputs": [
    {
     "data": {
      "text/plain": [
       "True"
      ]
     },
     "execution_count": 176,
     "metadata": {},
     "output_type": "execute_result"
    }
   ],
   "source": [
    "a != b"
   ]
  },
  {
   "cell_type": "code",
   "execution_count": 180,
   "id": "159d3d18-dfc4-47eb-bdd7-fb40f146ace2",
   "metadata": {},
   "outputs": [
    {
     "data": {
      "text/plain": [
       "False"
      ]
     },
     "execution_count": 180,
     "metadata": {},
     "output_type": "execute_result"
    }
   ],
   "source": [
    "a == b"
   ]
  },
  {
   "cell_type": "code",
   "execution_count": 182,
   "id": "8b0d3b4d-443e-4e2b-a63d-af96953317ab",
   "metadata": {},
   "outputs": [],
   "source": [
    "# <\n",
    "# <=\n",
    "# >\n",
    "# >=\n",
    "# ==\n",
    "# !="
   ]
  },
  {
   "cell_type": "code",
   "execution_count": 184,
   "id": "f0cbd1db-6a80-4ae4-ab55-e0abb7a31f3a",
   "metadata": {},
   "outputs": [],
   "source": [
    "# membership op:- in not in"
   ]
  },
  {
   "cell_type": "code",
   "execution_count": 186,
   "id": "e723dbdb-5547-4b1a-ab9a-29484bdddf41",
   "metadata": {},
   "outputs": [
    {
     "name": "stdout",
     "output_type": "stream",
     "text": [
      "['karan', 'ravi', 'arjun', 'mohan', 'modiji']\n"
     ]
    }
   ],
   "source": [
    "students = ['karan','ravi','arjun','mohan','modiji']\n",
    "\n",
    "print(students)"
   ]
  },
  {
   "cell_type": "code",
   "execution_count": 188,
   "id": "8d62e602-e540-499c-a2ec-08b9f45cac8e",
   "metadata": {},
   "outputs": [
    {
     "data": {
      "text/plain": [
       "list"
      ]
     },
     "execution_count": 188,
     "metadata": {},
     "output_type": "execute_result"
    }
   ],
   "source": [
    "type(students)"
   ]
  },
  {
   "cell_type": "code",
   "execution_count": 192,
   "id": "cd2ff55a-381b-40b5-9a28-abda4f360384",
   "metadata": {},
   "outputs": [],
   "source": [
    "# # membership :- bool\n",
    "# in\n",
    "# not in"
   ]
  },
  {
   "cell_type": "code",
   "execution_count": 194,
   "id": "b5d2368c-cc2c-4093-9327-cc8672bb61f6",
   "metadata": {},
   "outputs": [
    {
     "data": {
      "text/plain": [
       "True"
      ]
     },
     "execution_count": 194,
     "metadata": {},
     "output_type": "execute_result"
    }
   ],
   "source": [
    "'arjun' in students"
   ]
  },
  {
   "cell_type": "code",
   "execution_count": 196,
   "id": "27901b3c-7067-4228-804c-70fdc9b37bd3",
   "metadata": {},
   "outputs": [
    {
     "data": {
      "text/plain": [
       "False"
      ]
     },
     "execution_count": 196,
     "metadata": {},
     "output_type": "execute_result"
    }
   ],
   "source": [
    "'Arjun' in students"
   ]
  },
  {
   "cell_type": "code",
   "execution_count": 198,
   "id": "cd3ccd9b-e1ce-43e6-b49a-1b7973ddb6e0",
   "metadata": {},
   "outputs": [
    {
     "data": {
      "text/plain": [
       "True"
      ]
     },
     "execution_count": 198,
     "metadata": {},
     "output_type": "execute_result"
    }
   ],
   "source": [
    "name = 'karan'\n",
    "\n",
    "name in students"
   ]
  },
  {
   "cell_type": "code",
   "execution_count": 208,
   "id": "d33a5aca-4b70-4c60-a50c-d83ac2a6cafc",
   "metadata": {},
   "outputs": [
    {
     "name": "stdout",
     "output_type": "stream",
     "text": [
      "Rohan Available nahi hai\n"
     ]
    }
   ],
   "source": [
    "name = 'Rohan'\n",
    "\n",
    "if name in students:\n",
    "    print(name,'Available hai')\n",
    "else:\n",
    "    print(name,'Available nahi hai')"
   ]
  },
  {
   "cell_type": "code",
   "execution_count": null,
   "id": "0a9b46e8-a44a-4553-a2b7-a6e3e604a913",
   "metadata": {},
   "outputs": [],
   "source": []
  },
  {
   "cell_type": "code",
   "execution_count": null,
   "id": "eee6d429-3fff-4c0b-9513-d3eadfb19dd6",
   "metadata": {},
   "outputs": [],
   "source": []
  },
  {
   "cell_type": "code",
   "execution_count": 212,
   "id": "405fa8f2-6f12-47cd-b293-aff4ffc6bf51",
   "metadata": {},
   "outputs": [
    {
     "name": "stdout",
     "output_type": "stream",
     "text": [
      "['karan', 'ravi', 'arjun', 'mohan', 'modiji']\n"
     ]
    }
   ],
   "source": [
    "students = ['karan','ravi','arjun','mohan','modiji']\n",
    "\n",
    "print(students)"
   ]
  },
  {
   "cell_type": "code",
   "execution_count": 216,
   "id": "ffbb698b-fef1-4dc9-9d20-426d9b3dc7f3",
   "metadata": {},
   "outputs": [
    {
     "data": {
      "text/plain": [
       "True"
      ]
     },
     "execution_count": 216,
     "metadata": {},
     "output_type": "execute_result"
    }
   ],
   "source": [
    "'modiji' in students"
   ]
  },
  {
   "cell_type": "code",
   "execution_count": 224,
   "id": "984fbf07-cbba-44fd-8123-ae38ce02a51f",
   "metadata": {},
   "outputs": [
    {
     "data": {
      "text/plain": [
       "True"
      ]
     },
     "execution_count": 224,
     "metadata": {},
     "output_type": "execute_result"
    }
   ],
   "source": [
    "'rohan' not in students"
   ]
  },
  {
   "cell_type": "code",
   "execution_count": null,
   "id": "851a7f54-6a0d-4ede-af9a-b4b978784a6f",
   "metadata": {},
   "outputs": [],
   "source": []
  },
  {
   "cell_type": "code",
   "execution_count": 227,
   "id": "b31a9c2a-60cd-4efd-9479-8b600e186f7c",
   "metadata": {},
   "outputs": [],
   "source": [
    "# Identity"
   ]
  },
  {
   "cell_type": "code",
   "execution_count": 229,
   "id": "13cd996c-5aeb-4c39-93d1-cdb2d792c0a2",
   "metadata": {},
   "outputs": [],
   "source": [
    "# is, is not"
   ]
  },
  {
   "cell_type": "code",
   "execution_count": 231,
   "id": "dba8f39e-8aaf-4cb6-852b-83221a209399",
   "metadata": {},
   "outputs": [],
   "source": [
    "a = 'sharad'\n",
    "b = 'shubham'"
   ]
  },
  {
   "cell_type": "code",
   "execution_count": 233,
   "id": "dd172d47-9c61-496f-9321-539ecaca806a",
   "metadata": {},
   "outputs": [
    {
     "data": {
      "text/plain": [
       "False"
      ]
     },
     "execution_count": 233,
     "metadata": {},
     "output_type": "execute_result"
    }
   ],
   "source": [
    "a is b"
   ]
  },
  {
   "cell_type": "code",
   "execution_count": 235,
   "id": "d3ee58c0-e309-4145-b058-d8ab363322cc",
   "metadata": {},
   "outputs": [
    {
     "data": {
      "text/plain": [
       "2624674878144"
      ]
     },
     "execution_count": 235,
     "metadata": {},
     "output_type": "execute_result"
    }
   ],
   "source": [
    "id(a)"
   ]
  },
  {
   "cell_type": "code",
   "execution_count": 237,
   "id": "e8bb1f41-daa9-4467-bffa-0d5b47937be0",
   "metadata": {},
   "outputs": [
    {
     "data": {
      "text/plain": [
       "2624715709952"
      ]
     },
     "execution_count": 237,
     "metadata": {},
     "output_type": "execute_result"
    }
   ],
   "source": [
    "id(b)"
   ]
  },
  {
   "cell_type": "code",
   "execution_count": 239,
   "id": "b58e2f48-1579-431a-aa96-1fb9b47d6acc",
   "metadata": {},
   "outputs": [],
   "source": [
    "a = 456765\n",
    "b = 'mohan'"
   ]
  },
  {
   "cell_type": "code",
   "execution_count": 245,
   "id": "bdd87bfd-82a4-4283-85bf-a3e445e109ee",
   "metadata": {},
   "outputs": [
    {
     "data": {
      "text/plain": [
       "True"
      ]
     },
     "execution_count": 245,
     "metadata": {},
     "output_type": "execute_result"
    }
   ],
   "source": [
    "a is not  b"
   ]
  },
  {
   "cell_type": "code",
   "execution_count": 275,
   "id": "a6262ba1-5417-4a5d-947b-d9065b99ec95",
   "metadata": {},
   "outputs": [],
   "source": [
    "a = 'ajayisverma'\n",
    "b = 'ajayisverma'"
   ]
  },
  {
   "cell_type": "code",
   "execution_count": 277,
   "id": "b2a2b3be-c618-4907-a921-b9818afa3d20",
   "metadata": {},
   "outputs": [
    {
     "data": {
      "text/plain": [
       "True"
      ]
     },
     "execution_count": 277,
     "metadata": {},
     "output_type": "execute_result"
    }
   ],
   "source": [
    "a is b"
   ]
  },
  {
   "cell_type": "code",
   "execution_count": 265,
   "id": "3f3dc719-fc26-440d-8099-9b79504789a5",
   "metadata": {},
   "outputs": [
    {
     "data": {
      "text/plain": [
       "2624710105328"
      ]
     },
     "execution_count": 265,
     "metadata": {},
     "output_type": "execute_result"
    }
   ],
   "source": [
    "id(a)"
   ]
  },
  {
   "cell_type": "code",
   "execution_count": 267,
   "id": "4c9c2b8f-292b-40d7-8c27-a457b630adbe",
   "metadata": {},
   "outputs": [
    {
     "data": {
      "text/plain": [
       "2624706962544"
      ]
     },
     "execution_count": 267,
     "metadata": {},
     "output_type": "execute_result"
    }
   ],
   "source": [
    "id(b)"
   ]
  },
  {
   "cell_type": "code",
   "execution_count": null,
   "id": "309061e6-5291-42d3-b921-7e549d78faaf",
   "metadata": {},
   "outputs": [],
   "source": []
  },
  {
   "cell_type": "code",
   "execution_count": null,
   "id": "d1722ad1-985b-4a03-885d-fd07d0efdc01",
   "metadata": {},
   "outputs": [],
   "source": []
  },
  {
   "cell_type": "code",
   "execution_count": null,
   "id": "a428c301-24c3-4de2-87e5-213c9084ec3f",
   "metadata": {},
   "outputs": [],
   "source": []
  },
  {
   "cell_type": "code",
   "execution_count": 282,
   "id": "f3cd2ad0-9b5a-4dd3-b065-7e7787987b4b",
   "metadata": {},
   "outputs": [],
   "source": [
    "# logical op::- and, or, not"
   ]
  },
  {
   "cell_type": "code",
   "execution_count": 284,
   "id": "41032fd3-b597-4fed-89f2-d1cbfb1970a4",
   "metadata": {},
   "outputs": [],
   "source": [
    "# and:- multiple conditions true:- True\n",
    "# or:- koi bhi ek True:- Final True"
   ]
  },
  {
   "cell_type": "code",
   "execution_count": 286,
   "id": "80407117-4a53-4fbe-a04c-65bc0055e21a",
   "metadata": {},
   "outputs": [],
   "source": [
    "# For DL Test"
   ]
  },
  {
   "cell_type": "code",
   "execution_count": 308,
   "id": "f5ffc816-00ea-4347-a143-890b9304c4c3",
   "metadata": {},
   "outputs": [],
   "source": [
    "aadhar = 'yes'\n",
    "Voter_card = 'no'\n",
    "Phone = 'no'"
   ]
  },
  {
   "cell_type": "code",
   "execution_count": 294,
   "id": "0d1aab81-0ce1-4c77-a9e5-5cdb7ef3f1f1",
   "metadata": {},
   "outputs": [
    {
     "data": {
      "text/plain": [
       "False"
      ]
     },
     "execution_count": 294,
     "metadata": {},
     "output_type": "execute_result"
    }
   ],
   "source": [
    "aadhar == True"
   ]
  },
  {
   "cell_type": "code",
   "execution_count": 298,
   "id": "a1180ea1-835d-4d78-a68a-536a17637ec3",
   "metadata": {},
   "outputs": [
    {
     "data": {
      "text/plain": [
       "False"
      ]
     },
     "execution_count": 298,
     "metadata": {},
     "output_type": "execute_result"
    }
   ],
   "source": [
    "(aadhar == 'yes') and (Voter_card == 'yes') and (Phone == 'yes')\n",
    "        #First             #2nd                  #Third\n",
    "     # True                  False                   False\n"
   ]
  },
  {
   "cell_type": "code",
   "execution_count": null,
   "id": "84a36d43-7252-44d2-a32e-f4f49073da72",
   "metadata": {},
   "outputs": [],
   "source": []
  },
  {
   "cell_type": "code",
   "execution_count": 304,
   "id": "2056b027-9a9b-4a53-8cf4-0d4f4abc0837",
   "metadata": {},
   "outputs": [],
   "source": [
    "# if any condition os True:- final result is True"
   ]
  },
  {
   "cell_type": "code",
   "execution_count": 312,
   "id": "e38a567a-09e6-4f33-a1c8-bfbb351b4d57",
   "metadata": {},
   "outputs": [
    {
     "data": {
      "text/plain": [
       "True"
      ]
     },
     "execution_count": 312,
     "metadata": {},
     "output_type": "execute_result"
    }
   ],
   "source": [
    "(aadhar == 'yes') or (Voter_card == 'yes') or (Phone == 'yes')\n",
    "        #First             #2nd                  #Third\n",
    "     # True                  False                   False\n"
   ]
  },
  {
   "cell_type": "code",
   "execution_count": null,
   "id": "e2a785c4-c1c5-4c86-8b0a-2dd1ab750336",
   "metadata": {},
   "outputs": [],
   "source": []
  },
  {
   "cell_type": "code",
   "execution_count": null,
   "id": "1bce5474-c185-4314-a710-250a409c4996",
   "metadata": {},
   "outputs": [],
   "source": []
  },
  {
   "cell_type": "code",
   "execution_count": 316,
   "id": "559164e8-1780-4c5b-9752-cb00249e0628",
   "metadata": {},
   "outputs": [
    {
     "data": {
      "text/plain": [
       "False"
      ]
     },
     "execution_count": 316,
     "metadata": {},
     "output_type": "execute_result"
    }
   ],
   "source": [
    "(aadhar == 'no') or (Voter_card == 'yes') or (Phone == 'yes')\n",
    "        #First             #2nd                  #Third\n",
    "     # False                 False                   False\n"
   ]
  },
  {
   "cell_type": "code",
   "execution_count": 318,
   "id": "5a9bba35-ec95-4ea5-b198-2f1fe33c11dc",
   "metadata": {},
   "outputs": [],
   "source": [
    "# logical operator"
   ]
  },
  {
   "cell_type": "code",
   "execution_count": null,
   "id": "7ca296fc-a7d2-4abf-8117-20c80ae82aa6",
   "metadata": {},
   "outputs": [],
   "source": []
  },
  {
   "cell_type": "code",
   "execution_count": null,
   "id": "2008ece0-cd0c-49d8-9b4f-ce9be5893caa",
   "metadata": {},
   "outputs": [],
   "source": []
  },
  {
   "cell_type": "code",
   "execution_count": 322,
   "id": "3785d269-80b3-4045-8391-24c2e1d7bc22",
   "metadata": {},
   "outputs": [],
   "source": [
    "# not result koi reverse kar dega"
   ]
  },
  {
   "cell_type": "code",
   "execution_count": 326,
   "id": "aaa03251-028b-467f-ae96-841947361c5d",
   "metadata": {},
   "outputs": [
    {
     "data": {
      "text/plain": [
       "True"
      ]
     },
     "execution_count": 326,
     "metadata": {},
     "output_type": "execute_result"
    }
   ],
   "source": [
    "not((aadhar == 'no') or (Voter_card == 'yes') or (Phone == 'yes'))\n",
    "        #First             #2nd                  #Third\n",
    "     # False                 False                   False\n"
   ]
  },
  {
   "cell_type": "code",
   "execution_count": 328,
   "id": "27c9f9d8-a7c2-4d5e-8c3a-a380b7a4b124",
   "metadata": {},
   "outputs": [
    {
     "data": {
      "text/plain": [
       "False"
      ]
     },
     "execution_count": 328,
     "metadata": {},
     "output_type": "execute_result"
    }
   ],
   "source": [
    "not(not((aadhar == 'no') or (Voter_card == 'yes') or (Phone == 'yes')))\n",
    "        #First             #2nd                  #Third\n",
    "     # False                 False                   False\n"
   ]
  },
  {
   "cell_type": "code",
   "execution_count": 331,
   "id": "78eca2b5-5cc4-494f-8293-05d0890789e0",
   "metadata": {},
   "outputs": [
    {
     "data": {
      "text/plain": [
       "'yes'"
      ]
     },
     "execution_count": 331,
     "metadata": {},
     "output_type": "execute_result"
    }
   ],
   "source": [
    "aadhar"
   ]
  },
  {
   "cell_type": "code",
   "execution_count": 333,
   "id": "92baa583-9634-4e65-8db3-e6c0baed842a",
   "metadata": {},
   "outputs": [
    {
     "data": {
      "text/plain": [
       "'no'"
      ]
     },
     "execution_count": 333,
     "metadata": {},
     "output_type": "execute_result"
    }
   ],
   "source": [
    "Voter_card"
   ]
  },
  {
   "cell_type": "code",
   "execution_count": 341,
   "id": "dbd75b3c-8687-48cf-a659-1db07a80fc3b",
   "metadata": {},
   "outputs": [
    {
     "data": {
      "text/plain": [
       "'no'"
      ]
     },
     "execution_count": 341,
     "metadata": {},
     "output_type": "execute_result"
    }
   ],
   "source": [
    "Phone"
   ]
  },
  {
   "cell_type": "code",
   "execution_count": 345,
   "id": "1a58d20e-4cd9-4de4-a505-0bdfed51dc71",
   "metadata": {},
   "outputs": [
    {
     "data": {
      "text/plain": [
       "True"
      ]
     },
     "execution_count": 345,
     "metadata": {},
     "output_type": "execute_result"
    }
   ],
   "source": [
    "((aadhar == 'no') and (Voter_card == 'yes'))  or (Phone == 'no')"
   ]
  },
  {
   "cell_type": "code",
   "execution_count": 347,
   "id": "82bb5f03-27a1-4baf-9c0f-d8c04287d868",
   "metadata": {},
   "outputs": [],
   "source": [
    "# bitwise op:- &, |, ~, ^, <<, >>"
   ]
  },
  {
   "cell_type": "code",
   "execution_count": 349,
   "id": "0e6e66b8-664c-4976-9292-2a59b3f27ef4",
   "metadata": {},
   "outputs": [],
   "source": [
    "# bit wise operation"
   ]
  },
  {
   "cell_type": "code",
   "execution_count": 351,
   "id": "8321139c-921f-4c56-84a8-42b70d835770",
   "metadata": {},
   "outputs": [
    {
     "data": {
      "text/plain": [
       "'0b10010'"
      ]
     },
     "execution_count": 351,
     "metadata": {},
     "output_type": "execute_result"
    }
   ],
   "source": [
    "bin(18)"
   ]
  },
  {
   "cell_type": "code",
   "execution_count": 353,
   "id": "d2b6604d-47ba-4d52-bad4-c6cf16550e82",
   "metadata": {},
   "outputs": [
    {
     "data": {
      "text/plain": [
       "'0b11'"
      ]
     },
     "execution_count": 353,
     "metadata": {},
     "output_type": "execute_result"
    }
   ],
   "source": [
    "bin(3)"
   ]
  },
  {
   "cell_type": "code",
   "execution_count": 355,
   "id": "2114efb0-0bad-46dd-9dda-5d6ba918f98d",
   "metadata": {},
   "outputs": [],
   "source": [
    "# bit wise op"
   ]
  },
  {
   "cell_type": "code",
   "execution_count": 357,
   "id": "c30ab192-2b32-4d55-9c66-5fbe783cb320",
   "metadata": {},
   "outputs": [],
   "source": [
    "# and:- \n",
    "# &"
   ]
  },
  {
   "cell_type": "code",
   "execution_count": 359,
   "id": "c63c50f3-80b2-4031-aaf9-0357b74a2133",
   "metadata": {},
   "outputs": [],
   "source": [
    "# True :- 1\n",
    "# False: 0"
   ]
  },
  {
   "cell_type": "code",
   "execution_count": 361,
   "id": "e0e0daeb-d6e5-454a-8ab8-11f98239e3ea",
   "metadata": {},
   "outputs": [],
   "source": [
    "# &:- Final True:- 1,1,1,1,1 = 1\n",
    "# &:- 1,1,1,1,0,1 = 0"
   ]
  },
  {
   "cell_type": "code",
   "execution_count": null,
   "id": "a85935cb-eab4-49c5-814b-928c39fce12a",
   "metadata": {},
   "outputs": [],
   "source": []
  },
  {
   "cell_type": "markdown",
   "id": "08491c86-ca6f-414d-b32d-a9b3bb129f72",
   "metadata": {},
   "source": []
  },
  {
   "cell_type": "code",
   "execution_count": 397,
   "id": "b1e01598-bbe5-44e8-86b2-c168c97c2649",
   "metadata": {},
   "outputs": [
    {
     "data": {
      "text/plain": [
       "'0b100000010'"
      ]
     },
     "execution_count": 397,
     "metadata": {},
     "output_type": "execute_result"
    }
   ],
   "source": [
    "bin(258)"
   ]
  },
  {
   "cell_type": "code",
   "execution_count": 399,
   "id": "1bd7d220-e214-4cfd-9a68-5d89c46e1c13",
   "metadata": {},
   "outputs": [
    {
     "data": {
      "text/plain": [
       "256"
      ]
     },
     "execution_count": 399,
     "metadata": {},
     "output_type": "execute_result"
    }
   ],
   "source": [
    "int('100000000',2)"
   ]
  },
  {
   "cell_type": "code",
   "execution_count": 403,
   "id": "12123903-7939-44ba-be2f-502b04ef52e8",
   "metadata": {},
   "outputs": [
    {
     "data": {
      "text/plain": [
       "256"
      ]
     },
     "execution_count": 403,
     "metadata": {},
     "output_type": "execute_result"
    }
   ],
   "source": [
    "a = 456   #   111001000\n",
    "b = 258   #   100000010\n",
    "           #  100000000\n",
    "a & b"
   ]
  },
  {
   "cell_type": "code",
   "execution_count": null,
   "id": "d15c8a6e-4619-40be-a30c-ac9d3a5bd880",
   "metadata": {},
   "outputs": [],
   "source": []
  },
  {
   "cell_type": "code",
   "execution_count": null,
   "id": "ef1cad13-3397-4228-a7a1-68eda0a8e205",
   "metadata": {},
   "outputs": [],
   "source": []
  },
  {
   "cell_type": "code",
   "execution_count": 407,
   "id": "2b724b11-11e0-4ff2-a333-f434084ef041",
   "metadata": {},
   "outputs": [
    {
     "data": {
      "text/plain": [
       "196"
      ]
     },
     "execution_count": 407,
     "metadata": {},
     "output_type": "execute_result"
    }
   ],
   "source": [
    "a = 453\n",
    "b = 252   \n",
    "a & b"
   ]
  },
  {
   "cell_type": "code",
   "execution_count": 411,
   "id": "7317c4e9-8f4a-45d6-afd1-5e729adf3db9",
   "metadata": {},
   "outputs": [
    {
     "data": {
      "text/plain": [
       "458"
      ]
     },
     "execution_count": 411,
     "metadata": {},
     "output_type": "execute_result"
    }
   ],
   "source": [
    "# |:- or operator\n",
    "\n",
    "int('111001010',2)"
   ]
  },
  {
   "cell_type": "code",
   "execution_count": 413,
   "id": "076339a9-ae8f-41f0-a65a-f00e529a8c22",
   "metadata": {},
   "outputs": [
    {
     "data": {
      "text/plain": [
       "458"
      ]
     },
     "execution_count": 413,
     "metadata": {},
     "output_type": "execute_result"
    }
   ],
   "source": [
    "# or:- \n",
    "\n",
    "a = 456   #   111001000\n",
    "b = 258   #   100000010\n",
    "           #  111001010\n",
    "a | b"
   ]
  },
  {
   "cell_type": "code",
   "execution_count": 417,
   "id": "3dff00d5-812f-489f-ba3c-f3fd3c109e42",
   "metadata": {},
   "outputs": [],
   "source": [
    "# :- not op\n",
    "# ~ tilde"
   ]
  },
  {
   "cell_type": "code",
   "execution_count": 429,
   "id": "5cb63cd9-258e-4ede-94f4-09ee5a7cb67c",
   "metadata": {},
   "outputs": [
    {
     "data": {
      "text/plain": [
       "-66"
      ]
     },
     "execution_count": 429,
     "metadata": {},
     "output_type": "execute_result"
    }
   ],
   "source": [
    "a = 65\n",
    "\n",
    "~a"
   ]
  },
  {
   "cell_type": "code",
   "execution_count": 439,
   "id": "da2f8cca-8a68-4698-95bd-a97d6d00f267",
   "metadata": {},
   "outputs": [
    {
     "data": {
      "text/plain": [
       "45"
      ]
     },
     "execution_count": 439,
     "metadata": {},
     "output_type": "execute_result"
    }
   ],
   "source": [
    "a = 45\n",
    "~~~~a"
   ]
  },
  {
   "cell_type": "code",
   "execution_count": 445,
   "id": "1354fc31-b38e-4571-b3fa-07efd0f77a86",
   "metadata": {},
   "outputs": [
    {
     "data": {
      "text/plain": [
       "-35"
      ]
     },
     "execution_count": 445,
     "metadata": {},
     "output_type": "execute_result"
    }
   ],
   "source": [
    "a = 34\n",
    "b = 12\n",
    "\n",
    "~a "
   ]
  },
  {
   "cell_type": "code",
   "execution_count": 455,
   "id": "a75f190a-a455-41fb-81a7-6dffdb851601",
   "metadata": {},
   "outputs": [
    {
     "data": {
      "text/plain": [
       "202"
      ]
     },
     "execution_count": 455,
     "metadata": {},
     "output_type": "execute_result"
    }
   ],
   "source": [
    "# ^:- cap caret\n",
    "\n",
    "int('11001010',2)"
   ]
  },
  {
   "cell_type": "code",
   "execution_count": 457,
   "id": "fb82d332-09fa-48c8-b997-1865275a79d4",
   "metadata": {},
   "outputs": [
    {
     "data": {
      "text/plain": [
       "202"
      ]
     },
     "execution_count": 457,
     "metadata": {},
     "output_type": "execute_result"
    }
   ],
   "source": [
    "a = 456   #   111001000\n",
    "b = 258   #   100000010\n",
    "          #   011001010\n",
    "\n",
    "a ^ b"
   ]
  },
  {
   "cell_type": "code",
   "execution_count": 459,
   "id": "2407b74d-47f0-4ff0-93e2-f9b2e60bcbd9",
   "metadata": {},
   "outputs": [],
   "source": [
    "# &\n",
    "# |\n",
    "# ~\n",
    "# ^"
   ]
  },
  {
   "cell_type": "code",
   "execution_count": 475,
   "id": "9764ad5d-cc0d-49e4-8949-10f91c774585",
   "metadata": {},
   "outputs": [
    {
     "data": {
      "text/plain": [
       "64"
      ]
     },
     "execution_count": 475,
     "metadata": {},
     "output_type": "execute_result"
    }
   ],
   "source": [
    "# Left shift, <<:- multiply by 2,\n",
    "# it add bit last\n",
    "a = 4   #\n",
    "\n",
    "a << 4"
   ]
  },
  {
   "cell_type": "code",
   "execution_count": 469,
   "id": "c9f83489-c443-4ab6-a886-1c1a3f75f605",
   "metadata": {},
   "outputs": [
    {
     "data": {
      "text/plain": [
       "'0b100'"
      ]
     },
     "execution_count": 469,
     "metadata": {},
     "output_type": "execute_result"
    }
   ],
   "source": [
    "bin(4)"
   ]
  },
  {
   "cell_type": "code",
   "execution_count": 471,
   "id": "4b6d1ae0-ed49-4e4d-ada7-72c0c599dace",
   "metadata": {},
   "outputs": [
    {
     "data": {
      "text/plain": [
       "8"
      ]
     },
     "execution_count": 471,
     "metadata": {},
     "output_type": "execute_result"
    }
   ],
   "source": [
    "int('1000',2)"
   ]
  },
  {
   "cell_type": "code",
   "execution_count": 489,
   "id": "2df6d668-5284-4dde-a7f6-4a114a1cadef",
   "metadata": {},
   "outputs": [
    {
     "data": {
      "text/plain": [
       "96"
      ]
     },
     "execution_count": 489,
     "metadata": {},
     "output_type": "execute_result"
    }
   ],
   "source": [
    "a = 3\n",
    "\n",
    "a<<5"
   ]
  },
  {
   "cell_type": "code",
   "execution_count": 487,
   "id": "07a66d9a-d71b-431f-8c6a-47ac0c98b968",
   "metadata": {},
   "outputs": [
    {
     "data": {
      "text/plain": [
       "96"
      ]
     },
     "execution_count": 487,
     "metadata": {},
     "output_type": "execute_result"
    }
   ],
   "source": [
    "3*2*2*2*2*2"
   ]
  },
  {
   "cell_type": "code",
   "execution_count": 503,
   "id": "68308201-31d8-40b3-9156-9b93386b88a9",
   "metadata": {},
   "outputs": [
    {
     "name": "stdout",
     "output_type": "stream",
     "text": [
      "3 6\n",
      "3 12\n",
      "3 24\n",
      "3 48\n"
     ]
    }
   ],
   "source": [
    "a = 3\n",
    "\n",
    "print(a,a << 1)\n",
    "print(a,a << 2)\n",
    "print(a,a << 3)\n",
    "print(a,a << 4)\n"
   ]
  },
  {
   "cell_type": "code",
   "execution_count": 495,
   "id": "d31a2746-862a-4e97-8d33-ed88c31371f3",
   "metadata": {},
   "outputs": [],
   "source": [
    "# a * 2**5"
   ]
  },
  {
   "cell_type": "code",
   "execution_count": 509,
   "id": "879deba3-180f-4c68-80c9-c4025868a9e0",
   "metadata": {},
   "outputs": [],
   "source": [
    "# right Shift >>  reduce last bit, divide by 2"
   ]
  },
  {
   "cell_type": "code",
   "execution_count": 511,
   "id": "aff6fe3d-8932-4d5e-80c3-8c195ab3d2a3",
   "metadata": {},
   "outputs": [],
   "source": [
    "a = 44"
   ]
  },
  {
   "cell_type": "code",
   "execution_count": 538,
   "id": "dcefa214-4850-4cba-ac7c-c0b0aa27a209",
   "metadata": {},
   "outputs": [
    {
     "data": {
      "text/plain": [
       "0"
      ]
     },
     "execution_count": 538,
     "metadata": {},
     "output_type": "execute_result"
    }
   ],
   "source": [
    "a >> 6"
   ]
  },
  {
   "cell_type": "markdown",
   "id": "e557efa3-ad85-433c-b277-f3a27787f79c",
   "metadata": {},
   "source": [
    "<!-- #####  -->"
   ]
  },
  {
   "cell_type": "code",
   "execution_count": 532,
   "id": "e525eba0-a314-4075-9dce-3845a55dec74",
   "metadata": {},
   "outputs": [
    {
     "data": {
      "text/plain": [
       "5.5"
      ]
     },
     "execution_count": 532,
     "metadata": {},
     "output_type": "execute_result"
    }
   ],
   "source": [
    "11/2"
   ]
  },
  {
   "cell_type": "code",
   "execution_count": null,
   "id": "31d0c502-eb79-4284-b9dd-dcb3316d8ebf",
   "metadata": {},
   "outputs": [],
   "source": []
  }
 ],
 "metadata": {
  "kernelspec": {
   "display_name": "Python [conda env:base] *",
   "language": "python",
   "name": "conda-base-py"
  },
  "language_info": {
   "codemirror_mode": {
    "name": "ipython",
    "version": 3
   },
   "file_extension": ".py",
   "mimetype": "text/x-python",
   "name": "python",
   "nbconvert_exporter": "python",
   "pygments_lexer": "ipython3",
   "version": "3.12.7"
  }
 },
 "nbformat": 4,
 "nbformat_minor": 5
}
