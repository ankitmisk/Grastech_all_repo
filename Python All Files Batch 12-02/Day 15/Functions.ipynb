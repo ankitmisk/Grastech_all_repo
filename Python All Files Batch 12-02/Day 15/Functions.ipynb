{
 "cells": [
  {
   "cell_type": "code",
   "execution_count": 39,
   "id": "b177a8cc-98ff-49e9-93b4-e5616c44613b",
   "metadata": {},
   "outputs": [
    {
     "name": "stdout",
     "output_type": "stream",
     "text": [
      "Hello Buddy, How are you??\n"
     ]
    }
   ],
   "source": [
    "say_hello()"
   ]
  },
  {
   "cell_type": "code",
   "execution_count": 1,
   "id": "1f530684-3d60-4581-a8c9-40048c00abc1",
   "metadata": {},
   "outputs": [],
   "source": [
    "# when there is a requirement of executing of same code again and again, we will create a function\n",
    "\n",
    "# Functions:- Inbuilt, User Defined Function"
   ]
  },
  {
   "cell_type": "code",
   "execution_count": 50,
   "id": "ab9437d3-767f-47ef-bb31-4ae506723796",
   "metadata": {},
   "outputs": [],
   "source": [
    "play_song()"
   ]
  },
  {
   "cell_type": "code",
   "execution_count": 3,
   "id": "e4458b70-ec32-430b-bf63-50de1cafb8ff",
   "metadata": {},
   "outputs": [],
   "source": [
    "# min\n",
    "# max\n",
    "# range\n",
    "# print\n",
    "# id\n",
    "# len\n",
    "# etc.."
   ]
  },
  {
   "cell_type": "code",
   "execution_count": 7,
   "id": "0c056693-f7f0-4ab9-8875-eea9de4c006b",
   "metadata": {},
   "outputs": [],
   "source": [
    "# Inbuilt:- created by developer, \n",
    "# user defined funcL:- created by user:- "
   ]
  },
  {
   "cell_type": "code",
   "execution_count": 9,
   "id": "a5363e12-fde0-4dd5-b9ee-353d133460da",
   "metadata": {},
   "outputs": [],
   "source": [
    "\n",
    "# Exe/.apk: software\n",
    "#     Packages\n",
    "#         Libraries/Modules\n",
    "#             class (OOPS)\n",
    "#                 Functions\n",
    "#                     Basic Programming:\n",
    "#                         Data Types\n",
    "#                         If else\n",
    "#                         Loops\n",
    "#                             Byte Codes:\n",
    "#                                 Binary Language(0/1)\n"
   ]
  },
  {
   "cell_type": "code",
   "execution_count": 11,
   "id": "6bbd47a9-fbc5-4893-a8f9-eda5652f7417",
   "metadata": {},
   "outputs": [
    {
     "name": "stdout",
     "output_type": "stream",
     "text": [
      "\n",
      "Here is a list of the Python keywords.  Enter any keyword to get more help.\n",
      "\n",
      "False               class               from                or\n",
      "None                continue            global              pass\n",
      "True                def                 if                  raise\n",
      "and                 del                 import              return\n",
      "as                  elif                in                  try\n",
      "assert              else                is                  while\n",
      "async               except              lambda              with\n",
      "await               finally             nonlocal            yield\n",
      "break               for                 not                 \n",
      "\n"
     ]
    }
   ],
   "source": [
    "help('keywords')"
   ]
  },
  {
   "cell_type": "code",
   "execution_count": 13,
   "id": "33a3a1b4-2105-4350-85a8-471fa1e5aa3a",
   "metadata": {},
   "outputs": [],
   "source": [
    "# def"
   ]
  },
  {
   "cell_type": "code",
   "execution_count": 17,
   "id": "70b61b84-c64a-49ba-a198-f15d62e1f05e",
   "metadata": {},
   "outputs": [
    {
     "name": "stdout",
     "output_type": "stream",
     "text": [
      "Hello Jatin How are you??\n"
     ]
    }
   ],
   "source": [
    "name = 'Jatin'\n",
    "\n",
    "print('Hello',name,'How are you??')"
   ]
  },
  {
   "cell_type": "code",
   "execution_count": null,
   "id": "9f045f5d-1d1b-4e3e-912e-a4993a112408",
   "metadata": {},
   "outputs": [],
   "source": []
  },
  {
   "cell_type": "code",
   "execution_count": 20,
   "id": "746f1307-e7f5-45a5-8939-5d75596c70f3",
   "metadata": {},
   "outputs": [],
   "source": [
    "# # UDF:-\n",
    "# with Parameter :- with input/arguments\n",
    "# without Parameter:- without input / no arguments"
   ]
  },
  {
   "cell_type": "code",
   "execution_count": 26,
   "id": "bba2960b-40f5-463d-9f70-407b89a2b3de",
   "metadata": {},
   "outputs": [],
   "source": [
    "#  without Parameter\n",
    "def say_hello():\n",
    "    # basic Programming\n",
    "    ..."
   ]
  },
  {
   "cell_type": "code",
   "execution_count": 28,
   "id": "58e2d1d2-9536-4c2a-8a26-b6530244bf98",
   "metadata": {},
   "outputs": [],
   "source": [
    "def say_hello():\n",
    "    print('Hello Buddy, How are you??')"
   ]
  },
  {
   "cell_type": "code",
   "execution_count": null,
   "id": "869fa2b5-82b5-45e8-a6c4-7e6517ad14e9",
   "metadata": {},
   "outputs": [],
   "source": []
  },
  {
   "cell_type": "code",
   "execution_count": 31,
   "id": "33f831c2-c965-4fb8-abe1-deed416fa33d",
   "metadata": {},
   "outputs": [
    {
     "data": {
      "text/plain": [
       "<function __main__.say_hello()>"
      ]
     },
     "execution_count": 31,
     "metadata": {},
     "output_type": "execute_result"
    }
   ],
   "source": [
    "say_hello"
   ]
  },
  {
   "cell_type": "code",
   "execution_count": 33,
   "id": "37c82860-ea9a-433a-a5ca-0f3e2c7a63ef",
   "metadata": {},
   "outputs": [],
   "source": [
    "# __main__ :- present file"
   ]
  },
  {
   "cell_type": "code",
   "execution_count": 35,
   "id": "768f939a-110c-460e-a0d7-5a380cfcdb18",
   "metadata": {},
   "outputs": [
    {
     "data": {
      "text/plain": [
       "function"
      ]
     },
     "execution_count": 35,
     "metadata": {},
     "output_type": "execute_result"
    }
   ],
   "source": [
    "type(say_hello)"
   ]
  },
  {
   "cell_type": "code",
   "execution_count": 37,
   "id": "2958b718-5dff-4933-9773-a5976300568b",
   "metadata": {},
   "outputs": [
    {
     "name": "stdout",
     "output_type": "stream",
     "text": [
      "Hello Buddy, How are you??\n"
     ]
    }
   ],
   "source": [
    "say_hello()"
   ]
  },
  {
   "cell_type": "code",
   "execution_count": null,
   "id": "4d8af67f-16da-4a63-b4a9-97e8a72d963d",
   "metadata": {},
   "outputs": [],
   "source": []
  },
  {
   "cell_type": "code",
   "execution_count": 42,
   "id": "ecb8a4b6-2a53-46dc-9339-dc0bae250caf",
   "metadata": {},
   "outputs": [],
   "source": [
    "def play_song():\n",
    "    import pygame\n",
    "    pygame.init()\n",
    "\n",
    "    music = pygame.mixer.Sound(r\"C:\\Users\\salma\\Downloads\\bella_ciao_bhojpuri.mp3\")\n",
    "    music.play()"
   ]
  },
  {
   "cell_type": "code",
   "execution_count": null,
   "id": "23dd60fa-84fb-4fa2-a929-bc4f90328755",
   "metadata": {},
   "outputs": [],
   "source": []
  },
  {
   "cell_type": "code",
   "execution_count": null,
   "id": "91765a93-ad78-40cb-b8f9-90d1330e8310",
   "metadata": {},
   "outputs": [],
   "source": []
  },
  {
   "cell_type": "code",
   "execution_count": null,
   "id": "d37b9bc8-5d7b-4195-9d40-cde93b4d9589",
   "metadata": {},
   "outputs": [],
   "source": []
  },
  {
   "cell_type": "code",
   "execution_count": null,
   "id": "5c360ee9-639e-4ecb-aade-23b6923ea392",
   "metadata": {},
   "outputs": [],
   "source": []
  },
  {
   "cell_type": "code",
   "execution_count": 48,
   "id": "ecf68d5b-86b3-461c-aef1-d8671ac3faba",
   "metadata": {},
   "outputs": [],
   "source": [
    "play_song()"
   ]
  },
  {
   "cell_type": "code",
   "execution_count": null,
   "id": "13839a04-ef08-4a0a-ab47-7973c9230775",
   "metadata": {},
   "outputs": [],
   "source": []
  },
  {
   "cell_type": "code",
   "execution_count": 53,
   "id": "b3ab00e1-631b-45f4-925e-65bab7cfece2",
   "metadata": {},
   "outputs": [
    {
     "name": "stdout",
     "output_type": "stream",
     "text": [
      "Requirement already satisfied: gTTS in c:\\users\\salma\\anaconda3\\lib\\site-packages (2.5.4)\n",
      "Requirement already satisfied: requests<3,>=2.27 in c:\\users\\salma\\anaconda3\\lib\\site-packages (from gTTS) (2.32.3)\n",
      "Requirement already satisfied: click<8.2,>=7.1 in c:\\users\\salma\\anaconda3\\lib\\site-packages (from gTTS) (8.1.7)\n",
      "Requirement already satisfied: colorama in c:\\users\\salma\\anaconda3\\lib\\site-packages (from click<8.2,>=7.1->gTTS) (0.4.6)\n",
      "Requirement already satisfied: charset-normalizer<4,>=2 in c:\\users\\salma\\anaconda3\\lib\\site-packages (from requests<3,>=2.27->gTTS) (3.3.2)\n",
      "Requirement already satisfied: idna<4,>=2.5 in c:\\users\\salma\\anaconda3\\lib\\site-packages (from requests<3,>=2.27->gTTS) (3.7)\n",
      "Requirement already satisfied: urllib3<3,>=1.21.1 in c:\\users\\salma\\anaconda3\\lib\\site-packages (from requests<3,>=2.27->gTTS) (2.2.3)\n",
      "Requirement already satisfied: certifi>=2017.4.17 in c:\\users\\salma\\anaconda3\\lib\\site-packages (from requests<3,>=2.27->gTTS) (2024.8.30)\n",
      "Note: you may need to restart the kernel to use updated packages.\n"
     ]
    }
   ],
   "source": [
    "pip install gTTS"
   ]
  },
  {
   "cell_type": "code",
   "execution_count": 59,
   "id": "0b64b193-7141-438f-8314-b96376637e61",
   "metadata": {},
   "outputs": [
    {
     "data": {
      "text/plain": [
       "(5, 0)"
      ]
     },
     "execution_count": 59,
     "metadata": {},
     "output_type": "execute_result"
    }
   ],
   "source": [
    "import pygame\n",
    "pygame.init()"
   ]
  },
  {
   "cell_type": "code",
   "execution_count": 63,
   "id": "fde29a45-099c-4045-b991-5a20f889f489",
   "metadata": {},
   "outputs": [
    {
     "data": {
      "text/plain": [
       "<pygame.mixer.Channel at 0x15c62835610>"
      ]
     },
     "execution_count": 63,
     "metadata": {},
     "output_type": "execute_result"
    }
   ],
   "source": [
    "from gtts import gTTS\n",
    "tts = gTTS('Paytm par 50 Rs Prapt hue')\n",
    "tts.save('paytm.mp3')\n",
    "\n",
    "\n",
    "music = pygame.mixer.Sound(r\"paytm.mp3\")\n",
    "music.play()"
   ]
  },
  {
   "cell_type": "code",
   "execution_count": null,
   "id": "b048af8a-0567-4ad0-9933-0b7f487c6763",
   "metadata": {},
   "outputs": [],
   "source": []
  },
  {
   "cell_type": "code",
   "execution_count": 77,
   "id": "1720de7c-6a08-4f7a-9d28-ff40ee04faa2",
   "metadata": {},
   "outputs": [],
   "source": [
    "def payment_confirm(amount):\n",
    "    '''ye mera Function hai\n",
    "    to check payment for Paytm only'''\n",
    "    tts = gTTS(f'Paytm par {amount} Rs Prapt hue')\n",
    "    tts.save('paytm.mp3')\n",
    "    music = pygame.mixer.Sound(r\"paytm.mp3\")\n",
    "    music.play()"
   ]
  },
  {
   "cell_type": "code",
   "execution_count": null,
   "id": "cbe06518-4ea9-418f-93f0-9e9446d5165d",
   "metadata": {},
   "outputs": [],
   "source": []
  },
  {
   "cell_type": "code",
   "execution_count": 73,
   "id": "04f51512-f48b-4e2c-87d4-820d5cfafc01",
   "metadata": {},
   "outputs": [],
   "source": [
    "payment_confirm(200)"
   ]
  },
  {
   "cell_type": "code",
   "execution_count": 75,
   "id": "6c42b8d6-1e4c-42a7-b3a6-b9f7c9d95413",
   "metadata": {},
   "outputs": [],
   "source": [
    "min()"
   ]
  },
  {
   "cell_type": "code",
   "execution_count": 79,
   "id": "5c6652cd-9a82-4705-81f2-a7eb74a55ed5",
   "metadata": {},
   "outputs": [],
   "source": [
    "# payment_confirm()"
   ]
  },
  {
   "cell_type": "code",
   "execution_count": 81,
   "id": "d6035568-4952-458a-b3c0-3d1d20947530",
   "metadata": {},
   "outputs": [],
   "source": [
    "# with paramenter :- multiple"
   ]
  },
  {
   "cell_type": "code",
   "execution_count": 83,
   "id": "fad781a5-8afa-4df1-8a02-087c26fa4e66",
   "metadata": {},
   "outputs": [],
   "source": [
    "def payment_confirm(amount,vendor): # parameters\n",
    "    '''ye mera Function hai\n",
    "    to check payment for Paytm only'''\n",
    "    tts = gTTS(f'{vendor} par {amount} Rs prapt hue')\n",
    "    tts.save('paytm.mp3')\n",
    "    music = pygame.mixer.Sound(r\"paytm.mp3\")\n",
    "    music.play()"
   ]
  },
  {
   "cell_type": "code",
   "execution_count": 87,
   "id": "28ecba76-35a0-4dad-b943-6a77278b459e",
   "metadata": {},
   "outputs": [],
   "source": [
    "payment_confirm(12,'bharatpe')"
   ]
  },
  {
   "cell_type": "code",
   "execution_count": null,
   "id": "aa8eca5a-a234-48e7-be57-e4bf37dd178d",
   "metadata": {},
   "outputs": [],
   "source": []
  },
  {
   "cell_type": "code",
   "execution_count": 92,
   "id": "4ce98ee5-6c23-43c8-8412-8a88d41a779d",
   "metadata": {},
   "outputs": [],
   "source": [
    "# payment_confirm([23,4,45],'jhv')"
   ]
  },
  {
   "cell_type": "code",
   "execution_count": 97,
   "id": "23342617-3e49-4471-b36b-4c1f5c40610e",
   "metadata": {},
   "outputs": [],
   "source": [
    "# min\n",
    "# max\n",
    "# count\n",
    "# Factorial\n",
    "# prime_number\n",
    "# palindrome\n",
    "# fibonacci series\n",
    "# armstrong\n",
    "# anagram"
   ]
  },
  {
   "cell_type": "code",
   "execution_count": null,
   "id": "79b2f713-80b4-4022-841c-ed9b844fa89f",
   "metadata": {},
   "outputs": [],
   "source": []
  },
  {
   "cell_type": "code",
   "execution_count": 117,
   "id": "35ee244c-921d-4487-8a62-04d676e02bc7",
   "metadata": {},
   "outputs": [],
   "source": [
    "data = [2,5,45,34,4]"
   ]
  },
  {
   "cell_type": "code",
   "execution_count": 119,
   "id": "14bdd8cc-56c1-4ec3-881c-564c412405d2",
   "metadata": {},
   "outputs": [
    {
     "data": {
      "text/plain": [
       "2"
      ]
     },
     "execution_count": 119,
     "metadata": {},
     "output_type": "execute_result"
    }
   ],
   "source": [
    "min(data)"
   ]
  },
  {
   "cell_type": "code",
   "execution_count": 121,
   "id": "1cc5f091-621e-4a12-93e3-130cf150f421",
   "metadata": {},
   "outputs": [
    {
     "name": "stdout",
     "output_type": "stream",
     "text": [
      "2\n"
     ]
    }
   ],
   "source": [
    "num = data[0]\n",
    "for i in data:\n",
    "    if i < num:\n",
    "        num = i\n",
    "print(num)"
   ]
  },
  {
   "cell_type": "code",
   "execution_count": 135,
   "id": "444cc168-948a-4713-add4-a07975187f4a",
   "metadata": {},
   "outputs": [],
   "source": [
    "def give_min(data:list):\n",
    "    num = data[0]\n",
    "    for i in data:\n",
    "        if i < num:\n",
    "            num = i\n",
    "    print(num)"
   ]
  },
  {
   "cell_type": "code",
   "execution_count": 143,
   "id": "0a5da906-f7e3-4d52-952c-38cf089999b5",
   "metadata": {},
   "outputs": [],
   "source": [
    "data = [235,4,53,54,76,643,5,365,578,7]"
   ]
  },
  {
   "cell_type": "code",
   "execution_count": 145,
   "id": "90d1ed1c-5cf2-4998-8ca0-ec92a83c0275",
   "metadata": {},
   "outputs": [
    {
     "data": {
      "text/plain": [
       "4"
      ]
     },
     "execution_count": 145,
     "metadata": {},
     "output_type": "execute_result"
    }
   ],
   "source": [
    "min(data)"
   ]
  },
  {
   "cell_type": "code",
   "execution_count": 147,
   "id": "bf4d3bd4-1b0d-407c-81c4-da066d3d4d05",
   "metadata": {},
   "outputs": [
    {
     "name": "stdout",
     "output_type": "stream",
     "text": [
      "4\n"
     ]
    }
   ],
   "source": [
    "give_min(data)"
   ]
  },
  {
   "cell_type": "code",
   "execution_count": 153,
   "id": "1f6d07de-25f7-4630-bdbb-b3ab407e18ed",
   "metadata": {},
   "outputs": [],
   "source": [
    "def give_max(data:list):\n",
    "    num = data[0]\n",
    "    for i in data:\n",
    "        if i > num:\n",
    "            num = i\n",
    "    print(num)"
   ]
  },
  {
   "cell_type": "code",
   "execution_count": 155,
   "id": "2321a211-45e9-482d-badc-31d309a301d7",
   "metadata": {},
   "outputs": [
    {
     "data": {
      "text/plain": [
       "[235, 4, 53, 54, 76, 643, 5, 365, 578, 7]"
      ]
     },
     "execution_count": 155,
     "metadata": {},
     "output_type": "execute_result"
    }
   ],
   "source": [
    "data"
   ]
  },
  {
   "cell_type": "code",
   "execution_count": 157,
   "id": "b0489684-ac27-49a5-96cb-6217001bad64",
   "metadata": {},
   "outputs": [
    {
     "data": {
      "text/plain": [
       "643"
      ]
     },
     "execution_count": 157,
     "metadata": {},
     "output_type": "execute_result"
    }
   ],
   "source": [
    "max(data)"
   ]
  },
  {
   "cell_type": "code",
   "execution_count": 159,
   "id": "efd310f3-5d7a-4366-a6de-9f6d27738393",
   "metadata": {},
   "outputs": [
    {
     "name": "stdout",
     "output_type": "stream",
     "text": [
      "643\n"
     ]
    }
   ],
   "source": [
    "give_max(data)"
   ]
  },
  {
   "cell_type": "code",
   "execution_count": 161,
   "id": "7689e6ed-878f-4d56-ba93-da8176d216ff",
   "metadata": {},
   "outputs": [],
   "source": [
    "# give_max()"
   ]
  },
  {
   "cell_type": "code",
   "execution_count": 163,
   "id": "edaa66a7-1aa9-4ad0-be66-2de5c3319d78",
   "metadata": {},
   "outputs": [],
   "source": [
    "# Factorial:- "
   ]
  },
  {
   "cell_type": "code",
   "execution_count": 165,
   "id": "d75d3968-19ae-4667-82ce-70216ea2b2a2",
   "metadata": {},
   "outputs": [],
   "source": [
    "# 'ant'\n",
    "# 'nat'\n",
    "# 'tan'\n",
    "# 'tna'\n",
    "# 'nta'\n",
    "# 'atn'\n"
   ]
  },
  {
   "cell_type": "code",
   "execution_count": 167,
   "id": "c4eca9a9-5fde-4360-9647-92ac3b80ac09",
   "metadata": {},
   "outputs": [
    {
     "data": {
      "text/plain": [
       "6"
      ]
     },
     "execution_count": 167,
     "metadata": {},
     "output_type": "execute_result"
    }
   ],
   "source": [
    "3 * 2 * 1"
   ]
  },
  {
   "cell_type": "code",
   "execution_count": 169,
   "id": "bbd097ad-b90a-4838-90e5-358e4fab7c8b",
   "metadata": {},
   "outputs": [
    {
     "data": {
      "text/plain": [
       "120"
      ]
     },
     "execution_count": 169,
     "metadata": {},
     "output_type": "execute_result"
    }
   ],
   "source": [
    "5 * 4 * 3 * 2 * 1"
   ]
  },
  {
   "cell_type": "code",
   "execution_count": 171,
   "id": "50e09279-1ffe-4d91-8a62-fc25d7019d70",
   "metadata": {},
   "outputs": [
    {
     "data": {
      "text/plain": [
       "120"
      ]
     },
     "execution_count": 171,
     "metadata": {},
     "output_type": "execute_result"
    }
   ],
   "source": [
    "1* 2* 3*4*5"
   ]
  },
  {
   "cell_type": "code",
   "execution_count": 175,
   "id": "10af6ddb-f8f8-4b4a-aa4b-1f30832494c0",
   "metadata": {},
   "outputs": [
    {
     "name": "stdout",
     "output_type": "stream",
     "text": [
      "1\n",
      "2\n",
      "3\n",
      "4\n",
      "5\n"
     ]
    }
   ],
   "source": [
    "for i in range(1,6):\n",
    "    print(i)"
   ]
  },
  {
   "cell_type": "code",
   "execution_count": 177,
   "id": "abd007e0-0667-4396-85b9-e428cb19aca3",
   "metadata": {},
   "outputs": [],
   "source": [
    "def factorial(number:int):\n",
    "    '''Return a Factorial of a Given Number'''\n",
    "    result = 1\n",
    "    for i in range(1,number+1):\n",
    "        result *= i\n",
    "    print(result)"
   ]
  },
  {
   "cell_type": "code",
   "execution_count": 187,
   "id": "4ebdf466-627d-4936-8b64-2ddc6fcbf56a",
   "metadata": {},
   "outputs": [
    {
     "name": "stdout",
     "output_type": "stream",
     "text": [
      "6\n"
     ]
    }
   ],
   "source": [
    "factorial(3)"
   ]
  },
  {
   "cell_type": "code",
   "execution_count": 189,
   "id": "856c418b-e961-46aa-a1aa-e1035de015a1",
   "metadata": {},
   "outputs": [],
   "source": [
    "sales = [3,45,5,346,56,4,6756,77,67,45,7]"
   ]
  },
  {
   "cell_type": "code",
   "execution_count": 191,
   "id": "b6151761-c6f8-4d3c-9cd5-1afe93e695f2",
   "metadata": {},
   "outputs": [],
   "source": [
    "total_sales = sum(sales)"
   ]
  },
  {
   "cell_type": "code",
   "execution_count": 193,
   "id": "dd08ebb4-ddf8-490e-a7e8-c9c04974990a",
   "metadata": {},
   "outputs": [
    {
     "data": {
      "text/plain": [
       "7411"
      ]
     },
     "execution_count": 193,
     "metadata": {},
     "output_type": "execute_result"
    }
   ],
   "source": [
    "total_sales"
   ]
  },
  {
   "cell_type": "code",
   "execution_count": 195,
   "id": "ee01b723-5cfe-483e-b545-3b6ff6a87ff3",
   "metadata": {},
   "outputs": [],
   "source": [
    "def give_sum(data:list):\n",
    "    result = 0\n",
    "    for i in data:\n",
    "        result += i\n",
    "    print(result)"
   ]
  },
  {
   "cell_type": "code",
   "execution_count": 197,
   "id": "a2843535-6c30-4bf5-b56c-9878ad56b72e",
   "metadata": {},
   "outputs": [
    {
     "data": {
      "text/plain": [
       "[235, 4, 53, 54, 76, 643, 5, 365, 578, 7]"
      ]
     },
     "execution_count": 197,
     "metadata": {},
     "output_type": "execute_result"
    }
   ],
   "source": [
    "data"
   ]
  },
  {
   "cell_type": "code",
   "execution_count": 199,
   "id": "1e9dbac8-b2c4-434b-b95c-e70d76a601d5",
   "metadata": {},
   "outputs": [
    {
     "name": "stdout",
     "output_type": "stream",
     "text": [
      "2020\n"
     ]
    }
   ],
   "source": [
    "give_sum(data)"
   ]
  },
  {
   "cell_type": "code",
   "execution_count": 201,
   "id": "a384a991-6c0b-4e7d-ba10-afa4765cf699",
   "metadata": {},
   "outputs": [
    {
     "data": {
      "text/plain": [
       "2020"
      ]
     },
     "execution_count": 201,
     "metadata": {},
     "output_type": "execute_result"
    }
   ],
   "source": [
    "sum(data)"
   ]
  },
  {
   "cell_type": "code",
   "execution_count": 203,
   "id": "2696c8c6-86f1-40f1-9d8b-d7fb3927eb16",
   "metadata": {},
   "outputs": [],
   "source": [
    "# prime_number"
   ]
  },
  {
   "cell_type": "code",
   "execution_count": 207,
   "id": "4969ee2d-2f10-422a-8c34-d7b65c25ca2b",
   "metadata": {},
   "outputs": [],
   "source": [
    "# Div by 1 and itself:- atleast ,pf\n",
    "# Prime Even Number :- 2, 1, 2"
   ]
  },
  {
   "cell_type": "code",
   "execution_count": 209,
   "id": "718b4f39-8703-480e-a1d7-95ad5a765d33",
   "metadata": {},
   "outputs": [],
   "source": [
    "# 1 is not a prime number\n",
    "\n",
    "15:\n"
   ]
  },
  {
   "cell_type": "code",
   "execution_count": 257,
   "id": "f13fec28-0ff1-4d0b-869e-1233141c6962",
   "metadata": {},
   "outputs": [],
   "source": [
    "def check_prime_number(number:int):\n",
    "    if type(number) == int:\n",
    "        if number == 1:\n",
    "            print('Not a prime or composite number!!')\n",
    "            \n",
    "        elif number <1:\n",
    "            print('Number can not be less than 1, Check again!!')\n",
    "            \n",
    "        else:\n",
    "            for i in range(2,number):\n",
    "                if number % i == 0:\n",
    "                    print('Not a Prime Number')\n",
    "                    break      \n",
    "            else:       \n",
    "                print('Prime Number')\n",
    "    else:\n",
    "        print('Incorrect Data Type, Check Again!!')\n",
    "\n",
    "            "
   ]
  },
  {
   "cell_type": "code",
   "execution_count": 265,
   "id": "e8fd47cc-7147-4793-b104-e2b5049b3429",
   "metadata": {},
   "outputs": [
    {
     "name": "stdout",
     "output_type": "stream",
     "text": [
      "Not a Prime Number\n"
     ]
    }
   ],
   "source": [
    "check_prime_number(345)"
   ]
  },
  {
   "cell_type": "code",
   "execution_count": null,
   "id": "2cdfaa53-28fd-46c8-808c-d5763fa18d18",
   "metadata": {},
   "outputs": [],
   "source": []
  }
 ],
 "metadata": {
  "kernelspec": {
   "display_name": "Python [conda env:base] *",
   "language": "python",
   "name": "conda-base-py"
  },
  "language_info": {
   "codemirror_mode": {
    "name": "ipython",
    "version": 3
   },
   "file_extension": ".py",
   "mimetype": "text/x-python",
   "name": "python",
   "nbconvert_exporter": "python",
   "pygments_lexer": "ipython3",
   "version": "3.12.7"
  }
 },
 "nbformat": 4,
 "nbformat_minor": 5
}
